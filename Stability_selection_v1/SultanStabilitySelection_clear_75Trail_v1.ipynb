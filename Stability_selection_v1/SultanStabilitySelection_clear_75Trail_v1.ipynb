{
 "cells": [
  {
   "cell_type": "code",
   "execution_count": 1,
   "metadata": {},
   "outputs": [],
   "source": [
    "# Import library\n",
    "import pandas as pd\n",
    "import numpy as np\n",
    "from sklearn.model_selection import train_test_split,ShuffleSplit\n",
    "from sklearn import svm\n",
    "import sys\n",
    "# sys.path.append('/home/ralfahad/PythonUtility/PTE')\n",
    "# from PhaseTE_MF import PhaseTE_MF\n",
    "from scipy import stats\n",
    "import seaborn as sns\n",
    "from matplotlib import pyplot as plt\n",
    "from collections import Counter\n",
    "import warnings\n",
    "from sklearn import svm, metrics,preprocessing\n",
    "#from sklearn import datasets\n",
    "from sklearn.model_selection import train_test_split, GridSearchCV\n",
    "from sklearn.metrics import accuracy_score,confusion_matrix,roc_curve, auc\n",
    "from matplotlib import pyplot as plt\n",
    "from collections import Counter\n",
    "from scipy.stats import norm\n",
    "import seaborn as sns; sns.set(font_scale=1.2)\n",
    "%matplotlib inline\n",
    "warnings.filterwarnings('ignore')"
   ]
  },
  {
   "cell_type": "code",
   "execution_count": 2,
   "metadata": {},
   "outputs": [
    {
     "data": {
      "text/html": [
       "<div>\n",
       "<style scoped>\n",
       "    .dataframe tbody tr th:only-of-type {\n",
       "        vertical-align: middle;\n",
       "    }\n",
       "\n",
       "    .dataframe tbody tr th {\n",
       "        vertical-align: top;\n",
       "    }\n",
       "\n",
       "    .dataframe thead th {\n",
       "        text-align: right;\n",
       "    }\n",
       "</style>\n",
       "<table border=\"1\" class=\"dataframe\">\n",
       "  <thead>\n",
       "    <tr style=\"text-align: right;\">\n",
       "      <th></th>\n",
       "      <th>Unnamed: 0</th>\n",
       "      <th>label</th>\n",
       "      <th>0</th>\n",
       "      <th>1</th>\n",
       "      <th>2</th>\n",
       "      <th>3</th>\n",
       "      <th>4</th>\n",
       "      <th>5</th>\n",
       "      <th>6</th>\n",
       "      <th>7</th>\n",
       "      <th>...</th>\n",
       "      <th>1418</th>\n",
       "      <th>1419</th>\n",
       "      <th>1420</th>\n",
       "      <th>1421</th>\n",
       "      <th>1422</th>\n",
       "      <th>1423</th>\n",
       "      <th>1424</th>\n",
       "      <th>1425</th>\n",
       "      <th>1426</th>\n",
       "      <th>1427</th>\n",
       "    </tr>\n",
       "  </thead>\n",
       "  <tbody>\n",
       "    <tr>\n",
       "      <th>0</th>\n",
       "      <td>0</td>\n",
       "      <td>0.0</td>\n",
       "      <td>5.756512e-10</td>\n",
       "      <td>3.006080e-10</td>\n",
       "      <td>-2.025285e-11</td>\n",
       "      <td>-9.217269e-11</td>\n",
       "      <td>-1.537829e-10</td>\n",
       "      <td>-9.745518e-12</td>\n",
       "      <td>-1.575766e-10</td>\n",
       "      <td>-8.125790e-11</td>\n",
       "      <td>...</td>\n",
       "      <td>2.068896e-10</td>\n",
       "      <td>1.122380e-10</td>\n",
       "      <td>-2.321731e-10</td>\n",
       "      <td>2.295514e-10</td>\n",
       "      <td>1.884469e-10</td>\n",
       "      <td>1.411350e-10</td>\n",
       "      <td>-1.449544e-10</td>\n",
       "      <td>2.953361e-10</td>\n",
       "      <td>-9.752876e-11</td>\n",
       "      <td>-1.700103e-10</td>\n",
       "    </tr>\n",
       "    <tr>\n",
       "      <th>1</th>\n",
       "      <td>1</td>\n",
       "      <td>0.0</td>\n",
       "      <td>2.296048e-10</td>\n",
       "      <td>6.107766e-10</td>\n",
       "      <td>2.390374e-10</td>\n",
       "      <td>2.158895e-10</td>\n",
       "      <td>-3.573276e-10</td>\n",
       "      <td>-2.391143e-10</td>\n",
       "      <td>3.200366e-11</td>\n",
       "      <td>-1.481967e-10</td>\n",
       "      <td>...</td>\n",
       "      <td>-1.224801e-10</td>\n",
       "      <td>1.753003e-10</td>\n",
       "      <td>-6.341912e-11</td>\n",
       "      <td>-3.838900e-11</td>\n",
       "      <td>9.588576e-11</td>\n",
       "      <td>1.989337e-10</td>\n",
       "      <td>5.321058e-11</td>\n",
       "      <td>1.672333e-10</td>\n",
       "      <td>-1.012166e-10</td>\n",
       "      <td>-1.499602e-10</td>\n",
       "    </tr>\n",
       "  </tbody>\n",
       "</table>\n",
       "<p>2 rows × 1430 columns</p>\n",
       "</div>"
      ],
      "text/plain": [
       "   Unnamed: 0  label             0             1             2             3  \\\n",
       "0           0    0.0  5.756512e-10  3.006080e-10 -2.025285e-11 -9.217269e-11   \n",
       "1           1    0.0  2.296048e-10  6.107766e-10  2.390374e-10  2.158895e-10   \n",
       "\n",
       "              4             5             6             7      ...       \\\n",
       "0 -1.537829e-10 -9.745518e-12 -1.575766e-10 -8.125790e-11      ...        \n",
       "1 -3.573276e-10 -2.391143e-10  3.200366e-11 -1.481967e-10      ...        \n",
       "\n",
       "           1418          1419          1420          1421          1422  \\\n",
       "0  2.068896e-10  1.122380e-10 -2.321731e-10  2.295514e-10  1.884469e-10   \n",
       "1 -1.224801e-10  1.753003e-10 -6.341912e-11 -3.838900e-11  9.588576e-11   \n",
       "\n",
       "           1423          1424          1425          1426          1427  \n",
       "0  1.411350e-10 -1.449544e-10  2.953361e-10 -9.752876e-11 -1.700103e-10  \n",
       "1  1.989337e-10  5.321058e-11  1.672333e-10 -1.012166e-10 -1.499602e-10  \n",
       "\n",
       "[2 rows x 1430 columns]"
      ]
     },
     "execution_count": 2,
     "metadata": {},
     "output_type": "execute_result"
    }
   ],
   "source": [
    "#Load the metadata\n",
    "# path='/home/sultan/EEG/Source_Level_Analysis/25sam_10ms_clear_all_erp.csv'\n",
    "# path=\"/home/sultan/EEG/Source_Level_Analysis/50tr10ms_all_clear_erp.csv\"\n",
    "path=\"/home/sultan/EEG/Source_Level_Analysis/75sam_10ms_clear_all_erp.csv\"\n",
    "# path=\"/home/sultan/EEG/Source_Level_Analysis/100sam_10ms_clear_all_erp.csv\"\n",
    "Metadata=pd.read_csv(path)\n",
    "Metadata.head(2)"
   ]
  },
  {
   "cell_type": "code",
   "execution_count": 3,
   "metadata": {},
   "outputs": [
    {
     "data": {
      "text/plain": [
       "((2505, 1428), (2505,))"
      ]
     },
     "execution_count": 3,
     "metadata": {},
     "output_type": "execute_result"
    }
   ],
   "source": [
    "X=Metadata.iloc[:,2:]\n",
    "y=Metadata['label']\n",
    "X.shape,y.shape"
   ]
  },
  {
   "cell_type": "code",
   "execution_count": 4,
   "metadata": {},
   "outputs": [],
   "source": [
    "# TSNE"
   ]
  },
  {
   "cell_type": "code",
   "execution_count": 5,
   "metadata": {},
   "outputs": [],
   "source": [
    "import sys\n",
    "import os\n",
    "\n",
    "from scipy import linalg as LA\n",
    "\n",
    "\n",
    "np.set_printoptions(precision=3, linewidth=110, suppress=True)\n",
    "\n",
    "\n",
    "\n",
    "\n",
    "def LDA(data, labels, dim_rescale):\n",
    "    '''\n",
    "    Linear Discriminant Analysis\n",
    "    pass in:\n",
    "        (i) a raw data array--features encoded in the cols;\n",
    "            one data instance per row;\n",
    "        (ii) EV, explanatory variable, is included in D as last column;\n",
    "        (iii) the LDA flag is set to False so PCA is the default techique;\n",
    "            if both LDA & EV are set to True then LDA is performed\n",
    "            instead of PCA\n",
    "    returns:\n",
    "        (i) eigenvalues (1D array);\n",
    "        (ii) eigenvectors (2D array)\n",
    "        (iii) covariance matrix\n",
    "    some numerical assertions:\n",
    "    >>> # sum of the eigenvalues is equal to trace of R\n",
    "    >>> x = R.trace()\n",
    "    >>> x1 = eva.sum()\n",
    "    >>> NP.allclose(x, x1)\n",
    "    True\n",
    "    >>> # determinant of R is product of eigenvalues\n",
    "    >>> q = LA.det(R)\n",
    "    >>> q1 = NP.prod(eva)\n",
    "    >>> NP.allclose(q, q1)\n",
    "    True\n",
    "    '''\n",
    "    assert data.shape[0] == labels.shape[0]\n",
    "    # mean center the data array\n",
    "    data -= data.mean(axis=0)\n",
    "    nrow, ndim = data.shape\n",
    "    # pre-allocate sw, sb arrays (both same shape as covariance matrix)\n",
    "    # s_wc: array encoding 'within class' scatter\n",
    "    # s_bc: array encoding 'between class' scatter\n",
    "    s_wc = np.zeros((ndim, ndim))\n",
    "    s_bc = np.zeros((ndim, ndim))\n",
    "    R = np.cov(data.T)\n",
    "    classes = np.unique(labels)\n",
    "    for c in range(len(classes)):\n",
    "        # create an index only for data rows whose class label = classes[c]\n",
    "        idx = np.squeeze(np.where(labels == classes[c]))\n",
    "        d = np.squeeze(data[idx,:])\n",
    "        class_cov = np.cov(d.T)\n",
    "        s_wc += float(idx.shape[0]) / nrow * class_cov\n",
    "    s_bc = R - s_wc\n",
    "    # now solve for w then compute the mapped data\n",
    "    evals, evecs = LA.eig(s_wc, s_bc)\n",
    "    np.ascontiguousarray(evals)\n",
    "    np.ascontiguousarray(evecs)\n",
    "    # sort the eigenvectors based on eigenvalues sort order\n",
    "    idx = np.argsort(evals)\n",
    "    idx = idx[::-1]\n",
    "    evecs = evecs[:,idx]\n",
    "    # take just number of eigenvectors = dim_rescale\n",
    "    evecs_dr = evecs[:,:dim_rescale]\n",
    "    # multiply data array & remaining set of eigenvectors\n",
    "    rescaled_data = np.dot(data, evecs_dr)\n",
    "    return rescaled_data, evecs_dr"
   ]
  },
  {
   "cell_type": "code",
   "execution_count": 6,
   "metadata": {},
   "outputs": [],
   "source": [
    "#rescaled_data, w = LDA(X_WM_Row_scale, y_WM_Row_scale,50)\n",
    "a, w1 = LDA(np.asarray(X), np.asarray(y), 50)# X_WM_Row_scale,y_WM_Row_scale"
   ]
  },
  {
   "cell_type": "code",
   "execution_count": 7,
   "metadata": {},
   "outputs": [],
   "source": [
    "from sklearn.manifold import TSNE\n",
    "tsne = TSNE(n_components=2, perplexity=3, init='pca')\n",
    "Y = tsne.fit_transform(a)"
   ]
  },
  {
   "cell_type": "code",
   "execution_count": 8,
   "metadata": {},
   "outputs": [
    {
     "name": "stdout",
     "output_type": "stream",
     "text": [
      "(1045, 2) (1460, 2)\n",
      "tSNE_KDE_plot_edit_2.png\n"
     ]
    },
    {
     "data": {
      "image/png": "[encoded data removed]",
      "text/plain": [
       "<Figure size 432x288 with 1 Axes>"
      ]
     },
     "metadata": {
      "needs_background": "light"
     },
     "output_type": "display_data"
    }
   ],
   "source": [
    "#lb2=\"Fast RT\"\n",
    "#lb3=\"Medium RT\"\n",
    "lb1=\"NH\"\n",
    "lb2=\"HI\"\n",
    "fileName=\"tSNE_KDE_plot_edit_2\"\n",
    "\n",
    "a1=Y[np.where(y==0), 0]\n",
    "b1=Y[np.where(y==0), 1]\n",
    "c1= Y[np.where(y==1), 0]\n",
    "d1 = Y[np.where(y==1), 1]\n",
    "# e1= Y[np.where(y==2), 0]\n",
    "# f1 = Y[np.where(y==2), 1]\n",
    "\n",
    "dftt1=pd.concat([pd.DataFrame(a1),pd.DataFrame(b1)], axis=0).transpose()\n",
    "dftt2=pd.concat([pd.DataFrame(c1),\n",
    "                pd.DataFrame(d1)], axis=0).transpose()\n",
    "# dftt3=pd.concat([pd.DataFrame(e1),\n",
    "#                 pd.DataFrame(f1)], axis=0).transpose()\n",
    "print dftt1.shape,dftt2.shape#,dftt3.shape\n",
    "dftt1.columns= ['a','b']\n",
    "dftt2.columns= ['c','d']\n",
    "#dftt3.columns= ['e','f']\n",
    "ax = sns.kdeplot(dftt1['a'],dftt1['b'], cmap=\"Greens\", shade=False, shade_lowest=False)\n",
    "ax = sns.regplot(dftt1['a'], dftt1['b'],marker= '.', color='g',  fit_reg=False,label=lb1)\n",
    "ax.legend(loc=\"best\",framealpha=0.0)\n",
    "# #plt.legend(loc='upper left')\n",
    "ax = sns.kdeplot(dftt2['c'],dftt2['d'],cmap=\"Reds\", shade=False, shade_lowest=False)\n",
    "ax = sns.regplot(dftt2['c'], dftt2['d'],marker= '+', color='r',  fit_reg=False, label=lb2)\n",
    "\n",
    "# ax = sns.kdeplot(dftt3['e'],dftt3['f'],cmap=\"Blues\", shade=False, shade_lowest=False)\n",
    "# ax = sns.regplot(dftt3['e'], dftt3['f'],marker= '*', color='b',  fit_reg=False, label=lb3)\n",
    "ax.legend(loc=\"best\",framealpha=0.0)\n",
    "\n",
    "# Add labels to the plot\n",
    "red = sns.color_palette(\"Greens\")[-2]\n",
    "blue = sns.color_palette(\"Reds\")[-2]\n",
    "ax.set_xlabel('')\n",
    "ax.set_ylabel('')\n",
    "ax.yaxis.set_ticklabels([])\n",
    "ax.xaxis.set_ticklabels([])\n",
    "# ax.spines['top'].set_visible(False)\n",
    "# ax.spines['right'].set_visible(False)\n",
    "# ax.spines['bottom'].set_visible(False)\n",
    "# ax.spines['left'].set_visible(False)\n",
    "\n",
    "#sns.despine()\n",
    "# Save image\n",
    "\n",
    "save_format='png'\n",
    "print str(fileName)+'.'+save_format\n",
    "plt.savefig(fileName+'.'+save_format,dpi=300)"
   ]
  },
  {
   "cell_type": "code",
   "execution_count": null,
   "metadata": {},
   "outputs": [],
   "source": []
  },
  {
   "cell_type": "code",
   "execution_count": null,
   "metadata": {},
   "outputs": [],
   "source": []
  },
  {
   "cell_type": "code",
   "execution_count": 9,
   "metadata": {},
   "outputs": [],
   "source": [
    "#Micro AUC for multiclass classification \n",
    "\n",
    "# from sklearn.metrics import roc_auc_score\n",
    "# from sklearn.metrics import roc_curve, auc\n",
    "# from scipy import interp\n",
    "# from sklearn import preprocessing\n",
    "\n",
    "# def MulticlassAuc(y_test,y_p): # y_test, y_p is the test and predict data\n",
    "#     lb = preprocessing.LabelBinarizer() # binarize the data\n",
    "#     lb.fit(y_test)\n",
    "#     n_classes=len(lb.classes_)\n",
    "#     y_test_b=lb.transform(y_test)\n",
    "#     y_p_b=lb.transform(y_p)\n",
    "\n",
    "#     # Compute ROC curve and ROC area for each class\n",
    "#     fpr = dict()\n",
    "#     tpr = dict()\n",
    "#     roc_auc = dict()\n",
    "#     for i in range(3):\n",
    "#         fpr[i], tpr[i], _ = roc_curve(y_test_b[:, i], y_p_b[:, i])\n",
    "#         roc_auc[i] = auc(fpr[i], tpr[i])\n",
    "\n",
    "#     # First aggregate all false positive rates\n",
    "#     all_fpr = np.unique(np.concatenate([fpr[i] for i in range(n_classes)]))\n",
    "\n",
    "#     # Then interpolate all ROC curves at this points\n",
    "#     mean_tpr = np.zeros_like(all_fpr)\n",
    "#     for i in range(n_classes):\n",
    "#         mean_tpr += interp(all_fpr, fpr[i], tpr[i])\n",
    "\n",
    "#     # Finally average it and compute AUC\n",
    "#     mean_tpr /= n_classes\n",
    "\n",
    "#     fpr[\"macro\"] = all_fpr\n",
    "#     tpr[\"macro\"] = mean_tpr\n",
    "#     roc_auc[\"macro\"] = auc(fpr[\"macro\"], tpr[\"macro\"])\n",
    "#     return roc_auc[\"macro\"]"
   ]
  },
  {
   "cell_type": "markdown",
   "metadata": {},
   "source": [
    "# Apply SVM on Data"
   ]
  },
  {
   "cell_type": "code",
   "execution_count": 10,
   "metadata": {},
   "outputs": [
    {
     "data": {
      "text/plain": [
       "array([  0.01,   0.1 ,   1.  ,  10.  , 100.  ])"
      ]
     },
     "execution_count": 10,
     "metadata": {},
     "output_type": "execute_result"
    }
   ],
   "source": [
    "gamma_range = np.logspace(-2, 2, 5)\n",
    "gamma_range"
   ]
  },
  {
   "cell_type": "code",
   "execution_count": 11,
   "metadata": {},
   "outputs": [
    {
     "name": "stdout",
     "output_type": "stream",
     "text": [
      "(2505, 1428) (2505,)\n",
      "[  0.01   0.1    1.    10.   100.  ] [0.01, 0.002, 0.00069, 0.0007, 0.0005]\n"
     ]
    }
   ],
   "source": [
    "from sklearn import preprocessing\n",
    "X=preprocessing.scale(X)\n",
    "print X.shape,y.shape\n",
    "from sklearn.preprocessing import label_binarize\n",
    "y=label_binarize(np.asarray(y),[0,1])\n",
    "\n",
    "#C_range = np.logspace(-2, 10, 13)\n",
    "# gamma_range = np.logspace(-2, 2, 5)\n",
    "gamma_range = [0.01,0.002,0.00069,0.0007,0.0005]\n",
    "C_range = np.logspace(-2, 2, 5)\n",
    "#gamma_range = np.logspace(-2, 2, 5)\n",
    "\n",
    "print C_range,gamma_range\n"
   ]
  },
  {
   "cell_type": "code",
   "execution_count": 12,
   "metadata": {},
   "outputs": [
    {
     "name": "stdout",
     "output_type": "stream",
     "text": [
      "Fitting 5 folds for each of 25 candidates, totalling 125 fits\n"
     ]
    },
    {
     "name": "stderr",
     "output_type": "stream",
     "text": [
      "[Parallel(n_jobs=-1)]: Done  42 tasks      | elapsed:  1.4min\n",
      "[Parallel(n_jobs=-1)]: Done 125 out of 125 | elapsed:  3.8min finished\n"
     ]
    },
    {
     "name": "stdout",
     "output_type": "stream",
     "text": [
      "Finish tuning\n"
     ]
    }
   ],
   "source": [
    "#Classifiaction:\n",
    "# #Splitting\n",
    "from sklearn import preprocessing\n",
    "\n",
    "\n",
    "X_train, X_test, y_train, y_test = train_test_split(X, \n",
    "                                                    y, \n",
    "                                                    test_size=0.4,\n",
    "                                                    random_state=42)\n",
    "cv = ShuffleSplit(X_train.shape[0], test_size=0.4, random_state=42)\n",
    "\n",
    "# Define Classifier\n",
    "svr = svm.SVC(kernel='rbf')\n",
    "\n",
    "# Deffine tuning parameter\n",
    "C_range = np.logspace(-2, 2, 5)\n",
    "# gamma_range = np.logspace(-2, 2, 5)\n",
    "gamma_range = [0.01,0.002,0.00069,0.0007,0.0005]\n",
    "param_grid = dict(gamma=gamma_range, C=C_range)\n",
    "clf_Tune = GridSearchCV(estimator=svr, cv=5, param_grid=param_grid,n_jobs=-1, verbose=True)\n",
    "\n",
    "clf_Tune.fit(X_train,y_train)\n",
    "print 'Finish tuning'    \n",
    "    \n",
    "    "
   ]
  },
  {
   "cell_type": "code",
   "execution_count": 13,
   "metadata": {},
   "outputs": [],
   "source": [
    "#Micro AUC for multiclass classification \n",
    "\n",
    "from sklearn.metrics import roc_auc_score\n",
    "from sklearn.metrics import roc_curve, auc\n",
    "from scipy import interp\n",
    "from sklearn import preprocessing\n",
    "\n",
    "def MulticlassAuc(y_test,y_p): # y_test, y_p is the test and predict data\n",
    "    lb = preprocessing.LabelBinarizer() # binarize the data\n",
    "    lb.fit(y_test)\n",
    "    n_classes=len(lb.classes_)\n",
    "    y_test_b=lb.transform(y_test)\n",
    "    y_p_b=lb.transform(y_p)\n",
    "\n",
    "    # Compute ROC curve and ROC area for each class\n",
    "    fpr = dict()\n",
    "    tpr = dict()\n",
    "    roc_auc = dict()\n",
    "    for i in range(3):\n",
    "        fpr[i], tpr[i], _ = roc_curve(y_test_b[:, i], y_p_b[:, i])\n",
    "        roc_auc[i] = auc(fpr[i], tpr[i])\n",
    "\n",
    "    # First aggregate all false positive rates\n",
    "    all_fpr = np.unique(np.concatenate([fpr[i] for i in range(n_classes)]))\n",
    "\n",
    "    # Then interpolate all ROC curves at this points\n",
    "    mean_tpr = np.zeros_like(all_fpr)\n",
    "    for i in range(n_classes):\n",
    "        mean_tpr += interp(all_fpr, fpr[i], tpr[i])\n",
    "\n",
    "    # Finally average it and compute AUC\n",
    "    mean_tpr /= n_classes\n",
    "\n",
    "    fpr[\"macro\"] = all_fpr\n",
    "    tpr[\"macro\"] = mean_tpr\n",
    "    roc_auc[\"macro\"] = auc(fpr[\"macro\"], tpr[\"macro\"])\n",
    "    return roc_auc[\"macro\"]"
   ]
  },
  {
   "cell_type": "code",
   "execution_count": 14,
   "metadata": {},
   "outputs": [
    {
     "name": "stdout",
     "output_type": "stream",
     "text": [
      "             precision    recall  f1-score   support\n",
      "\n",
      "          0       0.89      0.89      0.89       420\n",
      "          1       0.92      0.92      0.92       582\n",
      "\n",
      "avg / total       0.91      0.91      0.91      1002\n",
      "\n",
      "0.9051896207584831\n",
      "0.9024791359842905\n"
     ]
    }
   ],
   "source": [
    "from sklearn.metrics import classification_report\n",
    "\n",
    "y_p = clf_Tune.best_estimator_.predict(X_test)\n",
    "ACC=classification_report(y_test, y_p)\n",
    "print ACC\n",
    "ACC_AVG=accuracy_score(y_test, y_p)\n",
    "print ACC_AVG\n",
    "\n",
    "from sklearn import metrics\n",
    "\n",
    "fpr, tpr, thresholds = metrics.roc_curve(y_test,y_p)\n",
    "AUC_Th2_T=metrics.auc(fpr, tpr)\n",
    "print AUC_Th2_T"
   ]
  },
  {
   "cell_type": "code",
   "execution_count": 15,
   "metadata": {},
   "outputs": [
    {
     "data": {
      "text/plain": [
       "Text(0.5,1,\"Validation accuracy=0.904856952761, best {'C': 100.0, 'gamma': 0.0005}\")"
      ]
     },
     "execution_count": 15,
     "metadata": {},
     "output_type": "execute_result"
    },
    {
     "data": {
      "image/png": "[encoded data removed]",
      "text/plain": [
       "<Figure size 576x432 with 2 Axes>"
      ]
     },
     "metadata": {
      "needs_background": "light"
     },
     "output_type": "display_data"
    }
   ],
   "source": [
    "# Utility function to move the midpoint of a colormap to be around\n",
    "# the values of interest.\n",
    "from matplotlib.colors import Normalize\n",
    "class MidpointNormalize(Normalize):\n",
    "\n",
    "    def __init__(self, vmin=None, vmax=None, midpoint=None, clip=False):\n",
    "        self.midpoint = midpoint\n",
    "        Normalize.__init__(self, vmin, vmax, clip)\n",
    "\n",
    "    def __call__(self, value, clip=None):\n",
    "        x, y = [self.vmin, self.midpoint, self.vmax], [0, 0.5, 1]\n",
    "        return np.ma.masked_array(np.interp(value, x, y))\n",
    "    \n",
    "scores = clf_Tune.cv_results_['mean_test_score'].reshape(len(C_range),len(gamma_range))\n",
    "#print scores.shape,len(C_range),len(gamma_range)\n",
    "plt.figure(figsize=(8, 6))\n",
    "#plt.subplots_adjust(left=.2, right=0.95, bottom=0.15, top=0.95)\n",
    "plt.imshow(scores, interpolation='nearest', cmap=plt.cm.hot, norm=MidpointNormalize(vmin=0.2, midpoint=0.92))\n",
    "plt.xlabel('gamma')\n",
    "plt.ylabel('C')\n",
    "plt.colorbar()\n",
    "plt.xticks(np.arange(len(gamma_range)), gamma_range, rotation=45)\n",
    "plt.yticks(np.arange(len(C_range)), C_range)\n",
    "plt.title('Validation accuracy={}, best {}' .format(clf_Tune.best_score_,clf_Tune.best_params_))\n",
    "\n",
    "#filename='ParameterTuning'\n",
    "#save_format='png'\n",
    "#print filename+'.'+save_format\n",
    "#pp='home/ralfahad/Pictures'\n",
    "#plt.savefig(filename+'.'+save_format,dpi=100)\n",
    "#plt.show()"
   ]
  },
  {
   "cell_type": "markdown",
   "metadata": {},
   "source": [
    "# Find Significant correlation with stability selections "
   ]
  },
  {
   "cell_type": "markdown",
   "metadata": {},
   "source": [
    "### Make the dataset"
   ]
  },
  {
   "cell_type": "code",
   "execution_count": 16,
   "metadata": {},
   "outputs": [],
   "source": [
    "# Pre Processing "
   ]
  },
  {
   "cell_type": "code",
   "execution_count": 17,
   "metadata": {},
   "outputs": [
    {
     "name": "stdout",
     "output_type": "stream",
     "text": [
      "(2505, 1428) (2505, 1)\n"
     ]
    }
   ],
   "source": [
    "from sklearn import preprocessing\n",
    "X=preprocessing.scale(X)\n",
    "print X.shape,y.shape\n",
    "from sklearn.preprocessing import label_binarize\n",
    "y=label_binarize(np.asarray(y),[0,1])"
   ]
  },
  {
   "cell_type": "markdown",
   "metadata": {},
   "source": [
    "# TSNE Visulaization"
   ]
  },
  {
   "cell_type": "code",
   "execution_count": 18,
   "metadata": {},
   "outputs": [],
   "source": [
    "# import sys\n",
    "# import os\n",
    "\n",
    "# from scipy import linalg as LA\n",
    "\n",
    "\n",
    "# np.set_printoptions(precision=3, linewidth=110, suppress=True)\n",
    "\n",
    "\n",
    "\n",
    "\n",
    "# def LDA(data, labels, dim_rescale):\n",
    "#     '''\n",
    "#     Linear Discriminant Analysis\n",
    "#     pass in:\n",
    "#         (i) a raw data array--features encoded in the cols;\n",
    "#             one data instance per row;\n",
    "#         (ii) EV, explanatory variable, is included in D as last column;\n",
    "#         (iii) the LDA flag is set to False so PCA is the default techique;\n",
    "#             if both LDA & EV are set to True then LDA is performed\n",
    "#             instead of PCA\n",
    "#     returns:\n",
    "#         (i) eigenvalues (1D array);\n",
    "#         (ii) eigenvectors (2D array)\n",
    "#         (iii) covariance matrix\n",
    "#     some numerical assertions:\n",
    "#     >>> # sum of the eigenvalues is equal to trace of R\n",
    "#     >>> x = R.trace()\n",
    "#     >>> x1 = eva.sum()\n",
    "#     >>> NP.allclose(x, x1)\n",
    "#     True\n",
    "#     >>> # determinant of R is product of eigenvalues\n",
    "#     >>> q = LA.det(R)\n",
    "#     >>> q1 = NP.prod(eva)\n",
    "#     >>> NP.allclose(q, q1)\n",
    "#     True\n",
    "#     '''\n",
    "#     assert data.shape[0] == labels.shape[0]\n",
    "#     # mean center the data array\n",
    "#     data -= data.mean(axis=0)\n",
    "#     nrow, ndim = data.shape\n",
    "#     # pre-allocate sw, sb arrays (both same shape as covariance matrix)\n",
    "#     # s_wc: array encoding 'within class' scatter\n",
    "#     # s_bc: array encoding 'between class' scatter\n",
    "#     s_wc = np.zeros((ndim, ndim))\n",
    "#     s_bc = np.zeros((ndim, ndim))\n",
    "#     R = np.cov(data.T)\n",
    "#     classes = np.unique(labels)\n",
    "#     for c in range(len(classes)):\n",
    "#         # create an index only for data rows whose class label = classes[c]\n",
    "#         idx = np.squeeze(np.where(labels == classes[c]))\n",
    "#         d = np.squeeze(data[idx,:])\n",
    "#         class_cov = np.cov(d.T)\n",
    "#         s_wc += float(idx.shape[0]) / nrow * class_cov\n",
    "#     s_bc = R - s_wc\n",
    "#     # now solve for w then compute the mapped data\n",
    "#     evals, evecs = LA.eig(s_wc, s_bc)\n",
    "#     np.ascontiguousarray(evals)\n",
    "#     np.ascontiguousarray(evecs)\n",
    "#     # sort the eigenvectors based on eigenvalues sort order\n",
    "#     idx = np.argsort(evals)\n",
    "#     idx = idx[::-1]\n",
    "#     evecs = evecs[:,idx]\n",
    "#     # take just number of eigenvectors = dim_rescale\n",
    "#     evecs_dr = evecs[:,:dim_rescale]\n",
    "#     # multiply data array & remaining set of eigenvectors\n",
    "#     rescaled_data = np.dot(data, evecs_dr)\n",
    "#     return rescaled_data, evecs_dr\n",
    "\n"
   ]
  },
  {
   "cell_type": "code",
   "execution_count": 19,
   "metadata": {},
   "outputs": [],
   "source": [
    "# #Micro AUC for multiclass classification \n",
    "\n",
    "# from sklearn.metrics import roc_auc_score\n",
    "# from sklearn.metrics import roc_curve, auc\n",
    "# from scipy import interp\n",
    "# from sklearn import preprocessing\n",
    "\n",
    "# def MulticlassAuc(y_test,y_p): # y_test, y_p is the test and predict data\n",
    "#     lb = preprocessing.LabelBinarizer() # binarize the data\n",
    "#     lb.fit(y_test)\n",
    "#     n_classes=len(lb.classes_)\n",
    "#     y_test_b=lb.transform(y_test)\n",
    "#     y_p_b=lb.transform(y_p)\n",
    "\n",
    "#     # Compute ROC curve and ROC area for each class\n",
    "#     fpr = dict()\n",
    "#     tpr = dict()\n",
    "#     roc_auc = dict()\n",
    "#     for i in range(3):\n",
    "#         fpr[i], tpr[i], _ = roc_curve(y_test_b[:, i], y_p_b[:, i])\n",
    "#         roc_auc[i] = auc(fpr[i], tpr[i])\n",
    "\n",
    "#     # First aggregate all false positive rates\n",
    "#     all_fpr = np.unique(np.concatenate([fpr[i] for i in range(n_classes)]))\n",
    "\n",
    "#     # Then interpolate all ROC curves at this points\n",
    "#     mean_tpr = np.zeros_like(all_fpr)\n",
    "#     for i in range(n_classes):\n",
    "#         mean_tpr += interp(all_fpr, fpr[i], tpr[i])\n",
    "\n",
    "#     # Finally average it and compute AUC\n",
    "#     mean_tpr /= n_classes\n",
    "\n",
    "#     fpr[\"macro\"] = all_fpr\n",
    "#     tpr[\"macro\"] = mean_tpr\n",
    "#     roc_auc[\"macro\"] = auc(fpr[\"macro\"], tpr[\"macro\"])\n",
    "#     return roc_auc[\"macro\"]"
   ]
  },
  {
   "cell_type": "markdown",
   "metadata": {},
   "source": [
    "### Randomized Logistic Regression "
   ]
  },
  {
   "cell_type": "code",
   "execution_count": 20,
   "metadata": {},
   "outputs": [],
   "source": [
    "from sklearn.linear_model import (RandomizedLasso, lasso_stability_path,\n",
    "                                  LassoLarsCV)\n",
    "from sklearn.exceptions import ConvergenceWarning\n",
    "\n",
    "#Model Library\n",
    "from sklearn.linear_model import (RandomizedLasso, lasso_stability_path, LassoLarsCV)\n",
    "from sklearn.model_selection import GridSearchCV\n",
    "from sklearn.linear_model import LogisticRegression, RandomizedLogisticRegression\n",
    "from sklearn import svm\n",
    "\n",
    "\n",
    "# Performance analysis library \n",
    "from sklearn.model_selection import KFold, cross_val_score, LeaveOneOut, cross_val_predict\n",
    "from sklearn.metrics import precision_recall_curve\n",
    "from sklearn.metrics import average_precision_score\n",
    "from sklearn.metrics import accuracy_score\n",
    "from sklearn.metrics import roc_curve,auc\n",
    "from sklearn.metrics import classification_report\n",
    "from sklearn.metrics import confusion_matrix\n",
    "\n",
    "\n",
    "# preprocessing\n",
    "from sklearn.preprocessing import Imputer\n",
    "from sklearn.model_selection import train_test_split # test train split\n",
    "from sklearn.model_selection import ShuffleSplit"
   ]
  },
  {
   "cell_type": "code",
   "execution_count": 21,
   "metadata": {},
   "outputs": [
    {
     "data": {
      "text/plain": [
       "array([0.002])"
      ]
     },
     "execution_count": 21,
     "metadata": {},
     "output_type": "execute_result"
    }
   ],
   "source": [
    "with warnings.catch_warnings():\n",
    "    #warnings.simplefilter('ignore', UserWarning)\n",
    "    warnings.simplefilter('ignore', ConvergenceWarning)\n",
    "    lars_cv = LassoLarsCV(cv=10).fit(X, y)\n",
    "lars_cv.alphas_"
   ]
  },
  {
   "cell_type": "code",
   "execution_count": 22,
   "metadata": {},
   "outputs": [
    {
     "name": "stdout",
     "output_type": "stream",
     "text": [
      "[0.002 0.002 0.002 0.002 0.001 0.001 0.001 0.001 0.    0.   ]\n"
     ]
    }
   ],
   "source": [
    "# Run the RandomizedLasso: we use a paths going down to .1*alpha_max\n",
    "# to avoid exploring the regime in which very noisy variables enter\n",
    "# the model\n",
    "alphas = np.linspace(lars_cv.alphas_[0], .1 * lars_cv.alphas_[0], 10)\n",
    "print alphas\n",
    "clf = RandomizedLasso(alpha=alphas, random_state=42,max_iter=10000).fit(X, y)"
   ]
  },
  {
   "cell_type": "code",
   "execution_count": 23,
   "metadata": {},
   "outputs": [
    {
     "data": {
      "text/plain": [
       "array([0.025, 0.005, 0.025, ..., 0.275, 0.02 , 0.005])"
      ]
     },
     "execution_count": 23,
     "metadata": {},
     "output_type": "execute_result"
    }
   ],
   "source": [
    "clf.scores_"
   ]
  },
  {
   "cell_type": "code",
   "execution_count": 24,
   "metadata": {},
   "outputs": [
    {
     "data": {
      "image/png": "[encoded data removed]",
      "text/plain": [
       "<Figure size 432x288 with 1 Axes>"
      ]
     },
     "metadata": {
      "needs_background": "light"
     },
     "output_type": "display_data"
    }
   ],
   "source": [
    "from matplotlib.ticker import FormatStrFormatter\n",
    "data=clf.scores_\n",
    "fig, ax = plt.subplots()\n",
    "counts, bins, patches = ax.hist(data,10 ,edgecolor='gray')\n",
    "\n",
    "# Set the ticks to be at the edges of the bins.\n",
    "ax.set_xticks(bins)\n",
    "\n",
    "# Set the xaxis's tick labels to be formatted with 1 decimal place...\n",
    "ax.xaxis.set_major_formatter(FormatStrFormatter('%0.1f'))\n",
    "\n",
    "\n",
    "# Label the raw counts and the percentages below the x-axis...\n",
    "bin_centers = 0.5 * np.diff(bins) + bins[:-1]\n",
    "for count, x in zip(counts, bin_centers):\n",
    "    # Label the raw counts\n",
    "    ax.annotate(str(count), xy=(x, 0), xycoords=('data', 'axes fraction'),\n",
    "        xytext=(0, -18), textcoords='offset points', va='top', ha='center')\n",
    "\n",
    "    # Label the percentages\n",
    "    percent = '%0.0f%%' % (100 * float(count) / counts.sum())\n",
    "    ax.annotate(percent, xy=(x, 0), xycoords=('data', 'axes fraction'),\n",
    "        xytext=(0, -32), textcoords='offset points', va='top', ha='center')\n",
    "\n",
    "\n",
    "# Give ourselves some more room at the bottom of the plot\n",
    "plt.subplots_adjust(bottom=0.15)\n",
    "plt.grid(True)\n",
    "plt.show()"
   ]
  },
  {
   "cell_type": "markdown",
   "metadata": {},
   "source": [
    "### Find the optimal threshold"
   ]
  },
  {
   "cell_type": "code",
   "execution_count": 25,
   "metadata": {},
   "outputs": [
    {
     "name": "stdout",
     "output_type": "stream",
     "text": [
      "[0.    0.084 0.169 0.253 0.338 0.422 0.507 0.591 0.676 0.76  0.845]\n",
      "[0.169 0.253 0.338 0.422 0.507 0.591 0.676 0.76  0.845]\n"
     ]
    }
   ],
   "source": [
    "Th_2_Bins_Index= np.where((bins<=0.9) & (bins>=0.1)) # take the bins within a range\n",
    "print bins\n",
    "Th_2_Bins=bins[Th_2_Bins_Index]\n",
    "print Th_2_Bins"
   ]
  },
  {
   "cell_type": "code",
   "execution_count": 26,
   "metadata": {},
   "outputs": [
    {
     "name": "stdout",
     "output_type": "stream",
     "text": [
      "(2505, 1428) (2505, 1)\n",
      "(1503, 1428) (1002, 1428) (1503, 1) (1002, 1)\n"
     ]
    }
   ],
   "source": [
    "from sklearn import preprocessing\n",
    "X=preprocessing.scale(X)\n",
    "print X.shape,y.shape\n",
    "from sklearn.preprocessing import label_binarize\n",
    "y=label_binarize(np.asarray(y),[0,1])\n",
    "\n",
    "X_train, X_test, y_train, y_test = train_test_split(X, y, test_size=0.4, random_state=42)\n",
    "print X_train.shape, X_test.shape, y_train.shape, y_test.shape"
   ]
  },
  {
   "cell_type": "code",
   "execution_count": 27,
   "metadata": {},
   "outputs": [
    {
     "data": {
      "text/plain": [
       "array([[-0.063, -1.856, -1.292, ..., -1.172,  2.191,  1.7  ],\n",
       "       [-1.7  , -1.132, -0.839, ...,  0.664,  1.128,  1.619],\n",
       "       [ 0.653,  0.837,  0.813, ..., -0.05 ,  0.761,  0.795],\n",
       "       ...,\n",
       "       [ 1.571, -0.554, -0.53 , ..., -0.912,  1.921,  1.253],\n",
       "       [-0.277,  0.337,  0.147, ...,  0.954,  0.874,  1.54 ],\n",
       "       [-0.744,  2.787,  2.438, ...,  1.152, -1.132, -2.036]])"
      ]
     },
     "execution_count": 27,
     "metadata": {},
     "output_type": "execute_result"
    }
   ],
   "source": [
    "X_train[:,1:10]"
   ]
  },
  {
   "cell_type": "code",
   "execution_count": 28,
   "metadata": {},
   "outputs": [
    {
     "data": {
      "text/plain": [
       "numpy.ndarray"
      ]
     },
     "execution_count": 28,
     "metadata": {},
     "output_type": "execute_result"
    }
   ],
   "source": [
    "type(X_train)#[:,np.squeeze(np.asarray(np.where(clf.scores_>=0.16)))].shape#,y_train"
   ]
  },
  {
   "cell_type": "code",
   "execution_count": 29,
   "metadata": {},
   "outputs": [
    {
     "name": "stdout",
     "output_type": "stream",
     "text": [
      "Fitting 5 folds for each of 25 candidates, totalling 125 fits\n"
     ]
    },
    {
     "name": "stderr",
     "output_type": "stream",
     "text": [
      "[Parallel(n_jobs=-1)]: Done  42 tasks      | elapsed:   12.9s\n",
      "[Parallel(n_jobs=-1)]: Done 125 out of 125 | elapsed:   30.4s finished\n"
     ]
    },
    {
     "data": {
      "text/plain": [
       "GridSearchCV(cv=5, error_score='raise',\n",
       "       estimator=SVC(C=1.0, cache_size=200, class_weight=None, coef0=0.0,\n",
       "  decision_function_shape='ovr', degree=3, gamma='auto', kernel='rbf',\n",
       "  max_iter=-1, probability=False, random_state=None, shrinking=True,\n",
       "  tol=0.001, verbose=False),\n",
       "       fit_params=None, iid=True, n_jobs=-1,\n",
       "       param_grid={'C': array([  0.01,   0.1 ,   1.  ,  10.  , 100.  ]), 'gamma': [0.01, 0.002, 0.00069, 0.0007, 0.0005]},\n",
       "       pre_dispatch='2*n_jobs', refit=True, return_train_score='warn',\n",
       "       scoring=None, verbose=True)"
      ]
     },
     "execution_count": 29,
     "metadata": {},
     "output_type": "execute_result"
    }
   ],
   "source": [
    "C_range = np.logspace(-2, 2, 5)\n",
    "gamma_range = [0.01,0.002,0.00069,0.0007,0.0005]\n",
    "# gamma_range = np.logspace(-2, 2, 5)\n",
    "param_grid = dict(gamma=gamma_range, C=C_range)\n",
    "#clf_Tune = GridSearchCV(estimator=svr, cv=1, param_grid=param_grid,n_jobs=-1)\n",
    "clf_Tune = GridSearchCV(estimator=svr, cv=5, param_grid=param_grid,n_jobs=-1, verbose=True)\n",
    "clf_Tune.fit(X_train[:,np.squeeze(np.asarray(np.where(clf.scores_>=0.16)))],y_train)"
   ]
  },
  {
   "cell_type": "code",
   "execution_count": 30,
   "metadata": {},
   "outputs": [
    {
     "name": "stdout",
     "output_type": "stream",
     "text": [
      "0.9121756487025948\n"
     ]
    }
   ],
   "source": [
    "# use tuned parameter on to get model\n",
    "y_p = clf_Tune.best_estimator_.predict(X_test[:,np.squeeze(np.asarray(np.where(clf.scores_>=0.16)))])\n",
    "\n",
    "print accuracy_score(y_test, y_p)"
   ]
  },
  {
   "cell_type": "code",
   "execution_count": 31,
   "metadata": {},
   "outputs": [
    {
     "name": "stdout",
     "output_type": "stream",
     "text": [
      "0.16899999999999998\n",
      "(1503, 281)\n",
      "Fitting 5 folds for each of 25 candidates, totalling 125 fits\n"
     ]
    },
    {
     "name": "stderr",
     "output_type": "stream",
     "text": [
      "[Parallel(n_jobs=-1)]: Done  42 tasks      | elapsed:   12.4s\n",
      "[Parallel(n_jobs=-1)]: Done 125 out of 125 | elapsed:   29.5s finished\n"
     ]
    },
    {
     "name": "stdout",
     "output_type": "stream",
     "text": [
      "(1503, 281) (1503, 1)\n",
      "Finish tuning\n",
      "Shape (1002, 281)\n",
      "ACC 0.9101796407185628 0.9074374079528719\n",
      "0.25349999999999995\n",
      "(1503, 193)\n",
      "Fitting 5 folds for each of 25 candidates, totalling 125 fits\n"
     ]
    },
    {
     "name": "stderr",
     "output_type": "stream",
     "text": [
      "[Parallel(n_jobs=-1)]: Done  42 tasks      | elapsed:    8.8s\n",
      "[Parallel(n_jobs=-1)]: Done 125 out of 125 | elapsed:   21.0s finished\n"
     ]
    },
    {
     "name": "stdout",
     "output_type": "stream",
     "text": [
      "(1503, 193) (1503, 1)\n",
      "Finish tuning\n",
      "Shape (1002, 193)\n",
      "ACC 0.8872255489021956 0.8846956308296514\n",
      "0.33799999999999997\n",
      "(1503, 117)\n",
      "Fitting 5 folds for each of 25 candidates, totalling 125 fits\n"
     ]
    },
    {
     "name": "stderr",
     "output_type": "stream",
     "text": [
      "[Parallel(n_jobs=-1)]: Done  42 tasks      | elapsed:    6.0s\n",
      "[Parallel(n_jobs=-1)]: Done 125 out of 125 | elapsed:   14.2s finished\n"
     ]
    },
    {
     "name": "stdout",
     "output_type": "stream",
     "text": [
      "(1503, 117) (1503, 1)\n",
      "Finish tuning\n",
      "Shape (1002, 117)\n",
      "ACC 0.9001996007984032 0.8925503190967108\n",
      "0.4225\n",
      "(1503, 68)\n",
      "Fitting 5 folds for each of 25 candidates, totalling 125 fits\n"
     ]
    },
    {
     "name": "stderr",
     "output_type": "stream",
     "text": [
      "[Parallel(n_jobs=-1)]: Done  42 tasks      | elapsed:    4.3s\n",
      "[Parallel(n_jobs=-1)]: Done 125 out of 125 | elapsed:   10.0s finished\n"
     ]
    },
    {
     "name": "stdout",
     "output_type": "stream",
     "text": [
      "(1503, 68) (1503, 1)\n",
      "Finish tuning\n",
      "Shape (1002, 68)\n",
      "ACC 0.873253493013972 0.8703485517918507\n",
      "0.5069999999999999\n",
      "(1503, 27)\n",
      "Fitting 5 folds for each of 25 candidates, totalling 125 fits\n"
     ]
    },
    {
     "name": "stderr",
     "output_type": "stream",
     "text": [
      "[Parallel(n_jobs=-1)]: Done  42 tasks      | elapsed:    2.6s\n",
      "[Parallel(n_jobs=-1)]: Done 125 out of 125 | elapsed:    6.5s finished\n"
     ]
    },
    {
     "name": "stdout",
     "output_type": "stream",
     "text": [
      "(1503, 27) (1503, 1)\n",
      "Finish tuning\n",
      "Shape (1002, 27)\n",
      "ACC 0.8183632734530938 0.8148134511536573\n",
      "0.5914999999999999\n",
      "(1503, 9)\n",
      "Fitting 5 folds for each of 25 candidates, totalling 125 fits\n"
     ]
    },
    {
     "name": "stderr",
     "output_type": "stream",
     "text": [
      "[Parallel(n_jobs=-1)]: Done  76 tasks      | elapsed:    3.3s\n",
      "[Parallel(n_jobs=-1)]: Done 118 out of 125 | elapsed:    5.0s remaining:    0.3s\n",
      "[Parallel(n_jobs=-1)]: Done 125 out of 125 | elapsed:    5.2s finished\n"
     ]
    },
    {
     "name": "stdout",
     "output_type": "stream",
     "text": [
      "(1503, 9) (1503, 1)\n",
      "Finish tuning\n",
      "Shape (1002, 9)\n",
      "ACC 0.7035928143712575 0.6944771723122237\n",
      "0.6759999999999999\n",
      "(1503, 5)\n",
      "Fitting 5 folds for each of 25 candidates, totalling 125 fits\n"
     ]
    },
    {
     "name": "stderr",
     "output_type": "stream",
     "text": [
      "[Parallel(n_jobs=-1)]: Done  76 tasks      | elapsed:    3.1s\n",
      "[Parallel(n_jobs=-1)]: Done 118 out of 125 | elapsed:    4.6s remaining:    0.3s\n",
      "[Parallel(n_jobs=-1)]: Done 125 out of 125 | elapsed:    4.8s finished\n"
     ]
    },
    {
     "name": "stdout",
     "output_type": "stream",
     "text": [
      "(1503, 5) (1503, 1)\n",
      "Finish tuning\n",
      "Shape (1002, 5)\n",
      "ACC 0.655688622754491 0.631701030927835\n",
      "0.7605\n",
      "(1503, 3)\n",
      "Fitting 5 folds for each of 25 candidates, totalling 125 fits\n"
     ]
    },
    {
     "name": "stderr",
     "output_type": "stream",
     "text": [
      "[Parallel(n_jobs=-1)]: Done  76 tasks      | elapsed:    2.9s\n",
      "[Parallel(n_jobs=-1)]: Done 118 out of 125 | elapsed:    4.4s remaining:    0.3s\n",
      "[Parallel(n_jobs=-1)]: Done 125 out of 125 | elapsed:    4.7s finished\n"
     ]
    },
    {
     "name": "stdout",
     "output_type": "stream",
     "text": [
      "(1503, 3) (1503, 1)\n",
      "Finish tuning\n",
      "Shape (1002, 3)\n",
      "ACC 0.6397205588822356 0.6242513500245459\n",
      "0.845\n",
      "(1503,)\n",
      "Fitting 5 folds for each of 25 candidates, totalling 125 fits\n",
      "error at: 0.845\n"
     ]
    }
   ],
   "source": [
    "# #Splitting\n",
    "X_train, X_test, y_train, y_test = train_test_split(X, y, test_size=0.4, random_state=42)\n",
    "#cv = ShuffleSplit(X_train.shape[0], test_size=0.2, random_state=42)\n",
    "\n",
    "# Define Classifier\n",
    "svr = svm.SVC(kernel='rbf')\n",
    "\n",
    "# Deffine tuning parameter\n",
    "# C_range = np.logspace(-2, 10, 13)\n",
    "# gamma_range = np.logspace(-9, 3, 13)\n",
    "\n",
    "C_range = np.logspace(-2, 2, 5)\n",
    "gamma_range = [0.01,0.002,0.00069,0.0007,0.0005]\n",
    "#gamma_range = np.logspace(-2, 2, 5)\n",
    "param_grid = dict(gamma=gamma_range, C=C_range)\n",
    "#clf_Tune = GridSearchCV(estimator=svr, cv=1, param_grid=param_grid,n_jobs=-1)\n",
    "clf_Tune = GridSearchCV(estimator=svr, cv=5, param_grid=param_grid,n_jobs=-1, verbose=True)\n",
    "##  Define LeaveOneOutCrossValidation\n",
    "#loocv = LeaveOneOut()\n",
    "ACC_Th2=[]\n",
    "AUC_Th2=[]\n",
    "Bins=[]\n",
    "for i in Th_2_Bins:\n",
    "    print i\n",
    "    try:\n",
    "        print X_train[:,np.squeeze(np.asarray(np.where(clf.scores_>=i)))].shape\n",
    "        \n",
    "        #Hyper parameter Tuning \n",
    "        clf_Tune.fit(X_train[:,np.squeeze(np.asarray(np.where(clf.scores_>=i)))],y_train)\n",
    "        print X_train[:,np.squeeze(np.asarray(np.where(clf.scores_>=i)))].shape ,y_train.shape\n",
    "        print 'Finish tuning'\n",
    "\n",
    "        # use tuned parameter on to get model\n",
    "        y_p = clf_Tune.best_estimator_.predict(X_test[:,np.squeeze(np.asarray(np.where(clf.scores_>=i)))])\n",
    "\n",
    "        ACC_Th2_T=accuracy_score(y_test, y_p)\n",
    "        fpr, tpr, thresholds = metrics.roc_curve(y_test,y_p)\n",
    "        AUC_Th2_T=metrics.auc(fpr, tpr)\n",
    "        print 'Shape', X_test[:,np.squeeze(np.asarray(np.where(clf.scores_>=i)))].shape\n",
    "        print 'ACC',ACC_Th2_T,AUC_Th2_T\n",
    "        ACC_Th2.append(ACC_Th2_T)\n",
    "        AUC_Th2.append(AUC_Th2_T)\n",
    "        Bins.append(i)\n",
    "    except:\n",
    "        print 'error at:',i\n",
    "    # false_positive_rate, true_positive_rate, thresholds = roc_curve(y_test, y_p)\n",
    "    # roc_auc_T = auc(false_positive_rate, true_positive_rate)\n",
    "    # print 'AUC',roc_auc_T\n",
    "    # AUC_Th2.append(roc_auc_T)"
   ]
  },
  {
   "cell_type": "code",
   "execution_count": 32,
   "metadata": {},
   "outputs": [],
   "source": [
    "# accuracy_score(y_test, y_p)\n",
    "# MulticlassAuc(y_test,y_p)"
   ]
  },
  {
   "cell_type": "code",
   "execution_count": 33,
   "metadata": {},
   "outputs": [],
   "source": [
    "        \n",
    "#         ACC_Th2_T=accuracy_score(y_test, y_p)\n",
    "#         AUC_Th2_T=MulticlassAuc(y_test,y_p)\n",
    "#         print 'Shape', X_test[:,np.squeeze(np.asarray(np.where(clf.scores_>=i)))].shape\n",
    "#         print 'ACC',ACC_Th2_T,AUC_Th2_T\n",
    "#         ACC_Th2.append(ACC_Th2_T)\n",
    "#         AUC_Th2.append(AUC_Th2_T)\n",
    "#         Bins.append(i)\n",
    "#     except:\n",
    "#         print 'error at:',i\n",
    "#     # false_positive_rate, true_positive_rate, thresholds = roc_curve(y_test, y_p)\n",
    "#     # roc_auc_T = auc(false_positive_rate, true_positive_rate)\n",
    "#     # print 'AUC',roc_auc_T\n",
    "#     # AUC_Th2.append(roc_auc_T)"
   ]
  },
  {
   "cell_type": "code",
   "execution_count": 34,
   "metadata": {},
   "outputs": [
    {
     "data": {
      "text/plain": [
       "[0.9101796407185628,\n",
       " 0.8872255489021956,\n",
       " 0.9001996007984032,\n",
       " 0.873253493013972,\n",
       " 0.8183632734530938,\n",
       " 0.7035928143712575,\n",
       " 0.655688622754491,\n",
       " 0.6397205588822356]"
      ]
     },
     "execution_count": 34,
     "metadata": {},
     "output_type": "execute_result"
    }
   ],
   "source": [
    "ACC_Th2 "
   ]
  },
  {
   "cell_type": "code",
   "execution_count": 35,
   "metadata": {},
   "outputs": [
    {
     "data": {
      "image/png": "[encoded data removed]",
      "text/plain": [
       "<Figure size 432x288 with 3 Axes>"
      ]
     },
     "metadata": {
      "needs_background": "light"
     },
     "output_type": "display_data"
    }
   ],
   "source": [
    "from matplotlib.ticker import FormatStrFormatter\n",
    "Th_2_Bins=np.asarray(Bins)\n",
    "data=clf.scores_\n",
    "fig, ax = plt.subplots()\n",
    "fig.subplots_adjust(right=0.75)\n",
    "#counts, bins, patches = ax.hist(data,10 ,edgecolor='gray')\n",
    "counts, bins, patches = ax.hist(data,10,facecolor=\"None\",edgecolor='blue', lw=1)\n",
    "# Set the ticks to be at the edges of the bins.\n",
    "ax.set_xticks(bins)\n",
    "# Set the xaxis's tick labels to be formatted with 1 decimal place...\n",
    "ax.xaxis.set_major_formatter(FormatStrFormatter('%0.1f'))\n",
    "\n",
    "\n",
    "bin_centers = 0.5 * np.diff(bins) + bins[:-1]\n",
    "\n",
    "\n",
    "\n",
    "\n",
    "\n",
    "\n",
    "\n",
    "#show % value\n",
    "for count, x in zip(counts, bin_centers):\n",
    "    # Label the raw counts\n",
    "    ax.annotate(int(count), xy=(x, 0), xycoords=('data', 'axes fraction'),\n",
    "        xytext=(0, -18), textcoords='offset points', va='top', ha='center')\n",
    "\n",
    "    # Label the percentages\n",
    "    percent = '%0.0f%%' % (100 * float(count) / counts.sum())\n",
    "    ax.annotate(percent, xy=(x, 0), xycoords=('data', 'axes fraction'),\n",
    "        xytext=(0, -32), textcoords='offset points', va='top', ha='center')\n",
    "\n",
    "\n",
    "\n",
    "    \n",
    "    \n",
    "    \n",
    "    # Give ourselves some more room at the bottom of the plot\n",
    "\n",
    "ax2 = ax.twinx()\n",
    "ax2.plot(Th_2_Bins,AUC_Th2, color='red',ls='dashed' )#,THbin,CCC_Per)\n",
    "ax2.set_frame_on(False)\n",
    "ax2.set_ylabel('AUC', color='red')\n",
    "ax2.patch.set_visible(False)\n",
    "for i,j in zip(Th_2_Bins,AUC_Th2):\n",
    "    #ax2.annotate((\"%.2f\" % j),xy=(i+0.04,j-0.01), color ='red') ##############################\n",
    "    ax2.annotate((\"%.2f\" % j),xy=(i,j-0.01), color ='red') ##############################\n",
    "    ax2.plot(i,j, marker='o', markersize=7, color=\"red\")\n",
    "\n",
    "\n",
    "    \n",
    "ax3 = ax.twinx()\n",
    "ax3.plot(Th_2_Bins,ACC_Th2, color='black')#,THbin,CCC_Per)\n",
    "ax3.set_frame_on(False)\n",
    "ax3.set_ylabel('Accuracy', color='black')\n",
    "\n",
    "\n",
    "\n",
    "\n",
    "\n",
    "\n",
    "for i,j in zip(Th_2_Bins,ACC_Th2):\n",
    "     #ax3.annotate((\"%0.2f\" % j),xy=(i-0.05,j), color='black')\n",
    "    #ax3.annotate((\"%0.2f\" % j),xy=(i-0.1,j), color='black')##################################\n",
    "    ax3.annotate((\"%0.2f\" % j),xy=(i,j+0.01), color='black')##################################\n",
    "    ax3.plot(i,j, marker='*', markersize=10, color=\"black\")\n",
    "    #ax3.annotate((\"%0.2f,%0.2f\" % (i,j)),xy=(i-0.05,j), color='green')\n",
    "    #ax3.annotate((\"%0.3f\" %j),xy=(i,j), color='green')\n",
    "\n",
    "\n",
    "    \n",
    "    \n",
    "    \n",
    "    \n",
    "# Move the last y-axis spine over to the right by 20% of the width of the axes\n",
    "ax3.spines['right'].set_position(('axes', 1.15))\n",
    "ax3.spines['right'].set_visible(True)\n",
    "\n",
    "# To make the border of the right-most axis visible, we need to turn the frame\n",
    "# on. This hides the other plots, however, so we need to turn its fill off.\n",
    "ax3.set_frame_on(True)\n",
    "ax3.patch.set_visible(False)\n",
    "\n",
    "\n",
    "#ax.plot(bins,np.linspace(0,1,11))\n",
    "plt.subplots_adjust(bottom=0.15)\n",
    "plt.grid(False,which='both')\n",
    "ax.set_ylabel('Frequency')\n",
    "ax.yaxis.label.set_color('Blue')\n",
    "plt.tight_layout()\n",
    "# #Save the image\n",
    "\n",
    "filename='Corr_StabilitySelection_TH2'\n",
    "save_format='png'\n",
    "#print filename+'.'+save_format\n",
    "#pp='home/ralfahad/Pictures'\n",
    "#plt.savefig(filename+'.'+save_format,dpi=100)\n",
    "plt.savefig(filename+'.'+save_format,dpi=300, bbox_inches='tight')\n",
    "plt.show()\n",
    "\n"
   ]
  },
  {
   "cell_type": "code",
   "execution_count": 36,
   "metadata": {},
   "outputs": [
    {
     "name": "stdout",
     "output_type": "stream",
     "text": [
      "0.17 0.91 0.91 281\n",
      "0.25 0.89 0.88 193\n",
      "0.34 0.90 0.89 117\n",
      "0.42 0.87 0.87 68\n",
      "0.51 0.82 0.81 27\n",
      "0.59 0.70 0.69 9\n",
      "0.68 0.66 0.63 5\n",
      "0.76 0.64 0.62 3\n"
     ]
    },
    {
     "data": {
      "text/html": [
       "<div>\n",
       "<style scoped>\n",
       "    .dataframe tbody tr th:only-of-type {\n",
       "        vertical-align: middle;\n",
       "    }\n",
       "\n",
       "    .dataframe tbody tr th {\n",
       "        vertical-align: top;\n",
       "    }\n",
       "\n",
       "    .dataframe thead th {\n",
       "        text-align: right;\n",
       "    }\n",
       "</style>\n",
       "<table border=\"1\" class=\"dataframe\">\n",
       "  <thead>\n",
       "    <tr style=\"text-align: right;\">\n",
       "      <th></th>\n",
       "      <th>Threshold</th>\n",
       "      <th>ACC</th>\n",
       "      <th>AUC</th>\n",
       "      <th>NoEle</th>\n",
       "    </tr>\n",
       "  </thead>\n",
       "  <tbody>\n",
       "    <tr>\n",
       "      <th>0</th>\n",
       "      <td>0.17</td>\n",
       "      <td>0.91</td>\n",
       "      <td>0.91</td>\n",
       "      <td>281</td>\n",
       "    </tr>\n",
       "    <tr>\n",
       "      <th>1</th>\n",
       "      <td>0.25</td>\n",
       "      <td>0.89</td>\n",
       "      <td>0.88</td>\n",
       "      <td>193</td>\n",
       "    </tr>\n",
       "    <tr>\n",
       "      <th>2</th>\n",
       "      <td>0.34</td>\n",
       "      <td>0.90</td>\n",
       "      <td>0.89</td>\n",
       "      <td>117</td>\n",
       "    </tr>\n",
       "    <tr>\n",
       "      <th>3</th>\n",
       "      <td>0.42</td>\n",
       "      <td>0.87</td>\n",
       "      <td>0.87</td>\n",
       "      <td>68</td>\n",
       "    </tr>\n",
       "    <tr>\n",
       "      <th>4</th>\n",
       "      <td>0.51</td>\n",
       "      <td>0.82</td>\n",
       "      <td>0.81</td>\n",
       "      <td>27</td>\n",
       "    </tr>\n",
       "    <tr>\n",
       "      <th>5</th>\n",
       "      <td>0.59</td>\n",
       "      <td>0.70</td>\n",
       "      <td>0.69</td>\n",
       "      <td>9</td>\n",
       "    </tr>\n",
       "    <tr>\n",
       "      <th>6</th>\n",
       "      <td>0.68</td>\n",
       "      <td>0.66</td>\n",
       "      <td>0.63</td>\n",
       "      <td>5</td>\n",
       "    </tr>\n",
       "    <tr>\n",
       "      <th>7</th>\n",
       "      <td>0.76</td>\n",
       "      <td>0.64</td>\n",
       "      <td>0.62</td>\n",
       "      <td>3</td>\n",
       "    </tr>\n",
       "  </tbody>\n",
       "</table>\n",
       "</div>"
      ],
      "text/plain": [
       "  Threshold   ACC   AUC  NoEle\n",
       "0      0.17  0.91  0.91    281\n",
       "1      0.25  0.89  0.88    193\n",
       "2      0.34  0.90  0.89    117\n",
       "3      0.42  0.87  0.87     68\n",
       "4      0.51  0.82  0.81     27\n",
       "5      0.59  0.70  0.69      9\n",
       "6      0.68  0.66  0.63      5\n",
       "7      0.76  0.64  0.62      3"
      ]
     },
     "execution_count": 36,
     "metadata": {},
     "output_type": "execute_result"
    }
   ],
   "source": [
    "# for i,j in zip(Th_2_Bins,AUC_Th2):\n",
    "#     print i,j\n",
    "All_ACC=[]\n",
    "All_AUC=[]\n",
    "ALL_Bins=[]\n",
    "NumberofElement=[]\n",
    "for i,j,k in zip(Th_2_Bins,ACC_Th2,AUC_Th2):\n",
    "    Th2Index=np.squeeze(np.asarray(np.where(clf.scores_>=i)))\n",
    "    print (\"{0:.2f}\".format(i)),(\"{0:.2f}\".format(j)),(\"{0:.2f}\".format(k)),len(Th2Index)\n",
    "    NumberofElement.append(len(Th2Index))\n",
    "    ALL_Bins.append(\"{0:.2f}\".format(i))\n",
    "    All_ACC.append(\"{0:.2f}\".format(j))\n",
    "    All_AUC.append(\"{0:.2f}\".format(k))\n",
    "\n",
    "Selected_Feature_Result=pd.concat([pd.DataFrame(ALL_Bins),pd.DataFrame(All_ACC),\n",
    "           pd.DataFrame(All_AUC),pd.DataFrame(NumberofElement)],axis=1)\n",
    "Selected_Feature_Result.columns=['Threshold','ACC','AUC','NoEle']\n",
    "Selected_Feature_Result"
   ]
  },
  {
   "cell_type": "code",
   "execution_count": 37,
   "metadata": {},
   "outputs": [
    {
     "data": {
      "text/plain": [
       "array([  14,   17,   58,   62,  126,  140,  148,  154,  157,  166,  178,  180,  184,  201,  217,  226,  229,\n",
       "        238,  242,  248,  262,  269,  272,  283,  306,  311,  321,  326,  337,  338,  345,  357,  361,  370,\n",
       "        389,  405,  428,  438,  445,  447,  461,  462,  466,  472,  473,  476,  477,  490,  491,  497,  499,\n",
       "        502,  526,  532,  545,  574,  576,  590,  598,  605,  609,  647,  658,  659,  689,  694,  699,  740,\n",
       "        752,  759,  762,  801,  808,  813,  820,  821,  843,  859,  871,  887,  933,  938,  939,  942,  960,\n",
       "        983,  989,  996, 1006, 1007, 1024, 1040, 1068, 1069, 1092, 1102, 1136, 1156, 1157, 1170, 1171, 1177,\n",
       "       1187, 1195, 1206, 1218, 1228, 1229, 1237, 1238, 1261, 1352, 1356, 1374, 1420, 1422, 1424])"
      ]
     },
     "execution_count": 37,
     "metadata": {},
     "output_type": "execute_result"
    }
   ],
   "source": [
    "# Need to chage gamma range . It is selecting too many features\n",
    "\n",
    "# Let 0.34 is our best Thr. TO get the index numer with this thr\n",
    "\n",
    "\n",
    "fealoc=np.squeeze(np.asarray(np.where(clf.scores_>=0.34)))\n",
    "fealoc\n",
    "\n",
    "# Do you get it? yes > How about number of support of the model?"
   ]
  },
  {
   "cell_type": "code",
   "execution_count": 38,
   "metadata": {},
   "outputs": [
    {
     "data": {
      "text/plain": [
       "(array([ 0,  1,  3,  4,  5,  8,  9, 11, 12, 13, 14, 15, 17, 18, 19, 20, 21, 22, 23, 25, 26, 27, 30, 31, 32,\n",
       "        34, 35, 37, 38, 39, 42, 43, 44, 46, 47, 48, 49, 50, 53, 54, 55, 56, 58, 60, 61, 62, 64, 65, 66]),\n",
       " array([3, 3, 1, 6, 3, 1, 1, 2, 1, 2, 8, 2, 2, 1, 1, 2, 4, 1, 1, 1, 1, 1, 4, 2, 1, 2, 1, 3, 1, 3, 1, 1, 3, 2,\n",
       "        1, 3, 4, 2, 2, 5, 3, 1, 5, 4, 1, 3, 3, 7, 1]))"
      ]
     },
     "execution_count": 38,
     "metadata": {},
     "output_type": "execute_result"
    }
   ],
   "source": [
    "ROI=fealoc%68\n",
    "ROI\n",
    "np.unique(ROI,return_counts=True)"
   ]
  },
  {
   "cell_type": "code",
   "execution_count": 39,
   "metadata": {},
   "outputs": [
    {
     "data": {
      "text/plain": [
       "49"
      ]
     },
     "execution_count": 39,
     "metadata": {},
     "output_type": "execute_result"
    }
   ],
   "source": [
    "len(np.unique(ROI))\n",
    "# np.unique(ROI,return_counts=True)"
   ]
  },
  {
   "cell_type": "code",
   "execution_count": 40,
   "metadata": {},
   "outputs": [
    {
     "name": "stdout",
     "output_type": "stream",
     "text": [
      "Fitting 5 folds for each of 25 candidates, totalling 125 fits\n"
     ]
    },
    {
     "name": "stderr",
     "output_type": "stream",
     "text": [
      "[Parallel(n_jobs=-1)]: Done  42 tasks      | elapsed:   12.5s\n",
      "[Parallel(n_jobs=-1)]: Done 125 out of 125 | elapsed:   29.6s finished\n"
     ]
    },
    {
     "name": "stdout",
     "output_type": "stream",
     "text": [
      "(1503, 281) (1503, 1)\n",
      "Finish tuning\n",
      "47.3053892216\n",
      "Fitting 5 folds for each of 25 candidates, totalling 125 fits\n"
     ]
    },
    {
     "name": "stderr",
     "output_type": "stream",
     "text": [
      "[Parallel(n_jobs=-1)]: Done  42 tasks      | elapsed:    8.9s\n",
      "[Parallel(n_jobs=-1)]: Done 125 out of 125 | elapsed:   21.5s finished\n"
     ]
    },
    {
     "name": "stdout",
     "output_type": "stream",
     "text": [
      "(1503, 198) (1503, 1)\n",
      "Finish tuning\n",
      "44.1117764471\n",
      "Fitting 5 folds for each of 25 candidates, totalling 125 fits\n"
     ]
    },
    {
     "name": "stderr",
     "output_type": "stream",
     "text": [
      "[Parallel(n_jobs=-1)]: Done  42 tasks      | elapsed:    6.0s\n",
      "[Parallel(n_jobs=-1)]: Done 125 out of 125 | elapsed:   14.2s finished\n"
     ]
    },
    {
     "name": "stdout",
     "output_type": "stream",
     "text": [
      "(1503, 117) (1503, 1)\n",
      "Finish tuning\n",
      "58.5495675316\n",
      "Fitting 5 folds for each of 25 candidates, totalling 125 fits\n"
     ]
    },
    {
     "name": "stderr",
     "output_type": "stream",
     "text": [
      "[Parallel(n_jobs=-1)]: Done  42 tasks      | elapsed:    4.3s\n",
      "[Parallel(n_jobs=-1)]: Done 125 out of 125 | elapsed:   10.0s finished\n"
     ]
    },
    {
     "name": "stdout",
     "output_type": "stream",
     "text": [
      "(1503, 68) (1503, 1)\n",
      "Finish tuning\n",
      "46.373918829\n"
     ]
    }
   ],
   "source": [
    "for th in [0.17, 0.25,0.34,0.42]:\n",
    "    clf_Tune.fit(X_train[:,np.squeeze(np.asarray(np.where(clf.scores_>=th)))],y_train)\n",
    "    print X_train[:,np.squeeze(np.asarray(np.where(clf.scores_>=th)))].shape ,y_train.shape\n",
    "    print 'Finish tuning'\n",
    "    print float(len(clf_Tune.best_estimator_.support_vectors_))/X_train[:,np.squeeze(np.asarray(np.where(clf.scores_>=th)))].shape[0]*100\n",
    "# use tuned parameter on to get model\n",
    "#y_p = clf_Tune.best_estimator_.predict(X_test[:,np.squeeze(np.asarray(np.where(clf.scores_>=i)))])"
   ]
  },
  {
   "cell_type": "code",
   "execution_count": 41,
   "metadata": {},
   "outputs": [
    {
     "data": {
      "text/plain": [
       "46.373918829008645"
      ]
     },
     "execution_count": 41,
     "metadata": {},
     "output_type": "execute_result"
    }
   ],
   "source": [
    "float(len(clf_Tune.best_estimator_.support_vectors_))/X_train[:,np.squeeze(np.asarray(np.where(clf.scores_>=0.25)))].shape[0]*100"
   ]
  },
  {
   "cell_type": "code",
   "execution_count": 42,
   "metadata": {},
   "outputs": [],
   "source": [
    "# result it overfitting need to be less or equal to 40%"
   ]
  },
  {
   "cell_type": "markdown",
   "metadata": {},
   "source": [
    "# Sultan----------->>>>>>>>>>>>>>>>>>>> End Here "
   ]
  },
  {
   "cell_type": "code",
   "execution_count": 43,
   "metadata": {},
   "outputs": [
    {
     "data": {
      "text/plain": [
       "array([ 0,  1,  7,  8,  0, 67])"
      ]
     },
     "execution_count": 43,
     "metadata": {},
     "output_type": "execute_result"
    }
   ],
   "source": [
    "a=[0,1,7,8,68,1427]\n",
    "b=np.array(a)\n",
    "b%68"
   ]
  },
  {
   "cell_type": "code",
   "execution_count": null,
   "metadata": {},
   "outputs": [],
   "source": []
  },
  {
   "cell_type": "code",
   "execution_count": null,
   "metadata": {},
   "outputs": [],
   "source": []
  },
  {
   "cell_type": "code",
   "execution_count": null,
   "metadata": {},
   "outputs": [],
   "source": []
  },
  {
   "cell_type": "code",
   "execution_count": null,
   "metadata": {},
   "outputs": [],
   "source": []
  },
  {
   "cell_type": "code",
   "execution_count": null,
   "metadata": {},
   "outputs": [],
   "source": []
  },
  {
   "cell_type": "code",
   "execution_count": null,
   "metadata": {},
   "outputs": [],
   "source": []
  },
  {
   "cell_type": "code",
   "execution_count": null,
   "metadata": {},
   "outputs": [],
   "source": []
  }
 ],
 "metadata": {
  "kernelspec": {
   "display_name": "Python 2",
   "language": "python",
   "name": "python2"
  },
  "language_info": {
   "codemirror_mode": {
    "name": "ipython",
    "version": 2
   },
   "file_extension": ".py",
   "mimetype": "text/x-python",
   "name": "python",
   "nbconvert_exporter": "python",
   "pygments_lexer": "ipython2",
   "version": "2.7.6"
  }
 },
 "nbformat": 4,
 "nbformat_minor": 2
}
