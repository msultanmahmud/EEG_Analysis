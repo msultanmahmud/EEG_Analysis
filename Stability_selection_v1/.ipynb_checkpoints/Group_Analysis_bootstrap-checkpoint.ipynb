{
 "cells": [
  {
   "cell_type": "markdown",
   "metadata": {},
   "source": [
    "This notebook will analyse Dr. Bidelmans data. <br>\n",
    "This is static group approach <br>\n",
    "Step EEG data> Group EEG with class label and mean> make Corr and TE martix> send to matlab to use BCT> bring in xlsx file of network features and analysis them \n"
   ]
  },
  {
   "cell_type": "code",
   "execution_count": 1,
   "metadata": {},
   "outputs": [
    {
     "name": "stdout",
     "output_type": "stream",
     "text": [
      "6.0\n"
     ]
    }
   ],
   "source": [
    "#Example Run a matlab code in python\n",
    "import matlab.engine\n",
    "eng = matlab.engine.start_matlab()\n",
    "ret = eng.test(1.0,5.0) # start python in the drectory with test.m function\n",
    "print(ret)"
   ]
  },
  {
   "cell_type": "code",
   "execution_count": 2,
   "metadata": {},
   "outputs": [],
   "source": [
    "# Import library\n",
    "import pandas as pd\n",
    "import numpy as np\n",
    "import sys\n",
    "sys.path.append('/home/ralfahad/PythonUtility/PTE')\n",
    "from PhaseTE_MF import PhaseTE_MF\n",
    "from scipy import stats\n",
    "import seaborn as sns\n",
    "from matplotlib import pyplot as plt\n",
    "from collections import Counter\n",
    "import warnings\n",
    "warnings.filterwarnings('ignore')"
   ]
  },
  {
   "cell_type": "code",
   "execution_count": 3,
   "metadata": {},
   "outputs": [
    {
     "data": {
      "text/html": [
       "<div>\n",
       "<style scoped>\n",
       "    .dataframe tbody tr th:only-of-type {\n",
       "        vertical-align: middle;\n",
       "    }\n",
       "\n",
       "    .dataframe tbody tr th {\n",
       "        vertical-align: top;\n",
       "    }\n",
       "\n",
       "    .dataframe thead th {\n",
       "        text-align: right;\n",
       "    }\n",
       "</style>\n",
       "<table border=\"1\" class=\"dataframe\">\n",
       "  <thead>\n",
       "    <tr style=\"text-align: right;\">\n",
       "      <th></th>\n",
       "      <th>Subject#</th>\n",
       "      <th>Session Date</th>\n",
       "      <th>Sex</th>\n",
       "      <th>Age</th>\n",
       "      <th>Ed.</th>\n",
       "      <th>Edinburgh Hand. Score (%)</th>\n",
       "      <th>Yrs of music training</th>\n",
       "      <th>Onset Age of music</th>\n",
       "      <th>Languages other than English</th>\n",
       "      <th>Primary Instrument(s)</th>\n",
       "      <th>index</th>\n",
       "      <th>SubjectName</th>\n",
       "      <th>ResponseTime</th>\n",
       "      <th>BehaveResponse</th>\n",
       "      <th>TrigsAll_Edit</th>\n",
       "      <th>Cluster</th>\n",
       "    </tr>\n",
       "  </thead>\n",
       "  <tbody>\n",
       "    <tr>\n",
       "      <th>0</th>\n",
       "      <td>S1</td>\n",
       "      <td>May 20th 2014</td>\n",
       "      <td>F</td>\n",
       "      <td>28</td>\n",
       "      <td>20</td>\n",
       "      <td>80.0</td>\n",
       "      <td>1.0</td>\n",
       "      <td>7.0</td>\n",
       "      <td>None</td>\n",
       "      <td>Violin</td>\n",
       "      <td>0</td>\n",
       "      <td>S1</td>\n",
       "      <td>606</td>\n",
       "      <td>oo</td>\n",
       "      <td>4</td>\n",
       "      <td>2</td>\n",
       "    </tr>\n",
       "    <tr>\n",
       "      <th>1</th>\n",
       "      <td>S1</td>\n",
       "      <td>May 20th 2014</td>\n",
       "      <td>F</td>\n",
       "      <td>28</td>\n",
       "      <td>20</td>\n",
       "      <td>80.0</td>\n",
       "      <td>1.0</td>\n",
       "      <td>7.0</td>\n",
       "      <td>None</td>\n",
       "      <td>Violin</td>\n",
       "      <td>1</td>\n",
       "      <td>S1</td>\n",
       "      <td>358</td>\n",
       "      <td>oo</td>\n",
       "      <td>2</td>\n",
       "      <td>1</td>\n",
       "    </tr>\n",
       "  </tbody>\n",
       "</table>\n",
       "</div>"
      ],
      "text/plain": [
       "  Subject#   Session Date Sex  Age  Ed.  Edinburgh Hand. Score (%)  \\\n",
       "0       S1  May 20th 2014   F   28   20                       80.0   \n",
       "1       S1  May 20th 2014   F   28   20                       80.0   \n",
       "\n",
       "   Yrs of music training  Onset Age of music Languages other than English  \\\n",
       "0                    1.0                 7.0                         None   \n",
       "1                    1.0                 7.0                         None   \n",
       "\n",
       "  Primary Instrument(s)  index SubjectName  ResponseTime BehaveResponse  \\\n",
       "0               Violin       0          S1           606             oo   \n",
       "1               Violin       1          S1           358             oo   \n",
       "\n",
       "   TrigsAll_Edit  Cluster  \n",
       "0              4        2  \n",
       "1              2        1  "
      ]
     },
     "execution_count": 3,
     "metadata": {},
     "output_type": "execute_result"
    }
   ],
   "source": [
    "#Load the metadata, This data is generated from \n",
    "#http://rakibubuntu.engr.memphis.edu:7777/notebooks/Bidelman/PythonCode/MetadataVisualization.ipynb\n",
    "# to use cluster as class label\n",
    "Metadata=pd.read_excel('/home/ralfahad/Bidelman/PythonCode/MetaDataWithRTCluster.xlsx', index_col=None)\n",
    "#Metadata.rename(index=str, columns={\"TrigsAll_Edit\":'Token'}, inplace=True)\n",
    "Metadata.head(2)\n",
    "\n"
   ]
  },
  {
   "cell_type": "code",
   "execution_count": 4,
   "metadata": {},
   "outputs": [],
   "source": [
    "#Function to convert martix to corrrelation vector\n",
    "\n",
    "def MatrixToCorrArray(Matrix):\n",
    "    \"\"\"\n",
    "    This function function take a matrix and calcualte correlation rawwise\n",
    "    \n",
    "    return upper diagonal value of correaltion matrix \n",
    "    \n",
    "    example A=MatrixToCorrArray(a)\n",
    "    \n",
    "    \"\"\"\n",
    "    M=np.corrcoef(Matrix) #Return Pearson product-moment correlation coefficients.\n",
    "    RMat=[]\n",
    "    for i in range(M.shape[0]):\n",
    "        for j in range(M.shape[1]):\n",
    "            if i==j:\n",
    "                pass  \n",
    "            elif i < j:\n",
    "                pass        \n",
    "            else:\n",
    "                RMat.append(M[i,j])\n",
    "    \n",
    "    return np.asarray(RMat)\n",
    "\n",
    "\n",
    "#Function to convert martix to PTE vector\n",
    "\n",
    "def MatrixToPTEArray(Matrix):\n",
    "    \"\"\"\n",
    "    This function function take a matrix and calcualte PTE rawwise\n",
    "    \n",
    "    return upper and lower diagonal value of PTE matrix \n",
    "    \n",
    "    example: A=MatrixToPTEArray(a)\n",
    "    \n",
    "    \"\"\"\n",
    "    #dPTE, M = PhaseTE_MF(np.transpose(Matrix), binsize=10)  # return nortmalized and non-normalized PTE\n",
    "    M,dPTE = PhaseTE_MF(np.transpose(Matrix))  # return nortmalized and non-normalized PTE\n",
    "    RMat=[]\n",
    "    for i in range(M.shape[0]):\n",
    "        for j in range(M.shape[1]):\n",
    "            if i==j:\n",
    "                pass        \n",
    "            else:\n",
    "                RMat.append(M[i,j])\n",
    "    \n",
    "    return np.asarray(RMat) # return PTE value\n"
   ]
  },
  {
   "cell_type": "markdown",
   "metadata": {},
   "source": [
    "## Load 68 ROI Scout data generated from brainstorm"
   ]
  },
  {
   "cell_type": "code",
   "execution_count": 5,
   "metadata": {},
   "outputs": [
    {
     "name": "stdout",
     "output_type": "stream",
     "text": [
      "Subject1.mat\n",
      "S1\n",
      "Subject2.mat\n",
      "S2\n",
      "Subject3.mat\n",
      "S3\n",
      "Subject4.mat\n",
      "S4\n",
      "Subject5.mat\n",
      "S5\n",
      "Subject6.mat\n",
      "S6\n",
      "Subject7.mat\n",
      "S7\n",
      "Subject8.mat\n",
      "S8\n",
      "Subject9.mat\n",
      "S9\n",
      "Subject10.mat\n",
      "S10\n",
      "Subject11.mat\n",
      "S11\n",
      "Subject12.mat\n",
      "S12\n",
      "Subject13.mat\n",
      "S13\n",
      "Subject14.mat\n",
      "S14\n",
      "Subject15.mat\n",
      "S15\n",
      "Subject16.mat\n",
      "S16\n",
      "Subject17.mat\n",
      "S17\n",
      "Subject18.mat\n",
      "S18\n",
      "Subject19.mat\n",
      "S19\n",
      "Subject20.mat\n",
      "S20\n",
      "Subject21.mat\n",
      "S21\n",
      "Subject22.mat\n",
      "T1\n",
      "Subject23.mat\n",
      "T2\n",
      "Subject24.mat\n",
      "T3\n",
      "Subject25.mat\n",
      "T4\n",
      "Subject26.mat\n",
      "T5\n",
      "Subject27.mat\n",
      "T6\n",
      "Subject28.mat\n",
      "T7\n",
      "Subject29.mat\n",
      "T8\n",
      "Subject30.mat\n",
      "T9\n",
      "Subject31.mat\n",
      "T10\n",
      "Subject32.mat\n",
      "T11\n",
      "Subject33.mat\n",
      "T12\n",
      "Subject34.mat\n",
      "T13\n",
      "Subject35.mat\n",
      "T14\n"
     ]
    }
   ],
   "source": [
    "import scipy.io as spio\n",
    "ROI=68\n",
    "DataLocation='/home/ralfahad/Matlab/AllBrainstormScoutFiles/'\n",
    "CorrDataAll=[] # save all subjects corr data\n",
    "PTEDataAll=[] # save all subjects corr data\n",
    "SubInfo=[]\n",
    "TokenInfo=[]\n",
    "Cnt=0\n",
    "for i in range(1,36,1): # itterate through all subject\n",
    "    print 'Subject'+str(i)+'.mat'\n",
    "    Data_Mat_file='Subject'+str(i)+'.mat'\n",
    "    filepath = DataLocation+Data_Mat_file\n",
    "    S_Mat = spio.loadmat(filepath,squeeze_me=True)\n",
    "    #S_SubjectName=np.transpose(S_Label_Mat['SubjectName'])\n",
    "    S=S_Mat['Value']\n",
    "    #print S.shape\n",
    "    S_reshaped=S.reshape(S.shape[0]/ROI,ROI,S.shape[1]) # convert (56304, 500) to (828, 68, 500)\n",
    "    #print S_reshaped.shape\n",
    "    if i<=21: # some data name with T\n",
    "        MetadataSubjectName='S'+str(i)\n",
    "    else:\n",
    "        MetadataSubjectName='T'+str(i-21)\n",
    "\n",
    "    print MetadataSubjectName\n",
    "    for j in range(3): # only consider 3 cluster label\n",
    "        for k in range(30):\n",
    "            Cluster0Data=S_reshaped[Metadata[(Metadata['Subject#']==MetadataSubjectName) & \n",
    "             (Metadata['Cluster']!=3)& # do not consider cluster 3 as it is outlaier\n",
    "             (Metadata['Cluster']==j) #\n",
    "                ].sample(n=100,replace=True).index - Cnt].mean(axis=0)\n",
    "\n",
    "           #PTEDataAll.append(MatrixToPTEArray(Cluster0Data))\n",
    "            try:\n",
    "                CorrDataAll.append(MatrixToCorrArray(Cluster0Data)) # Save corr data\n",
    "            except:\n",
    "                print 'Corr can not calcuate for sub:', MetadataSubjectName\n",
    "                pass\n",
    "            try:\n",
    "                PTEDataAll.append(MatrixToPTEArray(Cluster0Data)) # Save PTE data\n",
    "            except:\n",
    "                print 'PTE can not calcuate for sub:', MetadataSubjectName\n",
    "                pass\n",
    "            #save subject info\n",
    "            S_I=MetadataSubjectName+'_Corr_CL_'+str(j)\n",
    "            SubInfo.append(S_I)\n",
    "            TokenInfo.append(j)\n",
    "    Cnt=Cnt+S_reshaped.shape[0]"
   ]
  },
  {
   "cell_type": "code",
   "execution_count": 11,
   "metadata": {},
   "outputs": [
    {
     "data": {
      "text/plain": [
       "array([0, 0, 0, ..., 2, 2, 2])"
      ]
     },
     "execution_count": 11,
     "metadata": {},
     "output_type": "execute_result"
    }
   ],
   "source": [
    "len(CorrDataAll)== 35*3*100, 35*3*30, 68*68-68\n",
    "np.asarray(TokenInfo)"
   ]
  },
  {
   "cell_type": "code",
   "execution_count": 7,
   "metadata": {},
   "outputs": [
    {
     "data": {
      "text/plain": [
       "((3150,), (3150, 2278))"
      ]
     },
     "execution_count": 7,
     "metadata": {},
     "output_type": "execute_result"
    }
   ],
   "source": [
    "np.asarray(TokenInfo).shape, np.asarray(CorrDataAll).shape\n"
   ]
  },
  {
   "cell_type": "code",
   "execution_count": 862,
   "metadata": {},
   "outputs": [
    {
     "data": {
      "text/plain": [
       "1050"
      ]
     },
     "execution_count": 862,
     "metadata": {},
     "output_type": "execute_result"
    }
   ],
   "source": [
    "3150/3"
   ]
  },
  {
   "cell_type": "code",
   "execution_count": 59,
   "metadata": {},
   "outputs": [
    {
     "data": {
      "text/plain": [
       "((3150, 2278), (3150, 4556), (3150,), (3150,))"
      ]
     },
     "execution_count": 59,
     "metadata": {},
     "output_type": "execute_result"
    }
   ],
   "source": [
    "np.asarray(CorrDataAll).shape, np.asarray(PTEDataAll).shape, np.asarray(SubInfo).shape, np.asarray(TokenInfo).shape\n",
    "#pd.concat([pd.DataFrame(np.asarray(SubInfo)),pd.DataFrame(np.asarray(TokenInfo))],axis=1)\n"
   ]
  },
  {
   "cell_type": "code",
   "execution_count": 63,
   "metadata": {},
   "outputs": [],
   "source": [
    "#Save the data in mat file\n",
    "import numpy, scipy.io\n",
    "scipy.io.savemat('/home/ralfahad/Bidelman/PythonCode/GeneratedData/CorrData_bootstrap.mat',\n",
    "                 mdict={'CorrData': np.asarray(CorrDataAll)})\n",
    "scipy.io.savemat('/home/ralfahad/Bidelman/PythonCode/GeneratedData/PTE_bootstrap.mat',\n",
    "                 mdict={'CorrData': np.asarray(PTEDataAll)})\n",
    "\n"
   ]
  },
  {
   "cell_type": "markdown",
   "metadata": {},
   "source": [
    "# Corr based undirected graph"
   ]
  },
  {
   "cell_type": "code",
   "execution_count": 873,
   "metadata": {},
   "outputs": [
    {
     "name": "stdout",
     "output_type": "stream",
     "text": [
      "KruskalResult(statistic=3.9914097336568375, pvalue=0.13591781643420228) Charactersics_path\n",
      "KruskalResult(statistic=0.3760094980480062, pvalue=0.8286107721308906) Average_clustering_coefficient\n",
      "KruskalResult(statistic=5.013476410829753, pvalue=0.08153375233276665) Small_worldness\n",
      "KruskalResult(statistic=10.520389141265696, pvalue=0.005194293963313121) Assortativity\n",
      "KruskalResult(statistic=7.078887224803111, pvalue=0.029029474229194815) Global efficiency\n",
      "KruskalResult(statistic=0.34298224902158836, pvalue=0.8424077447676899) transitivity\n",
      "KruskalResult(statistic=0.8260289561458194, pvalue=0.6616527033024225) maximized modularity\n"
     ]
    }
   ],
   "source": [
    "# Load Generated network features form matlab\n",
    "NetworkMeasuresName=['Charactersics_path',\n",
    "'Average_clustering_coefficient', \n",
    "'Small_worldness',\n",
    "'Assortativity',\n",
    "'Global efficiency', \n",
    "'transitivity',\n",
    "'maximized modularity']\n",
    "Static_Group_NetworkMeasures = spio.loadmat(\n",
    "    '/home/ralfahad/Bidelman/PythonCode/GeneratedData/Static_Group_NetworkMeasures_BootStrap.mat',\n",
    "                     squeeze_me=True)['featureMatrix']\n",
    "\n",
    "Clusters=pd.DataFrame(np.asarray(TokenInfo))\n",
    "Clusters.columns=[\"Cluster\"]\n",
    "Static_Group_NetworkMeasures=pd.DataFrame(Static_Group_NetworkMeasures)\n",
    "Static_Group_NetworkMeasures.columns=NetworkMeasuresName\n",
    "df=pd.concat([Clusters, pd.DataFrame(Static_Group_NetworkMeasures)], axis=1)\n",
    "\n",
    "for i in NetworkMeasuresName:\n",
    "    x=df[df['Cluster']==0][i]\n",
    "    y=df[df['Cluster']==1][i]\n",
    "    z=df[df['Cluster']==2][i]\n",
    "    print stats.kruskal(x, y,z),i\n",
    "    \n",
    "    \n",
    "    "
   ]
  },
  {
   "cell_type": "markdown",
   "metadata": {},
   "source": [
    "# Write Median values"
   ]
  },
  {
   "cell_type": "code",
   "execution_count": 1039,
   "metadata": {},
   "outputs": [],
   "source": [
    "NetworkMeasurMedianIndivisual=pd.concat([df[df['Cluster']==0].mean(),\n",
    "           df[df['Cluster']==1].mean(),\n",
    "          df[df['Cluster']==2].mean()],\n",
    "          axis=1)\n",
    "NetworkMeasurMedianIndivisual.columns=['Group0','Group1','Group2']\n",
    "NetworkMeasurMedianIndivisual\n",
    "#Save as xlsx\n",
    "Fname='NetworkMeasurMeanIndivisual.xlsx'\n",
    "writer = pd.ExcelWriter(Fname, engine='xlsxwriter')\n",
    "NetworkMeasurMedianIndivisual.to_excel(writer, sheet_name='Sheet1')\n",
    "writer.save()"
   ]
  },
  {
   "cell_type": "markdown",
   "metadata": {},
   "source": [
    "# PTE based directecd connectivity"
   ]
  },
  {
   "cell_type": "code",
   "execution_count": 9,
   "metadata": {},
   "outputs": [
    {
     "name": "stdout",
     "output_type": "stream",
     "text": [
      "KruskalResult(statistic=5.18368346139323, pvalue=0.07488200052950306) Charactersics_path\n",
      "KruskalResult(statistic=5.081401548513895, pvalue=0.07881115160847639) Average_clustering_coefficient\n",
      "KruskalResult(statistic=8.998932956819772, pvalue=0.011114925009082932) Small_worldness\n",
      "KruskalResult(statistic=7.304745274834204, pvalue=0.025929534353616047) Assortativity1\n",
      "KruskalResult(statistic=15.479587277695828, pvalue=0.0004351613662145879) Assortativity2\n",
      "KruskalResult(statistic=8.05903905595369, pvalue=0.01778287207389307) Assortativity3\n",
      "KruskalResult(statistic=3.7741792697270284, pvalue=0.15151212338917897) Assortativity4\n",
      "KruskalResult(statistic=5.670296913553102, pvalue=0.0587098093178321) Global efficiency\n",
      "KruskalResult(statistic=5.072997777333512, pvalue=0.07914300376490287) transitivity\n",
      "KruskalResult(statistic=5.266455582974231, pvalue=0.07184618306798182) maximized modularity\n"
     ]
    }
   ],
   "source": [
    "# Load Generated network features form matlab\n",
    "NetworkMeasuresName=['Charactersics_path',\n",
    "'Average_clustering_coefficient', \n",
    "'Small_worldness',\n",
    "'Assortativity1',\n",
    "'Assortativity2',\n",
    "'Assortativity3',\n",
    "'Assortativity4',\n",
    "'Global efficiency', \n",
    "'transitivity',\n",
    "'maximized modularity']\n",
    "Static_Group_NetworkMeasures = spio.loadmat(\n",
    "    '/home/ralfahad/Bidelman/PythonCode/GeneratedData/Static_Group_NetworkMeasures_BootStrap_PTE.mat',\n",
    "                     squeeze_me=True)['featureMatrix']\n",
    "\n",
    "Clusters=pd.DataFrame(np.asarray(TokenInfo))\n",
    "Clusters.columns=[\"Cluster\"]\n",
    "Static_Group_NetworkMeasures=pd.DataFrame(Static_Group_NetworkMeasures)\n",
    "Static_Group_NetworkMeasures.columns=NetworkMeasuresName\n",
    "df=pd.concat([Clusters, pd.DataFrame(Static_Group_NetworkMeasures)], axis=1)\n",
    "\n",
    "for i in NetworkMeasuresName:\n",
    "    x=df[df['Cluster']==0][i]\n",
    "    y=df[df['Cluster']==1][i]\n",
    "    z=df[df['Cluster']==2][i]\n",
    "    print stats.kruskal(x, y,z),i"
   ]
  },
  {
   "cell_type": "code",
   "execution_count": null,
   "metadata": {},
   "outputs": [],
   "source": [
    "NetworkMeasuresName=['Charactersics_path',\n",
    "'Average_clustering_coefficient', \n",
    "'Small_worldness',\n",
    "'Assortativity',\n",
    "'Global efficiency', \n",
    "'transitivity',\n",
    "'maximized modularity']"
   ]
  },
  {
   "cell_type": "code",
   "execution_count": 408,
   "metadata": {},
   "outputs": [],
   "source": [
    "SCN=Static_Group_NetworkMeasures[['Charactersics_path', \n",
    "                                 'Small_worldness', 'Assortativity',\n",
    "                                 'Global efficiency']]\n",
    "#Static_Group_NetworkMeasures_Scale=preprocessing.scale(Static_Group_NetworkMeasures)\n"
   ]
  },
  {
   "cell_type": "code",
   "execution_count": 12,
   "metadata": {},
   "outputs": [
    {
     "name": "stdout",
     "output_type": "stream",
     "text": [
      "[1.e-02 1.e-01 1.e+00 1.e+01 1.e+02] [1.e-02 1.e-01 1.e+00 1.e+01 1.e+02]\n"
     ]
    }
   ],
   "source": [
    "C_range = np.logspace(-2, 10, 13)\n",
    "gamma_range = np.logspace(-9, 3, 5)\n",
    "C_range = np.logspace(-2, 2, 5)\n",
    "gamma_range = np.logspace(-2, 2, 5)\n",
    "\n",
    "print C_range,gamma_range\n"
   ]
  },
  {
   "cell_type": "code",
   "execution_count": 18,
   "metadata": {},
   "outputs": [
    {
     "name": "stdout",
     "output_type": "stream",
     "text": [
      "Fitting 5 folds for each of 25 candidates, totalling 125 fits\n"
     ]
    },
    {
     "name": "stderr",
     "output_type": "stream",
     "text": [
      "[Parallel(n_jobs=-1)]: Using backend LokyBackend with 24 concurrent workers.\n",
      "[Parallel(n_jobs=-1)]: Done   2 tasks      | elapsed:    2.6s\n",
      "[Parallel(n_jobs=-1)]: Done 125 out of 125 | elapsed:   25.9s finished\n"
     ]
    },
    {
     "name": "stdout",
     "output_type": "stream",
     "text": [
      "Finish tuning\n"
     ]
    }
   ],
   "source": [
    "#Classifiaction:\n",
    "# #Splitting\n",
    "from sklearn import preprocessing\n",
    "Static_Group_NetworkMeasures_Scale=preprocessing.scale(Static_Group_NetworkMeasures)\n",
    "\n",
    "X_train, X_test, y_train, y_test = train_test_split(Static_Group_NetworkMeasures_Scale, \n",
    "                                                    Clusters, \n",
    "                                                    test_size=0.4,\n",
    "                                                    random_state=42)\n",
    "cv = ShuffleSplit(X_train.shape[0], test_size=0.4, random_state=42)\n",
    "\n",
    "# Define Classifier\n",
    "svr = svm.SVC(kernel='rbf')\n",
    "\n",
    "# Deffine tuning parameter\n",
    "C_range = np.logspace(-2, 2, 5)\n",
    "gamma_range = np.logspace(-2, 2, 5)\n",
    "param_grid = dict(gamma=gamma_range, C=C_range)\n",
    "clf_Tune = GridSearchCV(estimator=svr, cv=5, param_grid=param_grid,n_jobs=-1, verbose=True)\n",
    "\n",
    "clf_Tune.fit(X_train,y_train)\n",
    "print 'Finish tuning'    \n",
    "    \n",
    "    "
   ]
  },
  {
   "cell_type": "code",
   "execution_count": 19,
   "metadata": {},
   "outputs": [
    {
     "name": "stdout",
     "output_type": "stream",
     "text": [
      "              precision    recall  f1-score   support\n",
      "\n",
      "           0       0.42      0.37      0.39       419\n",
      "           1       0.41      0.56      0.47       416\n",
      "           2       0.41      0.31      0.35       425\n",
      "\n",
      "   micro avg       0.41      0.41      0.41      1260\n",
      "   macro avg       0.41      0.41      0.41      1260\n",
      "weighted avg       0.41      0.41      0.40      1260\n",
      "\n",
      "0.4119047619047619\n"
     ]
    }
   ],
   "source": [
    "from sklearn.metrics import classification_report\n",
    "\n",
    "y_p = clf_Tune.best_estimator_.predict(X_test)\n",
    "ACC=classification_report(y_test, y_p)\n",
    "print ACC\n",
    "ACC_AVG=accuracy_score(y_test, y_p)\n",
    "print ACC_AVG"
   ]
  },
  {
   "cell_type": "code",
   "execution_count": 21,
   "metadata": {},
   "outputs": [
    {
     "data": {
      "text/plain": [
       "Text(0.5,1,\"Validation accuracy=0.408465608466, best {'C': 10.0, 'gamma': 0.1}\")"
      ]
     },
     "execution_count": 21,
     "metadata": {},
     "output_type": "execute_result"
    },
    {
     "data": {
      "image/png": "[encoded data removed]",
      "text/plain": [
       "<Figure size 576x432 with 2 Axes>"
      ]
     },
     "metadata": {
      "needs_background": "light"
     },
     "output_type": "display_data"
    }
   ],
   "source": [
    "# Utility function to move the midpoint of a colormap to be around\n",
    "# the values of interest.\n",
    "from matplotlib.colors import Normalize\n",
    "class MidpointNormalize(Normalize):\n",
    "\n",
    "    def __init__(self, vmin=None, vmax=None, midpoint=None, clip=False):\n",
    "        self.midpoint = midpoint\n",
    "        Normalize.__init__(self, vmin, vmax, clip)\n",
    "\n",
    "    def __call__(self, value, clip=None):\n",
    "        x, y = [self.vmin, self.midpoint, self.vmax], [0, 0.5, 1]\n",
    "        return np.ma.masked_array(np.interp(value, x, y))\n",
    "    \n",
    "scores = clf_Tune.cv_results_['mean_test_score'].reshape(len(C_range),len(gamma_range))\n",
    "#print scores.shape,len(C_range),len(gamma_range)\n",
    "plt.figure(figsize=(8, 6))\n",
    "#plt.subplots_adjust(left=.2, right=0.95, bottom=0.15, top=0.95)\n",
    "plt.imshow(scores, interpolation='nearest', cmap=plt.cm.hot, norm=MidpointNormalize(vmin=0.2, midpoint=0.92))\n",
    "plt.xlabel('gamma')\n",
    "plt.ylabel('C')\n",
    "plt.colorbar()\n",
    "plt.xticks(np.arange(len(gamma_range)), gamma_range, rotation=45)\n",
    "plt.yticks(np.arange(len(C_range)), C_range)\n",
    "plt.title('Validation accuracy={}, best {}' .format(clf_Tune.best_score_,clf_Tune.best_params_))\n",
    "\n",
    "#filename='ParameterTuning'\n",
    "#save_format='png'\n",
    "#print filename+'.'+save_format\n",
    "#pp='home/ralfahad/Pictures'\n",
    "#plt.savefig(filename+'.'+save_format,dpi=100)\n",
    "#plt.show()"
   ]
  },
  {
   "cell_type": "markdown",
   "metadata": {},
   "source": [
    "# Find Significant correlation with stability selections "
   ]
  },
  {
   "cell_type": "markdown",
   "metadata": {},
   "source": [
    "### Make the dataset"
   ]
  },
  {
   "cell_type": "code",
   "execution_count": 14,
   "metadata": {},
   "outputs": [
    {
     "name": "stdout",
     "output_type": "stream",
     "text": [
      "(3150, 2278) (3150,)\n",
      "(3150, 2278) (3150,)\n"
     ]
    }
   ],
   "source": [
    "\n",
    "X_Raw= np.asarray(CorrDataAll)\n",
    "y=np.asarray(TokenInfo)\n",
    "print X_Raw.shape, y.shape\n",
    "\n",
    "from sklearn import preprocessing\n",
    "X=preprocessing.scale(X_Raw)\n",
    "print X.shape,y.shape"
   ]
  },
  {
   "cell_type": "markdown",
   "metadata": {},
   "source": [
    "# TSNE Visulaization"
   ]
  },
  {
   "cell_type": "code",
   "execution_count": 15,
   "metadata": {},
   "outputs": [],
   "source": [
    "import sys\n",
    "import os\n",
    "\n",
    "from scipy import linalg as LA\n",
    "\n",
    "\n",
    "np.set_printoptions(precision=3, linewidth=110, suppress=True)\n",
    "\n",
    "\n",
    "\n",
    "\n",
    "def LDA(data, labels, dim_rescale):\n",
    "    '''\n",
    "    Linear Discriminant Analysis\n",
    "    pass in:\n",
    "        (i) a raw data array--features encoded in the cols;\n",
    "            one data instance per row;\n",
    "        (ii) EV, explanatory variable, is included in D as last column;\n",
    "        (iii) the LDA flag is set to False so PCA is the default techique;\n",
    "            if both LDA & EV are set to True then LDA is performed\n",
    "            instead of PCA\n",
    "    returns:\n",
    "        (i) eigenvalues (1D array);\n",
    "        (ii) eigenvectors (2D array)\n",
    "        (iii) covariance matrix\n",
    "    some numerical assertions:\n",
    "    >>> # sum of the eigenvalues is equal to trace of R\n",
    "    >>> x = R.trace()\n",
    "    >>> x1 = eva.sum()\n",
    "    >>> NP.allclose(x, x1)\n",
    "    True\n",
    "    >>> # determinant of R is product of eigenvalues\n",
    "    >>> q = LA.det(R)\n",
    "    >>> q1 = NP.prod(eva)\n",
    "    >>> NP.allclose(q, q1)\n",
    "    True\n",
    "    '''\n",
    "    assert data.shape[0] == labels.shape[0]\n",
    "    # mean center the data array\n",
    "    data -= data.mean(axis=0)\n",
    "    nrow, ndim = data.shape\n",
    "    # pre-allocate sw, sb arrays (both same shape as covariance matrix)\n",
    "    # s_wc: array encoding 'within class' scatter\n",
    "    # s_bc: array encoding 'between class' scatter\n",
    "    s_wc = np.zeros((ndim, ndim))\n",
    "    s_bc = np.zeros((ndim, ndim))\n",
    "    R = np.cov(data.T)\n",
    "    classes = np.unique(labels)\n",
    "    for c in range(len(classes)):\n",
    "        # create an index only for data rows whose class label = classes[c]\n",
    "        idx = np.squeeze(np.where(labels == classes[c]))\n",
    "        d = np.squeeze(data[idx,:])\n",
    "        class_cov = np.cov(d.T)\n",
    "        s_wc += float(idx.shape[0]) / nrow * class_cov\n",
    "    s_bc = R - s_wc\n",
    "    # now solve for w then compute the mapped data\n",
    "    evals, evecs = LA.eig(s_wc, s_bc)\n",
    "    np.ascontiguousarray(evals)\n",
    "    np.ascontiguousarray(evecs)\n",
    "    # sort the eigenvectors based on eigenvalues sort order\n",
    "    idx = np.argsort(evals)\n",
    "    idx = idx[::-1]\n",
    "    evecs = evecs[:,idx]\n",
    "    # take just number of eigenvectors = dim_rescale\n",
    "    evecs_dr = evecs[:,:dim_rescale]\n",
    "    # multiply data array & remaining set of eigenvectors\n",
    "    rescaled_data = np.dot(data, evecs_dr)\n",
    "    return rescaled_data, evecs_dr\n",
    "\n"
   ]
  },
  {
   "cell_type": "code",
   "execution_count": 16,
   "metadata": {},
   "outputs": [],
   "source": [
    "#rescaled_data, w = LDA(X_WM_Row_scale, y_WM_Row_scale,50)\n",
    "a, w1 = LDA(X, y, 50)# X_WM_Row_scale,y_WM_Row_scale"
   ]
  },
  {
   "cell_type": "code",
   "execution_count": 25,
   "metadata": {},
   "outputs": [
    {
     "name": "stdout",
     "output_type": "stream",
     "text": [
      "(1050, 2) (1050, 2) (1050, 2)\n",
      "tSNE_KDE_plot_edit_2.png\n"
     ]
    },
    {
     "data": {
      "image/png": "[encoded data removed]",
      "text/plain": [
       "<Figure size 432x288 with 1 Axes>"
      ]
     },
     "metadata": {
      "needs_background": "light"
     },
     "output_type": "display_data"
    }
   ],
   "source": [
    "import pandas as pd\n",
    "import seaborn as sns\n",
    "import numpy as np\n",
    "import matplotlib.pyplot as plt\n",
    "from sklearn.manifold import TSNE\n",
    "\n",
    "# tsne = TSNE(n_components=2, perplexity=3, init='pca')\n",
    "# Y = tsne.fit_transform(a)\n",
    "\n",
    "\n",
    "lb2=\"Fast RT\"\n",
    "lb3=\"Medium RT\"\n",
    "lb1=\"Slow RT\"\n",
    "fileName=\"tSNE_KDE_plot_edit_2\"\n",
    "\n",
    "a1=Y[np.where(y==0), 0]\n",
    "b1=Y[np.where(y==0), 1]\n",
    "c1= Y[np.where(y==1), 0]\n",
    "d1 = Y[np.where(y==1), 1]\n",
    "e1= Y[np.where(y==2), 0]\n",
    "f1 = Y[np.where(y==2), 1]\n",
    "\n",
    "dftt1=pd.concat([pd.DataFrame(a1),pd.DataFrame(b1)], axis=0).transpose()\n",
    "dftt2=pd.concat([pd.DataFrame(c1),\n",
    "                pd.DataFrame(d1)], axis=0).transpose()\n",
    "dftt3=pd.concat([pd.DataFrame(e1),\n",
    "                pd.DataFrame(f1)], axis=0).transpose()\n",
    "print dftt1.shape,dftt2.shape,dftt3.shape\n",
    "dftt1.columns= ['a','b']\n",
    "dftt2.columns= ['c','d']\n",
    "dftt3.columns= ['e','f']\n",
    "ax = sns.kdeplot(dftt1['a'],dftt1['b'], cmap=\"Greens\", shade=False, shade_lowest=False)\n",
    "ax = sns.regplot(dftt1['a'], dftt1['b'],marker= '.', color='g',  fit_reg=False,label=lb1)\n",
    "ax.legend(loc=\"best\",framealpha=0.0)\n",
    "# #plt.legend(loc='upper left')\n",
    "ax = sns.kdeplot(dftt2['c'],dftt2['d'],cmap=\"Reds\", shade=False, shade_lowest=False)\n",
    "ax = sns.regplot(dftt2['c'], dftt2['d'],marker= '+', color='r',  fit_reg=False, label=lb2)\n",
    "\n",
    "ax = sns.kdeplot(dftt3['e'],dftt3['f'],cmap=\"Blues\", shade=False, shade_lowest=False)\n",
    "ax = sns.regplot(dftt3['e'], dftt3['f'],marker= '*', color='b',  fit_reg=False, label=lb3)\n",
    "ax.legend(loc=\"best\",framealpha=0.0)\n",
    "\n",
    "# Add labels to the plot\n",
    "red = sns.color_palette(\"Greens\")[-2]\n",
    "blue = sns.color_palette(\"Reds\")[-2]\n",
    "ax.set_xlabel('')\n",
    "ax.set_ylabel('')\n",
    "ax.yaxis.set_ticklabels([])\n",
    "ax.xaxis.set_ticklabels([])\n",
    "# ax.spines['top'].set_visible(False)\n",
    "# ax.spines['right'].set_visible(False)\n",
    "# ax.spines['bottom'].set_visible(False)\n",
    "# ax.spines['left'].set_visible(False)\n",
    "\n",
    "#sns.despine()\n",
    "# Save image\n",
    "\n",
    "save_format='png'\n",
    "print str(fileName)+'.'+save_format\n",
    "plt.savefig(fileName+'.'+save_format,dpi=300)"
   ]
  },
  {
   "cell_type": "code",
   "execution_count": 38,
   "metadata": {},
   "outputs": [],
   "source": [
    "#Micro AUC for multiclass classification \n",
    "\n",
    "from sklearn.metrics import roc_auc_score\n",
    "from sklearn.metrics import roc_curve, auc\n",
    "from scipy import interp\n",
    "from sklearn import preprocessing\n",
    "\n",
    "def MulticlassAuc(y_test,y_p): # y_test, y_p is the test and predict data\n",
    "    lb = preprocessing.LabelBinarizer() # binarize the data\n",
    "    lb.fit(y_test)\n",
    "    n_classes=len(lb.classes_)\n",
    "    y_test_b=lb.transform(y_test)\n",
    "    y_p_b=lb.transform(y_p)\n",
    "\n",
    "    # Compute ROC curve and ROC area for each class\n",
    "    fpr = dict()\n",
    "    tpr = dict()\n",
    "    roc_auc = dict()\n",
    "    for i in range(3):\n",
    "        fpr[i], tpr[i], _ = roc_curve(y_test_b[:, i], y_p_b[:, i])\n",
    "        roc_auc[i] = auc(fpr[i], tpr[i])\n",
    "\n",
    "    # First aggregate all false positive rates\n",
    "    all_fpr = np.unique(np.concatenate([fpr[i] for i in range(n_classes)]))\n",
    "\n",
    "    # Then interpolate all ROC curves at this points\n",
    "    mean_tpr = np.zeros_like(all_fpr)\n",
    "    for i in range(n_classes):\n",
    "        mean_tpr += interp(all_fpr, fpr[i], tpr[i])\n",
    "\n",
    "    # Finally average it and compute AUC\n",
    "    mean_tpr /= n_classes\n",
    "\n",
    "    fpr[\"macro\"] = all_fpr\n",
    "    tpr[\"macro\"] = mean_tpr\n",
    "    roc_auc[\"macro\"] = auc(fpr[\"macro\"], tpr[\"macro\"])\n",
    "    return roc_auc[\"macro\"]"
   ]
  },
  {
   "cell_type": "markdown",
   "metadata": {},
   "source": [
    "### Randomized Logistic Regression "
   ]
  },
  {
   "cell_type": "code",
   "execution_count": 7,
   "metadata": {},
   "outputs": [],
   "source": [
    "from sklearn.linear_model import (RandomizedLasso, lasso_stability_path,\n",
    "                                  LassoLarsCV)\n",
    "from sklearn.exceptions import ConvergenceWarning\n",
    "\n",
    "#Model Library\n",
    "from sklearn.linear_model import (RandomizedLasso, lasso_stability_path, LassoLarsCV)\n",
    "from sklearn.model_selection import GridSearchCV\n",
    "from sklearn.linear_model import LogisticRegression, RandomizedLogisticRegression\n",
    "from sklearn import svm\n",
    "\n",
    "\n",
    "# Performance analysis library \n",
    "from sklearn.model_selection import KFold, cross_val_score, LeaveOneOut, cross_val_predict\n",
    "from sklearn.metrics import precision_recall_curve\n",
    "from sklearn.metrics import average_precision_score\n",
    "from sklearn.metrics import accuracy_score\n",
    "from sklearn.metrics import roc_curve,auc\n",
    "from sklearn.metrics import classification_report\n",
    "from sklearn.metrics import confusion_matrix\n",
    "\n",
    "\n",
    "# preprocessing\n",
    "from sklearn.preprocessing import Imputer\n",
    "from sklearn.model_selection import train_test_split # test train split\n",
    "from sklearn.model_selection import ShuffleSplit"
   ]
  },
  {
   "cell_type": "code",
   "execution_count": 10,
   "metadata": {},
   "outputs": [
    {
     "data": {
      "text/plain": [
       "array([0.00255684])"
      ]
     },
     "execution_count": 10,
     "metadata": {},
     "output_type": "execute_result"
    }
   ],
   "source": [
    "with warnings.catch_warnings():\n",
    "    #warnings.simplefilter('ignore', UserWarning)\n",
    "    warnings.simplefilter('ignore', ConvergenceWarning)\n",
    "    lars_cv = LassoLarsCV(cv=10).fit(X, y)\n",
    "lars_cv.alphas_"
   ]
  },
  {
   "cell_type": "code",
   "execution_count": 11,
   "metadata": {},
   "outputs": [
    {
     "name": "stdout",
     "output_type": "stream",
     "text": [
      "[0.00255684 0.00230115 0.00204547 0.00178979 0.0015341  0.00127842\n",
      " 0.00102273 0.00076705 0.00051137 0.00025568]\n"
     ]
    },
    {
     "name": "stderr",
     "output_type": "stream",
     "text": [
      "/home/ralfahad/anaconda2/lib/python2.7/site-packages/sklearn/utils/deprecation.py:58: DeprecationWarning: Class RandomizedLasso is deprecated; The class RandomizedLasso is deprecated in 0.19 and will be removed in 0.21.\n",
      "  warnings.warn(msg, category=DeprecationWarning)\n",
      "/home/ralfahad/anaconda2/lib/python2.7/site-packages/sklearn/utils/deprecation.py:58: DeprecationWarning: Class Memory is deprecated; deprecated in version 0.20.1 to be removed in version 0.23. Please import this functionality directly from joblib, which can be installed with: pip install joblib.\n",
      "  warnings.warn(msg, category=DeprecationWarning)\n",
      "/home/ralfahad/anaconda2/lib/python2.7/site-packages/sklearn/utils/deprecation.py:58: DeprecationWarning: Class Parallel is deprecated; deprecated in version 0.20.1 to be removed in version 0.23. Please import this functionality directly from joblib, which can be installed with: pip install joblib.\n",
      "  warnings.warn(msg, category=DeprecationWarning)\n",
      "/home/ralfahad/anaconda2/lib/python2.7/site-packages/sklearn/utils/deprecation.py:77: DeprecationWarning: Function delayed is deprecated; deprecated in version 0.20.1 to be removed in version 0.23. Please import this functionality directly from joblib, which can be installed with: pip install joblib.\n",
      "  warnings.warn(msg, category=DeprecationWarning)\n",
      "/home/ralfahad/anaconda2/lib/python2.7/site-packages/sklearn/utils/deprecation.py:77: DeprecationWarning: Function delayed is deprecated; deprecated in version 0.20.1 to be removed in version 0.23. Please import this functionality directly from joblib, which can be installed with: pip install joblib.\n",
      "  warnings.warn(msg, category=DeprecationWarning)\n",
      "/home/ralfahad/anaconda2/lib/python2.7/site-packages/sklearn/utils/deprecation.py:77: DeprecationWarning: Function delayed is deprecated; deprecated in version 0.20.1 to be removed in version 0.23. Please import this functionality directly from joblib, which can be installed with: pip install joblib.\n",
      "  warnings.warn(msg, category=DeprecationWarning)\n",
      "/home/ralfahad/anaconda2/lib/python2.7/site-packages/sklearn/utils/deprecation.py:77: DeprecationWarning: Function delayed is deprecated; deprecated in version 0.20.1 to be removed in version 0.23. Please import this functionality directly from joblib, which can be installed with: pip install joblib.\n",
      "  warnings.warn(msg, category=DeprecationWarning)\n",
      "/home/ralfahad/anaconda2/lib/python2.7/site-packages/sklearn/utils/deprecation.py:77: DeprecationWarning: Function delayed is deprecated; deprecated in version 0.20.1 to be removed in version 0.23. Please import this functionality directly from joblib, which can be installed with: pip install joblib.\n",
      "  warnings.warn(msg, category=DeprecationWarning)\n",
      "/home/ralfahad/anaconda2/lib/python2.7/site-packages/sklearn/utils/deprecation.py:77: DeprecationWarning: Function delayed is deprecated; deprecated in version 0.20.1 to be removed in version 0.23. Please import this functionality directly from joblib, which can be installed with: pip install joblib.\n",
      "  warnings.warn(msg, category=DeprecationWarning)\n",
      "/home/ralfahad/anaconda2/lib/python2.7/site-packages/sklearn/utils/deprecation.py:77: DeprecationWarning: Function delayed is deprecated; deprecated in version 0.20.1 to be removed in version 0.23. Please import this functionality directly from joblib, which can be installed with: pip install joblib.\n",
      "  warnings.warn(msg, category=DeprecationWarning)\n",
      "/home/ralfahad/anaconda2/lib/python2.7/site-packages/sklearn/utils/deprecation.py:77: DeprecationWarning: Function delayed is deprecated; deprecated in version 0.20.1 to be removed in version 0.23. Please import this functionality directly from joblib, which can be installed with: pip install joblib.\n",
      "  warnings.warn(msg, category=DeprecationWarning)\n",
      "/home/ralfahad/anaconda2/lib/python2.7/site-packages/sklearn/utils/deprecation.py:77: DeprecationWarning: Function delayed is deprecated; deprecated in version 0.20.1 to be removed in version 0.23. Please import this functionality directly from joblib, which can be installed with: pip install joblib.\n",
      "  warnings.warn(msg, category=DeprecationWarning)\n",
      "/home/ralfahad/anaconda2/lib/python2.7/site-packages/sklearn/utils/deprecation.py:77: DeprecationWarning: Function delayed is deprecated; deprecated in version 0.20.1 to be removed in version 0.23. Please import this functionality directly from joblib, which can be installed with: pip install joblib.\n",
      "  warnings.warn(msg, category=DeprecationWarning)\n",
      "/home/ralfahad/anaconda2/lib/python2.7/site-packages/sklearn/utils/deprecation.py:77: DeprecationWarning: Function delayed is deprecated; deprecated in version 0.20.1 to be removed in version 0.23. Please import this functionality directly from joblib, which can be installed with: pip install joblib.\n",
      "  warnings.warn(msg, category=DeprecationWarning)\n",
      "/home/ralfahad/anaconda2/lib/python2.7/site-packages/sklearn/utils/deprecation.py:77: DeprecationWarning: Function delayed is deprecated; deprecated in version 0.20.1 to be removed in version 0.23. Please import this functionality directly from joblib, which can be installed with: pip install joblib.\n",
      "  warnings.warn(msg, category=DeprecationWarning)\n",
      "/home/ralfahad/anaconda2/lib/python2.7/site-packages/sklearn/utils/deprecation.py:77: DeprecationWarning: Function delayed is deprecated; deprecated in version 0.20.1 to be removed in version 0.23. Please import this functionality directly from joblib, which can be installed with: pip install joblib.\n",
      "  warnings.warn(msg, category=DeprecationWarning)\n",
      "/home/ralfahad/anaconda2/lib/python2.7/site-packages/sklearn/utils/deprecation.py:77: DeprecationWarning: Function delayed is deprecated; deprecated in version 0.20.1 to be removed in version 0.23. Please import this functionality directly from joblib, which can be installed with: pip install joblib.\n",
      "  warnings.warn(msg, category=DeprecationWarning)\n",
      "/home/ralfahad/anaconda2/lib/python2.7/site-packages/sklearn/utils/deprecation.py:77: DeprecationWarning: Function delayed is deprecated; deprecated in version 0.20.1 to be removed in version 0.23. Please import this functionality directly from joblib, which can be installed with: pip install joblib.\n",
      "  warnings.warn(msg, category=DeprecationWarning)\n",
      "/home/ralfahad/anaconda2/lib/python2.7/site-packages/sklearn/utils/deprecation.py:77: DeprecationWarning: Function delayed is deprecated; deprecated in version 0.20.1 to be removed in version 0.23. Please import this functionality directly from joblib, which can be installed with: pip install joblib.\n",
      "  warnings.warn(msg, category=DeprecationWarning)\n",
      "/home/ralfahad/anaconda2/lib/python2.7/site-packages/sklearn/utils/deprecation.py:77: DeprecationWarning: Function delayed is deprecated; deprecated in version 0.20.1 to be removed in version 0.23. Please import this functionality directly from joblib, which can be installed with: pip install joblib.\n",
      "  warnings.warn(msg, category=DeprecationWarning)\n",
      "/home/ralfahad/anaconda2/lib/python2.7/site-packages/sklearn/utils/deprecation.py:77: DeprecationWarning: Function delayed is deprecated; deprecated in version 0.20.1 to be removed in version 0.23. Please import this functionality directly from joblib, which can be installed with: pip install joblib.\n",
      "  warnings.warn(msg, category=DeprecationWarning)\n",
      "/home/ralfahad/anaconda2/lib/python2.7/site-packages/sklearn/utils/deprecation.py:77: DeprecationWarning: Function delayed is deprecated; deprecated in version 0.20.1 to be removed in version 0.23. Please import this functionality directly from joblib, which can be installed with: pip install joblib.\n",
      "  warnings.warn(msg, category=DeprecationWarning)\n",
      "/home/ralfahad/anaconda2/lib/python2.7/site-packages/sklearn/utils/deprecation.py:77: DeprecationWarning: Function delayed is deprecated; deprecated in version 0.20.1 to be removed in version 0.23. Please import this functionality directly from joblib, which can be installed with: pip install joblib.\n",
      "  warnings.warn(msg, category=DeprecationWarning)\n",
      "/home/ralfahad/anaconda2/lib/python2.7/site-packages/sklearn/utils/deprecation.py:77: DeprecationWarning: Function delayed is deprecated; deprecated in version 0.20.1 to be removed in version 0.23. Please import this functionality directly from joblib, which can be installed with: pip install joblib.\n",
      "  warnings.warn(msg, category=DeprecationWarning)\n"
     ]
    },
    {
     "name": "stderr",
     "output_type": "stream",
     "text": [
      "/home/ralfahad/anaconda2/lib/python2.7/site-packages/sklearn/utils/deprecation.py:77: DeprecationWarning: Function delayed is deprecated; deprecated in version 0.20.1 to be removed in version 0.23. Please import this functionality directly from joblib, which can be installed with: pip install joblib.\n",
      "  warnings.warn(msg, category=DeprecationWarning)\n",
      "/home/ralfahad/anaconda2/lib/python2.7/site-packages/sklearn/utils/deprecation.py:77: DeprecationWarning: Function delayed is deprecated; deprecated in version 0.20.1 to be removed in version 0.23. Please import this functionality directly from joblib, which can be installed with: pip install joblib.\n",
      "  warnings.warn(msg, category=DeprecationWarning)\n",
      "/home/ralfahad/anaconda2/lib/python2.7/site-packages/sklearn/utils/deprecation.py:77: DeprecationWarning: Function delayed is deprecated; deprecated in version 0.20.1 to be removed in version 0.23. Please import this functionality directly from joblib, which can be installed with: pip install joblib.\n",
      "  warnings.warn(msg, category=DeprecationWarning)\n",
      "/home/ralfahad/anaconda2/lib/python2.7/site-packages/sklearn/utils/deprecation.py:77: DeprecationWarning: Function delayed is deprecated; deprecated in version 0.20.1 to be removed in version 0.23. Please import this functionality directly from joblib, which can be installed with: pip install joblib.\n",
      "  warnings.warn(msg, category=DeprecationWarning)\n",
      "/home/ralfahad/anaconda2/lib/python2.7/site-packages/sklearn/utils/deprecation.py:77: DeprecationWarning: Function delayed is deprecated; deprecated in version 0.20.1 to be removed in version 0.23. Please import this functionality directly from joblib, which can be installed with: pip install joblib.\n",
      "  warnings.warn(msg, category=DeprecationWarning)\n",
      "/home/ralfahad/anaconda2/lib/python2.7/site-packages/sklearn/utils/deprecation.py:77: DeprecationWarning: Function delayed is deprecated; deprecated in version 0.20.1 to be removed in version 0.23. Please import this functionality directly from joblib, which can be installed with: pip install joblib.\n",
      "  warnings.warn(msg, category=DeprecationWarning)\n",
      "/home/ralfahad/anaconda2/lib/python2.7/site-packages/sklearn/utils/deprecation.py:77: DeprecationWarning: Function delayed is deprecated; deprecated in version 0.20.1 to be removed in version 0.23. Please import this functionality directly from joblib, which can be installed with: pip install joblib.\n",
      "  warnings.warn(msg, category=DeprecationWarning)\n",
      "/home/ralfahad/anaconda2/lib/python2.7/site-packages/sklearn/utils/deprecation.py:77: DeprecationWarning: Function delayed is deprecated; deprecated in version 0.20.1 to be removed in version 0.23. Please import this functionality directly from joblib, which can be installed with: pip install joblib.\n",
      "  warnings.warn(msg, category=DeprecationWarning)\n",
      "/home/ralfahad/anaconda2/lib/python2.7/site-packages/sklearn/utils/deprecation.py:77: DeprecationWarning: Function delayed is deprecated; deprecated in version 0.20.1 to be removed in version 0.23. Please import this functionality directly from joblib, which can be installed with: pip install joblib.\n",
      "  warnings.warn(msg, category=DeprecationWarning)\n",
      "/home/ralfahad/anaconda2/lib/python2.7/site-packages/sklearn/utils/deprecation.py:77: DeprecationWarning: Function delayed is deprecated; deprecated in version 0.20.1 to be removed in version 0.23. Please import this functionality directly from joblib, which can be installed with: pip install joblib.\n",
      "  warnings.warn(msg, category=DeprecationWarning)\n",
      "/home/ralfahad/anaconda2/lib/python2.7/site-packages/sklearn/utils/deprecation.py:77: DeprecationWarning: Function delayed is deprecated; deprecated in version 0.20.1 to be removed in version 0.23. Please import this functionality directly from joblib, which can be installed with: pip install joblib.\n",
      "  warnings.warn(msg, category=DeprecationWarning)\n",
      "/home/ralfahad/anaconda2/lib/python2.7/site-packages/sklearn/utils/deprecation.py:77: DeprecationWarning: Function delayed is deprecated; deprecated in version 0.20.1 to be removed in version 0.23. Please import this functionality directly from joblib, which can be installed with: pip install joblib.\n",
      "  warnings.warn(msg, category=DeprecationWarning)\n",
      "/home/ralfahad/anaconda2/lib/python2.7/site-packages/sklearn/utils/deprecation.py:77: DeprecationWarning: Function delayed is deprecated; deprecated in version 0.20.1 to be removed in version 0.23. Please import this functionality directly from joblib, which can be installed with: pip install joblib.\n",
      "  warnings.warn(msg, category=DeprecationWarning)\n",
      "/home/ralfahad/anaconda2/lib/python2.7/site-packages/sklearn/utils/deprecation.py:77: DeprecationWarning: Function delayed is deprecated; deprecated in version 0.20.1 to be removed in version 0.23. Please import this functionality directly from joblib, which can be installed with: pip install joblib.\n",
      "  warnings.warn(msg, category=DeprecationWarning)\n",
      "/home/ralfahad/anaconda2/lib/python2.7/site-packages/sklearn/utils/deprecation.py:77: DeprecationWarning: Function delayed is deprecated; deprecated in version 0.20.1 to be removed in version 0.23. Please import this functionality directly from joblib, which can be installed with: pip install joblib.\n",
      "  warnings.warn(msg, category=DeprecationWarning)\n",
      "/home/ralfahad/anaconda2/lib/python2.7/site-packages/sklearn/utils/deprecation.py:77: DeprecationWarning: Function delayed is deprecated; deprecated in version 0.20.1 to be removed in version 0.23. Please import this functionality directly from joblib, which can be installed with: pip install joblib.\n",
      "  warnings.warn(msg, category=DeprecationWarning)\n",
      "/home/ralfahad/anaconda2/lib/python2.7/site-packages/sklearn/utils/deprecation.py:77: DeprecationWarning: Function delayed is deprecated; deprecated in version 0.20.1 to be removed in version 0.23. Please import this functionality directly from joblib, which can be installed with: pip install joblib.\n",
      "  warnings.warn(msg, category=DeprecationWarning)\n",
      "/home/ralfahad/anaconda2/lib/python2.7/site-packages/sklearn/utils/deprecation.py:77: DeprecationWarning: Function delayed is deprecated; deprecated in version 0.20.1 to be removed in version 0.23. Please import this functionality directly from joblib, which can be installed with: pip install joblib.\n",
      "  warnings.warn(msg, category=DeprecationWarning)\n",
      "/home/ralfahad/anaconda2/lib/python2.7/site-packages/sklearn/utils/deprecation.py:77: DeprecationWarning: Function delayed is deprecated; deprecated in version 0.20.1 to be removed in version 0.23. Please import this functionality directly from joblib, which can be installed with: pip install joblib.\n",
      "  warnings.warn(msg, category=DeprecationWarning)\n",
      "/home/ralfahad/anaconda2/lib/python2.7/site-packages/sklearn/utils/deprecation.py:77: DeprecationWarning: Function delayed is deprecated; deprecated in version 0.20.1 to be removed in version 0.23. Please import this functionality directly from joblib, which can be installed with: pip install joblib.\n",
      "  warnings.warn(msg, category=DeprecationWarning)\n",
      "/home/ralfahad/anaconda2/lib/python2.7/site-packages/sklearn/utils/deprecation.py:77: DeprecationWarning: Function delayed is deprecated; deprecated in version 0.20.1 to be removed in version 0.23. Please import this functionality directly from joblib, which can be installed with: pip install joblib.\n",
      "  warnings.warn(msg, category=DeprecationWarning)\n",
      "/home/ralfahad/anaconda2/lib/python2.7/site-packages/sklearn/utils/deprecation.py:77: DeprecationWarning: Function delayed is deprecated; deprecated in version 0.20.1 to be removed in version 0.23. Please import this functionality directly from joblib, which can be installed with: pip install joblib.\n",
      "  warnings.warn(msg, category=DeprecationWarning)\n",
      "/home/ralfahad/anaconda2/lib/python2.7/site-packages/sklearn/utils/deprecation.py:77: DeprecationWarning: Function delayed is deprecated; deprecated in version 0.20.1 to be removed in version 0.23. Please import this functionality directly from joblib, which can be installed with: pip install joblib.\n",
      "  warnings.warn(msg, category=DeprecationWarning)\n",
      "/home/ralfahad/anaconda2/lib/python2.7/site-packages/sklearn/utils/deprecation.py:77: DeprecationWarning: Function delayed is deprecated; deprecated in version 0.20.1 to be removed in version 0.23. Please import this functionality directly from joblib, which can be installed with: pip install joblib.\n",
      "  warnings.warn(msg, category=DeprecationWarning)\n"
     ]
    },
    {
     "name": "stderr",
     "output_type": "stream",
     "text": [
      "/home/ralfahad/anaconda2/lib/python2.7/site-packages/sklearn/utils/deprecation.py:77: DeprecationWarning: Function delayed is deprecated; deprecated in version 0.20.1 to be removed in version 0.23. Please import this functionality directly from joblib, which can be installed with: pip install joblib.\n",
      "  warnings.warn(msg, category=DeprecationWarning)\n",
      "/home/ralfahad/anaconda2/lib/python2.7/site-packages/sklearn/utils/deprecation.py:77: DeprecationWarning: Function delayed is deprecated; deprecated in version 0.20.1 to be removed in version 0.23. Please import this functionality directly from joblib, which can be installed with: pip install joblib.\n",
      "  warnings.warn(msg, category=DeprecationWarning)\n",
      "/home/ralfahad/anaconda2/lib/python2.7/site-packages/sklearn/utils/deprecation.py:77: DeprecationWarning: Function delayed is deprecated; deprecated in version 0.20.1 to be removed in version 0.23. Please import this functionality directly from joblib, which can be installed with: pip install joblib.\n",
      "  warnings.warn(msg, category=DeprecationWarning)\n",
      "/home/ralfahad/anaconda2/lib/python2.7/site-packages/sklearn/utils/deprecation.py:77: DeprecationWarning: Function delayed is deprecated; deprecated in version 0.20.1 to be removed in version 0.23. Please import this functionality directly from joblib, which can be installed with: pip install joblib.\n",
      "  warnings.warn(msg, category=DeprecationWarning)\n",
      "/home/ralfahad/anaconda2/lib/python2.7/site-packages/sklearn/utils/deprecation.py:77: DeprecationWarning: Function delayed is deprecated; deprecated in version 0.20.1 to be removed in version 0.23. Please import this functionality directly from joblib, which can be installed with: pip install joblib.\n",
      "  warnings.warn(msg, category=DeprecationWarning)\n",
      "/home/ralfahad/anaconda2/lib/python2.7/site-packages/sklearn/utils/deprecation.py:77: DeprecationWarning: Function delayed is deprecated; deprecated in version 0.20.1 to be removed in version 0.23. Please import this functionality directly from joblib, which can be installed with: pip install joblib.\n",
      "  warnings.warn(msg, category=DeprecationWarning)\n",
      "/home/ralfahad/anaconda2/lib/python2.7/site-packages/sklearn/utils/deprecation.py:77: DeprecationWarning: Function delayed is deprecated; deprecated in version 0.20.1 to be removed in version 0.23. Please import this functionality directly from joblib, which can be installed with: pip install joblib.\n",
      "  warnings.warn(msg, category=DeprecationWarning)\n",
      "/home/ralfahad/anaconda2/lib/python2.7/site-packages/sklearn/utils/deprecation.py:77: DeprecationWarning: Function delayed is deprecated; deprecated in version 0.20.1 to be removed in version 0.23. Please import this functionality directly from joblib, which can be installed with: pip install joblib.\n",
      "  warnings.warn(msg, category=DeprecationWarning)\n",
      "/home/ralfahad/anaconda2/lib/python2.7/site-packages/sklearn/utils/deprecation.py:77: DeprecationWarning: Function delayed is deprecated; deprecated in version 0.20.1 to be removed in version 0.23. Please import this functionality directly from joblib, which can be installed with: pip install joblib.\n",
      "  warnings.warn(msg, category=DeprecationWarning)\n",
      "/home/ralfahad/anaconda2/lib/python2.7/site-packages/sklearn/utils/deprecation.py:77: DeprecationWarning: Function delayed is deprecated; deprecated in version 0.20.1 to be removed in version 0.23. Please import this functionality directly from joblib, which can be installed with: pip install joblib.\n",
      "  warnings.warn(msg, category=DeprecationWarning)\n",
      "/home/ralfahad/anaconda2/lib/python2.7/site-packages/sklearn/utils/deprecation.py:77: DeprecationWarning: Function delayed is deprecated; deprecated in version 0.20.1 to be removed in version 0.23. Please import this functionality directly from joblib, which can be installed with: pip install joblib.\n",
      "  warnings.warn(msg, category=DeprecationWarning)\n",
      "/home/ralfahad/anaconda2/lib/python2.7/site-packages/sklearn/utils/deprecation.py:77: DeprecationWarning: Function delayed is deprecated; deprecated in version 0.20.1 to be removed in version 0.23. Please import this functionality directly from joblib, which can be installed with: pip install joblib.\n",
      "  warnings.warn(msg, category=DeprecationWarning)\n",
      "/home/ralfahad/anaconda2/lib/python2.7/site-packages/sklearn/utils/deprecation.py:77: DeprecationWarning: Function delayed is deprecated; deprecated in version 0.20.1 to be removed in version 0.23. Please import this functionality directly from joblib, which can be installed with: pip install joblib.\n",
      "  warnings.warn(msg, category=DeprecationWarning)\n",
      "/home/ralfahad/anaconda2/lib/python2.7/site-packages/sklearn/utils/deprecation.py:77: DeprecationWarning: Function delayed is deprecated; deprecated in version 0.20.1 to be removed in version 0.23. Please import this functionality directly from joblib, which can be installed with: pip install joblib.\n",
      "  warnings.warn(msg, category=DeprecationWarning)\n",
      "/home/ralfahad/anaconda2/lib/python2.7/site-packages/sklearn/utils/deprecation.py:77: DeprecationWarning: Function delayed is deprecated; deprecated in version 0.20.1 to be removed in version 0.23. Please import this functionality directly from joblib, which can be installed with: pip install joblib.\n",
      "  warnings.warn(msg, category=DeprecationWarning)\n",
      "/home/ralfahad/anaconda2/lib/python2.7/site-packages/sklearn/utils/deprecation.py:77: DeprecationWarning: Function delayed is deprecated; deprecated in version 0.20.1 to be removed in version 0.23. Please import this functionality directly from joblib, which can be installed with: pip install joblib.\n",
      "  warnings.warn(msg, category=DeprecationWarning)\n",
      "/home/ralfahad/anaconda2/lib/python2.7/site-packages/sklearn/utils/deprecation.py:77: DeprecationWarning: Function delayed is deprecated; deprecated in version 0.20.1 to be removed in version 0.23. Please import this functionality directly from joblib, which can be installed with: pip install joblib.\n",
      "  warnings.warn(msg, category=DeprecationWarning)\n",
      "/home/ralfahad/anaconda2/lib/python2.7/site-packages/sklearn/utils/deprecation.py:77: DeprecationWarning: Function delayed is deprecated; deprecated in version 0.20.1 to be removed in version 0.23. Please import this functionality directly from joblib, which can be installed with: pip install joblib.\n",
      "  warnings.warn(msg, category=DeprecationWarning)\n",
      "/home/ralfahad/anaconda2/lib/python2.7/site-packages/sklearn/utils/deprecation.py:77: DeprecationWarning: Function delayed is deprecated; deprecated in version 0.20.1 to be removed in version 0.23. Please import this functionality directly from joblib, which can be installed with: pip install joblib.\n",
      "  warnings.warn(msg, category=DeprecationWarning)\n",
      "/home/ralfahad/anaconda2/lib/python2.7/site-packages/sklearn/utils/deprecation.py:77: DeprecationWarning: Function delayed is deprecated; deprecated in version 0.20.1 to be removed in version 0.23. Please import this functionality directly from joblib, which can be installed with: pip install joblib.\n",
      "  warnings.warn(msg, category=DeprecationWarning)\n",
      "/home/ralfahad/anaconda2/lib/python2.7/site-packages/sklearn/utils/deprecation.py:77: DeprecationWarning: Function delayed is deprecated; deprecated in version 0.20.1 to be removed in version 0.23. Please import this functionality directly from joblib, which can be installed with: pip install joblib.\n",
      "  warnings.warn(msg, category=DeprecationWarning)\n",
      "/home/ralfahad/anaconda2/lib/python2.7/site-packages/sklearn/utils/deprecation.py:77: DeprecationWarning: Function delayed is deprecated; deprecated in version 0.20.1 to be removed in version 0.23. Please import this functionality directly from joblib, which can be installed with: pip install joblib.\n",
      "  warnings.warn(msg, category=DeprecationWarning)\n",
      "/home/ralfahad/anaconda2/lib/python2.7/site-packages/sklearn/utils/deprecation.py:77: DeprecationWarning: Function delayed is deprecated; deprecated in version 0.20.1 to be removed in version 0.23. Please import this functionality directly from joblib, which can be installed with: pip install joblib.\n",
      "  warnings.warn(msg, category=DeprecationWarning)\n",
      "/home/ralfahad/anaconda2/lib/python2.7/site-packages/sklearn/utils/deprecation.py:77: DeprecationWarning: Function delayed is deprecated; deprecated in version 0.20.1 to be removed in version 0.23. Please import this functionality directly from joblib, which can be installed with: pip install joblib.\n",
      "  warnings.warn(msg, category=DeprecationWarning)\n"
     ]
    },
    {
     "name": "stderr",
     "output_type": "stream",
     "text": [
      "/home/ralfahad/anaconda2/lib/python2.7/site-packages/sklearn/utils/deprecation.py:77: DeprecationWarning: Function delayed is deprecated; deprecated in version 0.20.1 to be removed in version 0.23. Please import this functionality directly from joblib, which can be installed with: pip install joblib.\n",
      "  warnings.warn(msg, category=DeprecationWarning)\n",
      "/home/ralfahad/anaconda2/lib/python2.7/site-packages/sklearn/utils/deprecation.py:77: DeprecationWarning: Function delayed is deprecated; deprecated in version 0.20.1 to be removed in version 0.23. Please import this functionality directly from joblib, which can be installed with: pip install joblib.\n",
      "  warnings.warn(msg, category=DeprecationWarning)\n",
      "/home/ralfahad/anaconda2/lib/python2.7/site-packages/sklearn/utils/deprecation.py:77: DeprecationWarning: Function delayed is deprecated; deprecated in version 0.20.1 to be removed in version 0.23. Please import this functionality directly from joblib, which can be installed with: pip install joblib.\n",
      "  warnings.warn(msg, category=DeprecationWarning)\n",
      "/home/ralfahad/anaconda2/lib/python2.7/site-packages/sklearn/utils/deprecation.py:77: DeprecationWarning: Function delayed is deprecated; deprecated in version 0.20.1 to be removed in version 0.23. Please import this functionality directly from joblib, which can be installed with: pip install joblib.\n",
      "  warnings.warn(msg, category=DeprecationWarning)\n",
      "/home/ralfahad/anaconda2/lib/python2.7/site-packages/sklearn/utils/deprecation.py:77: DeprecationWarning: Function delayed is deprecated; deprecated in version 0.20.1 to be removed in version 0.23. Please import this functionality directly from joblib, which can be installed with: pip install joblib.\n",
      "  warnings.warn(msg, category=DeprecationWarning)\n",
      "/home/ralfahad/anaconda2/lib/python2.7/site-packages/sklearn/utils/deprecation.py:77: DeprecationWarning: Function delayed is deprecated; deprecated in version 0.20.1 to be removed in version 0.23. Please import this functionality directly from joblib, which can be installed with: pip install joblib.\n",
      "  warnings.warn(msg, category=DeprecationWarning)\n",
      "/home/ralfahad/anaconda2/lib/python2.7/site-packages/sklearn/utils/deprecation.py:77: DeprecationWarning: Function delayed is deprecated; deprecated in version 0.20.1 to be removed in version 0.23. Please import this functionality directly from joblib, which can be installed with: pip install joblib.\n",
      "  warnings.warn(msg, category=DeprecationWarning)\n",
      "/home/ralfahad/anaconda2/lib/python2.7/site-packages/sklearn/utils/deprecation.py:77: DeprecationWarning: Function delayed is deprecated; deprecated in version 0.20.1 to be removed in version 0.23. Please import this functionality directly from joblib, which can be installed with: pip install joblib.\n",
      "  warnings.warn(msg, category=DeprecationWarning)\n",
      "/home/ralfahad/anaconda2/lib/python2.7/site-packages/sklearn/utils/deprecation.py:77: DeprecationWarning: Function delayed is deprecated; deprecated in version 0.20.1 to be removed in version 0.23. Please import this functionality directly from joblib, which can be installed with: pip install joblib.\n",
      "  warnings.warn(msg, category=DeprecationWarning)\n",
      "/home/ralfahad/anaconda2/lib/python2.7/site-packages/sklearn/utils/deprecation.py:77: DeprecationWarning: Function delayed is deprecated; deprecated in version 0.20.1 to be removed in version 0.23. Please import this functionality directly from joblib, which can be installed with: pip install joblib.\n",
      "  warnings.warn(msg, category=DeprecationWarning)\n",
      "/home/ralfahad/anaconda2/lib/python2.7/site-packages/sklearn/utils/deprecation.py:77: DeprecationWarning: Function delayed is deprecated; deprecated in version 0.20.1 to be removed in version 0.23. Please import this functionality directly from joblib, which can be installed with: pip install joblib.\n",
      "  warnings.warn(msg, category=DeprecationWarning)\n",
      "/home/ralfahad/anaconda2/lib/python2.7/site-packages/sklearn/utils/deprecation.py:77: DeprecationWarning: Function delayed is deprecated; deprecated in version 0.20.1 to be removed in version 0.23. Please import this functionality directly from joblib, which can be installed with: pip install joblib.\n",
      "  warnings.warn(msg, category=DeprecationWarning)\n",
      "/home/ralfahad/anaconda2/lib/python2.7/site-packages/sklearn/utils/deprecation.py:77: DeprecationWarning: Function delayed is deprecated; deprecated in version 0.20.1 to be removed in version 0.23. Please import this functionality directly from joblib, which can be installed with: pip install joblib.\n",
      "  warnings.warn(msg, category=DeprecationWarning)\n",
      "/home/ralfahad/anaconda2/lib/python2.7/site-packages/sklearn/utils/deprecation.py:77: DeprecationWarning: Function delayed is deprecated; deprecated in version 0.20.1 to be removed in version 0.23. Please import this functionality directly from joblib, which can be installed with: pip install joblib.\n",
      "  warnings.warn(msg, category=DeprecationWarning)\n",
      "/home/ralfahad/anaconda2/lib/python2.7/site-packages/sklearn/utils/deprecation.py:77: DeprecationWarning: Function delayed is deprecated; deprecated in version 0.20.1 to be removed in version 0.23. Please import this functionality directly from joblib, which can be installed with: pip install joblib.\n",
      "  warnings.warn(msg, category=DeprecationWarning)\n",
      "/home/ralfahad/anaconda2/lib/python2.7/site-packages/sklearn/utils/deprecation.py:77: DeprecationWarning: Function delayed is deprecated; deprecated in version 0.20.1 to be removed in version 0.23. Please import this functionality directly from joblib, which can be installed with: pip install joblib.\n",
      "  warnings.warn(msg, category=DeprecationWarning)\n",
      "/home/ralfahad/anaconda2/lib/python2.7/site-packages/sklearn/utils/deprecation.py:77: DeprecationWarning: Function delayed is deprecated; deprecated in version 0.20.1 to be removed in version 0.23. Please import this functionality directly from joblib, which can be installed with: pip install joblib.\n",
      "  warnings.warn(msg, category=DeprecationWarning)\n",
      "/home/ralfahad/anaconda2/lib/python2.7/site-packages/sklearn/utils/deprecation.py:77: DeprecationWarning: Function delayed is deprecated; deprecated in version 0.20.1 to be removed in version 0.23. Please import this functionality directly from joblib, which can be installed with: pip install joblib.\n",
      "  warnings.warn(msg, category=DeprecationWarning)\n",
      "/home/ralfahad/anaconda2/lib/python2.7/site-packages/sklearn/utils/deprecation.py:77: DeprecationWarning: Function delayed is deprecated; deprecated in version 0.20.1 to be removed in version 0.23. Please import this functionality directly from joblib, which can be installed with: pip install joblib.\n",
      "  warnings.warn(msg, category=DeprecationWarning)\n",
      "/home/ralfahad/anaconda2/lib/python2.7/site-packages/sklearn/utils/deprecation.py:77: DeprecationWarning: Function delayed is deprecated; deprecated in version 0.20.1 to be removed in version 0.23. Please import this functionality directly from joblib, which can be installed with: pip install joblib.\n",
      "  warnings.warn(msg, category=DeprecationWarning)\n",
      "/home/ralfahad/anaconda2/lib/python2.7/site-packages/sklearn/utils/deprecation.py:77: DeprecationWarning: Function delayed is deprecated; deprecated in version 0.20.1 to be removed in version 0.23. Please import this functionality directly from joblib, which can be installed with: pip install joblib.\n",
      "  warnings.warn(msg, category=DeprecationWarning)\n",
      "/home/ralfahad/anaconda2/lib/python2.7/site-packages/sklearn/utils/deprecation.py:77: DeprecationWarning: Function delayed is deprecated; deprecated in version 0.20.1 to be removed in version 0.23. Please import this functionality directly from joblib, which can be installed with: pip install joblib.\n",
      "  warnings.warn(msg, category=DeprecationWarning)\n",
      "/home/ralfahad/anaconda2/lib/python2.7/site-packages/sklearn/utils/deprecation.py:77: DeprecationWarning: Function delayed is deprecated; deprecated in version 0.20.1 to be removed in version 0.23. Please import this functionality directly from joblib, which can be installed with: pip install joblib.\n",
      "  warnings.warn(msg, category=DeprecationWarning)\n",
      "/home/ralfahad/anaconda2/lib/python2.7/site-packages/sklearn/utils/deprecation.py:77: DeprecationWarning: Function delayed is deprecated; deprecated in version 0.20.1 to be removed in version 0.23. Please import this functionality directly from joblib, which can be installed with: pip install joblib.\n",
      "  warnings.warn(msg, category=DeprecationWarning)\n"
     ]
    },
    {
     "name": "stderr",
     "output_type": "stream",
     "text": [
      "/home/ralfahad/anaconda2/lib/python2.7/site-packages/sklearn/utils/deprecation.py:77: DeprecationWarning: Function delayed is deprecated; deprecated in version 0.20.1 to be removed in version 0.23. Please import this functionality directly from joblib, which can be installed with: pip install joblib.\n",
      "  warnings.warn(msg, category=DeprecationWarning)\n",
      "/home/ralfahad/anaconda2/lib/python2.7/site-packages/sklearn/utils/deprecation.py:77: DeprecationWarning: Function delayed is deprecated; deprecated in version 0.20.1 to be removed in version 0.23. Please import this functionality directly from joblib, which can be installed with: pip install joblib.\n",
      "  warnings.warn(msg, category=DeprecationWarning)\n",
      "/home/ralfahad/anaconda2/lib/python2.7/site-packages/sklearn/utils/deprecation.py:77: DeprecationWarning: Function delayed is deprecated; deprecated in version 0.20.1 to be removed in version 0.23. Please import this functionality directly from joblib, which can be installed with: pip install joblib.\n",
      "  warnings.warn(msg, category=DeprecationWarning)\n",
      "/home/ralfahad/anaconda2/lib/python2.7/site-packages/sklearn/utils/deprecation.py:77: DeprecationWarning: Function delayed is deprecated; deprecated in version 0.20.1 to be removed in version 0.23. Please import this functionality directly from joblib, which can be installed with: pip install joblib.\n",
      "  warnings.warn(msg, category=DeprecationWarning)\n",
      "/home/ralfahad/anaconda2/lib/python2.7/site-packages/sklearn/utils/deprecation.py:77: DeprecationWarning: Function delayed is deprecated; deprecated in version 0.20.1 to be removed in version 0.23. Please import this functionality directly from joblib, which can be installed with: pip install joblib.\n",
      "  warnings.warn(msg, category=DeprecationWarning)\n",
      "/home/ralfahad/anaconda2/lib/python2.7/site-packages/sklearn/utils/deprecation.py:77: DeprecationWarning: Function delayed is deprecated; deprecated in version 0.20.1 to be removed in version 0.23. Please import this functionality directly from joblib, which can be installed with: pip install joblib.\n",
      "  warnings.warn(msg, category=DeprecationWarning)\n",
      "/home/ralfahad/anaconda2/lib/python2.7/site-packages/sklearn/utils/deprecation.py:77: DeprecationWarning: Function delayed is deprecated; deprecated in version 0.20.1 to be removed in version 0.23. Please import this functionality directly from joblib, which can be installed with: pip install joblib.\n",
      "  warnings.warn(msg, category=DeprecationWarning)\n",
      "/home/ralfahad/anaconda2/lib/python2.7/site-packages/sklearn/utils/deprecation.py:77: DeprecationWarning: Function delayed is deprecated; deprecated in version 0.20.1 to be removed in version 0.23. Please import this functionality directly from joblib, which can be installed with: pip install joblib.\n",
      "  warnings.warn(msg, category=DeprecationWarning)\n",
      "/home/ralfahad/anaconda2/lib/python2.7/site-packages/sklearn/utils/deprecation.py:77: DeprecationWarning: Function delayed is deprecated; deprecated in version 0.20.1 to be removed in version 0.23. Please import this functionality directly from joblib, which can be installed with: pip install joblib.\n",
      "  warnings.warn(msg, category=DeprecationWarning)\n",
      "/home/ralfahad/anaconda2/lib/python2.7/site-packages/sklearn/utils/deprecation.py:77: DeprecationWarning: Function delayed is deprecated; deprecated in version 0.20.1 to be removed in version 0.23. Please import this functionality directly from joblib, which can be installed with: pip install joblib.\n",
      "  warnings.warn(msg, category=DeprecationWarning)\n",
      "/home/ralfahad/anaconda2/lib/python2.7/site-packages/sklearn/utils/deprecation.py:77: DeprecationWarning: Function delayed is deprecated; deprecated in version 0.20.1 to be removed in version 0.23. Please import this functionality directly from joblib, which can be installed with: pip install joblib.\n",
      "  warnings.warn(msg, category=DeprecationWarning)\n",
      "/home/ralfahad/anaconda2/lib/python2.7/site-packages/sklearn/utils/deprecation.py:77: DeprecationWarning: Function delayed is deprecated; deprecated in version 0.20.1 to be removed in version 0.23. Please import this functionality directly from joblib, which can be installed with: pip install joblib.\n",
      "  warnings.warn(msg, category=DeprecationWarning)\n",
      "/home/ralfahad/anaconda2/lib/python2.7/site-packages/sklearn/utils/deprecation.py:77: DeprecationWarning: Function delayed is deprecated; deprecated in version 0.20.1 to be removed in version 0.23. Please import this functionality directly from joblib, which can be installed with: pip install joblib.\n",
      "  warnings.warn(msg, category=DeprecationWarning)\n",
      "/home/ralfahad/anaconda2/lib/python2.7/site-packages/sklearn/utils/deprecation.py:77: DeprecationWarning: Function delayed is deprecated; deprecated in version 0.20.1 to be removed in version 0.23. Please import this functionality directly from joblib, which can be installed with: pip install joblib.\n",
      "  warnings.warn(msg, category=DeprecationWarning)\n",
      "/home/ralfahad/anaconda2/lib/python2.7/site-packages/sklearn/utils/deprecation.py:77: DeprecationWarning: Function delayed is deprecated; deprecated in version 0.20.1 to be removed in version 0.23. Please import this functionality directly from joblib, which can be installed with: pip install joblib.\n",
      "  warnings.warn(msg, category=DeprecationWarning)\n",
      "/home/ralfahad/anaconda2/lib/python2.7/site-packages/sklearn/utils/deprecation.py:77: DeprecationWarning: Function delayed is deprecated; deprecated in version 0.20.1 to be removed in version 0.23. Please import this functionality directly from joblib, which can be installed with: pip install joblib.\n",
      "  warnings.warn(msg, category=DeprecationWarning)\n",
      "/home/ralfahad/anaconda2/lib/python2.7/site-packages/sklearn/utils/deprecation.py:77: DeprecationWarning: Function delayed is deprecated; deprecated in version 0.20.1 to be removed in version 0.23. Please import this functionality directly from joblib, which can be installed with: pip install joblib.\n",
      "  warnings.warn(msg, category=DeprecationWarning)\n",
      "/home/ralfahad/anaconda2/lib/python2.7/site-packages/sklearn/utils/deprecation.py:77: DeprecationWarning: Function delayed is deprecated; deprecated in version 0.20.1 to be removed in version 0.23. Please import this functionality directly from joblib, which can be installed with: pip install joblib.\n",
      "  warnings.warn(msg, category=DeprecationWarning)\n",
      "/home/ralfahad/anaconda2/lib/python2.7/site-packages/sklearn/utils/deprecation.py:77: DeprecationWarning: Function delayed is deprecated; deprecated in version 0.20.1 to be removed in version 0.23. Please import this functionality directly from joblib, which can be installed with: pip install joblib.\n",
      "  warnings.warn(msg, category=DeprecationWarning)\n",
      "/home/ralfahad/anaconda2/lib/python2.7/site-packages/sklearn/utils/deprecation.py:77: DeprecationWarning: Function delayed is deprecated; deprecated in version 0.20.1 to be removed in version 0.23. Please import this functionality directly from joblib, which can be installed with: pip install joblib.\n",
      "  warnings.warn(msg, category=DeprecationWarning)\n",
      "/home/ralfahad/anaconda2/lib/python2.7/site-packages/sklearn/utils/deprecation.py:77: DeprecationWarning: Function delayed is deprecated; deprecated in version 0.20.1 to be removed in version 0.23. Please import this functionality directly from joblib, which can be installed with: pip install joblib.\n",
      "  warnings.warn(msg, category=DeprecationWarning)\n",
      "/home/ralfahad/anaconda2/lib/python2.7/site-packages/sklearn/utils/deprecation.py:77: DeprecationWarning: Function delayed is deprecated; deprecated in version 0.20.1 to be removed in version 0.23. Please import this functionality directly from joblib, which can be installed with: pip install joblib.\n",
      "  warnings.warn(msg, category=DeprecationWarning)\n",
      "/home/ralfahad/anaconda2/lib/python2.7/site-packages/sklearn/utils/deprecation.py:77: DeprecationWarning: Function delayed is deprecated; deprecated in version 0.20.1 to be removed in version 0.23. Please import this functionality directly from joblib, which can be installed with: pip install joblib.\n",
      "  warnings.warn(msg, category=DeprecationWarning)\n",
      "/home/ralfahad/anaconda2/lib/python2.7/site-packages/sklearn/utils/deprecation.py:77: DeprecationWarning: Function delayed is deprecated; deprecated in version 0.20.1 to be removed in version 0.23. Please import this functionality directly from joblib, which can be installed with: pip install joblib.\n",
      "  warnings.warn(msg, category=DeprecationWarning)\n"
     ]
    },
    {
     "name": "stderr",
     "output_type": "stream",
     "text": [
      "/home/ralfahad/anaconda2/lib/python2.7/site-packages/sklearn/utils/deprecation.py:77: DeprecationWarning: Function delayed is deprecated; deprecated in version 0.20.1 to be removed in version 0.23. Please import this functionality directly from joblib, which can be installed with: pip install joblib.\n",
      "  warnings.warn(msg, category=DeprecationWarning)\n",
      "/home/ralfahad/anaconda2/lib/python2.7/site-packages/sklearn/utils/deprecation.py:77: DeprecationWarning: Function delayed is deprecated; deprecated in version 0.20.1 to be removed in version 0.23. Please import this functionality directly from joblib, which can be installed with: pip install joblib.\n",
      "  warnings.warn(msg, category=DeprecationWarning)\n",
      "/home/ralfahad/anaconda2/lib/python2.7/site-packages/sklearn/utils/deprecation.py:77: DeprecationWarning: Function delayed is deprecated; deprecated in version 0.20.1 to be removed in version 0.23. Please import this functionality directly from joblib, which can be installed with: pip install joblib.\n",
      "  warnings.warn(msg, category=DeprecationWarning)\n",
      "/home/ralfahad/anaconda2/lib/python2.7/site-packages/sklearn/utils/deprecation.py:77: DeprecationWarning: Function delayed is deprecated; deprecated in version 0.20.1 to be removed in version 0.23. Please import this functionality directly from joblib, which can be installed with: pip install joblib.\n",
      "  warnings.warn(msg, category=DeprecationWarning)\n",
      "/home/ralfahad/anaconda2/lib/python2.7/site-packages/sklearn/utils/deprecation.py:77: DeprecationWarning: Function delayed is deprecated; deprecated in version 0.20.1 to be removed in version 0.23. Please import this functionality directly from joblib, which can be installed with: pip install joblib.\n",
      "  warnings.warn(msg, category=DeprecationWarning)\n",
      "/home/ralfahad/anaconda2/lib/python2.7/site-packages/sklearn/utils/deprecation.py:77: DeprecationWarning: Function delayed is deprecated; deprecated in version 0.20.1 to be removed in version 0.23. Please import this functionality directly from joblib, which can be installed with: pip install joblib.\n",
      "  warnings.warn(msg, category=DeprecationWarning)\n",
      "/home/ralfahad/anaconda2/lib/python2.7/site-packages/sklearn/utils/deprecation.py:77: DeprecationWarning: Function delayed is deprecated; deprecated in version 0.20.1 to be removed in version 0.23. Please import this functionality directly from joblib, which can be installed with: pip install joblib.\n",
      "  warnings.warn(msg, category=DeprecationWarning)\n",
      "/home/ralfahad/anaconda2/lib/python2.7/site-packages/sklearn/utils/deprecation.py:77: DeprecationWarning: Function delayed is deprecated; deprecated in version 0.20.1 to be removed in version 0.23. Please import this functionality directly from joblib, which can be installed with: pip install joblib.\n",
      "  warnings.warn(msg, category=DeprecationWarning)\n",
      "/home/ralfahad/anaconda2/lib/python2.7/site-packages/sklearn/utils/deprecation.py:77: DeprecationWarning: Function delayed is deprecated; deprecated in version 0.20.1 to be removed in version 0.23. Please import this functionality directly from joblib, which can be installed with: pip install joblib.\n",
      "  warnings.warn(msg, category=DeprecationWarning)\n",
      "/home/ralfahad/anaconda2/lib/python2.7/site-packages/sklearn/utils/deprecation.py:77: DeprecationWarning: Function delayed is deprecated; deprecated in version 0.20.1 to be removed in version 0.23. Please import this functionality directly from joblib, which can be installed with: pip install joblib.\n",
      "  warnings.warn(msg, category=DeprecationWarning)\n",
      "/home/ralfahad/anaconda2/lib/python2.7/site-packages/sklearn/utils/deprecation.py:77: DeprecationWarning: Function delayed is deprecated; deprecated in version 0.20.1 to be removed in version 0.23. Please import this functionality directly from joblib, which can be installed with: pip install joblib.\n",
      "  warnings.warn(msg, category=DeprecationWarning)\n",
      "/home/ralfahad/anaconda2/lib/python2.7/site-packages/sklearn/utils/deprecation.py:77: DeprecationWarning: Function delayed is deprecated; deprecated in version 0.20.1 to be removed in version 0.23. Please import this functionality directly from joblib, which can be installed with: pip install joblib.\n",
      "  warnings.warn(msg, category=DeprecationWarning)\n",
      "/home/ralfahad/anaconda2/lib/python2.7/site-packages/sklearn/utils/deprecation.py:77: DeprecationWarning: Function delayed is deprecated; deprecated in version 0.20.1 to be removed in version 0.23. Please import this functionality directly from joblib, which can be installed with: pip install joblib.\n",
      "  warnings.warn(msg, category=DeprecationWarning)\n",
      "/home/ralfahad/anaconda2/lib/python2.7/site-packages/sklearn/utils/deprecation.py:77: DeprecationWarning: Function delayed is deprecated; deprecated in version 0.20.1 to be removed in version 0.23. Please import this functionality directly from joblib, which can be installed with: pip install joblib.\n",
      "  warnings.warn(msg, category=DeprecationWarning)\n",
      "/home/ralfahad/anaconda2/lib/python2.7/site-packages/sklearn/utils/deprecation.py:77: DeprecationWarning: Function delayed is deprecated; deprecated in version 0.20.1 to be removed in version 0.23. Please import this functionality directly from joblib, which can be installed with: pip install joblib.\n",
      "  warnings.warn(msg, category=DeprecationWarning)\n",
      "/home/ralfahad/anaconda2/lib/python2.7/site-packages/sklearn/utils/deprecation.py:77: DeprecationWarning: Function delayed is deprecated; deprecated in version 0.20.1 to be removed in version 0.23. Please import this functionality directly from joblib, which can be installed with: pip install joblib.\n",
      "  warnings.warn(msg, category=DeprecationWarning)\n",
      "/home/ralfahad/anaconda2/lib/python2.7/site-packages/sklearn/utils/deprecation.py:77: DeprecationWarning: Function delayed is deprecated; deprecated in version 0.20.1 to be removed in version 0.23. Please import this functionality directly from joblib, which can be installed with: pip install joblib.\n",
      "  warnings.warn(msg, category=DeprecationWarning)\n",
      "/home/ralfahad/anaconda2/lib/python2.7/site-packages/sklearn/utils/deprecation.py:77: DeprecationWarning: Function delayed is deprecated; deprecated in version 0.20.1 to be removed in version 0.23. Please import this functionality directly from joblib, which can be installed with: pip install joblib.\n",
      "  warnings.warn(msg, category=DeprecationWarning)\n",
      "/home/ralfahad/anaconda2/lib/python2.7/site-packages/sklearn/utils/deprecation.py:77: DeprecationWarning: Function delayed is deprecated; deprecated in version 0.20.1 to be removed in version 0.23. Please import this functionality directly from joblib, which can be installed with: pip install joblib.\n",
      "  warnings.warn(msg, category=DeprecationWarning)\n",
      "/home/ralfahad/anaconda2/lib/python2.7/site-packages/sklearn/utils/deprecation.py:77: DeprecationWarning: Function delayed is deprecated; deprecated in version 0.20.1 to be removed in version 0.23. Please import this functionality directly from joblib, which can be installed with: pip install joblib.\n",
      "  warnings.warn(msg, category=DeprecationWarning)\n",
      "/home/ralfahad/anaconda2/lib/python2.7/site-packages/sklearn/utils/deprecation.py:77: DeprecationWarning: Function delayed is deprecated; deprecated in version 0.20.1 to be removed in version 0.23. Please import this functionality directly from joblib, which can be installed with: pip install joblib.\n",
      "  warnings.warn(msg, category=DeprecationWarning)\n",
      "/home/ralfahad/anaconda2/lib/python2.7/site-packages/sklearn/utils/deprecation.py:77: DeprecationWarning: Function delayed is deprecated; deprecated in version 0.20.1 to be removed in version 0.23. Please import this functionality directly from joblib, which can be installed with: pip install joblib.\n",
      "  warnings.warn(msg, category=DeprecationWarning)\n",
      "/home/ralfahad/anaconda2/lib/python2.7/site-packages/sklearn/utils/deprecation.py:77: DeprecationWarning: Function delayed is deprecated; deprecated in version 0.20.1 to be removed in version 0.23. Please import this functionality directly from joblib, which can be installed with: pip install joblib.\n",
      "  warnings.warn(msg, category=DeprecationWarning)\n",
      "/home/ralfahad/anaconda2/lib/python2.7/site-packages/sklearn/utils/deprecation.py:77: DeprecationWarning: Function delayed is deprecated; deprecated in version 0.20.1 to be removed in version 0.23. Please import this functionality directly from joblib, which can be installed with: pip install joblib.\n",
      "  warnings.warn(msg, category=DeprecationWarning)\n"
     ]
    },
    {
     "name": "stderr",
     "output_type": "stream",
     "text": [
      "/home/ralfahad/anaconda2/lib/python2.7/site-packages/sklearn/utils/deprecation.py:77: DeprecationWarning: Function delayed is deprecated; deprecated in version 0.20.1 to be removed in version 0.23. Please import this functionality directly from joblib, which can be installed with: pip install joblib.\n",
      "  warnings.warn(msg, category=DeprecationWarning)\n",
      "/home/ralfahad/anaconda2/lib/python2.7/site-packages/sklearn/utils/deprecation.py:77: DeprecationWarning: Function delayed is deprecated; deprecated in version 0.20.1 to be removed in version 0.23. Please import this functionality directly from joblib, which can be installed with: pip install joblib.\n",
      "  warnings.warn(msg, category=DeprecationWarning)\n",
      "/home/ralfahad/anaconda2/lib/python2.7/site-packages/sklearn/utils/deprecation.py:77: DeprecationWarning: Function delayed is deprecated; deprecated in version 0.20.1 to be removed in version 0.23. Please import this functionality directly from joblib, which can be installed with: pip install joblib.\n",
      "  warnings.warn(msg, category=DeprecationWarning)\n",
      "/home/ralfahad/anaconda2/lib/python2.7/site-packages/sklearn/utils/deprecation.py:77: DeprecationWarning: Function delayed is deprecated; deprecated in version 0.20.1 to be removed in version 0.23. Please import this functionality directly from joblib, which can be installed with: pip install joblib.\n",
      "  warnings.warn(msg, category=DeprecationWarning)\n",
      "/home/ralfahad/anaconda2/lib/python2.7/site-packages/sklearn/utils/deprecation.py:77: DeprecationWarning: Function delayed is deprecated; deprecated in version 0.20.1 to be removed in version 0.23. Please import this functionality directly from joblib, which can be installed with: pip install joblib.\n",
      "  warnings.warn(msg, category=DeprecationWarning)\n",
      "/home/ralfahad/anaconda2/lib/python2.7/site-packages/sklearn/utils/deprecation.py:77: DeprecationWarning: Function delayed is deprecated; deprecated in version 0.20.1 to be removed in version 0.23. Please import this functionality directly from joblib, which can be installed with: pip install joblib.\n",
      "  warnings.warn(msg, category=DeprecationWarning)\n",
      "/home/ralfahad/anaconda2/lib/python2.7/site-packages/sklearn/utils/deprecation.py:77: DeprecationWarning: Function delayed is deprecated; deprecated in version 0.20.1 to be removed in version 0.23. Please import this functionality directly from joblib, which can be installed with: pip install joblib.\n",
      "  warnings.warn(msg, category=DeprecationWarning)\n",
      "/home/ralfahad/anaconda2/lib/python2.7/site-packages/sklearn/utils/deprecation.py:77: DeprecationWarning: Function delayed is deprecated; deprecated in version 0.20.1 to be removed in version 0.23. Please import this functionality directly from joblib, which can be installed with: pip install joblib.\n",
      "  warnings.warn(msg, category=DeprecationWarning)\n",
      "/home/ralfahad/anaconda2/lib/python2.7/site-packages/sklearn/utils/deprecation.py:77: DeprecationWarning: Function delayed is deprecated; deprecated in version 0.20.1 to be removed in version 0.23. Please import this functionality directly from joblib, which can be installed with: pip install joblib.\n",
      "  warnings.warn(msg, category=DeprecationWarning)\n",
      "/home/ralfahad/anaconda2/lib/python2.7/site-packages/sklearn/utils/deprecation.py:77: DeprecationWarning: Function delayed is deprecated; deprecated in version 0.20.1 to be removed in version 0.23. Please import this functionality directly from joblib, which can be installed with: pip install joblib.\n",
      "  warnings.warn(msg, category=DeprecationWarning)\n",
      "/home/ralfahad/anaconda2/lib/python2.7/site-packages/sklearn/utils/deprecation.py:77: DeprecationWarning: Function delayed is deprecated; deprecated in version 0.20.1 to be removed in version 0.23. Please import this functionality directly from joblib, which can be installed with: pip install joblib.\n",
      "  warnings.warn(msg, category=DeprecationWarning)\n",
      "/home/ralfahad/anaconda2/lib/python2.7/site-packages/sklearn/utils/deprecation.py:77: DeprecationWarning: Function delayed is deprecated; deprecated in version 0.20.1 to be removed in version 0.23. Please import this functionality directly from joblib, which can be installed with: pip install joblib.\n",
      "  warnings.warn(msg, category=DeprecationWarning)\n",
      "/home/ralfahad/anaconda2/lib/python2.7/site-packages/sklearn/utils/deprecation.py:77: DeprecationWarning: Function delayed is deprecated; deprecated in version 0.20.1 to be removed in version 0.23. Please import this functionality directly from joblib, which can be installed with: pip install joblib.\n",
      "  warnings.warn(msg, category=DeprecationWarning)\n",
      "/home/ralfahad/anaconda2/lib/python2.7/site-packages/sklearn/utils/deprecation.py:77: DeprecationWarning: Function delayed is deprecated; deprecated in version 0.20.1 to be removed in version 0.23. Please import this functionality directly from joblib, which can be installed with: pip install joblib.\n",
      "  warnings.warn(msg, category=DeprecationWarning)\n",
      "/home/ralfahad/anaconda2/lib/python2.7/site-packages/sklearn/utils/deprecation.py:77: DeprecationWarning: Function delayed is deprecated; deprecated in version 0.20.1 to be removed in version 0.23. Please import this functionality directly from joblib, which can be installed with: pip install joblib.\n",
      "  warnings.warn(msg, category=DeprecationWarning)\n",
      "/home/ralfahad/anaconda2/lib/python2.7/site-packages/sklearn/utils/deprecation.py:77: DeprecationWarning: Function delayed is deprecated; deprecated in version 0.20.1 to be removed in version 0.23. Please import this functionality directly from joblib, which can be installed with: pip install joblib.\n",
      "  warnings.warn(msg, category=DeprecationWarning)\n",
      "/home/ralfahad/anaconda2/lib/python2.7/site-packages/sklearn/utils/deprecation.py:77: DeprecationWarning: Function delayed is deprecated; deprecated in version 0.20.1 to be removed in version 0.23. Please import this functionality directly from joblib, which can be installed with: pip install joblib.\n",
      "  warnings.warn(msg, category=DeprecationWarning)\n",
      "/home/ralfahad/anaconda2/lib/python2.7/site-packages/sklearn/utils/deprecation.py:77: DeprecationWarning: Function delayed is deprecated; deprecated in version 0.20.1 to be removed in version 0.23. Please import this functionality directly from joblib, which can be installed with: pip install joblib.\n",
      "  warnings.warn(msg, category=DeprecationWarning)\n",
      "/home/ralfahad/anaconda2/lib/python2.7/site-packages/sklearn/utils/deprecation.py:77: DeprecationWarning: Function delayed is deprecated; deprecated in version 0.20.1 to be removed in version 0.23. Please import this functionality directly from joblib, which can be installed with: pip install joblib.\n",
      "  warnings.warn(msg, category=DeprecationWarning)\n",
      "/home/ralfahad/anaconda2/lib/python2.7/site-packages/sklearn/utils/deprecation.py:77: DeprecationWarning: Function delayed is deprecated; deprecated in version 0.20.1 to be removed in version 0.23. Please import this functionality directly from joblib, which can be installed with: pip install joblib.\n",
      "  warnings.warn(msg, category=DeprecationWarning)\n",
      "/home/ralfahad/anaconda2/lib/python2.7/site-packages/sklearn/utils/deprecation.py:77: DeprecationWarning: Function delayed is deprecated; deprecated in version 0.20.1 to be removed in version 0.23. Please import this functionality directly from joblib, which can be installed with: pip install joblib.\n",
      "  warnings.warn(msg, category=DeprecationWarning)\n",
      "/home/ralfahad/anaconda2/lib/python2.7/site-packages/sklearn/utils/deprecation.py:77: DeprecationWarning: Function delayed is deprecated; deprecated in version 0.20.1 to be removed in version 0.23. Please import this functionality directly from joblib, which can be installed with: pip install joblib.\n",
      "  warnings.warn(msg, category=DeprecationWarning)\n",
      "/home/ralfahad/anaconda2/lib/python2.7/site-packages/sklearn/utils/deprecation.py:77: DeprecationWarning: Function delayed is deprecated; deprecated in version 0.20.1 to be removed in version 0.23. Please import this functionality directly from joblib, which can be installed with: pip install joblib.\n",
      "  warnings.warn(msg, category=DeprecationWarning)\n",
      "/home/ralfahad/anaconda2/lib/python2.7/site-packages/sklearn/utils/deprecation.py:77: DeprecationWarning: Function delayed is deprecated; deprecated in version 0.20.1 to be removed in version 0.23. Please import this functionality directly from joblib, which can be installed with: pip install joblib.\n",
      "  warnings.warn(msg, category=DeprecationWarning)\n"
     ]
    },
    {
     "name": "stderr",
     "output_type": "stream",
     "text": [
      "/home/ralfahad/anaconda2/lib/python2.7/site-packages/sklearn/utils/deprecation.py:77: DeprecationWarning: Function delayed is deprecated; deprecated in version 0.20.1 to be removed in version 0.23. Please import this functionality directly from joblib, which can be installed with: pip install joblib.\n",
      "  warnings.warn(msg, category=DeprecationWarning)\n",
      "/home/ralfahad/anaconda2/lib/python2.7/site-packages/sklearn/utils/deprecation.py:77: DeprecationWarning: Function delayed is deprecated; deprecated in version 0.20.1 to be removed in version 0.23. Please import this functionality directly from joblib, which can be installed with: pip install joblib.\n",
      "  warnings.warn(msg, category=DeprecationWarning)\n",
      "/home/ralfahad/anaconda2/lib/python2.7/site-packages/sklearn/utils/deprecation.py:77: DeprecationWarning: Function delayed is deprecated; deprecated in version 0.20.1 to be removed in version 0.23. Please import this functionality directly from joblib, which can be installed with: pip install joblib.\n",
      "  warnings.warn(msg, category=DeprecationWarning)\n",
      "/home/ralfahad/anaconda2/lib/python2.7/site-packages/sklearn/utils/deprecation.py:77: DeprecationWarning: Function delayed is deprecated; deprecated in version 0.20.1 to be removed in version 0.23. Please import this functionality directly from joblib, which can be installed with: pip install joblib.\n",
      "  warnings.warn(msg, category=DeprecationWarning)\n",
      "/home/ralfahad/anaconda2/lib/python2.7/site-packages/sklearn/utils/deprecation.py:77: DeprecationWarning: Function delayed is deprecated; deprecated in version 0.20.1 to be removed in version 0.23. Please import this functionality directly from joblib, which can be installed with: pip install joblib.\n",
      "  warnings.warn(msg, category=DeprecationWarning)\n",
      "/home/ralfahad/anaconda2/lib/python2.7/site-packages/sklearn/utils/deprecation.py:77: DeprecationWarning: Function delayed is deprecated; deprecated in version 0.20.1 to be removed in version 0.23. Please import this functionality directly from joblib, which can be installed with: pip install joblib.\n",
      "  warnings.warn(msg, category=DeprecationWarning)\n",
      "/home/ralfahad/anaconda2/lib/python2.7/site-packages/sklearn/utils/deprecation.py:77: DeprecationWarning: Function delayed is deprecated; deprecated in version 0.20.1 to be removed in version 0.23. Please import this functionality directly from joblib, which can be installed with: pip install joblib.\n",
      "  warnings.warn(msg, category=DeprecationWarning)\n",
      "/home/ralfahad/anaconda2/lib/python2.7/site-packages/sklearn/utils/deprecation.py:77: DeprecationWarning: Function delayed is deprecated; deprecated in version 0.20.1 to be removed in version 0.23. Please import this functionality directly from joblib, which can be installed with: pip install joblib.\n",
      "  warnings.warn(msg, category=DeprecationWarning)\n",
      "/home/ralfahad/anaconda2/lib/python2.7/site-packages/sklearn/utils/deprecation.py:77: DeprecationWarning: Function delayed is deprecated; deprecated in version 0.20.1 to be removed in version 0.23. Please import this functionality directly from joblib, which can be installed with: pip install joblib.\n",
      "  warnings.warn(msg, category=DeprecationWarning)\n",
      "/home/ralfahad/anaconda2/lib/python2.7/site-packages/sklearn/utils/deprecation.py:77: DeprecationWarning: Function delayed is deprecated; deprecated in version 0.20.1 to be removed in version 0.23. Please import this functionality directly from joblib, which can be installed with: pip install joblib.\n",
      "  warnings.warn(msg, category=DeprecationWarning)\n",
      "/home/ralfahad/anaconda2/lib/python2.7/site-packages/sklearn/utils/deprecation.py:77: DeprecationWarning: Function delayed is deprecated; deprecated in version 0.20.1 to be removed in version 0.23. Please import this functionality directly from joblib, which can be installed with: pip install joblib.\n",
      "  warnings.warn(msg, category=DeprecationWarning)\n",
      "/home/ralfahad/anaconda2/lib/python2.7/site-packages/sklearn/utils/deprecation.py:77: DeprecationWarning: Function delayed is deprecated; deprecated in version 0.20.1 to be removed in version 0.23. Please import this functionality directly from joblib, which can be installed with: pip install joblib.\n",
      "  warnings.warn(msg, category=DeprecationWarning)\n",
      "/home/ralfahad/anaconda2/lib/python2.7/site-packages/sklearn/utils/deprecation.py:77: DeprecationWarning: Function delayed is deprecated; deprecated in version 0.20.1 to be removed in version 0.23. Please import this functionality directly from joblib, which can be installed with: pip install joblib.\n",
      "  warnings.warn(msg, category=DeprecationWarning)\n",
      "/home/ralfahad/anaconda2/lib/python2.7/site-packages/sklearn/utils/deprecation.py:77: DeprecationWarning: Function delayed is deprecated; deprecated in version 0.20.1 to be removed in version 0.23. Please import this functionality directly from joblib, which can be installed with: pip install joblib.\n",
      "  warnings.warn(msg, category=DeprecationWarning)\n",
      "/home/ralfahad/anaconda2/lib/python2.7/site-packages/sklearn/utils/deprecation.py:77: DeprecationWarning: Function delayed is deprecated; deprecated in version 0.20.1 to be removed in version 0.23. Please import this functionality directly from joblib, which can be installed with: pip install joblib.\n",
      "  warnings.warn(msg, category=DeprecationWarning)\n",
      "/home/ralfahad/anaconda2/lib/python2.7/site-packages/sklearn/utils/deprecation.py:77: DeprecationWarning: Function delayed is deprecated; deprecated in version 0.20.1 to be removed in version 0.23. Please import this functionality directly from joblib, which can be installed with: pip install joblib.\n",
      "  warnings.warn(msg, category=DeprecationWarning)\n",
      "/home/ralfahad/anaconda2/lib/python2.7/site-packages/sklearn/utils/deprecation.py:77: DeprecationWarning: Function delayed is deprecated; deprecated in version 0.20.1 to be removed in version 0.23. Please import this functionality directly from joblib, which can be installed with: pip install joblib.\n",
      "  warnings.warn(msg, category=DeprecationWarning)\n",
      "/home/ralfahad/anaconda2/lib/python2.7/site-packages/sklearn/utils/deprecation.py:77: DeprecationWarning: Function delayed is deprecated; deprecated in version 0.20.1 to be removed in version 0.23. Please import this functionality directly from joblib, which can be installed with: pip install joblib.\n",
      "  warnings.warn(msg, category=DeprecationWarning)\n",
      "/home/ralfahad/anaconda2/lib/python2.7/site-packages/sklearn/utils/deprecation.py:77: DeprecationWarning: Function delayed is deprecated; deprecated in version 0.20.1 to be removed in version 0.23. Please import this functionality directly from joblib, which can be installed with: pip install joblib.\n",
      "  warnings.warn(msg, category=DeprecationWarning)\n",
      "/home/ralfahad/anaconda2/lib/python2.7/site-packages/sklearn/utils/deprecation.py:77: DeprecationWarning: Function delayed is deprecated; deprecated in version 0.20.1 to be removed in version 0.23. Please import this functionality directly from joblib, which can be installed with: pip install joblib.\n",
      "  warnings.warn(msg, category=DeprecationWarning)\n",
      "/home/ralfahad/anaconda2/lib/python2.7/site-packages/sklearn/utils/deprecation.py:77: DeprecationWarning: Function delayed is deprecated; deprecated in version 0.20.1 to be removed in version 0.23. Please import this functionality directly from joblib, which can be installed with: pip install joblib.\n",
      "  warnings.warn(msg, category=DeprecationWarning)\n",
      "/home/ralfahad/anaconda2/lib/python2.7/site-packages/sklearn/utils/deprecation.py:77: DeprecationWarning: Function delayed is deprecated; deprecated in version 0.20.1 to be removed in version 0.23. Please import this functionality directly from joblib, which can be installed with: pip install joblib.\n",
      "  warnings.warn(msg, category=DeprecationWarning)\n",
      "/home/ralfahad/anaconda2/lib/python2.7/site-packages/sklearn/utils/deprecation.py:77: DeprecationWarning: Function delayed is deprecated; deprecated in version 0.20.1 to be removed in version 0.23. Please import this functionality directly from joblib, which can be installed with: pip install joblib.\n",
      "  warnings.warn(msg, category=DeprecationWarning)\n",
      "/home/ralfahad/anaconda2/lib/python2.7/site-packages/sklearn/utils/deprecation.py:77: DeprecationWarning: Function delayed is deprecated; deprecated in version 0.20.1 to be removed in version 0.23. Please import this functionality directly from joblib, which can be installed with: pip install joblib.\n",
      "  warnings.warn(msg, category=DeprecationWarning)\n"
     ]
    },
    {
     "name": "stderr",
     "output_type": "stream",
     "text": [
      "/home/ralfahad/anaconda2/lib/python2.7/site-packages/sklearn/utils/deprecation.py:77: DeprecationWarning: Function delayed is deprecated; deprecated in version 0.20.1 to be removed in version 0.23. Please import this functionality directly from joblib, which can be installed with: pip install joblib.\n",
      "  warnings.warn(msg, category=DeprecationWarning)\n",
      "/home/ralfahad/anaconda2/lib/python2.7/site-packages/sklearn/utils/deprecation.py:77: DeprecationWarning: Function delayed is deprecated; deprecated in version 0.20.1 to be removed in version 0.23. Please import this functionality directly from joblib, which can be installed with: pip install joblib.\n",
      "  warnings.warn(msg, category=DeprecationWarning)\n",
      "/home/ralfahad/anaconda2/lib/python2.7/site-packages/sklearn/utils/deprecation.py:77: DeprecationWarning: Function delayed is deprecated; deprecated in version 0.20.1 to be removed in version 0.23. Please import this functionality directly from joblib, which can be installed with: pip install joblib.\n",
      "  warnings.warn(msg, category=DeprecationWarning)\n",
      "/home/ralfahad/anaconda2/lib/python2.7/site-packages/sklearn/utils/deprecation.py:77: DeprecationWarning: Function delayed is deprecated; deprecated in version 0.20.1 to be removed in version 0.23. Please import this functionality directly from joblib, which can be installed with: pip install joblib.\n",
      "  warnings.warn(msg, category=DeprecationWarning)\n",
      "/home/ralfahad/anaconda2/lib/python2.7/site-packages/sklearn/utils/deprecation.py:77: DeprecationWarning: Function delayed is deprecated; deprecated in version 0.20.1 to be removed in version 0.23. Please import this functionality directly from joblib, which can be installed with: pip install joblib.\n",
      "  warnings.warn(msg, category=DeprecationWarning)\n",
      "/home/ralfahad/anaconda2/lib/python2.7/site-packages/sklearn/utils/deprecation.py:77: DeprecationWarning: Function delayed is deprecated; deprecated in version 0.20.1 to be removed in version 0.23. Please import this functionality directly from joblib, which can be installed with: pip install joblib.\n",
      "  warnings.warn(msg, category=DeprecationWarning)\n",
      "/home/ralfahad/anaconda2/lib/python2.7/site-packages/sklearn/utils/deprecation.py:77: DeprecationWarning: Function delayed is deprecated; deprecated in version 0.20.1 to be removed in version 0.23. Please import this functionality directly from joblib, which can be installed with: pip install joblib.\n",
      "  warnings.warn(msg, category=DeprecationWarning)\n",
      "/home/ralfahad/anaconda2/lib/python2.7/site-packages/sklearn/utils/deprecation.py:77: DeprecationWarning: Function delayed is deprecated; deprecated in version 0.20.1 to be removed in version 0.23. Please import this functionality directly from joblib, which can be installed with: pip install joblib.\n",
      "  warnings.warn(msg, category=DeprecationWarning)\n",
      "/home/ralfahad/anaconda2/lib/python2.7/site-packages/sklearn/utils/deprecation.py:77: DeprecationWarning: Function delayed is deprecated; deprecated in version 0.20.1 to be removed in version 0.23. Please import this functionality directly from joblib, which can be installed with: pip install joblib.\n",
      "  warnings.warn(msg, category=DeprecationWarning)\n",
      "/home/ralfahad/anaconda2/lib/python2.7/site-packages/sklearn/utils/deprecation.py:77: DeprecationWarning: Function delayed is deprecated; deprecated in version 0.20.1 to be removed in version 0.23. Please import this functionality directly from joblib, which can be installed with: pip install joblib.\n",
      "  warnings.warn(msg, category=DeprecationWarning)\n",
      "/home/ralfahad/anaconda2/lib/python2.7/site-packages/sklearn/utils/deprecation.py:77: DeprecationWarning: Function delayed is deprecated; deprecated in version 0.20.1 to be removed in version 0.23. Please import this functionality directly from joblib, which can be installed with: pip install joblib.\n",
      "  warnings.warn(msg, category=DeprecationWarning)\n"
     ]
    }
   ],
   "source": [
    "# Run the RandomizedLasso: we use a paths going down to .1*alpha_max\n",
    "# to avoid exploring the regime in which very noisy variables enter\n",
    "# the model\n",
    "alphas = np.linspace(lars_cv.alphas_[0], .1 * lars_cv.alphas_[0], 10)\n",
    "print alphas\n",
    "clf = RandomizedLasso(alpha=alphas, random_state=42,max_iter=1000).fit(X, y)"
   ]
  },
  {
   "cell_type": "code",
   "execution_count": 189,
   "metadata": {},
   "outputs": [
    {
     "data": {
      "image/png": "[encoded data removed]",
      "text/plain": [
       "<Figure size 432x288 with 1 Axes>"
      ]
     },
     "metadata": {
      "needs_background": "light"
     },
     "output_type": "display_data"
    }
   ],
   "source": [
    "from matplotlib.ticker import FormatStrFormatter\n",
    "data=clf.scores_\n",
    "fig, ax = plt.subplots()\n",
    "counts, bins, patches = ax.hist(data,10 ,edgecolor='gray')\n",
    "\n",
    "# Set the ticks to be at the edges of the bins.\n",
    "ax.set_xticks(bins)\n",
    "\n",
    "# Set the xaxis's tick labels to be formatted with 1 decimal place...\n",
    "ax.xaxis.set_major_formatter(FormatStrFormatter('%0.1f'))\n",
    "\n",
    "\n",
    "# Label the raw counts and the percentages below the x-axis...\n",
    "bin_centers = 0.5 * np.diff(bins) + bins[:-1]\n",
    "for count, x in zip(counts, bin_centers):\n",
    "    # Label the raw counts\n",
    "    ax.annotate(str(count), xy=(x, 0), xycoords=('data', 'axes fraction'),\n",
    "        xytext=(0, -18), textcoords='offset points', va='top', ha='center')\n",
    "\n",
    "    # Label the percentages\n",
    "    percent = '%0.0f%%' % (100 * float(count) / counts.sum())\n",
    "    ax.annotate(percent, xy=(x, 0), xycoords=('data', 'axes fraction'),\n",
    "        xytext=(0, -32), textcoords='offset points', va='top', ha='center')\n",
    "\n",
    "\n",
    "# Give ourselves some more room at the bottom of the plot\n",
    "plt.subplots_adjust(bottom=0.15)\n",
    "plt.grid(True)\n",
    "plt.show()"
   ]
  },
  {
   "cell_type": "markdown",
   "metadata": {},
   "source": [
    "### Find the optimal threshold"
   ]
  },
  {
   "cell_type": "code",
   "execution_count": 190,
   "metadata": {},
   "outputs": [
    {
     "name": "stdout",
     "output_type": "stream",
     "text": [
      "[0.    0.085 0.17  0.255 0.34  0.425 0.51  0.595 0.68  0.765 0.85 ]\n",
      "[0.    0.085 0.17  0.255 0.34  0.425 0.51  0.595 0.68  0.765 0.85 ]\n"
     ]
    }
   ],
   "source": [
    "Th_2_Bins_Index= np.where((bins<=0.9) & (bins>=0)) # take the bins within a range\n",
    "print bins\n",
    "Th_2_Bins=bins[Th_2_Bins_Index]\n",
    "print Th_2_Bins"
   ]
  },
  {
   "cell_type": "code",
   "execution_count": null,
   "metadata": {},
   "outputs": [
    {
     "name": "stdout",
     "output_type": "stream",
     "text": [
      "0.0\n"
     ]
    }
   ],
   "source": [
    "# #Splitting\n",
    "X_train, X_test, y_train, y_test = train_test_split(X, y, test_size=0.2, random_state=42)\n",
    "cv = ShuffleSplit(X_train.shape[0], test_size=0.2, random_state=42)\n",
    "\n",
    "# Define Classifier\n",
    "svr = svm.SVC(kernel='rbf')\n",
    "\n",
    "# Deffine tuning parameter\n",
    "# C_range = np.logspace(-2, 10, 13)\n",
    "# gamma_range = np.logspace(-9, 3, 13)\n",
    "\n",
    "C_range = np.logspace(-2, 2, 5)\n",
    "gamma_range = np.logspace(-2, 2, 5)\n",
    "param_grid = dict(gamma=gamma_range, C=C_range)\n",
    "clf_Tune = GridSearchCV(estimator=svr, cv=5, param_grid=param_grid,n_jobs=-1)\n",
    "\n",
    "##  Define LeaveOneOutCrossValidation\n",
    "#loocv = LeaveOneOut()\n",
    "ACC_Th2=[]\n",
    "AUC_Th2=[]\n",
    "Bins=[]\n",
    "for i in Th_2_Bins:\n",
    "    print i\n",
    "    try:\n",
    "        #Hyper parameter Tuning \n",
    "        clf_Tune.fit(X_train[:,np.squeeze(np.asarray(np.where(clf.scores_>=i)))],y_train)\n",
    "        print 'Finish tuning'\n",
    "\n",
    "        # use tuned parameter on to get model\n",
    "        y_p = clf_Tune.best_estimator_.predict(X_test[:,np.squeeze(np.asarray(np.where(clf.scores_>=i)))])\n",
    "\n",
    "        ACC_Th2_T=accuracy_score(y_test, y_p)\n",
    "        AUC_Th2_T=MulticlassAuc(y_test,y_p)\n",
    "        print 'Shape', X_test[:,np.squeeze(np.asarray(np.where(clf.scores_>=i)))].shape\n",
    "        print 'ACC',ACC_Th2_T,AUC_Th2_T\n",
    "        ACC_Th2.append(ACC_Th2_T)\n",
    "        AUC_Th2.append(AUC_Th2_T)\n",
    "        Bins.append(i)\n",
    "    except:\n",
    "        print 'error at:',i\n",
    "    # false_positive_rate, true_positive_rate, thresholds = roc_curve(y_test, y_p)\n",
    "    # roc_auc_T = auc(false_positive_rate, true_positive_rate)\n",
    "    # print 'AUC',roc_auc_T\n",
    "    # AUC_Th2.append(roc_auc_T)"
   ]
  },
  {
   "cell_type": "code",
   "execution_count": 39,
   "metadata": {},
   "outputs": [
    {
     "data": {
      "text/plain": [
       "0.6048553458691648"
      ]
     },
     "execution_count": 39,
     "metadata": {},
     "output_type": "execute_result"
    }
   ],
   "source": [
    "accuracy_score(y_test, y_p)\n",
    "MulticlassAuc(y_test,y_p)"
   ]
  },
  {
   "cell_type": "code",
   "execution_count": null,
   "metadata": {},
   "outputs": [],
   "source": [
    "        \n",
    "#         ACC_Th2_T=accuracy_score(y_test, y_p)\n",
    "#         AUC_Th2_T=MulticlassAuc(y_test,y_p)\n",
    "#         print 'Shape', X_test[:,np.squeeze(np.asarray(np.where(clf.scores_>=i)))].shape\n",
    "#         print 'ACC',ACC_Th2_T,AUC_Th2_T\n",
    "#         ACC_Th2.append(ACC_Th2_T)\n",
    "#         AUC_Th2.append(AUC_Th2_T)\n",
    "#         Bins.append(i)\n",
    "#     except:\n",
    "#         print 'error at:',i\n",
    "#     # false_positive_rate, true_positive_rate, thresholds = roc_curve(y_test, y_p)\n",
    "#     # roc_auc_T = auc(false_positive_rate, true_positive_rate)\n",
    "#     # print 'AUC',roc_auc_T\n",
    "#     # AUC_Th2.append(roc_auc_T)"
   ]
  },
  {
   "cell_type": "code",
   "execution_count": 1046,
   "metadata": {},
   "outputs": [
    {
     "data": {
      "text/plain": [
       "22"
      ]
     },
     "execution_count": 1046,
     "metadata": {},
     "output_type": "execute_result"
    }
   ],
   "source": [
    "#a=[0.765, 0.85]\n",
    "#a[1]\n",
    "float(100*(273-54)/273)\n",
    "273*.8\n",
    "100*(68-53)/68"
   ]
  },
  {
   "cell_type": "code",
   "execution_count": 32,
   "metadata": {},
   "outputs": [
    {
     "name": "stdout",
     "output_type": "stream",
     "text": [
      "0.178\n",
      "Finish tuning\n",
      "error at: 0.178\n",
      "0.267\n",
      "Finish tuning\n",
      "error at: 0.267\n",
      "0.356\n",
      "Finish tuning\n",
      "error at: 0.356\n",
      "0.44499999999999995\n",
      "Finish tuning\n",
      "error at: 0.44499999999999995\n",
      "0.534\n",
      "Finish tuning\n",
      "error at: 0.534\n",
      "0.623\n",
      "Finish tuning\n",
      "error at: 0.623\n",
      "0.712\n",
      "Finish tuning\n",
      "error at: 0.712\n",
      "0.8009999999999999\n",
      "Finish tuning\n",
      "error at: 0.8009999999999999\n"
     ]
    }
   ],
   "source": [
    "# #Splitting\n",
    "X_train, X_test, y_train, y_test = train_test_split(X, y, test_size=0.2, random_state=42)\n",
    "cv = ShuffleSplit(X_train.shape[0], test_size=0.2, random_state=42)\n",
    "\n",
    "# Define Classifier\n",
    "svr = svm.SVC(kernel='rbf')\n",
    "\n",
    "# Deffine tuning parameter\n",
    "# C_range = np.logspace(-2, 10, 13)\n",
    "# gamma_range = np.logspace(-9, 3, 13)\n",
    "\n",
    "C_range = np.logspace(-2, 2, 5)\n",
    "gamma_range = np.logspace(-2, 2, 5)\n",
    "param_grid = dict(gamma=gamma_range, C=C_range)\n",
    "clf_Tune = GridSearchCV(estimator=svr, cv=5, param_grid=param_grid,n_jobs=-1)\n",
    "\n",
    "##  Define LeaveOneOutCrossValidation\n",
    "#loocv = LeaveOneOut()\n",
    "ACC_Th2=[]\n",
    "AUC_Th2=[]\n",
    "Bins=[]\n",
    "#a=np.argsort(-clf.scores_)\n",
    "\n",
    "for i in Th_2_Bins:\n",
    "    print i\n",
    "    try:\n",
    "        #Hyper parameter Tuning \n",
    "        clf_Tune.fit(X_train[:,np.squeeze(np.asarray(np.where(clf.scores_>=i)))],y_train)\n",
    "        print 'Finish tuning'\n",
    "\n",
    "        # use tuned parameter on to get model\n",
    "        y_p = clf_Tune.best_estimator_.predict(X_test[:,np.squeeze(np.asarray(np.where(clf.scores_>=i)))])\n",
    "\n",
    "        ACC_Th2_T=accuracy_score(y_test, y_p)\n",
    "        AUC_Th2_T=MulticlassAuc(y_test,y_p)\n",
    "        print 'Shape', X_test[:,np.squeeze(np.asarray(np.where(clf.scores_>=i)))].shape\n",
    "        print 'ACC',ACC_Th2_T,AUC_Th2_T\n",
    "        ACC_Th2.append(ACC_Th2_T)\n",
    "        AUC_Th2.append(AUC_Th2_T)\n",
    "        Bins.append(i)\n",
    "    except:\n",
    "        print 'error at:',i\n",
    "    # false_positive_rate, true_positive_rate, thresholds = roc_curve(y_test, y_p)\n",
    "    # roc_auc_T = auc(false_positive_rate, true_positive_rate)\n",
    "    # print 'AUC',roc_auc_T\n",
    "    # AUC_Th2.append(roc_auc_T)\n",
    "    "
   ]
  },
  {
   "cell_type": "code",
   "execution_count": 194,
   "metadata": {},
   "outputs": [
    {
     "data": {
      "text/plain": [
       "[0.6065091512512537,\n",
       " 0.9084584280642489,\n",
       " 0.9312642598745453,\n",
       " 0.9410571886183087,\n",
       " 0.9280206696212288,\n",
       " 0.9138920146499763,\n",
       " 0.8842963971702441,\n",
       " 0.7825668975504931,\n",
       " 0.6802102699520164,\n",
       " 0.6048553458691648]"
      ]
     },
     "execution_count": 194,
     "metadata": {},
     "output_type": "execute_result"
    }
   ],
   "source": [
    "AUC_Th2"
   ]
  },
  {
   "cell_type": "code",
   "execution_count": 861,
   "metadata": {},
   "outputs": [
    {
     "data": {
      "image/png": "[encoded data removed]",
      "text/plain": [
       "<Figure size 432x288 with 3 Axes>"
      ]
     },
     "metadata": {
      "needs_background": "light"
     },
     "output_type": "display_data"
    }
   ],
   "source": [
    "from matplotlib.ticker import FormatStrFormatter\n",
    "Th_2_Bins=np.asarray(Bins)\n",
    "data=clf.scores_\n",
    "fig, ax = plt.subplots()\n",
    "fig.subplots_adjust(right=0.75)\n",
    "#counts, bins, patches = ax.hist(data,10 ,edgecolor='gray')\n",
    "counts, bins, patches = ax.hist(data,10,facecolor=\"None\",edgecolor='blue', lw=1)\n",
    "# Set the ticks to be at the edges of the bins.\n",
    "ax.set_xticks(bins)\n",
    "# Set the xaxis's tick labels to be formatted with 1 decimal place...\n",
    "ax.xaxis.set_major_formatter(FormatStrFormatter('%0.1f'))\n",
    "\n",
    "\n",
    "bin_centers = 0.5 * np.diff(bins) + bins[:-1]\n",
    "\n",
    "\n",
    "\n",
    "\n",
    "\n",
    "\n",
    "\n",
    "#show % value\n",
    "for count, x in zip(counts, bin_centers):\n",
    "    # Label the raw counts\n",
    "    ax.annotate(int(count), xy=(x, 0), xycoords=('data', 'axes fraction'),\n",
    "        xytext=(0, -18), textcoords='offset points', va='top', ha='center')\n",
    "\n",
    "    # Label the percentages\n",
    "    percent = '%0.0f%%' % (100 * float(count) / counts.sum())\n",
    "    ax.annotate(percent, xy=(x, 0), xycoords=('data', 'axes fraction'),\n",
    "        xytext=(0, -32), textcoords='offset points', va='top', ha='center')\n",
    "\n",
    "\n",
    "\n",
    "    \n",
    "    \n",
    "    \n",
    "    # Give ourselves some more room at the bottom of the plot\n",
    "\n",
    "ax2 = ax.twinx()\n",
    "ax2.plot(Th_2_Bins,AUC_Th2, color='red',ls='dashed' )#,THbin,CCC_Per)\n",
    "ax2.set_frame_on(False)\n",
    "ax2.set_ylabel('AUC', color='red')\n",
    "ax2.patch.set_visible(False)\n",
    "for i,j in zip(Th_2_Bins,AUC_Th2):\n",
    "    #ax2.annotate((\"%.2f\" % j),xy=(i+0.04,j-0.01), color ='red') ##############################\n",
    "    ax2.annotate((\"%.2f\" % j),xy=(i,j-0.01), color ='red') ##############################\n",
    "    ax2.plot(i,j, marker='o', markersize=7, color=\"red\")\n",
    "\n",
    "\n",
    "    \n",
    "ax3 = ax.twinx()\n",
    "ax3.plot(Th_2_Bins,ACC_Th2, color='black')#,THbin,CCC_Per)\n",
    "ax3.set_frame_on(False)\n",
    "ax3.set_ylabel('Accuracy', color='black')\n",
    "\n",
    "\n",
    "\n",
    "\n",
    "\n",
    "\n",
    "for i,j in zip(Th_2_Bins,ACC_Th2):\n",
    "     #ax3.annotate((\"%0.2f\" % j),xy=(i-0.05,j), color='black')\n",
    "    #ax3.annotate((\"%0.2f\" % j),xy=(i-0.1,j), color='black')##################################\n",
    "    ax3.annotate((\"%0.2f\" % j),xy=(i,j+0.01), color='black')##################################\n",
    "    ax3.plot(i,j, marker='*', markersize=10, color=\"black\")\n",
    "    #ax3.annotate((\"%0.2f,%0.2f\" % (i,j)),xy=(i-0.05,j), color='green')\n",
    "    #ax3.annotate((\"%0.3f\" %j),xy=(i,j), color='green')\n",
    "\n",
    "\n",
    "    \n",
    "    \n",
    "    \n",
    "    \n",
    "# Move the last y-axis spine over to the right by 20% of the width of the axes\n",
    "ax3.spines['right'].set_position(('axes', 1.15))\n",
    "ax3.spines['right'].set_visible(True)\n",
    "\n",
    "# To make the border of the right-most axis visible, we need to turn the frame\n",
    "# on. This hides the other plots, however, so we need to turn its fill off.\n",
    "ax3.set_frame_on(True)\n",
    "ax3.patch.set_visible(False)\n",
    "\n",
    "\n",
    "#ax.plot(bins,np.linspace(0,1,11))\n",
    "plt.subplots_adjust(bottom=0.15)\n",
    "plt.grid(False,which='both')\n",
    "ax.set_ylabel('Frequency')\n",
    "ax.yaxis.label.set_color('Blue')\n",
    "plt.tight_layout()\n",
    "# #Save the image\n",
    "\n",
    "filename='Corr_StabilitySelection_TH2'\n",
    "save_format='png'\n",
    "#print filename+'.'+save_format\n",
    "#pp='home/ralfahad/Pictures'\n",
    "#plt.savefig(filename+'.'+save_format,dpi=100)\n",
    "plt.savefig(filename+'.'+save_format,dpi=300, bbox_inches='tight')\n",
    "plt.show()\n",
    "\n"
   ]
  },
  {
   "cell_type": "code",
   "execution_count": 196,
   "metadata": {},
   "outputs": [
    {
     "name": "stdout",
     "output_type": "stream",
     "text": [
      "0.00 0.46 0.61 2278\n",
      "0.08 0.88 0.91 613\n",
      "0.17 0.91 0.93 408\n",
      "0.26 0.92 0.94 273\n",
      "0.34 0.90 0.93 183\n",
      "0.42 0.89 0.91 109\n",
      "0.51 0.85 0.88 54\n",
      "0.59 0.71 0.78 16\n",
      "0.68 0.57 0.68 8\n",
      "0.76 0.47 0.60 4\n"
     ]
    },
    {
     "data": {
      "text/html": [
       "<div>\n",
       "<style scoped>\n",
       "    .dataframe tbody tr th:only-of-type {\n",
       "        vertical-align: middle;\n",
       "    }\n",
       "\n",
       "    .dataframe tbody tr th {\n",
       "        vertical-align: top;\n",
       "    }\n",
       "\n",
       "    .dataframe thead th {\n",
       "        text-align: right;\n",
       "    }\n",
       "</style>\n",
       "<table border=\"1\" class=\"dataframe\">\n",
       "  <thead>\n",
       "    <tr style=\"text-align: right;\">\n",
       "      <th></th>\n",
       "      <th>Threshold</th>\n",
       "      <th>ACC</th>\n",
       "      <th>AUC</th>\n",
       "      <th>NoEle</th>\n",
       "    </tr>\n",
       "  </thead>\n",
       "  <tbody>\n",
       "    <tr>\n",
       "      <th>0</th>\n",
       "      <td>0.00</td>\n",
       "      <td>0.46</td>\n",
       "      <td>0.61</td>\n",
       "      <td>2278</td>\n",
       "    </tr>\n",
       "    <tr>\n",
       "      <th>1</th>\n",
       "      <td>0.08</td>\n",
       "      <td>0.88</td>\n",
       "      <td>0.91</td>\n",
       "      <td>613</td>\n",
       "    </tr>\n",
       "    <tr>\n",
       "      <th>2</th>\n",
       "      <td>0.17</td>\n",
       "      <td>0.91</td>\n",
       "      <td>0.93</td>\n",
       "      <td>408</td>\n",
       "    </tr>\n",
       "    <tr>\n",
       "      <th>3</th>\n",
       "      <td>0.26</td>\n",
       "      <td>0.92</td>\n",
       "      <td>0.94</td>\n",
       "      <td>273</td>\n",
       "    </tr>\n",
       "    <tr>\n",
       "      <th>4</th>\n",
       "      <td>0.34</td>\n",
       "      <td>0.90</td>\n",
       "      <td>0.93</td>\n",
       "      <td>183</td>\n",
       "    </tr>\n",
       "    <tr>\n",
       "      <th>5</th>\n",
       "      <td>0.42</td>\n",
       "      <td>0.89</td>\n",
       "      <td>0.91</td>\n",
       "      <td>109</td>\n",
       "    </tr>\n",
       "    <tr>\n",
       "      <th>6</th>\n",
       "      <td>0.51</td>\n",
       "      <td>0.85</td>\n",
       "      <td>0.88</td>\n",
       "      <td>54</td>\n",
       "    </tr>\n",
       "    <tr>\n",
       "      <th>7</th>\n",
       "      <td>0.59</td>\n",
       "      <td>0.71</td>\n",
       "      <td>0.78</td>\n",
       "      <td>16</td>\n",
       "    </tr>\n",
       "    <tr>\n",
       "      <th>8</th>\n",
       "      <td>0.68</td>\n",
       "      <td>0.57</td>\n",
       "      <td>0.68</td>\n",
       "      <td>8</td>\n",
       "    </tr>\n",
       "    <tr>\n",
       "      <th>9</th>\n",
       "      <td>0.76</td>\n",
       "      <td>0.47</td>\n",
       "      <td>0.60</td>\n",
       "      <td>4</td>\n",
       "    </tr>\n",
       "  </tbody>\n",
       "</table>\n",
       "</div>"
      ],
      "text/plain": [
       "  Threshold   ACC   AUC  NoEle\n",
       "0      0.00  0.46  0.61   2278\n",
       "1      0.08  0.88  0.91    613\n",
       "2      0.17  0.91  0.93    408\n",
       "3      0.26  0.92  0.94    273\n",
       "4      0.34  0.90  0.93    183\n",
       "5      0.42  0.89  0.91    109\n",
       "6      0.51  0.85  0.88     54\n",
       "7      0.59  0.71  0.78     16\n",
       "8      0.68  0.57  0.68      8\n",
       "9      0.76  0.47  0.60      4"
      ]
     },
     "execution_count": 196,
     "metadata": {},
     "output_type": "execute_result"
    }
   ],
   "source": [
    "# for i,j in zip(Th_2_Bins,AUC_Th2):\n",
    "#     print i,j\n",
    "All_ACC=[]\n",
    "All_AUC=[]\n",
    "ALL_Bins=[]\n",
    "NumberofElement=[]\n",
    "for i,j,k in zip(Th_2_Bins,ACC_Th2,AUC_Th2):\n",
    "    Th2Index=np.squeeze(np.asarray(np.where(clf.scores_>=i)))\n",
    "    print (\"{0:.2f}\".format(i)),(\"{0:.2f}\".format(j)),(\"{0:.2f}\".format(k)),len(Th2Index)\n",
    "    NumberofElement.append(len(Th2Index))\n",
    "    ALL_Bins.append(\"{0:.2f}\".format(i))\n",
    "    All_ACC.append(\"{0:.2f}\".format(j))\n",
    "    All_AUC.append(\"{0:.2f}\".format(k))\n",
    "\n",
    "Selected_Feature_Result=pd.concat([pd.DataFrame(ALL_Bins),pd.DataFrame(All_ACC),\n",
    "           pd.DataFrame(All_AUC),pd.DataFrame(NumberofElement)],axis=1)\n",
    "Selected_Feature_Result.columns=['Threshold','ACC','AUC','NoEle']\n",
    "Selected_Feature_Result"
   ]
  },
  {
   "cell_type": "code",
   "execution_count": 176,
   "metadata": {},
   "outputs": [
    {
     "data": {
      "text/html": [
       "<div>\n",
       "<style scoped>\n",
       "    .dataframe tbody tr th:only-of-type {\n",
       "        vertical-align: middle;\n",
       "    }\n",
       "\n",
       "    .dataframe tbody tr th {\n",
       "        vertical-align: top;\n",
       "    }\n",
       "\n",
       "    .dataframe thead th {\n",
       "        text-align: right;\n",
       "    }\n",
       "</style>\n",
       "<table border=\"1\" class=\"dataframe\">\n",
       "  <thead>\n",
       "    <tr style=\"text-align: right;\">\n",
       "      <th></th>\n",
       "      <th>Threshold</th>\n",
       "      <th>ACC</th>\n",
       "      <th>AUC</th>\n",
       "      <th>NoEle</th>\n",
       "    </tr>\n",
       "  </thead>\n",
       "  <tbody>\n",
       "    <tr>\n",
       "      <th>0</th>\n",
       "      <td>0.17</td>\n",
       "      <td>0.91</td>\n",
       "      <td>0.93</td>\n",
       "      <td>408</td>\n",
       "    </tr>\n",
       "    <tr>\n",
       "      <th>1</th>\n",
       "      <td>0.26</td>\n",
       "      <td>0.92</td>\n",
       "      <td>0.94</td>\n",
       "      <td>273</td>\n",
       "    </tr>\n",
       "    <tr>\n",
       "      <th>2</th>\n",
       "      <td>0.34</td>\n",
       "      <td>0.90</td>\n",
       "      <td>0.93</td>\n",
       "      <td>183</td>\n",
       "    </tr>\n",
       "    <tr>\n",
       "      <th>3</th>\n",
       "      <td>0.42</td>\n",
       "      <td>0.89</td>\n",
       "      <td>0.91</td>\n",
       "      <td>109</td>\n",
       "    </tr>\n",
       "    <tr>\n",
       "      <th>4</th>\n",
       "      <td>0.51</td>\n",
       "      <td>0.85</td>\n",
       "      <td>0.88</td>\n",
       "      <td>54</td>\n",
       "    </tr>\n",
       "    <tr>\n",
       "      <th>5</th>\n",
       "      <td>0.59</td>\n",
       "      <td>0.71</td>\n",
       "      <td>0.78</td>\n",
       "      <td>16</td>\n",
       "    </tr>\n",
       "    <tr>\n",
       "      <th>6</th>\n",
       "      <td>0.68</td>\n",
       "      <td>0.57</td>\n",
       "      <td>0.68</td>\n",
       "      <td>8</td>\n",
       "    </tr>\n",
       "    <tr>\n",
       "      <th>7</th>\n",
       "      <td>0.76</td>\n",
       "      <td>0.47</td>\n",
       "      <td>0.60</td>\n",
       "      <td>4</td>\n",
       "    </tr>\n",
       "  </tbody>\n",
       "</table>\n",
       "</div>"
      ],
      "text/plain": [
       "  Threshold   ACC   AUC  NoEle\n",
       "0      0.17  0.91  0.93    408\n",
       "1      0.26  0.92  0.94    273\n",
       "2      0.34  0.90  0.93    183\n",
       "3      0.42  0.89  0.91    109\n",
       "4      0.51  0.85  0.88     54\n",
       "5      0.59  0.71  0.78     16\n",
       "6      0.68  0.57  0.68      8\n",
       "7      0.76  0.47  0.60      4"
      ]
     },
     "execution_count": 176,
     "metadata": {},
     "output_type": "execute_result"
    }
   ],
   "source": [
    "Selected_Feature_Result=pd.concat([pd.DataFrame(ALL_Bins),pd.DataFrame(All_ACC),\n",
    "           pd.DataFrame(All_AUC),pd.DataFrame(NumberofElement)],axis=1)\n",
    "Selected_Feature_Result.columns=['Threshold','ACC','AUC','NoEle']\n",
    "Selected_Feature_Result"
   ]
  },
  {
   "cell_type": "code",
   "execution_count": 163,
   "metadata": {},
   "outputs": [
    {
     "name": "stdout",
     "output_type": "stream",
     "text": [
      "54\n",
      "408\n",
      "273\n",
      "183\n",
      "109\n",
      "54\n",
      "16\n",
      "8\n",
      "4\n"
     ]
    },
    {
     "data": {
      "text/plain": [
       "54"
      ]
     },
     "execution_count": 163,
     "metadata": {},
     "output_type": "execute_result"
    }
   ],
   "source": [
    "Th2Index=np.squeeze(np.asarray(np.where(clf.scores_>=0.51)))\n",
    "print len(Th2Index)\n",
    "for i in Th_2_Bins:\n",
    "    print len(np.squeeze(np.asarray(np.where(clf.scores_>=i))))\n",
    "    \n",
    "len(Th2Index)"
   ]
  },
  {
   "cell_type": "code",
   "execution_count": 790,
   "metadata": {},
   "outputs": [],
   "source": [
    "Desikan_Killiany =['bankssts L', 'bankssts R', 'caudalanteriorcingulate L', \n",
    "                   'caudalanteriorcingulate R', 'caudalmiddlefrontal L', 'caudalmiddlefrontal R', \n",
    "                   'cuneus L', 'cuneus R', 'entorhinal L', 'entorhinal R', 'frontalpole L', \n",
    "                   'frontalpole R', 'fusiform L', 'fusiform R', 'inferiorparietal L', \n",
    "                   'inferiorparietal R', 'inferiortemporal L', 'inferiortemporal R', 'insula L', 'insula R', \n",
    "                   'isthmuscingulate L', 'isthmuscingulate R', 'lateraloccipital L', 'lateraloccipital R', \n",
    "                   'lateralorbitofrontal L', 'lateralorbitofrontal R', 'lingual L', 'lingual R', 'medialorbitofrontal L', \n",
    "                   'medialorbitofrontal R', 'middletemporal L', 'middletemporal R', 'paracentral L', 'paracentral R',\n",
    "                   'parahippocampal L', 'parahippocampal R', 'parsopercularis L', 'parsopercularis R', 'parsorbitalis L',\n",
    "                   'parsorbitalis R', 'parstriangularis L', 'parstriangularis R', 'pericalcarine L', 'pericalcarine R', \n",
    "                   'postcentral L', 'postcentral R', 'posteriorcingulate L', 'posteriorcingulate R', 'precentral L', \n",
    "                   'precentral R', 'precuneus L', 'precuneus R', 'rostralanteriorcingulate L', 'rostralanteriorcingulate R', \n",
    "                   'rostralmiddlefrontal L', 'rostralmiddlefrontal R', 'superiorfrontal L', 'superiorfrontal R', \n",
    "                   'superiorparietal L', 'superiorparietal R', 'superiortemporal L', 'superiortemporal R', 'supramarginal L', \n",
    "                   'supramarginal R', 'temporalpole L','temporalpole R', 'transversetemporal L', 'transversetemporal R']\n",
    "\n",
    "\n",
    "len(Desikan_Killiany)\n",
    "\n",
    "NodeNameSerise=[]\n",
    "for i in range(68):\n",
    "    for j in range(68):\n",
    "        if i==j:\n",
    "            pass  \n",
    "        elif i < j:\n",
    "            pass        \n",
    "        else:\n",
    "            A=str(Desikan_Killiany[i]+'_'+Desikan_Killiany[j])\n",
    "            NodeNameSerise.append(A)\n",
    "            #RMat.append(M[i,j])\n",
    "        \n",
    "NodeNameSerise=np.asarray(NodeNameSerise)\n",
    "\n",
    "# for i in NodeNameSerise[Th2Index]:\n",
    "#     print i\n"
   ]
  },
  {
   "cell_type": "code",
   "execution_count": 1052,
   "metadata": {},
   "outputs": [],
   "source": [
    "#NodeNameSerise[Th2Index]\n",
    "Th2Index=np.squeeze(np.asarray(np.where(clf.scores_>=0.68)))\n",
    "SelectedNames_Corr=pd.concat([pd.DataFrame(NodeNameSerise[Th2Index]),pd.DataFrame(clf.scores_[Th2Index])],axis=1)\n",
    "SelectedNames_Corr.colums=['Name_Corr','Score_Corr']\n",
    "#SelectedNames_Corr"
   ]
  },
  {
   "cell_type": "code",
   "execution_count": 1051,
   "metadata": {},
   "outputs": [],
   "source": [
    "#NodeNameSerise[Th2Index]\n",
    "SelectedNames_Corr=pd.concat([pd.DataFrame(NodeNameSerise[Th2Index]),pd.DataFrame(clf.scores_[Th2Index])],axis=1)\n",
    "SelectedNames_Corr.colums=['Name_Corr','Score_Corr']\n",
    "#SelectedNames_PTE\n",
    "#Save as xlsx\n",
    "Fname='SelectedNames_Corr.xlsx'\n",
    "writer = pd.ExcelWriter(Fname, engine='xlsxwriter')\n",
    "SelectedNames_Corr.to_excel(writer, sheet_name='Sheet1')\n",
    "writer.save()\n"
   ]
  },
  {
   "cell_type": "code",
   "execution_count": 1053,
   "metadata": {},
   "outputs": [
    {
     "name": "stdout",
     "output_type": "stream",
     "text": [
      "(8, 2)\n",
      "['caudalmiddlefrontal R' 'inferiorparietal L' 'lateraloccipital L' 'lingual L' 'lingual R' 'middletemporal L'\n",
      " 'paracentral R' 'parahippocampal R' 'parstriangularis L' 'precuneus R' 'rostralmiddlefrontal L'\n",
      " 'superiorparietal L' 'superiortemporal R']\n",
      "13\n"
     ]
    }
   ],
   "source": [
    "#Corr_X = pd.ExcelFile(\"/home/ralfahad/Bidelman/PythonCode/SelectedNames_Corr.xlsx\")\n",
    "#SelectedNames_Corr = Corr_X.parse(\"Sheet1\",header=0)\n",
    "SelectedNames_Corr.columns=['Name_Corr','Score_Corr']\n",
    "print SelectedNames_Corr.shape\n",
    "FirstCorrNode=[]\n",
    "SecCorrNode=[]\n",
    "ForwardCorr=[]\n",
    "BackwardCorr=[]\n",
    "#SelectedNames_Corr.Name_Corr.str.split('_').tolist()[0][0]\n",
    "for i in range(len(SelectedNames_Corr.Name_Corr.str.split('_').tolist())):\n",
    "    FirstCorrNode.append(SelectedNames_Corr.Name_Corr.str.split('_').tolist()[i][0])\n",
    "    SecCorrNode.append(SelectedNames_Corr.Name_Corr.str.split('_').tolist()[i][1])\n",
    "    ForwardCorr.append(SelectedNames_Corr.Name_Corr.str.split('_').tolist()[i][0] +'_'+ SelectedNames_Corr.Name_Corr.str.split('_').tolist()[i][1])\n",
    "    BackwardCorr.append(SelectedNames_Corr.Name_Corr.str.split('_').tolist()[i][1] +'_'+ SelectedNames_Corr.Name_Corr.str.split('_').tolist()[i][0])\n",
    "    #ForwardCorr.append()\n",
    "FirstCorrNode=np.asarray(FirstCorrNode)  \n",
    "SecCorrNode=np.asarray(SecCorrNode) \n",
    "\n",
    "print reduce(np.union1d,(FirstCorrNode,SecCorrNode))\n",
    "print len(reduce(np.union1d,(FirstCorrNode,SecCorrNode)))\n",
    "\n",
    "\n",
    "\n",
    "\n"
   ]
  },
  {
   "cell_type": "code",
   "execution_count": 197,
   "metadata": {},
   "outputs": [
    {
     "data": {
      "text/html": [
       "<div>\n",
       "<style scoped>\n",
       "    .dataframe tbody tr th:only-of-type {\n",
       "        vertical-align: middle;\n",
       "    }\n",
       "\n",
       "    .dataframe tbody tr th {\n",
       "        vertical-align: top;\n",
       "    }\n",
       "\n",
       "    .dataframe thead th {\n",
       "        text-align: right;\n",
       "    }\n",
       "</style>\n",
       "<table border=\"1\" class=\"dataframe\">\n",
       "  <thead>\n",
       "    <tr style=\"text-align: right;\">\n",
       "      <th></th>\n",
       "      <th>Threshold</th>\n",
       "      <th>ACC</th>\n",
       "      <th>AUC</th>\n",
       "      <th>NoEdge</th>\n",
       "      <th>UniqueNode</th>\n",
       "    </tr>\n",
       "  </thead>\n",
       "  <tbody>\n",
       "    <tr>\n",
       "      <th>0</th>\n",
       "      <td>0.00</td>\n",
       "      <td>0.46</td>\n",
       "      <td>0.61</td>\n",
       "      <td>2278</td>\n",
       "      <td>68</td>\n",
       "    </tr>\n",
       "    <tr>\n",
       "      <th>1</th>\n",
       "      <td>0.08</td>\n",
       "      <td>0.88</td>\n",
       "      <td>0.91</td>\n",
       "      <td>613</td>\n",
       "      <td>68</td>\n",
       "    </tr>\n",
       "    <tr>\n",
       "      <th>2</th>\n",
       "      <td>0.17</td>\n",
       "      <td>0.91</td>\n",
       "      <td>0.93</td>\n",
       "      <td>408</td>\n",
       "      <td>68</td>\n",
       "    </tr>\n",
       "    <tr>\n",
       "      <th>3</th>\n",
       "      <td>0.26</td>\n",
       "      <td>0.92</td>\n",
       "      <td>0.94</td>\n",
       "      <td>273</td>\n",
       "      <td>68</td>\n",
       "    </tr>\n",
       "    <tr>\n",
       "      <th>4</th>\n",
       "      <td>0.34</td>\n",
       "      <td>0.90</td>\n",
       "      <td>0.93</td>\n",
       "      <td>183</td>\n",
       "      <td>68</td>\n",
       "    </tr>\n",
       "    <tr>\n",
       "      <th>5</th>\n",
       "      <td>0.42</td>\n",
       "      <td>0.89</td>\n",
       "      <td>0.91</td>\n",
       "      <td>109</td>\n",
       "      <td>64</td>\n",
       "    </tr>\n",
       "    <tr>\n",
       "      <th>6</th>\n",
       "      <td>0.51</td>\n",
       "      <td>0.85</td>\n",
       "      <td>0.88</td>\n",
       "      <td>54</td>\n",
       "      <td>53</td>\n",
       "    </tr>\n",
       "    <tr>\n",
       "      <th>7</th>\n",
       "      <td>0.59</td>\n",
       "      <td>0.71</td>\n",
       "      <td>0.78</td>\n",
       "      <td>16</td>\n",
       "      <td>24</td>\n",
       "    </tr>\n",
       "    <tr>\n",
       "      <th>8</th>\n",
       "      <td>0.68</td>\n",
       "      <td>0.57</td>\n",
       "      <td>0.68</td>\n",
       "      <td>8</td>\n",
       "      <td>13</td>\n",
       "    </tr>\n",
       "    <tr>\n",
       "      <th>9</th>\n",
       "      <td>0.76</td>\n",
       "      <td>0.47</td>\n",
       "      <td>0.60</td>\n",
       "      <td>4</td>\n",
       "      <td>8</td>\n",
       "    </tr>\n",
       "  </tbody>\n",
       "</table>\n",
       "</div>"
      ],
      "text/plain": [
       "  Threshold   ACC   AUC  NoEdge  UniqueNode\n",
       "0      0.00  0.46  0.61    2278          68\n",
       "1      0.08  0.88  0.91     613          68\n",
       "2      0.17  0.91  0.93     408          68\n",
       "3      0.26  0.92  0.94     273          68\n",
       "4      0.34  0.90  0.93     183          68\n",
       "5      0.42  0.89  0.91     109          64\n",
       "6      0.51  0.85  0.88      54          53\n",
       "7      0.59  0.71  0.78      16          24\n",
       "8      0.68  0.57  0.68       8          13\n",
       "9      0.76  0.47  0.60       4           8"
      ]
     },
     "execution_count": 197,
     "metadata": {},
     "output_type": "execute_result"
    }
   ],
   "source": [
    "# for i,j in zip(Th_2_Bins,AUC_Th2):\n",
    "#     print i,j\n",
    "All_ACC=[]\n",
    "All_AUC=[]\n",
    "ALL_Bins=[]\n",
    "NumberofElement=[]\n",
    "NumberofUniqueElement=[]\n",
    "\n",
    "for i,j,k in zip(Th_2_Bins,ACC_Th2,AUC_Th2):\n",
    "    Th2Index=np.squeeze(np.asarray(np.where(clf.scores_>=i)))\n",
    "    #print (\"{0:.2f}\".format(i)),(\"{0:.2f}\".format(j)),(\"{0:.2f}\".format(k)),len(Th2Index)\n",
    "    NumberofElement.append(len(Th2Index))\n",
    "    ALL_Bins.append(\"{0:.2f}\".format(i))\n",
    "    All_ACC.append(\"{0:.2f}\".format(j))\n",
    "    All_AUC.append(\"{0:.2f}\".format(k))\n",
    "    SelectedNames_Corr=pd.DataFrame(NodeNameSerise[Th2Index])\n",
    "    SelectedNames_Corr.columns=['Name_Corr']\n",
    "    FirstCorrNode=[]\n",
    "    SecCorrNode=[]\n",
    "    for i in range(len(SelectedNames_Corr.Name_Corr.str.split('_').tolist())):\n",
    "        FirstCorrNode.append(SelectedNames_Corr.Name_Corr.str.split('_').tolist()[i][0])\n",
    "        SecCorrNode.append(SelectedNames_Corr.Name_Corr.str.split('_').tolist()[i][1])\n",
    "    \n",
    "    #FirstCorrNode=np.asarray(FirstCorrNode)  \n",
    "    SecCorrNode=np.asarray(SecCorrNode) \n",
    "\n",
    "#print reduce(np.union1d,(FirstCorrNode,SecCorrNode))\n",
    "    NumberofUniqueElement.append(len(reduce(np.union1d,(FirstCorrNode,SecCorrNode))))\n",
    "\n",
    "Selected_Feature_Result=pd.concat([pd.DataFrame(ALL_Bins),pd.DataFrame(All_ACC),\n",
    "           pd.DataFrame(All_AUC),pd.DataFrame(NumberofElement),\n",
    "                                  pd.DataFrame(NumberofUniqueElement)],axis=1)\n",
    "Selected_Feature_Result.columns=['Threshold','ACC','AUC','NoEdge','UniqueNode']\n",
    "\n",
    "\n",
    "#Save as xlsx\n",
    "Fname='Selected_Feature_Result.xlsx'\n",
    "writer = pd.ExcelWriter(Fname, engine='xlsxwriter')\n",
    "Selected_Feature_Result.to_excel(writer, sheet_name='Sheet1')\n",
    "writer.save()\n",
    "\n",
    "Selected_Feature_Result\n",
    "\n",
    "\n"
   ]
  },
  {
   "cell_type": "code",
   "execution_count": 199,
   "metadata": {},
   "outputs": [],
   "source": [
    "# #concatenated_list = FirstCorrNode + SecCorrNode\n",
    "# concatenated_list = [y for x in [FirstCorrNode,SecCorrNode] for y in x] \n",
    "# print len(reduce(np.union1d,concatenated_list))\n",
    "# print len(reduce(np.union1d,concatenated_list))\n",
    "# count,Node_Name=np.unique(concatenated_list,return_counts=True)\n",
    "# pd.DataFrame(zip(count,Node_Name))#.shape"
   ]
  },
  {
   "cell_type": "code",
   "execution_count": 116,
   "metadata": {},
   "outputs": [
    {
     "data": {
      "text/plain": [
       "108"
      ]
     },
     "execution_count": 116,
     "metadata": {},
     "output_type": "execute_result"
    }
   ],
   "source": [
    "len(concatenated_list)"
   ]
  },
  {
   "cell_type": "code",
   "execution_count": 205,
   "metadata": {},
   "outputs": [
    {
     "data": {
      "text/html": [
       "<div>\n",
       "<style scoped>\n",
       "    .dataframe tbody tr th:only-of-type {\n",
       "        vertical-align: middle;\n",
       "    }\n",
       "\n",
       "    .dataframe tbody tr th {\n",
       "        vertical-align: top;\n",
       "    }\n",
       "\n",
       "    .dataframe thead th {\n",
       "        text-align: right;\n",
       "    }\n",
       "</style>\n",
       "<table border=\"1\" class=\"dataframe\">\n",
       "  <thead>\n",
       "    <tr style=\"text-align: right;\">\n",
       "      <th></th>\n",
       "      <th>-54.343785</th>\n",
       "      <th>-44.539029</th>\n",
       "      <th>4.163784</th>\n",
       "      <th>bankssts L</th>\n",
       "      <th>l.bankssts</th>\n",
       "    </tr>\n",
       "  </thead>\n",
       "  <tbody>\n",
       "    <tr>\n",
       "      <th>0</th>\n",
       "      <td>52.975610</td>\n",
       "      <td>-40.553816</td>\n",
       "      <td>5.303675</td>\n",
       "      <td>bankssts R</td>\n",
       "      <td>r.bankssts</td>\n",
       "    </tr>\n",
       "    <tr>\n",
       "      <th>1</th>\n",
       "      <td>-5.030493</td>\n",
       "      <td>20.087970</td>\n",
       "      <td>28.999343</td>\n",
       "      <td>caudalanteriorcingulate L</td>\n",
       "      <td>l.caudalanteriorcingulate</td>\n",
       "    </tr>\n",
       "    <tr>\n",
       "      <th>2</th>\n",
       "      <td>5.012041</td>\n",
       "      <td>22.258100</td>\n",
       "      <td>27.639678</td>\n",
       "      <td>caudalanteriorcingulate R</td>\n",
       "      <td>r.caudalanteriorcingulate</td>\n",
       "    </tr>\n",
       "    <tr>\n",
       "      <th>3</th>\n",
       "      <td>-35.521824</td>\n",
       "      <td>10.809538</td>\n",
       "      <td>44.190969</td>\n",
       "      <td>caudalmiddlefrontal L</td>\n",
       "      <td>l.caudalmiddlefrontal</td>\n",
       "    </tr>\n",
       "    <tr>\n",
       "      <th>4</th>\n",
       "      <td>35.661664</td>\n",
       "      <td>12.293548</td>\n",
       "      <td>44.471424</td>\n",
       "      <td>caudalmiddlefrontal R</td>\n",
       "      <td>r.caudalmiddlefrontal</td>\n",
       "    </tr>\n",
       "  </tbody>\n",
       "</table>\n",
       "</div>"
      ],
      "text/plain": [
       "   -54.343785  -44.539029   4.163784                 bankssts L  \\\n",
       "0   52.975610  -40.553816   5.303675                 bankssts R   \n",
       "1   -5.030493   20.087970  28.999343  caudalanteriorcingulate L   \n",
       "2    5.012041   22.258100  27.639678  caudalanteriorcingulate R   \n",
       "3  -35.521824   10.809538  44.190969      caudalmiddlefrontal L   \n",
       "4   35.661664   12.293548  44.471424      caudalmiddlefrontal R   \n",
       "\n",
       "                  l.bankssts  \n",
       "0                 r.bankssts  \n",
       "1  l.caudalanteriorcingulate  \n",
       "2  r.caudalanteriorcingulate  \n",
       "3      l.caudalmiddlefrontal  \n",
       "4      r.caudalmiddlefrontal  "
      ]
     },
     "execution_count": 205,
     "metadata": {},
     "output_type": "execute_result"
    }
   ],
   "source": [
    "#Load BrainNetwork Tamplate\n",
    "\n",
    "Desikan_Killiany_BN_Cordinates = pd.read_csv('/home/ralfahad/Bidelman/PythonCode/Desikan_Killiany_BN_Cordinates.csv', \n",
    "                   skiprows=[0],sep=' ')\n",
    "\n",
    "Desikan_Killiany_BN_Cordinates.head()\n",
    "\n",
    "#To write it\n",
    "\n",
    "#Desikan_Killiany_BS_Cordinates.to_csv('Desikan_Killiany_BN_Cordinates.csv', sep=' ', header=False, index=False)\n"
   ]
  },
  {
   "cell_type": "code",
   "execution_count": 1068,
   "metadata": {},
   "outputs": [
    {
     "data": {
      "text/html": [
       "<div>\n",
       "<style scoped>\n",
       "    .dataframe tbody tr th:only-of-type {\n",
       "        vertical-align: middle;\n",
       "    }\n",
       "\n",
       "    .dataframe tbody tr th {\n",
       "        vertical-align: top;\n",
       "    }\n",
       "\n",
       "    .dataframe thead th {\n",
       "        text-align: right;\n",
       "    }\n",
       "</style>\n",
       "<table border=\"1\" class=\"dataframe\">\n",
       "  <thead>\n",
       "    <tr style=\"text-align: right;\">\n",
       "      <th></th>\n",
       "      <th>Threshold</th>\n",
       "      <th>ACC</th>\n",
       "      <th>AUC</th>\n",
       "      <th>NoEdge</th>\n",
       "      <th>UniqueNode</th>\n",
       "    </tr>\n",
       "  </thead>\n",
       "  <tbody>\n",
       "    <tr>\n",
       "      <th>0</th>\n",
       "      <td>0.000</td>\n",
       "      <td>0.461905</td>\n",
       "      <td>0.606509</td>\n",
       "      <td>2278</td>\n",
       "      <td>68</td>\n",
       "    </tr>\n",
       "    <tr>\n",
       "      <th>1</th>\n",
       "      <td>0.085</td>\n",
       "      <td>0.879365</td>\n",
       "      <td>0.908458</td>\n",
       "      <td>613</td>\n",
       "      <td>68</td>\n",
       "    </tr>\n",
       "    <tr>\n",
       "      <th>2</th>\n",
       "      <td>0.170</td>\n",
       "      <td>0.909524</td>\n",
       "      <td>0.931264</td>\n",
       "      <td>408</td>\n",
       "      <td>68</td>\n",
       "    </tr>\n",
       "    <tr>\n",
       "      <th>3</th>\n",
       "      <td>0.255</td>\n",
       "      <td>0.922222</td>\n",
       "      <td>0.941057</td>\n",
       "      <td>273</td>\n",
       "      <td>68</td>\n",
       "    </tr>\n",
       "    <tr>\n",
       "      <th>4</th>\n",
       "      <td>0.340</td>\n",
       "      <td>0.904762</td>\n",
       "      <td>0.928021</td>\n",
       "      <td>183</td>\n",
       "      <td>68</td>\n",
       "    </tr>\n",
       "    <tr>\n",
       "      <th>5</th>\n",
       "      <td>0.425</td>\n",
       "      <td>0.885714</td>\n",
       "      <td>0.913892</td>\n",
       "      <td>109</td>\n",
       "      <td>64</td>\n",
       "    </tr>\n",
       "    <tr>\n",
       "      <th>6</th>\n",
       "      <td>0.510</td>\n",
       "      <td>0.847619</td>\n",
       "      <td>0.884296</td>\n",
       "      <td>54</td>\n",
       "      <td>53</td>\n",
       "    </tr>\n",
       "    <tr>\n",
       "      <th>7</th>\n",
       "      <td>0.595</td>\n",
       "      <td>0.709524</td>\n",
       "      <td>0.782567</td>\n",
       "      <td>16</td>\n",
       "      <td>24</td>\n",
       "    </tr>\n",
       "    <tr>\n",
       "      <th>8</th>\n",
       "      <td>0.680</td>\n",
       "      <td>0.573016</td>\n",
       "      <td>0.680210</td>\n",
       "      <td>8</td>\n",
       "      <td>13</td>\n",
       "    </tr>\n",
       "    <tr>\n",
       "      <th>9</th>\n",
       "      <td>0.765</td>\n",
       "      <td>0.471429</td>\n",
       "      <td>0.604855</td>\n",
       "      <td>4</td>\n",
       "      <td>8</td>\n",
       "    </tr>\n",
       "  </tbody>\n",
       "</table>\n",
       "</div>"
      ],
      "text/plain": [
       "   Threshold       ACC       AUC  NoEdge  UniqueNode\n",
       "0      0.000  0.461905  0.606509    2278          68\n",
       "1      0.085  0.879365  0.908458     613          68\n",
       "2      0.170  0.909524  0.931264     408          68\n",
       "3      0.255  0.922222  0.941057     273          68\n",
       "4      0.340  0.904762  0.928021     183          68\n",
       "5      0.425  0.885714  0.913892     109          64\n",
       "6      0.510  0.847619  0.884296      54          53\n",
       "7      0.595  0.709524  0.782567      16          24\n",
       "8      0.680  0.573016  0.680210       8          13\n",
       "9      0.765  0.471429  0.604855       4           8"
      ]
     },
     "execution_count": 1068,
     "metadata": {},
     "output_type": "execute_result"
    }
   ],
   "source": [
    "# for i,j in zip(Th_2_Bins,AUC_Th2):\n",
    "#     print i,j\n",
    "All_ACC=[]\n",
    "All_AUC=[]\n",
    "ALL_Bins=[]\n",
    "NumberofElement=[]\n",
    "NumberofUniqueElement=[]\n",
    "\n",
    "for i,j,k in zip(Th_2_Bins,ACC_Th2,AUC_Th2):\n",
    "    Th2Index=np.squeeze(np.asarray(np.where(clf.scores_>=i)))\n",
    "    #print (\"{0:.2f}\".format(i)),(\"{0:.2f}\".format(j)),(\"{0:.2f}\".format(k)),len(Th2Index)\n",
    "    NumberofElement.append(len(Th2Index))\n",
    "    ALL_Bins.append(i)\n",
    "    All_ACC.append(j)\n",
    "    All_AUC.append(k)\n",
    "    SelectedNames_Corr=pd.DataFrame(NodeNameSerise[Th2Index])\n",
    "    SelectedNames_Corr.columns=['Name_Corr']\n",
    "    FirstCorrNode=[]\n",
    "    SecCorrNode=[]\n",
    "    for i in range(len(SelectedNames_Corr.Name_Corr.str.split('_').tolist())):\n",
    "        FirstCorrNode.append(SelectedNames_Corr.Name_Corr.str.split('_').tolist()[i][0])\n",
    "        SecCorrNode.append(SelectedNames_Corr.Name_Corr.str.split('_').tolist()[i][1])\n",
    "    \n",
    "    #FirstCorrNode=np.asarray(FirstCorrNode)  \n",
    "    SecCorrNode=np.asarray(SecCorrNode) \n",
    "\n",
    "#print reduce(np.union1d,(FirstCorrNode,SecCorrNode))\n",
    "    NumberofUniqueElement.append(len(reduce(np.union1d,(FirstCorrNode,SecCorrNode))))\n",
    "\n",
    "Selected_Feature_Result=pd.concat([pd.DataFrame(ALL_Bins),pd.DataFrame(All_ACC),\n",
    "           pd.DataFrame(All_AUC),pd.DataFrame(NumberofElement),\n",
    "                                  pd.DataFrame(NumberofUniqueElement)],axis=1)\n",
    "Selected_Feature_Result.columns=['Threshold','ACC','AUC','NoEdge','UniqueNode']\n",
    "\n",
    "\n",
    "Selected_Feature_Result\n",
    "\n",
    "\n"
   ]
  },
  {
   "cell_type": "code",
   "execution_count": null,
   "metadata": {},
   "outputs": [],
   "source": []
  },
  {
   "cell_type": "code",
   "execution_count": 1073,
   "metadata": {},
   "outputs": [
    {
     "name": "stdout",
     "output_type": "stream",
     "text": [
      "                         0\n",
      "0    caudalmiddlefrontal R\n",
      "1       inferiorparietal L\n",
      "2       lateraloccipital L\n",
      "3                lingual L\n",
      "4                lingual R\n",
      "5         middletemporal L\n",
      "6            paracentral R\n",
      "7        parahippocampal R\n",
      "8       parstriangularis L\n",
      "9              precuneus R\n",
      "10  rostralmiddlefrontal L\n",
      "11      superiorparietal L\n",
      "12      superiortemporal R\n"
     ]
    }
   ],
   "source": [
    "Th2Index=np.squeeze(np.asarray(np.where(clf.scores_>=0.695)))\n",
    "#print (\"{0:.2f}\".format(i)),(\"{0:.2f}\".format(j)),(\"{0:.2f}\".format(k)),len(Th2Index)\n",
    "NumberofElement.append(len(Th2Index))\n",
    "ALL_Bins.append(i)\n",
    "All_ACC.append(j)\n",
    "All_AUC.append(k)\n",
    "SelectedNames_Corr=pd.DataFrame(NodeNameSerise[Th2Index])\n",
    "SelectedNames_Corr.columns=['Name_Corr']\n",
    "FirstCorrNode=[]\n",
    "SecCorrNode=[]\n",
    "for i in range(len(SelectedNames_Corr.Name_Corr.str.split('_').tolist())):\n",
    "    FirstCorrNode.append(SelectedNames_Corr.Name_Corr.str.split('_').tolist()[i][0])\n",
    "    SecCorrNode.append(SelectedNames_Corr.Name_Corr.str.split('_').tolist()[i][1])\n",
    "\n",
    "#FirstCorrNode=np.asarray(FirstCorrNode)  \n",
    "SecCorrNode=np.asarray(SecCorrNode) \n",
    "\n",
    "#print reduce(np.union1d,(FirstCorrNode,SecCorrNode))\n",
    "print pd.DataFrame(reduce(np.union1d,(FirstCorrNode,SecCorrNode)))"
   ]
  },
  {
   "cell_type": "code",
   "execution_count": null,
   "metadata": {},
   "outputs": [],
   "source": []
  },
  {
   "cell_type": "code",
   "execution_count": null,
   "metadata": {},
   "outputs": [],
   "source": []
  },
  {
   "cell_type": "code",
   "execution_count": 304,
   "metadata": {},
   "outputs": [],
   "source": [
    "Th2Index=np.squeeze(np.asarray(np.where(clf.scores_>=0.510)))\n",
    "SelectedNames_Corr=pd.DataFrame(NodeNameSerise[Th2Index])\n",
    "SelectedNames_Corr.columns=['Name_Corr']\n",
    "FirstCorrNode=[]\n",
    "SecCorrNode=[]\n",
    "for i in range(len(SelectedNames_Corr.Name_Corr.str.split('_').tolist())):\n",
    "    FirstCorrNode.append(SelectedNames_Corr.Name_Corr.str.split('_').tolist()[i][0])\n",
    "    SecCorrNode.append(SelectedNames_Corr.Name_Corr.str.split('_').tolist()[i][1])\n",
    "#FirstCorrNode\n",
    "#SecCorrNode\n",
    "#reduce(np.union1d,(FirstCorrNode,SecCorrNode),count=True)"
   ]
  },
  {
   "cell_type": "markdown",
   "metadata": {},
   "source": [
    "# Generate all connectivity matrix data for BrainNet"
   ]
  },
  {
   "cell_type": "code",
   "execution_count": 465,
   "metadata": {},
   "outputs": [
    {
     "data": {
      "text/plain": [
       "(3, 2278)"
      ]
     },
     "execution_count": 465,
     "metadata": {},
     "output_type": "execute_result"
    }
   ],
   "source": [
    "#Make group average COrr data\n",
    "X_Raw= pd.DataFrame(abs(np.asarray(CorrDataAll)))\n",
    "y=pd.DataFrame(np.asarray(TokenInfo))\n",
    "y.columns=['Label']\n",
    "Data_Label=pd.concat([X_Raw,y],axis=1)\n",
    "Group_CorrCon=Data_Label.groupby(['Label']).mean()\n",
    "Group_0CorrCon=Data_Label.groupby(['Label']).mean().loc[0,:]#.shape\n",
    "Group_1CorrCon=Data_Label.groupby(['Label']).mean().loc[1,:]\n",
    "Group_2CorrCon=Data_Label.groupby(['Label']).mean().loc[2,:]\n",
    "Group_CorrCon.shape"
   ]
  },
  {
   "cell_type": "code",
   "execution_count": 863,
   "metadata": {},
   "outputs": [
    {
     "data": {
      "text/plain": [
       "(3, 2278)"
      ]
     },
     "execution_count": 863,
     "metadata": {},
     "output_type": "execute_result"
    }
   ],
   "source": [
    "Group_CorrCon.shape"
   ]
  },
  {
   "cell_type": "code",
   "execution_count": 864,
   "metadata": {},
   "outputs": [],
   "source": [
    "import numpy, scipy.io\n",
    "scipy.io.savemat('/home/ralfahad/Bidelman/PythonCode/GeneratedData/Group_CorrCon.mat',\n",
    "                 mdict={'CorrData': np.asarray(Group_CorrCon)})"
   ]
  },
  {
   "cell_type": "code",
   "execution_count": 385,
   "metadata": {},
   "outputs": [
    {
     "data": {
      "text/html": [
       "<div>\n",
       "<style scoped>\n",
       "    .dataframe tbody tr th:only-of-type {\n",
       "        vertical-align: middle;\n",
       "    }\n",
       "\n",
       "    .dataframe tbody tr th {\n",
       "        vertical-align: top;\n",
       "    }\n",
       "\n",
       "    .dataframe thead th {\n",
       "        text-align: right;\n",
       "    }\n",
       "</style>\n",
       "<table border=\"1\" class=\"dataframe\">\n",
       "  <thead>\n",
       "    <tr style=\"text-align: right;\">\n",
       "      <th></th>\n",
       "      <th>x</th>\n",
       "      <th>y</th>\n",
       "      <th>z</th>\n",
       "      <th>Cluster</th>\n",
       "      <th>Count</th>\n",
       "      <th>NodeName</th>\n",
       "    </tr>\n",
       "  </thead>\n",
       "  <tbody>\n",
       "    <tr>\n",
       "      <th>0</th>\n",
       "      <td>-54.343785</td>\n",
       "      <td>-44.539029</td>\n",
       "      <td>4.163784</td>\n",
       "      <td>3</td>\n",
       "      <td>0</td>\n",
       "      <td>l.bankssts</td>\n",
       "    </tr>\n",
       "    <tr>\n",
       "      <th>1</th>\n",
       "      <td>52.975610</td>\n",
       "      <td>-40.553816</td>\n",
       "      <td>5.303675</td>\n",
       "      <td>3</td>\n",
       "      <td>2</td>\n",
       "      <td>r.bankssts</td>\n",
       "    </tr>\n",
       "  </tbody>\n",
       "</table>\n",
       "</div>"
      ],
      "text/plain": [
       "           x          y         z  Cluster  Count    NodeName\n",
       "0 -54.343785 -44.539029  4.163784        3      0  l.bankssts\n",
       "1  52.975610 -40.553816  5.303675        3      2  r.bankssts"
      ]
     },
     "execution_count": 385,
     "metadata": {},
     "output_type": "execute_result"
    }
   ],
   "source": [
    "# Load Co-ordinateData\n",
    "# CoordinateData=pd.read_csv(\n",
    "#     '/home/ralfahad/Bidelman/PythonCode/GeneratedData/Connectivity_Data/DK_withCluste_Lobe.csv',\n",
    "#     skiprows=[0],sep=',')\n",
    "CoordinateData=pd.read_csv(\n",
    "    '/home/ralfahad/Bidelman/PythonCode/GeneratedData/Connectivity_Data/DK_withCluste_Lobe.csv',\n",
    "    sep=',')\n",
    "\n",
    "Th2Index=np.squeeze(np.asarray(np.where(clf.scores_>=0.510)))\n",
    "SelectedNames_Corr=pd.DataFrame(NodeNameSerise[Th2Index])\n",
    "SelectedNames_Corr.columns=['Name_Corr']\n",
    "FirstCorrNode=[]\n",
    "SecCorrNode=[]\n",
    "for i in range(len(SelectedNames_Corr.Name_Corr.str.split('_').tolist())):\n",
    "    FirstCorrNode.append(SelectedNames_Corr.Name_Corr.str.split('_').tolist()[i][0])\n",
    "    SecCorrNode.append(SelectedNames_Corr.Name_Corr.str.split('_').tolist()[i][1])\n",
    "a_count = Counter(FirstCorrNode+SecCorrNode)\n",
    "df_a_count=pd.DataFrame(a_count.items())\n",
    "df_a_count.columns=['Name','Count']\n",
    "ConCat_Count=pd.merge(CoordinateData, \n",
    "         df_a_count,\n",
    "         on='Name', how='outer')\n",
    "ConCat_Count['Count'].fillna(0, inplace=True)\n",
    "ConCat_Count['Count']=ConCat_Count['Count'].astype(int)\n",
    "ConCat_Count['NodeName']=ConCat_Count['Name_BN']\n",
    "ConCat_Count.drop(['Name','Name_BN','Lobe','Unnamed: 7'], axis=1, inplace=True)\n",
    "ConCat_Count.head(2)\n",
    "\n"
   ]
  },
  {
   "cell_type": "code",
   "execution_count": null,
   "metadata": {},
   "outputs": [],
   "source": []
  },
  {
   "cell_type": "code",
   "execution_count": 750,
   "metadata": {},
   "outputs": [],
   "source": [
    "def CorrMat_flat_to_EdgeMat(CorrMat_flat,Th2Index):\n",
    "    \"\"\"\n",
    "    This function convert flat corr matrix to connectivity matrix with specified \n",
    "    threshold (Th2Index)\n",
    "    \"\"\"\n",
    "    A=np.zeros([68,68])\n",
    "    count=0\n",
    "    for i in range(68):\n",
    "        for j in range(68):\n",
    "            if i==j:\n",
    "                pass  \n",
    "            elif i < j:\n",
    "                pass        \n",
    "            else:\n",
    "                if sum(count==Th2Index):\n",
    "                    A[i,j]=CorrMat_flat[count]\n",
    "                    A[j,i]=CorrMat_flat[count]\n",
    "                count=count+1\n",
    "    return(pd.DataFrame(A))\n",
    "    #print count\n",
    "    "
   ]
  },
  {
   "cell_type": "code",
   "execution_count": 954,
   "metadata": {},
   "outputs": [
    {
     "name": "stdout",
     "output_type": "stream",
     "text": [
      "Group_0CorrCon\n",
      "Group_1CorrCon\n",
      "Group_2CorrCon\n"
     ]
    }
   ],
   "source": [
    "BrainNet_Corr_Dir='/home/ralfahad/Bidelman/PythonCode/GeneratedData/Connectivity_Data/BraiNet_Corr/'\n",
    "CoordinateData=pd.read_csv(\n",
    "    '/home/ralfahad/Bidelman/PythonCode/GeneratedData/Connectivity_Data/DK_withCluste_Lobe.csv',\n",
    "    sep=',')\n",
    "\n",
    "dirs=['Group_0CorrCon','Group_1CorrCon','Group_2CorrCon']\n",
    "\n",
    "for l,k in enumerate(dirs):\n",
    "    print k\n",
    "    for i,j in enumerate(Selected_Feature_Result.ACC):\n",
    "        TV=Selected_Feature_Result.Threshold.loc[i]\n",
    "        Th2Index=np.squeeze(np.asarray(np.where(clf.scores_>=TV)))\n",
    "        # #Make node file\n",
    "        SelectedNames_Corr=pd.DataFrame(NodeNameSerise[Th2Index])\n",
    "        SelectedNames_Corr.columns=['Name_Corr']\n",
    "        FirstCorrNode=[]\n",
    "        SecCorrNode=[]\n",
    "        for i in range(len(SelectedNames_Corr.Name_Corr.str.split('_').tolist())):\n",
    "            FirstCorrNode.append(SelectedNames_Corr.Name_Corr.str.split('_').tolist()[i][0])\n",
    "            SecCorrNode.append(SelectedNames_Corr.Name_Corr.str.split('_').tolist()[i][1])\n",
    "        a_count = Counter(FirstCorrNode+SecCorrNode)\n",
    "        df_a_count=pd.DataFrame(a_count.items())\n",
    "        df_a_count.columns=['Name','Count']\n",
    "        ConCat_Count=pd.merge(CoordinateData, \n",
    "                 df_a_count,\n",
    "                 on='Name', how='outer')\n",
    "        ConCat_Count['Count'].fillna(0, inplace=True)\n",
    "        ConCat_Count['Count']=ConCat_Count['Count'].astype(int)\n",
    "        ConCat_Count['NodeName']=ConCat_Count['Name_BN']\n",
    "        ConCat_Count.drop(['Name','Name_BN','Lobe','Unnamed: 7'], axis=1, inplace=True)\n",
    "        # # Edge matrix\n",
    "        A=CorrMat_flat_to_EdgeMat(Data_Label.groupby(['Label']).mean().loc[l,:],Th2Index)   \n",
    "#         A.to_csv(BrainNet_Corr_Dir+str(k)+'/'+'DK_Edge_'+str(\"{0:.2f}\".format(j))+'.edge', \n",
    "#                                               sep=' ', header=False, index=False)\n",
    "#         ConCat_Count.to_csv(BrainNet_Corr_Dir+str(k)+'/'+'DK_Node_'+str(\"{0:.2f}\".format(j))+'.node', \n",
    "#                                               sep=' ', header=False, index=False)\n"
   ]
  },
  {
   "cell_type": "markdown",
   "metadata": {},
   "source": [
    "# Make files with shortNames\n"
   ]
  },
  {
   "cell_type": "code",
   "execution_count": 994,
   "metadata": {},
   "outputs": [
    {
     "name": "stdout",
     "output_type": "stream",
     "text": [
      "Group_0CorrCon\n",
      "Group_1CorrCon\n",
      "Group_2CorrCon\n"
     ]
    }
   ],
   "source": [
    "#CorrMat_flat_to_EdgeMat(Data_Label.groupby(['Label']).mean().loc[l,:],Th2Index)\n",
    "CoordinateData_withShortName=pd.read_csv(\n",
    "    '/home/ralfahad/Bidelman/PythonCode/GeneratedData/Connectivity_Data/DK_withCluste_Lobe_WithShortName.csv',\n",
    "    sep=',')\n",
    "BrainNet_Corr_Dir='/home/ralfahad/Bidelman/PythonCode/GeneratedData/Connectivity_Data/CorrWithShortName/'\n",
    "# CoordinateData=pd.read_csv(\n",
    "#     '/home/ralfahad/Bidelman/PythonCode/GeneratedData/Connectivity_Data/DK_withCluste_Lobe.csv',\n",
    "#     sep=',')\n",
    "\n",
    "dirs=['Group_0CorrCon','Group_1CorrCon','Group_2CorrCon']\n",
    "\n",
    "for l,k in enumerate(dirs):\n",
    "    print k\n",
    "    for i,j in enumerate(Selected_Feature_Result.ACC):\n",
    "        TV=Selected_Feature_Result.Threshold.loc[i]\n",
    "        Th2Index=np.squeeze(np.asarray(np.where(clf.scores_>=TV)))\n",
    "        # #Make node file\n",
    "        SelectedNames_Corr=pd.DataFrame(NodeNameSerise[Th2Index])\n",
    "        SelectedNames_Corr.columns=['Name_Corr']\n",
    "        FirstCorrNode=[]\n",
    "        SecCorrNode=[]\n",
    "        for i in range(len(SelectedNames_Corr.Name_Corr.str.split('_').tolist())):\n",
    "            FirstCorrNode.append(SelectedNames_Corr.Name_Corr.str.split('_').tolist()[i][0])\n",
    "            SecCorrNode.append(SelectedNames_Corr.Name_Corr.str.split('_').tolist()[i][1])\n",
    "        a_count = Counter(FirstCorrNode+SecCorrNode)\n",
    "        df_a_count=pd.DataFrame(a_count.items())\n",
    "        df_a_count.columns=['Name','Count']\n",
    "        ConCat_Count=pd.merge(CoordinateData_withShortName, \n",
    "                 df_a_count,\n",
    "                 on='Name', how='outer')\n",
    "        ConCat_Count['Count'].fillna(0, inplace=True)\n",
    "        ConCat_Count['Count']=ConCat_Count['Count'].astype(int)\n",
    "        ConCat_Count['NodeName']=ConCat_Count['Name_BN']\n",
    "        ConCat_Count.drop(['Name','Name_BN','Lobe','Abrriviation',\n",
    "                          'Unnamed: 9','NodeName'\n",
    "                          ], axis=1, inplace=True)\n",
    "        columnsTitles = ['x','y','z','Cluster','Count','Shortname']\n",
    "\n",
    "        frame = ConCat_Count.reindex(columns=columnsTitles)\n",
    "        # # Edge matrix\n",
    "        A=CorrMat_flat_to_EdgeMat(Data_Label.groupby(['Label']).mean().loc[l,:],Th2Index)\n",
    "        A.to_csv(BrainNet_Corr_Dir+str(k)+'/'+'DK_Edge_'+str(\"{0:.2f}\".format(j))+'.edge', \n",
    "                                              sep=' ', header=False, index=False)\n",
    "        frame.to_csv(BrainNet_Corr_Dir+str(k)+'/'+'DK_Node_'+str(\"{0:.2f}\".format(j))+'.node', \n",
    "                                              sep=' ', header=False, index=False)\n",
    "\n",
    "\n",
    "\n"
   ]
  },
  {
   "cell_type": "code",
   "execution_count": 976,
   "metadata": {},
   "outputs": [
    {
     "data": {
      "text/html": [
       "<div>\n",
       "<style scoped>\n",
       "    .dataframe tbody tr th:only-of-type {\n",
       "        vertical-align: middle;\n",
       "    }\n",
       "\n",
       "    .dataframe tbody tr th {\n",
       "        vertical-align: top;\n",
       "    }\n",
       "\n",
       "    .dataframe thead th {\n",
       "        text-align: right;\n",
       "    }\n",
       "</style>\n",
       "<table border=\"1\" class=\"dataframe\">\n",
       "  <thead>\n",
       "    <tr style=\"text-align: right;\">\n",
       "      <th></th>\n",
       "      <th>x</th>\n",
       "      <th>y</th>\n",
       "      <th>z</th>\n",
       "      <th>Cluster</th>\n",
       "      <th>Shortname</th>\n",
       "      <th>Count</th>\n",
       "    </tr>\n",
       "  </thead>\n",
       "  <tbody>\n",
       "    <tr>\n",
       "      <th>0</th>\n",
       "      <td>-54.343785</td>\n",
       "      <td>-44.539029</td>\n",
       "      <td>4.163784</td>\n",
       "      <td>3</td>\n",
       "      <td>lBKS</td>\n",
       "      <td>0</td>\n",
       "    </tr>\n",
       "    <tr>\n",
       "      <th>1</th>\n",
       "      <td>52.975610</td>\n",
       "      <td>-40.553816</td>\n",
       "      <td>5.303675</td>\n",
       "      <td>3</td>\n",
       "      <td>rBKS</td>\n",
       "      <td>0</td>\n",
       "    </tr>\n",
       "    <tr>\n",
       "      <th>2</th>\n",
       "      <td>-5.030493</td>\n",
       "      <td>20.087970</td>\n",
       "      <td>28.999343</td>\n",
       "      <td>5</td>\n",
       "      <td>lCAC</td>\n",
       "      <td>0</td>\n",
       "    </tr>\n",
       "    <tr>\n",
       "      <th>3</th>\n",
       "      <td>5.012041</td>\n",
       "      <td>22.258100</td>\n",
       "      <td>27.639678</td>\n",
       "      <td>5</td>\n",
       "      <td>rCAC</td>\n",
       "      <td>0</td>\n",
       "    </tr>\n",
       "    <tr>\n",
       "      <th>4</th>\n",
       "      <td>-35.521824</td>\n",
       "      <td>10.809538</td>\n",
       "      <td>44.190969</td>\n",
       "      <td>1</td>\n",
       "      <td>ICMF</td>\n",
       "      <td>0</td>\n",
       "    </tr>\n",
       "  </tbody>\n",
       "</table>\n",
       "</div>"
      ],
      "text/plain": [
       "           x          y          z  Cluster Shortname  Count\n",
       "0 -54.343785 -44.539029   4.163784        3      lBKS      0\n",
       "1  52.975610 -40.553816   5.303675        3      rBKS      0\n",
       "2  -5.030493  20.087970  28.999343        5      lCAC      0\n",
       "3   5.012041  22.258100  27.639678        5      rCAC      0\n",
       "4 -35.521824  10.809538  44.190969        1      ICMF      0"
      ]
     },
     "execution_count": 976,
     "metadata": {},
     "output_type": "execute_result"
    }
   ],
   "source": [
    "ConCat_Count.head()"
   ]
  },
  {
   "cell_type": "code",
   "execution_count": 784,
   "metadata": {},
   "outputs": [
    {
     "name": "stdout",
     "output_type": "stream",
     "text": [
      " 60 22\n"
     ]
    },
    {
     "data": {
      "text/plain": [
       "array([[0., 0., 0., ..., 0., 0., 0.],\n",
       "       [0., 0., 0., ..., 0., 0., 0.],\n",
       "       [0., 0., 0., ..., 0., 0., 0.],\n",
       "       ...,\n",
       "       [0., 0., 0., ..., 0., 0., 0.],\n",
       "       [0., 0., 0., ..., 0., 0., 0.],\n",
       "       [0., 0., 0., ..., 0., 0., 0.]])"
      ]
     },
     "execution_count": 784,
     "metadata": {},
     "output_type": "execute_result"
    },
    {
     "data": {
      "image/png": "[encoded data removed]",
      "text/plain": [
       "<Figure size 432x288 with 2 Axes>"
      ]
     },
     "metadata": {
      "needs_background": "light"
     },
     "output_type": "display_data"
    }
   ],
   "source": [
    "def conn_plot(Group):\n",
    "    ConCat_Count['ind']=np.arange(68)\n",
    "    SortedInd=ConCat_Count.sort_values(by=['Cluster'])['ind']\n",
    "    SortedNN=ConCat_Count.sort_values(by=['Cluster'])['NodeName']\n",
    "    Th2Index=np.squeeze(np.asarray(np.where(clf.scores_>=0.510)))\n",
    "    #For group 0\n",
    "    l=2\n",
    "    A_V1=CorrMat_flat_to_EdgeMat(Data_Label.groupby(['Label']).mean().loc[Group,:],Th2Index)\n",
    "    A_Null=np.zeros([68,68])\n",
    "\n",
    "    for ic,i in enumerate(SortedInd):\n",
    "        for jc,j in enumerate(SortedInd):\n",
    "            if i==j:\n",
    "                pass  \n",
    "            elif i < j:\n",
    "                pass        \n",
    "            else:\n",
    "                #print i,j,ic,jc,A.loc[ic,jc]\n",
    "                #print ic,jc,A_V1.iloc[ic,jc]\n",
    "                A_Null[i,j]= A_V1.iloc[ic,jc]\n",
    "                A_Null[j,i]= A_V1.iloc[ic,jc]\n",
    "                #A_Null[j,i]= 1\n",
    "                #A_Null[i,j]= 1\n",
    "                #print A_V1.loc[ic,jc]\n",
    "                if A_V1.iloc[ic,jc]==0.7658232586620661:\n",
    "                    print i,j\n",
    "    \n",
    "\n",
    "    SortedNN_1=SortedNN.reset_index(drop=True)\n",
    "    # Plot lobe based connectivity matrix\n",
    "    ax = sns.heatmap(A_Null,cmap=\"YlGnBu\")\n",
    "    NumberCount=ConCat_Count.groupby(['Cluster']).count().Count\n",
    "    NumberCount_cum=np.cumsum(NumberCount)\n",
    "    for i in NumberCount_cum:\n",
    "        ax.add_patch(patches.Rectangle((0, 0), i, i,fill=False))\n",
    "    ax.plot([0,0], [68,68])\n",
    "#     for _, spine in ax.spines.items():\n",
    "#         spine.set_visible(False)\n",
    "#     # ADDED: Remove labels.\n",
    "#     ax.axes.get_xaxis().set_ticklabels([])    \n",
    "#     ax.axes.get_yaxis().set_ticklabels([])\n",
    "    return(A_Null)\n",
    "conn_plot(2)"
   ]
  },
  {
   "cell_type": "code",
   "execution_count": 769,
   "metadata": {},
   "outputs": [
    {
     "data": {
      "text/plain": [
       "array([[0., 0., 0., ..., 0., 0., 0.],\n",
       "       [0., 0., 0., ..., 0., 0., 0.],\n",
       "       [0., 0., 0., ..., 0., 0., 0.],\n",
       "       ...,\n",
       "       [0., 0., 0., ..., 0., 0., 0.],\n",
       "       [0., 0., 0., ..., 0., 0., 0.],\n",
       "       [0., 0., 0., ..., 0., 0., 0.]])"
      ]
     },
     "execution_count": 769,
     "metadata": {},
     "output_type": "execute_result"
    },
    {
     "data": {
      "image/png": "[encoded data removed]",
      "text/plain": [
       "<Figure size 432x288 with 2 Axes>"
      ]
     },
     "metadata": {
      "needs_background": "light"
     },
     "output_type": "display_data"
    }
   ],
   "source": [
    "conn_plot(1)"
   ]
  },
  {
   "cell_type": "code",
   "execution_count": 770,
   "metadata": {},
   "outputs": [
    {
     "data": {
      "image/png": "[encoded data removed]",
      "text/plain": [
       "<Figure size 432x288 with 2 Axes>"
      ]
     },
     "metadata": {
      "needs_background": "light"
     },
     "output_type": "display_data"
    }
   ],
   "source": [
    "A2=conn_plot(2)"
   ]
  },
  {
   "cell_type": "code",
   "execution_count": 782,
   "metadata": {},
   "outputs": [
    {
     "data": {
      "image/png": "[encoded data removed]",
      "text/plain": [
       "<Figure size 432x288 with 2 Axes>"
      ]
     },
     "metadata": {
      "needs_background": "light"
     },
     "output_type": "display_data"
    }
   ],
   "source": [
    "A3=conn_plot(2)"
   ]
  },
  {
   "cell_type": "code",
   "execution_count": 785,
   "metadata": {},
   "outputs": [
    {
     "name": "stdout",
     "output_type": "stream",
     "text": [
      "60 22\n"
     ]
    },
    {
     "data": {
      "image/png": "[encoded data removed]",
      "text/plain": [
       "<Figure size 432x288 with 2 Axes>"
      ]
     },
     "metadata": {
      "needs_background": "light"
     },
     "output_type": "display_data"
    }
   ],
   "source": [
    "A3=conn_plot(2)"
   ]
  },
  {
   "cell_type": "code",
   "execution_count": 780,
   "metadata": {},
   "outputs": [
    {
     "data": {
      "text/plain": [
       "(array([], dtype=int64), array([], dtype=int64))"
      ]
     },
     "execution_count": 780,
     "metadata": {},
     "output_type": "execute_result"
    }
   ],
   "source": [
    "A3[A3>=0.7]\n",
    "np.where(np.asarray(A3)==0.76582326)"
   ]
  },
  {
   "cell_type": "code",
   "execution_count": null,
   "metadata": {},
   "outputs": [],
   "source": []
  },
  {
   "cell_type": "code",
   "execution_count": 809,
   "metadata": {},
   "outputs": [],
   "source": [
    "# AllEdgeNameMatrix=np.zeros([68,68])\n",
    "# for ic,i in enumerate(Desikan_Killiany):\n",
    "#     for jc,j in enumerate(Desikan_Killiany):\n",
    "#         print i,j\n",
    "#         #AllEdgeNameMatrix.append(i+'_'+j)\n",
    "#         #AllEdgeNameMatrix[ic,jc]=str(i+'_'+j)"
   ]
  },
  {
   "cell_type": "code",
   "execution_count": 810,
   "metadata": {},
   "outputs": [],
   "source": [
    "#pd.DataFrame(np.asarray(AllEdgeNameMatrix).reshape(68,68))"
   ]
  },
  {
   "cell_type": "code",
   "execution_count": null,
   "metadata": {},
   "outputs": [],
   "source": [
    "AllEdgeNameMatrix=Desk"
   ]
  },
  {
   "cell_type": "code",
   "execution_count": 1070,
   "metadata": {},
   "outputs": [
    {
     "data": {
      "text/plain": [
       "['insula L_isthmuscingulate R',\n",
       " 'isthmuscingulate R_insula L',\n",
       " 'isthmuscingulate R_precentral R',\n",
       " 'parahippocampal R_precuneus R',\n",
       " 'parsorbitalis L_transversetemporal R',\n",
       " 'precentral R_isthmuscingulate R',\n",
       " 'precuneus R_parahippocampal R',\n",
       " 'transversetemporal R_parsorbitalis L']"
      ]
     },
     "execution_count": 1070,
     "metadata": {},
     "output_type": "execute_result"
    }
   ],
   "source": [
    "fileD='/home/ralfahad/Bidelman/PythonCode/GeneratedData/Connectivity_Data/BraiNet_Corr/Group_0CorrCon/'\n",
    "Group0Data=pd.read_csv(fileD+'DK_Edge_0.85.edge',sep=' ',header=None)\n",
    "\n",
    "#Desikan_Killiany[np.where(Group0Data>=0.5)]\n",
    "SelectedNodeAvobeTH=[]\n",
    "CorrThreshold=0.50\n",
    "for FNC,FN in enumerate(np.where(Group0Data>=CorrThreshold)[0]):\n",
    "    SN=Desikan_Killiany[np.where(Group0Data>=CorrThreshold)[1][FNC]]\n",
    "    #print SN\n",
    "    SelectedNodeAvobeTH.append(Desikan_Killiany[FN]+'_'+SN)\n",
    "    \n",
    "SelectedNodeAvobeTH[0:len(SelectedNodeAvobeTH)]\n",
    "\n"
   ]
  },
  {
   "cell_type": "code",
   "execution_count": 1067,
   "metadata": {},
   "outputs": [
    {
     "name": "stdout",
     "output_type": "stream",
     "text": [
      "['insula L' 'isthmuscingulate R' 'isthmuscingulate R' 'insula L' 'isthmuscingulate R' 'precentral R'\n",
      " 'parahippocampal R' 'precuneus R' 'parsorbitalis L' 'transversetemporal R' 'precentral R'\n",
      " 'isthmuscingulate R' 'precuneus R' 'parahippocampal R' 'transversetemporal R' 'parsorbitalis L']\n"
     ]
    },
    {
     "data": {
      "text/plain": [
       "array(['insula L', 'isthmuscingulate R', 'parahippocampal R', 'parsorbitalis L', 'precentral R',\n",
       "       'precuneus R', 'transversetemporal R'], dtype='|S20')"
      ]
     },
     "execution_count": 1067,
     "metadata": {},
     "output_type": "execute_result"
    }
   ],
   "source": [
    "Node8=[]\n",
    "for i in Edge8:\n",
    "    Node8.append(i.split('_')[0])\n",
    "    Node8.append(i.split('_')[1])\n",
    "print np.asarray(Node8)\n",
    "reduce(np.union1d,np.asarray(Node8))"
   ]
  },
  {
   "cell_type": "code",
   "execution_count": 894,
   "metadata": {},
   "outputs": [
    {
     "data": {
      "text/plain": [
       "['isthmuscingulate R_precentral R',\n",
       " 'parahippocampal R_precuneus R',\n",
       " 'parsorbitalis L_transversetemporal R',\n",
       " 'precentral R_isthmuscingulate R',\n",
       " 'precuneus R_parahippocampal R',\n",
       " 'transversetemporal R_parsorbitalis L']"
      ]
     },
     "execution_count": 894,
     "metadata": {},
     "output_type": "execute_result"
    }
   ],
   "source": [
    "fileD='/home/ralfahad/Bidelman/PythonCode/GeneratedData/Connectivity_Data/BraiNet_Corr/Group_1CorrCon/'\n",
    "Group0Data=pd.read_csv(fileD+'DK_Edge_0.85.edge',sep=' ',header=None)\n",
    "\n",
    "#Desikan_Killiany[np.where(Group0Data>=0.5)]\n",
    "SelectedNodeAvobeTH=[]\n",
    "CorrThreshold=0.50\n",
    "for FNC,FN in enumerate(np.where(Group0Data>=CorrThreshold)[0]):\n",
    "    SN=Desikan_Killiany[np.where(Group0Data>=CorrThreshold)[1][FNC]]\n",
    "    #print SN\n",
    "    SelectedNodeAvobeTH.append(Desikan_Killiany[FN]+'_'+SN)\n",
    "    \n",
    "SelectedNodeAvobeTH[0:len(SelectedNodeAvobeTH)]\n"
   ]
  },
  {
   "cell_type": "code",
   "execution_count": 859,
   "metadata": {},
   "outputs": [
    {
     "data": {
      "text/plain": [
       "['isthmuscingulate R_precentral R',\n",
       " 'parahippocampal R_precuneus R',\n",
       " 'parsorbitalis L_transversetemporal R']"
      ]
     },
     "execution_count": 859,
     "metadata": {},
     "output_type": "execute_result"
    }
   ],
   "source": [
    "fileD='/home/ralfahad/Bidelman/PythonCode/GeneratedData/Connectivity_Data/BraiNet_Corr/Group_2CorrCon/'\n",
    "Group0Data=pd.read_csv(fileD+'DK_Edge_0.85.edge',sep=' ',header=None)\n",
    "\n",
    "#Desikan_Killiany[np.where(Group0Data>=0.5)]\n",
    "SelectedNodeAvobeTH=[]\n",
    "CorrThreshold=0.5\n",
    "for FNC,FN in enumerate(np.where(Group0Data>=CorrThreshold)[0]):\n",
    "    SN=Desikan_Killiany[np.where(Group0Data>=CorrThreshold)[1][FNC]]\n",
    "    #print SN\n",
    "    SelectedNodeAvobeTH.append(Desikan_Killiany[FN]+'_'+SN)\n",
    "    #print \n",
    "    \n",
    "SelectedNodeAvobeTH[0:len(SelectedNodeAvobeTH)/2]"
   ]
  },
  {
   "cell_type": "code",
   "execution_count": 871,
   "metadata": {},
   "outputs": [],
   "source": [
    "# Load Generated network features form matlab\n",
    "NetworkMeasuresName=['Charactersics_path',\n",
    "'Average_clustering_coefficient', \n",
    "'Small_worldness',\n",
    "'Assortativity',\n",
    "'Global efficiency', \n",
    "'transitivity',\n",
    "'maximized modularity']\n",
    "Static_Group_NetworkMeasures = spio.loadmat(\n",
    "    '/home/ralfahad/Bidelman/PythonCode/GeneratedData/Static_Group_NetworkMeasures_BootStrap_GruopData.mat',\n",
    "                     squeeze_me=True)['featureMatrix']\n",
    "\n",
    "# Clusters=pd.DataFrame(np.asarray(TokenInfo))\n",
    "# Clusters.columns=[\"Cluster\"]\n",
    "# Static_Group_NetworkMeasures=pd.DataFrame(Static_Group_NetworkMeasures)\n",
    "# Static_Group_NetworkMeasures.columns=NetworkMeasuresName\n",
    "# df=pd.concat([Clusters, pd.DataFrame(Static_Group_NetworkMeasures)], axis=1)\n",
    "\n",
    "# for i in NetworkMeasuresName:\n",
    "#     x=df[df['Cluster']==0][i]\n",
    "#     y=df[df['Cluster']==1][i]\n",
    "#     z=df[df['Cluster']==2][i]\n",
    "#     print stats.kruskal(x, y,z),i\n",
    "\n",
    "\n",
    "GroupdataNetResult=pd.DataFrame(Static_Group_NetworkMeasures)\n",
    "GroupdataNetResult.columns=NetworkMeasuresName\n",
    "\n",
    "#Save as xlsx\n",
    "Fname='GroupdataNetResult.xlsx'\n",
    "writer = pd.ExcelWriter(Fname, engine='xlsxwriter')\n",
    "GroupdataNetResult.to_excel(writer, sheet_name='Sheet1')\n",
    "writer.save()\n",
    "\n"
   ]
  },
  {
   "cell_type": "markdown",
   "metadata": {},
   "source": [
    "\n",
    "\n",
    "\n",
    "\n",
    "\n",
    "\n",
    "\n",
    "# Dynamic Connectivity Analysis"
   ]
  },
  {
   "cell_type": "code",
   "execution_count": null,
   "metadata": {},
   "outputs": [],
   "source": [
    "#loop =[4,6,8,10, 12, 20] # loop over sample secound dividation\n",
    "#Data to connectivity matrix xonversion \n",
    "\n",
    "def DatatoCorrMatrix(time,Data_All):\n",
    "    #Define variables\n",
    "    SamplingRate=128\n",
    "    SampleLenght=128*63\n",
    "    Ch=68\n",
    "    PercentOverlap=0.25\n",
    "    print 'sec:',time,'devide:',30720/time,'rmeainder:',30720%time\n",
    "    SampleWindowSize= 512*time\n",
    "    AllSmapleCorrVector=[]#np.array([])\n",
    "    for Samples in range(0,Data_All.shape[0],68):\n",
    "        OneSample= Data_All[Samples:(Samples+68), :-1]\n",
    "        ar=rolling_window(OneSample, (Ch,SampleWindowSize), asteps=np.round(SampleWindowSize*(1-PercentOverlap)))\n",
    "        #print ar.shape\n",
    "        OneSmapleCorrVector=[]\n",
    "        for i in range(ar.shape[1]):\n",
    "            SS=ar[0][i][:,:]\n",
    "            OneSmapleCorrVector.append(MatrixToCorrArray(SS))\n",
    "\n",
    "        AllSmapleCorrVector.append(OneSmapleCorrVector)\n",
    "    d1,d2,d3=np.asarray(AllSmapleCorrVector).shape\n",
    "    All_reshape=np.asarray(AllSmapleCorrVector).reshape((d1*d2), d3)\n",
    "    return All_reshape\n"
   ]
  },
  {
   "cell_type": "code",
   "execution_count": 378,
   "metadata": {},
   "outputs": [
    {
     "name": "stdout",
     "output_type": "stream",
     "text": [
      "Subject1.mat\n"
     ]
    }
   ],
   "source": [
    "import scipy.io as spio\n",
    "ROI=68\n",
    "DataLocation='/home/ralfahad/Matlab/AllBrainstormScoutFiles/'\n",
    "CorrDataAll=[] # save all subjects corr data\n",
    "PTEDataAll=[] # save all subjects corr data\n",
    "SubInfo=[]\n",
    "Cnt=0\n",
    "#for i in range(1,36,1): # itterate through all subject\n",
    "i=1\n",
    "print 'Subject'+str(i)+'.mat'\n",
    "Data_Mat_file='Subject'+str(i)+'.mat'\n",
    "filepath = DataLocation+Data_Mat_file\n",
    "S_Mat = spio.loadmat(filepath,squeeze_me=True)\n",
    "#S_SubjectName=np.transpose(S_Label_Mat['SubjectName'])\n",
    "S=S_Mat['Value']\n",
    "#print S.shape\n",
    "S_reshaped=S.reshape(S.shape[0]/ROI,ROI,S.shape[1]) # convert (56304, 500) to (828, 68, 500)\n",
    "# #print S_reshaped.shape\n",
    "# if i<=21: # some data name with T\n",
    "#     MetadataSubjectName='S'+str(i)\n",
    "# else:\n",
    "#     MetadataSubjectName='T'+str(i-21)\n",
    "\n",
    "# print MetadataSubjectName\n",
    "# for j in range(3): # only consider 3 cluster label\n",
    "#     Cluster0Data=S_reshaped[Metadata.index[(Metadata['Subject#']==MetadataSubjectName) & \n",
    "#          (Metadata['Cluster']!=3)& # do not consider cluster 3 as it is outlaier\n",
    "#          (Metadata['Cluster']==j) #&\n",
    "#         ]-Cnt].mean(axis=0)\n",
    "#     #print Cluster0Data.shape\n",
    "#    #PTEDataAll.append(MatrixToPTEArray(Cluster0Data))\n",
    "#     try:\n",
    "#         CorrDataAll.append(MatrixToCorrArray(Cluster0Data)) # Save corr data\n",
    "#     except:\n",
    "#         print 'Corr can not calcuate for sub:', MetadataSubjectName\n",
    "#         pass\n",
    "#     try:\n",
    "#         PTEDataAll.append(MatrixToPTEArray(Cluster0Data)) # Save PTE data\n",
    "#     except:\n",
    "#         print 'PTE can not calcuate for sub:', MetadataSubjectName\n",
    "#         pass\n",
    "#     #save subject info\n",
    "#     S_I=MetadataSubjectName+'_Corr_CL_'+str(j)\n",
    "#     SubInfo.append(S_I)\n",
    "\n",
    "\n",
    "# Cnt=Cnt+S_reshaped.shape[0]"
   ]
  },
  {
   "cell_type": "code",
   "execution_count": 380,
   "metadata": {},
   "outputs": [
    {
     "data": {
      "text/plain": [
       "(828, 68, 500)"
      ]
     },
     "execution_count": 380,
     "metadata": {},
     "output_type": "execute_result"
    }
   ],
   "source": [
    "S_reshaped.shape"
   ]
  },
  {
   "cell_type": "code",
   "execution_count": 8,
   "metadata": {},
   "outputs": [],
   "source": [
    "import matlab.engine\n",
    "eng = matlab.engine.start_matlab()\n",
    "a=eng.triarea(nargout=0)"
   ]
  },
  {
   "cell_type": "code",
   "execution_count": null,
   "metadata": {},
   "outputs": [],
   "source": [
    "a"
   ]
  },
  {
   "cell_type": "code",
   "execution_count": null,
   "metadata": {},
   "outputs": [],
   "source": []
  }
 ],
 "metadata": {
  "kernelspec": {
   "display_name": "Python 2",
   "language": "python",
   "name": "python2"
  },
  "language_info": {
   "codemirror_mode": {
    "name": "ipython",
    "version": 2
   },
   "file_extension": ".py",
   "mimetype": "text/x-python",
   "name": "python",
   "nbconvert_exporter": "python",
   "pygments_lexer": "ipython2",
   "version": "2.7.6"
  }
 },
 "nbformat": 4,
 "nbformat_minor": 2
}
