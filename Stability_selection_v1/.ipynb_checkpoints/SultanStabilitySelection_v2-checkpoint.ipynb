{
 "cells": [
  {
   "cell_type": "code",
   "execution_count": 14,
   "metadata": {},
   "outputs": [],
   "source": [
    "# Import library\n",
    "import pandas as pd\n",
    "import numpy as np\n",
    "from sklearn.model_selection import train_test_split,ShuffleSplit\n",
    "from sklearn import svm\n",
    "import sys\n",
    "# sys.path.append('/home/ralfahad/PythonUtility/PTE')\n",
    "# from PhaseTE_MF import PhaseTE_MF\n",
    "from scipy import stats\n",
    "import seaborn as sns\n",
    "from matplotlib import pyplot as plt\n",
    "from collections import Counter\n",
    "import warnings\n",
    "from sklearn import svm, metrics,preprocessing\n",
    "#from sklearn import datasets\n",
    "from sklearn.model_selection import train_test_split, GridSearchCV\n",
    "from sklearn.metrics import accuracy_score,confusion_matrix,roc_curve, auc\n",
    "from matplotlib import pyplot as plt\n",
    "from collections import Counter\n",
    "from scipy.stats import norm\n",
    "import seaborn as sns; sns.set(font_scale=1.2)\n",
    "%matplotlib inline\n",
    "warnings.filterwarnings('ignore')"
   ]
  },
  {
   "cell_type": "code",
   "execution_count": 3,
   "metadata": {},
   "outputs": [
    {
     "data": {
      "text/html": [
       "<div>\n",
       "<style scoped>\n",
       "    .dataframe tbody tr th:only-of-type {\n",
       "        vertical-align: middle;\n",
       "    }\n",
       "\n",
       "    .dataframe tbody tr th {\n",
       "        vertical-align: top;\n",
       "    }\n",
       "\n",
       "    .dataframe thead th {\n",
       "        text-align: right;\n",
       "    }\n",
       "</style>\n",
       "<table border=\"1\" class=\"dataframe\">\n",
       "  <thead>\n",
       "    <tr style=\"text-align: right;\">\n",
       "      <th></th>\n",
       "      <th>Unnamed: 0</th>\n",
       "      <th>label</th>\n",
       "      <th>0</th>\n",
       "      <th>1</th>\n",
       "      <th>2</th>\n",
       "      <th>3</th>\n",
       "      <th>4</th>\n",
       "      <th>5</th>\n",
       "      <th>6</th>\n",
       "      <th>7</th>\n",
       "      <th>...</th>\n",
       "      <th>1418</th>\n",
       "      <th>1419</th>\n",
       "      <th>1420</th>\n",
       "      <th>1421</th>\n",
       "      <th>1422</th>\n",
       "      <th>1423</th>\n",
       "      <th>1424</th>\n",
       "      <th>1425</th>\n",
       "      <th>1426</th>\n",
       "      <th>1427</th>\n",
       "    </tr>\n",
       "  </thead>\n",
       "  <tbody>\n",
       "    <tr>\n",
       "      <th>0</th>\n",
       "      <td>0</td>\n",
       "      <td>0.0</td>\n",
       "      <td>1.348536e-10</td>\n",
       "      <td>4.485844e-10</td>\n",
       "      <td>-3.462068e-10</td>\n",
       "      <td>-3.291245e-10</td>\n",
       "      <td>-1.034517e-10</td>\n",
       "      <td>-6.298884e-11</td>\n",
       "      <td>-2.943444e-10</td>\n",
       "      <td>2.792682e-10</td>\n",
       "      <td>...</td>\n",
       "      <td>2.179460e-10</td>\n",
       "      <td>5.827360e-11</td>\n",
       "      <td>-1.493066e-10</td>\n",
       "      <td>5.830621e-10</td>\n",
       "      <td>3.932456e-10</td>\n",
       "      <td>2.237174e-10</td>\n",
       "      <td>3.116949e-10</td>\n",
       "      <td>6.348504e-11</td>\n",
       "      <td>-2.940855e-10</td>\n",
       "      <td>-7.326263e-10</td>\n",
       "    </tr>\n",
       "    <tr>\n",
       "      <th>1</th>\n",
       "      <td>1</td>\n",
       "      <td>0.0</td>\n",
       "      <td>5.237528e-10</td>\n",
       "      <td>5.129825e-10</td>\n",
       "      <td>-9.563756e-11</td>\n",
       "      <td>-1.410408e-10</td>\n",
       "      <td>-1.581939e-11</td>\n",
       "      <td>-2.503525e-10</td>\n",
       "      <td>-4.600417e-10</td>\n",
       "      <td>3.559993e-10</td>\n",
       "      <td>...</td>\n",
       "      <td>1.422360e-10</td>\n",
       "      <td>5.713910e-11</td>\n",
       "      <td>-6.507376e-10</td>\n",
       "      <td>9.231440e-10</td>\n",
       "      <td>4.240692e-10</td>\n",
       "      <td>2.814102e-10</td>\n",
       "      <td>-6.047472e-10</td>\n",
       "      <td>-3.311017e-10</td>\n",
       "      <td>-1.773615e-10</td>\n",
       "      <td>-1.007983e-09</td>\n",
       "    </tr>\n",
       "  </tbody>\n",
       "</table>\n",
       "<p>2 rows × 1430 columns</p>\n",
       "</div>"
      ],
      "text/plain": [
       "   Unnamed: 0  label             0             1             2             3  \\\n",
       "0           0    0.0  1.348536e-10  4.485844e-10 -3.462068e-10 -3.291245e-10   \n",
       "1           1    0.0  5.237528e-10  5.129825e-10 -9.563756e-11 -1.410408e-10   \n",
       "\n",
       "              4             5             6             7      ...       \\\n",
       "0 -1.034517e-10 -6.298884e-11 -2.943444e-10  2.792682e-10      ...        \n",
       "1 -1.581939e-11 -2.503525e-10 -4.600417e-10  3.559993e-10      ...        \n",
       "\n",
       "           1418          1419          1420          1421          1422  \\\n",
       "0  2.179460e-10  5.827360e-11 -1.493066e-10  5.830621e-10  3.932456e-10   \n",
       "1  1.422360e-10  5.713910e-11 -6.507376e-10  9.231440e-10  4.240692e-10   \n",
       "\n",
       "           1423          1424          1425          1426          1427  \n",
       "0  2.237174e-10  3.116949e-10  6.348504e-11 -2.940855e-10 -7.326263e-10  \n",
       "1  2.814102e-10 -6.047472e-10 -3.311017e-10 -1.773615e-10 -1.007983e-09  \n",
       "\n",
       "[2 rows x 1430 columns]"
      ]
     },
     "execution_count": 3,
     "metadata": {},
     "output_type": "execute_result"
    }
   ],
   "source": [
    "#Load the metadata\n",
    "Metadata=pd.read_csv(\"/home/sultan/EEG/Source_Level_Analysis/50tr10ms_all_clear_erp.csv\")\n",
    "Metadata.head(2)"
   ]
  },
  {
   "cell_type": "code",
   "execution_count": 109,
   "metadata": {},
   "outputs": [
    {
     "data": {
      "text/plain": [
       "((3783, 1428), (3783,))"
      ]
     },
     "execution_count": 109,
     "metadata": {},
     "output_type": "execute_result"
    }
   ],
   "source": [
    "X=Metadata.iloc[:,2:]\n",
    "y=Metadata['label']\n",
    "X.shape,y.shape\n",
    "\n"
   ]
  },
  {
   "cell_type": "code",
   "execution_count": null,
   "metadata": {},
   "outputs": [],
   "source": [
    "# TSNE"
   ]
  },
  {
   "cell_type": "code",
   "execution_count": 58,
   "metadata": {},
   "outputs": [],
   "source": [
    "import sys\n",
    "import os\n",
    "\n",
    "from scipy import linalg as LA\n",
    "\n",
    "\n",
    "np.set_printoptions(precision=3, linewidth=110, suppress=True)\n",
    "\n",
    "\n",
    "\n",
    "\n",
    "def LDA(data, labels, dim_rescale):\n",
    "    '''\n",
    "    Linear Discriminant Analysis\n",
    "    pass in:\n",
    "        (i) a raw data array--features encoded in the cols;\n",
    "            one data instance per row;\n",
    "        (ii) EV, explanatory variable, is included in D as last column;\n",
    "        (iii) the LDA flag is set to False so PCA is the default techique;\n",
    "            if both LDA & EV are set to True then LDA is performed\n",
    "            instead of PCA\n",
    "    returns:\n",
    "        (i) eigenvalues (1D array);\n",
    "        (ii) eigenvectors (2D array)\n",
    "        (iii) covariance matrix\n",
    "    some numerical assertions:\n",
    "    >>> # sum of the eigenvalues is equal to trace of R\n",
    "    >>> x = R.trace()\n",
    "    >>> x1 = eva.sum()\n",
    "    >>> NP.allclose(x, x1)\n",
    "    True\n",
    "    >>> # determinant of R is product of eigenvalues\n",
    "    >>> q = LA.det(R)\n",
    "    >>> q1 = NP.prod(eva)\n",
    "    >>> NP.allclose(q, q1)\n",
    "    True\n",
    "    '''\n",
    "    assert data.shape[0] == labels.shape[0]\n",
    "    # mean center the data array\n",
    "    data -= data.mean(axis=0)\n",
    "    nrow, ndim = data.shape\n",
    "    # pre-allocate sw, sb arrays (both same shape as covariance matrix)\n",
    "    # s_wc: array encoding 'within class' scatter\n",
    "    # s_bc: array encoding 'between class' scatter\n",
    "    s_wc = np.zeros((ndim, ndim))\n",
    "    s_bc = np.zeros((ndim, ndim))\n",
    "    R = np.cov(data.T)\n",
    "    classes = np.unique(labels)\n",
    "    for c in range(len(classes)):\n",
    "        # create an index only for data rows whose class label = classes[c]\n",
    "        idx = np.squeeze(np.where(labels == classes[c]))\n",
    "        d = np.squeeze(data[idx,:])\n",
    "        class_cov = np.cov(d.T)\n",
    "        s_wc += float(idx.shape[0]) / nrow * class_cov\n",
    "    s_bc = R - s_wc\n",
    "    # now solve for w then compute the mapped data\n",
    "    evals, evecs = LA.eig(s_wc, s_bc)\n",
    "    np.ascontiguousarray(evals)\n",
    "    np.ascontiguousarray(evecs)\n",
    "    # sort the eigenvectors based on eigenvalues sort order\n",
    "    idx = np.argsort(evals)\n",
    "    idx = idx[::-1]\n",
    "    evecs = evecs[:,idx]\n",
    "    # take just number of eigenvectors = dim_rescale\n",
    "    evecs_dr = evecs[:,:dim_rescale]\n",
    "    # multiply data array & remaining set of eigenvectors\n",
    "    rescaled_data = np.dot(data, evecs_dr)\n",
    "    return rescaled_data, evecs_dr"
   ]
  },
  {
   "cell_type": "code",
   "execution_count": 59,
   "metadata": {},
   "outputs": [],
   "source": [
    "#rescaled_data, w = LDA(X_WM_Row_scale, y_WM_Row_scale,50)\n",
    "a, w1 = LDA(np.asarray(X), np.asarray(y), 50)# X_WM_Row_scale,y_WM_Row_scale"
   ]
  },
  {
   "cell_type": "code",
   "execution_count": 63,
   "metadata": {},
   "outputs": [],
   "source": [
    "from sklearn.manifold import TSNE\n",
    "tsne = TSNE(n_components=2, perplexity=3, init='pca')\n",
    "Y = tsne.fit_transform(a)"
   ]
  },
  {
   "cell_type": "code",
   "execution_count": 70,
   "metadata": {},
   "outputs": [
    {
     "name": "stdout",
     "output_type": "stream",
     "text": [
      "(1577, 2) (2206, 2)\n",
      "tSNE_KDE_plot_edit_2.png\n"
     ]
    },
    {
     "data": {
      "image/png": "[encoded data removed]",
      "text/plain": [
       "<Figure size 432x288 with 1 Axes>"
      ]
     },
     "metadata": {
      "needs_background": "light"
     },
     "output_type": "display_data"
    }
   ],
   "source": [
    "#lb2=\"Fast RT\"\n",
    "#lb3=\"Medium RT\"\n",
    "lb1=\"Group0\"\n",
    "lb2=\"Group1\"\n",
    "fileName=\"tSNE_KDE_plot_edit_2\"\n",
    "\n",
    "a1=Y[np.where(y==0), 0]\n",
    "b1=Y[np.where(y==0), 1]\n",
    "c1= Y[np.where(y==1), 0]\n",
    "d1 = Y[np.where(y==1), 1]\n",
    "# e1= Y[np.where(y==2), 0]\n",
    "# f1 = Y[np.where(y==2), 1]\n",
    "\n",
    "dftt1=pd.concat([pd.DataFrame(a1),pd.DataFrame(b1)], axis=0).transpose()\n",
    "dftt2=pd.concat([pd.DataFrame(c1),\n",
    "                pd.DataFrame(d1)], axis=0).transpose()\n",
    "# dftt3=pd.concat([pd.DataFrame(e1),\n",
    "#                 pd.DataFrame(f1)], axis=0).transpose()\n",
    "print dftt1.shape,dftt2.shape#,dftt3.shape\n",
    "dftt1.columns= ['a','b']\n",
    "dftt2.columns= ['c','d']\n",
    "#dftt3.columns= ['e','f']\n",
    "ax = sns.kdeplot(dftt1['a'],dftt1['b'], cmap=\"Greens\", shade=False, shade_lowest=False)\n",
    "ax = sns.regplot(dftt1['a'], dftt1['b'],marker= '.', color='g',  fit_reg=False,label=lb1)\n",
    "ax.legend(loc=\"best\",framealpha=0.0)\n",
    "# #plt.legend(loc='upper left')\n",
    "ax = sns.kdeplot(dftt2['c'],dftt2['d'],cmap=\"Reds\", shade=False, shade_lowest=False)\n",
    "ax = sns.regplot(dftt2['c'], dftt2['d'],marker= '+', color='r',  fit_reg=False, label=lb2)\n",
    "\n",
    "# ax = sns.kdeplot(dftt3['e'],dftt3['f'],cmap=\"Blues\", shade=False, shade_lowest=False)\n",
    "# ax = sns.regplot(dftt3['e'], dftt3['f'],marker= '*', color='b',  fit_reg=False, label=lb3)\n",
    "ax.legend(loc=\"best\",framealpha=0.0)\n",
    "\n",
    "# Add labels to the plot\n",
    "red = sns.color_palette(\"Greens\")[-2]\n",
    "blue = sns.color_palette(\"Reds\")[-2]\n",
    "ax.set_xlabel('')\n",
    "ax.set_ylabel('')\n",
    "ax.yaxis.set_ticklabels([])\n",
    "ax.xaxis.set_ticklabels([])\n",
    "# ax.spines['top'].set_visible(False)\n",
    "# ax.spines['right'].set_visible(False)\n",
    "# ax.spines['bottom'].set_visible(False)\n",
    "# ax.spines['left'].set_visible(False)\n",
    "\n",
    "#sns.despine()\n",
    "# Save image\n",
    "\n",
    "save_format='png'\n",
    "print str(fileName)+'.'+save_format\n",
    "plt.savefig(fileName+'.'+save_format,dpi=300)"
   ]
  },
  {
   "cell_type": "code",
   "execution_count": null,
   "metadata": {},
   "outputs": [],
   "source": []
  },
  {
   "cell_type": "code",
   "execution_count": null,
   "metadata": {},
   "outputs": [],
   "source": []
  },
  {
   "cell_type": "code",
   "execution_count": 64,
   "metadata": {},
   "outputs": [],
   "source": [
    "#Micro AUC for multiclass classification \n",
    "\n",
    "# from sklearn.metrics import roc_auc_score\n",
    "# from sklearn.metrics import roc_curve, auc\n",
    "# from scipy import interp\n",
    "# from sklearn import preprocessing\n",
    "\n",
    "# def MulticlassAuc(y_test,y_p): # y_test, y_p is the test and predict data\n",
    "#     lb = preprocessing.LabelBinarizer() # binarize the data\n",
    "#     lb.fit(y_test)\n",
    "#     n_classes=len(lb.classes_)\n",
    "#     y_test_b=lb.transform(y_test)\n",
    "#     y_p_b=lb.transform(y_p)\n",
    "\n",
    "#     # Compute ROC curve and ROC area for each class\n",
    "#     fpr = dict()\n",
    "#     tpr = dict()\n",
    "#     roc_auc = dict()\n",
    "#     for i in range(3):\n",
    "#         fpr[i], tpr[i], _ = roc_curve(y_test_b[:, i], y_p_b[:, i])\n",
    "#         roc_auc[i] = auc(fpr[i], tpr[i])\n",
    "\n",
    "#     # First aggregate all false positive rates\n",
    "#     all_fpr = np.unique(np.concatenate([fpr[i] for i in range(n_classes)]))\n",
    "\n",
    "#     # Then interpolate all ROC curves at this points\n",
    "#     mean_tpr = np.zeros_like(all_fpr)\n",
    "#     for i in range(n_classes):\n",
    "#         mean_tpr += interp(all_fpr, fpr[i], tpr[i])\n",
    "\n",
    "#     # Finally average it and compute AUC\n",
    "#     mean_tpr /= n_classes\n",
    "\n",
    "#     fpr[\"macro\"] = all_fpr\n",
    "#     tpr[\"macro\"] = mean_tpr\n",
    "#     roc_auc[\"macro\"] = auc(fpr[\"macro\"], tpr[\"macro\"])\n",
    "#     return roc_auc[\"macro\"]"
   ]
  },
  {
   "cell_type": "markdown",
   "metadata": {},
   "source": [
    "# Apply SVM on Data"
   ]
  },
  {
   "cell_type": "code",
   "execution_count": 55,
   "metadata": {},
   "outputs": [
    {
     "data": {
      "text/plain": [
       "array([  0.01,   0.1 ,   1.  ,  10.  , 100.  ])"
      ]
     },
     "execution_count": 55,
     "metadata": {},
     "output_type": "execute_result"
    }
   ],
   "source": [
    "gamma_range = np.logspace(-2, 2, 5)\n",
    "gamma_range"
   ]
  },
  {
   "cell_type": "code",
   "execution_count": 110,
   "metadata": {},
   "outputs": [
    {
     "name": "stdout",
     "output_type": "stream",
     "text": [
      "(3783, 1428) (3783,)\n",
      "[  0.01   0.1    1.    10.   100.  ] [0.01, 0.002, 0.00069, 0.0007, 0.0005]\n"
     ]
    }
   ],
   "source": [
    "from sklearn import preprocessing\n",
    "X=preprocessing.scale(X)\n",
    "print X.shape,y.shape\n",
    "from sklearn.preprocessing import label_binarize\n",
    "y=label_binarize(np.asarray(y),[0,1])\n",
    "\n",
    "#C_range = np.logspace(-2, 10, 13)\n",
    "# gamma_range = np.logspace(-2, 2, 5)\n",
    "gamma_range = [0.01,0.002,0.00069,0.0007,0.0005]\n",
    "C_range = np.logspace(-2, 2, 5)\n",
    "#gamma_range = np.logspace(-2, 2, 5)\n",
    "\n",
    "print C_range,gamma_range\n"
   ]
  },
  {
   "cell_type": "code",
   "execution_count": 47,
   "metadata": {},
   "outputs": [
    {
     "name": "stdout",
     "output_type": "stream",
     "text": [
      "Fitting 5 folds for each of 25 candidates, totalling 125 fits\n"
     ]
    },
    {
     "name": "stderr",
     "output_type": "stream",
     "text": [
      "[Parallel(n_jobs=-1)]: Done  42 tasks      | elapsed:  3.0min\n",
      "[Parallel(n_jobs=-1)]: Done 125 out of 125 | elapsed:  8.5min finished\n"
     ]
    },
    {
     "name": "stdout",
     "output_type": "stream",
     "text": [
      "Finish tuning\n"
     ]
    }
   ],
   "source": [
    "#Classifiaction:\n",
    "# #Splitting\n",
    "from sklearn import preprocessing\n",
    "\n",
    "\n",
    "X_train, X_test, y_train, y_test = train_test_split(X, \n",
    "                                                    y, \n",
    "                                                    test_size=0.4,\n",
    "                                                    random_state=42)\n",
    "cv = ShuffleSplit(X_train.shape[0], test_size=0.4, random_state=42)\n",
    "\n",
    "# Define Classifier\n",
    "svr = svm.SVC(kernel='rbf')\n",
    "\n",
    "# Deffine tuning parameter\n",
    "C_range = np.logspace(-2, 2, 5)\n",
    "# gamma_range = np.logspace(-2, 2, 5)\n",
    "gamma_range = [0.01,0.002,0.00069,0.0007,0.0005]\n",
    "param_grid = dict(gamma=gamma_range, C=C_range)\n",
    "clf_Tune = GridSearchCV(estimator=svr, cv=5, param_grid=param_grid,n_jobs=-1, verbose=True)\n",
    "\n",
    "clf_Tune.fit(X_train,y_train)\n",
    "print 'Finish tuning'    \n",
    "    \n",
    "    "
   ]
  },
  {
   "cell_type": "code",
   "execution_count": 48,
   "metadata": {},
   "outputs": [],
   "source": [
    "#Micro AUC for multiclass classification \n",
    "\n",
    "from sklearn.metrics import roc_auc_score\n",
    "from sklearn.metrics import roc_curve, auc\n",
    "from scipy import interp\n",
    "from sklearn import preprocessing\n",
    "\n",
    "def MulticlassAuc(y_test,y_p): # y_test, y_p is the test and predict data\n",
    "    lb = preprocessing.LabelBinarizer() # binarize the data\n",
    "    lb.fit(y_test)\n",
    "    n_classes=len(lb.classes_)\n",
    "    y_test_b=lb.transform(y_test)\n",
    "    y_p_b=lb.transform(y_p)\n",
    "\n",
    "    # Compute ROC curve and ROC area for each class\n",
    "    fpr = dict()\n",
    "    tpr = dict()\n",
    "    roc_auc = dict()\n",
    "    for i in range(3):\n",
    "        fpr[i], tpr[i], _ = roc_curve(y_test_b[:, i], y_p_b[:, i])\n",
    "        roc_auc[i] = auc(fpr[i], tpr[i])\n",
    "\n",
    "    # First aggregate all false positive rates\n",
    "    all_fpr = np.unique(np.concatenate([fpr[i] for i in range(n_classes)]))\n",
    "\n",
    "    # Then interpolate all ROC curves at this points\n",
    "    mean_tpr = np.zeros_like(all_fpr)\n",
    "    for i in range(n_classes):\n",
    "        mean_tpr += interp(all_fpr, fpr[i], tpr[i])\n",
    "\n",
    "    # Finally average it and compute AUC\n",
    "    mean_tpr /= n_classes\n",
    "\n",
    "    fpr[\"macro\"] = all_fpr\n",
    "    tpr[\"macro\"] = mean_tpr\n",
    "    roc_auc[\"macro\"] = auc(fpr[\"macro\"], tpr[\"macro\"])\n",
    "    return roc_auc[\"macro\"]"
   ]
  },
  {
   "cell_type": "code",
   "execution_count": 49,
   "metadata": {},
   "outputs": [
    {
     "name": "stdout",
     "output_type": "stream",
     "text": [
      "             precision    recall  f1-score   support\n",
      "\n",
      "          0       0.89      0.85      0.87       648\n",
      "          1       0.89      0.92      0.91       866\n",
      "\n",
      "avg / total       0.89      0.89      0.89      1514\n",
      "\n",
      "0.8910171730515192\n",
      "0.8860875887434779\n"
     ]
    }
   ],
   "source": [
    "from sklearn.metrics import classification_report\n",
    "\n",
    "y_p = clf_Tune.best_estimator_.predict(X_test)\n",
    "ACC=classification_report(y_test, y_p)\n",
    "print ACC\n",
    "ACC_AVG=accuracy_score(y_test, y_p)\n",
    "print ACC_AVG\n",
    "\n",
    "from sklearn import metrics\n",
    "\n",
    "fpr, tpr, thresholds = metrics.roc_curve(y_test,y_p)\n",
    "AUC_Th2_T=metrics.auc(fpr, tpr)\n",
    "print AUC_Th2_T"
   ]
  },
  {
   "cell_type": "code",
   "execution_count": 50,
   "metadata": {},
   "outputs": [
    {
     "data": {
      "text/plain": [
       "Text(0.5,1,\"Validation accuracy=0.881886293521, best {'C': 10.0, 'gamma': 0.0007}\")"
      ]
     },
     "execution_count": 50,
     "metadata": {},
     "output_type": "execute_result"
    },
    {
     "data": {
      "image/png": "[encoded data removed]",
      "text/plain": [
       "<Figure size 576x432 with 2 Axes>"
      ]
     },
     "metadata": {
      "needs_background": "light"
     },
     "output_type": "display_data"
    }
   ],
   "source": [
    "# Utility function to move the midpoint of a colormap to be around\n",
    "# the values of interest.\n",
    "from matplotlib.colors import Normalize\n",
    "class MidpointNormalize(Normalize):\n",
    "\n",
    "    def __init__(self, vmin=None, vmax=None, midpoint=None, clip=False):\n",
    "        self.midpoint = midpoint\n",
    "        Normalize.__init__(self, vmin, vmax, clip)\n",
    "\n",
    "    def __call__(self, value, clip=None):\n",
    "        x, y = [self.vmin, self.midpoint, self.vmax], [0, 0.5, 1]\n",
    "        return np.ma.masked_array(np.interp(value, x, y))\n",
    "    \n",
    "scores = clf_Tune.cv_results_['mean_test_score'].reshape(len(C_range),len(gamma_range))\n",
    "#print scores.shape,len(C_range),len(gamma_range)\n",
    "plt.figure(figsize=(8, 6))\n",
    "#plt.subplots_adjust(left=.2, right=0.95, bottom=0.15, top=0.95)\n",
    "plt.imshow(scores, interpolation='nearest', cmap=plt.cm.hot, norm=MidpointNormalize(vmin=0.2, midpoint=0.92))\n",
    "plt.xlabel('gamma')\n",
    "plt.ylabel('C')\n",
    "plt.colorbar()\n",
    "plt.xticks(np.arange(len(gamma_range)), gamma_range, rotation=45)\n",
    "plt.yticks(np.arange(len(C_range)), C_range)\n",
    "plt.title('Validation accuracy={}, best {}' .format(clf_Tune.best_score_,clf_Tune.best_params_))\n",
    "\n",
    "#filename='ParameterTuning'\n",
    "#save_format='png'\n",
    "#print filename+'.'+save_format\n",
    "#pp='home/ralfahad/Pictures'\n",
    "#plt.savefig(filename+'.'+save_format,dpi=100)\n",
    "#plt.show()"
   ]
  },
  {
   "cell_type": "markdown",
   "metadata": {},
   "source": [
    "# Find Significant correlation with stability selections "
   ]
  },
  {
   "cell_type": "markdown",
   "metadata": {},
   "source": [
    "### Make the dataset"
   ]
  },
  {
   "cell_type": "code",
   "execution_count": 68,
   "metadata": {},
   "outputs": [],
   "source": [
    "# Pre Processing "
   ]
  },
  {
   "cell_type": "code",
   "execution_count": 51,
   "metadata": {},
   "outputs": [
    {
     "name": "stdout",
     "output_type": "stream",
     "text": [
      "(3783, 1428) (3783, 1)\n"
     ]
    }
   ],
   "source": [
    "from sklearn import preprocessing\n",
    "X=preprocessing.scale(X)\n",
    "print X.shape,y.shape\n",
    "from sklearn.preprocessing import label_binarize\n",
    "y=label_binarize(np.asarray(y),[0,1])"
   ]
  },
  {
   "cell_type": "markdown",
   "metadata": {},
   "source": [
    "# TSNE Visulaization"
   ]
  },
  {
   "cell_type": "code",
   "execution_count": 52,
   "metadata": {},
   "outputs": [],
   "source": [
    "# import sys\n",
    "# import os\n",
    "\n",
    "# from scipy import linalg as LA\n",
    "\n",
    "\n",
    "# np.set_printoptions(precision=3, linewidth=110, suppress=True)\n",
    "\n",
    "\n",
    "\n",
    "\n",
    "# def LDA(data, labels, dim_rescale):\n",
    "#     '''\n",
    "#     Linear Discriminant Analysis\n",
    "#     pass in:\n",
    "#         (i) a raw data array--features encoded in the cols;\n",
    "#             one data instance per row;\n",
    "#         (ii) EV, explanatory variable, is included in D as last column;\n",
    "#         (iii) the LDA flag is set to False so PCA is the default techique;\n",
    "#             if both LDA & EV are set to True then LDA is performed\n",
    "#             instead of PCA\n",
    "#     returns:\n",
    "#         (i) eigenvalues (1D array);\n",
    "#         (ii) eigenvectors (2D array)\n",
    "#         (iii) covariance matrix\n",
    "#     some numerical assertions:\n",
    "#     >>> # sum of the eigenvalues is equal to trace of R\n",
    "#     >>> x = R.trace()\n",
    "#     >>> x1 = eva.sum()\n",
    "#     >>> NP.allclose(x, x1)\n",
    "#     True\n",
    "#     >>> # determinant of R is product of eigenvalues\n",
    "#     >>> q = LA.det(R)\n",
    "#     >>> q1 = NP.prod(eva)\n",
    "#     >>> NP.allclose(q, q1)\n",
    "#     True\n",
    "#     '''\n",
    "#     assert data.shape[0] == labels.shape[0]\n",
    "#     # mean center the data array\n",
    "#     data -= data.mean(axis=0)\n",
    "#     nrow, ndim = data.shape\n",
    "#     # pre-allocate sw, sb arrays (both same shape as covariance matrix)\n",
    "#     # s_wc: array encoding 'within class' scatter\n",
    "#     # s_bc: array encoding 'between class' scatter\n",
    "#     s_wc = np.zeros((ndim, ndim))\n",
    "#     s_bc = np.zeros((ndim, ndim))\n",
    "#     R = np.cov(data.T)\n",
    "#     classes = np.unique(labels)\n",
    "#     for c in range(len(classes)):\n",
    "#         # create an index only for data rows whose class label = classes[c]\n",
    "#         idx = np.squeeze(np.where(labels == classes[c]))\n",
    "#         d = np.squeeze(data[idx,:])\n",
    "#         class_cov = np.cov(d.T)\n",
    "#         s_wc += float(idx.shape[0]) / nrow * class_cov\n",
    "#     s_bc = R - s_wc\n",
    "#     # now solve for w then compute the mapped data\n",
    "#     evals, evecs = LA.eig(s_wc, s_bc)\n",
    "#     np.ascontiguousarray(evals)\n",
    "#     np.ascontiguousarray(evecs)\n",
    "#     # sort the eigenvectors based on eigenvalues sort order\n",
    "#     idx = np.argsort(evals)\n",
    "#     idx = idx[::-1]\n",
    "#     evecs = evecs[:,idx]\n",
    "#     # take just number of eigenvectors = dim_rescale\n",
    "#     evecs_dr = evecs[:,:dim_rescale]\n",
    "#     # multiply data array & remaining set of eigenvectors\n",
    "#     rescaled_data = np.dot(data, evecs_dr)\n",
    "#     return rescaled_data, evecs_dr\n",
    "\n"
   ]
  },
  {
   "cell_type": "code",
   "execution_count": 57,
   "metadata": {
    "scrolled": true
   },
   "outputs": [],
   "source": [
    "#rescaled_data, w = LDA(X_WM_Row_scale, y_WM_Row_scale,50)\n",
    "\n",
    "a, w1 = LDA(np.asarray(X), np.asarray(y), 50)# X_WM_Row_scale,y_WM_Row_scale"
   ]
  },
  {
   "cell_type": "code",
   "execution_count": 35,
   "metadata": {},
   "outputs": [
    {
     "ename": "NameError",
     "evalue": "name 'Y' is not defined",
     "output_type": "error",
     "traceback": [
      "\u001b[0;31m\u001b[0m",
      "\u001b[0;31mNameError\u001b[0mTraceback (most recent call last)",
      "\u001b[0;32m<ipython-input-35-d69a0a3d85c0>\u001b[0m in \u001b[0;36m<module>\u001b[0;34m()\u001b[0m\n\u001b[1;32m     15\u001b[0m \u001b[0mfileName\u001b[0m\u001b[0;34m=\u001b[0m\u001b[0;34m\"tSNE_KDE_plot_edit_2\"\u001b[0m\u001b[0;34m\u001b[0m\u001b[0m\n\u001b[1;32m     16\u001b[0m \u001b[0;34m\u001b[0m\u001b[0m\n\u001b[0;32m---> 17\u001b[0;31m \u001b[0ma1\u001b[0m\u001b[0;34m=\u001b[0m\u001b[0mY\u001b[0m\u001b[0;34m[\u001b[0m\u001b[0mnp\u001b[0m\u001b[0;34m.\u001b[0m\u001b[0mwhere\u001b[0m\u001b[0;34m(\u001b[0m\u001b[0my\u001b[0m\u001b[0;34m==\u001b[0m\u001b[0;36m0\u001b[0m\u001b[0;34m)\u001b[0m\u001b[0;34m,\u001b[0m \u001b[0;36m0\u001b[0m\u001b[0;34m]\u001b[0m\u001b[0;34m\u001b[0m\u001b[0m\n\u001b[0m\u001b[1;32m     18\u001b[0m \u001b[0mb1\u001b[0m\u001b[0;34m=\u001b[0m\u001b[0mY\u001b[0m\u001b[0;34m[\u001b[0m\u001b[0mnp\u001b[0m\u001b[0;34m.\u001b[0m\u001b[0mwhere\u001b[0m\u001b[0;34m(\u001b[0m\u001b[0my\u001b[0m\u001b[0;34m==\u001b[0m\u001b[0;36m0\u001b[0m\u001b[0;34m)\u001b[0m\u001b[0;34m,\u001b[0m \u001b[0;36m1\u001b[0m\u001b[0;34m]\u001b[0m\u001b[0;34m\u001b[0m\u001b[0m\n\u001b[1;32m     19\u001b[0m \u001b[0mc1\u001b[0m\u001b[0;34m=\u001b[0m \u001b[0mY\u001b[0m\u001b[0;34m[\u001b[0m\u001b[0mnp\u001b[0m\u001b[0;34m.\u001b[0m\u001b[0mwhere\u001b[0m\u001b[0;34m(\u001b[0m\u001b[0my\u001b[0m\u001b[0;34m==\u001b[0m\u001b[0;36m1\u001b[0m\u001b[0;34m)\u001b[0m\u001b[0;34m,\u001b[0m \u001b[0;36m0\u001b[0m\u001b[0;34m]\u001b[0m\u001b[0;34m\u001b[0m\u001b[0m\n",
      "\u001b[0;31mNameError\u001b[0m: name 'Y' is not defined"
     ]
    }
   ],
   "source": [
    "import pandas as pd\n",
    "import seaborn as sns\n",
    "import numpy as np\n",
    "import matplotlib.pyplot as plt\n",
    "from sklearn.manifold import TSNE\n",
    "\n",
    "# tsne = TSNE(n_components=2, perplexity=3, init='pca')\n",
    "# Y = tsne.fit_transform(a)\n",
    "\n",
    "\n",
    "#lb2=\"Fast RT\"\n",
    "#lb3=\"Medium RT\"\n",
    "lb1=\"Group0\"\n",
    "lb2=\"Group1\"\n",
    "fileName=\"tSNE_KDE_plot_edit_2\"\n",
    "\n",
    "a1=Y[np.where(y==0), 0]\n",
    "b1=Y[np.where(y==0), 1]\n",
    "c1= Y[np.where(y==1), 0]\n",
    "d1 = Y[np.where(y==1), 1]\n",
    "# e1= Y[np.where(y==2), 0]\n",
    "# f1 = Y[np.where(y==2), 1]\n",
    "\n",
    "dftt1=pd.concat([pd.DataFrame(a1),pd.DataFrame(b1)], axis=0).transpose()\n",
    "dftt2=pd.concat([pd.DataFrame(c1),\n",
    "                pd.DataFrame(d1)], axis=0).transpose()\n",
    "# dftt3=pd.concat([pd.DataFrame(e1),\n",
    "#                 pd.DataFrame(f1)], axis=0).transpose()\n",
    "print dftt1.shape,dftt2.shape#,dftt3.shape\n",
    "dftt1.columns= ['a','b']\n",
    "dftt2.columns= ['c','d']\n",
    "#dftt3.columns= ['e','f']\n",
    "ax = sns.kdeplot(dftt1['a'],dftt1['b'], cmap=\"Greens\", shade=False, shade_lowest=False)\n",
    "ax = sns.regplot(dftt1['a'], dftt1['b'],marker= '.', color='g',  fit_reg=False,label=lb1)\n",
    "ax.legend(loc=\"best\",framealpha=0.0)\n",
    "# #plt.legend(loc='upper left')\n",
    "ax = sns.kdeplot(dftt2['c'],dftt2['d'],cmap=\"Reds\", shade=False, shade_lowest=False)\n",
    "ax = sns.regplot(dftt2['c'], dftt2['d'],marker= '+', color='r',  fit_reg=False, label=lb2)\n",
    "\n",
    "# ax = sns.kdeplot(dftt3['e'],dftt3['f'],cmap=\"Blues\", shade=False, shade_lowest=False)\n",
    "# ax = sns.regplot(dftt3['e'], dftt3['f'],marker= '*', color='b',  fit_reg=False, label=lb3)\n",
    "ax.legend(loc=\"best\",framealpha=0.0)\n",
    "\n",
    "# Add labels to the plot\n",
    "red = sns.color_palette(\"Greens\")[-2]\n",
    "blue = sns.color_palette(\"Reds\")[-2]\n",
    "ax.set_xlabel('')\n",
    "ax.set_ylabel('')\n",
    "ax.yaxis.set_ticklabels([])\n",
    "ax.xaxis.set_ticklabels([])\n",
    "# ax.spines['top'].set_visible(False)\n",
    "# ax.spines['right'].set_visible(False)\n",
    "# ax.spines['bottom'].set_visible(False)\n",
    "# ax.spines['left'].set_visible(False)\n",
    "\n",
    "#sns.despine()\n",
    "# Save image\n",
    "\n",
    "save_format='png'\n",
    "print str(fileName)+'.'+save_format\n",
    "plt.savefig(fileName+'.'+save_format,dpi=300)"
   ]
  },
  {
   "cell_type": "code",
   "execution_count": 38,
   "metadata": {},
   "outputs": [],
   "source": [
    "#Micro AUC for multiclass classification \n",
    "\n",
    "from sklearn.metrics import roc_auc_score\n",
    "from sklearn.metrics import roc_curve, auc\n",
    "from scipy import interp\n",
    "from sklearn import preprocessing\n",
    "\n",
    "def MulticlassAuc(y_test,y_p): # y_test, y_p is the test and predict data\n",
    "    lb = preprocessing.LabelBinarizer() # binarize the data\n",
    "    lb.fit(y_test)\n",
    "    n_classes=len(lb.classes_)\n",
    "    y_test_b=lb.transform(y_test)\n",
    "    y_p_b=lb.transform(y_p)\n",
    "\n",
    "    # Compute ROC curve and ROC area for each class\n",
    "    fpr = dict()\n",
    "    tpr = dict()\n",
    "    roc_auc = dict()\n",
    "    for i in range(3):\n",
    "        fpr[i], tpr[i], _ = roc_curve(y_test_b[:, i], y_p_b[:, i])\n",
    "        roc_auc[i] = auc(fpr[i], tpr[i])\n",
    "\n",
    "    # First aggregate all false positive rates\n",
    "    all_fpr = np.unique(np.concatenate([fpr[i] for i in range(n_classes)]))\n",
    "\n",
    "    # Then interpolate all ROC curves at this points\n",
    "    mean_tpr = np.zeros_like(all_fpr)\n",
    "    for i in range(n_classes):\n",
    "        mean_tpr += interp(all_fpr, fpr[i], tpr[i])\n",
    "\n",
    "    # Finally average it and compute AUC\n",
    "    mean_tpr /= n_classes\n",
    "\n",
    "    fpr[\"macro\"] = all_fpr\n",
    "    tpr[\"macro\"] = mean_tpr\n",
    "    roc_auc[\"macro\"] = auc(fpr[\"macro\"], tpr[\"macro\"])\n",
    "    return roc_auc[\"macro\"]"
   ]
  },
  {
   "cell_type": "markdown",
   "metadata": {},
   "source": [
    "### Randomized Logistic Regression "
   ]
  },
  {
   "cell_type": "code",
   "execution_count": 71,
   "metadata": {},
   "outputs": [],
   "source": [
    "from sklearn.linear_model import (RandomizedLasso, lasso_stability_path,\n",
    "                                  LassoLarsCV)\n",
    "from sklearn.exceptions import ConvergenceWarning\n",
    "\n",
    "#Model Library\n",
    "from sklearn.linear_model import (RandomizedLasso, lasso_stability_path, LassoLarsCV)\n",
    "from sklearn.model_selection import GridSearchCV\n",
    "from sklearn.linear_model import LogisticRegression, RandomizedLogisticRegression\n",
    "from sklearn import svm\n",
    "\n",
    "\n",
    "# Performance analysis library \n",
    "from sklearn.model_selection import KFold, cross_val_score, LeaveOneOut, cross_val_predict\n",
    "from sklearn.metrics import precision_recall_curve\n",
    "from sklearn.metrics import average_precision_score\n",
    "from sklearn.metrics import accuracy_score\n",
    "from sklearn.metrics import roc_curve,auc\n",
    "from sklearn.metrics import classification_report\n",
    "from sklearn.metrics import confusion_matrix\n",
    "\n",
    "\n",
    "# preprocessing\n",
    "from sklearn.preprocessing import Imputer\n",
    "from sklearn.model_selection import train_test_split # test train split\n",
    "from sklearn.model_selection import ShuffleSplit"
   ]
  },
  {
   "cell_type": "code",
   "execution_count": 72,
   "metadata": {},
   "outputs": [
    {
     "data": {
      "text/plain": [
       "array([0.002])"
      ]
     },
     "execution_count": 72,
     "metadata": {},
     "output_type": "execute_result"
    }
   ],
   "source": [
    "with warnings.catch_warnings():\n",
    "    #warnings.simplefilter('ignore', UserWarning)\n",
    "    warnings.simplefilter('ignore', ConvergenceWarning)\n",
    "    lars_cv = LassoLarsCV(cv=10).fit(X, y)\n",
    "lars_cv.alphas_"
   ]
  },
  {
   "cell_type": "code",
   "execution_count": 73,
   "metadata": {},
   "outputs": [
    {
     "name": "stdout",
     "output_type": "stream",
     "text": [
      "[0.002 0.001 0.001 0.001 0.001 0.001 0.001 0.    0.    0.   ]\n"
     ]
    }
   ],
   "source": [
    "# Run the RandomizedLasso: we use a paths going down to .1*alpha_max\n",
    "# to avoid exploring the regime in which very noisy variables enter\n",
    "# the model\n",
    "alphas = np.linspace(lars_cv.alphas_[0], .1 * lars_cv.alphas_[0], 10)\n",
    "print alphas\n",
    "clf = RandomizedLasso(alpha=alphas, random_state=42,max_iter=1000).fit(X, y)"
   ]
  },
  {
   "cell_type": "code",
   "execution_count": 74,
   "metadata": {},
   "outputs": [
    {
     "data": {
      "text/plain": [
       "array([0.01 , 0.015, 0.055, ..., 0.4  , 0.   , 0.   ])"
      ]
     },
     "execution_count": 74,
     "metadata": {},
     "output_type": "execute_result"
    }
   ],
   "source": [
    "clf.scores_"
   ]
  },
  {
   "cell_type": "code",
   "execution_count": 75,
   "metadata": {},
   "outputs": [
    {
     "data": {
      "image/png": "[encoded data removed]",
      "text/plain": [
       "<Figure size 432x288 with 1 Axes>"
      ]
     },
     "metadata": {
      "needs_background": "light"
     },
     "output_type": "display_data"
    }
   ],
   "source": [
    "from matplotlib.ticker import FormatStrFormatter\n",
    "data=clf.scores_\n",
    "fig, ax = plt.subplots()\n",
    "counts, bins, patches = ax.hist(data,10 ,edgecolor='gray')\n",
    "\n",
    "# Set the ticks to be at the edges of the bins.\n",
    "ax.set_xticks(bins)\n",
    "\n",
    "# Set the xaxis's tick labels to be formatted with 1 decimal place...\n",
    "ax.xaxis.set_major_formatter(FormatStrFormatter('%0.1f'))\n",
    "\n",
    "\n",
    "# Label the raw counts and the percentages below the x-axis...\n",
    "bin_centers = 0.5 * np.diff(bins) + bins[:-1]\n",
    "for count, x in zip(counts, bin_centers):\n",
    "    # Label the raw counts\n",
    "    ax.annotate(str(count), xy=(x, 0), xycoords=('data', 'axes fraction'),\n",
    "        xytext=(0, -18), textcoords='offset points', va='top', ha='center')\n",
    "\n",
    "    # Label the percentages\n",
    "    percent = '%0.0f%%' % (100 * float(count) / counts.sum())\n",
    "    ax.annotate(percent, xy=(x, 0), xycoords=('data', 'axes fraction'),\n",
    "        xytext=(0, -32), textcoords='offset points', va='top', ha='center')\n",
    "\n",
    "\n",
    "# Give ourselves some more room at the bottom of the plot\n",
    "plt.subplots_adjust(bottom=0.15)\n",
    "plt.grid(True)\n",
    "plt.show()"
   ]
  },
  {
   "cell_type": "markdown",
   "metadata": {},
   "source": [
    "### Find the optimal threshold"
   ]
  },
  {
   "cell_type": "code",
   "execution_count": 76,
   "metadata": {},
   "outputs": [
    {
     "name": "stdout",
     "output_type": "stream",
     "text": [
      "[0.    0.084 0.169 0.253 0.338 0.422 0.507 0.591 0.676 0.76  0.845]\n",
      "[0.169 0.253 0.338 0.422 0.507 0.591 0.676 0.76  0.845]\n"
     ]
    }
   ],
   "source": [
    "Th_2_Bins_Index= np.where((bins<=0.9) & (bins>=0.1)) # take the bins within a range\n",
    "print bins\n",
    "Th_2_Bins=bins[Th_2_Bins_Index]\n",
    "print Th_2_Bins"
   ]
  },
  {
   "cell_type": "code",
   "execution_count": 111,
   "metadata": {},
   "outputs": [
    {
     "name": "stdout",
     "output_type": "stream",
     "text": [
      "(3783, 1428) (3783, 1)\n",
      "(2269, 1428) (1514, 1428) (2269, 1) (1514, 1)\n"
     ]
    }
   ],
   "source": [
    "\n",
    "from sklearn import preprocessing\n",
    "X=preprocessing.scale(X)\n",
    "print X.shape,y.shape\n",
    "from sklearn.preprocessing import label_binarize\n",
    "y=label_binarize(np.asarray(y),[0,1])\n",
    "\n",
    "X_train, X_test, y_train, y_test = train_test_split(X, y, test_size=0.4, random_state=42)\n",
    "print X_train.shape, X_test.shape, y_train.shape, y_test.shape"
   ]
  },
  {
   "cell_type": "code",
   "execution_count": 113,
   "metadata": {},
   "outputs": [
    {
     "data": {
      "text/plain": [
       "array([[-2.99 , -0.516, -0.801, ..., -0.076, -1.877, -1.725],\n",
       "       [ 1.004, -0.775, -0.657, ..., -0.007,  0.663,  0.709],\n",
       "       [ 0.381,  1.046,  1.416, ...,  0.085,  1.001,  0.97 ],\n",
       "       ...,\n",
       "       [-0.557,  0.15 ,  0.013, ..., -0.148,  0.534,  0.772],\n",
       "       [-0.723,  0.748,  0.812, ..., -0.034,  0.772, -0.134],\n",
       "       [-0.184,  0.855,  0.676, ..., -1.105, -0.254, -0.296]])"
      ]
     },
     "execution_count": 113,
     "metadata": {},
     "output_type": "execute_result"
    }
   ],
   "source": [
    "X_train[:,1:10]"
   ]
  },
  {
   "cell_type": "code",
   "execution_count": 108,
   "metadata": {},
   "outputs": [
    {
     "data": {
      "text/plain": [
       "pandas.core.frame.DataFrame"
      ]
     },
     "execution_count": 108,
     "metadata": {},
     "output_type": "execute_result"
    }
   ],
   "source": [
    "type(X_train)#[:,np.squeeze(np.asarray(np.where(clf.scores_>=0.16)))].shape#,y_train"
   ]
  },
  {
   "cell_type": "code",
   "execution_count": 114,
   "metadata": {},
   "outputs": [
    {
     "name": "stdout",
     "output_type": "stream",
     "text": [
      "Fitting 5 folds for each of 25 candidates, totalling 125 fits\n"
     ]
    },
    {
     "name": "stderr",
     "output_type": "stream",
     "text": [
      "[Parallel(n_jobs=-1)]: Done  42 tasks      | elapsed:   30.9s\n",
      "[Parallel(n_jobs=-1)]: Done 125 out of 125 | elapsed:  1.2min finished\n"
     ]
    },
    {
     "data": {
      "text/plain": [
       "GridSearchCV(cv=5, error_score='raise',\n",
       "       estimator=SVC(C=1.0, cache_size=200, class_weight=None, coef0=0.0,\n",
       "  decision_function_shape='ovr', degree=3, gamma='auto', kernel='rbf',\n",
       "  max_iter=-1, probability=False, random_state=None, shrinking=True,\n",
       "  tol=0.001, verbose=False),\n",
       "       fit_params=None, iid=True, n_jobs=-1,\n",
       "       param_grid={'C': array([  0.01,   0.1 ,   1.  ,  10.  , 100.  ]), 'gamma': [0.01, 0.002, 0.00069, 0.0007, 0.0005]},\n",
       "       pre_dispatch='2*n_jobs', refit=True, return_train_score='warn',\n",
       "       scoring=None, verbose=True)"
      ]
     },
     "execution_count": 114,
     "metadata": {},
     "output_type": "execute_result"
    }
   ],
   "source": [
    "C_range = np.logspace(-2, 2, 5)\n",
    "gamma_range = [0.01,0.002,0.00069,0.0007,0.0005]\n",
    "# gamma_range = np.logspace(-2, 2, 5)\n",
    "param_grid = dict(gamma=gamma_range, C=C_range)\n",
    "#clf_Tune = GridSearchCV(estimator=svr, cv=1, param_grid=param_grid,n_jobs=-1)\n",
    "clf_Tune = GridSearchCV(estimator=svr, cv=5, param_grid=param_grid,n_jobs=-1, verbose=True)\n",
    "clf_Tune.fit(X_train[:,np.squeeze(np.asarray(np.where(clf.scores_>=0.16)))],y_train)"
   ]
  },
  {
   "cell_type": "code",
   "execution_count": 117,
   "metadata": {},
   "outputs": [
    {
     "name": "stdout",
     "output_type": "stream",
     "text": [
      "0.8870541611624835\n"
     ]
    }
   ],
   "source": [
    "# use tuned parameter on to get model\n",
    "y_p = clf_Tune.best_estimator_.predict(X_test[:,np.squeeze(np.asarray(np.where(clf.scores_>=0.16)))])\n",
    "\n",
    "print accuracy_score(y_test, y_p)"
   ]
  },
  {
   "cell_type": "code",
   "execution_count": 119,
   "metadata": {},
   "outputs": [
    {
     "name": "stdout",
     "output_type": "stream",
     "text": [
      "0.16899999999999998\n",
      "(2269, 273)\n",
      "Fitting 5 folds for each of 25 candidates, totalling 125 fits\n"
     ]
    },
    {
     "name": "stderr",
     "output_type": "stream",
     "text": [
      "[Parallel(n_jobs=-1)]: Done  42 tasks      | elapsed:   29.4s\n",
      "[Parallel(n_jobs=-1)]: Done 125 out of 125 | elapsed:  1.2min finished\n"
     ]
    },
    {
     "name": "stdout",
     "output_type": "stream",
     "text": [
      "(2269, 273) (2269, 1)\n",
      "Finish tuning\n",
      "Shape (1514, 273)\n",
      "ACC 0.8877146631439894 0.8853373677757819\n",
      "0.25349999999999995\n",
      "(2269, 195)\n",
      "Fitting 5 folds for each of 25 candidates, totalling 125 fits\n"
     ]
    },
    {
     "name": "stderr",
     "output_type": "stream",
     "text": [
      "[Parallel(n_jobs=-1)]: Done  42 tasks      | elapsed:   19.8s\n",
      "[Parallel(n_jobs=-1)]: Done 125 out of 125 | elapsed:   49.3s finished\n"
     ]
    },
    {
     "name": "stdout",
     "output_type": "stream",
     "text": [
      "(2269, 195) (2269, 1)\n",
      "Finish tuning\n",
      "Shape (1514, 195)\n",
      "ACC 0.880449141347424 0.8784036153166255\n",
      "0.33799999999999997\n",
      "(2269, 136)\n",
      "Fitting 5 folds for each of 25 candidates, totalling 125 fits\n"
     ]
    },
    {
     "name": "stderr",
     "output_type": "stream",
     "text": [
      "[Parallel(n_jobs=-1)]: Done  42 tasks      | elapsed:   14.6s\n",
      "[Parallel(n_jobs=-1)]: Done 125 out of 125 | elapsed:   36.8s finished\n"
     ]
    },
    {
     "name": "stdout",
     "output_type": "stream",
     "text": [
      "(2269, 136) (2269, 1)\n",
      "Finish tuning\n",
      "Shape (1514, 136)\n",
      "ACC 0.8778071334214003 0.8725978673053345\n",
      "0.4225\n",
      "(2269, 77)\n",
      "Fitting 5 folds for each of 25 candidates, totalling 125 fits\n"
     ]
    },
    {
     "name": "stderr",
     "output_type": "stream",
     "text": [
      "[Parallel(n_jobs=-1)]: Done  42 tasks      | elapsed:    9.9s\n",
      "[Parallel(n_jobs=-1)]: Done 125 out of 125 | elapsed:   25.4s finished\n"
     ]
    },
    {
     "name": "stdout",
     "output_type": "stream",
     "text": [
      "(2269, 77) (2269, 1)\n",
      "Finish tuning\n",
      "Shape (1514, 77)\n",
      "ACC 0.8520475561426685 0.8526056368146439\n",
      "0.5069999999999999\n",
      "(2269, 27)\n",
      "Fitting 5 folds for each of 25 candidates, totalling 125 fits\n"
     ]
    },
    {
     "name": "stderr",
     "output_type": "stream",
     "text": [
      "[Parallel(n_jobs=-1)]: Done  42 tasks      | elapsed:    5.7s\n",
      "[Parallel(n_jobs=-1)]: Done 125 out of 125 | elapsed:   15.2s finished\n"
     ]
    },
    {
     "name": "stdout",
     "output_type": "stream",
     "text": [
      "(2269, 27) (2269, 1)\n",
      "Finish tuning\n",
      "Shape (1514, 27)\n",
      "ACC 0.8110964332892999 0.8096220739600263\n",
      "0.5914999999999999\n",
      "(2269, 9)\n",
      "Fitting 5 folds for each of 25 candidates, totalling 125 fits\n"
     ]
    },
    {
     "name": "stderr",
     "output_type": "stream",
     "text": [
      "[Parallel(n_jobs=-1)]: Done  42 tasks      | elapsed:    4.1s\n",
      "[Parallel(n_jobs=-1)]: Done 125 out of 125 | elapsed:   11.7s finished\n"
     ]
    },
    {
     "name": "stdout",
     "output_type": "stream",
     "text": [
      "(2269, 9) (2269, 1)\n",
      "Finish tuning\n",
      "Shape (1514, 9)\n",
      "ACC 0.6829590488771466 0.6811026288027827\n",
      "0.6759999999999999\n",
      "(2269, 3)\n",
      "Fitting 5 folds for each of 25 candidates, totalling 125 fits\n"
     ]
    },
    {
     "name": "stderr",
     "output_type": "stream",
     "text": [
      "[Parallel(n_jobs=-1)]: Done  42 tasks      | elapsed:    3.5s\n",
      "[Parallel(n_jobs=-1)]: Done 125 out of 125 | elapsed:   10.1s finished\n"
     ]
    },
    {
     "name": "stdout",
     "output_type": "stream",
     "text": [
      "(2269, 3) (2269, 1)\n",
      "Finish tuning\n",
      "Shape (1514, 3)\n",
      "ACC 0.6096433289299867 0.5566069341088586\n",
      "0.7605\n",
      "(2269, 2)\n",
      "Fitting 5 folds for each of 25 candidates, totalling 125 fits\n"
     ]
    },
    {
     "name": "stderr",
     "output_type": "stream",
     "text": [
      "[Parallel(n_jobs=-1)]: Done  42 tasks      | elapsed:    3.4s\n",
      "[Parallel(n_jobs=-1)]: Done 125 out of 125 | elapsed:   10.0s finished\n"
     ]
    },
    {
     "name": "stdout",
     "output_type": "stream",
     "text": [
      "(2269, 2) (2269, 1)\n",
      "Finish tuning\n",
      "Shape (1514, 2)\n",
      "ACC 0.5924702774108322 0.5313007869301172\n"
     ]
    }
   ],
   "source": [
    "# #Splitting\n",
    "X_train, X_test, y_train, y_test = train_test_split(X, y, test_size=0.4, random_state=42)\n",
    "#cv = ShuffleSplit(X_train.shape[0], test_size=0.2, random_state=42)\n",
    "\n",
    "# Define Classifier\n",
    "svr = svm.SVC(kernel='rbf')\n",
    "\n",
    "# Deffine tuning parameter\n",
    "# C_range = np.logspace(-2, 10, 13)\n",
    "# gamma_range = np.logspace(-9, 3, 13)\n",
    "\n",
    "C_range = np.logspace(-2, 2, 5)\n",
    "gamma_range = [0.01,0.002,0.00069,0.0007,0.0005]\n",
    "#gamma_range = np.logspace(-2, 2, 5)\n",
    "param_grid = dict(gamma=gamma_range, C=C_range)\n",
    "#clf_Tune = GridSearchCV(estimator=svr, cv=1, param_grid=param_grid,n_jobs=-1)\n",
    "clf_Tune = GridSearchCV(estimator=svr, cv=5, param_grid=param_grid,n_jobs=-1, verbose=True)\n",
    "##  Define LeaveOneOutCrossValidation\n",
    "#loocv = LeaveOneOut()\n",
    "ACC_Th2=[]\n",
    "AUC_Th2=[]\n",
    "Bins=[]\n",
    "for i in Th_2_Bins:\n",
    "    print i\n",
    "    try:\n",
    "        print X_train[:,np.squeeze(np.asarray(np.where(clf.scores_>=i)))].shape\n",
    "        \n",
    "        #Hyper parameter Tuning \n",
    "        clf_Tune.fit(X_train[:,np.squeeze(np.asarray(np.where(clf.scores_>=i)))],y_train)\n",
    "        print X_train[:,np.squeeze(np.asarray(np.where(clf.scores_>=i)))].shape ,y_train.shape\n",
    "        print 'Finish tuning'\n",
    "\n",
    "        # use tuned parameter on to get model\n",
    "        y_p = clf_Tune.best_estimator_.predict(X_test[:,np.squeeze(np.asarray(np.where(clf.scores_>=i)))])\n",
    "\n",
    "        ACC_Th2_T=accuracy_score(y_test, y_p)\n",
    "        fpr, tpr, thresholds = metrics.roc_curve(y_test,y_p)\n",
    "        AUC_Th2_T=metrics.auc(fpr, tpr)\n",
    "        print 'Shape', X_test[:,np.squeeze(np.asarray(np.where(clf.scores_>=i)))].shape\n",
    "        print 'ACC',ACC_Th2_T,AUC_Th2_T\n",
    "        ACC_Th2.append(ACC_Th2_T)\n",
    "        AUC_Th2.append(AUC_Th2_T)\n",
    "        Bins.append(i)\n",
    "    except:\n",
    "        print 'error at:',i\n",
    "    # false_positive_rate, true_positive_rate, thresholds = roc_curve(y_test, y_p)\n",
    "    # roc_auc_T = auc(false_positive_rate, true_positive_rate)\n",
    "    # print 'AUC',roc_auc_T\n",
    "    # AUC_Th2.append(roc_auc_T)"
   ]
  },
  {
   "cell_type": "code",
   "execution_count": 39,
   "metadata": {},
   "outputs": [
    {
     "data": {
      "text/plain": [
       "0.6048553458691648"
      ]
     },
     "execution_count": 39,
     "metadata": {},
     "output_type": "execute_result"
    }
   ],
   "source": [
    "accuracy_score(y_test, y_p)\n",
    "MulticlassAuc(y_test,y_p)"
   ]
  },
  {
   "cell_type": "code",
   "execution_count": null,
   "metadata": {},
   "outputs": [],
   "source": [
    "        \n",
    "#         ACC_Th2_T=accuracy_score(y_test, y_p)\n",
    "#         AUC_Th2_T=MulticlassAuc(y_test,y_p)\n",
    "#         print 'Shape', X_test[:,np.squeeze(np.asarray(np.where(clf.scores_>=i)))].shape\n",
    "#         print 'ACC',ACC_Th2_T,AUC_Th2_T\n",
    "#         ACC_Th2.append(ACC_Th2_T)\n",
    "#         AUC_Th2.append(AUC_Th2_T)\n",
    "#         Bins.append(i)\n",
    "#     except:\n",
    "#         print 'error at:',i\n",
    "#     # false_positive_rate, true_positive_rate, thresholds = roc_curve(y_test, y_p)\n",
    "#     # roc_auc_T = auc(false_positive_rate, true_positive_rate)\n",
    "#     # print 'AUC',roc_auc_T\n",
    "#     # AUC_Th2.append(roc_auc_T)"
   ]
  },
  {
   "cell_type": "code",
   "execution_count": 121,
   "metadata": {},
   "outputs": [
    {
     "data": {
      "text/plain": [
       "[0.8877146631439894,\n",
       " 0.880449141347424,\n",
       " 0.8778071334214003,\n",
       " 0.8520475561426685,\n",
       " 0.8110964332892999,\n",
       " 0.6829590488771466,\n",
       " 0.6096433289299867,\n",
       " 0.5924702774108322]"
      ]
     },
     "execution_count": 121,
     "metadata": {},
     "output_type": "execute_result"
    }
   ],
   "source": [
    "ACC_Th2 # too bad AUC"
   ]
  },
  {
   "cell_type": "code",
   "execution_count": 122,
   "metadata": {},
   "outputs": [
    {
     "data": {
      "image/png": "[encoded data removed]",
      "text/plain": [
       "<Figure size 432x288 with 3 Axes>"
      ]
     },
     "metadata": {
      "needs_background": "light"
     },
     "output_type": "display_data"
    }
   ],
   "source": [
    "from matplotlib.ticker import FormatStrFormatter\n",
    "Th_2_Bins=np.asarray(Bins)\n",
    "data=clf.scores_\n",
    "fig, ax = plt.subplots()\n",
    "fig.subplots_adjust(right=0.75)\n",
    "#counts, bins, patches = ax.hist(data,10 ,edgecolor='gray')\n",
    "counts, bins, patches = ax.hist(data,10,facecolor=\"None\",edgecolor='blue', lw=1)\n",
    "# Set the ticks to be at the edges of the bins.\n",
    "ax.set_xticks(bins)\n",
    "# Set the xaxis's tick labels to be formatted with 1 decimal place...\n",
    "ax.xaxis.set_major_formatter(FormatStrFormatter('%0.1f'))\n",
    "\n",
    "\n",
    "bin_centers = 0.5 * np.diff(bins) + bins[:-1]\n",
    "\n",
    "\n",
    "\n",
    "\n",
    "\n",
    "\n",
    "\n",
    "#show % value\n",
    "for count, x in zip(counts, bin_centers):\n",
    "    # Label the raw counts\n",
    "    ax.annotate(int(count), xy=(x, 0), xycoords=('data', 'axes fraction'),\n",
    "        xytext=(0, -18), textcoords='offset points', va='top', ha='center')\n",
    "\n",
    "    # Label the percentages\n",
    "    percent = '%0.0f%%' % (100 * float(count) / counts.sum())\n",
    "    ax.annotate(percent, xy=(x, 0), xycoords=('data', 'axes fraction'),\n",
    "        xytext=(0, -32), textcoords='offset points', va='top', ha='center')\n",
    "\n",
    "\n",
    "\n",
    "    \n",
    "    \n",
    "    \n",
    "    # Give ourselves some more room at the bottom of the plot\n",
    "\n",
    "ax2 = ax.twinx()\n",
    "ax2.plot(Th_2_Bins,AUC_Th2, color='red',ls='dashed' )#,THbin,CCC_Per)\n",
    "ax2.set_frame_on(False)\n",
    "ax2.set_ylabel('AUC', color='red')\n",
    "ax2.patch.set_visible(False)\n",
    "for i,j in zip(Th_2_Bins,AUC_Th2):\n",
    "    #ax2.annotate((\"%.2f\" % j),xy=(i+0.04,j-0.01), color ='red') ##############################\n",
    "    ax2.annotate((\"%.2f\" % j),xy=(i,j-0.01), color ='red') ##############################\n",
    "    ax2.plot(i,j, marker='o', markersize=7, color=\"red\")\n",
    "\n",
    "\n",
    "    \n",
    "ax3 = ax.twinx()\n",
    "ax3.plot(Th_2_Bins,ACC_Th2, color='black')#,THbin,CCC_Per)\n",
    "ax3.set_frame_on(False)\n",
    "ax3.set_ylabel('Accuracy', color='black')\n",
    "\n",
    "\n",
    "\n",
    "\n",
    "\n",
    "\n",
    "for i,j in zip(Th_2_Bins,ACC_Th2):\n",
    "     #ax3.annotate((\"%0.2f\" % j),xy=(i-0.05,j), color='black')\n",
    "    #ax3.annotate((\"%0.2f\" % j),xy=(i-0.1,j), color='black')##################################\n",
    "    ax3.annotate((\"%0.2f\" % j),xy=(i,j+0.01), color='black')##################################\n",
    "    ax3.plot(i,j, marker='*', markersize=10, color=\"black\")\n",
    "    #ax3.annotate((\"%0.2f,%0.2f\" % (i,j)),xy=(i-0.05,j), color='green')\n",
    "    #ax3.annotate((\"%0.3f\" %j),xy=(i,j), color='green')\n",
    "\n",
    "\n",
    "    \n",
    "    \n",
    "    \n",
    "    \n",
    "# Move the last y-axis spine over to the right by 20% of the width of the axes\n",
    "ax3.spines['right'].set_position(('axes', 1.15))\n",
    "ax3.spines['right'].set_visible(True)\n",
    "\n",
    "# To make the border of the right-most axis visible, we need to turn the frame\n",
    "# on. This hides the other plots, however, so we need to turn its fill off.\n",
    "ax3.set_frame_on(True)\n",
    "ax3.patch.set_visible(False)\n",
    "\n",
    "\n",
    "#ax.plot(bins,np.linspace(0,1,11))\n",
    "plt.subplots_adjust(bottom=0.15)\n",
    "plt.grid(False,which='both')\n",
    "ax.set_ylabel('Frequency')\n",
    "ax.yaxis.label.set_color('Blue')\n",
    "plt.tight_layout()\n",
    "# #Save the image\n",
    "\n",
    "filename='Corr_StabilitySelection_TH2'\n",
    "save_format='png'\n",
    "#print filename+'.'+save_format\n",
    "#pp='home/ralfahad/Pictures'\n",
    "#plt.savefig(filename+'.'+save_format,dpi=100)\n",
    "plt.savefig(filename+'.'+save_format,dpi=300, bbox_inches='tight')\n",
    "plt.show()\n",
    "\n"
   ]
  },
  {
   "cell_type": "code",
   "execution_count": 123,
   "metadata": {},
   "outputs": [
    {
     "name": "stdout",
     "output_type": "stream",
     "text": [
      "0.17 0.89 0.89 273\n",
      "0.25 0.88 0.88 195\n",
      "0.34 0.88 0.87 136\n",
      "0.42 0.85 0.85 77\n",
      "0.51 0.81 0.81 27\n",
      "0.59 0.68 0.68 9\n",
      "0.68 0.61 0.56 3\n",
      "0.76 0.59 0.53 2\n"
     ]
    },
    {
     "data": {
      "text/html": [
       "<div>\n",
       "<style scoped>\n",
       "    .dataframe tbody tr th:only-of-type {\n",
       "        vertical-align: middle;\n",
       "    }\n",
       "\n",
       "    .dataframe tbody tr th {\n",
       "        vertical-align: top;\n",
       "    }\n",
       "\n",
       "    .dataframe thead th {\n",
       "        text-align: right;\n",
       "    }\n",
       "</style>\n",
       "<table border=\"1\" class=\"dataframe\">\n",
       "  <thead>\n",
       "    <tr style=\"text-align: right;\">\n",
       "      <th></th>\n",
       "      <th>Threshold</th>\n",
       "      <th>ACC</th>\n",
       "      <th>AUC</th>\n",
       "      <th>NoEle</th>\n",
       "    </tr>\n",
       "  </thead>\n",
       "  <tbody>\n",
       "    <tr>\n",
       "      <th>0</th>\n",
       "      <td>0.17</td>\n",
       "      <td>0.89</td>\n",
       "      <td>0.89</td>\n",
       "      <td>273</td>\n",
       "    </tr>\n",
       "    <tr>\n",
       "      <th>1</th>\n",
       "      <td>0.25</td>\n",
       "      <td>0.88</td>\n",
       "      <td>0.88</td>\n",
       "      <td>195</td>\n",
       "    </tr>\n",
       "    <tr>\n",
       "      <th>2</th>\n",
       "      <td>0.34</td>\n",
       "      <td>0.88</td>\n",
       "      <td>0.87</td>\n",
       "      <td>136</td>\n",
       "    </tr>\n",
       "    <tr>\n",
       "      <th>3</th>\n",
       "      <td>0.42</td>\n",
       "      <td>0.85</td>\n",
       "      <td>0.85</td>\n",
       "      <td>77</td>\n",
       "    </tr>\n",
       "    <tr>\n",
       "      <th>4</th>\n",
       "      <td>0.51</td>\n",
       "      <td>0.81</td>\n",
       "      <td>0.81</td>\n",
       "      <td>27</td>\n",
       "    </tr>\n",
       "    <tr>\n",
       "      <th>5</th>\n",
       "      <td>0.59</td>\n",
       "      <td>0.68</td>\n",
       "      <td>0.68</td>\n",
       "      <td>9</td>\n",
       "    </tr>\n",
       "    <tr>\n",
       "      <th>6</th>\n",
       "      <td>0.68</td>\n",
       "      <td>0.61</td>\n",
       "      <td>0.56</td>\n",
       "      <td>3</td>\n",
       "    </tr>\n",
       "    <tr>\n",
       "      <th>7</th>\n",
       "      <td>0.76</td>\n",
       "      <td>0.59</td>\n",
       "      <td>0.53</td>\n",
       "      <td>2</td>\n",
       "    </tr>\n",
       "  </tbody>\n",
       "</table>\n",
       "</div>"
      ],
      "text/plain": [
       "  Threshold   ACC   AUC  NoEle\n",
       "0      0.17  0.89  0.89    273\n",
       "1      0.25  0.88  0.88    195\n",
       "2      0.34  0.88  0.87    136\n",
       "3      0.42  0.85  0.85     77\n",
       "4      0.51  0.81  0.81     27\n",
       "5      0.59  0.68  0.68      9\n",
       "6      0.68  0.61  0.56      3\n",
       "7      0.76  0.59  0.53      2"
      ]
     },
     "execution_count": 123,
     "metadata": {},
     "output_type": "execute_result"
    }
   ],
   "source": [
    "# for i,j in zip(Th_2_Bins,AUC_Th2):\n",
    "#     print i,j\n",
    "All_ACC=[]\n",
    "All_AUC=[]\n",
    "ALL_Bins=[]\n",
    "NumberofElement=[]\n",
    "for i,j,k in zip(Th_2_Bins,ACC_Th2,AUC_Th2):\n",
    "    Th2Index=np.squeeze(np.asarray(np.where(clf.scores_>=i)))\n",
    "    print (\"{0:.2f}\".format(i)),(\"{0:.2f}\".format(j)),(\"{0:.2f}\".format(k)),len(Th2Index)\n",
    "    NumberofElement.append(len(Th2Index))\n",
    "    ALL_Bins.append(\"{0:.2f}\".format(i))\n",
    "    All_ACC.append(\"{0:.2f}\".format(j))\n",
    "    All_AUC.append(\"{0:.2f}\".format(k))\n",
    "\n",
    "Selected_Feature_Result=pd.concat([pd.DataFrame(ALL_Bins),pd.DataFrame(All_ACC),\n",
    "           pd.DataFrame(All_AUC),pd.DataFrame(NumberofElement)],axis=1)\n",
    "Selected_Feature_Result.columns=['Threshold','ACC','AUC','NoEle']\n",
    "Selected_Feature_Result"
   ]
  },
  {
   "cell_type": "code",
   "execution_count": 124,
   "metadata": {},
   "outputs": [
    {
     "data": {
      "text/plain": [
       "array([  49,   58,   62,   85,  126,  154,  157,  166,  174,  178,  180,  184,  201,  217,  227,  229,  238,\n",
       "        242,  248,  259,  262,  269,  272,  283,  286,  288,  306,  311,  321,  326,  337,  338,  345,  351,\n",
       "        357,  361,  370,  379,  389,  404,  405,  427,  428,  438,  445,  462,  466,  472,  473,  476,  477,\n",
       "        490,  491,  497,  499,  515,  525,  526,  532,  538,  545,  574,  590,  598,  605,  609,  615,  629,\n",
       "        647,  658,  659,  670,  689,  694,  699,  740,  742,  744,  752,  762,  764,  801,  808,  813,  820,\n",
       "        821,  827,  835,  843,  859,  881,  904,  909,  923,  938,  939,  942,  947,  956,  960,  996,  998,\n",
       "       1000, 1006, 1024, 1069, 1092, 1102, 1126, 1136, 1153, 1156, 1157, 1161, 1170, 1171, 1177, 1195, 1206,\n",
       "       1218, 1228, 1229, 1237, 1238, 1258, 1273, 1306, 1347, 1356, 1374, 1409, 1418, 1420, 1422, 1424, 1425])"
      ]
     },
     "execution_count": 124,
     "metadata": {},
     "output_type": "execute_result"
    }
   ],
   "source": [
    "# Need to chage gamma range . It is selecting too many features\n",
    "\n",
    "# Let 0.34 is our best Thr. TO get the index numer with this thr\n",
    "\n",
    "\n",
    "np.squeeze(np.asarray(np.where(clf.scores_>=0.34)))\n",
    "\n",
    "# Do you get it? yes > How about number of support of the model?"
   ]
  },
  {
   "cell_type": "code",
   "execution_count": null,
   "metadata": {},
   "outputs": [],
   "source": []
  },
  {
   "cell_type": "code",
   "execution_count": 126,
   "metadata": {},
   "outputs": [
    {
     "name": "stdout",
     "output_type": "stream",
     "text": [
      "(2269, 108) (2269, 1)\n",
      "Finish tuning\n"
     ]
    }
   ],
   "source": [
    "clf_Tune.fit(X_train[:,np.squeeze(np.asarray(np.where(clf.scores_>=0.38)))],y_train)\n",
    "print X_train[:,np.squeeze(np.asarray(np.where(clf.scores_>=0.38)))].shape ,y_train.shape\n",
    "print 'Finish tuning'\n",
    "\n",
    "# use tuned parameter on to get model\n",
    "#y_p = clf_Tune.best_estimator_.predict(X_test[:,np.squeeze(np.asarray(np.where(clf.scores_>=i)))])"
   ]
  },
  {
   "cell_type": "code",
   "execution_count": 133,
   "metadata": {},
   "outputs": [
    {
     "data": {
      "text/plain": [
       "60.59938298810048"
      ]
     },
     "execution_count": 133,
     "metadata": {},
     "output_type": "execute_result"
    }
   ],
   "source": [
    "float(len(clf_Tune.best_estimator_.support_vectors_))/X_train[:,np.squeeze(np.asarray(np.where(clf.scores_>=0.38)))].shape[0]*100"
   ]
  },
  {
   "cell_type": "code",
   "execution_count": null,
   "metadata": {},
   "outputs": [],
   "source": [
    "result it overfitting need to be less or equal to 40%"
   ]
  },
  {
   "cell_type": "markdown",
   "metadata": {},
   "source": [
    "# Sultan----------->>>>>>>>>>>>>>>>>>>> End Here "
   ]
  },
  {
   "cell_type": "code",
   "execution_count": null,
   "metadata": {},
   "outputs": [],
   "source": []
  },
  {
   "cell_type": "code",
   "execution_count": null,
   "metadata": {},
   "outputs": [],
   "source": []
  },
  {
   "cell_type": "code",
   "execution_count": null,
   "metadata": {},
   "outputs": [],
   "source": []
  },
  {
   "cell_type": "code",
   "execution_count": null,
   "metadata": {},
   "outputs": [],
   "source": []
  },
  {
   "cell_type": "code",
   "execution_count": null,
   "metadata": {},
   "outputs": [],
   "source": []
  },
  {
   "cell_type": "code",
   "execution_count": null,
   "metadata": {},
   "outputs": [],
   "source": []
  },
  {
   "cell_type": "code",
   "execution_count": null,
   "metadata": {},
   "outputs": [],
   "source": []
  },
  {
   "cell_type": "code",
   "execution_count": null,
   "metadata": {},
   "outputs": [],
   "source": []
  },
  {
   "cell_type": "code",
   "execution_count": null,
   "metadata": {},
   "outputs": [],
   "source": []
  },
  {
   "cell_type": "code",
   "execution_count": 790,
   "metadata": {},
   "outputs": [],
   "source": [
    "Desikan_Killiany =['bankssts L', 'bankssts R', 'caudalanteriorcingulate L', \n",
    "                   'caudalanteriorcingulate R', 'caudalmiddlefrontal L', 'caudalmiddlefrontal R', \n",
    "                   'cuneus L', 'cuneus R', 'entorhinal L', 'entorhinal R', 'frontalpole L', \n",
    "                   'frontalpole R', 'fusiform L', 'fusiform R', 'inferiorparietal L', \n",
    "                   'inferiorparietal R', 'inferiortemporal L', 'inferiortemporal R', 'insula L', 'insula R', \n",
    "                   'isthmuscingulate L', 'isthmuscingulate R', 'lateraloccipital L', 'lateraloccipital R', \n",
    "                   'lateralorbitofrontal L', 'lateralorbitofrontal R', 'lingual L', 'lingual R', 'medialorbitofrontal L', \n",
    "                   'medialorbitofrontal R', 'middletemporal L', 'middletemporal R', 'paracentral L', 'paracentral R',\n",
    "                   'parahippocampal L', 'parahippocampal R', 'parsopercularis L', 'parsopercularis R', 'parsorbitalis L',\n",
    "                   'parsorbitalis R', 'parstriangularis L', 'parstriangularis R', 'pericalcarine L', 'pericalcarine R', \n",
    "                   'postcentral L', 'postcentral R', 'posteriorcingulate L', 'posteriorcingulate R', 'precentral L', \n",
    "                   'precentral R', 'precuneus L', 'precuneus R', 'rostralanteriorcingulate L', 'rostralanteriorcingulate R', \n",
    "                   'rostralmiddlefrontal L', 'rostralmiddlefrontal R', 'superiorfrontal L', 'superiorfrontal R', \n",
    "                   'superiorparietal L', 'superiorparietal R', 'superiortemporal L', 'superiortemporal R', 'supramarginal L', \n",
    "                   'supramarginal R', 'temporalpole L','temporalpole R', 'transversetemporal L', 'transversetemporal R']\n",
    "\n",
    "\n",
    "len(Desikan_Killiany)\n",
    "\n",
    "NodeNameSerise=[]\n",
    "for i in range(68):\n",
    "    for j in range(68):\n",
    "        if i==j:\n",
    "            pass  \n",
    "        elif i < j:\n",
    "            pass        \n",
    "        else:\n",
    "            A=str(Desikan_Killiany[i]+'_'+Desikan_Killiany[j])\n",
    "            NodeNameSerise.append(A)\n",
    "            #RMat.append(M[i,j])\n",
    "        \n",
    "NodeNameSerise=np.asarray(NodeNameSerise)\n",
    "\n",
    "# for i in NodeNameSerise[Th2Index]:\n",
    "#     print i\n"
   ]
  },
  {
   "cell_type": "code",
   "execution_count": 1052,
   "metadata": {},
   "outputs": [],
   "source": [
    "#NodeNameSerise[Th2Index]\n",
    "Th2Index=np.squeeze(np.asarray(np.where(clf.scores_>=0.68)))\n",
    "SelectedNames_Corr=pd.concat([pd.DataFrame(NodeNameSerise[Th2Index]),pd.DataFrame(clf.scores_[Th2Index])],axis=1)\n",
    "SelectedNames_Corr.colums=['Name_Corr','Score_Corr']\n",
    "#SelectedNames_Corr"
   ]
  },
  {
   "cell_type": "code",
   "execution_count": 1051,
   "metadata": {},
   "outputs": [],
   "source": [
    "#NodeNameSerise[Th2Index]\n",
    "SelectedNames_Corr=pd.concat([pd.DataFrame(NodeNameSerise[Th2Index]),pd.DataFrame(clf.scores_[Th2Index])],axis=1)\n",
    "SelectedNames_Corr.colums=['Name_Corr','Score_Corr']\n",
    "#SelectedNames_PTE\n",
    "#Save as xlsx\n",
    "Fname='SelectedNames_Corr.xlsx'\n",
    "writer = pd.ExcelWriter(Fname, engine='xlsxwriter')\n",
    "SelectedNames_Corr.to_excel(writer, sheet_name='Sheet1')\n",
    "writer.save()\n"
   ]
  },
  {
   "cell_type": "code",
   "execution_count": 1053,
   "metadata": {},
   "outputs": [
    {
     "name": "stdout",
     "output_type": "stream",
     "text": [
      "(8, 2)\n",
      "['caudalmiddlefrontal R' 'inferiorparietal L' 'lateraloccipital L' 'lingual L' 'lingual R' 'middletemporal L'\n",
      " 'paracentral R' 'parahippocampal R' 'parstriangularis L' 'precuneus R' 'rostralmiddlefrontal L'\n",
      " 'superiorparietal L' 'superiortemporal R']\n",
      "13\n"
     ]
    }
   ],
   "source": [
    "#Corr_X = pd.ExcelFile(\"/home/ralfahad/Bidelman/PythonCode/SelectedNames_Corr.xlsx\")\n",
    "#SelectedNames_Corr = Corr_X.parse(\"Sheet1\",header=0)\n",
    "SelectedNames_Corr.columns=['Name_Corr','Score_Corr']\n",
    "print SelectedNames_Corr.shape\n",
    "FirstCorrNode=[]\n",
    "SecCorrNode=[]\n",
    "ForwardCorr=[]\n",
    "BackwardCorr=[]\n",
    "#SelectedNames_Corr.Name_Corr.str.split('_').tolist()[0][0]\n",
    "for i in range(len(SelectedNames_Corr.Name_Corr.str.split('_').tolist())):\n",
    "    FirstCorrNode.append(SelectedNames_Corr.Name_Corr.str.split('_').tolist()[i][0])\n",
    "    SecCorrNode.append(SelectedNames_Corr.Name_Corr.str.split('_').tolist()[i][1])\n",
    "    ForwardCorr.append(SelectedNames_Corr.Name_Corr.str.split('_').tolist()[i][0] +'_'+ SelectedNames_Corr.Name_Corr.str.split('_').tolist()[i][1])\n",
    "    BackwardCorr.append(SelectedNames_Corr.Name_Corr.str.split('_').tolist()[i][1] +'_'+ SelectedNames_Corr.Name_Corr.str.split('_').tolist()[i][0])\n",
    "    #ForwardCorr.append()\n",
    "FirstCorrNode=np.asarray(FirstCorrNode)  \n",
    "SecCorrNode=np.asarray(SecCorrNode) \n",
    "\n",
    "print reduce(np.union1d,(FirstCorrNode,SecCorrNode))\n",
    "print len(reduce(np.union1d,(FirstCorrNode,SecCorrNode)))\n",
    "\n",
    "\n",
    "\n",
    "\n"
   ]
  },
  {
   "cell_type": "code",
   "execution_count": 197,
   "metadata": {},
   "outputs": [
    {
     "data": {
      "text/html": [
       "<div>\n",
       "<style scoped>\n",
       "    .dataframe tbody tr th:only-of-type {\n",
       "        vertical-align: middle;\n",
       "    }\n",
       "\n",
       "    .dataframe tbody tr th {\n",
       "        vertical-align: top;\n",
       "    }\n",
       "\n",
       "    .dataframe thead th {\n",
       "        text-align: right;\n",
       "    }\n",
       "</style>\n",
       "<table border=\"1\" class=\"dataframe\">\n",
       "  <thead>\n",
       "    <tr style=\"text-align: right;\">\n",
       "      <th></th>\n",
       "      <th>Threshold</th>\n",
       "      <th>ACC</th>\n",
       "      <th>AUC</th>\n",
       "      <th>NoEdge</th>\n",
       "      <th>UniqueNode</th>\n",
       "    </tr>\n",
       "  </thead>\n",
       "  <tbody>\n",
       "    <tr>\n",
       "      <th>0</th>\n",
       "      <td>0.00</td>\n",
       "      <td>0.46</td>\n",
       "      <td>0.61</td>\n",
       "      <td>2278</td>\n",
       "      <td>68</td>\n",
       "    </tr>\n",
       "    <tr>\n",
       "      <th>1</th>\n",
       "      <td>0.08</td>\n",
       "      <td>0.88</td>\n",
       "      <td>0.91</td>\n",
       "      <td>613</td>\n",
       "      <td>68</td>\n",
       "    </tr>\n",
       "    <tr>\n",
       "      <th>2</th>\n",
       "      <td>0.17</td>\n",
       "      <td>0.91</td>\n",
       "      <td>0.93</td>\n",
       "      <td>408</td>\n",
       "      <td>68</td>\n",
       "    </tr>\n",
       "    <tr>\n",
       "      <th>3</th>\n",
       "      <td>0.26</td>\n",
       "      <td>0.92</td>\n",
       "      <td>0.94</td>\n",
       "      <td>273</td>\n",
       "      <td>68</td>\n",
       "    </tr>\n",
       "    <tr>\n",
       "      <th>4</th>\n",
       "      <td>0.34</td>\n",
       "      <td>0.90</td>\n",
       "      <td>0.93</td>\n",
       "      <td>183</td>\n",
       "      <td>68</td>\n",
       "    </tr>\n",
       "    <tr>\n",
       "      <th>5</th>\n",
       "      <td>0.42</td>\n",
       "      <td>0.89</td>\n",
       "      <td>0.91</td>\n",
       "      <td>109</td>\n",
       "      <td>64</td>\n",
       "    </tr>\n",
       "    <tr>\n",
       "      <th>6</th>\n",
       "      <td>0.51</td>\n",
       "      <td>0.85</td>\n",
       "      <td>0.88</td>\n",
       "      <td>54</td>\n",
       "      <td>53</td>\n",
       "    </tr>\n",
       "    <tr>\n",
       "      <th>7</th>\n",
       "      <td>0.59</td>\n",
       "      <td>0.71</td>\n",
       "      <td>0.78</td>\n",
       "      <td>16</td>\n",
       "      <td>24</td>\n",
       "    </tr>\n",
       "    <tr>\n",
       "      <th>8</th>\n",
       "      <td>0.68</td>\n",
       "      <td>0.57</td>\n",
       "      <td>0.68</td>\n",
       "      <td>8</td>\n",
       "      <td>13</td>\n",
       "    </tr>\n",
       "    <tr>\n",
       "      <th>9</th>\n",
       "      <td>0.76</td>\n",
       "      <td>0.47</td>\n",
       "      <td>0.60</td>\n",
       "      <td>4</td>\n",
       "      <td>8</td>\n",
       "    </tr>\n",
       "  </tbody>\n",
       "</table>\n",
       "</div>"
      ],
      "text/plain": [
       "  Threshold   ACC   AUC  NoEdge  UniqueNode\n",
       "0      0.00  0.46  0.61    2278          68\n",
       "1      0.08  0.88  0.91     613          68\n",
       "2      0.17  0.91  0.93     408          68\n",
       "3      0.26  0.92  0.94     273          68\n",
       "4      0.34  0.90  0.93     183          68\n",
       "5      0.42  0.89  0.91     109          64\n",
       "6      0.51  0.85  0.88      54          53\n",
       "7      0.59  0.71  0.78      16          24\n",
       "8      0.68  0.57  0.68       8          13\n",
       "9      0.76  0.47  0.60       4           8"
      ]
     },
     "execution_count": 197,
     "metadata": {},
     "output_type": "execute_result"
    }
   ],
   "source": [
    "# for i,j in zip(Th_2_Bins,AUC_Th2):\n",
    "#     print i,j\n",
    "All_ACC=[]\n",
    "All_AUC=[]\n",
    "ALL_Bins=[]\n",
    "NumberofElement=[]\n",
    "NumberofUniqueElement=[]\n",
    "\n",
    "for i,j,k in zip(Th_2_Bins,ACC_Th2,AUC_Th2):\n",
    "    Th2Index=np.squeeze(np.asarray(np.where(clf.scores_>=i)))\n",
    "    #print (\"{0:.2f}\".format(i)),(\"{0:.2f}\".format(j)),(\"{0:.2f}\".format(k)),len(Th2Index)\n",
    "    NumberofElement.append(len(Th2Index))\n",
    "    ALL_Bins.append(\"{0:.2f}\".format(i))\n",
    "    All_ACC.append(\"{0:.2f}\".format(j))\n",
    "    All_AUC.append(\"{0:.2f}\".format(k))\n",
    "    SelectedNames_Corr=pd.DataFrame(NodeNameSerise[Th2Index])\n",
    "    SelectedNames_Corr.columns=['Name_Corr']\n",
    "    FirstCorrNode=[]\n",
    "    SecCorrNode=[]\n",
    "    for i in range(len(SelectedNames_Corr.Name_Corr.str.split('_').tolist())):\n",
    "        FirstCorrNode.append(SelectedNames_Corr.Name_Corr.str.split('_').tolist()[i][0])\n",
    "        SecCorrNode.append(SelectedNames_Corr.Name_Corr.str.split('_').tolist()[i][1])\n",
    "    \n",
    "    #FirstCorrNode=np.asarray(FirstCorrNode)  \n",
    "    SecCorrNode=np.asarray(SecCorrNode) \n",
    "\n",
    "#print reduce(np.union1d,(FirstCorrNode,SecCorrNode))\n",
    "    NumberofUniqueElement.append(len(reduce(np.union1d,(FirstCorrNode,SecCorrNode))))\n",
    "\n",
    "Selected_Feature_Result=pd.concat([pd.DataFrame(ALL_Bins),pd.DataFrame(All_ACC),\n",
    "           pd.DataFrame(All_AUC),pd.DataFrame(NumberofElement),\n",
    "                                  pd.DataFrame(NumberofUniqueElement)],axis=1)\n",
    "Selected_Feature_Result.columns=['Threshold','ACC','AUC','NoEdge','UniqueNode']\n",
    "\n",
    "\n",
    "#Save as xlsx\n",
    "Fname='Selected_Feature_Result.xlsx'\n",
    "writer = pd.ExcelWriter(Fname, engine='xlsxwriter')\n",
    "Selected_Feature_Result.to_excel(writer, sheet_name='Sheet1')\n",
    "writer.save()\n",
    "\n",
    "Selected_Feature_Result\n",
    "\n",
    "\n"
   ]
  },
  {
   "cell_type": "code",
   "execution_count": 199,
   "metadata": {},
   "outputs": [],
   "source": [
    "# #concatenated_list = FirstCorrNode + SecCorrNode\n",
    "# concatenated_list = [y for x in [FirstCorrNode,SecCorrNode] for y in x] \n",
    "# print len(reduce(np.union1d,concatenated_list))\n",
    "# print len(reduce(np.union1d,concatenated_list))\n",
    "# count,Node_Name=np.unique(concatenated_list,return_counts=True)\n",
    "# pd.DataFrame(zip(count,Node_Name))#.shape"
   ]
  },
  {
   "cell_type": "code",
   "execution_count": 116,
   "metadata": {},
   "outputs": [
    {
     "data": {
      "text/plain": [
       "108"
      ]
     },
     "execution_count": 116,
     "metadata": {},
     "output_type": "execute_result"
    }
   ],
   "source": [
    "len(concatenated_list)"
   ]
  },
  {
   "cell_type": "code",
   "execution_count": 205,
   "metadata": {},
   "outputs": [
    {
     "data": {
      "text/html": [
       "<div>\n",
       "<style scoped>\n",
       "    .dataframe tbody tr th:only-of-type {\n",
       "        vertical-align: middle;\n",
       "    }\n",
       "\n",
       "    .dataframe tbody tr th {\n",
       "        vertical-align: top;\n",
       "    }\n",
       "\n",
       "    .dataframe thead th {\n",
       "        text-align: right;\n",
       "    }\n",
       "</style>\n",
       "<table border=\"1\" class=\"dataframe\">\n",
       "  <thead>\n",
       "    <tr style=\"text-align: right;\">\n",
       "      <th></th>\n",
       "      <th>-54.343785</th>\n",
       "      <th>-44.539029</th>\n",
       "      <th>4.163784</th>\n",
       "      <th>bankssts L</th>\n",
       "      <th>l.bankssts</th>\n",
       "    </tr>\n",
       "  </thead>\n",
       "  <tbody>\n",
       "    <tr>\n",
       "      <th>0</th>\n",
       "      <td>52.975610</td>\n",
       "      <td>-40.553816</td>\n",
       "      <td>5.303675</td>\n",
       "      <td>bankssts R</td>\n",
       "      <td>r.bankssts</td>\n",
       "    </tr>\n",
       "    <tr>\n",
       "      <th>1</th>\n",
       "      <td>-5.030493</td>\n",
       "      <td>20.087970</td>\n",
       "      <td>28.999343</td>\n",
       "      <td>caudalanteriorcingulate L</td>\n",
       "      <td>l.caudalanteriorcingulate</td>\n",
       "    </tr>\n",
       "    <tr>\n",
       "      <th>2</th>\n",
       "      <td>5.012041</td>\n",
       "      <td>22.258100</td>\n",
       "      <td>27.639678</td>\n",
       "      <td>caudalanteriorcingulate R</td>\n",
       "      <td>r.caudalanteriorcingulate</td>\n",
       "    </tr>\n",
       "    <tr>\n",
       "      <th>3</th>\n",
       "      <td>-35.521824</td>\n",
       "      <td>10.809538</td>\n",
       "      <td>44.190969</td>\n",
       "      <td>caudalmiddlefrontal L</td>\n",
       "      <td>l.caudalmiddlefrontal</td>\n",
       "    </tr>\n",
       "    <tr>\n",
       "      <th>4</th>\n",
       "      <td>35.661664</td>\n",
       "      <td>12.293548</td>\n",
       "      <td>44.471424</td>\n",
       "      <td>caudalmiddlefrontal R</td>\n",
       "      <td>r.caudalmiddlefrontal</td>\n",
       "    </tr>\n",
       "  </tbody>\n",
       "</table>\n",
       "</div>"
      ],
      "text/plain": [
       "   -54.343785  -44.539029   4.163784                 bankssts L  \\\n",
       "0   52.975610  -40.553816   5.303675                 bankssts R   \n",
       "1   -5.030493   20.087970  28.999343  caudalanteriorcingulate L   \n",
       "2    5.012041   22.258100  27.639678  caudalanteriorcingulate R   \n",
       "3  -35.521824   10.809538  44.190969      caudalmiddlefrontal L   \n",
       "4   35.661664   12.293548  44.471424      caudalmiddlefrontal R   \n",
       "\n",
       "                  l.bankssts  \n",
       "0                 r.bankssts  \n",
       "1  l.caudalanteriorcingulate  \n",
       "2  r.caudalanteriorcingulate  \n",
       "3      l.caudalmiddlefrontal  \n",
       "4      r.caudalmiddlefrontal  "
      ]
     },
     "execution_count": 205,
     "metadata": {},
     "output_type": "execute_result"
    }
   ],
   "source": [
    "#Load BrainNetwork Tamplate\n",
    "\n",
    "Desikan_Killiany_BN_Cordinates = pd.read_csv('/home/ralfahad/Bidelman/PythonCode/Desikan_Killiany_BN_Cordinates.csv', \n",
    "                   skiprows=[0],sep=' ')\n",
    "\n",
    "Desikan_Killiany_BN_Cordinates.head()\n",
    "\n",
    "#To write it\n",
    "\n",
    "#Desikan_Killiany_BS_Cordinates.to_csv('Desikan_Killiany_BN_Cordinates.csv', sep=' ', header=False, index=False)\n"
   ]
  },
  {
   "cell_type": "code",
   "execution_count": 1068,
   "metadata": {},
   "outputs": [
    {
     "data": {
      "text/html": [
       "<div>\n",
       "<style scoped>\n",
       "    .dataframe tbody tr th:only-of-type {\n",
       "        vertical-align: middle;\n",
       "    }\n",
       "\n",
       "    .dataframe tbody tr th {\n",
       "        vertical-align: top;\n",
       "    }\n",
       "\n",
       "    .dataframe thead th {\n",
       "        text-align: right;\n",
       "    }\n",
       "</style>\n",
       "<table border=\"1\" class=\"dataframe\">\n",
       "  <thead>\n",
       "    <tr style=\"text-align: right;\">\n",
       "      <th></th>\n",
       "      <th>Threshold</th>\n",
       "      <th>ACC</th>\n",
       "      <th>AUC</th>\n",
       "      <th>NoEdge</th>\n",
       "      <th>UniqueNode</th>\n",
       "    </tr>\n",
       "  </thead>\n",
       "  <tbody>\n",
       "    <tr>\n",
       "      <th>0</th>\n",
       "      <td>0.000</td>\n",
       "      <td>0.461905</td>\n",
       "      <td>0.606509</td>\n",
       "      <td>2278</td>\n",
       "      <td>68</td>\n",
       "    </tr>\n",
       "    <tr>\n",
       "      <th>1</th>\n",
       "      <td>0.085</td>\n",
       "      <td>0.879365</td>\n",
       "      <td>0.908458</td>\n",
       "      <td>613</td>\n",
       "      <td>68</td>\n",
       "    </tr>\n",
       "    <tr>\n",
       "      <th>2</th>\n",
       "      <td>0.170</td>\n",
       "      <td>0.909524</td>\n",
       "      <td>0.931264</td>\n",
       "      <td>408</td>\n",
       "      <td>68</td>\n",
       "    </tr>\n",
       "    <tr>\n",
       "      <th>3</th>\n",
       "      <td>0.255</td>\n",
       "      <td>0.922222</td>\n",
       "      <td>0.941057</td>\n",
       "      <td>273</td>\n",
       "      <td>68</td>\n",
       "    </tr>\n",
       "    <tr>\n",
       "      <th>4</th>\n",
       "      <td>0.340</td>\n",
       "      <td>0.904762</td>\n",
       "      <td>0.928021</td>\n",
       "      <td>183</td>\n",
       "      <td>68</td>\n",
       "    </tr>\n",
       "    <tr>\n",
       "      <th>5</th>\n",
       "      <td>0.425</td>\n",
       "      <td>0.885714</td>\n",
       "      <td>0.913892</td>\n",
       "      <td>109</td>\n",
       "      <td>64</td>\n",
       "    </tr>\n",
       "    <tr>\n",
       "      <th>6</th>\n",
       "      <td>0.510</td>\n",
       "      <td>0.847619</td>\n",
       "      <td>0.884296</td>\n",
       "      <td>54</td>\n",
       "      <td>53</td>\n",
       "    </tr>\n",
       "    <tr>\n",
       "      <th>7</th>\n",
       "      <td>0.595</td>\n",
       "      <td>0.709524</td>\n",
       "      <td>0.782567</td>\n",
       "      <td>16</td>\n",
       "      <td>24</td>\n",
       "    </tr>\n",
       "    <tr>\n",
       "      <th>8</th>\n",
       "      <td>0.680</td>\n",
       "      <td>0.573016</td>\n",
       "      <td>0.680210</td>\n",
       "      <td>8</td>\n",
       "      <td>13</td>\n",
       "    </tr>\n",
       "    <tr>\n",
       "      <th>9</th>\n",
       "      <td>0.765</td>\n",
       "      <td>0.471429</td>\n",
       "      <td>0.604855</td>\n",
       "      <td>4</td>\n",
       "      <td>8</td>\n",
       "    </tr>\n",
       "  </tbody>\n",
       "</table>\n",
       "</div>"
      ],
      "text/plain": [
       "   Threshold       ACC       AUC  NoEdge  UniqueNode\n",
       "0      0.000  0.461905  0.606509    2278          68\n",
       "1      0.085  0.879365  0.908458     613          68\n",
       "2      0.170  0.909524  0.931264     408          68\n",
       "3      0.255  0.922222  0.941057     273          68\n",
       "4      0.340  0.904762  0.928021     183          68\n",
       "5      0.425  0.885714  0.913892     109          64\n",
       "6      0.510  0.847619  0.884296      54          53\n",
       "7      0.595  0.709524  0.782567      16          24\n",
       "8      0.680  0.573016  0.680210       8          13\n",
       "9      0.765  0.471429  0.604855       4           8"
      ]
     },
     "execution_count": 1068,
     "metadata": {},
     "output_type": "execute_result"
    }
   ],
   "source": [
    "# for i,j in zip(Th_2_Bins,AUC_Th2):\n",
    "#     print i,j\n",
    "All_ACC=[]\n",
    "All_AUC=[]\n",
    "ALL_Bins=[]\n",
    "NumberofElement=[]\n",
    "NumberofUniqueElement=[]\n",
    "\n",
    "for i,j,k in zip(Th_2_Bins,ACC_Th2,AUC_Th2):\n",
    "    Th2Index=np.squeeze(np.asarray(np.where(clf.scores_>=i)))\n",
    "    #print (\"{0:.2f}\".format(i)),(\"{0:.2f}\".format(j)),(\"{0:.2f}\".format(k)),len(Th2Index)\n",
    "    NumberofElement.append(len(Th2Index))\n",
    "    ALL_Bins.append(i)\n",
    "    All_ACC.append(j)\n",
    "    All_AUC.append(k)\n",
    "    SelectedNames_Corr=pd.DataFrame(NodeNameSerise[Th2Index])\n",
    "    SelectedNames_Corr.columns=['Name_Corr']\n",
    "    FirstCorrNode=[]\n",
    "    SecCorrNode=[]\n",
    "    for i in range(len(SelectedNames_Corr.Name_Corr.str.split('_').tolist())):\n",
    "        FirstCorrNode.append(SelectedNames_Corr.Name_Corr.str.split('_').tolist()[i][0])\n",
    "        SecCorrNode.append(SelectedNames_Corr.Name_Corr.str.split('_').tolist()[i][1])\n",
    "    \n",
    "    #FirstCorrNode=np.asarray(FirstCorrNode)  \n",
    "    SecCorrNode=np.asarray(SecCorrNode) \n",
    "\n",
    "#print reduce(np.union1d,(FirstCorrNode,SecCorrNode))\n",
    "    NumberofUniqueElement.append(len(reduce(np.union1d,(FirstCorrNode,SecCorrNode))))\n",
    "\n",
    "Selected_Feature_Result=pd.concat([pd.DataFrame(ALL_Bins),pd.DataFrame(All_ACC),\n",
    "           pd.DataFrame(All_AUC),pd.DataFrame(NumberofElement),\n",
    "                                  pd.DataFrame(NumberofUniqueElement)],axis=1)\n",
    "Selected_Feature_Result.columns=['Threshold','ACC','AUC','NoEdge','UniqueNode']\n",
    "\n",
    "\n",
    "Selected_Feature_Result\n",
    "\n",
    "\n"
   ]
  },
  {
   "cell_type": "code",
   "execution_count": null,
   "metadata": {},
   "outputs": [],
   "source": []
  },
  {
   "cell_type": "code",
   "execution_count": 1073,
   "metadata": {},
   "outputs": [
    {
     "name": "stdout",
     "output_type": "stream",
     "text": [
      "                         0\n",
      "0    caudalmiddlefrontal R\n",
      "1       inferiorparietal L\n",
      "2       lateraloccipital L\n",
      "3                lingual L\n",
      "4                lingual R\n",
      "5         middletemporal L\n",
      "6            paracentral R\n",
      "7        parahippocampal R\n",
      "8       parstriangularis L\n",
      "9              precuneus R\n",
      "10  rostralmiddlefrontal L\n",
      "11      superiorparietal L\n",
      "12      superiortemporal R\n"
     ]
    }
   ],
   "source": [
    "Th2Index=np.squeeze(np.asarray(np.where(clf.scores_>=0.695)))\n",
    "#print (\"{0:.2f}\".format(i)),(\"{0:.2f}\".format(j)),(\"{0:.2f}\".format(k)),len(Th2Index)\n",
    "NumberofElement.append(len(Th2Index))\n",
    "ALL_Bins.append(i)\n",
    "All_ACC.append(j)\n",
    "All_AUC.append(k)\n",
    "SelectedNames_Corr=pd.DataFrame(NodeNameSerise[Th2Index])\n",
    "SelectedNames_Corr.columns=['Name_Corr']\n",
    "FirstCorrNode=[]\n",
    "SecCorrNode=[]\n",
    "for i in range(len(SelectedNames_Corr.Name_Corr.str.split('_').tolist())):\n",
    "    FirstCorrNode.append(SelectedNames_Corr.Name_Corr.str.split('_').tolist()[i][0])\n",
    "    SecCorrNode.append(SelectedNames_Corr.Name_Corr.str.split('_').tolist()[i][1])\n",
    "\n",
    "#FirstCorrNode=np.asarray(FirstCorrNode)  \n",
    "SecCorrNode=np.asarray(SecCorrNode) \n",
    "\n",
    "#print reduce(np.union1d,(FirstCorrNode,SecCorrNode))\n",
    "print pd.DataFrame(reduce(np.union1d,(FirstCorrNode,SecCorrNode)))"
   ]
  },
  {
   "cell_type": "code",
   "execution_count": null,
   "metadata": {},
   "outputs": [],
   "source": []
  },
  {
   "cell_type": "code",
   "execution_count": null,
   "metadata": {},
   "outputs": [],
   "source": []
  },
  {
   "cell_type": "code",
   "execution_count": 304,
   "metadata": {},
   "outputs": [],
   "source": [
    "Th2Index=np.squeeze(np.asarray(np.where(clf.scores_>=0.510)))\n",
    "SelectedNames_Corr=pd.DataFrame(NodeNameSerise[Th2Index])\n",
    "SelectedNames_Corr.columns=['Name_Corr']\n",
    "FirstCorrNode=[]\n",
    "SecCorrNode=[]\n",
    "for i in range(len(SelectedNames_Corr.Name_Corr.str.split('_').tolist())):\n",
    "    FirstCorrNode.append(SelectedNames_Corr.Name_Corr.str.split('_').tolist()[i][0])\n",
    "    SecCorrNode.append(SelectedNames_Corr.Name_Corr.str.split('_').tolist()[i][1])\n",
    "#FirstCorrNode\n",
    "#SecCorrNode\n",
    "#reduce(np.union1d,(FirstCorrNode,SecCorrNode),count=True)"
   ]
  },
  {
   "cell_type": "markdown",
   "metadata": {},
   "source": [
    "# Generate all connectivity matrix data for BrainNet"
   ]
  },
  {
   "cell_type": "code",
   "execution_count": 465,
   "metadata": {},
   "outputs": [
    {
     "data": {
      "text/plain": [
       "(3, 2278)"
      ]
     },
     "execution_count": 465,
     "metadata": {},
     "output_type": "execute_result"
    }
   ],
   "source": [
    "#Make group average COrr data\n",
    "X_Raw= pd.DataFrame(abs(np.asarray(CorrDataAll)))\n",
    "y=pd.DataFrame(np.asarray(TokenInfo))\n",
    "y.columns=['Label']\n",
    "Data_Label=pd.concat([X_Raw,y],axis=1)\n",
    "Group_CorrCon=Data_Label.groupby(['Label']).mean()\n",
    "Group_0CorrCon=Data_Label.groupby(['Label']).mean().loc[0,:]#.shape\n",
    "Group_1CorrCon=Data_Label.groupby(['Label']).mean().loc[1,:]\n",
    "Group_2CorrCon=Data_Label.groupby(['Label']).mean().loc[2,:]\n",
    "Group_CorrCon.shape"
   ]
  },
  {
   "cell_type": "code",
   "execution_count": 863,
   "metadata": {},
   "outputs": [
    {
     "data": {
      "text/plain": [
       "(3, 2278)"
      ]
     },
     "execution_count": 863,
     "metadata": {},
     "output_type": "execute_result"
    }
   ],
   "source": [
    "Group_CorrCon.shape"
   ]
  },
  {
   "cell_type": "code",
   "execution_count": 864,
   "metadata": {},
   "outputs": [],
   "source": [
    "import numpy, scipy.io\n",
    "scipy.io.savemat('/home/ralfahad/Bidelman/PythonCode/GeneratedData/Group_CorrCon.mat',\n",
    "                 mdict={'CorrData': np.asarray(Group_CorrCon)})"
   ]
  },
  {
   "cell_type": "code",
   "execution_count": 385,
   "metadata": {},
   "outputs": [
    {
     "data": {
      "text/html": [
       "<div>\n",
       "<style scoped>\n",
       "    .dataframe tbody tr th:only-of-type {\n",
       "        vertical-align: middle;\n",
       "    }\n",
       "\n",
       "    .dataframe tbody tr th {\n",
       "        vertical-align: top;\n",
       "    }\n",
       "\n",
       "    .dataframe thead th {\n",
       "        text-align: right;\n",
       "    }\n",
       "</style>\n",
       "<table border=\"1\" class=\"dataframe\">\n",
       "  <thead>\n",
       "    <tr style=\"text-align: right;\">\n",
       "      <th></th>\n",
       "      <th>x</th>\n",
       "      <th>y</th>\n",
       "      <th>z</th>\n",
       "      <th>Cluster</th>\n",
       "      <th>Count</th>\n",
       "      <th>NodeName</th>\n",
       "    </tr>\n",
       "  </thead>\n",
       "  <tbody>\n",
       "    <tr>\n",
       "      <th>0</th>\n",
       "      <td>-54.343785</td>\n",
       "      <td>-44.539029</td>\n",
       "      <td>4.163784</td>\n",
       "      <td>3</td>\n",
       "      <td>0</td>\n",
       "      <td>l.bankssts</td>\n",
       "    </tr>\n",
       "    <tr>\n",
       "      <th>1</th>\n",
       "      <td>52.975610</td>\n",
       "      <td>-40.553816</td>\n",
       "      <td>5.303675</td>\n",
       "      <td>3</td>\n",
       "      <td>2</td>\n",
       "      <td>r.bankssts</td>\n",
       "    </tr>\n",
       "  </tbody>\n",
       "</table>\n",
       "</div>"
      ],
      "text/plain": [
       "           x          y         z  Cluster  Count    NodeName\n",
       "0 -54.343785 -44.539029  4.163784        3      0  l.bankssts\n",
       "1  52.975610 -40.553816  5.303675        3      2  r.bankssts"
      ]
     },
     "execution_count": 385,
     "metadata": {},
     "output_type": "execute_result"
    }
   ],
   "source": [
    "# Load Co-ordinateData\n",
    "# CoordinateData=pd.read_csv(\n",
    "#     '/home/ralfahad/Bidelman/PythonCode/GeneratedData/Connectivity_Data/DK_withCluste_Lobe.csv',\n",
    "#     skiprows=[0],sep=',')\n",
    "CoordinateData=pd.read_csv(\n",
    "    '/home/ralfahad/Bidelman/PythonCode/GeneratedData/Connectivity_Data/DK_withCluste_Lobe.csv',\n",
    "    sep=',')\n",
    "\n",
    "Th2Index=np.squeeze(np.asarray(np.where(clf.scores_>=0.510)))\n",
    "SelectedNames_Corr=pd.DataFrame(NodeNameSerise[Th2Index])\n",
    "SelectedNames_Corr.columns=['Name_Corr']\n",
    "FirstCorrNode=[]\n",
    "SecCorrNode=[]\n",
    "for i in range(len(SelectedNames_Corr.Name_Corr.str.split('_').tolist())):\n",
    "    FirstCorrNode.append(SelectedNames_Corr.Name_Corr.str.split('_').tolist()[i][0])\n",
    "    SecCorrNode.append(SelectedNames_Corr.Name_Corr.str.split('_').tolist()[i][1])\n",
    "a_count = Counter(FirstCorrNode+SecCorrNode)\n",
    "df_a_count=pd.DataFrame(a_count.items())\n",
    "df_a_count.columns=['Name','Count']\n",
    "ConCat_Count=pd.merge(CoordinateData, \n",
    "         df_a_count,\n",
    "         on='Name', how='outer')\n",
    "ConCat_Count['Count'].fillna(0, inplace=True)\n",
    "ConCat_Count['Count']=ConCat_Count['Count'].astype(int)\n",
    "ConCat_Count['NodeName']=ConCat_Count['Name_BN']\n",
    "ConCat_Count.drop(['Name','Name_BN','Lobe','Unnamed: 7'], axis=1, inplace=True)\n",
    "ConCat_Count.head(2)\n",
    "\n"
   ]
  },
  {
   "cell_type": "code",
   "execution_count": null,
   "metadata": {},
   "outputs": [],
   "source": []
  },
  {
   "cell_type": "code",
   "execution_count": 750,
   "metadata": {},
   "outputs": [],
   "source": [
    "def CorrMat_flat_to_EdgeMat(CorrMat_flat,Th2Index):\n",
    "    \"\"\"\n",
    "    This function convert flat corr matrix to connectivity matrix with specified \n",
    "    threshold (Th2Index)\n",
    "    \"\"\"\n",
    "    A=np.zeros([68,68])\n",
    "    count=0\n",
    "    for i in range(68):\n",
    "        for j in range(68):\n",
    "            if i==j:\n",
    "                pass  \n",
    "            elif i < j:\n",
    "                pass        \n",
    "            else:\n",
    "                if sum(count==Th2Index):\n",
    "                    A[i,j]=CorrMat_flat[count]\n",
    "                    A[j,i]=CorrMat_flat[count]\n",
    "                count=count+1\n",
    "    return(pd.DataFrame(A))\n",
    "    #print count\n",
    "    "
   ]
  },
  {
   "cell_type": "code",
   "execution_count": 954,
   "metadata": {},
   "outputs": [
    {
     "name": "stdout",
     "output_type": "stream",
     "text": [
      "Group_0CorrCon\n",
      "Group_1CorrCon\n",
      "Group_2CorrCon\n"
     ]
    }
   ],
   "source": [
    "BrainNet_Corr_Dir='/home/ralfahad/Bidelman/PythonCode/GeneratedData/Connectivity_Data/BraiNet_Corr/'\n",
    "CoordinateData=pd.read_csv(\n",
    "    '/home/ralfahad/Bidelman/PythonCode/GeneratedData/Connectivity_Data/DK_withCluste_Lobe.csv',\n",
    "    sep=',')\n",
    "\n",
    "dirs=['Group_0CorrCon','Group_1CorrCon','Group_2CorrCon']\n",
    "\n",
    "for l,k in enumerate(dirs):\n",
    "    print k\n",
    "    for i,j in enumerate(Selected_Feature_Result.ACC):\n",
    "        TV=Selected_Feature_Result.Threshold.loc[i]\n",
    "        Th2Index=np.squeeze(np.asarray(np.where(clf.scores_>=TV)))\n",
    "        # #Make node file\n",
    "        SelectedNames_Corr=pd.DataFrame(NodeNameSerise[Th2Index])\n",
    "        SelectedNames_Corr.columns=['Name_Corr']\n",
    "        FirstCorrNode=[]\n",
    "        SecCorrNode=[]\n",
    "        for i in range(len(SelectedNames_Corr.Name_Corr.str.split('_').tolist())):\n",
    "            FirstCorrNode.append(SelectedNames_Corr.Name_Corr.str.split('_').tolist()[i][0])\n",
    "            SecCorrNode.append(SelectedNames_Corr.Name_Corr.str.split('_').tolist()[i][1])\n",
    "        a_count = Counter(FirstCorrNode+SecCorrNode)\n",
    "        df_a_count=pd.DataFrame(a_count.items())\n",
    "        df_a_count.columns=['Name','Count']\n",
    "        ConCat_Count=pd.merge(CoordinateData, \n",
    "                 df_a_count,\n",
    "                 on='Name', how='outer')\n",
    "        ConCat_Count['Count'].fillna(0, inplace=True)\n",
    "        ConCat_Count['Count']=ConCat_Count['Count'].astype(int)\n",
    "        ConCat_Count['NodeName']=ConCat_Count['Name_BN']\n",
    "        ConCat_Count.drop(['Name','Name_BN','Lobe','Unnamed: 7'], axis=1, inplace=True)\n",
    "        # # Edge matrix\n",
    "        A=CorrMat_flat_to_EdgeMat(Data_Label.groupby(['Label']).mean().loc[l,:],Th2Index)   \n",
    "#         A.to_csv(BrainNet_Corr_Dir+str(k)+'/'+'DK_Edge_'+str(\"{0:.2f}\".format(j))+'.edge', \n",
    "#                                               sep=' ', header=False, index=False)\n",
    "#         ConCat_Count.to_csv(BrainNet_Corr_Dir+str(k)+'/'+'DK_Node_'+str(\"{0:.2f}\".format(j))+'.node', \n",
    "#                                               sep=' ', header=False, index=False)\n"
   ]
  },
  {
   "cell_type": "markdown",
   "metadata": {},
   "source": [
    "# Make files with shortNames\n"
   ]
  },
  {
   "cell_type": "code",
   "execution_count": 994,
   "metadata": {},
   "outputs": [
    {
     "name": "stdout",
     "output_type": "stream",
     "text": [
      "Group_0CorrCon\n",
      "Group_1CorrCon\n",
      "Group_2CorrCon\n"
     ]
    }
   ],
   "source": [
    "#CorrMat_flat_to_EdgeMat(Data_Label.groupby(['Label']).mean().loc[l,:],Th2Index)\n",
    "CoordinateData_withShortName=pd.read_csv(\n",
    "    '/home/ralfahad/Bidelman/PythonCode/GeneratedData/Connectivity_Data/DK_withCluste_Lobe_WithShortName.csv',\n",
    "    sep=',')\n",
    "BrainNet_Corr_Dir='/home/ralfahad/Bidelman/PythonCode/GeneratedData/Connectivity_Data/CorrWithShortName/'\n",
    "# CoordinateData=pd.read_csv(\n",
    "#     '/home/ralfahad/Bidelman/PythonCode/GeneratedData/Connectivity_Data/DK_withCluste_Lobe.csv',\n",
    "#     sep=',')\n",
    "\n",
    "dirs=['Group_0CorrCon','Group_1CorrCon','Group_2CorrCon']\n",
    "\n",
    "for l,k in enumerate(dirs):\n",
    "    print k\n",
    "    for i,j in enumerate(Selected_Feature_Result.ACC):\n",
    "        TV=Selected_Feature_Result.Threshold.loc[i]\n",
    "        Th2Index=np.squeeze(np.asarray(np.where(clf.scores_>=TV)))\n",
    "        # #Make node file\n",
    "        SelectedNames_Corr=pd.DataFrame(NodeNameSerise[Th2Index])\n",
    "        SelectedNames_Corr.columns=['Name_Corr']\n",
    "        FirstCorrNode=[]\n",
    "        SecCorrNode=[]\n",
    "        for i in range(len(SelectedNames_Corr.Name_Corr.str.split('_').tolist())):\n",
    "            FirstCorrNode.append(SelectedNames_Corr.Name_Corr.str.split('_').tolist()[i][0])\n",
    "            SecCorrNode.append(SelectedNames_Corr.Name_Corr.str.split('_').tolist()[i][1])\n",
    "        a_count = Counter(FirstCorrNode+SecCorrNode)\n",
    "        df_a_count=pd.DataFrame(a_count.items())\n",
    "        df_a_count.columns=['Name','Count']\n",
    "        ConCat_Count=pd.merge(CoordinateData_withShortName, \n",
    "                 df_a_count,\n",
    "                 on='Name', how='outer')\n",
    "        ConCat_Count['Count'].fillna(0, inplace=True)\n",
    "        ConCat_Count['Count']=ConCat_Count['Count'].astype(int)\n",
    "        ConCat_Count['NodeName']=ConCat_Count['Name_BN']\n",
    "        ConCat_Count.drop(['Name','Name_BN','Lobe','Abrriviation',\n",
    "                          'Unnamed: 9','NodeName'\n",
    "                          ], axis=1, inplace=True)\n",
    "        columnsTitles = ['x','y','z','Cluster','Count','Shortname']\n",
    "\n",
    "        frame = ConCat_Count.reindex(columns=columnsTitles)\n",
    "        # # Edge matrix\n",
    "        A=CorrMat_flat_to_EdgeMat(Data_Label.groupby(['Label']).mean().loc[l,:],Th2Index)\n",
    "        A.to_csv(BrainNet_Corr_Dir+str(k)+'/'+'DK_Edge_'+str(\"{0:.2f}\".format(j))+'.edge', \n",
    "                                              sep=' ', header=False, index=False)\n",
    "        frame.to_csv(BrainNet_Corr_Dir+str(k)+'/'+'DK_Node_'+str(\"{0:.2f}\".format(j))+'.node', \n",
    "                                              sep=' ', header=False, index=False)\n",
    "\n",
    "\n",
    "\n"
   ]
  },
  {
   "cell_type": "code",
   "execution_count": 976,
   "metadata": {},
   "outputs": [
    {
     "data": {
      "text/html": [
       "<div>\n",
       "<style scoped>\n",
       "    .dataframe tbody tr th:only-of-type {\n",
       "        vertical-align: middle;\n",
       "    }\n",
       "\n",
       "    .dataframe tbody tr th {\n",
       "        vertical-align: top;\n",
       "    }\n",
       "\n",
       "    .dataframe thead th {\n",
       "        text-align: right;\n",
       "    }\n",
       "</style>\n",
       "<table border=\"1\" class=\"dataframe\">\n",
       "  <thead>\n",
       "    <tr style=\"text-align: right;\">\n",
       "      <th></th>\n",
       "      <th>x</th>\n",
       "      <th>y</th>\n",
       "      <th>z</th>\n",
       "      <th>Cluster</th>\n",
       "      <th>Shortname</th>\n",
       "      <th>Count</th>\n",
       "    </tr>\n",
       "  </thead>\n",
       "  <tbody>\n",
       "    <tr>\n",
       "      <th>0</th>\n",
       "      <td>-54.343785</td>\n",
       "      <td>-44.539029</td>\n",
       "      <td>4.163784</td>\n",
       "      <td>3</td>\n",
       "      <td>lBKS</td>\n",
       "      <td>0</td>\n",
       "    </tr>\n",
       "    <tr>\n",
       "      <th>1</th>\n",
       "      <td>52.975610</td>\n",
       "      <td>-40.553816</td>\n",
       "      <td>5.303675</td>\n",
       "      <td>3</td>\n",
       "      <td>rBKS</td>\n",
       "      <td>0</td>\n",
       "    </tr>\n",
       "    <tr>\n",
       "      <th>2</th>\n",
       "      <td>-5.030493</td>\n",
       "      <td>20.087970</td>\n",
       "      <td>28.999343</td>\n",
       "      <td>5</td>\n",
       "      <td>lCAC</td>\n",
       "      <td>0</td>\n",
       "    </tr>\n",
       "    <tr>\n",
       "      <th>3</th>\n",
       "      <td>5.012041</td>\n",
       "      <td>22.258100</td>\n",
       "      <td>27.639678</td>\n",
       "      <td>5</td>\n",
       "      <td>rCAC</td>\n",
       "      <td>0</td>\n",
       "    </tr>\n",
       "    <tr>\n",
       "      <th>4</th>\n",
       "      <td>-35.521824</td>\n",
       "      <td>10.809538</td>\n",
       "      <td>44.190969</td>\n",
       "      <td>1</td>\n",
       "      <td>ICMF</td>\n",
       "      <td>0</td>\n",
       "    </tr>\n",
       "  </tbody>\n",
       "</table>\n",
       "</div>"
      ],
      "text/plain": [
       "           x          y          z  Cluster Shortname  Count\n",
       "0 -54.343785 -44.539029   4.163784        3      lBKS      0\n",
       "1  52.975610 -40.553816   5.303675        3      rBKS      0\n",
       "2  -5.030493  20.087970  28.999343        5      lCAC      0\n",
       "3   5.012041  22.258100  27.639678        5      rCAC      0\n",
       "4 -35.521824  10.809538  44.190969        1      ICMF      0"
      ]
     },
     "execution_count": 976,
     "metadata": {},
     "output_type": "execute_result"
    }
   ],
   "source": [
    "ConCat_Count.head()"
   ]
  },
  {
   "cell_type": "code",
   "execution_count": 784,
   "metadata": {},
   "outputs": [
    {
     "name": "stdout",
     "output_type": "stream",
     "text": [
      " 60 22\n"
     ]
    },
    {
     "data": {
      "text/plain": [
       "array([[0., 0., 0., ..., 0., 0., 0.],\n",
       "       [0., 0., 0., ..., 0., 0., 0.],\n",
       "       [0., 0., 0., ..., 0., 0., 0.],\n",
       "       ...,\n",
       "       [0., 0., 0., ..., 0., 0., 0.],\n",
       "       [0., 0., 0., ..., 0., 0., 0.],\n",
       "       [0., 0., 0., ..., 0., 0., 0.]])"
      ]
     },
     "execution_count": 784,
     "metadata": {},
     "output_type": "execute_result"
    },
    {
     "data": {
      "image/png": "[encoded data removed]",
      "text/plain": [
       "<Figure size 432x288 with 2 Axes>"
      ]
     },
     "metadata": {
      "needs_background": "light"
     },
     "output_type": "display_data"
    }
   ],
   "source": [
    "def conn_plot(Group):\n",
    "    ConCat_Count['ind']=np.arange(68)\n",
    "    SortedInd=ConCat_Count.sort_values(by=['Cluster'])['ind']\n",
    "    SortedNN=ConCat_Count.sort_values(by=['Cluster'])['NodeName']\n",
    "    Th2Index=np.squeeze(np.asarray(np.where(clf.scores_>=0.510)))\n",
    "    #For group 0\n",
    "    l=2\n",
    "    A_V1=CorrMat_flat_to_EdgeMat(Data_Label.groupby(['Label']).mean().loc[Group,:],Th2Index)\n",
    "    A_Null=np.zeros([68,68])\n",
    "\n",
    "    for ic,i in enumerate(SortedInd):\n",
    "        for jc,j in enumerate(SortedInd):\n",
    "            if i==j:\n",
    "                pass  \n",
    "            elif i < j:\n",
    "                pass        \n",
    "            else:\n",
    "                #print i,j,ic,jc,A.loc[ic,jc]\n",
    "                #print ic,jc,A_V1.iloc[ic,jc]\n",
    "                A_Null[i,j]= A_V1.iloc[ic,jc]\n",
    "                A_Null[j,i]= A_V1.iloc[ic,jc]\n",
    "                #A_Null[j,i]= 1\n",
    "                #A_Null[i,j]= 1\n",
    "                #print A_V1.loc[ic,jc]\n",
    "                if A_V1.iloc[ic,jc]==0.7658232586620661:\n",
    "                    print i,j\n",
    "    \n",
    "\n",
    "    SortedNN_1=SortedNN.reset_index(drop=True)\n",
    "    # Plot lobe based connectivity matrix\n",
    "    ax = sns.heatmap(A_Null,cmap=\"YlGnBu\")\n",
    "    NumberCount=ConCat_Count.groupby(['Cluster']).count().Count\n",
    "    NumberCount_cum=np.cumsum(NumberCount)\n",
    "    for i in NumberCount_cum:\n",
    "        ax.add_patch(patches.Rectangle((0, 0), i, i,fill=False))\n",
    "    ax.plot([0,0], [68,68])\n",
    "#     for _, spine in ax.spines.items():\n",
    "#         spine.set_visible(False)\n",
    "#     # ADDED: Remove labels.\n",
    "#     ax.axes.get_xaxis().set_ticklabels([])    \n",
    "#     ax.axes.get_yaxis().set_ticklabels([])\n",
    "    return(A_Null)\n",
    "conn_plot(2)"
   ]
  },
  {
   "cell_type": "code",
   "execution_count": 769,
   "metadata": {},
   "outputs": [
    {
     "data": {
      "text/plain": [
       "array([[0., 0., 0., ..., 0., 0., 0.],\n",
       "       [0., 0., 0., ..., 0., 0., 0.],\n",
       "       [0., 0., 0., ..., 0., 0., 0.],\n",
       "       ...,\n",
       "       [0., 0., 0., ..., 0., 0., 0.],\n",
       "       [0., 0., 0., ..., 0., 0., 0.],\n",
       "       [0., 0., 0., ..., 0., 0., 0.]])"
      ]
     },
     "execution_count": 769,
     "metadata": {},
     "output_type": "execute_result"
    },
    {
     "data": {
      "image/png": "[encoded data removed]",
      "text/plain": [
       "<Figure size 432x288 with 2 Axes>"
      ]
     },
     "metadata": {
      "needs_background": "light"
     },
     "output_type": "display_data"
    }
   ],
   "source": [
    "conn_plot(1)"
   ]
  },
  {
   "cell_type": "code",
   "execution_count": 770,
   "metadata": {},
   "outputs": [
    {
     "data": {
      "image/png": "[encoded data removed]",
      "text/plain": [
       "<Figure size 432x288 with 2 Axes>"
      ]
     },
     "metadata": {
      "needs_background": "light"
     },
     "output_type": "display_data"
    }
   ],
   "source": [
    "A2=conn_plot(2)"
   ]
  },
  {
   "cell_type": "code",
   "execution_count": 782,
   "metadata": {},
   "outputs": [
    {
     "data": {
      "image/png": "[encoded data removed]",
      "text/plain": [
       "<Figure size 432x288 with 2 Axes>"
      ]
     },
     "metadata": {
      "needs_background": "light"
     },
     "output_type": "display_data"
    }
   ],
   "source": [
    "A3=conn_plot(2)"
   ]
  },
  {
   "cell_type": "code",
   "execution_count": 785,
   "metadata": {},
   "outputs": [
    {
     "name": "stdout",
     "output_type": "stream",
     "text": [
      "60 22\n"
     ]
    },
    {
     "data": {
      "image/png": "[encoded data removed]",
      "text/plain": [
       "<Figure size 432x288 with 2 Axes>"
      ]
     },
     "metadata": {
      "needs_background": "light"
     },
     "output_type": "display_data"
    }
   ],
   "source": [
    "A3=conn_plot(2)"
   ]
  },
  {
   "cell_type": "code",
   "execution_count": 780,
   "metadata": {},
   "outputs": [
    {
     "data": {
      "text/plain": [
       "(array([], dtype=int64), array([], dtype=int64))"
      ]
     },
     "execution_count": 780,
     "metadata": {},
     "output_type": "execute_result"
    }
   ],
   "source": [
    "A3[A3>=0.7]\n",
    "np.where(np.asarray(A3)==0.76582326)"
   ]
  },
  {
   "cell_type": "code",
   "execution_count": null,
   "metadata": {},
   "outputs": [],
   "source": []
  },
  {
   "cell_type": "code",
   "execution_count": 809,
   "metadata": {},
   "outputs": [],
   "source": [
    "# AllEdgeNameMatrix=np.zeros([68,68])\n",
    "# for ic,i in enumerate(Desikan_Killiany):\n",
    "#     for jc,j in enumerate(Desikan_Killiany):\n",
    "#         print i,j\n",
    "#         #AllEdgeNameMatrix.append(i+'_'+j)\n",
    "#         #AllEdgeNameMatrix[ic,jc]=str(i+'_'+j)"
   ]
  },
  {
   "cell_type": "code",
   "execution_count": 810,
   "metadata": {},
   "outputs": [],
   "source": [
    "#pd.DataFrame(np.asarray(AllEdgeNameMatrix).reshape(68,68))"
   ]
  },
  {
   "cell_type": "code",
   "execution_count": null,
   "metadata": {},
   "outputs": [],
   "source": [
    "AllEdgeNameMatrix=Desk"
   ]
  },
  {
   "cell_type": "code",
   "execution_count": 1070,
   "metadata": {},
   "outputs": [
    {
     "data": {
      "text/plain": [
       "['insula L_isthmuscingulate R',\n",
       " 'isthmuscingulate R_insula L',\n",
       " 'isthmuscingulate R_precentral R',\n",
       " 'parahippocampal R_precuneus R',\n",
       " 'parsorbitalis L_transversetemporal R',\n",
       " 'precentral R_isthmuscingulate R',\n",
       " 'precuneus R_parahippocampal R',\n",
       " 'transversetemporal R_parsorbitalis L']"
      ]
     },
     "execution_count": 1070,
     "metadata": {},
     "output_type": "execute_result"
    }
   ],
   "source": [
    "fileD='/home/ralfahad/Bidelman/PythonCode/GeneratedData/Connectivity_Data/BraiNet_Corr/Group_0CorrCon/'\n",
    "Group0Data=pd.read_csv(fileD+'DK_Edge_0.85.edge',sep=' ',header=None)\n",
    "\n",
    "#Desikan_Killiany[np.where(Group0Data>=0.5)]\n",
    "SelectedNodeAvobeTH=[]\n",
    "CorrThreshold=0.50\n",
    "for FNC,FN in enumerate(np.where(Group0Data>=CorrThreshold)[0]):\n",
    "    SN=Desikan_Killiany[np.where(Group0Data>=CorrThreshold)[1][FNC]]\n",
    "    #print SN\n",
    "    SelectedNodeAvobeTH.append(Desikan_Killiany[FN]+'_'+SN)\n",
    "    \n",
    "SelectedNodeAvobeTH[0:len(SelectedNodeAvobeTH)]\n",
    "\n"
   ]
  },
  {
   "cell_type": "code",
   "execution_count": 1067,
   "metadata": {},
   "outputs": [
    {
     "name": "stdout",
     "output_type": "stream",
     "text": [
      "['insula L' 'isthmuscingulate R' 'isthmuscingulate R' 'insula L' 'isthmuscingulate R' 'precentral R'\n",
      " 'parahippocampal R' 'precuneus R' 'parsorbitalis L' 'transversetemporal R' 'precentral R'\n",
      " 'isthmuscingulate R' 'precuneus R' 'parahippocampal R' 'transversetemporal R' 'parsorbitalis L']\n"
     ]
    },
    {
     "data": {
      "text/plain": [
       "array(['insula L', 'isthmuscingulate R', 'parahippocampal R', 'parsorbitalis L', 'precentral R',\n",
       "       'precuneus R', 'transversetemporal R'], dtype='|S20')"
      ]
     },
     "execution_count": 1067,
     "metadata": {},
     "output_type": "execute_result"
    }
   ],
   "source": [
    "Node8=[]\n",
    "for i in Edge8:\n",
    "    Node8.append(i.split('_')[0])\n",
    "    Node8.append(i.split('_')[1])\n",
    "print np.asarray(Node8)\n",
    "reduce(np.union1d,np.asarray(Node8))"
   ]
  },
  {
   "cell_type": "code",
   "execution_count": 894,
   "metadata": {},
   "outputs": [
    {
     "data": {
      "text/plain": [
       "['isthmuscingulate R_precentral R',\n",
       " 'parahippocampal R_precuneus R',\n",
       " 'parsorbitalis L_transversetemporal R',\n",
       " 'precentral R_isthmuscingulate R',\n",
       " 'precuneus R_parahippocampal R',\n",
       " 'transversetemporal R_parsorbitalis L']"
      ]
     },
     "execution_count": 894,
     "metadata": {},
     "output_type": "execute_result"
    }
   ],
   "source": [
    "fileD='/home/ralfahad/Bidelman/PythonCode/GeneratedData/Connectivity_Data/BraiNet_Corr/Group_1CorrCon/'\n",
    "Group0Data=pd.read_csv(fileD+'DK_Edge_0.85.edge',sep=' ',header=None)\n",
    "\n",
    "#Desikan_Killiany[np.where(Group0Data>=0.5)]\n",
    "SelectedNodeAvobeTH=[]\n",
    "CorrThreshold=0.50\n",
    "for FNC,FN in enumerate(np.where(Group0Data>=CorrThreshold)[0]):\n",
    "    SN=Desikan_Killiany[np.where(Group0Data>=CorrThreshold)[1][FNC]]\n",
    "    #print SN\n",
    "    SelectedNodeAvobeTH.append(Desikan_Killiany[FN]+'_'+SN)\n",
    "    \n",
    "SelectedNodeAvobeTH[0:len(SelectedNodeAvobeTH)]\n"
   ]
  },
  {
   "cell_type": "code",
   "execution_count": 859,
   "metadata": {},
   "outputs": [
    {
     "data": {
      "text/plain": [
       "['isthmuscingulate R_precentral R',\n",
       " 'parahippocampal R_precuneus R',\n",
       " 'parsorbitalis L_transversetemporal R']"
      ]
     },
     "execution_count": 859,
     "metadata": {},
     "output_type": "execute_result"
    }
   ],
   "source": [
    "fileD='/home/ralfahad/Bidelman/PythonCode/GeneratedData/Connectivity_Data/BraiNet_Corr/Group_2CorrCon/'\n",
    "Group0Data=pd.read_csv(fileD+'DK_Edge_0.85.edge',sep=' ',header=None)\n",
    "\n",
    "#Desikan_Killiany[np.where(Group0Data>=0.5)]\n",
    "SelectedNodeAvobeTH=[]\n",
    "CorrThreshold=0.5\n",
    "for FNC,FN in enumerate(np.where(Group0Data>=CorrThreshold)[0]):\n",
    "    SN=Desikan_Killiany[np.where(Group0Data>=CorrThreshold)[1][FNC]]\n",
    "    #print SN\n",
    "    SelectedNodeAvobeTH.append(Desikan_Killiany[FN]+'_'+SN)\n",
    "    #print \n",
    "    \n",
    "SelectedNodeAvobeTH[0:len(SelectedNodeAvobeTH)/2]"
   ]
  },
  {
   "cell_type": "code",
   "execution_count": 871,
   "metadata": {},
   "outputs": [],
   "source": [
    "# Load Generated network features form matlab\n",
    "NetworkMeasuresName=['Charactersics_path',\n",
    "'Average_clustering_coefficient', \n",
    "'Small_worldness',\n",
    "'Assortativity',\n",
    "'Global efficiency', \n",
    "'transitivity',\n",
    "'maximized modularity']\n",
    "Static_Group_NetworkMeasures = spio.loadmat(\n",
    "    '/home/ralfahad/Bidelman/PythonCode/GeneratedData/Static_Group_NetworkMeasures_BootStrap_GruopData.mat',\n",
    "                     squeeze_me=True)['featureMatrix']\n",
    "\n",
    "# Clusters=pd.DataFrame(np.asarray(TokenInfo))\n",
    "# Clusters.columns=[\"Cluster\"]\n",
    "# Static_Group_NetworkMeasures=pd.DataFrame(Static_Group_NetworkMeasures)\n",
    "# Static_Group_NetworkMeasures.columns=NetworkMeasuresName\n",
    "# df=pd.concat([Clusters, pd.DataFrame(Static_Group_NetworkMeasures)], axis=1)\n",
    "\n",
    "# for i in NetworkMeasuresName:\n",
    "#     x=df[df['Cluster']==0][i]\n",
    "#     y=df[df['Cluster']==1][i]\n",
    "#     z=df[df['Cluster']==2][i]\n",
    "#     print stats.kruskal(x, y,z),i\n",
    "\n",
    "\n",
    "GroupdataNetResult=pd.DataFrame(Static_Group_NetworkMeasures)\n",
    "GroupdataNetResult.columns=NetworkMeasuresName\n",
    "\n",
    "#Save as xlsx\n",
    "Fname='GroupdataNetResult.xlsx'\n",
    "writer = pd.ExcelWriter(Fname, engine='xlsxwriter')\n",
    "GroupdataNetResult.to_excel(writer, sheet_name='Sheet1')\n",
    "writer.save()\n",
    "\n"
   ]
  },
  {
   "cell_type": "markdown",
   "metadata": {},
   "source": [
    "\n",
    "\n",
    "\n",
    "\n",
    "\n",
    "\n",
    "\n",
    "# Dynamic Connectivity Analysis"
   ]
  },
  {
   "cell_type": "code",
   "execution_count": null,
   "metadata": {},
   "outputs": [],
   "source": [
    "#loop =[4,6,8,10, 12, 20] # loop over sample secound dividation\n",
    "#Data to connectivity matrix xonversion \n",
    "\n",
    "def DatatoCorrMatrix(time,Data_All):\n",
    "    #Define variables\n",
    "    SamplingRate=128\n",
    "    SampleLenght=128*63\n",
    "    Ch=68\n",
    "    PercentOverlap=0.25\n",
    "    print 'sec:',time,'devide:',30720/time,'rmeainder:',30720%time\n",
    "    SampleWindowSize= 512*time\n",
    "    AllSmapleCorrVector=[]#np.array([])\n",
    "    for Samples in range(0,Data_All.shape[0],68):\n",
    "        OneSample= Data_All[Samples:(Samples+68), :-1]\n",
    "        ar=rolling_window(OneSample, (Ch,SampleWindowSize), asteps=np.round(SampleWindowSize*(1-PercentOverlap)))\n",
    "        #print ar.shape\n",
    "        OneSmapleCorrVector=[]\n",
    "        for i in range(ar.shape[1]):\n",
    "            SS=ar[0][i][:,:]\n",
    "            OneSmapleCorrVector.append(MatrixToCorrArray(SS))\n",
    "\n",
    "        AllSmapleCorrVector.append(OneSmapleCorrVector)\n",
    "    d1,d2,d3=np.asarray(AllSmapleCorrVector).shape\n",
    "    All_reshape=np.asarray(AllSmapleCorrVector).reshape((d1*d2), d3)\n",
    "    return All_reshape\n"
   ]
  },
  {
   "cell_type": "code",
   "execution_count": 378,
   "metadata": {},
   "outputs": [
    {
     "name": "stdout",
     "output_type": "stream",
     "text": [
      "Subject1.mat\n"
     ]
    }
   ],
   "source": [
    "import scipy.io as spio\n",
    "ROI=68\n",
    "DataLocation='/home/ralfahad/Matlab/AllBrainstormScoutFiles/'\n",
    "CorrDataAll=[] # save all subjects corr data\n",
    "PTEDataAll=[] # save all subjects corr data\n",
    "SubInfo=[]\n",
    "Cnt=0\n",
    "#for i in range(1,36,1): # itterate through all subject\n",
    "i=1\n",
    "print 'Subject'+str(i)+'.mat'\n",
    "Data_Mat_file='Subject'+str(i)+'.mat'\n",
    "filepath = DataLocation+Data_Mat_file\n",
    "S_Mat = spio.loadmat(filepath,squeeze_me=True)\n",
    "#S_SubjectName=np.transpose(S_Label_Mat['SubjectName'])\n",
    "S=S_Mat['Value']\n",
    "#print S.shape\n",
    "S_reshaped=S.reshape(S.shape[0]/ROI,ROI,S.shape[1]) # convert (56304, 500) to (828, 68, 500)\n",
    "# #print S_reshaped.shape\n",
    "# if i<=21: # some data name with T\n",
    "#     MetadataSubjectName='S'+str(i)\n",
    "# else:\n",
    "#     MetadataSubjectName='T'+str(i-21)\n",
    "\n",
    "# print MetadataSubjectName\n",
    "# for j in range(3): # only consider 3 cluster label\n",
    "#     Cluster0Data=S_reshaped[Metadata.index[(Metadata['Subject#']==MetadataSubjectName) & \n",
    "#          (Metadata['Cluster']!=3)& # do not consider cluster 3 as it is outlaier\n",
    "#          (Metadata['Cluster']==j) #&\n",
    "#         ]-Cnt].mean(axis=0)\n",
    "#     #print Cluster0Data.shape\n",
    "#    #PTEDataAll.append(MatrixToPTEArray(Cluster0Data))\n",
    "#     try:\n",
    "#         CorrDataAll.append(MatrixToCorrArray(Cluster0Data)) # Save corr data\n",
    "#     except:\n",
    "#         print 'Corr can not calcuate for sub:', MetadataSubjectName\n",
    "#         pass\n",
    "#     try:\n",
    "#         PTEDataAll.append(MatrixToPTEArray(Cluster0Data)) # Save PTE data\n",
    "#     except:\n",
    "#         print 'PTE can not calcuate for sub:', MetadataSubjectName\n",
    "#         pass\n",
    "#     #save subject info\n",
    "#     S_I=MetadataSubjectName+'_Corr_CL_'+str(j)\n",
    "#     SubInfo.append(S_I)\n",
    "\n",
    "\n",
    "# Cnt=Cnt+S_reshaped.shape[0]"
   ]
  },
  {
   "cell_type": "code",
   "execution_count": 380,
   "metadata": {},
   "outputs": [
    {
     "data": {
      "text/plain": [
       "(828, 68, 500)"
      ]
     },
     "execution_count": 380,
     "metadata": {},
     "output_type": "execute_result"
    }
   ],
   "source": [
    "S_reshaped.shape"
   ]
  },
  {
   "cell_type": "code",
   "execution_count": 8,
   "metadata": {},
   "outputs": [],
   "source": [
    "import matlab.engine\n",
    "eng = matlab.engine.start_matlab()\n",
    "a=eng.triarea(nargout=0)"
   ]
  },
  {
   "cell_type": "code",
   "execution_count": null,
   "metadata": {},
   "outputs": [],
   "source": [
    "a"
   ]
  },
  {
   "cell_type": "code",
   "execution_count": null,
   "metadata": {},
   "outputs": [],
   "source": []
  }
 ],
 "metadata": {
  "kernelspec": {
   "display_name": "Python 2",
   "language": "python",
   "name": "python2"
  },
  "language_info": {
   "codemirror_mode": {
    "name": "ipython",
    "version": 2
   },
   "file_extension": ".py",
   "mimetype": "text/x-python",
   "name": "python",
   "nbconvert_exporter": "python",
   "pygments_lexer": "ipython2",
   "version": "2.7.6"
  }
 },
 "nbformat": 4,
 "nbformat_minor": 2
}
