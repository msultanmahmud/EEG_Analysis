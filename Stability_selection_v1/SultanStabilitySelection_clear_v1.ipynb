{
 "cells": [
  {
   "cell_type": "code",
   "execution_count": 1,
   "metadata": {},
   "outputs": [],
   "source": [
    "# Import library\n",
    "import pandas as pd\n",
    "import numpy as np\n",
    "from sklearn.model_selection import train_test_split,ShuffleSplit\n",
    "from sklearn import svm\n",
    "import sys\n",
    "# sys.path.append('/home/ralfahad/PythonUtility/PTE')\n",
    "# from PhaseTE_MF import PhaseTE_MF\n",
    "from scipy import stats\n",
    "import seaborn as sns\n",
    "from matplotlib import pyplot as plt\n",
    "from collections import Counter\n",
    "import warnings\n",
    "from sklearn import svm, metrics,preprocessing\n",
    "#from sklearn import datasets\n",
    "from sklearn.model_selection import train_test_split, GridSearchCV\n",
    "from sklearn.metrics import accuracy_score,confusion_matrix,roc_curve, auc\n",
    "from matplotlib import pyplot as plt\n",
    "from collections import Counter\n",
    "from scipy.stats import norm\n",
    "import seaborn as sns; sns.set(font_scale=1.2)\n",
    "%matplotlib inline\n",
    "warnings.filterwarnings('ignore')"
   ]
  },
  {
   "cell_type": "code",
   "execution_count": 2,
   "metadata": {},
   "outputs": [
    {
     "data": {
      "text/html": [
       "<div>\n",
       "<style scoped>\n",
       "    .dataframe tbody tr th:only-of-type {\n",
       "        vertical-align: middle;\n",
       "    }\n",
       "\n",
       "    .dataframe tbody tr th {\n",
       "        vertical-align: top;\n",
       "    }\n",
       "\n",
       "    .dataframe thead th {\n",
       "        text-align: right;\n",
       "    }\n",
       "</style>\n",
       "<table border=\"1\" class=\"dataframe\">\n",
       "  <thead>\n",
       "    <tr style=\"text-align: right;\">\n",
       "      <th></th>\n",
       "      <th>Unnamed: 0</th>\n",
       "      <th>label</th>\n",
       "      <th>0</th>\n",
       "      <th>1</th>\n",
       "      <th>2</th>\n",
       "      <th>3</th>\n",
       "      <th>4</th>\n",
       "      <th>5</th>\n",
       "      <th>6</th>\n",
       "      <th>7</th>\n",
       "      <th>...</th>\n",
       "      <th>1418</th>\n",
       "      <th>1419</th>\n",
       "      <th>1420</th>\n",
       "      <th>1421</th>\n",
       "      <th>1422</th>\n",
       "      <th>1423</th>\n",
       "      <th>1424</th>\n",
       "      <th>1425</th>\n",
       "      <th>1426</th>\n",
       "      <th>1427</th>\n",
       "    </tr>\n",
       "  </thead>\n",
       "  <tbody>\n",
       "    <tr>\n",
       "      <th>0</th>\n",
       "      <td>0</td>\n",
       "      <td>0.0</td>\n",
       "      <td>4.878280e-11</td>\n",
       "      <td>-6.371322e-11</td>\n",
       "      <td>-1.954286e-10</td>\n",
       "      <td>-3.480132e-11</td>\n",
       "      <td>-4.300504e-11</td>\n",
       "      <td>-1.674758e-11</td>\n",
       "      <td>-2.618659e-12</td>\n",
       "      <td>1.672176e-10</td>\n",
       "      <td>...</td>\n",
       "      <td>7.053622e-10</td>\n",
       "      <td>1.763130e-10</td>\n",
       "      <td>-1.152203e-09</td>\n",
       "      <td>4.589666e-10</td>\n",
       "      <td>4.516963e-10</td>\n",
       "      <td>5.688031e-10</td>\n",
       "      <td>-1.434302e-09</td>\n",
       "      <td>7.813403e-10</td>\n",
       "      <td>-3.584253e-10</td>\n",
       "      <td>-6.345619e-10</td>\n",
       "    </tr>\n",
       "    <tr>\n",
       "      <th>1</th>\n",
       "      <td>1</td>\n",
       "      <td>0.0</td>\n",
       "      <td>4.011170e-10</td>\n",
       "      <td>-7.301438e-10</td>\n",
       "      <td>-3.354225e-10</td>\n",
       "      <td>-4.380273e-10</td>\n",
       "      <td>-2.131652e-10</td>\n",
       "      <td>4.453095e-10</td>\n",
       "      <td>7.319927e-10</td>\n",
       "      <td>-4.199239e-10</td>\n",
       "      <td>...</td>\n",
       "      <td>-2.578381e-10</td>\n",
       "      <td>-7.638538e-13</td>\n",
       "      <td>-7.958975e-12</td>\n",
       "      <td>-3.300389e-10</td>\n",
       "      <td>1.548613e-10</td>\n",
       "      <td>3.417356e-10</td>\n",
       "      <td>1.958709e-10</td>\n",
       "      <td>3.654074e-10</td>\n",
       "      <td>1.539579e-10</td>\n",
       "      <td>-3.844003e-11</td>\n",
       "    </tr>\n",
       "  </tbody>\n",
       "</table>\n",
       "<p>2 rows × 1430 columns</p>\n",
       "</div>"
      ],
      "text/plain": [
       "   Unnamed: 0  label             0             1             2             3  \\\n",
       "0           0    0.0  4.878280e-11 -6.371322e-11 -1.954286e-10 -3.480132e-11   \n",
       "1           1    0.0  4.011170e-10 -7.301438e-10 -3.354225e-10 -4.380273e-10   \n",
       "\n",
       "              4             5             6             7      ...       \\\n",
       "0 -4.300504e-11 -1.674758e-11 -2.618659e-12  1.672176e-10      ...        \n",
       "1 -2.131652e-10  4.453095e-10  7.319927e-10 -4.199239e-10      ...        \n",
       "\n",
       "           1418          1419          1420          1421          1422  \\\n",
       "0  7.053622e-10  1.763130e-10 -1.152203e-09  4.589666e-10  4.516963e-10   \n",
       "1 -2.578381e-10 -7.638538e-13 -7.958975e-12 -3.300389e-10  1.548613e-10   \n",
       "\n",
       "           1423          1424          1425          1426          1427  \n",
       "0  5.688031e-10 -1.434302e-09  7.813403e-10 -3.584253e-10 -6.345619e-10  \n",
       "1  3.417356e-10  1.958709e-10  3.654074e-10  1.539579e-10 -3.844003e-11  \n",
       "\n",
       "[2 rows x 1430 columns]"
      ]
     },
     "execution_count": 2,
     "metadata": {},
     "output_type": "execute_result"
    }
   ],
   "source": [
    "#Load the metadata\n",
    "path='/home/sultan/EEG/Source_Level_Analysis/25sam_10ms_clear_all_erp.csv'\n",
    "# path=\"/home/sultan/EEG/Source_Level_Analysis/50tr10ms_all_clear_erp.csv\"\n",
    "# path=\"/home/sultan/EEG/Source_Level_Analysis/75sam_10ms_clear_all_erp.csv\"\n",
    "# path=\"/home/sultan/EEG/Source_Level_Analysis/100sam_10ms_clear_all_erp.csv\"\n",
    "Metadata=pd.read_csv(path)\n",
    "Metadata.head(2)"
   ]
  },
  {
   "cell_type": "code",
   "execution_count": 3,
   "metadata": {},
   "outputs": [
    {
     "data": {
      "text/plain": [
       "((7623, 1428), (7623,))"
      ]
     },
     "execution_count": 3,
     "metadata": {},
     "output_type": "execute_result"
    }
   ],
   "source": [
    "X=Metadata.iloc[:,2:]\n",
    "y=Metadata['label']\n",
    "X.shape,y.shape"
   ]
  },
  {
   "cell_type": "code",
   "execution_count": 4,
   "metadata": {},
   "outputs": [],
   "source": [
    "# TSNE"
   ]
  },
  {
   "cell_type": "code",
   "execution_count": 5,
   "metadata": {},
   "outputs": [],
   "source": [
    "import sys\n",
    "import os\n",
    "\n",
    "from scipy import linalg as LA\n",
    "\n",
    "\n",
    "np.set_printoptions(precision=3, linewidth=110, suppress=True)\n",
    "\n",
    "\n",
    "\n",
    "\n",
    "def LDA(data, labels, dim_rescale):\n",
    "    '''\n",
    "    Linear Discriminant Analysis\n",
    "    pass in:\n",
    "        (i) a raw data array--features encoded in the cols;\n",
    "            one data instance per row;\n",
    "        (ii) EV, explanatory variable, is included in D as last column;\n",
    "        (iii) the LDA flag is set to False so PCA is the default techique;\n",
    "            if both LDA & EV are set to True then LDA is performed\n",
    "            instead of PCA\n",
    "    returns:\n",
    "        (i) eigenvalues (1D array);\n",
    "        (ii) eigenvectors (2D array)\n",
    "        (iii) covariance matrix\n",
    "    some numerical assertions:\n",
    "    >>> # sum of the eigenvalues is equal to trace of R\n",
    "    >>> x = R.trace()\n",
    "    >>> x1 = eva.sum()\n",
    "    >>> NP.allclose(x, x1)\n",
    "    True\n",
    "    >>> # determinant of R is product of eigenvalues\n",
    "    >>> q = LA.det(R)\n",
    "    >>> q1 = NP.prod(eva)\n",
    "    >>> NP.allclose(q, q1)\n",
    "    True\n",
    "    '''\n",
    "    assert data.shape[0] == labels.shape[0]\n",
    "    # mean center the data array\n",
    "    data -= data.mean(axis=0)\n",
    "    nrow, ndim = data.shape\n",
    "    # pre-allocate sw, sb arrays (both same shape as covariance matrix)\n",
    "    # s_wc: array encoding 'within class' scatter\n",
    "    # s_bc: array encoding 'between class' scatter\n",
    "    s_wc = np.zeros((ndim, ndim))\n",
    "    s_bc = np.zeros((ndim, ndim))\n",
    "    R = np.cov(data.T)\n",
    "    classes = np.unique(labels)\n",
    "    for c in range(len(classes)):\n",
    "        # create an index only for data rows whose class label = classes[c]\n",
    "        idx = np.squeeze(np.where(labels == classes[c]))\n",
    "        d = np.squeeze(data[idx,:])\n",
    "        class_cov = np.cov(d.T)\n",
    "        s_wc += float(idx.shape[0]) / nrow * class_cov\n",
    "    s_bc = R - s_wc\n",
    "    # now solve for w then compute the mapped data\n",
    "    evals, evecs = LA.eig(s_wc, s_bc)\n",
    "    np.ascontiguousarray(evals)\n",
    "    np.ascontiguousarray(evecs)\n",
    "    # sort the eigenvectors based on eigenvalues sort order\n",
    "    idx = np.argsort(evals)\n",
    "    idx = idx[::-1]\n",
    "    evecs = evecs[:,idx]\n",
    "    # take just number of eigenvectors = dim_rescale\n",
    "    evecs_dr = evecs[:,:dim_rescale]\n",
    "    # multiply data array & remaining set of eigenvectors\n",
    "    rescaled_data = np.dot(data, evecs_dr)\n",
    "    return rescaled_data, evecs_dr"
   ]
  },
  {
   "cell_type": "code",
   "execution_count": 6,
   "metadata": {},
   "outputs": [],
   "source": [
    "#rescaled_data, w = LDA(X_WM_Row_scale, y_WM_Row_scale,50)\n",
    "a, w1 = LDA(np.asarray(X), np.asarray(y), 50)# X_WM_Row_scale,y_WM_Row_scale"
   ]
  },
  {
   "cell_type": "code",
   "execution_count": 7,
   "metadata": {},
   "outputs": [],
   "source": [
    "from sklearn.manifold import TSNE\n",
    "tsne = TSNE(n_components=2, perplexity=3, init='pca')\n",
    "Y = tsne.fit_transform(a)"
   ]
  },
  {
   "cell_type": "code",
   "execution_count": 8,
   "metadata": {},
   "outputs": [
    {
     "name": "stdout",
     "output_type": "stream",
     "text": [
      "(3177, 2) (4446, 2)\n",
      "tSNE_KDE_plot_edit_2.png\n"
     ]
    },
    {
     "data": {
      "image/png": "[encoded data removed]",
      "text/plain": [
       "<Figure size 432x288 with 1 Axes>"
      ]
     },
     "metadata": {
      "needs_background": "light"
     },
     "output_type": "display_data"
    }
   ],
   "source": [
    "#lb2=\"Fast RT\"\n",
    "#lb3=\"Medium RT\"\n",
    "lb1=\"NH\"\n",
    "lb2=\"HI\"\n",
    "fileName=\"tSNE_KDE_plot_edit_2\"\n",
    "\n",
    "a1=Y[np.where(y==0), 0]\n",
    "b1=Y[np.where(y==0), 1]\n",
    "c1= Y[np.where(y==1), 0]\n",
    "d1 = Y[np.where(y==1), 1]\n",
    "# e1= Y[np.where(y==2), 0]\n",
    "# f1 = Y[np.where(y==2), 1]\n",
    "\n",
    "dftt1=pd.concat([pd.DataFrame(a1),pd.DataFrame(b1)], axis=0).transpose()\n",
    "dftt2=pd.concat([pd.DataFrame(c1),\n",
    "                pd.DataFrame(d1)], axis=0).transpose()\n",
    "# dftt3=pd.concat([pd.DataFrame(e1),\n",
    "#                 pd.DataFrame(f1)], axis=0).transpose()\n",
    "print dftt1.shape,dftt2.shape#,dftt3.shape\n",
    "dftt1.columns= ['a','b']\n",
    "dftt2.columns= ['c','d']\n",
    "#dftt3.columns= ['e','f']\n",
    "ax = sns.kdeplot(dftt1['a'],dftt1['b'], cmap=\"Greens\", shade=False, shade_lowest=False)\n",
    "ax = sns.regplot(dftt1['a'], dftt1['b'],marker= '.', color='g',  fit_reg=False,label=lb1)\n",
    "ax.legend(loc=\"best\",framealpha=0.0)\n",
    "# #plt.legend(loc='upper left')\n",
    "ax = sns.kdeplot(dftt2['c'],dftt2['d'],cmap=\"Reds\", shade=False, shade_lowest=False)\n",
    "ax = sns.regplot(dftt2['c'], dftt2['d'],marker= '+', color='r',  fit_reg=False, label=lb2)\n",
    "\n",
    "# ax = sns.kdeplot(dftt3['e'],dftt3['f'],cmap=\"Blues\", shade=False, shade_lowest=False)\n",
    "# ax = sns.regplot(dftt3['e'], dftt3['f'],marker= '*', color='b',  fit_reg=False, label=lb3)\n",
    "ax.legend(loc=\"best\",framealpha=0.0)\n",
    "\n",
    "# Add labels to the plot\n",
    "red = sns.color_palette(\"Greens\")[-2]\n",
    "blue = sns.color_palette(\"Reds\")[-2]\n",
    "ax.set_xlabel('')\n",
    "ax.set_ylabel('')\n",
    "ax.yaxis.set_ticklabels([])\n",
    "ax.xaxis.set_ticklabels([])\n",
    "# ax.spines['top'].set_visible(False)\n",
    "# ax.spines['right'].set_visible(False)\n",
    "# ax.spines['bottom'].set_visible(False)\n",
    "# ax.spines['left'].set_visible(False)\n",
    "\n",
    "#sns.despine()\n",
    "# Save image\n",
    "\n",
    "save_format='png'\n",
    "print str(fileName)+'.'+save_format\n",
    "plt.savefig(fileName+'.'+save_format,dpi=300)"
   ]
  },
  {
   "cell_type": "code",
   "execution_count": null,
   "metadata": {},
   "outputs": [],
   "source": []
  },
  {
   "cell_type": "code",
   "execution_count": null,
   "metadata": {},
   "outputs": [],
   "source": []
  },
  {
   "cell_type": "code",
   "execution_count": 9,
   "metadata": {},
   "outputs": [],
   "source": [
    "#Micro AUC for multiclass classification \n",
    "\n",
    "# from sklearn.metrics import roc_auc_score\n",
    "# from sklearn.metrics import roc_curve, auc\n",
    "# from scipy import interp\n",
    "# from sklearn import preprocessing\n",
    "\n",
    "# def MulticlassAuc(y_test,y_p): # y_test, y_p is the test and predict data\n",
    "#     lb = preprocessing.LabelBinarizer() # binarize the data\n",
    "#     lb.fit(y_test)\n",
    "#     n_classes=len(lb.classes_)\n",
    "#     y_test_b=lb.transform(y_test)\n",
    "#     y_p_b=lb.transform(y_p)\n",
    "\n",
    "#     # Compute ROC curve and ROC area for each class\n",
    "#     fpr = dict()\n",
    "#     tpr = dict()\n",
    "#     roc_auc = dict()\n",
    "#     for i in range(3):\n",
    "#         fpr[i], tpr[i], _ = roc_curve(y_test_b[:, i], y_p_b[:, i])\n",
    "#         roc_auc[i] = auc(fpr[i], tpr[i])\n",
    "\n",
    "#     # First aggregate all false positive rates\n",
    "#     all_fpr = np.unique(np.concatenate([fpr[i] for i in range(n_classes)]))\n",
    "\n",
    "#     # Then interpolate all ROC curves at this points\n",
    "#     mean_tpr = np.zeros_like(all_fpr)\n",
    "#     for i in range(n_classes):\n",
    "#         mean_tpr += interp(all_fpr, fpr[i], tpr[i])\n",
    "\n",
    "#     # Finally average it and compute AUC\n",
    "#     mean_tpr /= n_classes\n",
    "\n",
    "#     fpr[\"macro\"] = all_fpr\n",
    "#     tpr[\"macro\"] = mean_tpr\n",
    "#     roc_auc[\"macro\"] = auc(fpr[\"macro\"], tpr[\"macro\"])\n",
    "#     return roc_auc[\"macro\"]"
   ]
  },
  {
   "cell_type": "markdown",
   "metadata": {},
   "source": [
    "# Apply SVM on Data"
   ]
  },
  {
   "cell_type": "code",
   "execution_count": 10,
   "metadata": {},
   "outputs": [
    {
     "data": {
      "text/plain": [
       "array([  0.01,   0.1 ,   1.  ,  10.  , 100.  ])"
      ]
     },
     "execution_count": 10,
     "metadata": {},
     "output_type": "execute_result"
    }
   ],
   "source": [
    "gamma_range = np.logspace(-2, 2, 5)\n",
    "gamma_range"
   ]
  },
  {
   "cell_type": "code",
   "execution_count": 11,
   "metadata": {},
   "outputs": [
    {
     "name": "stdout",
     "output_type": "stream",
     "text": [
      "(7623, 1428) (7623,)\n",
      "[  0.01   0.1    1.    10.   100.  ] [0.01, 0.002, 0.00069, 0.0007, 0.0005]\n"
     ]
    }
   ],
   "source": [
    "from sklearn import preprocessing\n",
    "X=preprocessing.scale(X)\n",
    "print X.shape,y.shape\n",
    "from sklearn.preprocessing import label_binarize\n",
    "y=label_binarize(np.asarray(y),[0,1])\n",
    "\n",
    "#C_range = np.logspace(-2, 10, 13)\n",
    "# gamma_range = np.logspace(-2, 2, 5)\n",
    "gamma_range = [0.01,0.002,0.00069,0.0007,0.0005]\n",
    "C_range = np.logspace(-2, 2, 5)\n",
    "#gamma_range = np.logspace(-2, 2, 5)\n",
    "\n",
    "print C_range,gamma_range\n"
   ]
  },
  {
   "cell_type": "code",
   "execution_count": 12,
   "metadata": {},
   "outputs": [
    {
     "name": "stdout",
     "output_type": "stream",
     "text": [
      "Fitting 5 folds for each of 25 candidates, totalling 125 fits\n"
     ]
    },
    {
     "name": "stderr",
     "output_type": "stream",
     "text": [
      "[Parallel(n_jobs=-1)]: Done  42 tasks      | elapsed: 45.4min\n",
      "[Parallel(n_jobs=-1)]: Done 125 out of 125 | elapsed: 131.2min finished\n"
     ]
    },
    {
     "name": "stdout",
     "output_type": "stream",
     "text": [
      "Finish tuning\n"
     ]
    }
   ],
   "source": [
    "#Classifiaction:\n",
    "# #Splitting\n",
    "from sklearn import preprocessing\n",
    "\n",
    "\n",
    "X_train, X_test, y_train, y_test = train_test_split(X, \n",
    "                                                    y, \n",
    "                                                    test_size=0.4,\n",
    "                                                    random_state=42)\n",
    "cv = ShuffleSplit(X_train.shape[0], test_size=0.4, random_state=42)\n",
    "\n",
    "# Define Classifier\n",
    "svr = svm.SVC(kernel='rbf')\n",
    "\n",
    "# Deffine tuning parameter\n",
    "C_range = np.logspace(-2, 2, 5)\n",
    "# gamma_range = np.logspace(-2, 2, 5)\n",
    "gamma_range = [0.01,0.002,0.00069,0.0007,0.0005]\n",
    "param_grid = dict(gamma=gamma_range, C=C_range)\n",
    "clf_Tune = GridSearchCV(estimator=svr, cv=5, param_grid=param_grid,n_jobs=-1, verbose=True)\n",
    "\n",
    "clf_Tune.fit(X_train,y_train)\n",
    "print 'Finish tuning'    \n",
    "    \n",
    "    "
   ]
  },
  {
   "cell_type": "code",
   "execution_count": 13,
   "metadata": {},
   "outputs": [],
   "source": [
    "#Micro AUC for multiclass classification \n",
    "\n",
    "from sklearn.metrics import roc_auc_score\n",
    "from sklearn.metrics import roc_curve, auc\n",
    "from scipy import interp\n",
    "from sklearn import preprocessing\n",
    "\n",
    "def MulticlassAuc(y_test,y_p): # y_test, y_p is the test and predict data\n",
    "    lb = preprocessing.LabelBinarizer() # binarize the data\n",
    "    lb.fit(y_test)\n",
    "    n_classes=len(lb.classes_)\n",
    "    y_test_b=lb.transform(y_test)\n",
    "    y_p_b=lb.transform(y_p)\n",
    "\n",
    "    # Compute ROC curve and ROC area for each class\n",
    "    fpr = dict()\n",
    "    tpr = dict()\n",
    "    roc_auc = dict()\n",
    "    for i in range(3):\n",
    "        fpr[i], tpr[i], _ = roc_curve(y_test_b[:, i], y_p_b[:, i])\n",
    "        roc_auc[i] = auc(fpr[i], tpr[i])\n",
    "\n",
    "    # First aggregate all false positive rates\n",
    "    all_fpr = np.unique(np.concatenate([fpr[i] for i in range(n_classes)]))\n",
    "\n",
    "    # Then interpolate all ROC curves at this points\n",
    "    mean_tpr = np.zeros_like(all_fpr)\n",
    "    for i in range(n_classes):\n",
    "        mean_tpr += interp(all_fpr, fpr[i], tpr[i])\n",
    "\n",
    "    # Finally average it and compute AUC\n",
    "    mean_tpr /= n_classes\n",
    "\n",
    "    fpr[\"macro\"] = all_fpr\n",
    "    tpr[\"macro\"] = mean_tpr\n",
    "    roc_auc[\"macro\"] = auc(fpr[\"macro\"], tpr[\"macro\"])\n",
    "    return roc_auc[\"macro\"]"
   ]
  },
  {
   "cell_type": "code",
   "execution_count": 14,
   "metadata": {},
   "outputs": [
    {
     "name": "stdout",
     "output_type": "stream",
     "text": [
      "             precision    recall  f1-score   support\n",
      "\n",
      "          0       0.88      0.81      0.85      1305\n",
      "          1       0.87      0.92      0.89      1745\n",
      "\n",
      "avg / total       0.87      0.87      0.87      3050\n",
      "\n",
      "0.8731147540983607\n",
      "0.8652493714938138\n"
     ]
    }
   ],
   "source": [
    "from sklearn.metrics import classification_report\n",
    "\n",
    "y_p = clf_Tune.best_estimator_.predict(X_test)\n",
    "ACC=classification_report(y_test, y_p)\n",
    "print ACC\n",
    "ACC_AVG=accuracy_score(y_test, y_p)\n",
    "print ACC_AVG\n",
    "\n",
    "from sklearn import metrics\n",
    "\n",
    "fpr, tpr, thresholds = metrics.roc_curve(y_test,y_p)\n",
    "AUC_Th2_T=metrics.auc(fpr, tpr)\n",
    "print AUC_Th2_T"
   ]
  },
  {
   "cell_type": "code",
   "execution_count": 15,
   "metadata": {},
   "outputs": [
    {
     "data": {
      "text/plain": [
       "Text(0.5,1,\"Validation accuracy=0.868795101684, best {'C': 10.0, 'gamma': 0.00069}\")"
      ]
     },
     "execution_count": 15,
     "metadata": {},
     "output_type": "execute_result"
    },
    {
     "data": {
      "image/png": "[encoded data removed]",
      "text/plain": [
       "<Figure size 576x432 with 2 Axes>"
      ]
     },
     "metadata": {
      "needs_background": "light"
     },
     "output_type": "display_data"
    }
   ],
   "source": [
    "# Utility function to move the midpoint of a colormap to be around\n",
    "# the values of interest.\n",
    "from matplotlib.colors import Normalize\n",
    "class MidpointNormalize(Normalize):\n",
    "\n",
    "    def __init__(self, vmin=None, vmax=None, midpoint=None, clip=False):\n",
    "        self.midpoint = midpoint\n",
    "        Normalize.__init__(self, vmin, vmax, clip)\n",
    "\n",
    "    def __call__(self, value, clip=None):\n",
    "        x, y = [self.vmin, self.midpoint, self.vmax], [0, 0.5, 1]\n",
    "        return np.ma.masked_array(np.interp(value, x, y))\n",
    "    \n",
    "scores = clf_Tune.cv_results_['mean_test_score'].reshape(len(C_range),len(gamma_range))\n",
    "#print scores.shape,len(C_range),len(gamma_range)\n",
    "plt.figure(figsize=(8, 6))\n",
    "#plt.subplots_adjust(left=.2, right=0.95, bottom=0.15, top=0.95)\n",
    "plt.imshow(scores, interpolation='nearest', cmap=plt.cm.hot, norm=MidpointNormalize(vmin=0.2, midpoint=0.92))\n",
    "plt.xlabel('gamma')\n",
    "plt.ylabel('C')\n",
    "plt.colorbar()\n",
    "plt.xticks(np.arange(len(gamma_range)), gamma_range, rotation=45)\n",
    "plt.yticks(np.arange(len(C_range)), C_range)\n",
    "plt.title('Validation accuracy={}, best {}' .format(clf_Tune.best_score_,clf_Tune.best_params_))\n",
    "\n",
    "#filename='ParameterTuning'\n",
    "#save_format='png'\n",
    "#print filename+'.'+save_format\n",
    "#pp='home/ralfahad/Pictures'\n",
    "#plt.savefig(filename+'.'+save_format,dpi=100)\n",
    "#plt.show()"
   ]
  },
  {
   "cell_type": "markdown",
   "metadata": {},
   "source": [
    "# Find Significant correlation with stability selections "
   ]
  },
  {
   "cell_type": "markdown",
   "metadata": {},
   "source": [
    "### Make the dataset"
   ]
  },
  {
   "cell_type": "code",
   "execution_count": 16,
   "metadata": {},
   "outputs": [],
   "source": [
    "# Pre Processing "
   ]
  },
  {
   "cell_type": "code",
   "execution_count": 17,
   "metadata": {},
   "outputs": [
    {
     "name": "stdout",
     "output_type": "stream",
     "text": [
      "(7623, 1428) (7623, 1)\n"
     ]
    }
   ],
   "source": [
    "from sklearn import preprocessing\n",
    "X=preprocessing.scale(X)\n",
    "print X.shape,y.shape\n",
    "from sklearn.preprocessing import label_binarize\n",
    "y=label_binarize(np.asarray(y),[0,1])"
   ]
  },
  {
   "cell_type": "markdown",
   "metadata": {},
   "source": [
    "# TSNE Visulaization"
   ]
  },
  {
   "cell_type": "code",
   "execution_count": 18,
   "metadata": {},
   "outputs": [],
   "source": [
    "# import sys\n",
    "# import os\n",
    "\n",
    "# from scipy import linalg as LA\n",
    "\n",
    "\n",
    "# np.set_printoptions(precision=3, linewidth=110, suppress=True)\n",
    "\n",
    "\n",
    "\n",
    "\n",
    "# def LDA(data, labels, dim_rescale):\n",
    "#     '''\n",
    "#     Linear Discriminant Analysis\n",
    "#     pass in:\n",
    "#         (i) a raw data array--features encoded in the cols;\n",
    "#             one data instance per row;\n",
    "#         (ii) EV, explanatory variable, is included in D as last column;\n",
    "#         (iii) the LDA flag is set to False so PCA is the default techique;\n",
    "#             if both LDA & EV are set to True then LDA is performed\n",
    "#             instead of PCA\n",
    "#     returns:\n",
    "#         (i) eigenvalues (1D array);\n",
    "#         (ii) eigenvectors (2D array)\n",
    "#         (iii) covariance matrix\n",
    "#     some numerical assertions:\n",
    "#     >>> # sum of the eigenvalues is equal to trace of R\n",
    "#     >>> x = R.trace()\n",
    "#     >>> x1 = eva.sum()\n",
    "#     >>> NP.allclose(x, x1)\n",
    "#     True\n",
    "#     >>> # determinant of R is product of eigenvalues\n",
    "#     >>> q = LA.det(R)\n",
    "#     >>> q1 = NP.prod(eva)\n",
    "#     >>> NP.allclose(q, q1)\n",
    "#     True\n",
    "#     '''\n",
    "#     assert data.shape[0] == labels.shape[0]\n",
    "#     # mean center the data array\n",
    "#     data -= data.mean(axis=0)\n",
    "#     nrow, ndim = data.shape\n",
    "#     # pre-allocate sw, sb arrays (both same shape as covariance matrix)\n",
    "#     # s_wc: array encoding 'within class' scatter\n",
    "#     # s_bc: array encoding 'between class' scatter\n",
    "#     s_wc = np.zeros((ndim, ndim))\n",
    "#     s_bc = np.zeros((ndim, ndim))\n",
    "#     R = np.cov(data.T)\n",
    "#     classes = np.unique(labels)\n",
    "#     for c in range(len(classes)):\n",
    "#         # create an index only for data rows whose class label = classes[c]\n",
    "#         idx = np.squeeze(np.where(labels == classes[c]))\n",
    "#         d = np.squeeze(data[idx,:])\n",
    "#         class_cov = np.cov(d.T)\n",
    "#         s_wc += float(idx.shape[0]) / nrow * class_cov\n",
    "#     s_bc = R - s_wc\n",
    "#     # now solve for w then compute the mapped data\n",
    "#     evals, evecs = LA.eig(s_wc, s_bc)\n",
    "#     np.ascontiguousarray(evals)\n",
    "#     np.ascontiguousarray(evecs)\n",
    "#     # sort the eigenvectors based on eigenvalues sort order\n",
    "#     idx = np.argsort(evals)\n",
    "#     idx = idx[::-1]\n",
    "#     evecs = evecs[:,idx]\n",
    "#     # take just number of eigenvectors = dim_rescale\n",
    "#     evecs_dr = evecs[:,:dim_rescale]\n",
    "#     # multiply data array & remaining set of eigenvectors\n",
    "#     rescaled_data = np.dot(data, evecs_dr)\n",
    "#     return rescaled_data, evecs_dr\n",
    "\n"
   ]
  },
  {
   "cell_type": "code",
   "execution_count": 19,
   "metadata": {},
   "outputs": [],
   "source": [
    "# #Micro AUC for multiclass classification \n",
    "\n",
    "# from sklearn.metrics import roc_auc_score\n",
    "# from sklearn.metrics import roc_curve, auc\n",
    "# from scipy import interp\n",
    "# from sklearn import preprocessing\n",
    "\n",
    "# def MulticlassAuc(y_test,y_p): # y_test, y_p is the test and predict data\n",
    "#     lb = preprocessing.LabelBinarizer() # binarize the data\n",
    "#     lb.fit(y_test)\n",
    "#     n_classes=len(lb.classes_)\n",
    "#     y_test_b=lb.transform(y_test)\n",
    "#     y_p_b=lb.transform(y_p)\n",
    "\n",
    "#     # Compute ROC curve and ROC area for each class\n",
    "#     fpr = dict()\n",
    "#     tpr = dict()\n",
    "#     roc_auc = dict()\n",
    "#     for i in range(3):\n",
    "#         fpr[i], tpr[i], _ = roc_curve(y_test_b[:, i], y_p_b[:, i])\n",
    "#         roc_auc[i] = auc(fpr[i], tpr[i])\n",
    "\n",
    "#     # First aggregate all false positive rates\n",
    "#     all_fpr = np.unique(np.concatenate([fpr[i] for i in range(n_classes)]))\n",
    "\n",
    "#     # Then interpolate all ROC curves at this points\n",
    "#     mean_tpr = np.zeros_like(all_fpr)\n",
    "#     for i in range(n_classes):\n",
    "#         mean_tpr += interp(all_fpr, fpr[i], tpr[i])\n",
    "\n",
    "#     # Finally average it and compute AUC\n",
    "#     mean_tpr /= n_classes\n",
    "\n",
    "#     fpr[\"macro\"] = all_fpr\n",
    "#     tpr[\"macro\"] = mean_tpr\n",
    "#     roc_auc[\"macro\"] = auc(fpr[\"macro\"], tpr[\"macro\"])\n",
    "#     return roc_auc[\"macro\"]"
   ]
  },
  {
   "cell_type": "markdown",
   "metadata": {},
   "source": [
    "### Randomized Logistic Regression "
   ]
  },
  {
   "cell_type": "code",
   "execution_count": 20,
   "metadata": {},
   "outputs": [],
   "source": [
    "from sklearn.linear_model import (RandomizedLasso, lasso_stability_path,\n",
    "                                  LassoLarsCV)\n",
    "from sklearn.exceptions import ConvergenceWarning\n",
    "\n",
    "#Model Library\n",
    "from sklearn.linear_model import (RandomizedLasso, lasso_stability_path, LassoLarsCV)\n",
    "from sklearn.model_selection import GridSearchCV\n",
    "from sklearn.linear_model import LogisticRegression, RandomizedLogisticRegression\n",
    "from sklearn import svm\n",
    "\n",
    "\n",
    "# Performance analysis library \n",
    "from sklearn.model_selection import KFold, cross_val_score, LeaveOneOut, cross_val_predict\n",
    "from sklearn.metrics import precision_recall_curve\n",
    "from sklearn.metrics import average_precision_score\n",
    "from sklearn.metrics import accuracy_score\n",
    "from sklearn.metrics import roc_curve,auc\n",
    "from sklearn.metrics import classification_report\n",
    "from sklearn.metrics import confusion_matrix\n",
    "\n",
    "\n",
    "# preprocessing\n",
    "from sklearn.preprocessing import Imputer\n",
    "from sklearn.model_selection import train_test_split # test train split\n",
    "from sklearn.model_selection import ShuffleSplit"
   ]
  },
  {
   "cell_type": "code",
   "execution_count": 21,
   "metadata": {},
   "outputs": [
    {
     "data": {
      "text/plain": [
       "array([0.001])"
      ]
     },
     "execution_count": 21,
     "metadata": {},
     "output_type": "execute_result"
    }
   ],
   "source": [
    "with warnings.catch_warnings():\n",
    "    #warnings.simplefilter('ignore', UserWarning)\n",
    "    warnings.simplefilter('ignore', ConvergenceWarning)\n",
    "    lars_cv = LassoLarsCV(cv=10).fit(X, y)\n",
    "lars_cv.alphas_"
   ]
  },
  {
   "cell_type": "code",
   "execution_count": 22,
   "metadata": {},
   "outputs": [
    {
     "name": "stdout",
     "output_type": "stream",
     "text": [
      "[0.001 0.001 0.001 0.001 0.001 0.    0.    0.    0.    0.   ]\n"
     ]
    }
   ],
   "source": [
    "# Run the RandomizedLasso: we use a paths going down to .1*alpha_max\n",
    "# to avoid exploring the regime in which very noisy variables enter\n",
    "# the model\n",
    "alphas = np.linspace(lars_cv.alphas_[0], .1 * lars_cv.alphas_[0], 10)\n",
    "print alphas\n",
    "clf = RandomizedLasso(alpha=alphas, random_state=42,max_iter=1000).fit(X, y)"
   ]
  },
  {
   "cell_type": "code",
   "execution_count": 23,
   "metadata": {},
   "outputs": [
    {
     "data": {
      "text/plain": [
       "array([0.015, 0.   , 0.105, ..., 0.275, 0.   , 0.   ])"
      ]
     },
     "execution_count": 23,
     "metadata": {},
     "output_type": "execute_result"
    }
   ],
   "source": [
    "clf.scores_"
   ]
  },
  {
   "cell_type": "code",
   "execution_count": 24,
   "metadata": {},
   "outputs": [
    {
     "data": {
      "image/png": "[encoded data removed]",
      "text/plain": [
       "<Figure size 432x288 with 1 Axes>"
      ]
     },
     "metadata": {
      "needs_background": "light"
     },
     "output_type": "display_data"
    }
   ],
   "source": [
    "from matplotlib.ticker import FormatStrFormatter\n",
    "data=clf.scores_\n",
    "fig, ax = plt.subplots()\n",
    "counts, bins, patches = ax.hist(data,10 ,edgecolor='gray')\n",
    "\n",
    "# Set the ticks to be at the edges of the bins.\n",
    "ax.set_xticks(bins)\n",
    "\n",
    "# Set the xaxis's tick labels to be formatted with 1 decimal place...\n",
    "ax.xaxis.set_major_formatter(FormatStrFormatter('%0.1f'))\n",
    "\n",
    "\n",
    "# Label the raw counts and the percentages below the x-axis...\n",
    "bin_centers = 0.5 * np.diff(bins) + bins[:-1]\n",
    "for count, x in zip(counts, bin_centers):\n",
    "    # Label the raw counts\n",
    "    ax.annotate(str(count), xy=(x, 0), xycoords=('data', 'axes fraction'),\n",
    "        xytext=(0, -18), textcoords='offset points', va='top', ha='center')\n",
    "\n",
    "    # Label the percentages\n",
    "    percent = '%0.0f%%' % (100 * float(count) / counts.sum())\n",
    "    ax.annotate(percent, xy=(x, 0), xycoords=('data', 'axes fraction'),\n",
    "        xytext=(0, -32), textcoords='offset points', va='top', ha='center')\n",
    "\n",
    "\n",
    "# Give ourselves some more room at the bottom of the plot\n",
    "plt.subplots_adjust(bottom=0.15)\n",
    "plt.grid(True)\n",
    "plt.show()"
   ]
  },
  {
   "cell_type": "markdown",
   "metadata": {},
   "source": [
    "### Find the optimal threshold"
   ]
  },
  {
   "cell_type": "code",
   "execution_count": 25,
   "metadata": {},
   "outputs": [
    {
     "name": "stdout",
     "output_type": "stream",
     "text": [
      "[0.    0.089 0.179 0.268 0.358 0.448 0.537 0.626 0.716 0.805 0.895]\n",
      "[0.179 0.268 0.358 0.448 0.537 0.626 0.716 0.805 0.895]\n"
     ]
    }
   ],
   "source": [
    "Th_2_Bins_Index= np.where((bins<=0.9) & (bins>=0.1)) # take the bins within a range\n",
    "print bins\n",
    "Th_2_Bins=bins[Th_2_Bins_Index]\n",
    "print Th_2_Bins"
   ]
  },
  {
   "cell_type": "code",
   "execution_count": 26,
   "metadata": {},
   "outputs": [
    {
     "name": "stdout",
     "output_type": "stream",
     "text": [
      "(7623, 1428) (7623, 1)\n",
      "(4573, 1428) (3050, 1428) (4573, 1) (3050, 1)\n"
     ]
    }
   ],
   "source": [
    "from sklearn import preprocessing\n",
    "X=preprocessing.scale(X)\n",
    "print X.shape,y.shape\n",
    "from sklearn.preprocessing import label_binarize\n",
    "y=label_binarize(np.asarray(y),[0,1])\n",
    "\n",
    "X_train, X_test, y_train, y_test = train_test_split(X, y, test_size=0.4, random_state=42)\n",
    "print X_train.shape, X_test.shape, y_train.shape, y_test.shape"
   ]
  },
  {
   "cell_type": "code",
   "execution_count": 27,
   "metadata": {},
   "outputs": [
    {
     "data": {
      "text/plain": [
       "array([[ 0.181, -1.689, -1.02 , ...,  0.627, -0.903,  0.385],\n",
       "       [ 1.05 ,  0.635,  0.386, ...,  0.033, -0.693, -0.33 ],\n",
       "       [ 0.051, -0.265, -0.34 , ..., -0.304,  0.777,  0.893],\n",
       "       ...,\n",
       "       [ 0.427, -0.751, -0.876, ...,  1.274, -0.172,  0.194],\n",
       "       [ 0.184,  1.066,  1.061, ..., -0.134,  0.692,  0.329],\n",
       "       [-0.05 ,  1.155,  1.475, ..., -2.564,  0.059,  1.105]])"
      ]
     },
     "execution_count": 27,
     "metadata": {},
     "output_type": "execute_result"
    }
   ],
   "source": [
    "X_train[:,1:10]"
   ]
  },
  {
   "cell_type": "code",
   "execution_count": 28,
   "metadata": {},
   "outputs": [
    {
     "data": {
      "text/plain": [
       "numpy.ndarray"
      ]
     },
     "execution_count": 28,
     "metadata": {},
     "output_type": "execute_result"
    }
   ],
   "source": [
    "type(X_train)#[:,np.squeeze(np.asarray(np.where(clf.scores_>=0.16)))].shape#,y_train"
   ]
  },
  {
   "cell_type": "code",
   "execution_count": 29,
   "metadata": {},
   "outputs": [
    {
     "name": "stdout",
     "output_type": "stream",
     "text": [
      "Fitting 5 folds for each of 25 candidates, totalling 125 fits\n"
     ]
    },
    {
     "name": "stderr",
     "output_type": "stream",
     "text": [
      "[Parallel(n_jobs=-1)]: Done  42 tasks      | elapsed:  9.3min\n",
      "[Parallel(n_jobs=-1)]: Done 125 out of 125 | elapsed: 23.2min finished\n"
     ]
    },
    {
     "data": {
      "text/plain": [
       "GridSearchCV(cv=5, error_score='raise',\n",
       "       estimator=SVC(C=1.0, cache_size=200, class_weight=None, coef0=0.0,\n",
       "  decision_function_shape='ovr', degree=3, gamma='auto', kernel='rbf',\n",
       "  max_iter=-1, probability=False, random_state=None, shrinking=True,\n",
       "  tol=0.001, verbose=False),\n",
       "       fit_params=None, iid=True, n_jobs=-1,\n",
       "       param_grid={'C': array([  0.01,   0.1 ,   1.  ,  10.  , 100.  ]), 'gamma': [0.01, 0.002, 0.00069, 0.0007, 0.0005]},\n",
       "       pre_dispatch='2*n_jobs', refit=True, return_train_score='warn',\n",
       "       scoring=None, verbose=True)"
      ]
     },
     "execution_count": 29,
     "metadata": {},
     "output_type": "execute_result"
    }
   ],
   "source": [
    "C_range = np.logspace(-2, 2, 5)\n",
    "gamma_range = [0.01,0.002,0.00069,0.0007,0.0005]\n",
    "# gamma_range = np.logspace(-2, 2, 5)\n",
    "param_grid = dict(gamma=gamma_range, C=C_range)\n",
    "#clf_Tune = GridSearchCV(estimator=svr, cv=1, param_grid=param_grid,n_jobs=-1)\n",
    "clf_Tune = GridSearchCV(estimator=svr, cv=5, param_grid=param_grid,n_jobs=-1, verbose=True)\n",
    "clf_Tune.fit(X_train[:,np.squeeze(np.asarray(np.where(clf.scores_>=0.16)))],y_train)"
   ]
  },
  {
   "cell_type": "code",
   "execution_count": 30,
   "metadata": {},
   "outputs": [
    {
     "name": "stdout",
     "output_type": "stream",
     "text": [
      "0.8655737704918033\n"
     ]
    }
   ],
   "source": [
    "# use tuned parameter on to get model\n",
    "y_p = clf_Tune.best_estimator_.predict(X_test[:,np.squeeze(np.asarray(np.where(clf.scores_>=0.16)))])\n",
    "\n",
    "print accuracy_score(y_test, y_p)"
   ]
  },
  {
   "cell_type": "code",
   "execution_count": 31,
   "metadata": {},
   "outputs": [
    {
     "name": "stdout",
     "output_type": "stream",
     "text": [
      "0.179\n",
      "(4573, 261)\n",
      "Fitting 5 folds for each of 25 candidates, totalling 125 fits\n"
     ]
    },
    {
     "name": "stderr",
     "output_type": "stream",
     "text": [
      "[Parallel(n_jobs=-1)]: Done  42 tasks      | elapsed:  8.5min\n",
      "[Parallel(n_jobs=-1)]: Done 125 out of 125 | elapsed: 20.8min finished\n"
     ]
    },
    {
     "name": "stdout",
     "output_type": "stream",
     "text": [
      "(4573, 261) (4573, 1)\n",
      "Finish tuning\n",
      "Shape (3050, 261)\n",
      "ACC 0.86 0.8552371856096783\n",
      "0.26849999999999996\n",
      "(4573, 171)\n",
      "Fitting 5 folds for each of 25 candidates, totalling 125 fits\n"
     ]
    },
    {
     "name": "stderr",
     "output_type": "stream",
     "text": [
      "[Parallel(n_jobs=-1)]: Done  42 tasks      | elapsed:  5.1min\n",
      "[Parallel(n_jobs=-1)]: Done 125 out of 125 | elapsed: 12.8min finished\n"
     ]
    },
    {
     "name": "stdout",
     "output_type": "stream",
     "text": [
      "(4573, 171) (4573, 1)\n",
      "Finish tuning\n",
      "Shape (3050, 171)\n",
      "ACC 0.8478688524590164 0.8353610205403507\n",
      "0.358\n",
      "(4573, 98)\n",
      "Fitting 5 folds for each of 25 candidates, totalling 125 fits\n"
     ]
    },
    {
     "name": "stderr",
     "output_type": "stream",
     "text": [
      "[Parallel(n_jobs=-1)]: Done  42 tasks      | elapsed:  3.2min\n",
      "[Parallel(n_jobs=-1)]: Done 125 out of 125 | elapsed:  8.2min finished\n"
     ]
    },
    {
     "name": "stdout",
     "output_type": "stream",
     "text": [
      "(4573, 98) (4573, 1)\n",
      "Finish tuning\n",
      "Shape (3050, 98)\n",
      "ACC 0.8354098360655737 0.8287235560825127\n",
      "0.4475\n",
      "(4573, 41)\n",
      "Fitting 5 folds for each of 25 candidates, totalling 125 fits\n"
     ]
    },
    {
     "name": "stderr",
     "output_type": "stream",
     "text": [
      "[Parallel(n_jobs=-1)]: Done  42 tasks      | elapsed:  1.8min\n",
      "[Parallel(n_jobs=-1)]: Done 125 out of 125 | elapsed:  4.9min finished\n"
     ]
    },
    {
     "name": "stdout",
     "output_type": "stream",
     "text": [
      "(4573, 41) (4573, 1)\n",
      "Finish tuning\n",
      "Shape (3050, 41)\n",
      "ACC 0.799016393442623 0.7946963958326472\n",
      "0.5369999999999999\n",
      "(4573, 16)\n",
      "Fitting 5 folds for each of 25 candidates, totalling 125 fits\n"
     ]
    },
    {
     "name": "stderr",
     "output_type": "stream",
     "text": [
      "[Parallel(n_jobs=-1)]: Done  42 tasks      | elapsed:  1.3min\n",
      "[Parallel(n_jobs=-1)]: Done 125 out of 125 | elapsed:  3.6min finished\n"
     ]
    },
    {
     "name": "stdout",
     "output_type": "stream",
     "text": [
      "(4573, 16) (4573, 1)\n",
      "Finish tuning\n",
      "Shape (3050, 16)\n",
      "ACC 0.7508196721311475 0.7465863057010178\n",
      "0.6265\n",
      "(4573, 5)\n",
      "Fitting 5 folds for each of 25 candidates, totalling 125 fits\n"
     ]
    },
    {
     "name": "stderr",
     "output_type": "stream",
     "text": [
      "[Parallel(n_jobs=-1)]: Done  42 tasks      | elapsed:   58.0s\n",
      "[Parallel(n_jobs=-1)]: Done 125 out of 125 | elapsed:  2.9min finished\n"
     ]
    },
    {
     "name": "stdout",
     "output_type": "stream",
     "text": [
      "(4573, 5) (4573, 1)\n",
      "Finish tuning\n",
      "Shape (3050, 5)\n",
      "ACC 0.620655737704918 0.5777657016763824\n",
      "0.716\n",
      "(4573, 4)\n",
      "Fitting 5 folds for each of 25 candidates, totalling 125 fits\n"
     ]
    },
    {
     "name": "stderr",
     "output_type": "stream",
     "text": [
      "[Parallel(n_jobs=-1)]: Done  42 tasks      | elapsed:   56.6s\n",
      "[Parallel(n_jobs=-1)]: Done 125 out of 125 | elapsed:  2.8min finished\n"
     ]
    },
    {
     "name": "stdout",
     "output_type": "stream",
     "text": [
      "(4573, 4) (4573, 1)\n",
      "Finish tuning\n",
      "Shape (3050, 4)\n",
      "ACC 0.5891803278688524 0.5276520765405264\n",
      "0.8055\n",
      "(4573, 3)\n",
      "Fitting 5 folds for each of 25 candidates, totalling 125 fits\n"
     ]
    },
    {
     "name": "stderr",
     "output_type": "stream",
     "text": [
      "[Parallel(n_jobs=-1)]: Done  42 tasks      | elapsed:   54.4s\n",
      "[Parallel(n_jobs=-1)]: Done 125 out of 125 | elapsed:  2.8min finished\n"
     ]
    },
    {
     "name": "stdout",
     "output_type": "stream",
     "text": [
      "(4573, 3) (4573, 1)\n",
      "Finish tuning\n",
      "Shape (3050, 3)\n",
      "ACC 0.5826229508196721 0.5150621919221859\n",
      "0.895\n",
      "(4573,)\n",
      "Fitting 5 folds for each of 25 candidates, totalling 125 fits\n",
      "error at: 0.895\n"
     ]
    }
   ],
   "source": [
    "# #Splitting\n",
    "X_train, X_test, y_train, y_test = train_test_split(X, y, test_size=0.4, random_state=42)\n",
    "#cv = ShuffleSplit(X_train.shape[0], test_size=0.2, random_state=42)\n",
    "\n",
    "# Define Classifier\n",
    "svr = svm.SVC(kernel='rbf')\n",
    "\n",
    "# Deffine tuning parameter\n",
    "# C_range = np.logspace(-2, 10, 13)\n",
    "# gamma_range = np.logspace(-9, 3, 13)\n",
    "\n",
    "C_range = np.logspace(-2, 2, 5)\n",
    "gamma_range = [0.01,0.002,0.00069,0.0007,0.0005]\n",
    "#gamma_range = np.logspace(-2, 2, 5)\n",
    "param_grid = dict(gamma=gamma_range, C=C_range)\n",
    "#clf_Tune = GridSearchCV(estimator=svr, cv=1, param_grid=param_grid,n_jobs=-1)\n",
    "clf_Tune = GridSearchCV(estimator=svr, cv=5, param_grid=param_grid,n_jobs=-1, verbose=True)\n",
    "##  Define LeaveOneOutCrossValidation\n",
    "#loocv = LeaveOneOut()\n",
    "ACC_Th2=[]\n",
    "AUC_Th2=[]\n",
    "Bins=[]\n",
    "for i in Th_2_Bins:\n",
    "    print i\n",
    "    try:\n",
    "        print X_train[:,np.squeeze(np.asarray(np.where(clf.scores_>=i)))].shape\n",
    "        \n",
    "        #Hyper parameter Tuning \n",
    "        clf_Tune.fit(X_train[:,np.squeeze(np.asarray(np.where(clf.scores_>=i)))],y_train)\n",
    "        print X_train[:,np.squeeze(np.asarray(np.where(clf.scores_>=i)))].shape ,y_train.shape\n",
    "        print 'Finish tuning'\n",
    "\n",
    "        # use tuned parameter on to get model\n",
    "        y_p = clf_Tune.best_estimator_.predict(X_test[:,np.squeeze(np.asarray(np.where(clf.scores_>=i)))])\n",
    "\n",
    "        ACC_Th2_T=accuracy_score(y_test, y_p)\n",
    "        fpr, tpr, thresholds = metrics.roc_curve(y_test,y_p)\n",
    "        AUC_Th2_T=metrics.auc(fpr, tpr)\n",
    "        print 'Shape', X_test[:,np.squeeze(np.asarray(np.where(clf.scores_>=i)))].shape\n",
    "        print 'ACC',ACC_Th2_T,AUC_Th2_T\n",
    "        ACC_Th2.append(ACC_Th2_T)\n",
    "        AUC_Th2.append(AUC_Th2_T)\n",
    "        Bins.append(i)\n",
    "    except:\n",
    "        print 'error at:',i\n",
    "    # false_positive_rate, true_positive_rate, thresholds = roc_curve(y_test, y_p)\n",
    "    # roc_auc_T = auc(false_positive_rate, true_positive_rate)\n",
    "    # print 'AUC',roc_auc_T\n",
    "    # AUC_Th2.append(roc_auc_T)"
   ]
  },
  {
   "cell_type": "code",
   "execution_count": 32,
   "metadata": {},
   "outputs": [],
   "source": [
    "# accuracy_score(y_test, y_p)\n",
    "# MulticlassAuc(y_test,y_p)"
   ]
  },
  {
   "cell_type": "code",
   "execution_count": 33,
   "metadata": {},
   "outputs": [],
   "source": [
    "        \n",
    "#         ACC_Th2_T=accuracy_score(y_test, y_p)\n",
    "#         AUC_Th2_T=MulticlassAuc(y_test,y_p)\n",
    "#         print 'Shape', X_test[:,np.squeeze(np.asarray(np.where(clf.scores_>=i)))].shape\n",
    "#         print 'ACC',ACC_Th2_T,AUC_Th2_T\n",
    "#         ACC_Th2.append(ACC_Th2_T)\n",
    "#         AUC_Th2.append(AUC_Th2_T)\n",
    "#         Bins.append(i)\n",
    "#     except:\n",
    "#         print 'error at:',i\n",
    "#     # false_positive_rate, true_positive_rate, thresholds = roc_curve(y_test, y_p)\n",
    "#     # roc_auc_T = auc(false_positive_rate, true_positive_rate)\n",
    "#     # print 'AUC',roc_auc_T\n",
    "#     # AUC_Th2.append(roc_auc_T)"
   ]
  },
  {
   "cell_type": "code",
   "execution_count": 34,
   "metadata": {},
   "outputs": [
    {
     "data": {
      "text/plain": [
       "[0.86,\n",
       " 0.8478688524590164,\n",
       " 0.8354098360655737,\n",
       " 0.799016393442623,\n",
       " 0.7508196721311475,\n",
       " 0.620655737704918,\n",
       " 0.5891803278688524,\n",
       " 0.5826229508196721]"
      ]
     },
     "execution_count": 34,
     "metadata": {},
     "output_type": "execute_result"
    }
   ],
   "source": [
    "ACC_Th2 "
   ]
  },
  {
   "cell_type": "code",
   "execution_count": 35,
   "metadata": {},
   "outputs": [
    {
     "data": {
      "image/png": "[encoded data removed]",
      "text/plain": [
       "<Figure size 432x288 with 3 Axes>"
      ]
     },
     "metadata": {
      "needs_background": "light"
     },
     "output_type": "display_data"
    }
   ],
   "source": [
    "from matplotlib.ticker import FormatStrFormatter\n",
    "Th_2_Bins=np.asarray(Bins)\n",
    "data=clf.scores_\n",
    "fig, ax = plt.subplots()\n",
    "fig.subplots_adjust(right=0.75)\n",
    "#counts, bins, patches = ax.hist(data,10 ,edgecolor='gray')\n",
    "counts, bins, patches = ax.hist(data,10,facecolor=\"None\",edgecolor='blue', lw=1)\n",
    "# Set the ticks to be at the edges of the bins.\n",
    "ax.set_xticks(bins)\n",
    "# Set the xaxis's tick labels to be formatted with 1 decimal place...\n",
    "ax.xaxis.set_major_formatter(FormatStrFormatter('%0.1f'))\n",
    "\n",
    "\n",
    "bin_centers = 0.5 * np.diff(bins) + bins[:-1]\n",
    "\n",
    "\n",
    "\n",
    "\n",
    "\n",
    "\n",
    "\n",
    "#show % value\n",
    "for count, x in zip(counts, bin_centers):\n",
    "    # Label the raw counts\n",
    "    ax.annotate(int(count), xy=(x, 0), xycoords=('data', 'axes fraction'),\n",
    "        xytext=(0, -18), textcoords='offset points', va='top', ha='center')\n",
    "\n",
    "    # Label the percentages\n",
    "    percent = '%0.0f%%' % (100 * float(count) / counts.sum())\n",
    "    ax.annotate(percent, xy=(x, 0), xycoords=('data', 'axes fraction'),\n",
    "        xytext=(0, -32), textcoords='offset points', va='top', ha='center')\n",
    "\n",
    "\n",
    "\n",
    "    \n",
    "    \n",
    "    \n",
    "    # Give ourselves some more room at the bottom of the plot\n",
    "\n",
    "ax2 = ax.twinx()\n",
    "ax2.plot(Th_2_Bins,AUC_Th2, color='red',ls='dashed' )#,THbin,CCC_Per)\n",
    "ax2.set_frame_on(False)\n",
    "ax2.set_ylabel('AUC', color='red')\n",
    "ax2.patch.set_visible(False)\n",
    "for i,j in zip(Th_2_Bins,AUC_Th2):\n",
    "    #ax2.annotate((\"%.2f\" % j),xy=(i+0.04,j-0.01), color ='red') ##############################\n",
    "    ax2.annotate((\"%.2f\" % j),xy=(i,j-0.01), color ='red') ##############################\n",
    "    ax2.plot(i,j, marker='o', markersize=7, color=\"red\")\n",
    "\n",
    "\n",
    "    \n",
    "ax3 = ax.twinx()\n",
    "ax3.plot(Th_2_Bins,ACC_Th2, color='black')#,THbin,CCC_Per)\n",
    "ax3.set_frame_on(False)\n",
    "ax3.set_ylabel('Accuracy', color='black')\n",
    "\n",
    "\n",
    "\n",
    "\n",
    "\n",
    "\n",
    "for i,j in zip(Th_2_Bins,ACC_Th2):\n",
    "     #ax3.annotate((\"%0.2f\" % j),xy=(i-0.05,j), color='black')\n",
    "    #ax3.annotate((\"%0.2f\" % j),xy=(i-0.1,j), color='black')##################################\n",
    "    ax3.annotate((\"%0.2f\" % j),xy=(i,j+0.01), color='black')##################################\n",
    "    ax3.plot(i,j, marker='*', markersize=10, color=\"black\")\n",
    "    #ax3.annotate((\"%0.2f,%0.2f\" % (i,j)),xy=(i-0.05,j), color='green')\n",
    "    #ax3.annotate((\"%0.3f\" %j),xy=(i,j), color='green')\n",
    "\n",
    "\n",
    "    \n",
    "    \n",
    "    \n",
    "    \n",
    "# Move the last y-axis spine over to the right by 20% of the width of the axes\n",
    "ax3.spines['right'].set_position(('axes', 1.15))\n",
    "ax3.spines['right'].set_visible(True)\n",
    "\n",
    "# To make the border of the right-most axis visible, we need to turn the frame\n",
    "# on. This hides the other plots, however, so we need to turn its fill off.\n",
    "ax3.set_frame_on(True)\n",
    "ax3.patch.set_visible(False)\n",
    "\n",
    "\n",
    "#ax.plot(bins,np.linspace(0,1,11))\n",
    "plt.subplots_adjust(bottom=0.15)\n",
    "plt.grid(False,which='both')\n",
    "ax.set_ylabel('Frequency')\n",
    "ax.yaxis.label.set_color('Blue')\n",
    "plt.tight_layout()\n",
    "# #Save the image\n",
    "\n",
    "filename='Corr_StabilitySelection_TH2'\n",
    "save_format='png'\n",
    "#print filename+'.'+save_format\n",
    "#pp='home/ralfahad/Pictures'\n",
    "#plt.savefig(filename+'.'+save_format,dpi=100)\n",
    "plt.savefig(filename+'.'+save_format,dpi=300, bbox_inches='tight')\n",
    "plt.show()\n",
    "\n"
   ]
  },
  {
   "cell_type": "code",
   "execution_count": 36,
   "metadata": {},
   "outputs": [
    {
     "name": "stdout",
     "output_type": "stream",
     "text": [
      "0.18 0.86 0.86 261\n",
      "0.27 0.85 0.84 171\n",
      "0.36 0.84 0.83 98\n",
      "0.45 0.80 0.79 41\n",
      "0.54 0.75 0.75 16\n",
      "0.63 0.62 0.58 5\n",
      "0.72 0.59 0.53 4\n",
      "0.81 0.58 0.52 3\n"
     ]
    },
    {
     "data": {
      "text/html": [
       "<div>\n",
       "<style scoped>\n",
       "    .dataframe tbody tr th:only-of-type {\n",
       "        vertical-align: middle;\n",
       "    }\n",
       "\n",
       "    .dataframe tbody tr th {\n",
       "        vertical-align: top;\n",
       "    }\n",
       "\n",
       "    .dataframe thead th {\n",
       "        text-align: right;\n",
       "    }\n",
       "</style>\n",
       "<table border=\"1\" class=\"dataframe\">\n",
       "  <thead>\n",
       "    <tr style=\"text-align: right;\">\n",
       "      <th></th>\n",
       "      <th>Threshold</th>\n",
       "      <th>ACC</th>\n",
       "      <th>AUC</th>\n",
       "      <th>NoEle</th>\n",
       "    </tr>\n",
       "  </thead>\n",
       "  <tbody>\n",
       "    <tr>\n",
       "      <th>0</th>\n",
       "      <td>0.18</td>\n",
       "      <td>0.86</td>\n",
       "      <td>0.86</td>\n",
       "      <td>261</td>\n",
       "    </tr>\n",
       "    <tr>\n",
       "      <th>1</th>\n",
       "      <td>0.27</td>\n",
       "      <td>0.85</td>\n",
       "      <td>0.84</td>\n",
       "      <td>171</td>\n",
       "    </tr>\n",
       "    <tr>\n",
       "      <th>2</th>\n",
       "      <td>0.36</td>\n",
       "      <td>0.84</td>\n",
       "      <td>0.83</td>\n",
       "      <td>98</td>\n",
       "    </tr>\n",
       "    <tr>\n",
       "      <th>3</th>\n",
       "      <td>0.45</td>\n",
       "      <td>0.80</td>\n",
       "      <td>0.79</td>\n",
       "      <td>41</td>\n",
       "    </tr>\n",
       "    <tr>\n",
       "      <th>4</th>\n",
       "      <td>0.54</td>\n",
       "      <td>0.75</td>\n",
       "      <td>0.75</td>\n",
       "      <td>16</td>\n",
       "    </tr>\n",
       "    <tr>\n",
       "      <th>5</th>\n",
       "      <td>0.63</td>\n",
       "      <td>0.62</td>\n",
       "      <td>0.58</td>\n",
       "      <td>5</td>\n",
       "    </tr>\n",
       "    <tr>\n",
       "      <th>6</th>\n",
       "      <td>0.72</td>\n",
       "      <td>0.59</td>\n",
       "      <td>0.53</td>\n",
       "      <td>4</td>\n",
       "    </tr>\n",
       "    <tr>\n",
       "      <th>7</th>\n",
       "      <td>0.81</td>\n",
       "      <td>0.58</td>\n",
       "      <td>0.52</td>\n",
       "      <td>3</td>\n",
       "    </tr>\n",
       "  </tbody>\n",
       "</table>\n",
       "</div>"
      ],
      "text/plain": [
       "  Threshold   ACC   AUC  NoEle\n",
       "0      0.18  0.86  0.86    261\n",
       "1      0.27  0.85  0.84    171\n",
       "2      0.36  0.84  0.83     98\n",
       "3      0.45  0.80  0.79     41\n",
       "4      0.54  0.75  0.75     16\n",
       "5      0.63  0.62  0.58      5\n",
       "6      0.72  0.59  0.53      4\n",
       "7      0.81  0.58  0.52      3"
      ]
     },
     "execution_count": 36,
     "metadata": {},
     "output_type": "execute_result"
    }
   ],
   "source": [
    "# for i,j in zip(Th_2_Bins,AUC_Th2):\n",
    "#     print i,j\n",
    "All_ACC=[]\n",
    "All_AUC=[]\n",
    "ALL_Bins=[]\n",
    "NumberofElement=[]\n",
    "for i,j,k in zip(Th_2_Bins,ACC_Th2,AUC_Th2):\n",
    "    Th2Index=np.squeeze(np.asarray(np.where(clf.scores_>=i)))\n",
    "    print (\"{0:.2f}\".format(i)),(\"{0:.2f}\".format(j)),(\"{0:.2f}\".format(k)),len(Th2Index)\n",
    "    NumberofElement.append(len(Th2Index))\n",
    "    ALL_Bins.append(\"{0:.2f}\".format(i))\n",
    "    All_ACC.append(\"{0:.2f}\".format(j))\n",
    "    All_AUC.append(\"{0:.2f}\".format(k))\n",
    "\n",
    "Selected_Feature_Result=pd.concat([pd.DataFrame(ALL_Bins),pd.DataFrame(All_ACC),\n",
    "           pd.DataFrame(All_AUC),pd.DataFrame(NumberofElement)],axis=1)\n",
    "Selected_Feature_Result.columns=['Threshold','ACC','AUC','NoEle']\n",
    "Selected_Feature_Result"
   ]
  },
  {
   "cell_type": "code",
   "execution_count": 37,
   "metadata": {},
   "outputs": [
    {
     "data": {
      "text/plain": [
       "array([  14,   17,   58,   62,   85,  126,  149,  154,  157,  166,  178,  184,  201,  217,  229,  238,  262,\n",
       "        269,  272,  286,  311,  321,  326,  337,  338,  345,  351,  354,  357,  361,  370,  389,  405,  419,\n",
       "        428,  438,  445,  447,  472,  473,  476,  477,  490,  491,  497,  499,  525,  526,  532,  538,  574,\n",
       "        576,  590,  598,  605,  609,  613,  633,  658,  659,  689,  694,  740,  742,  744,  752,  762,  780,\n",
       "        782,  801,  808,  810,  813,  820,  821,  843,  859,  904,  928,  938,  939,  942,  950,  956,  960,\n",
       "        996, 1006, 1024, 1068, 1092, 1102, 1127, 1153, 1156, 1157, 1161, 1170, 1171, 1177, 1190, 1195, 1206,\n",
       "       1218, 1228, 1229, 1237, 1238, 1273, 1306, 1356, 1374, 1420, 1422, 1424])"
      ]
     },
     "execution_count": 37,
     "metadata": {},
     "output_type": "execute_result"
    }
   ],
   "source": [
    "# Need to chage gamma range . It is selecting too many features\n",
    "\n",
    "# Let 0.34 is our best Thr. TO get the index numer with this thr\n",
    "\n",
    "\n",
    "fealoc=np.squeeze(np.asarray(np.where(clf.scores_>=0.34)))\n",
    "fealoc\n",
    "\n",
    "# Do you get it? yes > How about number of support of the model?"
   ]
  },
  {
   "cell_type": "code",
   "execution_count": 38,
   "metadata": {},
   "outputs": [
    {
     "data": {
      "text/plain": [
       "(array([ 0,  1,  4,  5,  8,  9, 11, 13, 14, 15, 17, 18, 20, 21, 23, 25, 27, 30, 32, 34, 37, 39, 42, 43, 44,\n",
       "        46, 47, 48, 49, 50, 53, 54, 55, 56, 58, 60, 61, 62, 64, 65, 66]),\n",
       " array([ 3,  3,  6,  4,  1,  1,  2,  3, 11,  2,  3,  1,  2,  5,  1,  1,  1,  4,  2,  3,  1,  4,  1,  1,  2,\n",
       "         2,  1,  2,  4,  2,  1,  4,  1,  1,  4,  3,  1,  6,  4,  8,  2]))"
      ]
     },
     "execution_count": 38,
     "metadata": {},
     "output_type": "execute_result"
    }
   ],
   "source": [
    "ROI=fealoc%68\n",
    "ROI\n",
    "np.unique(ROI,return_counts=True)"
   ]
  },
  {
   "cell_type": "code",
   "execution_count": 39,
   "metadata": {},
   "outputs": [
    {
     "data": {
      "text/plain": [
       "41"
      ]
     },
     "execution_count": 39,
     "metadata": {},
     "output_type": "execute_result"
    }
   ],
   "source": [
    "len(np.unique(ROI))\n",
    "# np.unique(ROI,return_counts=True)"
   ]
  },
  {
   "cell_type": "code",
   "execution_count": 49,
   "metadata": {},
   "outputs": [
    {
     "name": "stdout",
     "output_type": "stream",
     "text": [
      "Fitting 5 folds for each of 25 candidates, totalling 125 fits\n"
     ]
    },
    {
     "name": "stderr",
     "output_type": "stream",
     "text": [
      "[Parallel(n_jobs=-1)]: Done  42 tasks      | elapsed:  4.7min\n",
      "[Parallel(n_jobs=-1)]: Done 125 out of 125 | elapsed:  9.6min finished\n"
     ]
    },
    {
     "name": "stdout",
     "output_type": "stream",
     "text": [
      "(4573, 270) (4573, 1)\n",
      "Finish tuning\n",
      "50.4264159195\n",
      "Fitting 5 folds for each of 25 candidates, totalling 125 fits\n"
     ]
    },
    {
     "name": "stderr",
     "output_type": "stream",
     "text": [
      "[Parallel(n_jobs=-1)]: Done  42 tasks      | elapsed:  2.4min\n",
      "[Parallel(n_jobs=-1)]: Done 125 out of 125 | elapsed:  5.8min finished\n"
     ]
    },
    {
     "name": "stdout",
     "output_type": "stream",
     "text": [
      "(4573, 197) (4573, 1)\n",
      "Finish tuning\n",
      "80.9534222611\n",
      "Fitting 5 folds for each of 25 candidates, totalling 125 fits\n"
     ]
    },
    {
     "name": "stderr",
     "output_type": "stream",
     "text": [
      "[Parallel(n_jobs=-1)]: Done  42 tasks      | elapsed:  1.3min\n",
      "[Parallel(n_jobs=-1)]: Done 125 out of 125 | elapsed:  3.1min finished\n"
     ]
    },
    {
     "name": "stdout",
     "output_type": "stream",
     "text": [
      "(4573, 114) (4573, 1)\n",
      "Finish tuning\n",
      "60.179313361\n",
      "Fitting 5 folds for each of 25 candidates, totalling 125 fits\n"
     ]
    },
    {
     "name": "stderr",
     "output_type": "stream",
     "text": [
      "[Parallel(n_jobs=-1)]: Done  42 tasks      | elapsed:   51.3s\n",
      "[Parallel(n_jobs=-1)]: Done 125 out of 125 | elapsed:  2.2min finished\n"
     ]
    },
    {
     "name": "stdout",
     "output_type": "stream",
     "text": [
      "(4573, 69) (4573, 1)\n",
      "Finish tuning\n",
      "45.0251476055\n"
     ]
    }
   ],
   "source": [
    "for th in [0.17, 0.25,0.34,0.42]:\n",
    "    clf_Tune.fit(X_train[:,np.squeeze(np.asarray(np.where(clf.scores_>=th)))],y_train)\n",
    "    print X_train[:,np.squeeze(np.asarray(np.where(clf.scores_>=th)))].shape ,y_train.shape\n",
    "    print 'Finish tuning'\n",
    "    print float(len(clf_Tune.best_estimator_.support_vectors_))/X_train[:,np.squeeze(np.asarray(np.where(clf.scores_>=th)))].shape[0]*100\n",
    "# use tuned parameter on to get model\n",
    "#y_p = clf_Tune.best_estimator_.predict(X_test[:,np.squeeze(np.asarray(np.where(clf.scores_>=i)))])"
   ]
  },
  {
   "cell_type": "code",
   "execution_count": 48,
   "metadata": {},
   "outputs": [
    {
     "data": {
      "text/plain": [
       "54.581237699540786"
      ]
     },
     "execution_count": 48,
     "metadata": {},
     "output_type": "execute_result"
    }
   ],
   "source": [
    "float(len(clf_Tune.best_estimator_.support_vectors_))/X_train[:,np.squeeze(np.asarray(np.where(clf.scores_>=0.01)))].shape[0]*100"
   ]
  },
  {
   "cell_type": "code",
   "execution_count": 45,
   "metadata": {},
   "outputs": [],
   "source": [
    "# result it overfitting need to be less or equal to 40%"
   ]
  },
  {
   "cell_type": "markdown",
   "metadata": {},
   "source": [
    "# Sultan----------->>>>>>>>>>>>>>>>>>>> End Here "
   ]
  },
  {
   "cell_type": "code",
   "execution_count": null,
   "metadata": {},
   "outputs": [],
   "source": [
    "a=[0,1,7,8,68,1427]\n",
    "b=np.array(a)\n",
    "b%68"
   ]
  },
  {
   "cell_type": "code",
   "execution_count": null,
   "metadata": {},
   "outputs": [],
   "source": []
  },
  {
   "cell_type": "code",
   "execution_count": null,
   "metadata": {},
   "outputs": [],
   "source": []
  },
  {
   "cell_type": "code",
   "execution_count": null,
   "metadata": {},
   "outputs": [],
   "source": []
  },
  {
   "cell_type": "code",
   "execution_count": null,
   "metadata": {},
   "outputs": [],
   "source": []
  },
  {
   "cell_type": "code",
   "execution_count": null,
   "metadata": {},
   "outputs": [],
   "source": []
  },
  {
   "cell_type": "code",
   "execution_count": null,
   "metadata": {},
   "outputs": [],
   "source": []
  },
  {
   "cell_type": "code",
   "execution_count": null,
   "metadata": {},
   "outputs": [],
   "source": []
  }
 ],
 "metadata": {
  "kernelspec": {
   "display_name": "Python 2",
   "language": "python",
   "name": "python2"
  },
  "language_info": {
   "codemirror_mode": {
    "name": "ipython",
    "version": 2
   },
   "file_extension": ".py",
   "mimetype": "text/x-python",
   "name": "python",
   "nbconvert_exporter": "python",
   "pygments_lexer": "ipython2",
   "version": "2.7.6"
  }
 },
 "nbformat": 4,
 "nbformat_minor": 2
}
