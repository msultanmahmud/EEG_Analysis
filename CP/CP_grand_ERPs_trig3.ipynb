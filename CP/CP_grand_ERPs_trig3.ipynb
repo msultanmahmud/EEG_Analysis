{
 "cells": [
  {
   "cell_type": "code",
   "execution_count": 1,
   "metadata": {},
   "outputs": [],
   "source": [
    "import shutil, random, os\n",
    "import pandas as pd\n",
    "import matplotlib.pyplot as plt\n",
    "import numpy as np\n",
    "import pandas as pd\n",
    "import pickle"
   ]
  },
  {
   "cell_type": "code",
   "execution_count": 2,
   "metadata": {},
   "outputs": [],
   "source": [
    "# Data path\n",
    "# dirpath='/home/sultan/EEG/Source_Level_Analysis/10msWindow/'\n",
    "#dirpath='/home/sultan/EEG/Source_Level_Analysis/Source_ERP/Small_data_test/'\n",
    "# dirpath='/home/sultan/EEG/CP/CP_Source_data/'\n",
    "dirpath='/home/sultan/EEG/CP/CP_Extracted_CSV_Source_Dk_data/'\n",
    "# dirpath='/home/sultan/EEG/Source_Level_Analysis/Source_ERP/CP_sm_test/'\n",
    "# dirpath=\"/home/sultan/EEG/Source_Level_Analysis/Extracted_CSV_Source_Dk_data/S1/Event_3\""
   ]
  },
  {
   "cell_type": "code",
   "execution_count": 3,
   "metadata": {},
   "outputs": [
    {
     "name": "stdout",
     "output_type": "stream",
     "text": [
      "/home/sultan/EEG/CP/CP_Extracted_CSV_Source_Dk_data/S1/Trig_3/\n",
      "/home/sultan/EEG/CP/CP_Extracted_CSV_Source_Dk_data/S2/Trig_3/\n",
      "/home/sultan/EEG/CP/CP_Extracted_CSV_Source_Dk_data/S3/Trig_3/\n",
      "/home/sultan/EEG/CP/CP_Extracted_CSV_Source_Dk_data/S4/Trig_3/\n",
      "/home/sultan/EEG/CP/CP_Extracted_CSV_Source_Dk_data/S5/Trig_3/\n",
      "/home/sultan/EEG/CP/CP_Extracted_CSV_Source_Dk_data/S6/Trig_3/\n",
      "/home/sultan/EEG/CP/CP_Extracted_CSV_Source_Dk_data/S7/Trig_3/\n",
      "/home/sultan/EEG/CP/CP_Extracted_CSV_Source_Dk_data/S8/Trig_3/\n",
      "/home/sultan/EEG/CP/CP_Extracted_CSV_Source_Dk_data/S9/Trig_3/\n",
      "/home/sultan/EEG/CP/CP_Extracted_CSV_Source_Dk_data/S10/Trig_3/\n",
      "/home/sultan/EEG/CP/CP_Extracted_CSV_Source_Dk_data/S11/Trig_3/\n",
      "/home/sultan/EEG/CP/CP_Extracted_CSV_Source_Dk_data/S12/Trig_3/\n",
      "/home/sultan/EEG/CP/CP_Extracted_CSV_Source_Dk_data/S13/Trig_3/\n",
      "/home/sultan/EEG/CP/CP_Extracted_CSV_Source_Dk_data/S14/Trig_3/\n",
      "/home/sultan/EEG/CP/CP_Extracted_CSV_Source_Dk_data/S15/Trig_3/\n",
      "/home/sultan/EEG/CP/CP_Extracted_CSV_Source_Dk_data/S16/Trig_3/\n",
      "/home/sultan/EEG/CP/CP_Extracted_CSV_Source_Dk_data/S17/Trig_3/\n",
      "/home/sultan/EEG/CP/CP_Extracted_CSV_Source_Dk_data/S18/Trig_3/\n",
      "/home/sultan/EEG/CP/CP_Extracted_CSV_Source_Dk_data/S19/Trig_3/\n",
      "/home/sultan/EEG/CP/CP_Extracted_CSV_Source_Dk_data/S20/Trig_3/\n",
      "/home/sultan/EEG/CP/CP_Extracted_CSV_Source_Dk_data/S21/Trig_3/\n",
      "/home/sultan/EEG/CP/CP_Extracted_CSV_Source_Dk_data/S22/Trig_3/\n",
      "/home/sultan/EEG/CP/CP_Extracted_CSV_Source_Dk_data/S23/Trig_3/\n",
      "/home/sultan/EEG/CP/CP_Extracted_CSV_Source_Dk_data/S24/Trig_3/\n",
      "/home/sultan/EEG/CP/CP_Extracted_CSV_Source_Dk_data/S25/Trig_3/\n",
      "/home/sultan/EEG/CP/CP_Extracted_CSV_Source_Dk_data/S26/Trig_3/\n",
      "/home/sultan/EEG/CP/CP_Extracted_CSV_Source_Dk_data/S27/Trig_3/\n",
      "/home/sultan/EEG/CP/CP_Extracted_CSV_Source_Dk_data/S28/Trig_3/\n",
      "/home/sultan/EEG/CP/CP_Extracted_CSV_Source_Dk_data/S29/Trig_3/\n",
      "/home/sultan/EEG/CP/CP_Extracted_CSV_Source_Dk_data/S30/Trig_3/\n",
      "/home/sultan/EEG/CP/CP_Extracted_CSV_Source_Dk_data/S31/Trig_3/\n",
      "/home/sultan/EEG/CP/CP_Extracted_CSV_Source_Dk_data/S32/Trig_3/\n",
      "/home/sultan/EEG/CP/CP_Extracted_CSV_Source_Dk_data/S33/Trig_3/\n",
      "/home/sultan/EEG/CP/CP_Extracted_CSV_Source_Dk_data/S34/Trig_3/\n",
      "/home/sultan/EEG/CP/CP_Extracted_CSV_Source_Dk_data/S35/Trig_3/\n",
      "/home/sultan/EEG/CP/CP_Extracted_CSV_Source_Dk_data/S36/Trig_3/\n",
      "/home/sultan/EEG/CP/CP_Extracted_CSV_Source_Dk_data/S37/Trig_3/\n",
      "/home/sultan/EEG/CP/CP_Extracted_CSV_Source_Dk_data/S38/Trig_3/\n",
      "/home/sultan/EEG/CP/CP_Extracted_CSV_Source_Dk_data/S39/Trig_3/\n",
      "/home/sultan/EEG/CP/CP_Extracted_CSV_Source_Dk_data/S40/Trig_3/\n",
      "/home/sultan/EEG/CP/CP_Extracted_CSV_Source_Dk_data/S41/Trig_3/\n",
      "/home/sultan/EEG/CP/CP_Extracted_CSV_Source_Dk_data/S42/Trig_3/\n",
      "/home/sultan/EEG/CP/CP_Extracted_CSV_Source_Dk_data/S43/Trig_3/\n",
      "/home/sultan/EEG/CP/CP_Extracted_CSV_Source_Dk_data/S44/Trig_3/\n",
      "/home/sultan/EEG/CP/CP_Extracted_CSV_Source_Dk_data/S45/Trig_3/\n",
      "/home/sultan/EEG/CP/CP_Extracted_CSV_Source_Dk_data/S46/Trig_3/\n",
      "/home/sultan/EEG/CP/CP_Extracted_CSV_Source_Dk_data/S47/Trig_3/\n",
      "/home/sultan/EEG/CP/CP_Extracted_CSV_Source_Dk_data/S48/Trig_3/\n",
      "/home/sultan/EEG/CP/CP_Extracted_CSV_Source_Dk_data/S49/Trig_3/\n",
      "/home/sultan/EEG/CP/CP_Extracted_CSV_Source_Dk_data/S50/Trig_3/\n"
     ]
    },
    {
     "data": {
      "text/plain": [
       "9269"
      ]
     },
     "execution_count": 3,
     "metadata": {},
     "output_type": "execute_result"
    }
   ],
   "source": [
    "a=0;count=0;\n",
    "#sub=[4, 5, 6, 7, 11, 12, 13, 15, 17, 18, 19, 20, 21, 25, 26, 27, 29, 30, 32]; HI=1;\n",
    "# sub=[1, 2 ,3 ,8, 9, 10, 14 ,16, 22 ,23, 24 ,28 ,31]# NH=0;Subject ID number and class labels; \n",
    "# sub=[1,2]\n",
    "sub=range(1,51)\n",
    "Ev=[3];#event number\n",
    "for k in range(0,len(sub)):\n",
    "    for j in range(0,len(Ev)):\n",
    "        pnh=dirpath+'S'+str(sub[k])+'/'+'Trig_'+str(Ev[j])+'/'\n",
    "        dpin=pnh\n",
    "        print dpin\n",
    "        from os import walk\n",
    "        from os.path import isfile, join\n",
    "        f = []\n",
    "        for (dpin, dirnames, filenames) in walk(dpin):\n",
    "            f.extend(join(dpin, x) for x in filenames if x.endswith(\".csv\"))\n",
    "            break\n",
    "        for i in range(0,len(f)):\n",
    "            dd=pd.read_csv(f[i])\n",
    "            dd1=dd.drop(dd.columns[0],axis=1)\n",
    "            a=a+dd1\n",
    "            count=count+1\n",
    "dnhc=pd.DataFrame(a)\n",
    "#         d2.insert(0,'label',np.zeros(len(d2)), True)\n",
    "        # df.insert(2, \"Age\", [21, 23, 24, 21], True)\n",
    "# d2\n",
    "count"
   ]
  },
  {
   "cell_type": "code",
   "execution_count": 4,
   "metadata": {},
   "outputs": [],
   "source": [
    "# dnhc"
   ]
  },
  {
   "cell_type": "markdown",
   "metadata": {},
   "source": [
    "# Writing a pickle file"
   ]
  },
  {
   "cell_type": "code",
   "execution_count": 5,
   "metadata": {},
   "outputs": [],
   "source": [
    "# f = open('hierp.pckl', 'wb')\n",
    "# pickle.dump(dhic,f)\n",
    "# f.close()"
   ]
  },
  {
   "cell_type": "code",
   "execution_count": 6,
   "metadata": {},
   "outputs": [],
   "source": [
    "# f = open('hierp.pckl', 'rb')\n",
    "# obj = pickle.load(f)\n",
    "# f.close()"
   ]
  },
  {
   "cell_type": "markdown",
   "metadata": {},
   "source": [
    "# For a single ROI visualization"
   ]
  },
  {
   "cell_type": "code",
   "execution_count": 7,
   "metadata": {},
   "outputs": [],
   "source": [
    "# # df1.to_csv(fname+'.csv')\n",
    "# t=np.linspace(-200,800,500)\n",
    "# plt.plot(t,dnhc.iloc[0,:].values.T*1e9/count)\n",
    "# plt.xlim(-200, 800)\n",
    "# plt.grid(True)\n",
    "# plt.legend(['lBKS'])\n",
    "# plt.show()"
   ]
  },
  {
   "cell_type": "code",
   "execution_count": 8,
   "metadata": {},
   "outputs": [],
   "source": [
    "# dkr=pd.read_csv(dkpath)\n",
    "rois=[66]\n",
    "leg=['lPT','lPRC','rTRANS']"
   ]
  },
  {
   "cell_type": "code",
   "execution_count": 9,
   "metadata": {},
   "outputs": [
    {
     "data": {
      "image/png": "[encoded data removed]",
      "text/plain": [
       "<Figure size 432x288 with 1 Axes>"
      ]
     },
     "metadata": {
      "needs_background": "light"
     },
     "output_type": "display_data"
    }
   ],
   "source": [
    "# datnhc =pd.read_csv(erppath+nhc)\n",
    "# dnhc=datnhc.iloc[:,1:]\n",
    "t=np.linspace(-200,800,500)\n",
    "# plt.plot(t,dnhc.iloc[[36,37,40,41,48,49,66,67],:].values.T*1e9/count)\n",
    "# plt.plot(t,dnhc.iloc[[36,40,48,66,67],:].values.T*1e9)\n",
    "plt.plot(t,dnhc.iloc[rois,:].values.T*1e9/count)\n",
    "plt.xlim(-200, 800)\n",
    "plt.grid(True)\n",
    "plt.xlabel(\"Time (ms)\")\n",
    "plt.ylabel(\"Voltage(nV)\")\n",
    "plt.title(\"ERPs of trig-3\")\n",
    "# plt.legend('1','2')\n",
    "plt.legend(leg)\n",
    "plt.show()"
   ]
  },
  {
   "cell_type": "code",
   "execution_count": null,
   "metadata": {},
   "outputs": [],
   "source": []
  },
  {
   "cell_type": "code",
   "execution_count": 10,
   "metadata": {},
   "outputs": [],
   "source": [
    "# # df1.to_csv(fname+'.csv')\n",
    "# t=np.linspace(-200,800,500)\n",
    "# # plt.plot(t,dnhc.iloc[[36,37,40,41,48,49,66,67],:].values.T*1e9/count)\n",
    "# plt.plot(t,dnhc.iloc[[36,40,48,66,67],:].values.T/count)\n",
    "# plt.xlim(-200, 800)\n",
    "# plt.grid(True)\n",
    "# plt.xlabel(\"Time (ms)\")\n",
    "# plt.ylabel(\"Voltage(nV)\")\n",
    "# plt.title(\"Combined 1 and 5 Trigers\")\n",
    "# plt.legend('1','2')\n",
    "# plt.show()"
   ]
  },
  {
   "cell_type": "markdown",
   "metadata": {},
   "source": [
    "# Write csv"
   ]
  },
  {
   "cell_type": "code",
   "execution_count": 11,
   "metadata": {},
   "outputs": [],
   "source": [
    "# dnhc=dnhc/count\n",
    "# despathw=\"/home/sultan/EEG/Source_Level_Analysis/Grand_ERPs/\"\n",
    "# dnhc.to_csv(despathw+'NH_clear_grand_erp.csv')"
   ]
  },
  {
   "cell_type": "code",
   "execution_count": 12,
   "metadata": {},
   "outputs": [],
   "source": [
    "# a=0;count=0;\n",
    "# # sub=[4, 5, 6, 7, 11, 12, 13, 15, 17, 18, 19, 20, 21, 25, 26, 27, 29, 30, 32]; HI=1;\n",
    "# subnh=[1, 2 ,3 ,8, 9, 10, 14 ,16, 22 ,23, 24 ,28 ,31]# NH=0;Subject ID number and class labels; \n",
    "# # sub=[1,2]\n",
    "# Ev=[1,2];#event number\n",
    "# for k in range(0,len(subnh)):\n",
    "#     for j in range(0,len(Ev)):\n",
    "#         pnh=dirpath+'S'+str(sub[k])+'/'+'Event_'+str(Ev[j])+'/'\n",
    "#         dpin=pnh\n",
    "#         print dpin\n",
    "#         from os import walk\n",
    "#         from os.path import isfile, join\n",
    "#         f = []\n",
    "#         for (dpin, dirnames, filenames) in walk(dpin):\n",
    "#             f.extend(join(dpin, x) for x in filenames if x.endswith(\".csv\"))\n",
    "#             break\n",
    "#         for i in range(0,len(f)):\n",
    "#             dd=pd.read_csv(f[i])\n",
    "#             dd1=dd.drop(dd.columns[0],axis=1)\n",
    "#             a=a+dd1\n",
    "#             count=count+1\n",
    "#         dnhc=pd.DataFrame(a)\n",
    "# #         d2.insert(0,'label',np.zeros(len(d2)), True)\n",
    "#         # df.insert(2, \"Age\", [21, 23, 24, 21], True)\n",
    "# # d2\n",
    "# count"
   ]
  },
  {
   "cell_type": "code",
   "execution_count": 13,
   "metadata": {},
   "outputs": [],
   "source": [
    "# dall=pd.concat([d2, dhi])"
   ]
  },
  {
   "cell_type": "code",
   "execution_count": 14,
   "metadata": {},
   "outputs": [],
   "source": [
    "#  dall.to_csv('10ms_all_erp'+'.csv')"
   ]
  },
  {
   "cell_type": "code",
   "execution_count": 15,
   "metadata": {},
   "outputs": [],
   "source": [
    "# df1.to_csv(fname+'.csv')\n",
    "# t=np.linspace(-10,200,106)\n",
    "# plt.plot(t,dnhc.iloc[50:52,:].values.T*1e9/count)\n",
    "# plt.xlim(-10, 210)\n",
    "# plt.grid(True)\n",
    "# plt.show()"
   ]
  },
  {
   "cell_type": "code",
   "execution_count": 16,
   "metadata": {},
   "outputs": [],
   "source": [
    "# plt.plot(t,dhic.iloc[1:4,:].T*1e9/count)\n",
    "# plt.grid()\n",
    "# plt.show()"
   ]
  },
  {
   "cell_type": "code",
   "execution_count": 19,
   "metadata": {},
   "outputs": [],
   "source": [
    "dsp='/home/sultan/EEG/CP/CP_Extracted_CSV_Source_Dk_data/S1/Trig_3/S1Trig3_t1.csv'\n",
    "dd1=pd.read_csv(dsp)"
   ]
  },
  {
   "cell_type": "code",
   "execution_count": null,
   "metadata": {},
   "outputs": [],
   "source": [
    "# d1=dd1.iloc[0,1:]\n",
    "# # plt.plot(t,dnhc.iloc[[36,40,48,66,67],:].values.T*1e9/count)\n",
    "# plt.plot(t,d1*1e9)\n",
    "# plt.xlim(-200, 800)\n",
    "# plt.grid(True)\n",
    "# plt.xlabel(\"Time (ms)\")\n",
    "# plt.ylabel(\"Voltage(nV)\")\n",
    "# plt.title(\"Combined 1 and 5 Trigers\")\n",
    "# # plt.legend('1','2')\n",
    "# plt.show()"
   ]
  },
  {
   "cell_type": "code",
   "execution_count": null,
   "metadata": {},
   "outputs": [],
   "source": [
    "t=np.linspace(-200,800,500)\n",
    "# plt.plot(t,dnhc.iloc[[36,37,40,41,48,49,66,67],:].values.T*1e9/count)\n",
    "# plt.plot(t,dnhc.iloc[[36,40,48,66,67],:].values.T*1e9)\n",
    "plt.plot(t,dd1.iloc[rois,1:].values.T*1e9)\n",
    "plt.xlim(-200, 800)\n",
    "plt.grid(True)\n",
    "plt.xlabel(\"Time (ms)\")\n",
    "plt.ylabel(\"Voltage(nV)\")\n",
    "plt.title(\"single trial_trig_3\")\n",
    "# plt.legend('1','2')\n",
    "plt.legend(leg)\n",
    "plt.show()"
   ]
  },
  {
   "cell_type": "code",
   "execution_count": null,
   "metadata": {},
   "outputs": [],
   "source": [
    "# dd1"
   ]
  },
  {
   "cell_type": "markdown",
   "metadata": {},
   "source": [
    "# Here is the 8 ROIs"
   ]
  },
  {
   "cell_type": "code",
   "execution_count": null,
   "metadata": {},
   "outputs": [],
   "source": [
    "# leg1=['lPOP','rPOP','lPT', 'rPT','lPRC','rPRC','lTRANS','rTRANS']\n",
    "# rois1=[36,37,40,41,48,49,66,67]\n",
    "# dd1.iloc[rois,:]"
   ]
  },
  {
   "cell_type": "code",
   "execution_count": null,
   "metadata": {},
   "outputs": [],
   "source": []
  }
 ],
 "metadata": {
  "kernelspec": {
   "display_name": "Python 2",
   "language": "python",
   "name": "python2"
  },
  "language_info": {
   "codemirror_mode": {
    "name": "ipython",
    "version": 2
   },
   "file_extension": ".py",
   "mimetype": "text/x-python",
   "name": "python",
   "nbconvert_exporter": "python",
   "pygments_lexer": "ipython2",
   "version": "2.7.6"
  }
 },
 "nbformat": 4,
 "nbformat_minor": 2
}
