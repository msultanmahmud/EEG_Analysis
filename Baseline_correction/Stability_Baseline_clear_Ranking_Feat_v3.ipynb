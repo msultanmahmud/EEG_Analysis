{
 "cells": [
  {
   "cell_type": "code",
   "execution_count": 1,
   "metadata": {},
   "outputs": [],
   "source": [
    "# Import library\n",
    "import pandas as pd\n",
    "import numpy as np\n",
    "from sklearn.model_selection import train_test_split,ShuffleSplit\n",
    "from sklearn import svm\n",
    "import sys\n",
    "# sys.path.append('/home/ralfahad/PythonUtility/PTE')\n",
    "# from PhaseTE_MF import PhaseTE_MF\n",
    "from scipy import stats\n",
    "import seaborn as sns\n",
    "from matplotlib import pyplot as plt\n",
    "from collections import Counter\n",
    "import warnings\n",
    "from sklearn import svm, metrics,preprocessing\n",
    "from sklearn.model_selection import train_test_split, GridSearchCV\n",
    "from sklearn.metrics import accuracy_score,confusion_matrix,roc_curve, auc,classification_report\n",
    "from matplotlib import pyplot as plt\n",
    "from collections import Counter\n",
    "from scipy.stats import norm\n",
    "# from sklearn import metrics\n",
    "# import seaborn as sns; sns.set(font_scale=1.2)\n",
    "%matplotlib inline\n",
    "warnings.filterwarnings('ignore')"
   ]
  },
  {
   "cell_type": "code",
   "execution_count": 2,
   "metadata": {},
   "outputs": [
    {
     "data": {
      "text/html": [
       "<div>\n",
       "<style scoped>\n",
       "    .dataframe tbody tr th:only-of-type {\n",
       "        vertical-align: middle;\n",
       "    }\n",
       "\n",
       "    .dataframe tbody tr th {\n",
       "        vertical-align: top;\n",
       "    }\n",
       "\n",
       "    .dataframe thead th {\n",
       "        text-align: right;\n",
       "    }\n",
       "</style>\n",
       "<table border=\"1\" class=\"dataframe\">\n",
       "  <thead>\n",
       "    <tr style=\"text-align: right;\">\n",
       "      <th></th>\n",
       "      <th>Unnamed: 0</th>\n",
       "      <th>label</th>\n",
       "      <th>0</th>\n",
       "      <th>1</th>\n",
       "      <th>2</th>\n",
       "      <th>3</th>\n",
       "      <th>4</th>\n",
       "      <th>5</th>\n",
       "      <th>6</th>\n",
       "      <th>7</th>\n",
       "      <th>...</th>\n",
       "      <th>1418</th>\n",
       "      <th>1419</th>\n",
       "      <th>1420</th>\n",
       "      <th>1421</th>\n",
       "      <th>1422</th>\n",
       "      <th>1423</th>\n",
       "      <th>1424</th>\n",
       "      <th>1425</th>\n",
       "      <th>1426</th>\n",
       "      <th>1427</th>\n",
       "    </tr>\n",
       "  </thead>\n",
       "  <tbody>\n",
       "    <tr>\n",
       "      <th>0</th>\n",
       "      <td>0</td>\n",
       "      <td>0.0</td>\n",
       "      <td>7.534168e-11</td>\n",
       "      <td>6.231124e-10</td>\n",
       "      <td>-7.806000e-10</td>\n",
       "      <td>-8.063316e-10</td>\n",
       "      <td>4.260259e-10</td>\n",
       "      <td>8.792373e-11</td>\n",
       "      <td>-2.653489e-10</td>\n",
       "      <td>2.412203e-10</td>\n",
       "      <td>...</td>\n",
       "      <td>1.956881e-10</td>\n",
       "      <td>2.334939e-10</td>\n",
       "      <td>-7.550422e-11</td>\n",
       "      <td>1.972939e-10</td>\n",
       "      <td>3.158191e-10</td>\n",
       "      <td>2.702473e-10</td>\n",
       "      <td>2.155772e-10</td>\n",
       "      <td>2.427227e-10</td>\n",
       "      <td>-1.328829e-10</td>\n",
       "      <td>-5.014970e-10</td>\n",
       "    </tr>\n",
       "    <tr>\n",
       "      <th>1</th>\n",
       "      <td>1</td>\n",
       "      <td>0.0</td>\n",
       "      <td>2.256533e-10</td>\n",
       "      <td>1.718130e-10</td>\n",
       "      <td>1.905604e-11</td>\n",
       "      <td>1.276511e-11</td>\n",
       "      <td>-1.379325e-10</td>\n",
       "      <td>-6.269328e-11</td>\n",
       "      <td>-2.930309e-10</td>\n",
       "      <td>2.040993e-10</td>\n",
       "      <td>...</td>\n",
       "      <td>2.343108e-10</td>\n",
       "      <td>2.950671e-11</td>\n",
       "      <td>-2.800265e-10</td>\n",
       "      <td>1.916018e-10</td>\n",
       "      <td>2.510715e-10</td>\n",
       "      <td>1.861655e-10</td>\n",
       "      <td>-2.830894e-10</td>\n",
       "      <td>2.069608e-10</td>\n",
       "      <td>-7.302684e-11</td>\n",
       "      <td>-2.662402e-10</td>\n",
       "    </tr>\n",
       "  </tbody>\n",
       "</table>\n",
       "<p>2 rows × 1430 columns</p>\n",
       "</div>"
      ],
      "text/plain": [
       "   Unnamed: 0  label             0             1             2             3  \\\n",
       "0           0    0.0  7.534168e-11  6.231124e-10 -7.806000e-10 -8.063316e-10   \n",
       "1           1    0.0  2.256533e-10  1.718130e-10  1.905604e-11  1.276511e-11   \n",
       "\n",
       "              4             5             6             7      ...       \\\n",
       "0  4.260259e-10  8.792373e-11 -2.653489e-10  2.412203e-10      ...        \n",
       "1 -1.379325e-10 -6.269328e-11 -2.930309e-10  2.040993e-10      ...        \n",
       "\n",
       "           1418          1419          1420          1421          1422  \\\n",
       "0  1.956881e-10  2.334939e-10 -7.550422e-11  1.972939e-10  3.158191e-10   \n",
       "1  2.343108e-10  2.950671e-11 -2.800265e-10  1.916018e-10  2.510715e-10   \n",
       "\n",
       "           1423          1424          1425          1426          1427  \n",
       "0  2.702473e-10  2.155772e-10  2.427227e-10 -1.328829e-10 -5.014970e-10  \n",
       "1  1.861655e-10 -2.830894e-10  2.069608e-10 -7.302684e-11 -2.662402e-10  \n",
       "\n",
       "[2 rows x 1430 columns]"
      ]
     },
     "execution_count": 2,
     "metadata": {},
     "output_type": "execute_result"
    }
   ],
   "source": [
    "#Load the metadata\n",
    "# path='/home/sultan/EEG/Source_Level_Analysis/25sam_10ms_clear_all_erp.csv'\n",
    "# path=\"/home/sultan/EEG/Source_Level_Analysis/50tr10ms_all_clear_erp.csv\"\n",
    "# path=\"/home/sultan/EEG/Source_Level_Analysis/75sam_10ms_clear_all_erp.csv\"\n",
    "# path=\"/home/sultan/EEG/Source_Level_Analysis/Baseline_100sam_10ms_clear_all_erp.csv\"\n",
    "path=\"/home/sultan/EEG/Source_Level_Analysis/100sam_10ms_clear_all_erp.csv\"\n",
    "# path=\"/home/sultan/EEG/Source_Level_Analysis/125sam_10ms_clear_all_erp.csv\"\n",
    "Metadata=pd.read_csv(path)\n",
    "Metadata.head(2)"
   ]
  },
  {
   "cell_type": "code",
   "execution_count": 3,
   "metadata": {},
   "outputs": [],
   "source": [
    "# random state; \n",
    "rs=48;"
   ]
  },
  {
   "cell_type": "code",
   "execution_count": 4,
   "metadata": {},
   "outputs": [
    {
     "data": {
      "text/plain": [
       "((1863, 1428), (1863,))"
      ]
     },
     "execution_count": 4,
     "metadata": {},
     "output_type": "execute_result"
    }
   ],
   "source": [
    "X=Metadata.iloc[:,2:]\n",
    "y=Metadata['label']\n",
    "X.shape,y.shape"
   ]
  },
  {
   "cell_type": "code",
   "execution_count": null,
   "metadata": {},
   "outputs": [],
   "source": []
  },
  {
   "cell_type": "markdown",
   "metadata": {},
   "source": [
    "# Apply SVM on Data"
   ]
  },
  {
   "cell_type": "code",
   "execution_count": 5,
   "metadata": {},
   "outputs": [
    {
     "data": {
      "text/plain": [
       "array([1.e-02, 1.e-01, 1.e+00, 1.e+01, 1.e+02])"
      ]
     },
     "execution_count": 5,
     "metadata": {},
     "output_type": "execute_result"
    }
   ],
   "source": [
    "gamma_range = np.logspace(-2, 2, 5)\n",
    "gamma_range"
   ]
  },
  {
   "cell_type": "code",
   "execution_count": 6,
   "metadata": {},
   "outputs": [
    {
     "name": "stdout",
     "output_type": "stream",
     "text": [
      "(1863, 1428) (1863,)\n",
      "[1.e-02 1.e-01 1.e+00 1.e+01 1.e+02] [0.01, 0.002, 0.00069, 0.0007, 0.0005]\n"
     ]
    }
   ],
   "source": [
    "from sklearn import preprocessing\n",
    "# X=preprocessing.scale(X)\n",
    "scaler = preprocessing.StandardScaler()\n",
    "X = scaler.fit_transform(X)\n",
    "print X.shape,y.shape\n",
    "from sklearn.preprocessing import label_binarize\n",
    "y=label_binarize(np.asarray(y),[0,1])\n",
    "\n",
    "#C_range = np.logspace(-2, 10, 13)\n",
    "# gamma_range = np.logspace(-2, 2, 5)\n",
    "gamma_range = [0.01,0.002,0.00069,0.0007,0.0005]\n",
    "C_range = np.logspace(-2, 2, 5)\n",
    "#gamma_range = np.logspace(-2, 2, 5)\n",
    "\n",
    "print C_range,gamma_range\n"
   ]
  },
  {
   "cell_type": "code",
   "execution_count": null,
   "metadata": {},
   "outputs": [],
   "source": []
  },
  {
   "cell_type": "markdown",
   "metadata": {},
   "source": [
    "## here I disable the l-15 clf_tune....."
   ]
  },
  {
   "cell_type": "code",
   "execution_count": 7,
   "metadata": {},
   "outputs": [],
   "source": [
    "#Classifiaction:\n",
    "# #Splitting\n",
    "from sklearn import preprocessing\n",
    "X_train, X_test, y_train, y_test = train_test_split(X, y, test_size=0.20,random_state=rs)\n",
    "cv = ShuffleSplit(X_train.shape[0], test_size=0.20, random_state=rs)\n",
    "\n",
    "# Define Classifier\n",
    "svr = svm.SVC(kernel='rbf')\n",
    "\n",
    "# Deffine tuning parameter\n",
    "C_range = np.logspace(-2, 2, 5)\n",
    "# gamma_range = np.logspace(-2, 2, 5)\n",
    "gamma_range = [0.01,0.002,0.00069,0.0007,0.0005]\n",
    "param_grid = dict(gamma=gamma_range, C=C_range)\n",
    "# clf_Tune = GridSearchCV(estimator=svr, cv=5, param_grid=param_grid,n_jobs=-1, verbose=True)\n",
    "# clf_Tune.fit(X_train,y_train)\n",
    "# print 'Finish tuning'      "
   ]
  },
  {
   "cell_type": "code",
   "execution_count": 8,
   "metadata": {},
   "outputs": [],
   "source": [
    "# y_p=clf_Tune.best_estimator_.predict(X_test)\n",
    "# print \"Accuracy:\", clf_Tune.score(X_test, y_test)  \n",
    "# # print pred\n",
    "# # print y_test\n",
    "# print \"support:\", len(clf_Tune.best_estimator_.support_vectors_)*100.0/(X_train.shape[0])"
   ]
  },
  {
   "cell_type": "code",
   "execution_count": 9,
   "metadata": {},
   "outputs": [],
   "source": [
    "# # print 'Validation accuracy={}, best {}' .format(clf_Tune.best_score_,clf_Tune.best_params_)\n",
    "# clf_Tune.best_params_\n",
    "# # clf_Tune.best_estimator_"
   ]
  },
  {
   "cell_type": "markdown",
   "metadata": {},
   "source": [
    "## uptothis"
   ]
  },
  {
   "cell_type": "code",
   "execution_count": 10,
   "metadata": {},
   "outputs": [],
   "source": [
    "# # Utility function to move the midpoint of a colormap to be around\n",
    "# # the values of interest.\n",
    "# from matplotlib.colors import Normalize\n",
    "# class MidpointNormalize(Normalize):\n",
    "\n",
    "#     def __init__(self, vmin=None, vmax=None, midpoint=None, clip=False):\n",
    "#         self.midpoint = midpoint\n",
    "#         Normalize.__init__(self, vmin, vmax, clip)\n",
    "\n",
    "#     def __call__(self, value, clip=None):\n",
    "#         x, y = [self.vmin, self.midpoint, self.vmax], [0, 0.5, 1]\n",
    "#         return np.ma.masked_array(np.interp(value, x, y))\n",
    "    \n",
    "# scores = clf_Tune.cv_results_['mean_test_score'].reshape(len(C_range),len(gamma_range))\n",
    "# #print scores.shape,len(C_range),len(gamma_range)\n",
    "# plt.figure(figsize=(8, 6))\n",
    "# #plt.subplots_adjust(left=.2, right=0.95, bottom=0.15, top=0.95)\n",
    "# plt.imshow(scores, interpolation='nearest', cmap=plt.cm.hot, norm=MidpointNormalize(vmin=0.2, midpoint=0.92))\n",
    "# plt.xlabel('gamma')\n",
    "# plt.ylabel('C')\n",
    "# plt.colorbar()\n",
    "# plt.xticks(np.arange(len(gamma_range)), gamma_range, rotation=45)\n",
    "# plt.yticks(np.arange(len(C_range)), C_range)\n",
    "# plt.title('Validation accuracy={}, best {}' .format(clf_Tune.best_score_,clf_Tune.best_params_))\n",
    "\n",
    "# #filename='ParameterTuning'\n",
    "# #save_format='png'\n",
    "# #print filename+'.'+save_format\n",
    "# #pp='home/ralfahad/Pictures'\n",
    "# #plt.savefig(filename+'.'+save_format,dpi=100)\n",
    "# #plt.show()"
   ]
  },
  {
   "cell_type": "markdown",
   "metadata": {},
   "source": [
    "# Find Significant correlation with stability selections "
   ]
  },
  {
   "cell_type": "markdown",
   "metadata": {},
   "source": [
    "### Make the dataset"
   ]
  },
  {
   "cell_type": "code",
   "execution_count": 11,
   "metadata": {},
   "outputs": [
    {
     "data": {
      "text/plain": [
       "array([-0.76432469,  1.32792655, -2.91754842, -3.32632635,  2.68795091,\n",
       "        0.78058946, -0.44020117,  0.92741514,  0.30042852,  0.71271032])"
      ]
     },
     "execution_count": 11,
     "metadata": {},
     "output_type": "execute_result"
    }
   ],
   "source": [
    "# Pre Processing \n",
    "X[0,:10]"
   ]
  },
  {
   "cell_type": "code",
   "execution_count": 12,
   "metadata": {},
   "outputs": [
    {
     "name": "stdout",
     "output_type": "stream",
     "text": [
      "(1863, 1428) (1863, 1)\n"
     ]
    }
   ],
   "source": [
    "from sklearn import preprocessing\n",
    "X=preprocessing.scale(X)\n",
    "# scaler = preprocessing.StandardScaler()\n",
    "# X = scaler.fit_transform(X)\n",
    "print X.shape,y.shape\n",
    "from sklearn.preprocessing import label_binarize\n",
    "y=label_binarize(np.asarray(y),[0,1])"
   ]
  },
  {
   "cell_type": "code",
   "execution_count": 13,
   "metadata": {},
   "outputs": [],
   "source": [
    "# np.var(X[:,1])"
   ]
  },
  {
   "cell_type": "markdown",
   "metadata": {},
   "source": [
    "### Randomized Logistic Regression "
   ]
  },
  {
   "cell_type": "code",
   "execution_count": 14,
   "metadata": {},
   "outputs": [],
   "source": [
    "from sklearn.linear_model import (RandomizedLasso, lasso_stability_path,LassoLarsCV)\n",
    "from sklearn.exceptions import ConvergenceWarning\n",
    "\n",
    "#Model Library\n",
    "from sklearn.linear_model import (RandomizedLasso, lasso_stability_path, LassoLarsCV)\n",
    "from sklearn.model_selection import GridSearchCV\n",
    "from sklearn.linear_model import LogisticRegression, RandomizedLogisticRegression\n",
    "from sklearn import svm\n",
    "\n",
    "# Performance analysis library \n",
    "from sklearn.model_selection import KFold, cross_val_score, LeaveOneOut, cross_val_predict\n",
    "from sklearn.metrics import precision_recall_curve\n",
    "from sklearn.metrics import average_precision_score\n",
    "from sklearn.metrics import accuracy_score\n",
    "from sklearn.metrics import roc_curve,auc\n",
    "from sklearn.metrics import classification_report\n",
    "from sklearn.metrics import confusion_matrix\n",
    "\n",
    "\n",
    "# preprocessing\n",
    "from sklearn.preprocessing import Imputer\n",
    "from sklearn.model_selection import train_test_split # test train split\n",
    "from sklearn.model_selection import ShuffleSplit"
   ]
  },
  {
   "cell_type": "code",
   "execution_count": 15,
   "metadata": {},
   "outputs": [
    {
     "data": {
      "text/plain": [
       "array([0.00395078])"
      ]
     },
     "execution_count": 15,
     "metadata": {},
     "output_type": "execute_result"
    }
   ],
   "source": [
    "with warnings.catch_warnings():\n",
    "    #warnings.simplefilter('ignore', UserWarning)\n",
    "    warnings.simplefilter('ignore', ConvergenceWarning)\n",
    "    lars_cv = LassoLarsCV(cv=5).fit(X, y)\n",
    "# print lars_cv.alpha_\n",
    "lars_cv.alphas_"
   ]
  },
  {
   "cell_type": "code",
   "execution_count": 16,
   "metadata": {},
   "outputs": [
    {
     "name": "stdout",
     "output_type": "stream",
     "text": [
      "[0.00395078 0.0035557  0.00316062 0.00276555 0.00237047 0.00197539\n",
      " 0.00158031 0.00118523 0.00079016 0.00039508]\n"
     ]
    }
   ],
   "source": [
    "# Run the RandomizedLasso: we use a paths going down to .1*alpha_max\n",
    "# to avoid exploring the regime in which very noisy variables enter\n",
    "# the model\n",
    "alphas = np.linspace(lars_cv.alphas_[0], .1 * lars_cv.alphas_[0], 10)\n",
    "print alphas\n",
    "clf = RandomizedLasso(alpha=alphas,random_state=rs,max_iter=1000).fit(X, y)"
   ]
  },
  {
   "cell_type": "code",
   "execution_count": 17,
   "metadata": {},
   "outputs": [
    {
     "data": {
      "text/plain": [
       "array([0.04 , 0.   , 0.025, ..., 0.16 , 0.005, 0.005])"
      ]
     },
     "execution_count": 17,
     "metadata": {},
     "output_type": "execute_result"
    }
   ],
   "source": [
    "clf.scores_"
   ]
  },
  {
   "cell_type": "code",
   "execution_count": 18,
   "metadata": {},
   "outputs": [],
   "source": [
    "# # Rank the Features according to the importance\n",
    "# names=range(0,1428) # Feature names used as 1-1428 features\n",
    "# cn=np.asarray(names) # converted as numpy.ndarray\n",
    "# # print \"Features sorted by their score:\"\n",
    "# b= sorted(zip(map(lambda x: round(x, 4), clf.scores_), cn), reverse=True)\n",
    "# bb=np.asarray(b)\n",
    "# rakfe=bb[bb[:,0]>0.34]\n",
    "# ROIs=rakfe[:,1]%68"
   ]
  },
  {
   "cell_type": "code",
   "execution_count": 19,
   "metadata": {},
   "outputs": [],
   "source": [
    "# # print \"Features sorted by their score:\"\n",
    "# b= sorted(zip(map(lambda x: round(x, 4), clf.scores_), \n",
    "#                  cn), reverse=True)"
   ]
  },
  {
   "cell_type": "code",
   "execution_count": 20,
   "metadata": {},
   "outputs": [],
   "source": [
    "# bb=np.asarray(b)\n",
    "# # rf=np.where(bb[:,0]>0.7)\n",
    "# # ifea=np.squeeze(np.asarray(np.where(clf.scores_>=0.815)))\n",
    "# ra=bb[bb[:,0]>0.50]\n",
    "# # r=bb[e]\n",
    "# ra[:,1]%68"
   ]
  },
  {
   "cell_type": "code",
   "execution_count": 21,
   "metadata": {},
   "outputs": [],
   "source": [
    "# ind=np.where(clf.scores_>=0.710)\n",
    "# ind"
   ]
  },
  {
   "cell_type": "code",
   "execution_count": 22,
   "metadata": {},
   "outputs": [
    {
     "data": {
      "image/png": "[encoded data removed]",
      "text/plain": [
       "<Figure size 432x288 with 1 Axes>"
      ]
     },
     "metadata": {
      "needs_background": "light"
     },
     "output_type": "display_data"
    }
   ],
   "source": [
    "from matplotlib.ticker import FormatStrFormatter\n",
    "data=clf.scores_\n",
    "fig, ax = plt.subplots()\n",
    "counts, bins, patches = ax.hist(data,bins=np.round(0.1*np.arange(0,10),2) ,edgecolor='gray')\n",
    "\n",
    "# Set the ticks to be at the edges of the bins.\n",
    "ax.set_xticks(bins)\n",
    "\n",
    "# Set the xaxis's tick labels to be formatted with 1 decimal place...\n",
    "ax.xaxis.set_major_formatter(FormatStrFormatter('%0.1f'))\n",
    "\n",
    "\n",
    "# Label the raw counts and the percentages below the x-axis...\n",
    "bin_centers = 0.5 * np.diff(bins) + bins[:-1]\n",
    "for count, x in zip(counts, bin_centers):\n",
    "    # Label the raw counts\n",
    "    ax.annotate(str(count), xy=(x, 0), xycoords=('data', 'axes fraction'),\n",
    "        xytext=(0, -18), textcoords='offset points', va='top', ha='center')\n",
    "\n",
    "    # Label the percentages\n",
    "    percent = '%0.0f%%' % (100 * float(count) / counts.sum())\n",
    "    ax.annotate(percent, xy=(x, 0), xycoords=('data', 'axes fraction'),\n",
    "        xytext=(0, -32), textcoords='offset points', va='top', ha='center')\n",
    "\n",
    "\n",
    "# Give ourselves some more room at the bottom of the plot\n",
    "plt.subplots_adjust(bottom=0.15)\n",
    "plt.grid(True)\n",
    "plt.show()"
   ]
  },
  {
   "cell_type": "markdown",
   "metadata": {},
   "source": [
    "### Find the optimal threshold"
   ]
  },
  {
   "cell_type": "code",
   "execution_count": 23,
   "metadata": {},
   "outputs": [
    {
     "data": {
      "text/plain": [
       "array([0. , 0.1, 0.2, 0.3, 0.4, 0.5, 0.6, 0.7, 0.8, 0.9])"
      ]
     },
     "execution_count": 23,
     "metadata": {},
     "output_type": "execute_result"
    }
   ],
   "source": [
    "bins"
   ]
  },
  {
   "cell_type": "code",
   "execution_count": 24,
   "metadata": {},
   "outputs": [
    {
     "name": "stdout",
     "output_type": "stream",
     "text": [
      "[0.  0.1 0.2 0.3 0.4 0.5 0.6 0.7 0.8 0.9]\n",
      "[0.  0.1 0.2 0.3 0.4 0.5 0.6 0.7 0.8 0.9]\n"
     ]
    }
   ],
   "source": [
    "Th_2_Bins_Index= np.where((bins<=1.0) & (bins>=0.0)) # take the bins within a range\n",
    "# print Th_2_Bins_Index\n",
    "print bins\n",
    "Th_2_Bins=bins[Th_2_Bins_Index]\n",
    "print Th_2_Bins"
   ]
  },
  {
   "cell_type": "code",
   "execution_count": 25,
   "metadata": {},
   "outputs": [
    {
     "name": "stdout",
     "output_type": "stream",
     "text": [
      "(1863, 1428) (1863, 1)\n",
      "(1490, 1428) (373, 1428) (1490, 1) (373, 1)\n"
     ]
    }
   ],
   "source": [
    "from sklearn import preprocessing\n",
    "X=preprocessing.scale(X)\n",
    "print X.shape,y.shape\n",
    "from sklearn.preprocessing import label_binarize\n",
    "y=label_binarize(np.asarray(y),[0,1])\n",
    "\n",
    "X_train, X_test, y_train, y_test = train_test_split(X, y, test_size=0.2, random_state=rs)\n",
    "print X_train.shape, X_test.shape, y_train.shape, y_test.shape"
   ]
  },
  {
   "cell_type": "code",
   "execution_count": 26,
   "metadata": {},
   "outputs": [
    {
     "data": {
      "text/plain": [
       "array([[ 0.52673018, -0.63979715, -1.01688319, ...,  1.11989014,\n",
       "        -2.08383999, -1.55885557],\n",
       "       [-1.12563783,  1.12418279,  1.02962699, ...,  0.82659307,\n",
       "        -0.83549494, -1.04865222],\n",
       "       [-1.88490753, -0.3109082 , -0.3519917 , ...,  2.9759791 ,\n",
       "        -0.26047832, -1.07367629],\n",
       "       ...,\n",
       "       [ 0.14837194,  0.53353226,  0.28839824, ..., -0.21714022,\n",
       "        -1.07320313, -0.55661556],\n",
       "       [-0.10888931,  0.36788449,  0.13277858, ..., -0.9542855 ,\n",
       "        -0.37220285,  0.08421814],\n",
       "       [ 0.41736576,  1.20093686,  0.59098574, ..., -1.11794028,\n",
       "        -1.46543157, -1.2372456 ]])"
      ]
     },
     "execution_count": 26,
     "metadata": {},
     "output_type": "execute_result"
    }
   ],
   "source": [
    "X_train[:,1:10]"
   ]
  },
  {
   "cell_type": "code",
   "execution_count": 27,
   "metadata": {},
   "outputs": [
    {
     "data": {
      "text/plain": [
       "numpy.ndarray"
      ]
     },
     "execution_count": 27,
     "metadata": {},
     "output_type": "execute_result"
    }
   ],
   "source": [
    "type(X_train)#[:,np.squeeze(np.asarray(np.where(clf.scores_>=0.16)))].shape#,y_train"
   ]
  },
  {
   "cell_type": "code",
   "execution_count": 28,
   "metadata": {},
   "outputs": [
    {
     "name": "stdout",
     "output_type": "stream",
     "text": [
      "Fitting 5 folds for each of 65 candidates, totalling 325 fits\n"
     ]
    },
    {
     "name": "stderr",
     "output_type": "stream",
     "text": [
      "[Parallel(n_jobs=-1)]: Done  42 tasks      | elapsed:  1.5min\n",
      "[Parallel(n_jobs=-1)]: Done 192 tasks      | elapsed:  6.8min\n",
      "[Parallel(n_jobs=-1)]: Done 325 out of 325 | elapsed: 11.4min finished\n"
     ]
    },
    {
     "data": {
      "text/plain": [
       "GridSearchCV(cv=5, error_score='raise',\n",
       "       estimator=SVC(C=1.0, cache_size=200, class_weight=None, coef0=0.0,\n",
       "  decision_function_shape='ovr', degree=3, gamma='auto', kernel='rbf',\n",
       "  max_iter=-1, probability=False, random_state=None, shrinking=True,\n",
       "  tol=0.001, verbose=False),\n",
       "       fit_params=None, iid=True, n_jobs=-1,\n",
       "       param_grid={'C': [1, 2, 4, 6, 8, 10, 12, 15, 16, 20, 30, 40, 100], 'gamma': [0.01, 0.002, 0.00069, 0.0007, 0.0005]},\n",
       "       pre_dispatch='2*n_jobs', refit=True, return_train_score='warn',\n",
       "       scoring=None, verbose=True)"
      ]
     },
     "execution_count": 28,
     "metadata": {},
     "output_type": "execute_result"
    }
   ],
   "source": [
    "# C_range = np.logspace(-2, 2, 5)\n",
    "C_range = [1,2,4,6,8,10,12,15,16,20,30,40,100]\n",
    "gamma_range = [0.01,0.002,0.00069,0.0007,0.0005]\n",
    "# gamma_range = np.logspace(-2, 2, 5)\n",
    "param_grid = dict(gamma=gamma_range, C=C_range)\n",
    "#clf_Tune = GridSearchCV(estimator=svr, cv=1, param_grid=param_grid,n_jobs=-1)\n",
    "clf_Tune = GridSearchCV(estimator=svr, cv=5, param_grid=param_grid,n_jobs=-1, verbose=True)\n",
    "clf_Tune.fit(X_train[:,np.squeeze(np.asarray(np.where(clf.scores_>=Th_2_Bins[0])))],y_train)"
   ]
  },
  {
   "cell_type": "code",
   "execution_count": 29,
   "metadata": {},
   "outputs": [
    {
     "name": "stdout",
     "output_type": "stream",
     "text": [
      "0.9195710455764075\n"
     ]
    }
   ],
   "source": [
    "# use tuned parameter on to get model\n",
    "y_p = clf_Tune.best_estimator_.predict(X_test[:,np.squeeze(np.asarray(np.where(clf.scores_>=Th_2_Bins[0])))])\n",
    "\n",
    "print accuracy_score(y_test, y_p)"
   ]
  },
  {
   "cell_type": "code",
   "execution_count": 30,
   "metadata": {},
   "outputs": [
    {
     "name": "stdout",
     "output_type": "stream",
     "text": [
      "0.0\n",
      "(1490, 1428)\n",
      "Fitting 5 folds for each of 25 candidates, totalling 125 fits\n"
     ]
    },
    {
     "name": "stderr",
     "output_type": "stream",
     "text": [
      "[Parallel(n_jobs=-1)]: Done  42 tasks      | elapsed:  1.8min\n",
      "[Parallel(n_jobs=-1)]: Done 125 out of 125 | elapsed:  5.1min finished\n"
     ]
    },
    {
     "name": "stdout",
     "output_type": "stream",
     "text": [
      "(1490, 1428) (1490, 1)\n",
      "Finish tuning\n",
      "SVC(C=10.0, cache_size=200, class_weight=None, coef0=0.0,\n",
      "  decision_function_shape='ovr', degree=3, gamma=0.002, kernel='rbf',\n",
      "  max_iter=-1, probability=False, random_state=None, shrinking=True,\n",
      "  tol=0.001, verbose=False)\n",
      "Shape (373, 1428)\n",
      "ACC 0.8766756032171582 0.8376439464674759\n",
      "0.895302013423\n",
      "0.1\n",
      "(1490, 283)\n",
      "Fitting 5 folds for each of 25 candidates, totalling 125 fits\n"
     ]
    },
    {
     "name": "stderr",
     "output_type": "stream",
     "text": [
      "[Parallel(n_jobs=-1)]: Done  42 tasks      | elapsed:   19.8s\n",
      "[Parallel(n_jobs=-1)]: Done 125 out of 125 | elapsed:   52.9s finished\n"
     ]
    },
    {
     "name": "stdout",
     "output_type": "stream",
     "text": [
      "(1490, 283) (1490, 1)\n",
      "Finish tuning\n",
      "SVC(C=10.0, cache_size=200, class_weight=None, coef0=0.0,\n",
      "  decision_function_shape='ovr', degree=3, gamma=0.002, kernel='rbf',\n",
      "  max_iter=-1, probability=False, random_state=None, shrinking=True,\n",
      "  tol=0.001, verbose=False)\n",
      "Shape (373, 283)\n",
      "ACC 0.9222520107238605 0.9166355431061313\n",
      "0.434899328859\n",
      "0.2\n",
      "(1490, 185)\n",
      "Fitting 5 folds for each of 25 candidates, totalling 125 fits\n"
     ]
    },
    {
     "name": "stderr",
     "output_type": "stream",
     "text": [
      "[Parallel(n_jobs=-1)]: Done  42 tasks      | elapsed:   13.7s\n",
      "[Parallel(n_jobs=-1)]: Done 125 out of 125 | elapsed:   37.3s finished\n"
     ]
    },
    {
     "name": "stdout",
     "output_type": "stream",
     "text": [
      "(1490, 185) (1490, 1)\n",
      "Finish tuning\n",
      "SVC(C=100.0, cache_size=200, class_weight=None, coef0=0.0,\n",
      "  decision_function_shape='ovr', degree=3, gamma=0.002, kernel='rbf',\n",
      "  max_iter=-1, probability=False, random_state=None, shrinking=True,\n",
      "  tol=0.001, verbose=False)\n",
      "Shape (373, 185)\n",
      "ACC 0.903485254691689 0.8987239340180516\n",
      "0.392617449664\n",
      "0.3\n",
      "(1490, 122)\n",
      "Fitting 5 folds for each of 25 candidates, totalling 125 fits\n"
     ]
    },
    {
     "name": "stderr",
     "output_type": "stream",
     "text": [
      "[Parallel(n_jobs=-1)]: Done  42 tasks      | elapsed:   10.3s\n",
      "[Parallel(n_jobs=-1)]: Done 125 out of 125 | elapsed:   27.3s finished\n"
     ]
    },
    {
     "name": "stdout",
     "output_type": "stream",
     "text": [
      "(1490, 122) (1490, 1)\n",
      "Finish tuning\n",
      "SVC(C=10.0, cache_size=200, class_weight=None, coef0=0.0,\n",
      "  decision_function_shape='ovr', degree=3, gamma=0.01, kernel='rbf',\n",
      "  max_iter=-1, probability=False, random_state=None, shrinking=True,\n",
      "  tol=0.001, verbose=False)\n",
      "Shape (373, 122)\n",
      "ACC 0.903485254691689 0.8971210706504824\n",
      "0.595302013423\n",
      "0.4\n",
      "(1490, 68)\n",
      "Fitting 5 folds for each of 25 candidates, totalling 125 fits\n"
     ]
    },
    {
     "name": "stderr",
     "output_type": "stream",
     "text": [
      "[Parallel(n_jobs=-1)]: Done  42 tasks      | elapsed:    6.9s\n",
      "[Parallel(n_jobs=-1)]: Done 125 out of 125 | elapsed:   18.3s finished\n"
     ]
    },
    {
     "name": "stdout",
     "output_type": "stream",
     "text": [
      "(1490, 68) (1490, 1)\n",
      "Finish tuning\n",
      "SVC(C=10.0, cache_size=200, class_weight=None, coef0=0.0,\n",
      "  decision_function_shape='ovr', degree=3, gamma=0.01, kernel='rbf',\n",
      "  max_iter=-1, probability=False, random_state=None, shrinking=True,\n",
      "  tol=0.001, verbose=False)\n",
      "Shape (373, 68)\n",
      "ACC 0.9061662198391421 0.9056333644568938\n",
      "0.434899328859\n",
      "0.5\n",
      "(1490, 12)\n",
      "Fitting 5 folds for each of 25 candidates, totalling 125 fits\n"
     ]
    },
    {
     "name": "stderr",
     "output_type": "stream",
     "text": [
      "[Parallel(n_jobs=-1)]: Done  42 tasks      | elapsed:    2.8s\n",
      "[Parallel(n_jobs=-1)]: Done 125 out of 125 | elapsed:    8.0s finished\n"
     ]
    },
    {
     "name": "stdout",
     "output_type": "stream",
     "text": [
      "(1490, 12) (1490, 1)\n",
      "Finish tuning\n",
      "SVC(C=100.0, cache_size=200, class_weight=None, coef0=0.0,\n",
      "  decision_function_shape='ovr', degree=3, gamma=0.01, kernel='rbf',\n",
      "  max_iter=-1, probability=False, random_state=None, shrinking=True,\n",
      "  tol=0.001, verbose=False)\n",
      "Shape (373, 12)\n",
      "ACC 0.7989276139410187 0.7991596638655464\n",
      "0.513422818792\n",
      "0.6\n",
      "(1490, 4)\n",
      "Fitting 5 folds for each of 25 candidates, totalling 125 fits\n"
     ]
    },
    {
     "name": "stderr",
     "output_type": "stream",
     "text": [
      "[Parallel(n_jobs=-1)]: Done  76 tasks      | elapsed:    3.8s\n",
      "[Parallel(n_jobs=-1)]: Done 118 out of 125 | elapsed:    7.4s remaining:    0.4s\n",
      "[Parallel(n_jobs=-1)]: Done 125 out of 125 | elapsed:    7.6s finished\n"
     ]
    },
    {
     "name": "stdout",
     "output_type": "stream",
     "text": [
      "(1490, 4) (1490, 1)\n",
      "Finish tuning\n",
      "SVC(C=10.0, cache_size=200, class_weight=None, coef0=0.0,\n",
      "  decision_function_shape='ovr', degree=3, gamma=0.25, kernel='rbf',\n",
      "  max_iter=-1, probability=False, random_state=None, shrinking=True,\n",
      "  tol=0.001, verbose=False)\n",
      "Shape (373, 4)\n",
      "ACC 0.6487935656836461 0.6430438842203547\n",
      "0.724161073826\n",
      "0.7\n",
      "(1490, 2)\n",
      "Fitting 5 folds for each of 25 candidates, totalling 125 fits\n"
     ]
    },
    {
     "name": "stderr",
     "output_type": "stream",
     "text": [
      "[Parallel(n_jobs=-1)]: Done  76 tasks      | elapsed:    3.6s\n",
      "[Parallel(n_jobs=-1)]: Done 118 out of 125 | elapsed:    6.6s remaining:    0.4s\n",
      "[Parallel(n_jobs=-1)]: Done 125 out of 125 | elapsed:    6.8s finished\n"
     ]
    },
    {
     "name": "stdout",
     "output_type": "stream",
     "text": [
      "(1490, 2) (1490, 1)\n",
      "Finish tuning\n",
      "SVC(C=10.0, cache_size=200, class_weight=None, coef0=0.0,\n",
      "  decision_function_shape='ovr', degree=3, gamma=0.5, kernel='rbf',\n",
      "  max_iter=-1, probability=False, random_state=None, shrinking=True,\n",
      "  tol=0.001, verbose=False)\n",
      "Shape (373, 2)\n",
      "ACC 0.6434316353887399 0.5939620292561469\n",
      "0.746308724832\n",
      "0.8\n",
      "(1490, 2)\n",
      "Fitting 5 folds for each of 25 candidates, totalling 125 fits\n"
     ]
    },
    {
     "name": "stderr",
     "output_type": "stream",
     "text": [
      "[Parallel(n_jobs=-1)]: Done  76 tasks      | elapsed:    3.7s\n",
      "[Parallel(n_jobs=-1)]: Done 118 out of 125 | elapsed:    6.5s remaining:    0.4s\n",
      "[Parallel(n_jobs=-1)]: Done 125 out of 125 | elapsed:    6.8s finished\n"
     ]
    },
    {
     "name": "stdout",
     "output_type": "stream",
     "text": [
      "(1490, 2) (1490, 1)\n",
      "Finish tuning\n",
      "SVC(C=10.0, cache_size=200, class_weight=None, coef0=0.0,\n",
      "  decision_function_shape='ovr', degree=3, gamma=0.5, kernel='rbf',\n",
      "  max_iter=-1, probability=False, random_state=None, shrinking=True,\n",
      "  tol=0.001, verbose=False)\n",
      "Shape (373, 2)\n",
      "ACC 0.6434316353887399 0.5939620292561469\n",
      "0.746308724832\n",
      "0.9\n",
      "(1490, 0)\n",
      "Fitting 5 folds for each of 25 candidates, totalling 125 fits\n",
      "error at: 0.9\n"
     ]
    }
   ],
   "source": [
    "# #Splitting\n",
    "X_train, X_test, y_train, y_test = train_test_split(X, y, test_size=0.2, random_state=rs)\n",
    "#cv = ShuffleSplit(X_train.shape[0], test_size=0.2, random_state=rs)\n",
    "\n",
    "# Define Classifier\n",
    "svr = svm.SVC(kernel='rbf')\n",
    "\n",
    "# Deffine tuning parameter\n",
    "# C_range = np.logspace(-2, 10, 13)\n",
    "# gamma_range = np.logspace(-9, 3, 13)\n",
    "\n",
    "C_range = np.logspace(-2, 2, 5)\n",
    "gamma_range = [1,0.5, 0.25,0.01,0.002]\n",
    "# gamma_range = [0.01,0.002,0.0006,0.0007]\n",
    "# gamma_range = [0.1,0.01,0.002,0.0005,0.0006,0.0007,]\n",
    "# C_range = [20, 30,50]\n",
    "# C_range=[1000,1500]\n",
    "# C_range = [1,2,4,6,8,10,12,15,16,20,30,40,100]\n",
    "# gamma_range = [0.01,0.015, 0.018, 0.002,0.003,0.0004, 0.0005,0.0006,0.0007]; # 0.0007=1/1428 1428 = no. of features\n",
    "# gamma_range = np.logspace(-2, 2, 5)\n",
    "param_grid = dict(gamma=gamma_range, C=C_range)\n",
    "#clf_Tune = GridSearchCV(estimator=svr, cv=1, param_grid=param_grid,n_jobs=-1)\n",
    "clf_Tune = GridSearchCV(estimator=svr, cv=5, param_grid=param_grid,n_jobs=-1, verbose=True)\n",
    "##  Define LeaveOneOutCrossValidation\n",
    "#loocv = LeaveOneOut()\n",
    "ACC_Th2=[]\n",
    "AUC_Th2=[]\n",
    "SV=[]\n",
    "Bins=[]\n",
    "Fsc=[]\n",
    "for i in Th_2_Bins:\n",
    "    print i\n",
    "    try:\n",
    "        print X_train[:,np.squeeze(np.asarray(np.where(clf.scores_>=i)))].shape\n",
    "        \n",
    "        #Hyper parameter Tuning \n",
    "        clf_Tune.fit(X_train[:,np.squeeze(np.asarray(np.where(clf.scores_>=i)))],y_train)\n",
    "        print X_train[:,np.squeeze(np.asarray(np.where(clf.scores_>=i)))].shape ,y_train.shape\n",
    "        print 'Finish tuning'\n",
    "        print clf_Tune.best_estimator_\n",
    "\n",
    "        # use tuned parameter on to get model\n",
    "        y_p = clf_Tune.best_estimator_.predict(X_test[:,np.squeeze(np.asarray(np.where(clf.scores_>=i)))])\n",
    "\n",
    "        ACC_Th2_T=accuracy_score(y_test, y_p)\n",
    "        fpr, tpr, thresholds = metrics.roc_curve(y_test,y_p)\n",
    "        AUC_Th2_T=metrics.auc(fpr, tpr)\n",
    "        perf=classification_report(y_test, y_p)\n",
    "        print 'Shape', X_test[:,np.squeeze(np.asarray(np.where(clf.scores_>=i)))].shape\n",
    "        print 'ACC',ACC_Th2_T,AUC_Th2_T\n",
    "        SVe=float(len(clf_Tune.best_estimator_.support_vectors_))/X_train[:,np.squeeze(np.asarray(np.where(clf.scores_>=i)))].shape[0]\n",
    "        print SVe\n",
    "        SV.append(SVe)\n",
    "#         print 'Report',classification_report(y_test, y_p)\n",
    "        ACC_Th2.append(ACC_Th2_T)\n",
    "        AUC_Th2.append(AUC_Th2_T)\n",
    "        Fsc.append(perf)\n",
    "        Bins.append(i)\n",
    "    except:\n",
    "        print 'error at:',i\n",
    "    # false_positive_rate, true_positive_rate, thresholds = roc_curve(y_test, y_p)\n",
    "    # roc_auc_T = auc(false_positive_rate, true_positive_rate)\n",
    "    # print 'AUC',roc_auc_T\n",
    "    # AUC_Th2.append(roc_auc_T)"
   ]
  },
  {
   "cell_type": "code",
   "execution_count": 31,
   "metadata": {},
   "outputs": [],
   "source": [
    "# accuracy_score(y_test, y_p)\n",
    "# MulticlassAuc(y_test,y_p)"
   ]
  },
  {
   "cell_type": "code",
   "execution_count": 32,
   "metadata": {},
   "outputs": [
    {
     "name": "stdout",
     "output_type": "stream",
     "text": [
      "0.8766756032171582\n",
      "             precision    recall  f1-score   support\n",
      "\n",
      "          0       0.95      0.70      0.80       135\n",
      "          1       0.85      0.98      0.91       238\n",
      "\n",
      "avg / total       0.89      0.88      0.87       373\n",
      "\n",
      "0.9222520107238605\n",
      "             precision    recall  f1-score   support\n",
      "\n",
      "          0       0.89      0.90      0.89       135\n",
      "          1       0.94      0.94      0.94       238\n",
      "\n",
      "avg / total       0.92      0.92      0.92       373\n",
      "\n",
      "0.903485254691689\n",
      "             precision    recall  f1-score   support\n",
      "\n",
      "          0       0.86      0.88      0.87       135\n",
      "          1       0.93      0.92      0.92       238\n",
      "\n",
      "avg / total       0.90      0.90      0.90       373\n",
      "\n",
      "0.903485254691689\n",
      "             precision    recall  f1-score   support\n",
      "\n",
      "          0       0.86      0.87      0.87       135\n",
      "          1       0.93      0.92      0.92       238\n",
      "\n",
      "avg / total       0.90      0.90      0.90       373\n",
      "\n",
      "0.9061662198391421\n",
      "             precision    recall  f1-score   support\n",
      "\n",
      "          0       0.85      0.90      0.87       135\n",
      "          1       0.94      0.91      0.93       238\n",
      "\n",
      "avg / total       0.91      0.91      0.91       373\n",
      "\n",
      "0.7989276139410187\n",
      "             precision    recall  f1-score   support\n",
      "\n",
      "          0       0.69      0.80      0.74       135\n",
      "          1       0.88      0.80      0.84       238\n",
      "\n",
      "avg / total       0.81      0.80      0.80       373\n",
      "\n",
      "0.6487935656836461\n",
      "             precision    recall  f1-score   support\n",
      "\n",
      "          0       0.51      0.62      0.56       135\n",
      "          1       0.76      0.66      0.71       238\n",
      "\n",
      "avg / total       0.67      0.65      0.65       373\n",
      "\n",
      "0.6434316353887399\n",
      "             precision    recall  f1-score   support\n",
      "\n",
      "          0       0.51      0.41      0.46       135\n",
      "          1       0.70      0.77      0.73       238\n",
      "\n",
      "avg / total       0.63      0.64      0.63       373\n",
      "\n",
      "0.6434316353887399\n",
      "             precision    recall  f1-score   support\n",
      "\n",
      "          0       0.51      0.41      0.46       135\n",
      "          1       0.70      0.77      0.73       238\n",
      "\n",
      "avg / total       0.63      0.64      0.63       373\n",
      "\n"
     ]
    }
   ],
   "source": [
    "for i in range(0,9):\n",
    "    print ACC_Th2[i] \n",
    "    print (Fsc[i])"
   ]
  },
  {
   "cell_type": "code",
   "execution_count": 33,
   "metadata": {},
   "outputs": [],
   "source": [
    "        \n",
    "#         ACC_Th2_T=accuracy_score(y_test, y_p)\n",
    "#         AUC_Th2_T=MulticlassAuc(y_test,y_p)\n",
    "#         print 'Shape', X_test[:,np.squeeze(np.asarray(np.where(clf.scores_>=i)))].shape\n",
    "#         print 'ACC',ACC_Th2_T,AUC_Th2_T\n",
    "#         ACC_Th2.append(ACC_Th2_T)\n",
    "#         AUC_Th2.append(AUC_Th2_T)\n",
    "#         Bins.append(i)\n",
    "#     except:\n",
    "#         print 'error at:',i\n",
    "#     # false_positive_rate, true_positive_rate, thresholds = roc_curve(y_test, y_p)\n",
    "#     # roc_auc_T = auc(false_positive_rate, true_positive_rate)\n",
    "#     # print 'AUC',roc_auc_T\n",
    "#     # AUC_Th2.append(roc_auc_T)"
   ]
  },
  {
   "cell_type": "code",
   "execution_count": 34,
   "metadata": {},
   "outputs": [
    {
     "data": {
      "text/plain": [
       "[0.8766756032171582,\n",
       " 0.9222520107238605,\n",
       " 0.903485254691689,\n",
       " 0.903485254691689,\n",
       " 0.9061662198391421,\n",
       " 0.7989276139410187,\n",
       " 0.6487935656836461,\n",
       " 0.6434316353887399,\n",
       " 0.6434316353887399]"
      ]
     },
     "execution_count": 34,
     "metadata": {},
     "output_type": "execute_result"
    }
   ],
   "source": [
    "ACC_Th2 "
   ]
  },
  {
   "cell_type": "code",
   "execution_count": 35,
   "metadata": {
    "scrolled": true
   },
   "outputs": [
    {
     "data": {
      "image/png": "[encoded data removed]",
      "text/plain": [
       "<Figure size 432x288 with 3 Axes>"
      ]
     },
     "metadata": {
      "needs_background": "light"
     },
     "output_type": "display_data"
    }
   ],
   "source": [
    "from matplotlib.ticker import FormatStrFormatter\n",
    "Th_2_Bins=np.asarray(Bins)\n",
    "data=clf.scores_\n",
    "fig, ax = plt.subplots()\n",
    "fig.subplots_adjust(right=0.75)\n",
    "#counts, bins, patches = ax.hist(data,10 ,edgecolor='gray')\n",
    "counts, bins, patches = ax.hist(data,bins=np.round(0.1*np.arange(0,10),2),facecolor=\"None\",edgecolor='blue', lw=1)\n",
    "# Set the ticks to be at the edges of the bins.\n",
    "ax.set_xticks(bins)\n",
    "# Set the xaxis's tick labels to be formatted with 1 decimal place...\n",
    "ax.xaxis.set_major_formatter(FormatStrFormatter('%0.1f'))\n",
    "\n",
    "\n",
    "bin_centers = 0.5 * np.diff(bins) + bins[:-1]\n",
    "\n",
    "#show % value\n",
    "for count, x in zip(counts, bin_centers):\n",
    "    # Label the raw counts\n",
    "    ax.annotate(int(count), xy=(x, 0), xycoords=('data', 'axes fraction'),\n",
    "        xytext=(0, -18), textcoords='offset points', va='top', ha='center')\n",
    "\n",
    "    # Label the percentages\n",
    "    percent = '%0.0f%%' % (100 * float(count) / counts.sum())\n",
    "    ax.annotate(percent, xy=(x, 0), xycoords=('data', 'axes fraction'),\n",
    "        xytext=(0, -32), textcoords='offset points', va='top', ha='center')\n",
    "    \n",
    "    # Give ourselves some more room at the bottom of the plot\n",
    "\n",
    "ax2 = ax.twinx()\n",
    "ax2.plot(Th_2_Bins,AUC_Th2, color='red',ls='dashed' )#,THbin,CCC_Per)\n",
    "ax2.set_frame_on(False)\n",
    "ax2.set_ylabel('AUC', color='red')\n",
    "ax2.patch.set_visible(False)\n",
    "for i,j in zip(Th_2_Bins,AUC_Th2):\n",
    "    #ax2.annotate((\"%.2f\" % j),xy=(i+0.04,j-0.01), color ='red') ##############################\n",
    "    ax2.annotate((\"%.3f\" % j),xy=(i,j-0.01), color ='red') ##############################\n",
    "    ax2.plot(i,j, marker='o', markersize=7, color=\"red\")\n",
    "\n",
    "\n",
    "    \n",
    "ax3 = ax.twinx()\n",
    "ax3.plot(Th_2_Bins,ACC_Th2, color='black')#,THbin,CCC_Per)\n",
    "ax3.set_frame_on(False)\n",
    "ax3.set_ylabel('Accuracy', color='black')\n",
    "\n",
    "\n",
    "\n",
    "\n",
    "\n",
    "\n",
    "for i,j in zip(Th_2_Bins,ACC_Th2):\n",
    "     #ax3.annotate((\"%0.2f\" % j),xy=(i-0.05,j), color='black')\n",
    "    #ax3.annotate((\"%0.2f\" % j),xy=(i-0.1,j), color='black')##################################\n",
    "    ax3.annotate((\"%0.3f\" % j),xy=(i,j+0.01), color='black')##################################\n",
    "    ax3.plot(i,j, marker='*', markersize=10, color=\"black\")\n",
    "    #ax3.annotate((\"%0.2f,%0.2f\" % (i,j)),xy=(i-0.05,j), color='green')\n",
    "    #ax3.annotate((\"%0.3f\" %j),xy=(i,j), color='green')\n",
    "\n",
    "\n",
    "    \n",
    "    \n",
    "    \n",
    "    \n",
    "# Move the last y-axis spine over to the right by 20% of the width of the axes\n",
    "ax3.spines['right'].set_position(('axes', 1.15))\n",
    "ax3.spines['right'].set_visible(True)\n",
    "\n",
    "# To make the border of the right-most axis visible, we need to turn the frame\n",
    "# on. This hides the other plots, however, so we need to turn its fill off.\n",
    "ax3.set_frame_on(True)\n",
    "ax3.patch.set_visible(False)\n",
    "\n",
    "\n",
    "#ax.plot(bins,np.linspace(0,1,11))\n",
    "plt.subplots_adjust(bottom=0.15)\n",
    "plt.grid(False,which='both')\n",
    "ax.set_ylabel('Frequency')\n",
    "ax.yaxis.label.set_color('Blue')\n",
    "plt.title(\"Clear\")\n",
    "plt.tight_layout()\n",
    "# #Save the image into a folder\n",
    "\n",
    "filename='StabilitySelection_clear'\n",
    "save_format='png'\n",
    "#print filename+'.'+save_format\n",
    "#pp='home/ralfahad/Pictures'\n",
    "#plt.savefig(filename+'.'+save_format,dpi=100)\n",
    "# plt.savefig(filename+'.'+save_format,dpi=300, bbox_inches='tight')\n",
    "plt.show()\n",
    "\n"
   ]
  },
  {
   "cell_type": "markdown",
   "metadata": {},
   "source": [
    "# ROIs added"
   ]
  },
  {
   "cell_type": "code",
   "execution_count": 36,
   "metadata": {},
   "outputs": [
    {
     "data": {
      "image/png": "[encoded data removed]",
      "text/plain": [
       "<Figure size 576x432 with 3 Axes>"
      ]
     },
     "metadata": {
      "needs_background": "light"
     },
     "output_type": "display_data"
    }
   ],
   "source": [
    "# roisc=[68,68,61,45,22,8,3,0,2]\n",
    "roisc=[68,64,56,46,35,13,5,2,2]\n",
    "from matplotlib.ticker import FormatStrFormatter\n",
    "Th_2_Bins=np.asarray(Bins)\n",
    "data=clf.scores_\n",
    "fig, ax = plt.subplots(figsize=(8,6))\n",
    "fig.subplots_adjust(right=0.75)\n",
    "#counts, bins, patches = ax.hist(data,10 ,edgecolor='gray')\n",
    "counts, bins, patches = ax.hist(data,bins=np.round(0.1*np.arange(0,10),2),facecolor=\"None\",edgecolor='blue', lw=1)\n",
    "# Set the ticks to be at the edges of the bins.\n",
    "ax.set_xticks(bins)\n",
    "# Set the xaxis's tick labels to be formatted with 1 decimal place...\n",
    "ax.xaxis.set_major_formatter(FormatStrFormatter('%0.1f'))\n",
    "for tick in ax.xaxis.get_major_ticks():\n",
    "                tick.label.set_fontsize(14) \n",
    "\n",
    "bin_centers = 0.5 * np.diff(bins) + bins[:-1]\n",
    "\n",
    "#show % value\n",
    "for count, x,rois in zip(counts, bin_centers,roisc):\n",
    "    # Label the raw counts\n",
    "    ax.annotate(int(count), xy=(x, 0), xycoords=('data', 'axes fraction'),\n",
    "        xytext=(0, -20), fontsize=14,textcoords='offset points', va='top', ha='center')\n",
    "\n",
    "    # Label the percentages\n",
    "    percent = '%0.0f%%' % (100 * float(count) / counts.sum())\n",
    "    ax.annotate(percent, xy=(x, 0), xycoords=('data', 'axes fraction'),\n",
    "        xytext=(0, -40), fontsize=14,textcoords='offset points', va='top', ha='center')\n",
    "    # ROIs\n",
    "    ax.annotate(rois, xy=(x, 0), xycoords=('data', 'axes fraction'),\n",
    "    xytext=(0, -60),fontsize=14, textcoords='offset points', va='top', ha='center')\n",
    "    \n",
    "    # Give ourselves some more room at the bottom of the plot\n",
    "\n",
    "ax2 = ax.twinx()\n",
    "ax2.plot(Th_2_Bins,AUC_Th2, color='red',ls='dashed',alpha=0.5)#,THbin,CCC_Per)\n",
    "ax2.set_frame_on(False)\n",
    "ax2.set_ylabel('AUC', color='red',fontsize=15)\n",
    "ax2.patch.set_visible(False)\n",
    "for i,j in zip(Th_2_Bins,AUC_Th2):\n",
    "    #ax2.annotate((\"%.2f\" % j),xy=(i+0.04,j-0.01), color ='red') ##############################\n",
    "    ax2.annotate((\"%.3f\" % j),xy=(i,j-0.01), color ='red',fontsize=12) ##############################\n",
    "    ax2.plot(i,j, marker='o', markersize=7, color=\"red\")\n",
    "\n",
    "\n",
    "    \n",
    "ax3 = ax.twinx()\n",
    "ax3.plot(Th_2_Bins,ACC_Th2, color='black')#,THbin,CCC_Per)\n",
    "ax3.set_frame_on(False)\n",
    "ax3.set_ylabel('Accuracy', color='black',fontsize=15)\n",
    "\n",
    "\n",
    "\n",
    "\n",
    "\n",
    "\n",
    "for i,j in zip(Th_2_Bins,ACC_Th2):\n",
    "     #ax3.annotate((\"%0.2f\" % j),xy=(i-0.05,j), color='black')\n",
    "    #ax3.annotate((\"%0.2f\" % j),xy=(i-0.1,j), color='black')##################################\n",
    "    ax3.annotate((\"%0.3f\" % j),xy=(i,j+0.015), color='black',fontsize=12)##################################\n",
    "    ax3.plot(i,j, marker='*', markersize=10, color=\"black\",alpha=0.2)\n",
    "    #ax3.annotate((\"%0.2f,%0.2f\" % (i,j)),xy=(i-0.05,j), color='green')\n",
    "    #ax3.annotate((\"%0.3f\" %j),xy=(i,j), color='green')\n",
    "    \n",
    "    \n",
    "# Move the last y-axis spine over to the right by 20% of the width of the axes\n",
    "ax3.spines['right'].set_position(('axes', 1.15))\n",
    "ax3.spines['right'].set_visible(True)\n",
    "\n",
    "# To make the border of the right-most axis visible, we need to turn the frame\n",
    "# on. This hides the other plots, however, so we need to turn its fill off.\n",
    "ax3.set_frame_on(True)\n",
    "ax3.patch.set_visible(False)\n",
    "\n",
    "\n",
    "#ax.plot(bins,np.linspace(0,1,11))\n",
    "plt.subplots_adjust(bottom=.15)\n",
    "plt.grid(False,which='both')\n",
    "ax.set_ylabel('Frequency',fontsize=15)\n",
    "ax.yaxis.label.set_color('Blue')\n",
    "plt.title(\"Clear\")\n",
    "plt.tight_layout()\n",
    "# #Save the image\n",
    "for tick in ax.yaxis.get_major_ticks():\n",
    "                tick.label.set_fontsize(14)\n",
    "filename='StabilitySelection_clear'\n",
    "save_format='png'\n",
    "#print filename+'.'+save_format\n",
    "#pp='home/ralfahad/Pictures'\n",
    "#plt.savefig(filename+'.'+save_format,dpi=100)\n",
    "plt.savefig(filename+'.'+save_format,dpi=300, bbox_inches='tight')\n",
    "plt.show()\n",
    "\n"
   ]
  },
  {
   "cell_type": "markdown",
   "metadata": {},
   "source": [
    "# Make it inside boundary"
   ]
  },
  {
   "cell_type": "code",
   "execution_count": 37,
   "metadata": {},
   "outputs": [
    {
     "data": {
      "image/png": "[encoded data removed]",
      "text/plain": [
       "<Figure size 576x432 with 3 Axes>"
      ]
     },
     "metadata": {
      "needs_background": "light"
     },
     "output_type": "display_data"
    }
   ],
   "source": [
    "# roisc=[68,68,61,45,22,8,3,0,2]\n",
    "roisc=[68,64,56,46,35,13,5,2,2]\n",
    "from matplotlib.ticker import FormatStrFormatter\n",
    "Th_2_Bins=np.asarray(Bins)\n",
    "data=clf.scores_\n",
    "fig, ax = plt.subplots(figsize=(8,6))\n",
    "fig.subplots_adjust(right=0.75)\n",
    "#counts, bins, patches = ax.hist(data,10 ,edgecolor='gray')\n",
    "counts, bins, patches = ax.hist(data,bins=np.round(0.1*np.arange(0,10),2),facecolor=\"None\",edgecolor='blue', lw=1)\n",
    "# Set the ticks to be at the edges of the bins.\n",
    "ax.set_xticks(bins)\n",
    "# Set the xaxis's tick labels to be formatted with 1 decimal place...\n",
    "ax.xaxis.set_major_formatter(FormatStrFormatter('%0.1f'))\n",
    "for tick in ax.xaxis.get_major_ticks():\n",
    "                tick.label.set_fontsize(14) \n",
    "\n",
    "bin_centers = 0.5 * np.diff(bins) + bins[:-1]\n",
    "\n",
    "#show % value\n",
    "for count, x,rois in zip(counts, bin_centers,roisc):\n",
    "    # Label the raw counts\n",
    "    ax.annotate(int(count), xy=(x, 0), xycoords=('data', 'axes fraction'),\n",
    "        xytext=(0, -20), fontsize=14,textcoords='offset points', va='top', ha='center')\n",
    "\n",
    "    # Label the percentages\n",
    "    percent = '%0.0f%%' % (100 * float(count) / counts.sum())\n",
    "    ax.annotate(percent, xy=(x, 0), xycoords=('data', 'axes fraction'),\n",
    "        xytext=(0, -40), fontsize=14,textcoords='offset points', va='top', ha='center')\n",
    "    # ROIs\n",
    "    ax.annotate(rois, xy=(x, 0), xycoords=('data', 'axes fraction'),\n",
    "    xytext=(0, -60),fontsize=14, textcoords='offset points', va='top', ha='center')\n",
    "    \n",
    "    # Give ourselves some more room at the bottom of the plot\n",
    "\n",
    "ax2 = ax.twinx()\n",
    "ax2.plot(Th_2_Bins,AUC_Th2, color='red',ls='dashed',alpha=0.5)#,THbin,CCC_Per)\n",
    "ax2.set_frame_on(False)\n",
    "ax2.set_ylabel('AUC', color='red',fontsize=15)\n",
    "ax2.patch.set_visible(False)\n",
    "for i,j in zip(Th_2_Bins,AUC_Th2):\n",
    "    #ax2.annotate((\"%.2f\" % j),xy=(i+0.04,j-0.01), color ='red') ##############################\n",
    "    ax2.annotate((\"%.3f\" % j),xy=(i,j-0.012), color ='red',fontsize=12) ##############################\n",
    "    ax2.plot(i,j, marker='o', markersize=7, color=\"red\")\n",
    "\n",
    "\n",
    "    \n",
    "ax3 = ax.twinx()\n",
    "ax3.plot(Th_2_Bins,ACC_Th2, color='black')#,THbin,CCC_Per)\n",
    "ax3.set_frame_on(False)\n",
    "ax3.set_ylabel('Accuracy', color='black',fontsize=15)\n",
    "\n",
    "\n",
    "\n",
    "for i,j in zip(Th_2_Bins,ACC_Th2):\n",
    "     #ax3.annotate((\"%0.2f\" % j),xy=(i-0.05,j), color='black')\n",
    "    #ax3.annotate((\"%0.2f\" % j),xy=(i-0.1,j), color='black')##################################\n",
    "    ax3.annotate((\"%0.3f\" % j),xy=(i,j+0.0065), color='black',fontsize=12)##################################\n",
    "    ax3.plot(i,j, marker='*', markersize=10, color=\"black\",alpha=0.2)\n",
    "    #ax3.annotate((\"%0.2f,%0.2f\" % (i,j)),xy=(i-0.05,j), color='green')\n",
    "    #ax3.annotate((\"%0.3f\" %j),xy=(i,j), color='green')\n",
    "    \n",
    "    \n",
    "# Move the last y-axis spine over to the right by 20% of the width of the axes\n",
    "ax3.spines['right'].set_position(('axes', 1.15))\n",
    "ax3.spines['right'].set_visible(True)\n",
    "\n",
    "# To make the border of the right-most axis visible, we need to turn the frame\n",
    "# on. This hides the other plots, however, so we need to turn its fill off.\n",
    "ax3.set_frame_on(True)\n",
    "ax3.patch.set_visible(False)\n",
    "\n",
    "#ax.plot(bins,np.linspace(0,1,11))\n",
    "plt.subplots_adjust(bottom=.15)\n",
    "plt.grid(False,which='both')\n",
    "ax.set_ylabel('Frequency',fontsize=15)\n",
    "ax.yaxis.label.set_color('Blue')\n",
    "plt.title(\"Clear speech\", fontsize=15)\n",
    "plt.tight_layout()\n",
    "# #Save the image\n",
    "for tick in ax.yaxis.get_major_ticks():\n",
    "                tick.label.set_fontsize(12)\n",
    "filename='StabilitySelection_clear'\n",
    "save_format='png'\n",
    "#print filename+'.'+save_format\n",
    "#pp='home/ralfahad/Pictures'\n",
    "#plt.savefig(filename+'.'+save_format,dpi=100)\n",
    "# plt.savefig(filename+'.'+save_format,dpi=300, bbox_inches='tight')\n",
    "plt.show()\n",
    "\n"
   ]
  },
  {
   "cell_type": "code",
   "execution_count": 38,
   "metadata": {},
   "outputs": [
    {
     "name": "stdout",
     "output_type": "stream",
     "text": [
      "0.00 0.88 0.84 1428\n",
      "0.10 0.92 0.92 283\n",
      "0.20 0.90 0.90 185\n",
      "0.30 0.90 0.90 122\n",
      "0.40 0.91 0.91 68\n",
      "0.50 0.80 0.80 12\n",
      "0.60 0.65 0.64 4\n",
      "0.70 0.64 0.59 2\n",
      "0.80 0.64 0.59 2\n"
     ]
    },
    {
     "data": {
      "text/html": [
       "<div>\n",
       "<style scoped>\n",
       "    .dataframe tbody tr th:only-of-type {\n",
       "        vertical-align: middle;\n",
       "    }\n",
       "\n",
       "    .dataframe tbody tr th {\n",
       "        vertical-align: top;\n",
       "    }\n",
       "\n",
       "    .dataframe thead th {\n",
       "        text-align: right;\n",
       "    }\n",
       "</style>\n",
       "<table border=\"1\" class=\"dataframe\">\n",
       "  <thead>\n",
       "    <tr style=\"text-align: right;\">\n",
       "      <th></th>\n",
       "      <th>Threshold</th>\n",
       "      <th>ACC</th>\n",
       "      <th>AUC</th>\n",
       "      <th>NoEle</th>\n",
       "    </tr>\n",
       "  </thead>\n",
       "  <tbody>\n",
       "    <tr>\n",
       "      <th>0</th>\n",
       "      <td>0.00</td>\n",
       "      <td>0.88</td>\n",
       "      <td>0.84</td>\n",
       "      <td>1428</td>\n",
       "    </tr>\n",
       "    <tr>\n",
       "      <th>1</th>\n",
       "      <td>0.10</td>\n",
       "      <td>0.92</td>\n",
       "      <td>0.92</td>\n",
       "      <td>283</td>\n",
       "    </tr>\n",
       "    <tr>\n",
       "      <th>2</th>\n",
       "      <td>0.20</td>\n",
       "      <td>0.90</td>\n",
       "      <td>0.90</td>\n",
       "      <td>185</td>\n",
       "    </tr>\n",
       "    <tr>\n",
       "      <th>3</th>\n",
       "      <td>0.30</td>\n",
       "      <td>0.90</td>\n",
       "      <td>0.90</td>\n",
       "      <td>122</td>\n",
       "    </tr>\n",
       "    <tr>\n",
       "      <th>4</th>\n",
       "      <td>0.40</td>\n",
       "      <td>0.91</td>\n",
       "      <td>0.91</td>\n",
       "      <td>68</td>\n",
       "    </tr>\n",
       "    <tr>\n",
       "      <th>5</th>\n",
       "      <td>0.50</td>\n",
       "      <td>0.80</td>\n",
       "      <td>0.80</td>\n",
       "      <td>12</td>\n",
       "    </tr>\n",
       "    <tr>\n",
       "      <th>6</th>\n",
       "      <td>0.60</td>\n",
       "      <td>0.65</td>\n",
       "      <td>0.64</td>\n",
       "      <td>4</td>\n",
       "    </tr>\n",
       "    <tr>\n",
       "      <th>7</th>\n",
       "      <td>0.70</td>\n",
       "      <td>0.64</td>\n",
       "      <td>0.59</td>\n",
       "      <td>2</td>\n",
       "    </tr>\n",
       "    <tr>\n",
       "      <th>8</th>\n",
       "      <td>0.80</td>\n",
       "      <td>0.64</td>\n",
       "      <td>0.59</td>\n",
       "      <td>2</td>\n",
       "    </tr>\n",
       "  </tbody>\n",
       "</table>\n",
       "</div>"
      ],
      "text/plain": [
       "  Threshold   ACC   AUC  NoEle\n",
       "0      0.00  0.88  0.84   1428\n",
       "1      0.10  0.92  0.92    283\n",
       "2      0.20  0.90  0.90    185\n",
       "3      0.30  0.90  0.90    122\n",
       "4      0.40  0.91  0.91     68\n",
       "5      0.50  0.80  0.80     12\n",
       "6      0.60  0.65  0.64      4\n",
       "7      0.70  0.64  0.59      2\n",
       "8      0.80  0.64  0.59      2"
      ]
     },
     "execution_count": 38,
     "metadata": {},
     "output_type": "execute_result"
    }
   ],
   "source": [
    "# for i,j in zip(Th_2_Bins,AUC_Th2):\n",
    "#     print i,j\n",
    "All_ACC=[]\n",
    "All_AUC=[]\n",
    "ALL_Bins=[]\n",
    "All_SV=[]\n",
    "NumberofElement=[]\n",
    "for i,j,k,l in zip(Th_2_Bins,ACC_Th2,AUC_Th2, SV):\n",
    "    Th2Index=np.squeeze(np.asarray(np.where(clf.scores_>=i)))\n",
    "#     print (\"{0:.2f}\".format(i)),(\"{0:.2f}\".format(j)),(\"{0:.2f}\".format(k)),len(Th2Index),(\"{0:.2f}\".format(l))\n",
    "#     NumberofElement.append(len(Th2Index))\n",
    "    print (\"{0:.2f}\".format(i)),(\"{0:.2f}\".format(j)),(\"{0:.2f}\".format(k)),len(Th2Index)\n",
    "    NumberofElement.append(len(Th2Index))\n",
    "    ALL_Bins.append(\"{0:.2f}\".format(i))\n",
    "    All_ACC.append(\"{0:.2f}\".format(j))\n",
    "    All_AUC.append(\"{0:.2f}\".format(k))\n",
    "    All_SV.append(\"{0:.2f}\".format(l))\n",
    "\n",
    "# Selected_Feature_Result=pd.concat([pd.DataFrame(ALL_Bins),pd.DataFrame(All_ACC),\n",
    "#            pd.DataFrame(All_AUC),pd.DataFrame(NumberofElement),pd.DataFrame(All_SV)],axis=1)\n",
    "# Selected_Feature_Result.columns=['Threshold','ACC','AUC','NoEle','SV']\n",
    "Selected_Feature_Result=pd.concat([pd.DataFrame(ALL_Bins),pd.DataFrame(All_ACC),\n",
    "           pd.DataFrame(All_AUC),pd.DataFrame(NumberofElement)],axis=1)\n",
    "Selected_Feature_Result.columns=['Threshold','ACC','AUC','NoEle']\n",
    "Selected_Feature_Result"
   ]
  },
  {
   "cell_type": "code",
   "execution_count": 39,
   "metadata": {},
   "outputs": [
    {
     "data": {
      "text/plain": [
       "0.4"
      ]
     },
     "execution_count": 39,
     "metadata": {},
     "output_type": "execute_result"
    }
   ],
   "source": [
    "Th_2_Bins[4]"
   ]
  },
  {
   "cell_type": "code",
   "execution_count": 40,
   "metadata": {},
   "outputs": [
    {
     "data": {
      "text/plain": [
       "array([  58,   62,  126,  180,  184,  194,  201,  217,  229,  238,  248,\n",
       "        262,  269,  272,  286,  321,  345,  361,  370,  379,  389,  405,\n",
       "        438,  441,  447,  462,  472,  476,  499,  526,  659,  689,  740,\n",
       "        742,  744,  752,  764,  801,  808,  820,  843,  859,  871,  887,\n",
       "        904,  939,  956, 1006, 1136, 1156, 1157, 1161, 1170, 1171, 1177,\n",
       "       1195, 1218, 1228, 1229, 1231, 1237, 1238, 1274, 1356, 1404, 1420,\n",
       "       1422, 1424])"
      ]
     },
     "execution_count": 40,
     "metadata": {},
     "output_type": "execute_result"
    }
   ],
   "source": [
    "# Need to chage gamma range . It is selecting too many features\n",
    "# Let 0.34 is our best Thr. TO get the index numer with this thr\n",
    "fealoc=np.squeeze(np.asarray(np.where(clf.scores_>=Th_2_Bins[4])))\n",
    "fealoc\n",
    "# len(fealoc)\n",
    "# Do you get it? yes > How about number of support of the model?"
   ]
  },
  {
   "cell_type": "code",
   "execution_count": 41,
   "metadata": {},
   "outputs": [
    {
     "data": {
      "text/plain": [
       "(array([ 0,  1,  3,  4,  5,  7,  9, 13, 14, 15, 16, 20, 21, 23, 25, 27, 30,\n",
       "        33, 34, 39, 43, 44, 47, 48, 49, 50, 53, 54, 55, 58, 60, 62, 64, 65]),\n",
       " array([3, 1, 1, 4, 3, 1, 1, 2, 3, 1, 1, 1, 2, 1, 1, 1, 2, 1, 1, 3, 1, 3,\n",
       "        1, 2, 2, 2, 1, 2, 2, 4, 3, 4, 4, 3]))"
      ]
     },
     "execution_count": 41,
     "metadata": {},
     "output_type": "execute_result"
    }
   ],
   "source": [
    "ROI=fealoc%68\n",
    "ROI\n",
    "np.unique(ROI,return_counts=True)"
   ]
  },
  {
   "cell_type": "code",
   "execution_count": 42,
   "metadata": {},
   "outputs": [
    {
     "data": {
      "text/plain": [
       "34"
      ]
     },
     "execution_count": 42,
     "metadata": {},
     "output_type": "execute_result"
    }
   ],
   "source": [
    "len(np.unique(ROI))\n",
    "# np.unique(ROI,return_counts=True)"
   ]
  },
  {
   "cell_type": "code",
   "execution_count": 43,
   "metadata": {},
   "outputs": [
    {
     "name": "stdout",
     "output_type": "stream",
     "text": [
      "Fitting 5 folds for each of 25 candidates, totalling 125 fits\n"
     ]
    },
    {
     "name": "stderr",
     "output_type": "stream",
     "text": [
      "[Parallel(n_jobs=-1)]: Done  42 tasks      | elapsed:  1.8min\n",
      "[Parallel(n_jobs=-1)]: Done 125 out of 125 | elapsed:  5.1min finished\n"
     ]
    },
    {
     "name": "stdout",
     "output_type": "stream",
     "text": [
      "(1490, 1428) (1490, 1)\n",
      "Finish tuning\n",
      "89.5302013423\n",
      "Fitting 5 folds for each of 25 candidates, totalling 125 fits\n"
     ]
    },
    {
     "name": "stderr",
     "output_type": "stream",
     "text": [
      "[Parallel(n_jobs=-1)]: Done  42 tasks      | elapsed:   19.8s\n",
      "[Parallel(n_jobs=-1)]: Done 125 out of 125 | elapsed:   52.8s finished\n"
     ]
    },
    {
     "name": "stdout",
     "output_type": "stream",
     "text": [
      "(1490, 283) (1490, 1)\n",
      "Finish tuning\n",
      "43.4899328859\n",
      "Fitting 5 folds for each of 25 candidates, totalling 125 fits\n"
     ]
    },
    {
     "name": "stderr",
     "output_type": "stream",
     "text": [
      "[Parallel(n_jobs=-1)]: Done  42 tasks      | elapsed:   13.7s\n",
      "[Parallel(n_jobs=-1)]: Done 125 out of 125 | elapsed:   37.2s finished\n"
     ]
    },
    {
     "name": "stdout",
     "output_type": "stream",
     "text": [
      "(1490, 185) (1490, 1)\n",
      "Finish tuning\n",
      "39.2617449664\n",
      "Fitting 5 folds for each of 25 candidates, totalling 125 fits\n"
     ]
    },
    {
     "name": "stderr",
     "output_type": "stream",
     "text": [
      "[Parallel(n_jobs=-1)]: Done  42 tasks      | elapsed:   10.3s\n",
      "[Parallel(n_jobs=-1)]: Done 125 out of 125 | elapsed:   27.4s finished\n"
     ]
    },
    {
     "name": "stdout",
     "output_type": "stream",
     "text": [
      "(1490, 122) (1490, 1)\n",
      "Finish tuning\n",
      "59.5302013423\n",
      "Fitting 5 folds for each of 25 candidates, totalling 125 fits\n"
     ]
    },
    {
     "name": "stderr",
     "output_type": "stream",
     "text": [
      "[Parallel(n_jobs=-1)]: Done  42 tasks      | elapsed:    6.9s\n",
      "[Parallel(n_jobs=-1)]: Done 125 out of 125 | elapsed:   18.5s finished\n"
     ]
    },
    {
     "name": "stdout",
     "output_type": "stream",
     "text": [
      "(1490, 68) (1490, 1)\n",
      "Finish tuning\n",
      "43.4899328859\n",
      "Fitting 5 folds for each of 25 candidates, totalling 125 fits\n"
     ]
    },
    {
     "name": "stderr",
     "output_type": "stream",
     "text": [
      "[Parallel(n_jobs=-1)]: Done  42 tasks      | elapsed:    2.8s\n",
      "[Parallel(n_jobs=-1)]: Done 125 out of 125 | elapsed:    8.0s finished\n"
     ]
    },
    {
     "name": "stdout",
     "output_type": "stream",
     "text": [
      "(1490, 12) (1490, 1)\n",
      "Finish tuning\n",
      "51.3422818792\n",
      "Fitting 5 folds for each of 25 candidates, totalling 125 fits\n"
     ]
    },
    {
     "name": "stderr",
     "output_type": "stream",
     "text": [
      "[Parallel(n_jobs=-1)]: Done  76 tasks      | elapsed:    3.9s\n",
      "[Parallel(n_jobs=-1)]: Done 118 out of 125 | elapsed:    7.4s remaining:    0.4s\n",
      "[Parallel(n_jobs=-1)]: Done 125 out of 125 | elapsed:    7.7s finished\n"
     ]
    },
    {
     "name": "stdout",
     "output_type": "stream",
     "text": [
      "(1490, 4) (1490, 1)\n",
      "Finish tuning\n",
      "72.4161073826\n",
      "Fitting 5 folds for each of 25 candidates, totalling 125 fits\n"
     ]
    },
    {
     "name": "stderr",
     "output_type": "stream",
     "text": [
      "[Parallel(n_jobs=-1)]: Done  76 tasks      | elapsed:    3.7s\n",
      "[Parallel(n_jobs=-1)]: Done 118 out of 125 | elapsed:    6.5s remaining:    0.4s\n",
      "[Parallel(n_jobs=-1)]: Done 125 out of 125 | elapsed:    6.8s finished\n"
     ]
    },
    {
     "name": "stdout",
     "output_type": "stream",
     "text": [
      "(1490, 2) (1490, 1)\n",
      "Finish tuning\n",
      "74.6308724832\n",
      "Fitting 5 folds for each of 25 candidates, totalling 125 fits\n"
     ]
    },
    {
     "name": "stderr",
     "output_type": "stream",
     "text": [
      "[Parallel(n_jobs=-1)]: Done  76 tasks      | elapsed:    3.7s\n",
      "[Parallel(n_jobs=-1)]: Done 118 out of 125 | elapsed:    6.6s remaining:    0.4s\n",
      "[Parallel(n_jobs=-1)]: Done 125 out of 125 | elapsed:    6.8s finished\n"
     ]
    },
    {
     "name": "stdout",
     "output_type": "stream",
     "text": [
      "(1490, 2) (1490, 1)\n",
      "Finish tuning\n",
      "74.6308724832\n"
     ]
    }
   ],
   "source": [
    "for th in Th_2_Bins:\n",
    "    clf_Tune.fit(X_train[:,np.squeeze(np.asarray(np.where(clf.scores_>=th)))],y_train)\n",
    "    print X_train[:,np.squeeze(np.asarray(np.where(clf.scores_>=th)))].shape ,y_train.shape\n",
    "    print 'Finish tuning'\n",
    "    print float(len(clf_Tune.best_estimator_.support_vectors_))/X_train[:,np.squeeze(np.asarray(np.where(clf.scores_>=th)))].shape[0]*100\n",
    "# use tuned parameter on to get model\n",
    "#y_p = clf_Tune.best_estimator_.predict(X_test[:,np.squeeze(np.asarray(np.where(clf.scores_>=i)))])"
   ]
  },
  {
   "cell_type": "code",
   "execution_count": 44,
   "metadata": {},
   "outputs": [],
   "source": [
    "# float(len(clf_Tune.best_estimator_.support_vectors_))/X_train[:,np.squeeze(np.asarray(np.where(clf.scores_>=0.25)))].shape[0]*100"
   ]
  },
  {
   "cell_type": "code",
   "execution_count": 45,
   "metadata": {},
   "outputs": [],
   "source": [
    "# result it overfitting need to be less or equal to 40%"
   ]
  },
  {
   "cell_type": "markdown",
   "metadata": {},
   "source": [
    "# Rank the Feature Vectors as their importance"
   ]
  },
  {
   "cell_type": "code",
   "execution_count": 46,
   "metadata": {},
   "outputs": [
    {
     "name": "stdout",
     "output_type": "stream",
     "text": [
      "[65. 13. 49. 58. 48.  5.  1. 58.  4. 21.  0. 47.  0. 30. 14. 65. 58. 64.\n",
      " 13. 20. 50. 23. 39. 27. 64.  0. 62.  4. 15. 58. 60.  4. 60. 55. 43. 54.\n",
      "  5. 49. 62. 39. 64.  7.  4. 53. 64. 21. 65. 50. 62. 48. 54. 44. 30. 55.\n",
      "  3. 44. 16. 60.  9. 14. 14. 44. 34. 25.  5. 62. 33. 39.]\n",
      "68\n"
     ]
    }
   ],
   "source": [
    "# Rank the Features according to the importance\n",
    "names=range(0,1428) # Feature names used as 1-1428 features\n",
    "cn=np.asarray(names) # converted as numpy.ndarray\n",
    "# print \"Features sorted by their score:\"\n",
    "b= sorted(zip(map(lambda x: round(x, 4), clf.scores_), cn), reverse=True)\n",
    "# print b\n",
    "bb=np.asarray(b)\n",
    "rakfe=bb[bb[:,0]>=Th_2_Bins[4]]\n",
    "# rakfe=bb[bb[:,0]>=.50]\n",
    "ROIs=rakfe[:,1]%68\n",
    "print ROIs\n",
    "print len(ROIs)"
   ]
  },
  {
   "cell_type": "code",
   "execution_count": 47,
   "metadata": {
    "scrolled": false
   },
   "outputs": [],
   "source": [
    "# # b\n",
    "# ROIstime=np.floor(rakfe[:,1]/68)\n",
    "# timeloc=ROIstime*10\n",
    "# plt.hist(timeloc, bins=20)"
   ]
  },
  {
   "cell_type": "code",
   "execution_count": 48,
   "metadata": {},
   "outputs": [
    {
     "name": "stdout",
     "output_type": "stream",
     "text": [
      "(array([ 0,  1,  3,  4,  5,  7,  9, 13, 14, 15, 16, 20, 21, 23, 25, 27, 30,\n",
      "       33, 34, 39, 43, 44, 47, 48, 49, 50, 53, 54, 55, 58, 60, 62, 64, 65]), array([3, 1, 1, 4, 3, 1, 1, 2, 3, 1, 1, 1, 2, 1, 1, 1, 2, 1, 1, 3, 1, 3,\n",
      "       1, 2, 2, 2, 1, 2, 2, 4, 3, 4, 4, 3]))\n",
      "34\n"
     ]
    }
   ],
   "source": [
    "ROI\n",
    "print np.unique(ROI,return_counts=True)\n",
    "print len(np.unique(ROIs))"
   ]
  },
  {
   "cell_type": "code",
   "execution_count": 49,
   "metadata": {},
   "outputs": [
    {
     "data": {
      "text/plain": [
       "array([65., 13., 49., 58., 48.,  5.,  1., 58.,  4., 21.,  0., 47.,  0.,\n",
       "       30., 14., 65., 58., 64., 13., 20., 50., 23., 39., 27., 64.,  0.,\n",
       "       62.,  4., 15., 58., 60.,  4., 60., 55., 43., 54.,  5., 49., 62.,\n",
       "       39., 64.,  7.,  4., 53., 64., 21., 65., 50., 62., 48., 54., 44.,\n",
       "       30., 55.,  3., 44., 16., 60.,  9., 14., 14., 44., 34., 25.,  5.,\n",
       "       62., 33., 39.])"
      ]
     },
     "execution_count": 49,
     "metadata": {},
     "output_type": "execute_result"
    }
   ],
   "source": [
    "ROIs"
   ]
  },
  {
   "cell_type": "code",
   "execution_count": 50,
   "metadata": {},
   "outputs": [],
   "source": [
    "Roiname=pd.read_csv(\"/home/sultan/EEG/Source_Level_Analysis/DK_atlas_Visualize_index_v1.csv\")"
   ]
  },
  {
   "cell_type": "code",
   "execution_count": 51,
   "metadata": {},
   "outputs": [],
   "source": [
    "nor=81\n",
    "shdkroi=Roiname['Desikan_Freesurfer_v5.1'] # \"Desikan_Freesurfer_v5.1\"  is the label of short name columns \n",
    "sdk=shdkroi[ROIs]# ROIs is the index of label\n",
    "# sdk.head(nor)"
   ]
  },
  {
   "cell_type": "code",
   "execution_count": 52,
   "metadata": {},
   "outputs": [
    {
     "name": "stdout",
     "output_type": "stream",
     "text": [
      "65.0                temporalpole R\n",
      "13.0                    fusiform R\n",
      "49.0                  precentral R\n",
      "58.0            superiorparietal L\n",
      "48.0                  precentral L\n",
      "5.0          caudalmiddlefrontal R\n",
      "1.0                     bankssts R\n",
      "58.0            superiorparietal L\n",
      "4.0          caudalmiddlefrontal L\n",
      "21.0            isthmuscingulate R\n",
      "0.0                     bankssts L\n",
      "47.0          posteriorcingulate R\n",
      "0.0                     bankssts L\n",
      "30.0              middletemporal L\n",
      "14.0            inferiorparietal L\n",
      "65.0                temporalpole R\n",
      "58.0            superiorparietal L\n",
      "64.0                temporalpole L\n",
      "13.0                    fusiform R\n",
      "20.0            isthmuscingulate L\n",
      "50.0                   precuneus L\n",
      "23.0            lateraloccipital R\n",
      "39.0               parsorbitalis R\n",
      "27.0                     lingual R\n",
      "64.0                temporalpole L\n",
      "0.0                     bankssts L\n",
      "62.0               supramarginal L\n",
      "4.0          caudalmiddlefrontal L\n",
      "15.0            inferiorparietal R\n",
      "58.0            superiorparietal L\n",
      "                   ...            \n",
      "62.0               supramarginal L\n",
      "39.0               parsorbitalis R\n",
      "64.0                temporalpole L\n",
      "7.0                       cuneus R\n",
      "4.0          caudalmiddlefrontal L\n",
      "53.0    rostralanteriorcingulate R\n",
      "64.0                temporalpole L\n",
      "21.0            isthmuscingulate R\n",
      "65.0                temporalpole R\n",
      "50.0                   precuneus L\n",
      "62.0               supramarginal L\n",
      "48.0                  precentral L\n",
      "54.0        rostralmiddlefrontal L\n",
      "44.0                 postcentral L\n",
      "30.0              middletemporal L\n",
      "55.0        rostralmiddlefrontal R\n",
      "3.0      caudalanteriorcingulate R\n",
      "44.0                 postcentral L\n",
      "16.0            inferiortemporal L\n",
      "60.0            superiortemporal L\n",
      "9.0                   entorhinal R\n",
      "14.0            inferiorparietal L\n",
      "14.0            inferiorparietal L\n",
      "44.0                 postcentral L\n",
      "34.0             parahippocampal L\n",
      "25.0        lateralorbitofrontal R\n",
      "5.0          caudalmiddlefrontal R\n",
      "62.0               supramarginal L\n",
      "33.0                 paracentral R\n",
      "39.0               parsorbitalis R\n",
      "Name: BrainMesh_ICBM152.nv, Length: 68, dtype: object\n"
     ]
    },
    {
     "data": {
      "text/plain": [
       "68"
      ]
     },
     "execution_count": 52,
     "metadata": {},
     "output_type": "execute_result"
    }
   ],
   "source": [
    "dkfull=Roiname['BrainMesh_ICBM152.nv']\n",
    "dk=dkfull[ROIs]\n",
    "print dk.head(nor)\n",
    "len(dk.head(nor))"
   ]
  },
  {
   "cell_type": "code",
   "execution_count": 53,
   "metadata": {},
   "outputs": [],
   "source": [
    "# aa=pd.DataFrame(dk.values[0:nor])\n",
    "# aa.columns=['ROIs']\n",
    "# ab=aa.drop_duplicates()\n",
    "# Toprois=pd.DataFrame(ab.values)\n",
    "# print Toprois"
   ]
  },
  {
   "cell_type": "code",
   "execution_count": 54,
   "metadata": {},
   "outputs": [],
   "source": [
    "# rois1=bb[0:16,1]%68\n",
    "# pd.DataFrame(bb[0:16,0],shdkroi[rois1])"
   ]
  },
  {
   "cell_type": "code",
   "execution_count": 55,
   "metadata": {},
   "outputs": [],
   "source": [
    "# saa=pd.DataFrame(sdk.values[0:nor])\n",
    "# saa.columns=['short ROIs']\n",
    "# sab=saa.drop_duplicates()\n",
    "# sToprois=pd.DataFrame(sab.values)\n",
    "# # print sToprois"
   ]
  },
  {
   "cell_type": "code",
   "execution_count": 56,
   "metadata": {},
   "outputs": [],
   "source": [
    "# nor1=14\n",
    "# sc=pd.DataFrame(bb[0:nor1,0])\n",
    "# sn=pd.concat([Toprois,sToprois,sc],axis=1)\n",
    "# sn.columns=['Fullname','ROIs short name', 'Feature score'] # sn: score and roi\n",
    "# # ddd=pd.DataFrame(bb[0:16,0],sToprois)\n",
    "# sn"
   ]
  },
  {
   "cell_type": "code",
   "execution_count": 57,
   "metadata": {},
   "outputs": [],
   "source": [
    "# sn.to_csv('Top15fea.csv')\n",
    "# Th_2_Bins"
   ]
  },
  {
   "cell_type": "code",
   "execution_count": 58,
   "metadata": {},
   "outputs": [],
   "source": [
    "aa=pd.DataFrame(dk.values[0:nor])\n",
    "aa.columns=['ROIs']\n",
    "Toprois=pd.DataFrame(aa.values)\n",
    "# print Toprois"
   ]
  },
  {
   "cell_type": "code",
   "execution_count": 59,
   "metadata": {},
   "outputs": [],
   "source": [
    "saa=pd.DataFrame(sdk.values[0:nor])\n",
    "saa.columns=['short ROIs']\n",
    "sToprois=pd.DataFrame(saa.values)\n",
    "# print sToprois"
   ]
  },
  {
   "cell_type": "code",
   "execution_count": 60,
   "metadata": {},
   "outputs": [
    {
     "data": {
      "text/html": [
       "<div>\n",
       "<style scoped>\n",
       "    .dataframe tbody tr th:only-of-type {\n",
       "        vertical-align: middle;\n",
       "    }\n",
       "\n",
       "    .dataframe tbody tr th {\n",
       "        vertical-align: top;\n",
       "    }\n",
       "\n",
       "    .dataframe thead th {\n",
       "        text-align: right;\n",
       "    }\n",
       "</style>\n",
       "<table border=\"1\" class=\"dataframe\">\n",
       "  <thead>\n",
       "    <tr style=\"text-align: right;\">\n",
       "      <th></th>\n",
       "      <th>Fullname</th>\n",
       "      <th>ROIs short name</th>\n",
       "      <th>Feature score</th>\n",
       "    </tr>\n",
       "  </thead>\n",
       "  <tbody>\n",
       "    <tr>\n",
       "      <th>0</th>\n",
       "      <td>temporalpole R</td>\n",
       "      <td>rTP</td>\n",
       "      <td>0.860</td>\n",
       "    </tr>\n",
       "    <tr>\n",
       "      <th>1</th>\n",
       "      <td>fusiform R</td>\n",
       "      <td>rFUS</td>\n",
       "      <td>0.820</td>\n",
       "    </tr>\n",
       "    <tr>\n",
       "      <th>2</th>\n",
       "      <td>precentral R</td>\n",
       "      <td>rPRC</td>\n",
       "      <td>0.675</td>\n",
       "    </tr>\n",
       "    <tr>\n",
       "      <th>3</th>\n",
       "      <td>superiorparietal L</td>\n",
       "      <td>lSP</td>\n",
       "      <td>0.640</td>\n",
       "    </tr>\n",
       "    <tr>\n",
       "      <th>4</th>\n",
       "      <td>precentral L</td>\n",
       "      <td>lPRC</td>\n",
       "      <td>0.590</td>\n",
       "    </tr>\n",
       "    <tr>\n",
       "      <th>5</th>\n",
       "      <td>caudalmiddlefrontal R</td>\n",
       "      <td>rCMF</td>\n",
       "      <td>0.560</td>\n",
       "    </tr>\n",
       "    <tr>\n",
       "      <th>6</th>\n",
       "      <td>bankssts R</td>\n",
       "      <td>rBKS</td>\n",
       "      <td>0.560</td>\n",
       "    </tr>\n",
       "    <tr>\n",
       "      <th>7</th>\n",
       "      <td>superiorparietal L</td>\n",
       "      <td>lSP</td>\n",
       "      <td>0.560</td>\n",
       "    </tr>\n",
       "    <tr>\n",
       "      <th>8</th>\n",
       "      <td>caudalmiddlefrontal L</td>\n",
       "      <td>ICMF</td>\n",
       "      <td>0.550</td>\n",
       "    </tr>\n",
       "    <tr>\n",
       "      <th>9</th>\n",
       "      <td>isthmuscingulate R</td>\n",
       "      <td>rIST</td>\n",
       "      <td>0.530</td>\n",
       "    </tr>\n",
       "    <tr>\n",
       "      <th>10</th>\n",
       "      <td>bankssts L</td>\n",
       "      <td>lBKS</td>\n",
       "      <td>0.520</td>\n",
       "    </tr>\n",
       "    <tr>\n",
       "      <th>11</th>\n",
       "      <td>posteriorcingulate R</td>\n",
       "      <td>rPCG</td>\n",
       "      <td>0.500</td>\n",
       "    </tr>\n",
       "    <tr>\n",
       "      <th>12</th>\n",
       "      <td>bankssts L</td>\n",
       "      <td>lBKS</td>\n",
       "      <td>0.490</td>\n",
       "    </tr>\n",
       "    <tr>\n",
       "      <th>13</th>\n",
       "      <td>middletemporal L</td>\n",
       "      <td>lMT</td>\n",
       "      <td>0.490</td>\n",
       "    </tr>\n",
       "    <tr>\n",
       "      <th>14</th>\n",
       "      <td>inferiorparietal L</td>\n",
       "      <td>lIP</td>\n",
       "      <td>0.485</td>\n",
       "    </tr>\n",
       "    <tr>\n",
       "      <th>15</th>\n",
       "      <td>temporalpole R</td>\n",
       "      <td>rTP</td>\n",
       "      <td>0.485</td>\n",
       "    </tr>\n",
       "    <tr>\n",
       "      <th>16</th>\n",
       "      <td>superiorparietal L</td>\n",
       "      <td>lSP</td>\n",
       "      <td>0.485</td>\n",
       "    </tr>\n",
       "    <tr>\n",
       "      <th>17</th>\n",
       "      <td>temporalpole L</td>\n",
       "      <td>lTP</td>\n",
       "      <td>0.480</td>\n",
       "    </tr>\n",
       "    <tr>\n",
       "      <th>18</th>\n",
       "      <td>fusiform R</td>\n",
       "      <td>rFUS</td>\n",
       "      <td>0.480</td>\n",
       "    </tr>\n",
       "    <tr>\n",
       "      <th>19</th>\n",
       "      <td>isthmuscingulate L</td>\n",
       "      <td>lIST</td>\n",
       "      <td>0.480</td>\n",
       "    </tr>\n",
       "    <tr>\n",
       "      <th>20</th>\n",
       "      <td>precuneus L</td>\n",
       "      <td>lPREC</td>\n",
       "      <td>0.480</td>\n",
       "    </tr>\n",
       "    <tr>\n",
       "      <th>21</th>\n",
       "      <td>lateraloccipital R</td>\n",
       "      <td>rLO</td>\n",
       "      <td>0.480</td>\n",
       "    </tr>\n",
       "    <tr>\n",
       "      <th>22</th>\n",
       "      <td>parsorbitalis R</td>\n",
       "      <td>rPOB</td>\n",
       "      <td>0.475</td>\n",
       "    </tr>\n",
       "    <tr>\n",
       "      <th>23</th>\n",
       "      <td>lingual R</td>\n",
       "      <td>rLIN</td>\n",
       "      <td>0.475</td>\n",
       "    </tr>\n",
       "    <tr>\n",
       "      <th>24</th>\n",
       "      <td>temporalpole L</td>\n",
       "      <td>lTP</td>\n",
       "      <td>0.475</td>\n",
       "    </tr>\n",
       "    <tr>\n",
       "      <th>25</th>\n",
       "      <td>bankssts L</td>\n",
       "      <td>lBKS</td>\n",
       "      <td>0.475</td>\n",
       "    </tr>\n",
       "    <tr>\n",
       "      <th>26</th>\n",
       "      <td>supramarginal L</td>\n",
       "      <td>lSUPRA</td>\n",
       "      <td>0.470</td>\n",
       "    </tr>\n",
       "    <tr>\n",
       "      <th>27</th>\n",
       "      <td>caudalmiddlefrontal L</td>\n",
       "      <td>ICMF</td>\n",
       "      <td>0.465</td>\n",
       "    </tr>\n",
       "    <tr>\n",
       "      <th>28</th>\n",
       "      <td>inferiorparietal R</td>\n",
       "      <td>rIP</td>\n",
       "      <td>0.465</td>\n",
       "    </tr>\n",
       "    <tr>\n",
       "      <th>29</th>\n",
       "      <td>superiorparietal L</td>\n",
       "      <td>lSP</td>\n",
       "      <td>0.465</td>\n",
       "    </tr>\n",
       "    <tr>\n",
       "      <th>...</th>\n",
       "      <td>...</td>\n",
       "      <td>...</td>\n",
       "      <td>...</td>\n",
       "    </tr>\n",
       "    <tr>\n",
       "      <th>45</th>\n",
       "      <td>isthmuscingulate R</td>\n",
       "      <td>rIST</td>\n",
       "      <td>0.435</td>\n",
       "    </tr>\n",
       "    <tr>\n",
       "      <th>46</th>\n",
       "      <td>temporalpole R</td>\n",
       "      <td>rTP</td>\n",
       "      <td>0.435</td>\n",
       "    </tr>\n",
       "    <tr>\n",
       "      <th>47</th>\n",
       "      <td>precuneus L</td>\n",
       "      <td>lPREC</td>\n",
       "      <td>0.430</td>\n",
       "    </tr>\n",
       "    <tr>\n",
       "      <th>48</th>\n",
       "      <td>supramarginal L</td>\n",
       "      <td>lSUPRA</td>\n",
       "      <td>0.430</td>\n",
       "    </tr>\n",
       "    <tr>\n",
       "      <th>49</th>\n",
       "      <td>precentral L</td>\n",
       "      <td>lPRC</td>\n",
       "      <td>0.430</td>\n",
       "    </tr>\n",
       "    <tr>\n",
       "      <th>50</th>\n",
       "      <td>rostralmiddlefrontal L</td>\n",
       "      <td>lRMF</td>\n",
       "      <td>0.430</td>\n",
       "    </tr>\n",
       "    <tr>\n",
       "      <th>51</th>\n",
       "      <td>postcentral L</td>\n",
       "      <td>lPOC</td>\n",
       "      <td>0.430</td>\n",
       "    </tr>\n",
       "    <tr>\n",
       "      <th>52</th>\n",
       "      <td>middletemporal L</td>\n",
       "      <td>lMT</td>\n",
       "      <td>0.425</td>\n",
       "    </tr>\n",
       "    <tr>\n",
       "      <th>53</th>\n",
       "      <td>rostralmiddlefrontal R</td>\n",
       "      <td>rRMF</td>\n",
       "      <td>0.420</td>\n",
       "    </tr>\n",
       "    <tr>\n",
       "      <th>54</th>\n",
       "      <td>caudalanteriorcingulate R</td>\n",
       "      <td>rCAC</td>\n",
       "      <td>0.420</td>\n",
       "    </tr>\n",
       "    <tr>\n",
       "      <th>55</th>\n",
       "      <td>postcentral L</td>\n",
       "      <td>lPOC</td>\n",
       "      <td>0.415</td>\n",
       "    </tr>\n",
       "    <tr>\n",
       "      <th>56</th>\n",
       "      <td>inferiortemporal L</td>\n",
       "      <td>lIT</td>\n",
       "      <td>0.415</td>\n",
       "    </tr>\n",
       "    <tr>\n",
       "      <th>57</th>\n",
       "      <td>superiortemporal L</td>\n",
       "      <td>lST</td>\n",
       "      <td>0.410</td>\n",
       "    </tr>\n",
       "    <tr>\n",
       "      <th>58</th>\n",
       "      <td>entorhinal R</td>\n",
       "      <td>rENT</td>\n",
       "      <td>0.410</td>\n",
       "    </tr>\n",
       "    <tr>\n",
       "      <th>59</th>\n",
       "      <td>inferiorparietal L</td>\n",
       "      <td>lIP</td>\n",
       "      <td>0.410</td>\n",
       "    </tr>\n",
       "    <tr>\n",
       "      <th>60</th>\n",
       "      <td>inferiorparietal L</td>\n",
       "      <td>lIP</td>\n",
       "      <td>0.405</td>\n",
       "    </tr>\n",
       "    <tr>\n",
       "      <th>61</th>\n",
       "      <td>postcentral L</td>\n",
       "      <td>lPOC</td>\n",
       "      <td>0.405</td>\n",
       "    </tr>\n",
       "    <tr>\n",
       "      <th>62</th>\n",
       "      <td>parahippocampal L</td>\n",
       "      <td>lPHIP</td>\n",
       "      <td>0.405</td>\n",
       "    </tr>\n",
       "    <tr>\n",
       "      <th>63</th>\n",
       "      <td>lateralorbitofrontal R</td>\n",
       "      <td>rLOF</td>\n",
       "      <td>0.405</td>\n",
       "    </tr>\n",
       "    <tr>\n",
       "      <th>64</th>\n",
       "      <td>caudalmiddlefrontal R</td>\n",
       "      <td>rCMF</td>\n",
       "      <td>0.400</td>\n",
       "    </tr>\n",
       "    <tr>\n",
       "      <th>65</th>\n",
       "      <td>supramarginal L</td>\n",
       "      <td>lSUPRA</td>\n",
       "      <td>0.400</td>\n",
       "    </tr>\n",
       "    <tr>\n",
       "      <th>66</th>\n",
       "      <td>paracentral R</td>\n",
       "      <td>rPARAC</td>\n",
       "      <td>0.400</td>\n",
       "    </tr>\n",
       "    <tr>\n",
       "      <th>67</th>\n",
       "      <td>parsorbitalis R</td>\n",
       "      <td>rPOB</td>\n",
       "      <td>0.400</td>\n",
       "    </tr>\n",
       "    <tr>\n",
       "      <th>68</th>\n",
       "      <td>NaN</td>\n",
       "      <td>NaN</td>\n",
       "      <td>0.395</td>\n",
       "    </tr>\n",
       "    <tr>\n",
       "      <th>69</th>\n",
       "      <td>NaN</td>\n",
       "      <td>NaN</td>\n",
       "      <td>0.395</td>\n",
       "    </tr>\n",
       "    <tr>\n",
       "      <th>70</th>\n",
       "      <td>NaN</td>\n",
       "      <td>NaN</td>\n",
       "      <td>0.395</td>\n",
       "    </tr>\n",
       "    <tr>\n",
       "      <th>71</th>\n",
       "      <td>NaN</td>\n",
       "      <td>NaN</td>\n",
       "      <td>0.395</td>\n",
       "    </tr>\n",
       "    <tr>\n",
       "      <th>72</th>\n",
       "      <td>NaN</td>\n",
       "      <td>NaN</td>\n",
       "      <td>0.390</td>\n",
       "    </tr>\n",
       "    <tr>\n",
       "      <th>73</th>\n",
       "      <td>NaN</td>\n",
       "      <td>NaN</td>\n",
       "      <td>0.390</td>\n",
       "    </tr>\n",
       "    <tr>\n",
       "      <th>74</th>\n",
       "      <td>NaN</td>\n",
       "      <td>NaN</td>\n",
       "      <td>0.390</td>\n",
       "    </tr>\n",
       "  </tbody>\n",
       "</table>\n",
       "<p>75 rows × 3 columns</p>\n",
       "</div>"
      ],
      "text/plain": [
       "                     Fullname ROIs short name   Feature score\n",
       "0              temporalpole R             rTP           0.860\n",
       "1                  fusiform R            rFUS           0.820\n",
       "2                precentral R            rPRC           0.675\n",
       "3          superiorparietal L             lSP           0.640\n",
       "4                precentral L            lPRC           0.590\n",
       "5       caudalmiddlefrontal R            rCMF           0.560\n",
       "6                  bankssts R            rBKS           0.560\n",
       "7          superiorparietal L             lSP           0.560\n",
       "8       caudalmiddlefrontal L            ICMF           0.550\n",
       "9          isthmuscingulate R            rIST           0.530\n",
       "10                 bankssts L            lBKS           0.520\n",
       "11       posteriorcingulate R            rPCG           0.500\n",
       "12                 bankssts L            lBKS           0.490\n",
       "13           middletemporal L             lMT           0.490\n",
       "14         inferiorparietal L             lIP           0.485\n",
       "15             temporalpole R             rTP           0.485\n",
       "16         superiorparietal L             lSP           0.485\n",
       "17             temporalpole L             lTP           0.480\n",
       "18                 fusiform R            rFUS           0.480\n",
       "19         isthmuscingulate L            lIST           0.480\n",
       "20                precuneus L           lPREC           0.480\n",
       "21         lateraloccipital R             rLO           0.480\n",
       "22            parsorbitalis R            rPOB           0.475\n",
       "23                  lingual R            rLIN           0.475\n",
       "24             temporalpole L             lTP           0.475\n",
       "25                 bankssts L            lBKS           0.475\n",
       "26            supramarginal L          lSUPRA           0.470\n",
       "27      caudalmiddlefrontal L            ICMF           0.465\n",
       "28         inferiorparietal R             rIP           0.465\n",
       "29         superiorparietal L             lSP           0.465\n",
       "..                        ...             ...             ...\n",
       "45         isthmuscingulate R            rIST           0.435\n",
       "46             temporalpole R             rTP           0.435\n",
       "47                precuneus L           lPREC           0.430\n",
       "48            supramarginal L          lSUPRA           0.430\n",
       "49               precentral L            lPRC           0.430\n",
       "50     rostralmiddlefrontal L            lRMF           0.430\n",
       "51              postcentral L            lPOC           0.430\n",
       "52           middletemporal L             lMT           0.425\n",
       "53     rostralmiddlefrontal R            rRMF           0.420\n",
       "54  caudalanteriorcingulate R            rCAC           0.420\n",
       "55              postcentral L            lPOC           0.415\n",
       "56         inferiortemporal L             lIT           0.415\n",
       "57         superiortemporal L             lST           0.410\n",
       "58               entorhinal R            rENT           0.410\n",
       "59         inferiorparietal L             lIP           0.410\n",
       "60         inferiorparietal L             lIP           0.405\n",
       "61              postcentral L            lPOC           0.405\n",
       "62          parahippocampal L           lPHIP           0.405\n",
       "63     lateralorbitofrontal R            rLOF           0.405\n",
       "64      caudalmiddlefrontal R            rCMF           0.400\n",
       "65            supramarginal L          lSUPRA           0.400\n",
       "66              paracentral R          rPARAC           0.400\n",
       "67            parsorbitalis R            rPOB           0.400\n",
       "68                        NaN             NaN           0.395\n",
       "69                        NaN             NaN           0.395\n",
       "70                        NaN             NaN           0.395\n",
       "71                        NaN             NaN           0.395\n",
       "72                        NaN             NaN           0.390\n",
       "73                        NaN             NaN           0.390\n",
       "74                        NaN             NaN           0.390\n",
       "\n",
       "[75 rows x 3 columns]"
      ]
     },
     "execution_count": 60,
     "metadata": {},
     "output_type": "execute_result"
    }
   ],
   "source": [
    "nor1=75\n",
    "sc=pd.DataFrame(bb[0:nor1,0])\n",
    "sn=pd.concat([Toprois,sToprois,sc],axis=1)\n",
    "sn.columns=['Fullname','ROIs short name', ' Feature score'] # sn: score and roi\n",
    "# ddd=pd.DataFrame(bb[0:16,0],sToprois)\n",
    "sn"
   ]
  },
  {
   "cell_type": "code",
   "execution_count": 61,
   "metadata": {},
   "outputs": [
    {
     "data": {
      "text/html": [
       "<div>\n",
       "<style scoped>\n",
       "    .dataframe tbody tr th:only-of-type {\n",
       "        vertical-align: middle;\n",
       "    }\n",
       "\n",
       "    .dataframe tbody tr th {\n",
       "        vertical-align: top;\n",
       "    }\n",
       "\n",
       "    .dataframe thead th {\n",
       "        text-align: right;\n",
       "    }\n",
       "</style>\n",
       "<table border=\"1\" class=\"dataframe\">\n",
       "  <thead>\n",
       "    <tr style=\"text-align: right;\">\n",
       "      <th></th>\n",
       "      <th>0</th>\n",
       "      <th>1</th>\n",
       "      <th>2</th>\n",
       "    </tr>\n",
       "  </thead>\n",
       "  <tbody>\n",
       "    <tr>\n",
       "      <th>0</th>\n",
       "      <td>temporalpole R</td>\n",
       "      <td>rTP</td>\n",
       "      <td>0.86</td>\n",
       "    </tr>\n",
       "    <tr>\n",
       "      <th>1</th>\n",
       "      <td>fusiform R</td>\n",
       "      <td>rFUS</td>\n",
       "      <td>0.82</td>\n",
       "    </tr>\n",
       "    <tr>\n",
       "      <th>2</th>\n",
       "      <td>precentral R</td>\n",
       "      <td>rPRC</td>\n",
       "      <td>0.675</td>\n",
       "    </tr>\n",
       "    <tr>\n",
       "      <th>3</th>\n",
       "      <td>superiorparietal L</td>\n",
       "      <td>lSP</td>\n",
       "      <td>0.64</td>\n",
       "    </tr>\n",
       "    <tr>\n",
       "      <th>4</th>\n",
       "      <td>precentral L</td>\n",
       "      <td>lPRC</td>\n",
       "      <td>0.59</td>\n",
       "    </tr>\n",
       "    <tr>\n",
       "      <th>5</th>\n",
       "      <td>caudalmiddlefrontal R</td>\n",
       "      <td>rCMF</td>\n",
       "      <td>0.56</td>\n",
       "    </tr>\n",
       "    <tr>\n",
       "      <th>6</th>\n",
       "      <td>bankssts R</td>\n",
       "      <td>rBKS</td>\n",
       "      <td>0.56</td>\n",
       "    </tr>\n",
       "    <tr>\n",
       "      <th>7</th>\n",
       "      <td>caudalmiddlefrontal L</td>\n",
       "      <td>ICMF</td>\n",
       "      <td>0.55</td>\n",
       "    </tr>\n",
       "    <tr>\n",
       "      <th>8</th>\n",
       "      <td>isthmuscingulate R</td>\n",
       "      <td>rIST</td>\n",
       "      <td>0.53</td>\n",
       "    </tr>\n",
       "    <tr>\n",
       "      <th>9</th>\n",
       "      <td>bankssts L</td>\n",
       "      <td>lBKS</td>\n",
       "      <td>0.52</td>\n",
       "    </tr>\n",
       "    <tr>\n",
       "      <th>10</th>\n",
       "      <td>posteriorcingulate R</td>\n",
       "      <td>rPCG</td>\n",
       "      <td>0.5</td>\n",
       "    </tr>\n",
       "    <tr>\n",
       "      <th>11</th>\n",
       "      <td>middletemporal L</td>\n",
       "      <td>lMT</td>\n",
       "      <td>0.49</td>\n",
       "    </tr>\n",
       "    <tr>\n",
       "      <th>12</th>\n",
       "      <td>inferiorparietal L</td>\n",
       "      <td>lIP</td>\n",
       "      <td>0.485</td>\n",
       "    </tr>\n",
       "    <tr>\n",
       "      <th>13</th>\n",
       "      <td>temporalpole L</td>\n",
       "      <td>lTP</td>\n",
       "      <td>0.48</td>\n",
       "    </tr>\n",
       "    <tr>\n",
       "      <th>14</th>\n",
       "      <td>isthmuscingulate L</td>\n",
       "      <td>lIST</td>\n",
       "      <td>0.48</td>\n",
       "    </tr>\n",
       "    <tr>\n",
       "      <th>15</th>\n",
       "      <td>precuneus L</td>\n",
       "      <td>lPREC</td>\n",
       "      <td>0.48</td>\n",
       "    </tr>\n",
       "    <tr>\n",
       "      <th>16</th>\n",
       "      <td>lateraloccipital R</td>\n",
       "      <td>rLO</td>\n",
       "      <td>0.48</td>\n",
       "    </tr>\n",
       "    <tr>\n",
       "      <th>17</th>\n",
       "      <td>parsorbitalis R</td>\n",
       "      <td>rPOB</td>\n",
       "      <td>0.475</td>\n",
       "    </tr>\n",
       "    <tr>\n",
       "      <th>18</th>\n",
       "      <td>lingual R</td>\n",
       "      <td>rLIN</td>\n",
       "      <td>0.475</td>\n",
       "    </tr>\n",
       "    <tr>\n",
       "      <th>19</th>\n",
       "      <td>supramarginal L</td>\n",
       "      <td>lSUPRA</td>\n",
       "      <td>0.47</td>\n",
       "    </tr>\n",
       "    <tr>\n",
       "      <th>20</th>\n",
       "      <td>inferiorparietal R</td>\n",
       "      <td>rIP</td>\n",
       "      <td>0.465</td>\n",
       "    </tr>\n",
       "    <tr>\n",
       "      <th>21</th>\n",
       "      <td>superiortemporal L</td>\n",
       "      <td>lST</td>\n",
       "      <td>0.46</td>\n",
       "    </tr>\n",
       "    <tr>\n",
       "      <th>22</th>\n",
       "      <td>rostralmiddlefrontal R</td>\n",
       "      <td>rRMF</td>\n",
       "      <td>0.45</td>\n",
       "    </tr>\n",
       "    <tr>\n",
       "      <th>23</th>\n",
       "      <td>pericalcarine R</td>\n",
       "      <td>rPERI</td>\n",
       "      <td>0.45</td>\n",
       "    </tr>\n",
       "    <tr>\n",
       "      <th>24</th>\n",
       "      <td>rostralmiddlefrontal L</td>\n",
       "      <td>lRMF</td>\n",
       "      <td>0.45</td>\n",
       "    </tr>\n",
       "    <tr>\n",
       "      <th>25</th>\n",
       "      <td>cuneus R</td>\n",
       "      <td>rCUN</td>\n",
       "      <td>0.44</td>\n",
       "    </tr>\n",
       "    <tr>\n",
       "      <th>26</th>\n",
       "      <td>rostralanteriorcingulate R</td>\n",
       "      <td>rRAC</td>\n",
       "      <td>0.44</td>\n",
       "    </tr>\n",
       "    <tr>\n",
       "      <th>27</th>\n",
       "      <td>postcentral L</td>\n",
       "      <td>lPOC</td>\n",
       "      <td>0.43</td>\n",
       "    </tr>\n",
       "    <tr>\n",
       "      <th>28</th>\n",
       "      <td>caudalanteriorcingulate R</td>\n",
       "      <td>rCAC</td>\n",
       "      <td>0.42</td>\n",
       "    </tr>\n",
       "    <tr>\n",
       "      <th>29</th>\n",
       "      <td>inferiortemporal L</td>\n",
       "      <td>lIT</td>\n",
       "      <td>0.415</td>\n",
       "    </tr>\n",
       "    <tr>\n",
       "      <th>30</th>\n",
       "      <td>entorhinal R</td>\n",
       "      <td>rENT</td>\n",
       "      <td>0.41</td>\n",
       "    </tr>\n",
       "    <tr>\n",
       "      <th>31</th>\n",
       "      <td>parahippocampal L</td>\n",
       "      <td>lPHIP</td>\n",
       "      <td>0.405</td>\n",
       "    </tr>\n",
       "    <tr>\n",
       "      <th>32</th>\n",
       "      <td>lateralorbitofrontal R</td>\n",
       "      <td>rLOF</td>\n",
       "      <td>0.405</td>\n",
       "    </tr>\n",
       "    <tr>\n",
       "      <th>33</th>\n",
       "      <td>paracentral R</td>\n",
       "      <td>rPARAC</td>\n",
       "      <td>0.4</td>\n",
       "    </tr>\n",
       "    <tr>\n",
       "      <th>34</th>\n",
       "      <td>NaN</td>\n",
       "      <td>NaN</td>\n",
       "      <td>0.395</td>\n",
       "    </tr>\n",
       "  </tbody>\n",
       "</table>\n",
       "</div>"
      ],
      "text/plain": [
       "                             0       1      2\n",
       "0               temporalpole R     rTP   0.86\n",
       "1                   fusiform R    rFUS   0.82\n",
       "2                 precentral R    rPRC  0.675\n",
       "3           superiorparietal L     lSP   0.64\n",
       "4                 precentral L    lPRC   0.59\n",
       "5        caudalmiddlefrontal R    rCMF   0.56\n",
       "6                   bankssts R    rBKS   0.56\n",
       "7        caudalmiddlefrontal L    ICMF   0.55\n",
       "8           isthmuscingulate R    rIST   0.53\n",
       "9                   bankssts L    lBKS   0.52\n",
       "10        posteriorcingulate R    rPCG    0.5\n",
       "11            middletemporal L     lMT   0.49\n",
       "12          inferiorparietal L     lIP  0.485\n",
       "13              temporalpole L     lTP   0.48\n",
       "14          isthmuscingulate L    lIST   0.48\n",
       "15                 precuneus L   lPREC   0.48\n",
       "16          lateraloccipital R     rLO   0.48\n",
       "17             parsorbitalis R    rPOB  0.475\n",
       "18                   lingual R    rLIN  0.475\n",
       "19             supramarginal L  lSUPRA   0.47\n",
       "20          inferiorparietal R     rIP  0.465\n",
       "21          superiortemporal L     lST   0.46\n",
       "22      rostralmiddlefrontal R    rRMF   0.45\n",
       "23             pericalcarine R   rPERI   0.45\n",
       "24      rostralmiddlefrontal L    lRMF   0.45\n",
       "25                    cuneus R    rCUN   0.44\n",
       "26  rostralanteriorcingulate R    rRAC   0.44\n",
       "27               postcentral L    lPOC   0.43\n",
       "28   caudalanteriorcingulate R    rCAC   0.42\n",
       "29          inferiortemporal L     lIT  0.415\n",
       "30                entorhinal R    rENT   0.41\n",
       "31           parahippocampal L   lPHIP  0.405\n",
       "32      lateralorbitofrontal R    rLOF  0.405\n",
       "33               paracentral R  rPARAC    0.4\n",
       "34                         NaN     NaN  0.395"
      ]
     },
     "execution_count": 61,
     "metadata": {},
     "output_type": "execute_result"
    }
   ],
   "source": [
    "allrois=sn.drop_duplicates(subset=['Fullname']) # Drop the duplicate name \n",
    "alluR=pd.DataFrame(allrois.values) #alluR is the unique ROIs\n",
    "alluR"
   ]
  },
  {
   "cell_type": "code",
   "execution_count": 62,
   "metadata": {},
   "outputs": [],
   "source": [
    "# alluR.to_csv('Top14.csv')"
   ]
  },
  {
   "cell_type": "code",
   "execution_count": 63,
   "metadata": {},
   "outputs": [],
   "source": [
    "# wpath=\"/home/sultan/EEG/Source_Level_Analysis/SVM_results/\"\n",
    "# dall=alluR\n",
    "# dall.to_csv(wpath+'Clear_top_rois_0.4_stability.csv')"
   ]
  },
  {
   "cell_type": "code",
   "execution_count": 64,
   "metadata": {},
   "outputs": [
    {
     "data": {
      "text/plain": [
       "1428"
      ]
     },
     "execution_count": 64,
     "metadata": {},
     "output_type": "execute_result"
    }
   ],
   "source": [
    "len(clf.scores_)"
   ]
  },
  {
   "cell_type": "markdown",
   "metadata": {},
   "source": [
    "# AllROIs_stability selection_score"
   ]
  },
  {
   "cell_type": "code",
   "execution_count": 65,
   "metadata": {},
   "outputs": [],
   "source": [
    "# g=clf.scores_\n",
    "# allROIs=range(0,68)\n",
    "# x=[];\n",
    "# for i in allROIs:\n",
    "# #     print i\n",
    "#     r=np.arange(i,1428,68)\n",
    "#     l=np.int_(r)\n",
    "# #     ll=g[r]\n",
    "#     ll=g[l]\n",
    "#     x.append(ll)\n",
    "# hh=pd.DataFrame(x)  \n",
    "# t=np.linspace(0,200,21)\n",
    "# yu=hh.values\n",
    "# # yu=hh.values[[0,1,2,3,4,16],:]\n",
    "# plt.plot(t,yu.T)\n",
    "# plt.xlim(0, 200)\n",
    "# plt.ylim(0,1)\n",
    "# plt.grid(True)\n",
    "# plt.ylabel(\"Stability scores\")\n",
    "# plt.xlabel(\"Epoch time (ms)\")\n",
    "# plt.title(\"Clear_all\")\n",
    "# # plt.legend(leg)\n",
    "# plt.show()"
   ]
  },
  {
   "cell_type": "code",
   "execution_count": 66,
   "metadata": {},
   "outputs": [],
   "source": [
    "# t=np.linspace(0,200,21)\n",
    "# yu=hh.values\n",
    "# # yu=hh.values[[0,1,2,3,4,16],:]\n",
    "# plt.plot(t,yu.T)\n",
    "# plt.xlim(0, 200)\n",
    "# plt.ylim(0,1)\n",
    "# plt.grid(True)\n",
    "# plt.ylabel(\"Stability scores\")\n",
    "# plt.xlabel(\"Epoch time (ms)\")\n",
    "# plt.show()"
   ]
  },
  {
   "cell_type": "markdown",
   "metadata": {},
   "source": [
    "# Top score selected ROIs"
   ]
  },
  {
   "cell_type": "code",
   "execution_count": 67,
   "metadata": {},
   "outputs": [],
   "source": [
    "# leg=['rTP','rFUS', 'rPRC','lPRC','lSP']\n",
    "# x=[];\n",
    "# for i in ROIs:\n",
    "# #     print i\n",
    "#     r=np.arange(i,1428,68)\n",
    "#     l=np.int_(r)\n",
    "# #     ll=g[r]\n",
    "#     ll=g[l]\n",
    "#     x.append(ll)\n",
    "# hh=pd.DataFrame(x)  \n",
    "# t=np.linspace(0,200,21)\n",
    "# yu=hh.values\n",
    "# # yu=hh.values[0:9,:]\n",
    "# # yu=hh.values[[0,1,2,3,4],:]\n",
    "# plt.plot(t,yu.T)\n",
    "# plt.xlim(0, 200)\n",
    "# plt.ylim(0,1)\n",
    "# plt.grid(True)\n",
    "# plt.ylabel(\"Stability scores\")\n",
    "# plt.xlabel(\"Epoch time (ms)\")\n",
    "# plt.title(\"Clear\")\n",
    "# # plt.legend(leg)\n",
    "# plt.show()"
   ]
  },
  {
   "cell_type": "code",
   "execution_count": 68,
   "metadata": {},
   "outputs": [],
   "source": [
    "# leg=['rTP','rFUS', 'rPRC','lPRC','lSP']\n",
    "# x=[];\n",
    "# for i in ROIs:\n",
    "# #     print i\n",
    "#     r=np.arange(i,1428,68)\n",
    "#     l=np.int_(r)\n",
    "# #     ll=g[r]\n",
    "#     ll=g[l]\n",
    "#     x.append(ll)\n",
    "# hh=pd.DataFrame(x)  \n",
    "# t=np.linspace(0,200,21)\n",
    "# yu=hh.values\n",
    "# # yu=hh.values[0:9,:]\n",
    "# yu=hh.values[[0,1,2,3,4],:]\n",
    "# plt.plot(t,yu.T)\n",
    "# plt.xlim(0, 200)\n",
    "# plt.ylim(0,1)\n",
    "# # plt.ylim(0.5,1)\n",
    "# plt.grid(True)\n",
    "# plt.ylabel(\"Stability scores\")\n",
    "# plt.xlabel(\"Epoch time (ms)\")\n",
    "# plt.title(\"Clear\")\n",
    "# plt.legend(leg)\n",
    "# plt.show()"
   ]
  },
  {
   "cell_type": "code",
   "execution_count": 69,
   "metadata": {},
   "outputs": [],
   "source": [
    "# ROIs"
   ]
  },
  {
   "cell_type": "code",
   "execution_count": 70,
   "metadata": {},
   "outputs": [],
   "source": [
    "# leg=['rTP','rFUS', 'rPRC','lPRC','lSP']\n",
    "# x=[];\n",
    "# for i in ROIs:\n",
    "# #     print i\n",
    "#     r=np.arange(i,1428,68)\n",
    "#     l=np.int_(r)\n",
    "# #     ll=g[r]\n",
    "#     ll=g[l]\n",
    "#     x.append(ll)\n",
    "# hh=pd.DataFrame(x)  \n",
    "# t=np.linspace(0,200,21)\n",
    "# yu=hh.values\n",
    "# # yu=hh.values[0:9,:]\n",
    "# yu=hh.values[[0,1,2],:]\n",
    "# plt.plot(t,yu.T)\n",
    "# plt.xlim(0, 200)\n",
    "# plt.ylim(top=1)\n",
    "# # plt.ylim(0.50,1)\n",
    "# plt.grid(True)\n",
    "# plt.ylabel(\"Stability scores\")\n",
    "# plt.xlabel(\"Epoch time (ms)\")\n",
    "# plt.title(\"Clear\")\n",
    "# plt.legend(leg)\n",
    "# plt.show()"
   ]
  },
  {
   "cell_type": "code",
   "execution_count": 71,
   "metadata": {},
   "outputs": [],
   "source": [
    "# ROIs=range(0,68)\n",
    "# x=[];\n",
    "# for i in ROIs:\n",
    "# #     print i\n",
    "#     r=np.arange(i,1428,68)\n",
    "#     l=np.int_(r)\n",
    "# #     ll=g[r]\n",
    "#     ll=g[l]\n",
    "#     x.append(ll)\n",
    "# hh=pd.DataFrame(x) "
   ]
  },
  {
   "cell_type": "code",
   "execution_count": 72,
   "metadata": {},
   "outputs": [
    {
     "name": "stdout",
     "output_type": "stream",
     "text": [
      "1428\n",
      "283\n",
      "185\n",
      "122\n",
      "68\n",
      "12\n",
      "4\n",
      "2\n",
      "2\n",
      "[68, 63, 57, 47, 34, 11, 4, 2, 2]\n"
     ]
    }
   ],
   "source": [
    "urois=[];\n",
    "names=range(0,1428) # Feature names used as 1-1428 features\n",
    "cn=np.asarray(names) # converted as numpy.ndarray\n",
    "# print \"Features sorted by their score:\"\n",
    "b= sorted(zip(map(lambda x: round(x, 4), clf.scores_), cn), reverse=True)\n",
    "# print b\n",
    "bb=np.asarray(b)\n",
    "for i in range(0,9):\n",
    "    rakfe=bb[bb[:,0]>=Th_2_Bins[i]]\n",
    "    # rakfe=bb[bb[:,0]>=.50]\n",
    "    ROIs=rakfe[:,1]%68\n",
    "#     print ROIs\n",
    "    print len(ROIs)\n",
    "    un= len(np.unique(ROIs));\n",
    "    urois.append(un)\n",
    "print urois    "
   ]
  },
  {
   "cell_type": "code",
   "execution_count": 73,
   "metadata": {},
   "outputs": [
    {
     "name": "stdout",
     "output_type": "stream",
     "text": [
      "0.00 0.88 0.84 1428\n",
      "0.10 0.92 0.92 283\n",
      "0.20 0.90 0.90 185\n",
      "0.30 0.90 0.90 122\n",
      "0.40 0.91 0.91 68\n",
      "0.50 0.80 0.80 12\n",
      "0.60 0.65 0.64 4\n",
      "0.70 0.64 0.59 2\n",
      "0.80 0.64 0.59 2\n"
     ]
    },
    {
     "data": {
      "text/html": [
       "<div>\n",
       "<style scoped>\n",
       "    .dataframe tbody tr th:only-of-type {\n",
       "        vertical-align: middle;\n",
       "    }\n",
       "\n",
       "    .dataframe tbody tr th {\n",
       "        vertical-align: top;\n",
       "    }\n",
       "\n",
       "    .dataframe thead th {\n",
       "        text-align: right;\n",
       "    }\n",
       "</style>\n",
       "<table border=\"1\" class=\"dataframe\">\n",
       "  <thead>\n",
       "    <tr style=\"text-align: right;\">\n",
       "      <th></th>\n",
       "      <th>Threshold</th>\n",
       "      <th>ACC</th>\n",
       "      <th>AUC</th>\n",
       "      <th>NoEle</th>\n",
       "      <th>UR</th>\n",
       "    </tr>\n",
       "  </thead>\n",
       "  <tbody>\n",
       "    <tr>\n",
       "      <th>0</th>\n",
       "      <td>0.000</td>\n",
       "      <td>0.877</td>\n",
       "      <td>0.838</td>\n",
       "      <td>1428</td>\n",
       "      <td>68.000</td>\n",
       "    </tr>\n",
       "    <tr>\n",
       "      <th>1</th>\n",
       "      <td>0.100</td>\n",
       "      <td>0.922</td>\n",
       "      <td>0.917</td>\n",
       "      <td>283</td>\n",
       "      <td>63.000</td>\n",
       "    </tr>\n",
       "    <tr>\n",
       "      <th>2</th>\n",
       "      <td>0.200</td>\n",
       "      <td>0.903</td>\n",
       "      <td>0.899</td>\n",
       "      <td>185</td>\n",
       "      <td>57.000</td>\n",
       "    </tr>\n",
       "    <tr>\n",
       "      <th>3</th>\n",
       "      <td>0.300</td>\n",
       "      <td>0.903</td>\n",
       "      <td>0.897</td>\n",
       "      <td>122</td>\n",
       "      <td>47.000</td>\n",
       "    </tr>\n",
       "    <tr>\n",
       "      <th>4</th>\n",
       "      <td>0.400</td>\n",
       "      <td>0.906</td>\n",
       "      <td>0.906</td>\n",
       "      <td>68</td>\n",
       "      <td>34.000</td>\n",
       "    </tr>\n",
       "    <tr>\n",
       "      <th>5</th>\n",
       "      <td>0.500</td>\n",
       "      <td>0.799</td>\n",
       "      <td>0.799</td>\n",
       "      <td>12</td>\n",
       "      <td>11.000</td>\n",
       "    </tr>\n",
       "    <tr>\n",
       "      <th>6</th>\n",
       "      <td>0.600</td>\n",
       "      <td>0.649</td>\n",
       "      <td>0.643</td>\n",
       "      <td>4</td>\n",
       "      <td>4.000</td>\n",
       "    </tr>\n",
       "    <tr>\n",
       "      <th>7</th>\n",
       "      <td>0.700</td>\n",
       "      <td>0.643</td>\n",
       "      <td>0.594</td>\n",
       "      <td>2</td>\n",
       "      <td>2.000</td>\n",
       "    </tr>\n",
       "    <tr>\n",
       "      <th>8</th>\n",
       "      <td>0.800</td>\n",
       "      <td>0.643</td>\n",
       "      <td>0.594</td>\n",
       "      <td>2</td>\n",
       "      <td>2.000</td>\n",
       "    </tr>\n",
       "  </tbody>\n",
       "</table>\n",
       "</div>"
      ],
      "text/plain": [
       "  Threshold    ACC    AUC  NoEle      UR\n",
       "0     0.000  0.877  0.838   1428  68.000\n",
       "1     0.100  0.922  0.917    283  63.000\n",
       "2     0.200  0.903  0.899    185  57.000\n",
       "3     0.300  0.903  0.897    122  47.000\n",
       "4     0.400  0.906  0.906     68  34.000\n",
       "5     0.500  0.799  0.799     12  11.000\n",
       "6     0.600  0.649  0.643      4   4.000\n",
       "7     0.700  0.643  0.594      2   2.000\n",
       "8     0.800  0.643  0.594      2   2.000"
      ]
     },
     "execution_count": 73,
     "metadata": {},
     "output_type": "execute_result"
    }
   ],
   "source": [
    "All_ACC=[]\n",
    "All_AUC=[]\n",
    "ALL_Bins=[]\n",
    "All_SV=[]\n",
    "All_UR=[];\n",
    "NumberofElement=[]\n",
    "for i,j,k,l,m in zip(Th_2_Bins,ACC_Th2,AUC_Th2, SV,urois):\n",
    "    Th2Index=np.squeeze(np.asarray(np.where(clf.scores_>=i)))\n",
    "#     print (\"{0:.2f}\".format(i)),(\"{0:.2f}\".format(j)),(\"{0:.2f}\".format(k)),len(Th2Index),(\"{0:.2f}\".format(l))\n",
    "#     NumberofElement.append(len(Th2Index))\n",
    "    print (\"{0:.2f}\".format(i)),(\"{0:.2f}\".format(j)),(\"{0:.2f}\".format(k)),len(Th2Index)\n",
    "    NumberofElement.append(len(Th2Index))\n",
    "    ALL_Bins.append(\"{0:.3f}\".format(i))\n",
    "    All_ACC.append(\"{0:.3f}\".format(j))\n",
    "    All_AUC.append(\"{0:.3f}\".format(k))\n",
    "    All_SV.append(\"{0:.3f}\".format(l))\n",
    "    All_UR.append(\"{0:.3f}\".format(m))\n",
    "\n",
    "# Selected_Feature_Result=pd.concat([pd.DataFrame(ALL_Bins),pd.DataFrame(All_ACC),\n",
    "#            pd.DataFrame(All_AUC),pd.DataFrame(NumberofElement),pd.DataFrame(All_SV)],axis=1)\n",
    "# Selected_Feature_Result.columns=['Threshold','ACC','AUC','NoEle','SV']\n",
    "Selected_Feature_Result=pd.concat([pd.DataFrame(ALL_Bins),pd.DataFrame(All_ACC),\n",
    "           pd.DataFrame(All_AUC),pd.DataFrame(NumberofElement),pd.DataFrame(All_UR)],axis=1)\n",
    "Selected_Feature_Result.columns=['Threshold','ACC','AUC','NoEle','UR']\n",
    "Selected_Feature_Result"
   ]
  },
  {
   "cell_type": "code",
   "execution_count": 74,
   "metadata": {},
   "outputs": [],
   "source": [
    "# wpath=\"/home/sultan/EEG/Source_Level_Analysis/SVM_results/\"\n",
    "# dall=alluR\n",
    "# dall.to_csv(wpath+'Clear_top_rois_0.4_stability.csv')"
   ]
  },
  {
   "cell_type": "code",
   "execution_count": 75,
   "metadata": {},
   "outputs": [
    {
     "data": {
      "text/plain": [
       "48"
      ]
     },
     "execution_count": 75,
     "metadata": {},
     "output_type": "execute_result"
    }
   ],
   "source": [
    "rs"
   ]
  }
 ],
 "metadata": {
  "kernelspec": {
   "display_name": "Python 2",
   "language": "python",
   "name": "python2"
  },
  "language_info": {
   "codemirror_mode": {
    "name": "ipython",
    "version": 2
   },
   "file_extension": ".py",
   "mimetype": "text/x-python",
   "name": "python",
   "nbconvert_exporter": "python",
   "pygments_lexer": "ipython2",
   "version": "2.7.6"
  }
 },
 "nbformat": 4,
 "nbformat_minor": 2
}
