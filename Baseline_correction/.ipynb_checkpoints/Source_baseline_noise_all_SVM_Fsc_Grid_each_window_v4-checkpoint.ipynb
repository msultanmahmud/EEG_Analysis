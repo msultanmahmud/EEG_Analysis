{
 "cells": [
  {
   "cell_type": "code",
   "execution_count": 1,
   "metadata": {},
   "outputs": [],
   "source": [
    "import numpy as np\n",
    "import pandas as pd\n",
    "from sklearn import svm, metrics,preprocessing\n",
    "#from sklearn import datasets\n",
    "from sklearn.model_selection import train_test_split, GridSearchCV\n",
    "from sklearn.metrics import accuracy_score,confusion_matrix,roc_curve, auc\n",
    "from matplotlib import pyplot as plt\n",
    "from collections import Counter\n",
    "from scipy.stats import norm\n",
    "# import seaborn as sns; sns.set(font_scale=1.2)\n",
    "%matplotlib inline"
   ]
  },
  {
   "cell_type": "code",
   "execution_count": 2,
   "metadata": {},
   "outputs": [],
   "source": [
    "# path='/home/sultan/EEG/Source_Level_Analysis/25sam_10ms_clear_all_erp.csv'\n",
    "# path='/home/sultan/EEG/Source_Level_Analysis/50tr10ms_all_clear_erp.csv'\n",
    "# path=\"/home/sultan/EEG/Source_Level_Analysis/75sam_10ms_clear_all_erp.csv\"\n",
    "# path=\"/home/sultan/EEG/Source_Level_Analysis/100sam_10ms_clear_all_erp.csv\"\n",
    "#path=\"/home/sultan/EEG/Source_Level_Analysis/Baseline_100sam_10ms_clear_all_erp.csv\"\n",
    "path=\"/home/sultan/EEG/Source_Level_Analysis/Baseline_100sam_10ms_noise_all_erp.csv\"\n",
    "dataset =pd.read_csv(path)"
   ]
  },
  {
   "cell_type": "code",
   "execution_count": 3,
   "metadata": {},
   "outputs": [],
   "source": [
    "Xc=dataset.iloc[:,2:].values\n",
    "y=dataset.iloc[:,1].values\n",
    "scaler = preprocessing.StandardScaler()\n",
    "X = scaler.fit_transform(Xc)"
   ]
  },
  {
   "cell_type": "code",
   "execution_count": 4,
   "metadata": {},
   "outputs": [],
   "source": [
    "X_train, X_test, y_train, y_test = train_test_split(X,y, test_size=.20, random_state=56) "
   ]
  },
  {
   "cell_type": "code",
   "execution_count": 5,
   "metadata": {},
   "outputs": [
    {
     "data": {
      "text/plain": [
       "((361, 1428), (361,))"
      ]
     },
     "execution_count": 5,
     "metadata": {},
     "output_type": "execute_result"
    }
   ],
   "source": [
    "X_test.shape, y_test.shape"
   ]
  },
  {
   "cell_type": "code",
   "execution_count": 6,
   "metadata": {},
   "outputs": [
    {
     "data": {
      "text/plain": [
       "(array([0., 1.]), array([150, 211]))"
      ]
     },
     "execution_count": 6,
     "metadata": {},
     "output_type": "execute_result"
    }
   ],
   "source": [
    "np.unique(y_test)\n",
    "np.unique(y_test,return_counts=True)"
   ]
  },
  {
   "cell_type": "markdown",
   "metadata": {},
   "source": [
    "# Grid search"
   ]
  },
  {
   "cell_type": "code",
   "execution_count": 7,
   "metadata": {},
   "outputs": [],
   "source": [
    "# cv=5\n",
    "# from sklearn.model_selection import GridSearchCV\n",
    "# # parameters = {'kernel':['rbf'], 'C':[1, 6.5, 10,20,100,1000],'gamma':[0.01,2/1428.0,1/1428.0]}\n",
    "# parameters = {'kernel':['rbf'], 'C':[1, 6.5, 10,20,100,1000],'gamma':[0.01,0.002,0.00069,0.0007,0.0005]}\n",
    "# svc = svm.SVC()\n",
    "# clf = GridSearchCV(svc, parameters,cv=cv)\n",
    "# clf.fit(X_train, y_train)"
   ]
  },
  {
   "cell_type": "code",
   "execution_count": 8,
   "metadata": {},
   "outputs": [],
   "source": [
    "# cv=5\n",
    "# from sklearn.model_selection import GridSearchCV\n",
    "# parameters = {'kernel':['rbf'], 'C':[0.90,1.00,1.25],'gamma':[3.0,3.25,3.25 ]}\n",
    "# svc = svm.SVC()\n",
    "# clf = GridSearchCV(svc, parameters,cv=cv)\n",
    "# clf.fit(X_train, y_train)"
   ]
  },
  {
   "cell_type": "code",
   "execution_count": 9,
   "metadata": {},
   "outputs": [],
   "source": [
    "# # Average Scores\n",
    "# #  print clf.cv_results_\n",
    "# # clf.best_estimator_\n",
    "# # np.mean\n",
    "# scores=clf.cv_results_['mean_test_score']\n",
    "# print(\"Accuracy:%0.3f (+/-%0.3f)\" %(scores.mean(), scores.std()*2))"
   ]
  },
  {
   "cell_type": "code",
   "execution_count": 10,
   "metadata": {
    "scrolled": true
   },
   "outputs": [],
   "source": [
    "# pred=clf.best_estimator_.predict(X_test)\n",
    "# acc1=accuracy_score(y_test, pred)\n",
    "# print \"Accuracy:\", clf.score(X_test, y_test) \n",
    "# print acc1\n",
    "# # print pred\n",
    "# # print y_test\n",
    "# print \"support:\", len(clf.best_estimator_.support_vectors_)*100.0/(X_train.shape[0])"
   ]
  },
  {
   "cell_type": "code",
   "execution_count": 11,
   "metadata": {},
   "outputs": [],
   "source": [
    "# conf_mat=confusion_matrix(y_test,pred)\n",
    "# conf_mat"
   ]
  },
  {
   "cell_type": "code",
   "execution_count": 12,
   "metadata": {},
   "outputs": [],
   "source": [
    "# from sklearn.metrics import classification_report\n",
    "# #target_names = ['class 0', 'class 1', 'class 2']\n",
    "# print(classification_report(y_test, pred))"
   ]
  },
  {
   "cell_type": "code",
   "execution_count": 13,
   "metadata": {},
   "outputs": [],
   "source": [
    "# false_positive_rate, true_positive_rate, thresholds = roc_curve(y_test,pred)\n",
    "# roc_auc = auc(false_positive_rate, true_positive_rate)\n",
    "# roc_auc"
   ]
  },
  {
   "cell_type": "code",
   "execution_count": 14,
   "metadata": {},
   "outputs": [],
   "source": [
    "# fpr, tpr, thresholds = metrics.roc_curve(y_test,pred)\n",
    "# roc_auc=metrics.auc(fpr, tpr)\n",
    "# roc_auc"
   ]
  },
  {
   "cell_type": "code",
   "execution_count": 15,
   "metadata": {},
   "outputs": [],
   "source": [
    "# clf.best_estimator_"
   ]
  },
  {
   "cell_type": "code",
   "execution_count": 16,
   "metadata": {},
   "outputs": [],
   "source": [
    "# cv=5\n",
    "# from sklearn.model_selection import GridSearchCV\n",
    "# parameters = {'kernel':['rbf'], 'C':[1],'gamma':[0.01 ]}\n",
    "# svc = svm.SVC()\n",
    "# clf = GridSearchCV(svc, parameters,cv=cv)\n",
    "# clf.fit(X_train, y_train)"
   ]
  },
  {
   "cell_type": "markdown",
   "metadata": {},
   "source": [
    "# Bayesian Optimization"
   ]
  },
  {
   "cell_type": "code",
   "execution_count": 17,
   "metadata": {},
   "outputs": [],
   "source": [
    "# cv=5\n",
    "# from sklearn.model_selection import GridSearchCV\n",
    "# parameters = {'kernel':['rbf'], 'C':[1,5,10*.65,10**0.651,7,8],'gamma':[0.1,0.0005,0.000612,0.0006815,10**-3.20]}\n",
    "# svc = svm.SVC()\n",
    "# clf = GridSearchCV(svc, parameters,cv=cv)\n",
    "# clf.fit(X_train, y_train)\n",
    "# pred=clf.best_estimator_.predict(X_test)\n",
    "# print clf.score(X_test, y_test)  \n",
    "# # print pred\n",
    "# # print y_test\n",
    "# print(classification_report(y_test, pred))"
   ]
  },
  {
   "cell_type": "code",
   "execution_count": 18,
   "metadata": {},
   "outputs": [],
   "source": [
    "# false_positive_rate, true_positive_rate, thresholds = roc_curve(y_test,pred)\n",
    "# roc_auc = auc(false_positive_rate, true_positive_rate)\n",
    "# roc_auc"
   ]
  },
  {
   "cell_type": "code",
   "execution_count": 19,
   "metadata": {},
   "outputs": [],
   "source": [
    "# clf.best_estimator_"
   ]
  },
  {
   "cell_type": "code",
   "execution_count": 20,
   "metadata": {},
   "outputs": [],
   "source": [
    "# pred=clf.best_estimator_.predict(X_test)\n",
    "# print \"Accuracy:\", clf.score(X_test, y_test)  \n",
    "# # print pred\n",
    "# # print y_test\n",
    "# print \"support:\", len(clf.best_estimator_.support_vectors_)*100.0/(X_train.shape[0])"
   ]
  },
  {
   "cell_type": "code",
   "execution_count": null,
   "metadata": {},
   "outputs": [],
   "source": []
  },
  {
   "cell_type": "code",
   "execution_count": 21,
   "metadata": {},
   "outputs": [],
   "source": [
    "# pred=clf.best_estimator_.predict(X_test)\n",
    "# clf.score(X_test, y_test)  \n",
    "# # print pred\n",
    "# # print y_test"
   ]
  },
  {
   "cell_type": "code",
   "execution_count": 22,
   "metadata": {},
   "outputs": [],
   "source": [
    "# k=0;j=68;\n",
    "# for i in range(0,21):\n",
    "#     print k,j\n",
    "#     k=k+68;j=j+68;"
   ]
  },
  {
   "cell_type": "code",
   "execution_count": null,
   "metadata": {},
   "outputs": [],
   "source": [
    "k=0;j=68; acgw=[];pmw=[];aucw=[];\n",
    "for i in range(0,21):\n",
    "    cv=5\n",
    "    from sklearn.model_selection import GridSearchCV\n",
    "    parameters = {'kernel':['rbf'], 'C':[1, 10,20,30, 40, 50, 60, 70, 90,100,1000],'gamma':[0.01,0.0147, 0.016, 0.019, 0.021, 2/1428.0,1/1428.0]}\n",
    "    svc = svm.SVC()\n",
    "    clf = GridSearchCV(svc, parameters,cv=cv)\n",
    "    clf.fit(X_train[:,k:j], y_train)\n",
    "    pred=clf.best_estimator_.predict(X_test[:,k:j])\n",
    "    acc=clf.score(X_test[:,k:j], y_test)\n",
    "    acgw=np.append(acgw,acc)\n",
    "    print \"Accuracy:\",acc\n",
    "    perf=classification_report(y_test, pred)\n",
    "    pmw.append(perf)\n",
    "    fpr, tpr, thresholds = metrics.roc_curve(y_test,pred)\n",
    "    roc_auc=metrics.auc(fpr, tpr)\n",
    "    roc_auc\n",
    "    aucw.append(roc_auc)\n",
    "    print\"ROC\", roc_auc\n",
    "    print perf\n",
    "    print k,j\n",
    "    k=k+68;j=j+68;\n",
    "#     scores=clf.cv_results_['mean_test_score']\n",
    "#     print(\"Accuracy:%0.3f (+/-%0.3f)\" %(scores.mean(), scores.std()*2))"
   ]
  },
  {
   "cell_type": "code",
   "execution_count": null,
   "metadata": {},
   "outputs": [],
   "source": [
    "clf.best_estimator_"
   ]
  },
  {
   "cell_type": "code",
   "execution_count": null,
   "metadata": {},
   "outputs": [],
   "source": [
    "yr=X_test[:,0:68]\n",
    "yr.shape"
   ]
  },
  {
   "cell_type": "code",
   "execution_count": null,
   "metadata": {},
   "outputs": [],
   "source": [
    "dataset\n",
    "Xc=dataset.iloc[:,2:].values\n",
    "y=dataset.iloc[:,1].values\n",
    "# Xc"
   ]
  },
  {
   "cell_type": "code",
   "execution_count": null,
   "metadata": {},
   "outputs": [],
   "source": [
    "X.shape\n",
    "np.max(acgw)"
   ]
  },
  {
   "cell_type": "markdown",
   "metadata": {},
   "source": [
    "# Hemisphere"
   ]
  },
  {
   "cell_type": "code",
   "execution_count": null,
   "metadata": {},
   "outputs": [],
   "source": [
    "a=range(0,(X.shape[1]),2)\n",
    "d11=X[:,a];\n",
    "X_train, X_test, y_train, y_test = train_test_split(d11,y, test_size=.20, random_state=56) \n",
    "cv=5\n",
    "from sklearn.model_selection import GridSearchCV\n",
    "# parameters = {'kernel':['rbf'], 'C':[1, 10,100,1000],'gamma':[0.01,2/1428.0,1/1428.0]}\n",
    "parameters = {'kernel':['rbf'], 'C':[1, 10,20,30, 40, 50, 60, 70, 90,100,1000],'gamma':[0.01,0.0147, 0.016, 0.019, 0.021, 2/1428.0,1/1428.0]}\n",
    "svc = svm.SVC()\n",
    "clf = GridSearchCV(svc, parameters,cv=cv)\n",
    "clf.fit(X_train, y_train)\n",
    "pred=clf.best_estimator_.predict(X_test)\n",
    "print clf.score(X_test, y_test)  \n",
    "fpr, tpr, thresholds = metrics.roc_curve(y_test,pred)\n",
    "roc_auc=metrics.auc(fpr, tpr)\n",
    "roc_auc\n",
    "print roc_auc\n",
    "# print pred\n",
    "# print y_test\n",
    "print(classification_report(y_test, pred))"
   ]
  },
  {
   "cell_type": "code",
   "execution_count": null,
   "metadata": {},
   "outputs": [],
   "source": [
    "false_positive_rate, true_positive_rate, thresholds = roc_curve(y_test,pred)\n",
    "roc_auc = auc(false_positive_rate, true_positive_rate)\n",
    "roc_auc"
   ]
  },
  {
   "cell_type": "code",
   "execution_count": null,
   "metadata": {},
   "outputs": [],
   "source": [
    "pred=clf.best_estimator_.predict(X_test)\n",
    "print \"Accuracy:\", clf.score(X_test, y_test)  \n",
    "# print pred\n",
    "# print y_test\n",
    "print \"support:\", len(clf.best_estimator_.support_vectors_)*100.0/(X_train.shape[0])"
   ]
  },
  {
   "cell_type": "code",
   "execution_count": null,
   "metadata": {},
   "outputs": [],
   "source": [
    "clf.best_estimator_"
   ]
  },
  {
   "cell_type": "code",
   "execution_count": null,
   "metadata": {},
   "outputs": [],
   "source": [
    "# only 34 features \n",
    "parameters = {'kernel':['rbf'], 'C':[1, 10,20,30, 40, 50, 60, 70, 90,100,1000],'gamma':[0.015,0.025, 0.029, 0.030,0.035]}\n",
    "svc = svm.SVC()\n",
    "k=0;j=34; acgr=[];aucrh=[];pmrh=[];\n",
    "for i in range(0,21):\n",
    "    cv=5\n",
    "    from sklearn.model_selection import GridSearchCV\n",
    "#     parameters = {'kernel':['rbf'], 'C':[1, 10,100,1000],'gamma':[0.01,2/1428.0,1/1428.0]}\n",
    "    svc = svm.SVC()\n",
    "    clf = GridSearchCV(svc, parameters,cv=cv)\n",
    "    clf.fit(X_train[:,k:j], y_train)\n",
    "    pred=clf.best_estimator_.predict(X_test[:,k:j])\n",
    "    acc=clf.score(X_test[:,k:j], y_test)\n",
    "    acgr=np.append(acgr,acc)\n",
    "    print \"Accuracy:\", acc\n",
    "    perf=classification_report(y_test, pred)\n",
    "    pmrh.append(perf)\n",
    "    fpr, tpr, thresholds = metrics.roc_curve(y_test,pred)\n",
    "    roc_auc=metrics.auc(fpr, tpr)\n",
    "    roc_auc\n",
    "    aucrh.append(roc_auc)\n",
    "    print \"ROC:\", roc_auc\n",
    "    print perf\n",
    "    print k,j\n",
    "    k=k+34;j=j+34;"
   ]
  },
  {
   "cell_type": "markdown",
   "metadata": {},
   "source": [
    "# LH"
   ]
  },
  {
   "cell_type": "code",
   "execution_count": null,
   "metadata": {},
   "outputs": [],
   "source": [
    "b=range(1,(X.shape[1]),2)\n",
    "d22=X[:,b];\n",
    "X_train, X_test, y_train, y_test = train_test_split(d22,y, test_size=.20, random_state=56) \n",
    "cv=5\n",
    "from sklearn.model_selection import GridSearchCV\n",
    "# parameters = {'kernel':['rbf'], 'C':[1, 10,100,1000],'gamma':[0.01,2/1428.0,1/1428.0]}\n",
    "parameters = {'kernel':['rbf'], 'C':[1, 10,20,30, 40, 50, 60, 70, 90,100,1000],'gamma':[0.01,0.0147, 0.016, 0.019, 0.021, 2/1428.0,1/1428.0]}\n",
    "svc = svm.SVC()\n",
    "clf = GridSearchCV(svc, parameters,cv=cv)\n",
    "clf.fit(X_train, y_train)\n",
    "pred=clf.best_estimator_.predict(X_test)\n",
    "# print clf.score(X_test, y_test)  \n",
    "# print pred\n",
    "# print y_test\n",
    "perf=classification_report(y_test, pred)\n",
    "fpr, tpr, thresholds = metrics.roc_curve(y_test,pred)\n",
    "roc_auc=metrics.auc(fpr, tpr)\n",
    "roc_auc\n",
    "print roc_auc\n",
    "print perf"
   ]
  },
  {
   "cell_type": "code",
   "execution_count": null,
   "metadata": {},
   "outputs": [],
   "source": [
    "false_positive_rate, true_positive_rate, thresholds = roc_curve(y_test,pred)\n",
    "roc_auc = auc(false_positive_rate, true_positive_rate)\n",
    "roc_auc"
   ]
  },
  {
   "cell_type": "code",
   "execution_count": null,
   "metadata": {},
   "outputs": [],
   "source": [
    "pred=clf.best_estimator_.predict(X_test)\n",
    "print \"Accuracy:\", clf.score(X_test, y_test)  \n",
    "# print pred\n",
    "# print y_test\n",
    "print \"support:\", len(clf.best_estimator_.support_vectors_)*100.0/(X_train.shape[0])"
   ]
  },
  {
   "cell_type": "code",
   "execution_count": null,
   "metadata": {},
   "outputs": [],
   "source": [
    "# acg=[];\n",
    "# for i in range(0,6,2):\n",
    "#     acg=np.append(acg,i)"
   ]
  },
  {
   "cell_type": "code",
   "execution_count": null,
   "metadata": {},
   "outputs": [],
   "source": [
    "clf.best_estimator_"
   ]
  },
  {
   "cell_type": "code",
   "execution_count": null,
   "metadata": {},
   "outputs": [],
   "source": [
    "k=0;j=34; acgl=[];auclh=[];pmlh=[];\n",
    "for i in range(0,21):\n",
    "    cv=5\n",
    "    from sklearn.model_selection import GridSearchCV\n",
    "#     parameters = {'kernel':['rbf'], 'C':[1, 10,100,1000],'gamma':[0.01,2/1428.0,1/1428.0]}\n",
    "    parameters = {'kernel':['rbf'], 'C':[1, 10,20,30, 40, 50, 60, 70, 90,100,1000],'gamma':[0.015,0.025, 0.029, 0.030,0.035]}\n",
    "    svc = svm.SVC()\n",
    "    clf = GridSearchCV(svc, parameters,cv=cv)\n",
    "    clf.fit(X_train[:,k:j], y_train)\n",
    "    pred=clf.best_estimator_.predict(X_test[:,k:j])\n",
    "    acc=clf.score(X_test[:,k:j], y_test)\n",
    "    acgl=np.append(acgl,acc)\n",
    "    print \"Accuracy:\", acc\n",
    "    perf=classification_report(y_test, pred)\n",
    "    pmlh.append(perf)\n",
    "    fpr, tpr, thresholds = metrics.roc_curve(y_test,pred)\n",
    "    roc_auc=metrics.auc(fpr, tpr)\n",
    "    roc_auc\n",
    "    auclh.append(roc_auc)\n",
    "    print \"ROC:\", roc_auc\n",
    "    print perf\n",
    "    print k,j\n",
    "    k=k+34;j=j+34;"
   ]
  },
  {
   "cell_type": "code",
   "execution_count": null,
   "metadata": {},
   "outputs": [],
   "source": [
    "t=np.linspace(0,200,21, endpoint=True)\n",
    "time=pd.DataFrame(t)\n",
    "# a=pd.concat([time,pd.DataFrame(acgw),pd.DataFrame(acgl),pd.DataFrame(acgr)],axis=1, keys=[ 'time',\"Whole\", \"LH\", \"RH\"])\n",
    "a=pd.concat([time,pd.DataFrame(acgw),pd.DataFrame(acgr),pd.DataFrame(acgl)],axis=1, keys=[ 'time',\"Whole\", \"LH\", \"RH\"])"
   ]
  },
  {
   "cell_type": "code",
   "execution_count": null,
   "metadata": {},
   "outputs": [],
   "source": [
    "np.max(acgl)\n",
    "np.max(a.iloc[:,3])"
   ]
  },
  {
   "cell_type": "code",
   "execution_count": null,
   "metadata": {},
   "outputs": [],
   "source": [
    "a"
   ]
  },
  {
   "cell_type": "markdown",
   "metadata": {},
   "source": [
    "# Writing the csv data all"
   ]
  },
  {
   "cell_type": "code",
   "execution_count": null,
   "metadata": {},
   "outputs": [],
   "source": [
    "# wpath=\"/home/sultan/EEG/Source_Level_Analysis/SVM_results/\"\n",
    "# dall=a\n",
    "# dall.to_csv(wpath+'svm_res_100sam_10ms_clear_v1.csv')"
   ]
  },
  {
   "cell_type": "code",
   "execution_count": null,
   "metadata": {},
   "outputs": [],
   "source": [
    "axis_font = {'fontname':'Arial', 'size':'15'}\n",
    "#tw1=tad.iloc[1:,0];Acdw1=tad.iloc[1:,1];\n",
    "tw1=a.iloc[0:,0];Acdw=a.iloc[0:,1];Acdlh=a.iloc[0:,2];Acdrh=a.iloc[0:,3]\n",
    "# plt.plot(tw1,Acdw1,c='g')\n",
    "plt.plot(tw1,Acdw,'g',linewidth=2,marker='*')\n",
    "plt.plot(tw1, Acdlh,'--r',linewidth=2,marker='o')\n",
    "plt.plot(tw1, Acdrh,'--b',linewidth=2,marker='x')\n",
    "plt.title(\"100ms_10ms_clear\")\n",
    "plt.xlim(0,200)\n",
    "# plt.plot(tw1,Acdw1, 'k--', label='noise')\n",
    "# plt.xlabel('Time (ms)',**axis_font)\n",
    "# plt.ylabel('Accuracy (%)',**axis_font)\n",
    "# plt.title('Whole brain',**axis_font)\n",
    "# plt.yticks(**axis_font)\n",
    "# plt.xticks(**axis_font)\n",
    "plt.grid(True)\n",
    "plt.tight_layout()\n",
    "plt.gca().legend(('Whole','LH','RH'),fontsize=16,loc='best')\n",
    "# plt.savefig('whole_acc_timem.eps')\n",
    "# plt.savefig('whole_acc_timem.tif')\n",
    "plt.show()"
   ]
  },
  {
   "cell_type": "code",
   "execution_count": null,
   "metadata": {},
   "outputs": [],
   "source": [
    "tttt"
   ]
  },
  {
   "cell_type": "code",
   "execution_count": null,
   "metadata": {},
   "outputs": [],
   "source": [
    "axis_font = {'fontname':'Arial', 'size':'15'}\n",
    "#tw1=tad.iloc[1:,0];Acdw1=tad.iloc[1:,1];\n",
    "tw1=a.iloc[0:,0];Acdw=a.iloc[0:,1];Acdlh=a.iloc[0:,2];Acdrh=a.iloc[0:,3]\n",
    "# plt.plot(tw1,Acdw1,c='g')\n",
    "plt.plot(tw1,Acdw,'g',linewidth=2,marker='*')\n",
    "plt.plot(tw1, Acdlh,'--r',linewidth=2,marker='o')\n",
    "plt.plot(tw1, Acdrh,'--b',linewidth=2,marker='x')\n",
    "plt.title(\"100ms_10ms_clear\")\n",
    "plt.xlim(0,200)\n",
    "# plt.plot(tw1,Acdw1, 'k--', label='noise')\n",
    "# plt.xlabel('Time (ms)',**axis_font)\n",
    "# plt.ylabel('Accuracy (%)',**axis_font)\n",
    "# plt.title('Whole brain',**axis_font)\n",
    "# plt.yticks(**axis_font)\n",
    "# plt.xticks(**axis_font)\n",
    "plt.grid(True)\n",
    "plt.tight_layout()\n",
    "plt.gca().legend(('Whole','LH','RH'),fontsize=16,loc='best')\n",
    "# plt.savefig('whole_acc_timem.eps')\n",
    "# plt.savefig('whole_acc_timem.tif')\n",
    "plt.show()"
   ]
  },
  {
   "cell_type": "code",
   "execution_count": null,
   "metadata": {},
   "outputs": [],
   "source": [
    "len(clf.best_estimator_.support_vectors_)*100.0/(X_train.shape[0])"
   ]
  },
  {
   "cell_type": "code",
   "execution_count": null,
   "metadata": {},
   "outputs": [],
   "source": [
    "# dall"
   ]
  },
  {
   "cell_type": "code",
   "execution_count": null,
   "metadata": {},
   "outputs": [],
   "source": [
    "X_train.shape"
   ]
  },
  {
   "cell_type": "code",
   "execution_count": null,
   "metadata": {},
   "outputs": [],
   "source": [
    "# wpath=\"/home/sultan/EEG/Source_Level_Analysis/SVM_results/\"\n",
    "# dall=a\n",
    "# dall.to_csv(wpath+'svm_res_100sam_10ms_clear_v2.csv')"
   ]
  },
  {
   "cell_type": "code",
   "execution_count": null,
   "metadata": {},
   "outputs": [],
   "source": []
  }
 ],
 "metadata": {
  "kernelspec": {
   "display_name": "Python 2",
   "language": "python",
   "name": "python2"
  },
  "language_info": {
   "codemirror_mode": {
    "name": "ipython",
    "version": 2
   },
   "file_extension": ".py",
   "mimetype": "text/x-python",
   "name": "python",
   "nbconvert_exporter": "python",
   "pygments_lexer": "ipython2",
   "version": "2.7.6"
  }
 },
 "nbformat": 4,
 "nbformat_minor": 2
}
