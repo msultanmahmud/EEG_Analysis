{
 "cells": [
  {
   "cell_type": "code",
   "execution_count": 1,
   "metadata": {},
   "outputs": [],
   "source": [
    "import numpy as np\n",
    "import pandas as pd\n",
    "from sklearn import svm, metrics,preprocessing\n",
    "#from sklearn import datasets\n",
    "from sklearn.model_selection import train_test_split, GridSearchCV\n",
    "from sklearn.metrics import accuracy_score,confusion_matrix,roc_curve, auc\n",
    "from matplotlib import pyplot as plt\n",
    "from collections import Counter\n",
    "from scipy.stats import norm\n",
    "# import seaborn as sns; sns.set(font_scale=1.2)\n",
    "%matplotlib inline"
   ]
  },
  {
   "cell_type": "code",
   "execution_count": 2,
   "metadata": {},
   "outputs": [],
   "source": [
    "# path='/home/sultan/EEG/Source_Level_Analysis/25sam_10ms_clear_all_erp.csv'\n",
    "# path='/home/sultan/EEG/Source_Level_Analysis/50tr10ms_all_clear_erp.csv'\n",
    "# path=\"/home/sultan/EEG/Source_Level_Analysis/75sam_10ms_clear_all_erp.csv\"\n",
    "# path=\"/home/sultan/EEG/Source_Level_Analysis/100sam_10ms_clear_all_erp.csv\"\n",
    "#path=\"/home/sultan/EEG/Source_Level_Analysis/Baseline_100sam_10ms_clear_all_erp.csv\"\n",
    "path=\"/home/sultan/EEG/Source_Level_Analysis/Baseline_100sam_10ms_noise_all_erp.csv\"\n",
    "dataset =pd.read_csv(path)"
   ]
  },
  {
   "cell_type": "code",
   "execution_count": 3,
   "metadata": {},
   "outputs": [],
   "source": [
    "Xc=dataset.iloc[:,2:].values\n",
    "y=dataset.iloc[:,1].values\n",
    "scaler = preprocessing.StandardScaler()\n",
    "X = scaler.fit_transform(Xc)"
   ]
  },
  {
   "cell_type": "code",
   "execution_count": 4,
   "metadata": {},
   "outputs": [],
   "source": [
    "X_train, X_test, y_train, y_test = train_test_split(X,y, test_size=.20, random_state=56) "
   ]
  },
  {
   "cell_type": "code",
   "execution_count": 5,
   "metadata": {},
   "outputs": [
    {
     "data": {
      "text/plain": [
       "((361, 1428), (361,))"
      ]
     },
     "execution_count": 5,
     "metadata": {},
     "output_type": "execute_result"
    }
   ],
   "source": [
    "X_test.shape, y_test.shape"
   ]
  },
  {
   "cell_type": "code",
   "execution_count": 6,
   "metadata": {},
   "outputs": [
    {
     "data": {
      "text/plain": [
       "(array([0., 1.]), array([151, 210]))"
      ]
     },
     "execution_count": 6,
     "metadata": {},
     "output_type": "execute_result"
    }
   ],
   "source": [
    "np.unique(y_test)\n",
    "np.unique(y_test,return_counts=True)"
   ]
  },
  {
   "cell_type": "markdown",
   "metadata": {},
   "source": [
    "# Grid search"
   ]
  },
  {
   "cell_type": "code",
   "execution_count": 7,
   "metadata": {},
   "outputs": [
    {
     "data": {
      "text/plain": [
       "GridSearchCV(cv=5, error_score='raise',\n",
       "       estimator=SVC(C=1.0, cache_size=200, class_weight=None, coef0=0.0,\n",
       "  decision_function_shape='ovr', degree=3, gamma='auto', kernel='rbf',\n",
       "  max_iter=-1, probability=False, random_state=None, shrinking=True,\n",
       "  tol=0.001, verbose=False),\n",
       "       fit_params=None, iid=True, n_jobs=1,\n",
       "       param_grid={'kernel': ['rbf'], 'C': [1, 6.5, 10, 20, 100, 1000], 'gamma': [0.01, 0.002, 0.00069, 0.0007, 0.0005]},\n",
       "       pre_dispatch='2*n_jobs', refit=True, return_train_score='warn',\n",
       "       scoring=None, verbose=0)"
      ]
     },
     "execution_count": 7,
     "metadata": {},
     "output_type": "execute_result"
    }
   ],
   "source": [
    "cv=5\n",
    "from sklearn.model_selection import GridSearchCV\n",
    "# parameters = {'kernel':['rbf'], 'C':[1, 6.5, 10,20,100,1000],'gamma':[0.01,2/1428.0,1/1428.0]}\n",
    "parameters = {'kernel':['rbf'], 'C':[1, 6.5, 10,20,100,1000],'gamma':[0.01,0.002,0.00069,0.0007,0.0005]}\n",
    "svc = svm.SVC()\n",
    "clf = GridSearchCV(svc, parameters,cv=cv)\n",
    "clf.fit(X_train, y_train)"
   ]
  },
  {
   "cell_type": "code",
   "execution_count": 8,
   "metadata": {},
   "outputs": [],
   "source": [
    "# cv=5\n",
    "# from sklearn.model_selection import GridSearchCV\n",
    "# parameters = {'kernel':['rbf'], 'C':[0.90,1.00,1.25],'gamma':[3.0,3.25,3.25 ]}\n",
    "# svc = svm.SVC()\n",
    "# clf = GridSearchCV(svc, parameters,cv=cv)\n",
    "# clf.fit(X_train, y_train)"
   ]
  },
  {
   "cell_type": "code",
   "execution_count": 9,
   "metadata": {},
   "outputs": [],
   "source": [
    "# # Average Scores\n",
    "# #  print clf.cv_results_\n",
    "# # clf.best_estimator_\n",
    "# # np.mean\n",
    "# scores=clf.cv_results_['mean_test_score']\n",
    "# print(\"Accuracy:%0.3f (+/-%0.3f)\" %(scores.mean(), scores.std()*2))"
   ]
  },
  {
   "cell_type": "code",
   "execution_count": 10,
   "metadata": {
    "scrolled": true
   },
   "outputs": [
    {
     "name": "stdout",
     "output_type": "stream",
     "text": [
      "Accuracy: 0.8199445983379502\n",
      "0.8199445983379502\n",
      "support: 70.200970201\n"
     ]
    }
   ],
   "source": [
    "pred=clf.best_estimator_.predict(X_test)\n",
    "acc1=accuracy_score(y_test, pred)\n",
    "print \"Accuracy:\", clf.score(X_test, y_test) \n",
    "print acc1\n",
    "# print pred\n",
    "# print y_test\n",
    "print \"support:\", len(clf.best_estimator_.support_vectors_)*100.0/(X_train.shape[0])"
   ]
  },
  {
   "cell_type": "code",
   "execution_count": 11,
   "metadata": {},
   "outputs": [
    {
     "data": {
      "text/plain": [
       "array([[115,  36],\n",
       "       [ 29, 181]])"
      ]
     },
     "execution_count": 11,
     "metadata": {},
     "output_type": "execute_result"
    }
   ],
   "source": [
    "conf_mat=confusion_matrix(y_test,pred)\n",
    "conf_mat"
   ]
  },
  {
   "cell_type": "code",
   "execution_count": 12,
   "metadata": {},
   "outputs": [
    {
     "name": "stdout",
     "output_type": "stream",
     "text": [
      "             precision    recall  f1-score   support\n",
      "\n",
      "        0.0       0.80      0.76      0.78       151\n",
      "        1.0       0.83      0.86      0.85       210\n",
      "\n",
      "avg / total       0.82      0.82      0.82       361\n",
      "\n"
     ]
    }
   ],
   "source": [
    "from sklearn.metrics import classification_report\n",
    "#target_names = ['class 0', 'class 1', 'class 2']\n",
    "print(classification_report(y_test, pred))"
   ]
  },
  {
   "cell_type": "code",
   "execution_count": 13,
   "metadata": {},
   "outputs": [
    {
     "data": {
      "text/plain": [
       "0.8117470829391359"
      ]
     },
     "execution_count": 13,
     "metadata": {},
     "output_type": "execute_result"
    }
   ],
   "source": [
    "false_positive_rate, true_positive_rate, thresholds = roc_curve(y_test,pred)\n",
    "roc_auc = auc(false_positive_rate, true_positive_rate)\n",
    "roc_auc"
   ]
  },
  {
   "cell_type": "code",
   "execution_count": 14,
   "metadata": {},
   "outputs": [
    {
     "data": {
      "text/plain": [
       "0.8117470829391359"
      ]
     },
     "execution_count": 14,
     "metadata": {},
     "output_type": "execute_result"
    }
   ],
   "source": [
    "fpr, tpr, thresholds = metrics.roc_curve(y_test,pred)\n",
    "roc_auc=metrics.auc(fpr, tpr)\n",
    "roc_auc"
   ]
  },
  {
   "cell_type": "code",
   "execution_count": 15,
   "metadata": {},
   "outputs": [
    {
     "data": {
      "text/plain": [
       "SVC(C=10, cache_size=200, class_weight=None, coef0=0.0,\n",
       "  decision_function_shape='ovr', degree=3, gamma=0.0007, kernel='rbf',\n",
       "  max_iter=-1, probability=False, random_state=None, shrinking=True,\n",
       "  tol=0.001, verbose=False)"
      ]
     },
     "execution_count": 15,
     "metadata": {},
     "output_type": "execute_result"
    }
   ],
   "source": [
    "clf.best_estimator_"
   ]
  },
  {
   "cell_type": "code",
   "execution_count": 16,
   "metadata": {},
   "outputs": [],
   "source": [
    "# cv=5\n",
    "# from sklearn.model_selection import GridSearchCV\n",
    "# parameters = {'kernel':['rbf'], 'C':[1],'gamma':[0.01 ]}\n",
    "# svc = svm.SVC()\n",
    "# clf = GridSearchCV(svc, parameters,cv=cv)\n",
    "# clf.fit(X_train, y_train)"
   ]
  },
  {
   "cell_type": "markdown",
   "metadata": {},
   "source": [
    "# Bayesian Optimization"
   ]
  },
  {
   "cell_type": "code",
   "execution_count": 17,
   "metadata": {},
   "outputs": [
    {
     "name": "stdout",
     "output_type": "stream",
     "text": [
      "0.8393351800554016\n",
      "             precision    recall  f1-score   support\n",
      "\n",
      "        0.0       0.81      0.81      0.81       151\n",
      "        1.0       0.86      0.86      0.86       210\n",
      "\n",
      "avg / total       0.84      0.84      0.84       361\n",
      "\n"
     ]
    }
   ],
   "source": [
    "cv=5\n",
    "from sklearn.model_selection import GridSearchCV\n",
    "parameters = {'kernel':['rbf'], 'C':[1,5,10*.65,10**0.651,7,8],'gamma':[0.1,0.0005,0.000612,0.0006815,10**-3.20]}\n",
    "svc = svm.SVC()\n",
    "clf = GridSearchCV(svc, parameters,cv=cv)\n",
    "clf.fit(X_train, y_train)\n",
    "pred=clf.best_estimator_.predict(X_test)\n",
    "print clf.score(X_test, y_test)  \n",
    "# print pred\n",
    "# print y_test\n",
    "print(classification_report(y_test, pred))"
   ]
  },
  {
   "cell_type": "code",
   "execution_count": 18,
   "metadata": {},
   "outputs": [
    {
     "data": {
      "text/plain": [
       "0.8349258908861559"
      ]
     },
     "execution_count": 18,
     "metadata": {},
     "output_type": "execute_result"
    }
   ],
   "source": [
    "false_positive_rate, true_positive_rate, thresholds = roc_curve(y_test,pred)\n",
    "roc_auc = auc(false_positive_rate, true_positive_rate)\n",
    "roc_auc"
   ]
  },
  {
   "cell_type": "code",
   "execution_count": 19,
   "metadata": {},
   "outputs": [
    {
     "data": {
      "text/plain": [
       "SVC(C=5, cache_size=200, class_weight=None, coef0=0.0,\n",
       "  decision_function_shape='ovr', degree=3, gamma=0.0005, kernel='rbf',\n",
       "  max_iter=-1, probability=False, random_state=None, shrinking=True,\n",
       "  tol=0.001, verbose=False)"
      ]
     },
     "execution_count": 19,
     "metadata": {},
     "output_type": "execute_result"
    }
   ],
   "source": [
    "clf.best_estimator_"
   ]
  },
  {
   "cell_type": "code",
   "execution_count": 20,
   "metadata": {},
   "outputs": [
    {
     "name": "stdout",
     "output_type": "stream",
     "text": [
      "Accuracy: 0.8393351800554016\n",
      "support: 67.2903672904\n"
     ]
    }
   ],
   "source": [
    "pred=clf.best_estimator_.predict(X_test)\n",
    "print \"Accuracy:\", clf.score(X_test, y_test)  \n",
    "# print pred\n",
    "# print y_test\n",
    "print \"support:\", len(clf.best_estimator_.support_vectors_)*100.0/(X_train.shape[0])"
   ]
  },
  {
   "cell_type": "code",
   "execution_count": null,
   "metadata": {},
   "outputs": [],
   "source": []
  },
  {
   "cell_type": "code",
   "execution_count": 21,
   "metadata": {},
   "outputs": [],
   "source": [
    "# pred=clf.best_estimator_.predict(X_test)\n",
    "# clf.score(X_test, y_test)  \n",
    "# # print pred\n",
    "# # print y_test"
   ]
  },
  {
   "cell_type": "code",
   "execution_count": 22,
   "metadata": {},
   "outputs": [],
   "source": [
    "# k=0;j=68;\n",
    "# for i in range(0,21):\n",
    "#     print k,j\n",
    "#     k=k+68;j=j+68;"
   ]
  },
  {
   "cell_type": "code",
   "execution_count": 23,
   "metadata": {},
   "outputs": [
    {
     "name": "stdout",
     "output_type": "stream",
     "text": [
      "Accuracy: 0.5817174515235457\n",
      "ROC 0.5\n",
      "             precision    recall  f1-score   support\n",
      "\n",
      "        0.0       0.00      0.00      0.00       151\n",
      "        1.0       0.58      1.00      0.74       210\n",
      "\n",
      "avg / total       0.34      0.58      0.43       361\n",
      "\n",
      "0 68\n"
     ]
    },
    {
     "name": "stderr",
     "output_type": "stream",
     "text": [
      "/usr/local/lib/python2.7/dist-packages/sklearn/metrics/classification.py:1135: UndefinedMetricWarning: Precision and F-score are ill-defined and being set to 0.0 in labels with no predicted samples.\n",
      "  'precision', 'predicted', average, warn_for)\n"
     ]
    },
    {
     "name": "stdout",
     "output_type": "stream",
     "text": [
      "Accuracy: 0.6842105263157895\n",
      "ROC 0.6634500157678966\n",
      "             precision    recall  f1-score   support\n",
      "\n",
      "        0.0       0.65      0.54      0.59       151\n",
      "        1.0       0.70      0.79      0.74       210\n",
      "\n",
      "avg / total       0.68      0.68      0.68       361\n",
      "\n",
      "68 136\n",
      "Accuracy: 0.6703601108033241\n",
      "ROC 0.6701513718070009\n",
      "             precision    recall  f1-score   support\n",
      "\n",
      "        0.0       0.59      0.67      0.63       151\n",
      "        1.0       0.74      0.67      0.70       210\n",
      "\n",
      "avg / total       0.68      0.67      0.67       361\n",
      "\n",
      "136 204\n",
      "Accuracy: 0.6980609418282548\n",
      "ROC 0.7023336486912646\n",
      "             precision    recall  f1-score   support\n",
      "\n",
      "        0.0       0.62      0.73      0.67       151\n",
      "        1.0       0.78      0.68      0.72       210\n",
      "\n",
      "avg / total       0.71      0.70      0.70       361\n",
      "\n",
      "204 272\n",
      "Accuracy: 0.7451523545706371\n",
      "ROC 0.7381583096814884\n",
      "             precision    recall  f1-score   support\n",
      "\n",
      "        0.0       0.70      0.70      0.70       151\n",
      "        1.0       0.78      0.78      0.78       210\n",
      "\n",
      "avg / total       0.75      0.75      0.75       361\n",
      "\n",
      "272 340\n",
      "Accuracy: 0.7119113573407202\n",
      "ROC 0.7067959634184799\n",
      "             precision    recall  f1-score   support\n",
      "\n",
      "        0.0       0.65      0.68      0.66       151\n",
      "        1.0       0.76      0.74      0.75       210\n",
      "\n",
      "avg / total       0.71      0.71      0.71       361\n",
      "\n",
      "340 408\n",
      "Accuracy: 0.7423822714681441\n",
      "ROC 0.7450804162724693\n",
      "             precision    recall  f1-score   support\n",
      "\n",
      "        0.0       0.67      0.76      0.71       151\n",
      "        1.0       0.81      0.73      0.77       210\n",
      "\n",
      "avg / total       0.75      0.74      0.74       361\n",
      "\n",
      "408 476\n",
      "Accuracy: 0.7313019390581718\n",
      "ROC 0.7309050772626932\n",
      "             precision    recall  f1-score   support\n",
      "\n",
      "        0.0       0.66      0.73      0.69       151\n",
      "        1.0       0.79      0.73      0.76       210\n",
      "\n",
      "avg / total       0.74      0.73      0.73       361\n",
      "\n",
      "476 544\n",
      "Accuracy: 0.6897506925207756\n",
      "ROC 0.6719331441185745\n",
      "             precision    recall  f1-score   support\n",
      "\n",
      "        0.0       0.65      0.56      0.60       151\n",
      "        1.0       0.71      0.78      0.75       210\n",
      "\n",
      "avg / total       0.69      0.69      0.69       361\n",
      "\n",
      "544 612\n",
      "Accuracy: 0.7451523545706371\n",
      "ROC 0.7418795332702618\n",
      "             precision    recall  f1-score   support\n",
      "\n",
      "        0.0       0.69      0.72      0.70       151\n",
      "        1.0       0.79      0.76      0.78       210\n",
      "\n",
      "avg / total       0.75      0.75      0.75       361\n",
      "\n",
      "612 680\n",
      "Accuracy: 0.7617728531855956\n",
      "ROC 0.7636076947335225\n",
      "             precision    recall  f1-score   support\n",
      "\n",
      "        0.0       0.69      0.77      0.73       151\n",
      "        1.0       0.82      0.75      0.79       210\n",
      "\n",
      "avg / total       0.77      0.76      0.76       361\n",
      "\n",
      "680 748\n",
      "Accuracy: 0.7617728531855956\n",
      "ROC 0.7608167770419425\n",
      "             precision    recall  f1-score   support\n",
      "\n",
      "        0.0       0.70      0.75      0.73       151\n",
      "        1.0       0.81      0.77      0.79       210\n",
      "\n",
      "avg / total       0.77      0.76      0.76       361\n",
      "\n",
      "748 816\n",
      "Accuracy: 0.7673130193905817\n",
      "ROC 0.7720908230842006\n",
      "             precision    recall  f1-score   support\n",
      "\n",
      "        0.0       0.69      0.80      0.74       151\n",
      "        1.0       0.84      0.74      0.79       210\n",
      "\n",
      "avg / total       0.78      0.77      0.77       361\n",
      "\n",
      "816 884\n",
      "Accuracy: 0.7673130193905817\n",
      "ROC 0.7637180700094607\n",
      "             precision    recall  f1-score   support\n",
      "\n",
      "        0.0       0.71      0.74      0.73       151\n",
      "        1.0       0.81      0.79      0.80       210\n",
      "\n",
      "avg / total       0.77      0.77      0.77       361\n",
      "\n",
      "884 952\n",
      "Accuracy: 0.739612188365651\n",
      "ROC 0.7361873226111636\n",
      "             precision    recall  f1-score   support\n",
      "\n",
      "        0.0       0.68      0.72      0.70       151\n",
      "        1.0       0.79      0.76      0.77       210\n",
      "\n",
      "avg / total       0.74      0.74      0.74       361\n",
      "\n",
      "952 1020\n",
      "Accuracy: 0.7063711911357341\n",
      "ROC 0.7094765058341217\n",
      "             precision    recall  f1-score   support\n",
      "\n",
      "        0.0       0.63      0.73      0.67       151\n",
      "        1.0       0.78      0.69      0.73       210\n",
      "\n",
      "avg / total       0.72      0.71      0.71       361\n",
      "\n",
      "1020 1088\n",
      "Accuracy: 0.7063711911357341\n",
      "ROC 0.707615894039735\n",
      "             precision    recall  f1-score   support\n",
      "\n",
      "        0.0       0.63      0.72      0.67       151\n",
      "        1.0       0.77      0.70      0.73       210\n",
      "\n",
      "avg / total       0.71      0.71      0.71       361\n",
      "\n",
      "1088 1156\n",
      "Accuracy: 0.7534626038781164\n",
      "ROC 0.7490223904131188\n",
      "             precision    recall  f1-score   support\n",
      "\n",
      "        0.0       0.70      0.72      0.71       151\n",
      "        1.0       0.80      0.78      0.79       210\n",
      "\n",
      "avg / total       0.75      0.75      0.75       361\n",
      "\n",
      "1156 1224\n",
      "Accuracy: 0.7174515235457064\n",
      "ROC 0.7199306212551246\n",
      "             precision    recall  f1-score   support\n",
      "\n",
      "        0.0       0.64      0.74      0.69       151\n",
      "        1.0       0.79      0.70      0.74       210\n",
      "\n",
      "avg / total       0.73      0.72      0.72       361\n",
      "\n",
      "1224 1292\n",
      "Accuracy: 0.7008310249307479\n",
      "ROC 0.7093661305581835\n",
      "             precision    recall  f1-score   support\n",
      "\n",
      "        0.0       0.61      0.76      0.68       151\n",
      "        1.0       0.79      0.66      0.72       210\n",
      "\n",
      "avg / total       0.72      0.70      0.70       361\n",
      "\n",
      "1292 1360\n",
      "Accuracy: 0.7063711911357341\n",
      "ROC 0.710406811731315\n",
      "             precision    recall  f1-score   support\n",
      "\n",
      "        0.0       0.63      0.74      0.68       151\n",
      "        1.0       0.78      0.69      0.73       210\n",
      "\n",
      "avg / total       0.72      0.71      0.71       361\n",
      "\n",
      "1360 1428\n"
     ]
    }
   ],
   "source": [
    "k=0;j=68; acgw=[];pmw=[];aucw=[];\n",
    "for i in range(0,21):\n",
    "    cv=5\n",
    "    from sklearn.model_selection import GridSearchCV\n",
    "    parameters = {'kernel':['rbf'], 'C':[1, 10,20,30, 40, 50, 60, 70, 90,100,1000],'gamma':[0.01,0.0147, 0.016, 0.019, 0.021, 2/1428.0,1/1428.0]}\n",
    "    svc = svm.SVC()\n",
    "    clf = GridSearchCV(svc, parameters,cv=cv)\n",
    "    clf.fit(X_train[:,k:j], y_train)\n",
    "    pred=clf.best_estimator_.predict(X_test[:,k:j])\n",
    "    acc=clf.score(X_test[:,k:j], y_test)\n",
    "    acgw=np.append(acgw,acc)\n",
    "    print \"Accuracy:\",acc\n",
    "    perf=classification_report(y_test, pred)\n",
    "    pmw.append(perf)\n",
    "    fpr, tpr, thresholds = metrics.roc_curve(y_test,pred)\n",
    "    roc_auc=metrics.auc(fpr, tpr)\n",
    "    roc_auc\n",
    "    aucw.append(roc_auc)\n",
    "    print\"ROC\", roc_auc\n",
    "    print perf\n",
    "    print k,j\n",
    "    k=k+68;j=j+68;\n",
    "#     scores=clf.cv_results_['mean_test_score']\n",
    "#     print(\"Accuracy:%0.3f (+/-%0.3f)\" %(scores.mean(), scores.std()*2))"
   ]
  },
  {
   "cell_type": "code",
   "execution_count": 24,
   "metadata": {},
   "outputs": [
    {
     "data": {
      "text/plain": [
       "SVC(C=1000, cache_size=200, class_weight=None, coef0=0.0,\n",
       "  decision_function_shape='ovr', degree=3, gamma=0.00140056022409,\n",
       "  kernel='rbf', max_iter=-1, probability=False, random_state=None,\n",
       "  shrinking=True, tol=0.001, verbose=False)"
      ]
     },
     "execution_count": 24,
     "metadata": {},
     "output_type": "execute_result"
    }
   ],
   "source": [
    "clf.best_estimator_"
   ]
  },
  {
   "cell_type": "code",
   "execution_count": 25,
   "metadata": {},
   "outputs": [
    {
     "data": {
      "text/plain": [
       "(361, 68)"
      ]
     },
     "execution_count": 25,
     "metadata": {},
     "output_type": "execute_result"
    }
   ],
   "source": [
    "yr=X_test[:,0:68]\n",
    "yr.shape"
   ]
  },
  {
   "cell_type": "code",
   "execution_count": 26,
   "metadata": {},
   "outputs": [],
   "source": [
    "dataset\n",
    "Xc=dataset.iloc[:,2:].values\n",
    "y=dataset.iloc[:,1].values\n",
    "# Xc"
   ]
  },
  {
   "cell_type": "code",
   "execution_count": 27,
   "metadata": {},
   "outputs": [
    {
     "data": {
      "text/plain": [
       "0.7673130193905817"
      ]
     },
     "execution_count": 27,
     "metadata": {},
     "output_type": "execute_result"
    }
   ],
   "source": [
    "X.shape\n",
    "np.max(acgw)"
   ]
  },
  {
   "cell_type": "markdown",
   "metadata": {},
   "source": [
    "# Hemisphere"
   ]
  },
  {
   "cell_type": "code",
   "execution_count": 28,
   "metadata": {},
   "outputs": [
    {
     "name": "stdout",
     "output_type": "stream",
     "text": [
      "0.8005540166204986\n",
      "0.7950804162724694\n",
      "             precision    recall  f1-score   support\n",
      "\n",
      "        0.0       0.76      0.76      0.76       151\n",
      "        1.0       0.83      0.83      0.83       210\n",
      "\n",
      "avg / total       0.80      0.80      0.80       361\n",
      "\n"
     ]
    }
   ],
   "source": [
    "a=range(0,(X.shape[1]),2)\n",
    "d11=X[:,a];\n",
    "X_train, X_test, y_train, y_test = train_test_split(d11,y, test_size=.20, random_state=56) \n",
    "cv=5\n",
    "from sklearn.model_selection import GridSearchCV\n",
    "# parameters = {'kernel':['rbf'], 'C':[1, 10,100,1000],'gamma':[0.01,2/1428.0,1/1428.0]}\n",
    "parameters = {'kernel':['rbf'], 'C':[1, 10,20,30, 40, 50, 60, 70, 90,100,1000],'gamma':[0.01,0.0147, 0.016, 0.019, 0.021, 2/1428.0,1/1428.0]}\n",
    "svc = svm.SVC()\n",
    "clf = GridSearchCV(svc, parameters,cv=cv)\n",
    "clf.fit(X_train, y_train)\n",
    "pred=clf.best_estimator_.predict(X_test)\n",
    "print clf.score(X_test, y_test)  \n",
    "fpr, tpr, thresholds = metrics.roc_curve(y_test,pred)\n",
    "roc_auc=metrics.auc(fpr, tpr)\n",
    "roc_auc\n",
    "print roc_auc\n",
    "# print pred\n",
    "# print y_test\n",
    "print(classification_report(y_test, pred))"
   ]
  },
  {
   "cell_type": "code",
   "execution_count": 29,
   "metadata": {},
   "outputs": [
    {
     "data": {
      "text/plain": [
       "0.7950804162724694"
      ]
     },
     "execution_count": 29,
     "metadata": {},
     "output_type": "execute_result"
    }
   ],
   "source": [
    "false_positive_rate, true_positive_rate, thresholds = roc_curve(y_test,pred)\n",
    "roc_auc = auc(false_positive_rate, true_positive_rate)\n",
    "roc_auc"
   ]
  },
  {
   "cell_type": "code",
   "execution_count": 30,
   "metadata": {},
   "outputs": [
    {
     "name": "stdout",
     "output_type": "stream",
     "text": [
      "Accuracy: 0.8005540166204986\n",
      "support: 60.8454608455\n"
     ]
    }
   ],
   "source": [
    "pred=clf.best_estimator_.predict(X_test)\n",
    "print \"Accuracy:\", clf.score(X_test, y_test)  \n",
    "# print pred\n",
    "# print y_test\n",
    "print \"support:\", len(clf.best_estimator_.support_vectors_)*100.0/(X_train.shape[0])"
   ]
  },
  {
   "cell_type": "code",
   "execution_count": 31,
   "metadata": {},
   "outputs": [
    {
     "data": {
      "text/plain": [
       "SVC(C=10, cache_size=200, class_weight=None, coef0=0.0,\n",
       "  decision_function_shape='ovr', degree=3, gamma=0.000700280112045,\n",
       "  kernel='rbf', max_iter=-1, probability=False, random_state=None,\n",
       "  shrinking=True, tol=0.001, verbose=False)"
      ]
     },
     "execution_count": 31,
     "metadata": {},
     "output_type": "execute_result"
    }
   ],
   "source": [
    "clf.best_estimator_"
   ]
  },
  {
   "cell_type": "code",
   "execution_count": 32,
   "metadata": {},
   "outputs": [
    {
     "name": "stdout",
     "output_type": "stream",
     "text": [
      "Accuracy: 0.5817174515235457\n",
      "ROC: 0.5\n",
      "             precision    recall  f1-score   support\n",
      "\n",
      "        0.0       0.00      0.00      0.00       151\n",
      "        1.0       0.58      1.00      0.74       210\n",
      "\n",
      "avg / total       0.34      0.58      0.43       361\n",
      "\n",
      "0 34\n",
      "Accuracy: 0.6481994459833795\n",
      "ROC: 0.6315673289183223\n",
      "             precision    recall  f1-score   support\n",
      "\n",
      "        0.0       0.59      0.53      0.56       151\n",
      "        1.0       0.68      0.73      0.71       210\n",
      "\n",
      "avg / total       0.64      0.65      0.65       361\n",
      "\n",
      "34 68\n",
      "Accuracy: 0.6537396121883656\n",
      "ROC: 0.6521444339325133\n",
      "             precision    recall  f1-score   support\n",
      "\n",
      "        0.0       0.58      0.64      0.61       151\n",
      "        1.0       0.72      0.66      0.69       210\n",
      "\n",
      "avg / total       0.66      0.65      0.66       361\n",
      "\n",
      "68 102\n",
      "Accuracy: 0.6980609418282548\n",
      "ROC: 0.697682119205298\n",
      "             precision    recall  f1-score   support\n",
      "\n",
      "        0.0       0.62      0.70      0.66       151\n",
      "        1.0       0.76      0.70      0.73       210\n",
      "\n",
      "avg / total       0.70      0.70      0.70       361\n",
      "\n",
      "102 136\n",
      "Accuracy: 0.6759002770083102\n",
      "ROC: 0.6507253232418795\n",
      "             precision    recall  f1-score   support\n",
      "\n",
      "        0.0       0.65      0.50      0.56       151\n",
      "        1.0       0.69      0.80      0.74       210\n",
      "\n",
      "avg / total       0.67      0.68      0.67       361\n",
      "\n",
      "136 170\n",
      "Accuracy: 0.7063711911357341\n",
      "ROC: 0.6918006937874487\n",
      "             precision    recall  f1-score   support\n",
      "\n",
      "        0.0       0.66      0.60      0.63       151\n",
      "        1.0       0.73      0.78      0.76       210\n",
      "\n",
      "avg / total       0.70      0.71      0.70       361\n",
      "\n",
      "170 204\n",
      "Accuracy: 0.6925207756232687\n",
      "ROC: 0.6873383790602334\n",
      "             precision    recall  f1-score   support\n",
      "\n",
      "        0.0       0.63      0.66      0.64       151\n",
      "        1.0       0.74      0.72      0.73       210\n",
      "\n",
      "avg / total       0.69      0.69      0.69       361\n",
      "\n",
      "204 238\n",
      "Accuracy: 0.6620498614958449\n",
      "ROC: 0.6537054556922107\n",
      "             precision    recall  f1-score   support\n",
      "\n",
      "        0.0       0.59      0.60      0.60       151\n",
      "        1.0       0.71      0.70      0.71       210\n",
      "\n",
      "avg / total       0.66      0.66      0.66       361\n",
      "\n",
      "238 272\n",
      "Accuracy: 0.7285318559556787\n",
      "ROC: 0.7220119836013875\n",
      "             precision    recall  f1-score   support\n",
      "\n",
      "        0.0       0.67      0.68      0.68       151\n",
      "        1.0       0.77      0.76      0.77       210\n",
      "\n",
      "avg / total       0.73      0.73      0.73       361\n",
      "\n",
      "272 306\n",
      "Accuracy: 0.7008310249307479\n",
      "ROC: 0.6907600126143173\n",
      "             precision    recall  f1-score   support\n",
      "\n",
      "        0.0       0.65      0.63      0.64       151\n",
      "        1.0       0.74      0.75      0.75       210\n",
      "\n",
      "avg / total       0.70      0.70      0.70       361\n",
      "\n",
      "306 340\n",
      "Accuracy: 0.7257617728531855\n",
      "ROC: 0.7242825607064017\n",
      "             precision    recall  f1-score   support\n",
      "\n",
      "        0.0       0.66      0.72      0.69       151\n",
      "        1.0       0.78      0.73      0.76       210\n",
      "\n",
      "avg / total       0.73      0.73      0.73       361\n",
      "\n",
      "340 374\n",
      "Accuracy: 0.7229916897506925\n",
      "ROC: 0.7200409965310628\n",
      "             precision    recall  f1-score   support\n",
      "\n",
      "        0.0       0.66      0.70      0.68       151\n",
      "        1.0       0.78      0.74      0.76       210\n",
      "\n",
      "avg / total       0.73      0.72      0.72       361\n",
      "\n",
      "374 408\n",
      "Accuracy: 0.7063711911357341\n",
      "ROC: 0.7038946704509619\n",
      "             precision    recall  f1-score   support\n",
      "\n",
      "        0.0       0.64      0.69      0.66       151\n",
      "        1.0       0.76      0.72      0.74       210\n",
      "\n",
      "avg / total       0.71      0.71      0.71       361\n",
      "\n",
      "408 442\n",
      "Accuracy: 0.7229916897506925\n",
      "ROC: 0.7181803847366761\n",
      "             precision    recall  f1-score   support\n",
      "\n",
      "        0.0       0.66      0.69      0.68       151\n",
      "        1.0       0.77      0.75      0.76       210\n",
      "\n",
      "avg / total       0.72      0.72      0.72       361\n",
      "\n",
      "442 476\n",
      "Accuracy: 0.6426592797783933\n",
      "ROC: 0.6361084831283507\n",
      "             precision    recall  f1-score   support\n",
      "\n",
      "        0.0       0.57      0.60      0.58       151\n",
      "        1.0       0.70      0.68      0.69       210\n",
      "\n",
      "avg / total       0.65      0.64      0.64       361\n",
      "\n",
      "476 510\n",
      "Accuracy: 0.6703601108033241\n",
      "ROC: 0.6738725953957742\n",
      "             precision    recall  f1-score   support\n",
      "\n",
      "        0.0       0.59      0.70      0.64       151\n",
      "        1.0       0.75      0.65      0.70       210\n",
      "\n",
      "avg / total       0.68      0.67      0.67       361\n",
      "\n",
      "510 544\n",
      "Accuracy: 0.7091412742382271\n",
      "ROC: 0.7081362346263009\n",
      "             precision    recall  f1-score   support\n",
      "\n",
      "        0.0       0.64      0.70      0.67       151\n",
      "        1.0       0.77      0.71      0.74       210\n",
      "\n",
      "avg / total       0.71      0.71      0.71       361\n",
      "\n",
      "544 578\n",
      "Accuracy: 0.7119113573407202\n",
      "ROC: 0.7086565752128666\n",
      "             precision    recall  f1-score   support\n",
      "\n",
      "        0.0       0.65      0.69      0.67       151\n",
      "        1.0       0.77      0.73      0.75       210\n",
      "\n",
      "avg / total       0.72      0.71      0.71       361\n",
      "\n",
      "578 612\n",
      "Accuracy: 0.6869806094182825\n",
      "ROC: 0.6825764742983287\n",
      "             precision    recall  f1-score   support\n",
      "\n",
      "        0.0       0.62      0.66      0.64       151\n",
      "        1.0       0.74      0.71      0.73       210\n",
      "\n",
      "avg / total       0.69      0.69      0.69       361\n",
      "\n",
      "612 646\n",
      "Accuracy: 0.6786703601108033\n",
      "ROC: 0.6735730053610849\n",
      "             precision    recall  f1-score   support\n",
      "\n",
      "        0.0       0.61      0.64      0.63       151\n",
      "        1.0       0.73      0.70      0.72       210\n",
      "\n",
      "avg / total       0.68      0.68      0.68       361\n",
      "\n",
      "646 680\n",
      "Accuracy: 0.703601108033241\n",
      "ROC: 0.7033743298643962\n",
      "             precision    recall  f1-score   support\n",
      "\n",
      "        0.0       0.63      0.70      0.66       151\n",
      "        1.0       0.77      0.70      0.73       210\n",
      "\n",
      "avg / total       0.71      0.70      0.71       361\n",
      "\n",
      "680 714\n"
     ]
    }
   ],
   "source": [
    "# only 34 features \n",
    "parameters = {'kernel':['rbf'], 'C':[1, 10,20,30, 40, 50, 60, 70, 90,100,1000],'gamma':[0.015,0.025, 0.029, 0.030,0.035]}\n",
    "svc = svm.SVC()\n",
    "k=0;j=34; acgr=[];aucrh=[];pmrh=[];\n",
    "for i in range(0,21):\n",
    "    cv=5\n",
    "    from sklearn.model_selection import GridSearchCV\n",
    "#     parameters = {'kernel':['rbf'], 'C':[1, 10,100,1000],'gamma':[0.01,2/1428.0,1/1428.0]}\n",
    "    svc = svm.SVC()\n",
    "    clf = GridSearchCV(svc, parameters,cv=cv)\n",
    "    clf.fit(X_train[:,k:j], y_train)\n",
    "    pred=clf.best_estimator_.predict(X_test[:,k:j])\n",
    "    acc=clf.score(X_test[:,k:j], y_test)\n",
    "    acgr=np.append(acgr,acc)\n",
    "    print \"Accuracy:\", acc\n",
    "    perf=classification_report(y_test, pred)\n",
    "    pmrh.append(perf)\n",
    "    fpr, tpr, thresholds = metrics.roc_curve(y_test,pred)\n",
    "    roc_auc=metrics.auc(fpr, tpr)\n",
    "    roc_auc\n",
    "    aucrh.append(roc_auc)\n",
    "    print \"ROC:\", roc_auc\n",
    "    print perf\n",
    "    print k,j\n",
    "    k=k+34;j=j+34;"
   ]
  },
  {
   "cell_type": "markdown",
   "metadata": {},
   "source": [
    "# LH"
   ]
  },
  {
   "cell_type": "code",
   "execution_count": 33,
   "metadata": {},
   "outputs": [
    {
     "name": "stdout",
     "output_type": "stream",
     "text": [
      "0.8012929675181331\n",
      "             precision    recall  f1-score   support\n",
      "\n",
      "        0.0       0.78      0.75      0.77       151\n",
      "        1.0       0.83      0.85      0.84       210\n",
      "\n",
      "avg / total       0.81      0.81      0.81       361\n",
      "\n"
     ]
    }
   ],
   "source": [
    "b=range(1,(X.shape[1]),2)\n",
    "d22=X[:,b];\n",
    "X_train, X_test, y_train, y_test = train_test_split(d22,y, test_size=.20, random_state=56) \n",
    "cv=5\n",
    "from sklearn.model_selection import GridSearchCV\n",
    "# parameters = {'kernel':['rbf'], 'C':[1, 10,100,1000],'gamma':[0.01,2/1428.0,1/1428.0]}\n",
    "parameters = {'kernel':['rbf'], 'C':[1, 10,20,30, 40, 50, 60, 70, 90,100,1000],'gamma':[0.01,0.0147, 0.016, 0.019, 0.021, 2/1428.0,1/1428.0]}\n",
    "svc = svm.SVC()\n",
    "clf = GridSearchCV(svc, parameters,cv=cv)\n",
    "clf.fit(X_train, y_train)\n",
    "pred=clf.best_estimator_.predict(X_test)\n",
    "# print clf.score(X_test, y_test)  \n",
    "# print pred\n",
    "# print y_test\n",
    "perf=classification_report(y_test, pred)\n",
    "fpr, tpr, thresholds = metrics.roc_curve(y_test,pred)\n",
    "roc_auc=metrics.auc(fpr, tpr)\n",
    "roc_auc\n",
    "print roc_auc\n",
    "print perf"
   ]
  },
  {
   "cell_type": "code",
   "execution_count": 34,
   "metadata": {},
   "outputs": [
    {
     "data": {
      "text/plain": [
       "0.8012929675181331"
      ]
     },
     "execution_count": 34,
     "metadata": {},
     "output_type": "execute_result"
    }
   ],
   "source": [
    "false_positive_rate, true_positive_rate, thresholds = roc_curve(y_test,pred)\n",
    "roc_auc = auc(false_positive_rate, true_positive_rate)\n",
    "roc_auc"
   ]
  },
  {
   "cell_type": "code",
   "execution_count": 35,
   "metadata": {},
   "outputs": [
    {
     "name": "stdout",
     "output_type": "stream",
     "text": [
      "Accuracy: 0.8088642659279779\n",
      "support: 71.0325710326\n"
     ]
    }
   ],
   "source": [
    "pred=clf.best_estimator_.predict(X_test)\n",
    "print \"Accuracy:\", clf.score(X_test, y_test)  \n",
    "# print pred\n",
    "# print y_test\n",
    "print \"support:\", len(clf.best_estimator_.support_vectors_)*100.0/(X_train.shape[0])"
   ]
  },
  {
   "cell_type": "code",
   "execution_count": 36,
   "metadata": {},
   "outputs": [],
   "source": [
    "# acg=[];\n",
    "# for i in range(0,6,2):\n",
    "#     acg=np.append(acg,i)"
   ]
  },
  {
   "cell_type": "code",
   "execution_count": 37,
   "metadata": {},
   "outputs": [
    {
     "data": {
      "text/plain": [
       "SVC(C=10, cache_size=200, class_weight=None, coef0=0.0,\n",
       "  decision_function_shape='ovr', degree=3, gamma=0.00140056022409,\n",
       "  kernel='rbf', max_iter=-1, probability=False, random_state=None,\n",
       "  shrinking=True, tol=0.001, verbose=False)"
      ]
     },
     "execution_count": 37,
     "metadata": {},
     "output_type": "execute_result"
    }
   ],
   "source": [
    "clf.best_estimator_"
   ]
  },
  {
   "cell_type": "code",
   "execution_count": 38,
   "metadata": {},
   "outputs": [
    {
     "name": "stdout",
     "output_type": "stream",
     "text": [
      "Accuracy: 0.5817174515235457\n",
      "ROC: 0.5\n",
      "             precision    recall  f1-score   support\n",
      "\n",
      "        0.0       0.00      0.00      0.00       151\n",
      "        1.0       0.58      1.00      0.74       210\n",
      "\n",
      "avg / total       0.34      0.58      0.43       361\n",
      "\n",
      "0 34\n",
      "Accuracy: 0.6759002770083102\n",
      "ROC: 0.6563071586250394\n",
      "             precision    recall  f1-score   support\n",
      "\n",
      "        0.0       0.63      0.54      0.58       151\n",
      "        1.0       0.70      0.78      0.74       210\n",
      "\n",
      "avg / total       0.67      0.68      0.67       361\n",
      "\n",
      "34 68\n",
      "Accuracy: 0.6481994459833795\n",
      "ROC: 0.6185430463576159\n",
      "             precision    recall  f1-score   support\n",
      "\n",
      "        0.0       0.61      0.44      0.51       151\n",
      "        1.0       0.66      0.80      0.73       210\n",
      "\n",
      "avg / total       0.64      0.65      0.64       361\n",
      "\n",
      "68 102\n",
      "Accuracy: 0.6454293628808865\n",
      "ROC: 0.6431409649952696\n",
      "             precision    recall  f1-score   support\n",
      "\n",
      "        0.0       0.57      0.63      0.60       151\n",
      "        1.0       0.71      0.66      0.68       210\n",
      "\n",
      "avg / total       0.65      0.65      0.65       361\n",
      "\n",
      "102 136\n",
      "Accuracy: 0.7229916897506925\n",
      "ROC: 0.7172500788394828\n",
      "             precision    recall  f1-score   support\n",
      "\n",
      "        0.0       0.66      0.68      0.67       151\n",
      "        1.0       0.77      0.75      0.76       210\n",
      "\n",
      "avg / total       0.72      0.72      0.72       361\n",
      "\n",
      "136 170\n",
      "Accuracy: 0.6980609418282548\n",
      "ROC: 0.680006307158625\n",
      "             precision    recall  f1-score   support\n",
      "\n",
      "        0.0       0.66      0.57      0.61       151\n",
      "        1.0       0.72      0.79      0.75       210\n",
      "\n",
      "avg / total       0.69      0.70      0.69       361\n",
      "\n",
      "170 204\n",
      "Accuracy: 0.6814404432132964\n",
      "ROC: 0.6768842636392305\n",
      "             precision    recall  f1-score   support\n",
      "\n",
      "        0.0       0.61      0.65      0.63       151\n",
      "        1.0       0.74      0.70      0.72       210\n",
      "\n",
      "avg / total       0.68      0.68      0.68       361\n",
      "\n",
      "204 238\n",
      "Accuracy: 0.7285318559556787\n",
      "ROC: 0.7182907600126143\n",
      "             precision    recall  f1-score   support\n",
      "\n",
      "        0.0       0.68      0.66      0.67       151\n",
      "        1.0       0.76      0.78      0.77       210\n",
      "\n",
      "avg / total       0.73      0.73      0.73       361\n",
      "\n",
      "238 272\n",
      "Accuracy: 0.6620498614958449\n",
      "ROC: 0.6564963733837906\n",
      "             precision    recall  f1-score   support\n",
      "\n",
      "        0.0       0.59      0.62      0.61       151\n",
      "        1.0       0.72      0.69      0.70       210\n",
      "\n",
      "avg / total       0.66      0.66      0.66       361\n",
      "\n",
      "272 306\n",
      "Accuracy: 0.6786703601108033\n",
      "ROC: 0.6745033112582781\n",
      "             precision    recall  f1-score   support\n",
      "\n",
      "        0.0       0.61      0.65      0.63       151\n",
      "        1.0       0.73      0.70      0.72       210\n",
      "\n",
      "avg / total       0.68      0.68      0.68       361\n",
      "\n",
      "306 340\n",
      "Accuracy: 0.7091412742382271\n",
      "ROC: 0.7044150110375277\n",
      "             precision    recall  f1-score   support\n",
      "\n",
      "        0.0       0.65      0.68      0.66       151\n",
      "        1.0       0.76      0.73      0.75       210\n",
      "\n",
      "avg / total       0.71      0.71      0.71       361\n",
      "\n",
      "340 374\n",
      "Accuracy: 0.7174515235457064\n",
      "ROC: 0.712488174077578\n",
      "             precision    recall  f1-score   support\n",
      "\n",
      "        0.0       0.66      0.68      0.67       151\n",
      "        1.0       0.76      0.74      0.75       210\n",
      "\n",
      "avg / total       0.72      0.72      0.72       361\n",
      "\n",
      "374 408\n",
      "Accuracy: 0.6842105263157895\n",
      "ROC: 0.6699621570482497\n",
      "             precision    recall  f1-score   support\n",
      "\n",
      "        0.0       0.63      0.58      0.61       151\n",
      "        1.0       0.72      0.76      0.74       210\n",
      "\n",
      "avg / total       0.68      0.68      0.68       361\n",
      "\n",
      "408 442\n",
      "Accuracy: 0.6703601108033241\n",
      "ROC: 0.6617786187322612\n",
      "             precision    recall  f1-score   support\n",
      "\n",
      "        0.0       0.61      0.61      0.61       151\n",
      "        1.0       0.72      0.71      0.72       210\n",
      "\n",
      "avg / total       0.67      0.67      0.67       361\n",
      "\n",
      "442 476\n",
      "Accuracy: 0.6786703601108033\n",
      "ROC: 0.6745033112582781\n",
      "             precision    recall  f1-score   support\n",
      "\n",
      "        0.0       0.61      0.65      0.63       151\n",
      "        1.0       0.73      0.70      0.72       210\n",
      "\n",
      "avg / total       0.68      0.68      0.68       361\n",
      "\n",
      "476 510\n",
      "Accuracy: 0.6204986149584487\n",
      "ROC: 0.6235730053610848\n",
      "             precision    recall  f1-score   support\n",
      "\n",
      "        0.0       0.54      0.64      0.59       151\n",
      "        1.0       0.70      0.60      0.65       210\n",
      "\n",
      "avg / total       0.63      0.62      0.62       361\n",
      "\n",
      "510 544\n",
      "Accuracy: 0.6731301939058172\n",
      "ROC: 0.6753232418795332\n",
      "             precision    recall  f1-score   support\n",
      "\n",
      "        0.0       0.59      0.69      0.64       151\n",
      "        1.0       0.75      0.66      0.70       210\n",
      "\n",
      "avg / total       0.68      0.67      0.68       361\n",
      "\n",
      "544 578\n",
      "Accuracy: 0.7119113573407202\n",
      "ROC: 0.7040050457269\n",
      "             precision    recall  f1-score   support\n",
      "\n",
      "        0.0       0.66      0.66      0.66       151\n",
      "        1.0       0.75      0.75      0.75       210\n",
      "\n",
      "avg / total       0.71      0.71      0.71       361\n",
      "\n",
      "578 612\n",
      "Accuracy: 0.7202216066481995\n",
      "ROC: 0.7167297382529171\n",
      "             precision    recall  f1-score   support\n",
      "\n",
      "        0.0       0.66      0.70      0.68       151\n",
      "        1.0       0.77      0.74      0.75       210\n",
      "\n",
      "avg / total       0.72      0.72      0.72       361\n",
      "\n",
      "612 646\n",
      "Accuracy: 0.6620498614958449\n",
      "ROC: 0.6630085146641438\n",
      "             precision    recall  f1-score   support\n",
      "\n",
      "        0.0       0.58      0.67      0.62       151\n",
      "        1.0       0.73      0.66      0.69       210\n",
      "\n",
      "avg / total       0.67      0.66      0.66       361\n",
      "\n",
      "646 680\n",
      "Accuracy: 0.6648199445983379\n",
      "ROC: 0.6663197729422895\n",
      "             precision    recall  f1-score   support\n",
      "\n",
      "        0.0       0.59      0.68      0.63       151\n",
      "        1.0       0.74      0.66      0.70       210\n",
      "\n",
      "avg / total       0.67      0.66      0.67       361\n",
      "\n",
      "680 714\n"
     ]
    }
   ],
   "source": [
    "k=0;j=34; acgl=[];auclh=[];pmlh=[];\n",
    "for i in range(0,21):\n",
    "    cv=5\n",
    "    from sklearn.model_selection import GridSearchCV\n",
    "#     parameters = {'kernel':['rbf'], 'C':[1, 10,100,1000],'gamma':[0.01,2/1428.0,1/1428.0]}\n",
    "    parameters = {'kernel':['rbf'], 'C':[1, 10,20,30, 40, 50, 60, 70, 90,100,1000],'gamma':[0.015,0.025, 0.029, 0.030,0.035]}\n",
    "    svc = svm.SVC()\n",
    "    clf = GridSearchCV(svc, parameters,cv=cv)\n",
    "    clf.fit(X_train[:,k:j], y_train)\n",
    "    pred=clf.best_estimator_.predict(X_test[:,k:j])\n",
    "    acc=clf.score(X_test[:,k:j], y_test)\n",
    "    acgl=np.append(acgl,acc)\n",
    "    print \"Accuracy:\", acc\n",
    "    perf=classification_report(y_test, pred)\n",
    "    pmlh.append(perf)\n",
    "    fpr, tpr, thresholds = metrics.roc_curve(y_test,pred)\n",
    "    roc_auc=metrics.auc(fpr, tpr)\n",
    "    roc_auc\n",
    "    auclh.append(roc_auc)\n",
    "    print \"ROC:\", roc_auc\n",
    "    print perf\n",
    "    print k,j\n",
    "    k=k+34;j=j+34;"
   ]
  },
  {
   "cell_type": "code",
   "execution_count": 39,
   "metadata": {},
   "outputs": [],
   "source": [
    "t=np.linspace(0,200,21, endpoint=True)\n",
    "time=pd.DataFrame(t)\n",
    "# a=pd.concat([time,pd.DataFrame(acgw),pd.DataFrame(acgl),pd.DataFrame(acgr)],axis=1, keys=[ 'time',\"Whole\", \"LH\", \"RH\"])\n",
    "a=pd.concat([time,pd.DataFrame(acgw),pd.DataFrame(acgr),pd.DataFrame(acgl)],axis=1, keys=[ 'time',\"Whole\", \"LH\", \"RH\"])"
   ]
  },
  {
   "cell_type": "code",
   "execution_count": 40,
   "metadata": {},
   "outputs": [
    {
     "data": {
      "text/plain": [
       "0.7285318559556787"
      ]
     },
     "execution_count": 40,
     "metadata": {},
     "output_type": "execute_result"
    }
   ],
   "source": [
    "np.max(acgl)\n",
    "np.max(a.iloc[:,3])"
   ]
  },
  {
   "cell_type": "code",
   "execution_count": 41,
   "metadata": {},
   "outputs": [
    {
     "data": {
      "text/html": [
       "<div>\n",
       "<style scoped>\n",
       "    .dataframe tbody tr th:only-of-type {\n",
       "        vertical-align: middle;\n",
       "    }\n",
       "\n",
       "    .dataframe tbody tr th {\n",
       "        vertical-align: top;\n",
       "    }\n",
       "\n",
       "    .dataframe thead tr th {\n",
       "        text-align: left;\n",
       "    }\n",
       "</style>\n",
       "<table border=\"1\" class=\"dataframe\">\n",
       "  <thead>\n",
       "    <tr>\n",
       "      <th></th>\n",
       "      <th>time</th>\n",
       "      <th>Whole</th>\n",
       "      <th>LH</th>\n",
       "      <th>RH</th>\n",
       "    </tr>\n",
       "    <tr>\n",
       "      <th></th>\n",
       "      <th>0</th>\n",
       "      <th>0</th>\n",
       "      <th>0</th>\n",
       "      <th>0</th>\n",
       "    </tr>\n",
       "  </thead>\n",
       "  <tbody>\n",
       "    <tr>\n",
       "      <th>0</th>\n",
       "      <td>0.0</td>\n",
       "      <td>0.581717</td>\n",
       "      <td>0.581717</td>\n",
       "      <td>0.581717</td>\n",
       "    </tr>\n",
       "    <tr>\n",
       "      <th>1</th>\n",
       "      <td>10.0</td>\n",
       "      <td>0.684211</td>\n",
       "      <td>0.648199</td>\n",
       "      <td>0.675900</td>\n",
       "    </tr>\n",
       "    <tr>\n",
       "      <th>2</th>\n",
       "      <td>20.0</td>\n",
       "      <td>0.670360</td>\n",
       "      <td>0.653740</td>\n",
       "      <td>0.648199</td>\n",
       "    </tr>\n",
       "    <tr>\n",
       "      <th>3</th>\n",
       "      <td>30.0</td>\n",
       "      <td>0.698061</td>\n",
       "      <td>0.698061</td>\n",
       "      <td>0.645429</td>\n",
       "    </tr>\n",
       "    <tr>\n",
       "      <th>4</th>\n",
       "      <td>40.0</td>\n",
       "      <td>0.745152</td>\n",
       "      <td>0.675900</td>\n",
       "      <td>0.722992</td>\n",
       "    </tr>\n",
       "    <tr>\n",
       "      <th>5</th>\n",
       "      <td>50.0</td>\n",
       "      <td>0.711911</td>\n",
       "      <td>0.706371</td>\n",
       "      <td>0.698061</td>\n",
       "    </tr>\n",
       "    <tr>\n",
       "      <th>6</th>\n",
       "      <td>60.0</td>\n",
       "      <td>0.742382</td>\n",
       "      <td>0.692521</td>\n",
       "      <td>0.681440</td>\n",
       "    </tr>\n",
       "    <tr>\n",
       "      <th>7</th>\n",
       "      <td>70.0</td>\n",
       "      <td>0.731302</td>\n",
       "      <td>0.662050</td>\n",
       "      <td>0.728532</td>\n",
       "    </tr>\n",
       "    <tr>\n",
       "      <th>8</th>\n",
       "      <td>80.0</td>\n",
       "      <td>0.689751</td>\n",
       "      <td>0.728532</td>\n",
       "      <td>0.662050</td>\n",
       "    </tr>\n",
       "    <tr>\n",
       "      <th>9</th>\n",
       "      <td>90.0</td>\n",
       "      <td>0.745152</td>\n",
       "      <td>0.700831</td>\n",
       "      <td>0.678670</td>\n",
       "    </tr>\n",
       "    <tr>\n",
       "      <th>10</th>\n",
       "      <td>100.0</td>\n",
       "      <td>0.761773</td>\n",
       "      <td>0.725762</td>\n",
       "      <td>0.709141</td>\n",
       "    </tr>\n",
       "    <tr>\n",
       "      <th>11</th>\n",
       "      <td>110.0</td>\n",
       "      <td>0.761773</td>\n",
       "      <td>0.722992</td>\n",
       "      <td>0.717452</td>\n",
       "    </tr>\n",
       "    <tr>\n",
       "      <th>12</th>\n",
       "      <td>120.0</td>\n",
       "      <td>0.767313</td>\n",
       "      <td>0.706371</td>\n",
       "      <td>0.684211</td>\n",
       "    </tr>\n",
       "    <tr>\n",
       "      <th>13</th>\n",
       "      <td>130.0</td>\n",
       "      <td>0.767313</td>\n",
       "      <td>0.722992</td>\n",
       "      <td>0.670360</td>\n",
       "    </tr>\n",
       "    <tr>\n",
       "      <th>14</th>\n",
       "      <td>140.0</td>\n",
       "      <td>0.739612</td>\n",
       "      <td>0.642659</td>\n",
       "      <td>0.678670</td>\n",
       "    </tr>\n",
       "    <tr>\n",
       "      <th>15</th>\n",
       "      <td>150.0</td>\n",
       "      <td>0.706371</td>\n",
       "      <td>0.670360</td>\n",
       "      <td>0.620499</td>\n",
       "    </tr>\n",
       "    <tr>\n",
       "      <th>16</th>\n",
       "      <td>160.0</td>\n",
       "      <td>0.706371</td>\n",
       "      <td>0.709141</td>\n",
       "      <td>0.673130</td>\n",
       "    </tr>\n",
       "    <tr>\n",
       "      <th>17</th>\n",
       "      <td>170.0</td>\n",
       "      <td>0.753463</td>\n",
       "      <td>0.711911</td>\n",
       "      <td>0.711911</td>\n",
       "    </tr>\n",
       "    <tr>\n",
       "      <th>18</th>\n",
       "      <td>180.0</td>\n",
       "      <td>0.717452</td>\n",
       "      <td>0.686981</td>\n",
       "      <td>0.720222</td>\n",
       "    </tr>\n",
       "    <tr>\n",
       "      <th>19</th>\n",
       "      <td>190.0</td>\n",
       "      <td>0.700831</td>\n",
       "      <td>0.678670</td>\n",
       "      <td>0.662050</td>\n",
       "    </tr>\n",
       "    <tr>\n",
       "      <th>20</th>\n",
       "      <td>200.0</td>\n",
       "      <td>0.706371</td>\n",
       "      <td>0.703601</td>\n",
       "      <td>0.664820</td>\n",
       "    </tr>\n",
       "  </tbody>\n",
       "</table>\n",
       "</div>"
      ],
      "text/plain": [
       "     time     Whole        LH        RH\n",
       "        0         0         0         0\n",
       "0     0.0  0.581717  0.581717  0.581717\n",
       "1    10.0  0.684211  0.648199  0.675900\n",
       "2    20.0  0.670360  0.653740  0.648199\n",
       "3    30.0  0.698061  0.698061  0.645429\n",
       "4    40.0  0.745152  0.675900  0.722992\n",
       "5    50.0  0.711911  0.706371  0.698061\n",
       "6    60.0  0.742382  0.692521  0.681440\n",
       "7    70.0  0.731302  0.662050  0.728532\n",
       "8    80.0  0.689751  0.728532  0.662050\n",
       "9    90.0  0.745152  0.700831  0.678670\n",
       "10  100.0  0.761773  0.725762  0.709141\n",
       "11  110.0  0.761773  0.722992  0.717452\n",
       "12  120.0  0.767313  0.706371  0.684211\n",
       "13  130.0  0.767313  0.722992  0.670360\n",
       "14  140.0  0.739612  0.642659  0.678670\n",
       "15  150.0  0.706371  0.670360  0.620499\n",
       "16  160.0  0.706371  0.709141  0.673130\n",
       "17  170.0  0.753463  0.711911  0.711911\n",
       "18  180.0  0.717452  0.686981  0.720222\n",
       "19  190.0  0.700831  0.678670  0.662050\n",
       "20  200.0  0.706371  0.703601  0.664820"
      ]
     },
     "execution_count": 41,
     "metadata": {},
     "output_type": "execute_result"
    }
   ],
   "source": [
    "a"
   ]
  },
  {
   "cell_type": "markdown",
   "metadata": {},
   "source": [
    "# Writing the csv data all"
   ]
  },
  {
   "cell_type": "code",
   "execution_count": 42,
   "metadata": {},
   "outputs": [],
   "source": [
    "# wpath=\"/home/sultan/EEG/Source_Level_Analysis/SVM_results/\"\n",
    "# dall=a\n",
    "# dall.to_csv(wpath+'svm_res_100sam_10ms_clear_v1.csv')"
   ]
  },
  {
   "cell_type": "code",
   "execution_count": 43,
   "metadata": {},
   "outputs": [
    {
     "data": {
      "image/png": "[encoded data removed]",
      "text/plain": [
       "<Figure size 432x288 with 1 Axes>"
      ]
     },
     "metadata": {
      "needs_background": "light"
     },
     "output_type": "display_data"
    }
   ],
   "source": [
    "axis_font = {'fontname':'Arial', 'size':'15'}\n",
    "#tw1=tad.iloc[1:,0];Acdw1=tad.iloc[1:,1];\n",
    "tw1=a.iloc[0:,0];Acdw=a.iloc[0:,1];Acdlh=a.iloc[0:,2];Acdrh=a.iloc[0:,3]\n",
    "# plt.plot(tw1,Acdw1,c='g')\n",
    "plt.plot(tw1,Acdw,'g',linewidth=2,marker='*')\n",
    "plt.plot(tw1, Acdlh,'--r',linewidth=2,marker='o')\n",
    "plt.plot(tw1, Acdrh,'--b',linewidth=2,marker='x')\n",
    "plt.title(\"100ms_10ms_clear\")\n",
    "plt.xlim(0,200)\n",
    "# plt.plot(tw1,Acdw1, 'k--', label='noise')\n",
    "# plt.xlabel('Time (ms)',**axis_font)\n",
    "# plt.ylabel('Accuracy (%)',**axis_font)\n",
    "# plt.title('Whole brain',**axis_font)\n",
    "# plt.yticks(**axis_font)\n",
    "# plt.xticks(**axis_font)\n",
    "plt.grid(True)\n",
    "plt.tight_layout()\n",
    "plt.gca().legend(('Whole','LH','RH'),fontsize=16,loc='best')\n",
    "# plt.savefig('whole_acc_timem.eps')\n",
    "# plt.savefig('whole_acc_timem.tif')\n",
    "plt.show()"
   ]
  },
  {
   "cell_type": "code",
   "execution_count": 44,
   "metadata": {},
   "outputs": [
    {
     "ename": "NameError",
     "evalue": "name 'tttt' is not defined",
     "output_type": "error",
     "traceback": [
      "\u001b[0;31m\u001b[0m",
      "\u001b[0;31mNameError\u001b[0mTraceback (most recent call last)",
      "\u001b[0;32m<ipython-input-44-180ce7c87868>\u001b[0m in \u001b[0;36m<module>\u001b[0;34m()\u001b[0m\n\u001b[0;32m----> 1\u001b[0;31m \u001b[0mtttt\u001b[0m\u001b[0;34m\u001b[0m\u001b[0m\n\u001b[0m",
      "\u001b[0;31mNameError\u001b[0m: name 'tttt' is not defined"
     ]
    }
   ],
   "source": [
    "tttt"
   ]
  },
  {
   "cell_type": "code",
   "execution_count": null,
   "metadata": {},
   "outputs": [],
   "source": [
    "axis_font = {'fontname':'Arial', 'size':'15'}\n",
    "#tw1=tad.iloc[1:,0];Acdw1=tad.iloc[1:,1];\n",
    "tw1=a.iloc[0:,0];Acdw=a.iloc[0:,1];Acdlh=a.iloc[0:,2];Acdrh=a.iloc[0:,3]\n",
    "# plt.plot(tw1,Acdw1,c='g')\n",
    "plt.plot(tw1,Acdw,'g',linewidth=2,marker='*')\n",
    "plt.plot(tw1, Acdlh,'--r',linewidth=2,marker='o')\n",
    "plt.plot(tw1, Acdrh,'--b',linewidth=2,marker='x')\n",
    "plt.title(\"100ms_10ms_clear\")\n",
    "plt.xlim(0,200)\n",
    "# plt.plot(tw1,Acdw1, 'k--', label='noise')\n",
    "# plt.xlabel('Time (ms)',**axis_font)\n",
    "# plt.ylabel('Accuracy (%)',**axis_font)\n",
    "# plt.title('Whole brain',**axis_font)\n",
    "# plt.yticks(**axis_font)\n",
    "# plt.xticks(**axis_font)\n",
    "plt.grid(True)\n",
    "plt.tight_layout()\n",
    "plt.gca().legend(('Whole','LH','RH'),fontsize=16,loc='best')\n",
    "# plt.savefig('whole_acc_timem.eps')\n",
    "# plt.savefig('whole_acc_timem.tif')\n",
    "plt.show()"
   ]
  },
  {
   "cell_type": "code",
   "execution_count": null,
   "metadata": {},
   "outputs": [],
   "source": [
    "len(clf.best_estimator_.support_vectors_)*100.0/(X_train.shape[0])"
   ]
  },
  {
   "cell_type": "code",
   "execution_count": null,
   "metadata": {},
   "outputs": [],
   "source": [
    "# dall"
   ]
  },
  {
   "cell_type": "code",
   "execution_count": null,
   "metadata": {},
   "outputs": [],
   "source": [
    "X_train.shape"
   ]
  },
  {
   "cell_type": "code",
   "execution_count": null,
   "metadata": {},
   "outputs": [],
   "source": [
    "# wpath=\"/home/sultan/EEG/Source_Level_Analysis/SVM_results/\"\n",
    "# dall=a\n",
    "# dall.to_csv(wpath+'svm_res_100sam_10ms_clear_v2.csv')"
   ]
  },
  {
   "cell_type": "code",
   "execution_count": null,
   "metadata": {},
   "outputs": [],
   "source": []
  }
 ],
 "metadata": {
  "kernelspec": {
   "display_name": "Python 2",
   "language": "python",
   "name": "python2"
  },
  "language_info": {
   "codemirror_mode": {
    "name": "ipython",
    "version": 2
   },
   "file_extension": ".py",
   "mimetype": "text/x-python",
   "name": "python",
   "nbconvert_exporter": "python",
   "pygments_lexer": "ipython2",
   "version": "2.7.6"
  }
 },
 "nbformat": 4,
 "nbformat_minor": 2
}
