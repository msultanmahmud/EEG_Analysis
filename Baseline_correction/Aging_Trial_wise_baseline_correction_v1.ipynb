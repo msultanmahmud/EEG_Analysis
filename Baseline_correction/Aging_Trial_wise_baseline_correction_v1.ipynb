{
 "cells": [
  {
   "cell_type": "markdown",
   "metadata": {},
   "source": [
    "# Baseline correction Pre-processing"
   ]
  },
  {
   "cell_type": "code",
   "execution_count": 2,
   "metadata": {},
   "outputs": [],
   "source": [
    "import shutil, random, os\n",
    "import pandas as pd\n",
    "import numpy as np\n",
    "import math\n",
    "import matplotlib.pyplot as plt"
   ]
  },
  {
   "cell_type": "markdown",
   "metadata": {},
   "source": [
    "### Neeed to put the input data directory and destination of results folder"
   ]
  },
  {
   "cell_type": "code",
   "execution_count": 3,
   "metadata": {},
   "outputs": [],
   "source": [
    "# This is small data set path for testing purpose\n",
    "# dirpath=\"/home/sultan/EEG_CP/Small_dk_subset/\"\n",
    "# dirpath=\"/home/sultan/EEG_CP/CP_Extracted_CSV_Source_Dk_data/\"\n",
    "dirpath=\"/home/sultan/EEG/Source_Level_Analysis/Extracted_CSV_Source_Dk_data/\"\n",
    "# Destination directory\n",
    "despath=\"/home/sultan/EEG/Baseline_Corr_Aging_Data/\"\n",
    "## make director \n",
    "# os.mkdir(despath)\n",
    "#despath=\"/home/sultan/EEG_CP/ERP_samples/ERP_bs_test1/\""
   ]
  },
  {
   "cell_type": "markdown",
   "metadata": {},
   "source": [
    "# Baseline correction"
   ]
  },
  {
   "cell_type": "code",
   "execution_count": 4,
   "metadata": {},
   "outputs": [],
   "source": [
    "def absbaseline(dfile, fname):\n",
    "    df1 = pd.read_csv(dfile)\n",
    "    tmp = df1.copy()\n",
    "    tmp = tmp.drop(columns=['cc1'] )\n",
    "    ## base line correction\n",
    "    orgd=np.asmatrix(tmp)\n",
    "    blm=np.mean(tmp.iloc[:,0:5],axis=1)\n",
    "    bsm=np.asmatrix(blm).T\n",
    "    ablc=orgd-bsm\n",
    "    tmablc=pd.DataFrame(ablc)\n",
    "    tmablc\n",
    "    df1.update(tmablc)\n",
    "    df1.to_csv(fname+'.csv')"
   ]
  },
  {
   "cell_type": "markdown",
   "metadata": {},
   "source": [
    "# Trial wise <font color='red'>based line correction</font> "
   ]
  },
  {
   "cell_type": "markdown",
   "metadata": {},
   "source": [
    "## Make sure subject num, Trig"
   ]
  },
  {
   "cell_type": "code",
   "execution_count": 5,
   "metadata": {},
   "outputs": [],
   "source": [
    "# # Remove the existence folder with files \n",
    "shutil.rmtree(despath)\n",
    "sub=2;# subject+1\n",
    "Ev=4;#event+1\n",
    "for k in range(1,sub):\n",
    "    for j in range(1,Ev):\n",
    "        b=dirpath+'S'+str(k)+'/'+'Event_'+str(j)+'/'\n",
    "        dpin=b\n",
    "#         print dpin\n",
    "        from os import walk\n",
    "        from os.path import isfile, join\n",
    "        f = []\n",
    "        for (dpin, dirnames, filenames) in walk(dpin):\n",
    "            f.extend(join(dpin, x) for x in filenames if x.endswith(\".csv\"))\n",
    "            break\n",
    "        descr=despath+'S'+str(k)+'/'+'Event_'+str(j); # Make directory \n",
    "        os.makedirs(descr)\n",
    "        for fi in f:\n",
    "#             print 'orig \\n', fi\n",
    "#             #See the base file name\n",
    "#             ab=os.path.basename(fi)\n",
    "#             print ab\n",
    "            ac=os.path.splitext(os.path.basename(fi))\n",
    "            fname=despath+'S'+str(k)+'/'+'Event_'+str(j)+'/'+'BC_'+ac[0]\n",
    "#             print 'newname \\n', fname\n",
    "            absbaseline(fi,fname)            \n"
   ]
  },
  {
   "cell_type": "markdown",
   "metadata": {},
   "source": [
    "# End of baseline correction"
   ]
  },
  {
   "cell_type": "code",
   "execution_count": null,
   "metadata": {},
   "outputs": [],
   "source": []
  }
 ],
 "metadata": {
  "kernelspec": {
   "display_name": "Python 2",
   "language": "python",
   "name": "python2"
  },
  "language_info": {
   "codemirror_mode": {
    "name": "ipython",
    "version": 2
   },
   "file_extension": ".py",
   "mimetype": "text/x-python",
   "name": "python",
   "nbconvert_exporter": "python",
   "pygments_lexer": "ipython2",
   "version": "2.7.6"
  }
 },
 "nbformat": 4,
 "nbformat_minor": 2
}
