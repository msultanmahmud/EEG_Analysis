{
 "cells": [
  {
   "cell_type": "markdown",
   "metadata": {},
   "source": [
    "# Shuffle and hyperparameters Tuning for hearing data set [Cross-validation](http://scikit-learn.org/stable/modules/cross_validation.html)"
   ]
  },
  {
   "cell_type": "code",
   "execution_count": 1,
   "metadata": {},
   "outputs": [],
   "source": [
    "import numpy as np\n",
    "import pandas as pd\n",
    "from sklearn import svm, metrics\n",
    "#from sklearn import datasets\n",
    "from sklearn.model_selection import train_test_split, GridSearchCV\n",
    "from sklearn.metrics import accuracy_score,confusion_matrix,roc_curve, auc\n",
    "from matplotlib import pyplot as plt\n",
    "from collections import Counter\n",
    "from scipy.stats import norm\n",
    "import seaborn as sns; sns.set(font_scale=1.2)\n",
    "%matplotlib inline"
   ]
  },
  {
   "cell_type": "markdown",
   "metadata": {
    "collapsed": true
   },
   "source": [
    "# load the dataset"
   ]
  },
  {
   "cell_type": "code",
   "execution_count": 3,
   "metadata": {},
   "outputs": [],
   "source": [
    "#path='C:/Users/Sultan/OneDrive - The University of Memphis/RESEARCH2017S/Hearing_data/Graph_Braph/WUPnoise24/indidfea/glonodal_noiseall_featureswup.csv'\n",
    "path='/home/sultan/SVM_Graph_theory/0_Python_final_SVM_Graph_theory/WUPnoise24/indidfea/glonodal_noiseall_featureswup.csv'\n",
    "dataset =pd.read_csv(path)"
   ]
  },
  {
   "cell_type": "code",
   "execution_count": 4,
   "metadata": {},
   "outputs": [
    {
     "data": {
      "text/html": [
       "<div>\n",
       "<style scoped>\n",
       "    .dataframe tbody tr th:only-of-type {\n",
       "        vertical-align: middle;\n",
       "    }\n",
       "\n",
       "    .dataframe tbody tr th {\n",
       "        vertical-align: top;\n",
       "    }\n",
       "\n",
       "    .dataframe thead th {\n",
       "        text-align: right;\n",
       "    }\n",
       "</style>\n",
       "<table border=\"1\" class=\"dataframe\">\n",
       "  <thead>\n",
       "    <tr style=\"text-align: right;\">\n",
       "      <th></th>\n",
       "      <th>Sl no.</th>\n",
       "      <th>Participant ID</th>\n",
       "      <th>radius</th>\n",
       "      <th>A1</th>\n",
       "      <th>M1</th>\n",
       "      <th>B1</th>\n",
       "      <th>B2</th>\n",
       "      <th>A1.1</th>\n",
       "      <th>M1.1</th>\n",
       "      <th>B1.1</th>\n",
       "      <th>B2.1</th>\n",
       "      <th>class</th>\n",
       "    </tr>\n",
       "  </thead>\n",
       "  <tbody>\n",
       "    <tr>\n",
       "      <th>0</th>\n",
       "      <td>1</td>\n",
       "      <td>4</td>\n",
       "      <td>5.2428</td>\n",
       "      <td>6.6464</td>\n",
       "      <td>6.6386</td>\n",
       "      <td>6.4581</td>\n",
       "      <td>6.8097</td>\n",
       "      <td>7.2875</td>\n",
       "      <td>6.3880</td>\n",
       "      <td>6.6688</td>\n",
       "      <td>6.5751</td>\n",
       "      <td>1</td>\n",
       "    </tr>\n",
       "    <tr>\n",
       "      <th>1</th>\n",
       "      <td>2</td>\n",
       "      <td>5</td>\n",
       "      <td>5.5176</td>\n",
       "      <td>7.7110</td>\n",
       "      <td>7.6771</td>\n",
       "      <td>7.5925</td>\n",
       "      <td>7.5623</td>\n",
       "      <td>7.7133</td>\n",
       "      <td>6.8517</td>\n",
       "      <td>7.0738</td>\n",
       "      <td>7.5235</td>\n",
       "      <td>1</td>\n",
       "    </tr>\n",
       "    <tr>\n",
       "      <th>2</th>\n",
       "      <td>3</td>\n",
       "      <td>6</td>\n",
       "      <td>5.2375</td>\n",
       "      <td>7.0842</td>\n",
       "      <td>7.2704</td>\n",
       "      <td>7.4206</td>\n",
       "      <td>6.9964</td>\n",
       "      <td>7.3958</td>\n",
       "      <td>6.5502</td>\n",
       "      <td>6.9079</td>\n",
       "      <td>6.6487</td>\n",
       "      <td>1</td>\n",
       "    </tr>\n",
       "    <tr>\n",
       "      <th>3</th>\n",
       "      <td>4</td>\n",
       "      <td>7</td>\n",
       "      <td>4.6762</td>\n",
       "      <td>6.1990</td>\n",
       "      <td>6.9193</td>\n",
       "      <td>7.6379</td>\n",
       "      <td>7.4760</td>\n",
       "      <td>7.1952</td>\n",
       "      <td>7.2810</td>\n",
       "      <td>7.2275</td>\n",
       "      <td>7.7011</td>\n",
       "      <td>1</td>\n",
       "    </tr>\n",
       "    <tr>\n",
       "      <th>4</th>\n",
       "      <td>5</td>\n",
       "      <td>11</td>\n",
       "      <td>5.3955</td>\n",
       "      <td>6.5559</td>\n",
       "      <td>6.7122</td>\n",
       "      <td>6.2421</td>\n",
       "      <td>6.3487</td>\n",
       "      <td>5.8660</td>\n",
       "      <td>5.8351</td>\n",
       "      <td>6.2870</td>\n",
       "      <td>6.5504</td>\n",
       "      <td>1</td>\n",
       "    </tr>\n",
       "  </tbody>\n",
       "</table>\n",
       "</div>"
      ],
      "text/plain": [
       "   Sl no.  Participant ID  radius      A1      M1      B1      B2    A1.1  \\\n",
       "0       1               4  5.2428  6.6464  6.6386  6.4581  6.8097  7.2875   \n",
       "1       2               5  5.5176  7.7110  7.6771  7.5925  7.5623  7.7133   \n",
       "2       3               6  5.2375  7.0842  7.2704  7.4206  6.9964  7.3958   \n",
       "3       4               7  4.6762  6.1990  6.9193  7.6379  7.4760  7.1952   \n",
       "4       5              11  5.3955  6.5559  6.7122  6.2421  6.3487  5.8660   \n",
       "\n",
       "     M1.1    B1.1    B2.1  class  \n",
       "0  6.3880  6.6688  6.5751      1  \n",
       "1  6.8517  7.0738  7.5235      1  \n",
       "2  6.5502  6.9079  6.6487      1  \n",
       "3  7.2810  7.2275  7.7011      1  \n",
       "4  5.8351  6.2870  6.5504      1  "
      ]
     },
     "execution_count": 4,
     "metadata": {},
     "output_type": "execute_result"
    }
   ],
   "source": [
    "dataset.head()"
   ]
  },
  {
   "cell_type": "code",
   "execution_count": 5,
   "metadata": {},
   "outputs": [],
   "source": [
    "#sns.lmplot('dia','eccen',data=dataset,hue='class',palette='Set1',fit_reg=False,scatter_kws={\"s\":70})"
   ]
  },
  {
   "cell_type": "markdown",
   "metadata": {},
   "source": [
    "# split the data set"
   ]
  },
  {
   "cell_type": "code",
   "execution_count": 6,
   "metadata": {},
   "outputs": [],
   "source": [
    "X=dataset.iloc[:,2:11].values\n",
    "y=dataset.iloc[:,11].values"
   ]
  },
  {
   "cell_type": "code",
   "execution_count": 7,
   "metadata": {},
   "outputs": [],
   "source": [
    "X_train, X_test, y_train, y_test = train_test_split(X,y, test_size=.20, random_state=40)     "
   ]
  },
  {
   "cell_type": "markdown",
   "metadata": {},
   "source": [
    "# see the shape of the traing and test data set"
   ]
  },
  {
   "cell_type": "code",
   "execution_count": 8,
   "metadata": {},
   "outputs": [
    {
     "data": {
      "text/plain": [
       "((7, 9), (7,))"
      ]
     },
     "execution_count": 8,
     "metadata": {},
     "output_type": "execute_result"
    }
   ],
   "source": [
    "#X_train.shape, y_train.shape\n",
    "X_test.shape, y_test.shape   "
   ]
  },
  {
   "cell_type": "code",
   "execution_count": 9,
   "metadata": {},
   "outputs": [
    {
     "data": {
      "text/plain": [
       "(array([[5.2375, 7.0842, 7.2704, 7.4206, 6.9964, 7.3958, 6.5502, 6.9079,\n",
       "         6.6487],\n",
       "        [5.8158, 7.2557, 6.3021, 6.1779, 6.2551, 6.1961, 5.8158, 6.7077,\n",
       "         6.1924],\n",
       "        [5.7679, 6.165 , 7.2087, 6.6041, 6.8245, 6.9374, 6.0694, 6.8264,\n",
       "         6.5978],\n",
       "        [5.5212, 6.2292, 6.1339, 6.1872, 6.1434, 6.4577, 5.7365, 6.0235,\n",
       "         6.154 ],\n",
       "        [5.5527, 7.9112, 7.11  , 7.0949, 7.35  , 6.9376, 6.6928, 7.4069,\n",
       "         7.3159],\n",
       "        [5.7039, 6.6424, 6.3315, 6.7585, 6.5876, 6.3848, 6.5177, 6.3399,\n",
       "         6.5066],\n",
       "        [5.674 , 7.0651, 7.1019, 7.4056, 7.4411, 7.1484, 6.5636, 7.4312,\n",
       "         7.1203]]), array([1, 1, 1, 0, 1, 0, 0]))"
      ]
     },
     "execution_count": 9,
     "metadata": {},
     "output_type": "execute_result"
    }
   ],
   "source": [
    "X_test,y_test"
   ]
  },
  {
   "cell_type": "markdown",
   "metadata": {},
   "source": [
    "# Find the Class labels"
   ]
  },
  {
   "cell_type": "code",
   "execution_count": 9,
   "metadata": {},
   "outputs": [
    {
     "data": {
      "text/plain": [
       "array([0, 1], dtype=int64)"
      ]
     },
     "execution_count": 9,
     "metadata": {},
     "output_type": "execute_result"
    }
   ],
   "source": [
    "np.unique(y_test)"
   ]
  },
  {
   "cell_type": "markdown",
   "metadata": {},
   "source": [
    "# Find the repeated class number "
   ]
  },
  {
   "cell_type": "code",
   "execution_count": 10,
   "metadata": {},
   "outputs": [
    {
     "data": {
      "text/plain": [
       "(array([0, 1], dtype=int64), array([3, 4], dtype=int64))"
      ]
     },
     "execution_count": 10,
     "metadata": {},
     "output_type": "execute_result"
    }
   ],
   "source": [
    "np.unique(y_test,return_counts=True)"
   ]
  },
  {
   "cell_type": "markdown",
   "metadata": {},
   "source": [
    "# Gridserach CV"
   ]
  },
  {
   "cell_type": "code",
   "execution_count": 10,
   "metadata": {},
   "outputs": [
    {
     "data": {
      "text/plain": [
       "GridSearchCV(cv=5, error_score='raise',\n",
       "       estimator=SVC(C=1.0, cache_size=200, class_weight=None, coef0=0.0,\n",
       "  decision_function_shape='ovr', degree=3, gamma='auto', kernel='rbf',\n",
       "  max_iter=-1, probability=False, random_state=None, shrinking=True,\n",
       "  tol=0.001, verbose=False),\n",
       "       fit_params=None, iid=True, n_jobs=1,\n",
       "       param_grid={'kernel': ('linear', 'rbf', 'poly'), 'C': [1, 10, 100, 1000], 'gamma': [0.001, 0.002, 0.003]},\n",
       "       pre_dispatch='2*n_jobs', refit=True, return_train_score='warn',\n",
       "       scoring=None, verbose=0)"
      ]
     },
     "execution_count": 10,
     "metadata": {},
     "output_type": "execute_result"
    }
   ],
   "source": [
    "cv=5\n",
    "from sklearn.model_selection import GridSearchCV\n",
    "parameters = {'kernel':('linear', 'rbf','poly'), 'C':[1, 10,100,1000],'gamma':[0.001,.002,0.003]}\n",
    "svc = svm.SVC()\n",
    "clf = GridSearchCV(svc, parameters,cv=cv)\n",
    "clf.fit(X_train, y_train)"
   ]
  },
  {
   "cell_type": "code",
   "execution_count": 11,
   "metadata": {},
   "outputs": [],
   "source": [
    "#print clf.cv_results_\n",
    "#clf.best_estimator_"
   ]
  },
  {
   "cell_type": "markdown",
   "metadata": {},
   "source": [
    "# Find the best parameters  "
   ]
  },
  {
   "cell_type": "code",
   "execution_count": 12,
   "metadata": {},
   "outputs": [
    {
     "data": {
      "text/plain": [
       "SVC(C=1, cache_size=200, class_weight=None, coef0=0.0,\n",
       "  decision_function_shape='ovr', degree=3, gamma=0.001, kernel='rbf',\n",
       "  max_iter=-1, probability=False, random_state=None, shrinking=True,\n",
       "  tol=0.001, verbose=False)"
      ]
     },
     "execution_count": 12,
     "metadata": {},
     "output_type": "execute_result"
    }
   ],
   "source": [
    "clf.best_estimator_"
   ]
  },
  {
   "cell_type": "code",
   "execution_count": 13,
   "metadata": {},
   "outputs": [
    {
     "name": "stdout",
     "output_type": "stream",
     "text": [
      "[1 1 1 1 1 1 1]\n",
      "[1 1 1 0 1 0 0]\n"
     ]
    }
   ],
   "source": [
    "pred=clf.best_estimator_.predict(X_test)\n",
    "#clf.score(X_test, y_test)  \n",
    "print pred\n",
    "print y_test"
   ]
  },
  {
   "cell_type": "code",
   "execution_count": 14,
   "metadata": {},
   "outputs": [
    {
     "name": "stdout",
     "output_type": "stream",
     "text": [
      "0.5714285714285714\n"
     ]
    }
   ],
   "source": [
    "acc=accuracy_score(clf.best_estimator_.predict(X_test),y_test)\n",
    "print acc"
   ]
  },
  {
   "cell_type": "code",
   "execution_count": 15,
   "metadata": {},
   "outputs": [
    {
     "data": {
      "text/plain": [
       "array([[0, 3],\n",
       "       [0, 4]])"
      ]
     },
     "execution_count": 15,
     "metadata": {},
     "output_type": "execute_result"
    }
   ],
   "source": [
    "conf_mat=confusion_matrix(y_test,pred)\n",
    "conf_mat"
   ]
  },
  {
   "cell_type": "code",
   "execution_count": 17,
   "metadata": {},
   "outputs": [
    {
     "name": "stdout",
     "output_type": "stream",
     "text": [
      "             precision    recall  f1-score   support\n",
      "\n",
      "          0       0.00      0.00      0.00         3\n",
      "          1       0.57      1.00      0.73         4\n",
      "\n",
      "avg / total       0.33      0.57      0.42         7\n",
      "\n"
     ]
    }
   ],
   "source": [
    "from sklearn.metrics import classification_report\n",
    "#target_names = ['class 0', 'class 1', 'class 2']\n",
    "print(classification_report(y_test, pred))"
   ]
  },
  {
   "cell_type": "code",
   "execution_count": null,
   "metadata": {},
   "outputs": [],
   "source": []
  },
  {
   "cell_type": "code",
   "execution_count": null,
   "metadata": {},
   "outputs": [],
   "source": []
  },
  {
   "cell_type": "code",
   "execution_count": null,
   "metadata": {},
   "outputs": [],
   "source": []
  },
  {
   "cell_type": "code",
   "execution_count": null,
   "metadata": {},
   "outputs": [],
   "source": []
  },
  {
   "cell_type": "code",
   "execution_count": null,
   "metadata": {},
   "outputs": [],
   "source": []
  },
  {
   "cell_type": "markdown",
   "metadata": {},
   "source": [
    " # [ROC Curve](https://datamize.wordpress.com/2015/01/24/how-to-plot-a-roc-curve-in-scikit-learn/)"
   ]
  },
  {
   "cell_type": "code",
   "execution_count": 19,
   "metadata": {},
   "outputs": [],
   "source": [
    "# false_positive_rate, true_positive_rate, thresholds = roc_curve(y_test,pred)\n",
    "# #false_positive_rate, true_positive_rate, thresholds = metrics.roc_curve(pred, y_test)\n",
    "# #print false_positive_rate\n",
    "# roc_auc = auc(false_positive_rate, true_positive_rate)\n",
    "# #print 'FPR=',false_positive_rate,'\\n','TPR=',true_positive_rate\n",
    "# fig,ax1=plt.subplots(ncols=1)\n",
    "# ax1.plot(false_positive_rate, true_positive_rate, 'b-', label = 'AUC = %0.2f' % roc_auc)\n",
    "# ax1.legend(loc = 'lower right')\n",
    "# ax1.plot([0, 1], [0, 1],'r--')\n",
    "# ax1.set_xlim([0, 1])\n",
    "# ax1.set_ylim([0, 1])\n",
    "# ax1.set_ylabel('True Positive Rate')\n",
    "# ax1.set_xlabel('False Positive Rate')\n",
    "# ax1.set_title('Receiver Operating Characteristic')"
   ]
  },
  {
   "cell_type": "markdown",
   "metadata": {},
   "source": []
  },
  {
   "cell_type": "code",
   "execution_count": null,
   "metadata": {
    "collapsed": true
   },
   "outputs": [],
   "source": []
  }
 ],
 "metadata": {
  "kernelspec": {
   "display_name": "Python 2",
   "language": "python",
   "name": "python2"
  },
  "language_info": {
   "codemirror_mode": {
    "name": "ipython",
    "version": 2
   },
   "file_extension": ".py",
   "mimetype": "text/x-python",
   "name": "python",
   "nbconvert_exporter": "python",
   "pygments_lexer": "ipython2",
   "version": "2.7.6"
  }
 },
 "nbformat": 4,
 "nbformat_minor": 2
}
