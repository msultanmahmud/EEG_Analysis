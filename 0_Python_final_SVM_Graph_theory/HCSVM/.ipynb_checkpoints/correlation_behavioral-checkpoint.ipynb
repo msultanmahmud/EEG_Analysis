{
 "cells": [
  {
   "cell_type": "markdown",
   "metadata": {},
   "source": [
    "# Hearing LH eccentricity"
   ]
  },
  {
   "cell_type": "code",
   "execution_count": 12,
   "metadata": {
    "collapsed": false
   },
   "outputs": [],
   "source": [
    "import numpy as np\n",
    "import pandas as pd\n",
    "from matplotlib import pyplot as plt\n",
    "from scipy.stats import norm\n",
    "import seaborn as sns; sns.set(font_scale=1.2)\n",
    "%matplotlib inline\n",
    "from scipy.stats import spearmanr, pearsonr"
   ]
  },
  {
   "cell_type": "markdown",
   "metadata": {
    "collapsed": true
   },
   "source": [
    "# load the dataset"
   ]
  },
  {
   "cell_type": "code",
   "execution_count": 5,
   "metadata": {
    "collapsed": false
   },
   "outputs": [],
   "source": [
    "path='C:/Users/Sultan/OneDrive - The University of Memphis/RESEARCH2017S/Hearing_data/Graph_Braph/Wu_graph_behavioral/Clean/Nodalfeatures_Clean_LH_wup_beh.csv'\n",
    "dataset =pd.read_csv(path)"
   ]
  },
  {
   "cell_type": "code",
   "execution_count": 3,
   "metadata": {
    "collapsed": false
   },
   "outputs": [],
   "source": [
    "#sns.lmplot('dia','eccen',data=dataset,hue='class',palette='Set1',fit_reg=False,scatter_kws={\"s\":70})"
   ]
  },
  {
   "cell_type": "code",
   "execution_count": 7,
   "metadata": {
    "collapsed": false
   },
   "outputs": [
    {
     "data": {
      "text/html": [
       "<div>\n",
       "<table border=\"1\" class=\"dataframe\">\n",
       "  <thead>\n",
       "    <tr style=\"text-align: right;\">\n",
       "      <th></th>\n",
       "      <th>Sl no.</th>\n",
       "      <th>Participant ID</th>\n",
       "      <th>A1</th>\n",
       "      <th>M1</th>\n",
       "      <th>B1</th>\n",
       "      <th>B2</th>\n",
       "      <th>class</th>\n",
       "      <th>PC (%)</th>\n",
       "      <th>RT (ms)</th>\n",
       "      <th>thr (%/ms)</th>\n",
       "      <th>PTA</th>\n",
       "    </tr>\n",
       "  </thead>\n",
       "  <tbody>\n",
       "    <tr>\n",
       "      <th>0</th>\n",
       "      <td>1</td>\n",
       "      <td>4</td>\n",
       "      <td>8.3543</td>\n",
       "      <td>8.2290</td>\n",
       "      <td>8.1959</td>\n",
       "      <td>8.3335</td>\n",
       "      <td>1</td>\n",
       "      <td>49.268539</td>\n",
       "      <td>515.643809</td>\n",
       "      <td>0.095548</td>\n",
       "      <td>43.75</td>\n",
       "    </tr>\n",
       "    <tr>\n",
       "      <th>1</th>\n",
       "      <td>2</td>\n",
       "      <td>5</td>\n",
       "      <td>7.2686</td>\n",
       "      <td>7.5563</td>\n",
       "      <td>7.6873</td>\n",
       "      <td>7.6985</td>\n",
       "      <td>1</td>\n",
       "      <td>88.597568</td>\n",
       "      <td>566.498095</td>\n",
       "      <td>0.156395</td>\n",
       "      <td>41.25</td>\n",
       "    </tr>\n",
       "    <tr>\n",
       "      <th>2</th>\n",
       "      <td>3</td>\n",
       "      <td>6</td>\n",
       "      <td>6.7691</td>\n",
       "      <td>7.3124</td>\n",
       "      <td>6.5431</td>\n",
       "      <td>6.8448</td>\n",
       "      <td>1</td>\n",
       "      <td>72.634427</td>\n",
       "      <td>505.693095</td>\n",
       "      <td>0.143633</td>\n",
       "      <td>49.07</td>\n",
       "    </tr>\n",
       "    <tr>\n",
       "      <th>3</th>\n",
       "      <td>4</td>\n",
       "      <td>7</td>\n",
       "      <td>6.4555</td>\n",
       "      <td>6.8791</td>\n",
       "      <td>6.8827</td>\n",
       "      <td>7.0433</td>\n",
       "      <td>1</td>\n",
       "      <td>93.022344</td>\n",
       "      <td>477.599765</td>\n",
       "      <td>0.194770</td>\n",
       "      <td>45.42</td>\n",
       "    </tr>\n",
       "    <tr>\n",
       "      <th>4</th>\n",
       "      <td>5</td>\n",
       "      <td>11</td>\n",
       "      <td>5.9439</td>\n",
       "      <td>6.2559</td>\n",
       "      <td>6.2719</td>\n",
       "      <td>6.2264</td>\n",
       "      <td>1</td>\n",
       "      <td>89.741201</td>\n",
       "      <td>536.128873</td>\n",
       "      <td>0.167387</td>\n",
       "      <td>27.50</td>\n",
       "    </tr>\n",
       "  </tbody>\n",
       "</table>\n",
       "</div>"
      ],
      "text/plain": [
       "   Sl no.  Participant ID      A1      M1      B1      B2  class     PC (%)  \\\n",
       "0       1               4  8.3543  8.2290  8.1959  8.3335      1  49.268539   \n",
       "1       2               5  7.2686  7.5563  7.6873  7.6985      1  88.597568   \n",
       "2       3               6  6.7691  7.3124  6.5431  6.8448      1  72.634427   \n",
       "3       4               7  6.4555  6.8791  6.8827  7.0433      1  93.022344   \n",
       "4       5              11  5.9439  6.2559  6.2719  6.2264      1  89.741201   \n",
       "\n",
       "      RT (ms)  thr (%/ms)    PTA  \n",
       "0  515.643809    0.095548  43.75  \n",
       "1  566.498095    0.156395  41.25  \n",
       "2  505.693095    0.143633  49.07  \n",
       "3  477.599765    0.194770  45.42  \n",
       "4  536.128873    0.167387  27.50  "
      ]
     },
     "execution_count": 7,
     "metadata": {},
     "output_type": "execute_result"
    }
   ],
   "source": [
    "dataset.head()"
   ]
  },
  {
   "cell_type": "markdown",
   "metadata": {},
   "source": [
    "# B2 and PTA correalation for NH (clear)"
   ]
  },
  {
   "cell_type": "code",
   "execution_count": 91,
   "metadata": {
    "collapsed": false
   },
   "outputs": [
    {
     "name": "stdout",
     "output_type": "stream",
     "text": [
      "SpearmanrResult(correlation=0.35660988351467782, pvalue=0.13395614761224883) (0.281959655116508, 0.24219615371939229)\n"
     ]
    },
    {
     "data": {
      "image/png": "[encoded data removed]",
      "text/plain": [
       "<matplotlib.figure.Figure at 0x114b4780>"
      ]
     },
     "metadata": {},
     "output_type": "display_data"
    }
   ],
   "source": [
    "xhi=dataset.iloc[0:19,5]\n",
    "yhi=dataset.iloc[0:19,10]\n",
    "pp=pearsonr(xhi,yhi)\n",
    "sp=spearmanr(xhi,yhi)\n",
    "plt.scatter(xhi, yhi, c='r',alpha=1, marker=\"*\")\n",
    "plt.xlabel(\" Eccentricity of B2\")\n",
    "plt.ylabel(\"PTA\")\n",
    "plt.legend(sp)\n",
    "print sp,pp"
   ]
  },
  {
   "cell_type": "code",
   "execution_count": 93,
   "metadata": {
    "collapsed": true
   },
   "outputs": [],
   "source": [
    "#B2 and PTA correalation for HI (clear)"
   ]
  },
  {
   "cell_type": "code",
   "execution_count": 94,
   "metadata": {
    "collapsed": false
   },
   "outputs": [],
   "source": [
    "# pp=pearsonr(xhi,yhi)\n",
    "# sp=spearmanr(xhi,yhi)\n",
    "# print pp, sp"
   ]
  },
  {
   "cell_type": "code",
   "execution_count": 113,
   "metadata": {
    "collapsed": false
   },
   "outputs": [
    {
     "name": "stdout",
     "output_type": "stream",
     "text": [
      "SpearmanrResult(correlation=-0.44352785377704645, pvalue=0.12899243647113753) (-0.44043421592086834, 0.13200189700643647)\n"
     ]
    },
    {
     "data": {
      "image/png": "[encoded data removed]",
      "text/plain": [
       "<matplotlib.figure.Figure at 0x10a03048>"
      ]
     },
     "metadata": {},
     "output_type": "display_data"
    }
   ],
   "source": [
    "xnh=dataset.iloc[19:32,2]\n",
    "ynh=dataset.iloc[19:32,10]\n",
    "pp=pearsonr(xnh,ynh)\n",
    "sp=spearmanr(xnh,ynh)\n",
    "plt.scatter(xnh, ynh, c='r',alpha=1, marker=\"*\")\n",
    "plt.xlabel(\" Eccentricity of B2\")\n",
    "plt.ylabel(\"PTA\")\n",
    "plt.legend(sp)\n",
    "print sp,pp"
   ]
  },
  {
   "cell_type": "code",
   "execution_count": 42,
   "metadata": {
    "collapsed": false
   },
   "outputs": [
    {
     "data": {
      "text/plain": [
       "<matplotlib.text.Text at 0xed942e8>"
      ]
     },
     "execution_count": 42,
     "metadata": {},
     "output_type": "execute_result"
    },
    {
     "data": {
      "image/png": "[encoded data removed]",
      "text/plain": [
       "<matplotlib.figure.Figure at 0xeda5b00>"
      ]
     },
     "metadata": {},
     "output_type": "display_data"
    }
   ],
   "source": [
    "plt.scatter(xhi, yhi, c='r',alpha=1, marker=\"*\")\n",
    "plt.xlabel(\" Eccentricity of A1\")\n",
    "plt.ylabel(\"% PC\")"
   ]
  },
  {
   "cell_type": "code",
   "execution_count": null,
   "metadata": {
    "collapsed": true
   },
   "outputs": [],
   "source": []
  }
 ],
 "metadata": {
  "kernelspec": {
   "display_name": "Python 2",
   "language": "python",
   "name": "python2"
  },
  "language_info": {
   "codemirror_mode": {
    "name": "ipython",
    "version": 2
   },
   "file_extension": ".py",
   "mimetype": "text/x-python",
   "name": "python",
   "nbconvert_exporter": "python",
   "pygments_lexer": "ipython2",
   "version": "2.7.13"
  }
 },
 "nbformat": 4,
 "nbformat_minor": 2
}
