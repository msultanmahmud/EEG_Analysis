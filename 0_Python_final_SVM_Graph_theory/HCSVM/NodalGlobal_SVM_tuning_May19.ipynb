{
 "cells": [
  {
   "cell_type": "markdown",
   "metadata": {},
   "source": [
    "# Shuffle and hyperparameters Tuning for hearing data set [Cross-validation](http://scikit-learn.org/stable/modules/cross_validation.html)"
   ]
  },
  {
   "cell_type": "code",
   "execution_count": 1,
   "metadata": {},
   "outputs": [],
   "source": [
    "import numpy as np\n",
    "import pandas as pd\n",
    "from sklearn import svm, metrics,preprocessing\n",
    "#from sklearn import datasets\n",
    "from sklearn.model_selection import train_test_split, GridSearchCV\n",
    "from sklearn.metrics import accuracy_score,confusion_matrix,roc_curve, auc\n",
    "from matplotlib import pyplot as plt\n",
    "from collections import Counter\n",
    "from scipy.stats import norm\n",
    "import seaborn as sns; sns.set(font_scale=1.2)\n",
    "%matplotlib inline"
   ]
  },
  {
   "cell_type": "markdown",
   "metadata": {
    "collapsed": true
   },
   "source": [
    "# load the dataset"
   ]
  },
  {
   "cell_type": "code",
   "execution_count": 2,
   "metadata": {},
   "outputs": [],
   "source": [
    "#path='C:/Users/Sultan/OneDrive - The University of Memphis/RESEARCH2017S/Hearing_data/Graph_Braph/WUpclean13/indidivual/glonodal_all_featureswup.csv'\n",
    "path='/home/sultan/SVM_Graph_theory/0_Python_final_SVM_Graph_theory/WUpclean13/indidivual/glonodal_all_featureswup.csv'\n",
    "dataset =pd.read_csv(path)"
   ]
  },
  {
   "cell_type": "code",
   "execution_count": 3,
   "metadata": {},
   "outputs": [
    {
     "data": {
      "text/html": [
       "<div>\n",
       "<style scoped>\n",
       "    .dataframe tbody tr th:only-of-type {\n",
       "        vertical-align: middle;\n",
       "    }\n",
       "\n",
       "    .dataframe tbody tr th {\n",
       "        vertical-align: top;\n",
       "    }\n",
       "\n",
       "    .dataframe thead th {\n",
       "        text-align: right;\n",
       "    }\n",
       "</style>\n",
       "<table border=\"1\" class=\"dataframe\">\n",
       "  <thead>\n",
       "    <tr style=\"text-align: right;\">\n",
       "      <th></th>\n",
       "      <th>Sl no.</th>\n",
       "      <th>Participant ID</th>\n",
       "      <th>dia</th>\n",
       "      <th>eccen</th>\n",
       "      <th>char.pat</th>\n",
       "      <th>A1</th>\n",
       "      <th>M1</th>\n",
       "      <th>B1</th>\n",
       "      <th>B2</th>\n",
       "      <th>A1.1</th>\n",
       "      <th>M1.1</th>\n",
       "      <th>B1.1</th>\n",
       "      <th>B2.1</th>\n",
       "      <th>class</th>\n",
       "    </tr>\n",
       "  </thead>\n",
       "  <tbody>\n",
       "    <tr>\n",
       "      <th>0</th>\n",
       "      <td>1</td>\n",
       "      <td>4</td>\n",
       "      <td>8.5946</td>\n",
       "      <td>7.5441</td>\n",
       "      <td>3.8932</td>\n",
       "      <td>8.3543</td>\n",
       "      <td>8.2290</td>\n",
       "      <td>8.1959</td>\n",
       "      <td>8.3335</td>\n",
       "      <td>8.1509</td>\n",
       "      <td>6.3674</td>\n",
       "      <td>7.3810</td>\n",
       "      <td>8.1245</td>\n",
       "      <td>1</td>\n",
       "    </tr>\n",
       "    <tr>\n",
       "      <th>1</th>\n",
       "      <td>2</td>\n",
       "      <td>5</td>\n",
       "      <td>8.3757</td>\n",
       "      <td>7.4463</td>\n",
       "      <td>3.9192</td>\n",
       "      <td>7.2686</td>\n",
       "      <td>7.5563</td>\n",
       "      <td>7.6873</td>\n",
       "      <td>7.6985</td>\n",
       "      <td>7.7089</td>\n",
       "      <td>6.2121</td>\n",
       "      <td>7.4025</td>\n",
       "      <td>7.7550</td>\n",
       "      <td>1</td>\n",
       "    </tr>\n",
       "    <tr>\n",
       "      <th>2</th>\n",
       "      <td>3</td>\n",
       "      <td>6</td>\n",
       "      <td>7.3124</td>\n",
       "      <td>6.3991</td>\n",
       "      <td>3.4827</td>\n",
       "      <td>6.7691</td>\n",
       "      <td>7.3124</td>\n",
       "      <td>6.5431</td>\n",
       "      <td>6.8448</td>\n",
       "      <td>6.7108</td>\n",
       "      <td>5.9035</td>\n",
       "      <td>6.4910</td>\n",
       "      <td>6.4976</td>\n",
       "      <td>1</td>\n",
       "    </tr>\n",
       "    <tr>\n",
       "      <th>3</th>\n",
       "      <td>4</td>\n",
       "      <td>7</td>\n",
       "      <td>8.0385</td>\n",
       "      <td>7.1105</td>\n",
       "      <td>3.7195</td>\n",
       "      <td>6.4555</td>\n",
       "      <td>6.8791</td>\n",
       "      <td>6.8827</td>\n",
       "      <td>7.0433</td>\n",
       "      <td>8.0385</td>\n",
       "      <td>7.9529</td>\n",
       "      <td>7.2204</td>\n",
       "      <td>7.2955</td>\n",
       "      <td>1</td>\n",
       "    </tr>\n",
       "    <tr>\n",
       "      <th>4</th>\n",
       "      <td>5</td>\n",
       "      <td>11</td>\n",
       "      <td>6.7112</td>\n",
       "      <td>6.0379</td>\n",
       "      <td>3.3474</td>\n",
       "      <td>5.9439</td>\n",
       "      <td>6.2559</td>\n",
       "      <td>6.2719</td>\n",
       "      <td>6.2264</td>\n",
       "      <td>5.8560</td>\n",
       "      <td>5.4365</td>\n",
       "      <td>5.8820</td>\n",
       "      <td>5.8935</td>\n",
       "      <td>1</td>\n",
       "    </tr>\n",
       "  </tbody>\n",
       "</table>\n",
       "</div>"
      ],
      "text/plain": [
       "   Sl no.  Participant ID     dia   eccen  char.pat      A1      M1      B1  \\\n",
       "0       1               4  8.5946  7.5441    3.8932  8.3543  8.2290  8.1959   \n",
       "1       2               5  8.3757  7.4463    3.9192  7.2686  7.5563  7.6873   \n",
       "2       3               6  7.3124  6.3991    3.4827  6.7691  7.3124  6.5431   \n",
       "3       4               7  8.0385  7.1105    3.7195  6.4555  6.8791  6.8827   \n",
       "4       5              11  6.7112  6.0379    3.3474  5.9439  6.2559  6.2719   \n",
       "\n",
       "       B2    A1.1    M1.1    B1.1    B2.1  class  \n",
       "0  8.3335  8.1509  6.3674  7.3810  8.1245      1  \n",
       "1  7.6985  7.7089  6.2121  7.4025  7.7550      1  \n",
       "2  6.8448  6.7108  5.9035  6.4910  6.4976      1  \n",
       "3  7.0433  8.0385  7.9529  7.2204  7.2955      1  \n",
       "4  6.2264  5.8560  5.4365  5.8820  5.8935      1  "
      ]
     },
     "execution_count": 3,
     "metadata": {},
     "output_type": "execute_result"
    }
   ],
   "source": [
    "dataset.head()"
   ]
  },
  {
   "cell_type": "code",
   "execution_count": 4,
   "metadata": {},
   "outputs": [],
   "source": [
    "#sns.lmplot('dia','eccen',data=dataset,hue='class',palette='Set1',fit_reg=False,scatter_kws={\"s\":70})"
   ]
  },
  {
   "cell_type": "markdown",
   "metadata": {},
   "source": [
    "# split the data set"
   ]
  },
  {
   "cell_type": "code",
   "execution_count": 5,
   "metadata": {},
   "outputs": [],
   "source": [
    "Xc=dataset.iloc[:,2:13].values\n",
    "y=dataset.iloc[:,13].values\n",
    "X=preprocessing.scale(Xc)"
   ]
  },
  {
   "cell_type": "code",
   "execution_count": 6,
   "metadata": {},
   "outputs": [],
   "source": [
    "X_train, X_test, y_train, y_test = train_test_split(Xc,y, test_size=.20, random_state=40)     "
   ]
  },
  {
   "cell_type": "markdown",
   "metadata": {},
   "source": [
    "# see the shape of the traing and test data set"
   ]
  },
  {
   "cell_type": "code",
   "execution_count": 7,
   "metadata": {},
   "outputs": [
    {
     "data": {
      "text/plain": [
       "((7, 11), (7,))"
      ]
     },
     "execution_count": 7,
     "metadata": {},
     "output_type": "execute_result"
    }
   ],
   "source": [
    "#X_train.shape, y_train.shape\n",
    "X_test.shape, y_test.shape   "
   ]
  },
  {
   "cell_type": "code",
   "execution_count": 8,
   "metadata": {},
   "outputs": [
    {
     "data": {
      "text/plain": [
       "(array([[7.3124, 6.3991, 3.4827, 6.7691, 7.3124, 6.5431, 6.8448, 6.7108,\n",
       "         5.9035, 6.491 , 6.4976],\n",
       "        [7.1817, 6.3646, 3.3914, 6.5009, 6.2453, 6.3744, 6.4167, 6.1618,\n",
       "         6.4142, 6.2349, 6.0749],\n",
       "        [7.9622, 6.8359, 3.8255, 6.7502, 7.0546, 6.9224, 6.9974, 7.0873,\n",
       "         6.7193, 6.9056, 6.9625],\n",
       "        [6.3699, 5.9452, 3.2354, 5.7528, 5.9171, 6.0588, 5.7579, 6.1177,\n",
       "         5.6298, 5.6686, 5.7223],\n",
       "        [7.7771, 6.6604, 3.6813, 7.6655, 7.0895, 6.3905, 6.5908, 6.9728,\n",
       "         6.7016, 6.8161, 6.7357],\n",
       "        [6.6464, 6.0996, 3.3267, 5.9904, 6.3201, 5.9709, 6.1841, 6.1781,\n",
       "         6.0742, 6.1076, 6.1064],\n",
       "        [7.0875, 6.1273, 3.3422, 5.9385, 6.1982, 5.8915, 6.1209, 5.886 ,\n",
       "         6.0396, 6.2291, 6.1752]]), array([1, 1, 1, 0, 1, 0, 0]))"
      ]
     },
     "execution_count": 8,
     "metadata": {},
     "output_type": "execute_result"
    }
   ],
   "source": [
    "X_test,y_test"
   ]
  },
  {
   "cell_type": "markdown",
   "metadata": {},
   "source": [
    "# Find the Class labels"
   ]
  },
  {
   "cell_type": "code",
   "execution_count": 9,
   "metadata": {},
   "outputs": [
    {
     "data": {
      "text/plain": [
       "array([0, 1])"
      ]
     },
     "execution_count": 9,
     "metadata": {},
     "output_type": "execute_result"
    }
   ],
   "source": [
    "np.unique(y_test)"
   ]
  },
  {
   "cell_type": "markdown",
   "metadata": {},
   "source": [
    "# Find the repeated class number "
   ]
  },
  {
   "cell_type": "code",
   "execution_count": 10,
   "metadata": {},
   "outputs": [
    {
     "data": {
      "text/plain": [
       "(array([0, 1]), array([3, 4]))"
      ]
     },
     "execution_count": 10,
     "metadata": {},
     "output_type": "execute_result"
    }
   ],
   "source": [
    "np.unique(y_test,return_counts=True)"
   ]
  },
  {
   "cell_type": "markdown",
   "metadata": {},
   "source": [
    "# Gridserach CV"
   ]
  },
  {
   "cell_type": "code",
   "execution_count": 11,
   "metadata": {},
   "outputs": [
    {
     "data": {
      "text/plain": [
       "GridSearchCV(cv=5, error_score='raise',\n",
       "       estimator=SVC(C=1.0, cache_size=200, class_weight=None, coef0=0.0,\n",
       "  decision_function_shape='ovr', degree=3, gamma='auto', kernel='rbf',\n",
       "  max_iter=-1, probability=False, random_state=None, shrinking=True,\n",
       "  tol=0.001, verbose=False),\n",
       "       fit_params=None, iid=True, n_jobs=1,\n",
       "       param_grid={'kernel': ('linear', 'rbf', 'poly'), 'C': [1, 10, 100, 1000], 'gamma': [0.001, 0.002, 0.003]},\n",
       "       pre_dispatch='2*n_jobs', refit=True, return_train_score='warn',\n",
       "       scoring=None, verbose=0)"
      ]
     },
     "execution_count": 11,
     "metadata": {},
     "output_type": "execute_result"
    }
   ],
   "source": [
    "cv=5\n",
    "from sklearn.model_selection import GridSearchCV\n",
    "parameters = {'kernel':('linear', 'rbf','poly'), 'C':[1, 10,100,1000],'gamma':[0.001,.002,0.003]}\n",
    "svc = svm.SVC()\n",
    "clf = GridSearchCV(svc, parameters,cv=cv)\n",
    "clf.fit(X_train, y_train)"
   ]
  },
  {
   "cell_type": "code",
   "execution_count": 12,
   "metadata": {},
   "outputs": [],
   "source": [
    "# cv=5\n",
    "# from sklearn.model_selection import GridSearchCV\n",
    "# parameters = {'kernel':['rbf'], 'C':[1, 10,100],'gamma':[0.01,.02,0.03]}\n",
    "# svc = svm.SVC()\n",
    "# clf = GridSearchCV(svc, parameters,cv=cv)\n",
    "# clf.fit(X_train, y_train)"
   ]
  },
  {
   "cell_type": "code",
   "execution_count": 13,
   "metadata": {},
   "outputs": [],
   "source": [
    "#print clf.cv_results_\n",
    "#clf.best_estimator_"
   ]
  },
  {
   "cell_type": "markdown",
   "metadata": {},
   "source": [
    "# Find the best parameters  "
   ]
  },
  {
   "cell_type": "code",
   "execution_count": 14,
   "metadata": {},
   "outputs": [
    {
     "data": {
      "text/plain": [
       "SVC(C=1, cache_size=200, class_weight=None, coef0=0.0,\n",
       "  decision_function_shape='ovr', degree=3, gamma=0.001, kernel='linear',\n",
       "  max_iter=-1, probability=False, random_state=None, shrinking=True,\n",
       "  tol=0.001, verbose=False)"
      ]
     },
     "execution_count": 14,
     "metadata": {},
     "output_type": "execute_result"
    }
   ],
   "source": [
    "clf.best_estimator_"
   ]
  },
  {
   "cell_type": "code",
   "execution_count": 15,
   "metadata": {},
   "outputs": [
    {
     "name": "stdout",
     "output_type": "stream",
     "text": [
      "[1 0 1 0 1 0 0]\n",
      "[1 1 1 0 1 0 0]\n"
     ]
    }
   ],
   "source": [
    "pred=clf.best_estimator_.predict(X_test)\n",
    "#clf.score(X_test, y_test)  \n",
    "print pred\n",
    "print y_test"
   ]
  },
  {
   "cell_type": "code",
   "execution_count": 16,
   "metadata": {},
   "outputs": [
    {
     "name": "stdout",
     "output_type": "stream",
     "text": [
      "0.8571428571428571\n"
     ]
    }
   ],
   "source": [
    "acc=accuracy_score(clf.best_estimator_.predict(X_test),y_test)\n",
    "print acc"
   ]
  },
  {
   "cell_type": "code",
   "execution_count": 17,
   "metadata": {},
   "outputs": [
    {
     "data": {
      "text/plain": [
       "array([[3, 0],\n",
       "       [1, 3]])"
      ]
     },
     "execution_count": 17,
     "metadata": {},
     "output_type": "execute_result"
    }
   ],
   "source": [
    "conf_mat=confusion_matrix(y_test,pred)\n",
    "conf_mat"
   ]
  },
  {
   "cell_type": "code",
   "execution_count": 18,
   "metadata": {},
   "outputs": [
    {
     "name": "stdout",
     "output_type": "stream",
     "text": [
      "             precision    recall  f1-score   support\n",
      "\n",
      "          0       0.75      1.00      0.86         3\n",
      "          1       1.00      0.75      0.86         4\n",
      "\n",
      "avg / total       0.89      0.86      0.86         7\n",
      "\n"
     ]
    }
   ],
   "source": [
    "from sklearn.metrics import classification_report\n",
    "#target_names = ['class 0', 'class 1', 'class 2']\n",
    "print(classification_report(y_test, pred))"
   ]
  },
  {
   "cell_type": "markdown",
   "metadata": {},
   "source": [
    " # [ROC Curve](https://datamize.wordpress.com/2015/01/24/how-to-plot-a-roc-curve-in-scikit-learn/)"
   ]
  },
  {
   "cell_type": "code",
   "execution_count": 19,
   "metadata": {},
   "outputs": [],
   "source": [
    "# false_positive_rate, true_positive_rate, thresholds = roc_curve(y_test,pred)\n",
    "# #false_positive_rate, true_positive_rate, thresholds = metrics.roc_curve(pred, y_test)\n",
    "# #print false_positive_rate\n",
    "# roc_auc = auc(false_positive_rate, true_positive_rate)\n",
    "# #print 'FPR=',false_positive_rate,'\\n','TPR=',true_positive_rate\n",
    "# fig,ax1=plt.subplots(ncols=1)\n",
    "# ax1.plot(false_positive_rate, true_positive_rate, 'b-', label = 'AUC = %0.2f' % roc_auc)\n",
    "# ax1.legend(loc = 'lower right')\n",
    "# ax1.plot([0, 1], [0, 1],'r--')\n",
    "# ax1.set_xlim([0, 1])\n",
    "# ax1.set_ylim([0, 1])\n",
    "# ax1.set_ylabel('True Positive Rate')\n",
    "# ax1.set_xlabel('False Positive Rate')\n",
    "# ax1.set_title('Receiver Operating Characteristic')"
   ]
  },
  {
   "cell_type": "markdown",
   "metadata": {},
   "source": []
  },
  {
   "cell_type": "code",
   "execution_count": 20,
   "metadata": {},
   "outputs": [
    {
     "data": {
      "text/plain": [
       "0.875"
      ]
     },
     "execution_count": 20,
     "metadata": {},
     "output_type": "execute_result"
    }
   ],
   "source": [
    "false_positive_rate, true_positive_rate, thresholds = roc_curve(y_test,pred)\n",
    "roc_auc = auc(false_positive_rate, true_positive_rate)\n",
    "roc_auc"
   ]
  },
  {
   "cell_type": "code",
   "execution_count": null,
   "metadata": {},
   "outputs": [],
   "source": []
  }
 ],
 "metadata": {
  "kernelspec": {
   "display_name": "Python 2",
   "language": "python",
   "name": "python2"
  },
  "language_info": {
   "codemirror_mode": {
    "name": "ipython",
    "version": 2
   },
   "file_extension": ".py",
   "mimetype": "text/x-python",
   "name": "python",
   "nbconvert_exporter": "python",
   "pygments_lexer": "ipython2",
   "version": "2.7.6"
  }
 },
 "nbformat": 4,
 "nbformat_minor": 2
}
