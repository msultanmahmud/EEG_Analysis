{
 "cells": [
  {
   "cell_type": "code",
   "execution_count": 51,
   "metadata": {},
   "outputs": [],
   "source": [
    "%matplotlib inline\n",
    "import matplotlib.pyplot as plt\n",
    "import pandas as pd\n",
    "import numpy as np\n",
    "from sklearn import preprocessing\n",
    "# from sklearn.preprocessing import StandardScaler\n",
    "from sklearn.model_selection import train_test_split\n",
    "from sklearn.svm import SVC\n",
    "from sklearn.metrics import confusion_matrix, classification_report, f1_score,precision_score,recall_score\n"
   ]
  },
  {
   "cell_type": "code",
   "execution_count": 85,
   "metadata": {},
   "outputs": [
    {
     "name": "stdout",
     "output_type": "stream",
     "text": [
      "(2534, 1428)\n",
      "(2534,)\n",
      "(1249,)\n",
      "(1249, 1428)\n"
     ]
    }
   ],
   "source": [
    "data1=pd.read_csv('10ms_all_erp.csv')\n",
    "data1=np.asarray(data1)\n",
    "Y=data1[:,1]\n",
    "X=data1[:,2:]\n",
    "scaler = preprocessing.StandardScaler()\n",
    "X = scaler.fit_transform(X)\n",
    "X_train, X_test, y_train, y_test = train_test_split(X, Y, test_size=0.33, random_state=101)\n",
    "\n",
    "print(X_train.shape)\n",
    "print(y_train.shape)\n",
    "print(y_test.shape)\n",
    "print(X_test.shape)"
   ]
  },
  {
   "cell_type": "code",
   "execution_count": 86,
   "metadata": {},
   "outputs": [
    {
     "name": "stdout",
     "output_type": "stream",
     "text": [
      "classification_report\n",
      "             precision    recall  f1-score   support\n",
      "\n",
      "        0.0       0.91      0.81      0.86       526\n",
      "        1.0       0.87      0.94      0.91       723\n",
      "\n",
      "avg / total       0.89      0.89      0.89      1249\n",
      "\n",
      "Confusion Matrix\n",
      "[[425 101]\n",
      " [ 41 682]]\n"
     ]
    }
   ],
   "source": [
    "clf = SVC(C=1,kernel='rbf')\n",
    "clf.fit(X_train, y_train)\n",
    "y_pred =clf.predict(X_test)\n",
    "print'classification_report\\n',classification_report(y_test, y_pred)\n",
    "print'Confusion Matrix\\n',confusion_matrix(y_test, y_pred)"
   ]
  },
  {
   "cell_type": "code",
   "execution_count": 87,
   "metadata": {},
   "outputs": [
    {
     "data": {
      "text/plain": [
       "0.8863090472377902"
      ]
     },
     "execution_count": 87,
     "metadata": {},
     "output_type": "execute_result"
    }
   ],
   "source": [
    "clf.score(X_test, y_test)"
   ]
  },
  {
   "cell_type": "code",
   "execution_count": 88,
   "metadata": {},
   "outputs": [
    {
     "name": "stdout",
     "output_type": "stream",
     "text": [
      "classification_report\n",
      "             precision    recall  f1-score   support\n",
      "\n",
      "        0.0       0.76      0.80      0.78       526\n",
      "        1.0       0.85      0.82      0.83       723\n",
      "\n",
      "avg / total       0.81      0.81      0.81      1249\n",
      "\n",
      "Confusion Matrix\n",
      "[[420 106]\n",
      " [132 591]]\n"
     ]
    }
   ],
   "source": [
    "clf = SVC(C=1,kernel='linear')\n",
    "clf.fit(X_train, y_train)\n",
    "y_pred =clf.predict(X_test)\n",
    "print'classification_report\\n',classification_report(y_test, y_pred)\n",
    "print'Confusion Matrix\\n',confusion_matrix(y_test, y_pred)"
   ]
  },
  {
   "cell_type": "code",
   "execution_count": 50,
   "metadata": {},
   "outputs": [
    {
     "data": {
      "text/plain": [
       "0.8094475580464372"
      ]
     },
     "execution_count": 50,
     "metadata": {},
     "output_type": "execute_result"
    }
   ],
   "source": [
    "clf.score(X_test, y_test)"
   ]
  },
  {
   "cell_type": "code",
   "execution_count": 83,
   "metadata": {},
   "outputs": [],
   "source": [
    "cc=data1[:,2:]"
   ]
  },
  {
   "cell_type": "code",
   "execution_count": 84,
   "metadata": {},
   "outputs": [
    {
     "data": {
      "text/plain": [
       "array([1.34853552e-10, 5.23752825e-10, 4.58518788e-10, ...,\n",
       "       1.21614813e-10, 4.24138422e-10, 7.42952014e-10])"
      ]
     },
     "execution_count": 84,
     "metadata": {},
     "output_type": "execute_result"
    }
   ],
   "source": [
    "cc[:,0]"
   ]
  },
  {
   "cell_type": "code",
   "execution_count": null,
   "metadata": {},
   "outputs": [],
   "source": []
  }
 ],
 "metadata": {
  "kernelspec": {
   "display_name": "Python 2",
   "language": "python",
   "name": "python2"
  },
  "language_info": {
   "codemirror_mode": {
    "name": "ipython",
    "version": 2
   },
   "file_extension": ".py",
   "mimetype": "text/x-python",
   "name": "python",
   "nbconvert_exporter": "python",
   "pygments_lexer": "ipython2",
   "version": "2.7.6"
  }
 },
 "nbformat": 4,
 "nbformat_minor": 2
}
