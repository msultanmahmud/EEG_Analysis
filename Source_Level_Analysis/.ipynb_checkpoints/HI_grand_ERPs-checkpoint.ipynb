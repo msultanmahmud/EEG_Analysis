{
 "cells": [
  {
   "cell_type": "code",
   "execution_count": 1,
   "metadata": {},
   "outputs": [],
   "source": [
    "import shutil, random, os\n",
    "import pandas as pd\n",
    "import matplotlib.pyplot as plt\n",
    "import numpy as np\n",
    "import pandas as pd\n",
    "import pickle"
   ]
  },
  {
   "cell_type": "code",
   "execution_count": 2,
   "metadata": {},
   "outputs": [],
   "source": [
    "# Data path\n",
    "# dirpath='/home/sultan/EEG/Source_Level_Analysis/10msWindow/'\n",
    "# dirpath='/home/sultan/EEG/Source_Level_Analysis/Source_ERP/Small_data_test/'\n",
    "dirpath='/home/sultan/EEG/Source_Level_Analysis/Extracted_CSV_Source_Dk_data/'"
   ]
  },
  {
   "cell_type": "code",
   "execution_count": 3,
   "metadata": {},
   "outputs": [
    {
     "name": "stdout",
     "output_type": "stream",
     "text": [
      "/home/sultan/EEG/Source_Level_Analysis/Extracted_CSV_Source_Dk_data/S4/Event_1/\n",
      "/home/sultan/EEG/Source_Level_Analysis/Extracted_CSV_Source_Dk_data/S4/Event_2/\n",
      "/home/sultan/EEG/Source_Level_Analysis/Extracted_CSV_Source_Dk_data/S5/Event_1/\n",
      "/home/sultan/EEG/Source_Level_Analysis/Extracted_CSV_Source_Dk_data/S5/Event_2/\n",
      "/home/sultan/EEG/Source_Level_Analysis/Extracted_CSV_Source_Dk_data/S6/Event_1/\n",
      "/home/sultan/EEG/Source_Level_Analysis/Extracted_CSV_Source_Dk_data/S6/Event_2/\n",
      "/home/sultan/EEG/Source_Level_Analysis/Extracted_CSV_Source_Dk_data/S15/Event_1/\n",
      "/home/sultan/EEG/Source_Level_Analysis/Extracted_CSV_Source_Dk_data/S15/Event_2/\n",
      "/home/sultan/EEG/Source_Level_Analysis/Extracted_CSV_Source_Dk_data/S17/Event_1/\n",
      "/home/sultan/EEG/Source_Level_Analysis/Extracted_CSV_Source_Dk_data/S17/Event_2/\n",
      "/home/sultan/EEG/Source_Level_Analysis/Extracted_CSV_Source_Dk_data/S18/Event_1/\n",
      "/home/sultan/EEG/Source_Level_Analysis/Extracted_CSV_Source_Dk_data/S18/Event_2/\n",
      "/home/sultan/EEG/Source_Level_Analysis/Extracted_CSV_Source_Dk_data/S19/Event_1/\n",
      "/home/sultan/EEG/Source_Level_Analysis/Extracted_CSV_Source_Dk_data/S19/Event_2/\n",
      "/home/sultan/EEG/Source_Level_Analysis/Extracted_CSV_Source_Dk_data/S20/Event_1/\n",
      "/home/sultan/EEG/Source_Level_Analysis/Extracted_CSV_Source_Dk_data/S20/Event_2/\n"
     ]
    },
    {
     "data": {
      "text/plain": [
       "45969"
      ]
     },
     "execution_count": 3,
     "metadata": {},
     "output_type": "execute_result"
    }
   ],
   "source": [
    "a=0;count=0;\n",
    "# sub=[4, 5, 6, 15,17,18,19,20]\n",
    "sub=[4, 5, 6, 7, 11, 12, 13, 15, 17, 18, 19, 20, 21, 25, 26, 27, 29, 30, 32]; HI=1;\n",
    "#sub=[1, 2 ,3 ,8, 9, 10, 14 ,16, 22 ,23, 24 ,28 ,31]# NH=0;Subject ID number and class labels; \n",
    "# sub=[1,2]\n",
    "Ev=[1,2];#event number\n",
    "for k in range(0,len(sub)):\n",
    "    for j in range(0,len(Ev)):\n",
    "        pnh=dirpath+'S'+str(sub[k])+'/'+'Event_'+str(Ev[j])+'/'\n",
    "        dpin=pnh\n",
    "        print dpin\n",
    "        from os import walk\n",
    "        from os.path import isfile, join\n",
    "        f = []\n",
    "        for (dpin, dirnames, filenames) in walk(dpin):\n",
    "            f.extend(join(dpin, x) for x in filenames if x.endswith(\".csv\"))\n",
    "            break\n",
    "        for i in range(0,len(f)):\n",
    "            dd=pd.read_csv(f[i])\n",
    "            dd1=dd.drop(dd.columns[0],axis=1)\n",
    "            a=a+dd1\n",
    "            count=count+1\n",
    "        dhic=pd.DataFrame(a)\n",
    "#         d2.insert(0,'label',np.zeros(len(d2)), True)\n",
    "        # df.insert(2, \"Age\", [21, 23, 24, 21], True)\n",
    "# d2\n",
    "count"
   ]
  },
  {
   "cell_type": "markdown",
   "metadata": {},
   "source": [
    "# Writing a pickle file"
   ]
  },
  {
   "cell_type": "code",
   "execution_count": 4,
   "metadata": {},
   "outputs": [],
   "source": [
    "# f = open('hierp.pckl', 'wb')\n",
    "# pickle.dump(dhic,f)\n",
    "# f.close()"
   ]
  },
  {
   "cell_type": "code",
   "execution_count": 5,
   "metadata": {},
   "outputs": [],
   "source": [
    "# f = open('hierp.pckl', 'rb')\n",
    "# obj = pickle.load(f)\n",
    "# f.close()"
   ]
  },
  {
   "cell_type": "code",
   "execution_count": 6,
   "metadata": {},
   "outputs": [
    {
     "data": {
      "image/png": "[encoded data removed]",
      "text/plain": [
       "<Figure size 432x288 with 1 Axes>"
      ]
     },
     "metadata": {
      "needs_background": "light"
     },
     "output_type": "display_data"
    }
   ],
   "source": [
    "# df1.to_csv(fname+'.csv')\n",
    "t=np.linspace(-10,200,106)\n",
    "plt.plot(t,dhic.iloc[50:52,:].values.T*1e9/count)\n",
    "plt.xlim(-10, 210)\n",
    "plt.grid(True)\n",
    "plt.show()"
   ]
  },
  {
   "cell_type": "code",
   "execution_count": 7,
   "metadata": {},
   "outputs": [],
   "source": [
    "# a=0;count=0;\n",
    "# # sub=[4, 5, 6, 7, 11, 12, 13, 15, 17, 18, 19, 20, 21, 25, 26, 27, 29, 30, 32]; HI=1;\n",
    "# subnh=[1, 2 ,3 ,8, 9, 10, 14 ,16, 22 ,23, 24 ,28 ,31]# NH=0;Subject ID number and class labels; \n",
    "# # sub=[1,2]\n",
    "# Ev=[1,2];#event number\n",
    "# for k in range(0,len(subnh)):\n",
    "#     for j in range(0,len(Ev)):\n",
    "#         pnh=dirpath+'S'+str(sub[k])+'/'+'Event_'+str(Ev[j])+'/'\n",
    "#         dpin=pnh\n",
    "#         print dpin\n",
    "#         from os import walk\n",
    "#         from os.path import isfile, join\n",
    "#         f = []\n",
    "#         for (dpin, dirnames, filenames) in walk(dpin):\n",
    "#             f.extend(join(dpin, x) for x in filenames if x.endswith(\".csv\"))\n",
    "#             break\n",
    "#         for i in range(0,len(f)):\n",
    "#             dd=pd.read_csv(f[i])\n",
    "#             dd1=dd.drop(dd.columns[0],axis=1)\n",
    "#             a=a+dd1\n",
    "#             count=count+1\n",
    "#         dnhc=pd.DataFrame(a)\n",
    "# #         d2.insert(0,'label',np.zeros(len(d2)), True)\n",
    "#         # df.insert(2, \"Age\", [21, 23, 24, 21], True)\n",
    "# # d2\n",
    "# count"
   ]
  },
  {
   "cell_type": "code",
   "execution_count": 8,
   "metadata": {},
   "outputs": [],
   "source": [
    "# dall=pd.concat([d2, dhi])"
   ]
  },
  {
   "cell_type": "code",
   "execution_count": 9,
   "metadata": {},
   "outputs": [],
   "source": [
    "#  dall.to_csv('10ms_all_erp'+'.csv')"
   ]
  },
  {
   "cell_type": "code",
   "execution_count": 10,
   "metadata": {},
   "outputs": [],
   "source": [
    "# df1.to_csv(fname+'.csv')\n",
    "# t=np.linspace(-10,200,106)\n",
    "# plt.plot(t,dnhc.iloc[50:52,:].values.T*1e9/count)\n",
    "# plt.xlim(-10, 210)\n",
    "# plt.grid(True)\n",
    "# plt.show()"
   ]
  },
  {
   "cell_type": "code",
   "execution_count": 11,
   "metadata": {},
   "outputs": [],
   "source": [
    "# dnhc"
   ]
  },
  {
   "cell_type": "code",
   "execution_count": null,
   "metadata": {},
   "outputs": [],
   "source": []
  }
 ],
 "metadata": {
  "kernelspec": {
   "display_name": "Python 2",
   "language": "python",
   "name": "python2"
  },
  "language_info": {
   "codemirror_mode": {
    "name": "ipython",
    "version": 2
   },
   "file_extension": ".py",
   "mimetype": "text/x-python",
   "name": "python",
   "nbconvert_exporter": "python",
   "pygments_lexer": "ipython2",
   "version": "2.7.6"
  }
 },
 "nbformat": 4,
 "nbformat_minor": 2
}
