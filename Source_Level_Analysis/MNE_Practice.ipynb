{
 "cells": [
  {
   "cell_type": "code",
   "execution_count": 1,
   "metadata": {},
   "outputs": [],
   "source": [
    "import mne"
   ]
  },
  {
   "cell_type": "code",
   "execution_count": 3,
   "metadata": {},
   "outputs": [
    {
     "name": "stdout",
     "output_type": "stream",
     "text": [
      "Using default location ~/mne_data for sample...\n",
      "Creating ~/mne_data\n",
      "Downloading archive MNE-sample-data-processed.tar.gz to /home/sultan/mne_data\n",
      "Downloading https://files.osf.io/v1/resources/rxvq7/providers/osfstorage/59c0e26f9ad5a1025c4ab159?action=download&version=4&direct (1.54 GB)\n",
      "[........................................] 100.00% ( 1.54 GB,  73.3 MB/s) /    \n",
      "Verifying hash fc2d5b9eb0a144b1d6ba84dc3b983602.\n",
      "Decompressing the archive: /home/sultan/mne_data/MNE-sample-data-processed.tar.gz\n",
      "(please be patient, this can take some time)\n",
      "Successfully extracted to: ['/home/sultan/mne_data/MNE-sample-data']\n",
      "Attempting to create new mne-python configuration file:\n",
      "/home/sultan/.mne/mne-python.json\n",
      "/home/sultan/mne_data/MNE-sample-data/MEG/sample/sample_audvis_filt-0-40_raw.fif\n"
     ]
    }
   ],
   "source": [
    ">>> from mne.datasets import sample\n",
    ">>> data_path = sample.data_path()\n",
    ">>> raw_fname = data_path + '/MEG/sample/sample_audvis_filt-0-40_raw.fif'\n",
    ">>> print raw_fname"
   ]
  },
  {
   "cell_type": "code",
   "execution_count": 4,
   "metadata": {},
   "outputs": [
    {
     "ename": "AttributeError",
     "evalue": "'module' object has no attribute 'fiff'",
     "output_type": "error",
     "traceback": [
      "\u001b[0;31m\u001b[0m",
      "\u001b[0;31mAttributeError\u001b[0mTraceback (most recent call last)",
      "\u001b[0;32m<ipython-input-4-fac27c570de0>\u001b[0m in \u001b[0;36m<module>\u001b[0;34m()\u001b[0m\n\u001b[0;32m----> 1\u001b[0;31m \u001b[0mraw\u001b[0m \u001b[0;34m=\u001b[0m \u001b[0mmne\u001b[0m\u001b[0;34m.\u001b[0m\u001b[0mfiff\u001b[0m\u001b[0;34m.\u001b[0m\u001b[0mRaw\u001b[0m\u001b[0;34m(\u001b[0m\u001b[0mraw_fname\u001b[0m\u001b[0;34m)\u001b[0m\u001b[0;34m\u001b[0m\u001b[0m\n\u001b[0m",
      "\u001b[0;31mAttributeError\u001b[0m: 'module' object has no attribute 'fiff'"
     ]
    }
   ],
   "source": [
    "raw = mne.fiff.Raw(raw_fname)"
   ]
  },
  {
   "cell_type": "code",
   "execution_count": null,
   "metadata": {},
   "outputs": [],
   "source": []
  }
 ],
 "metadata": {
  "kernelspec": {
   "display_name": "Python 2",
   "language": "python",
   "name": "python2"
  },
  "language_info": {
   "codemirror_mode": {
    "name": "ipython",
    "version": 2
   },
   "file_extension": ".py",
   "mimetype": "text/x-python",
   "name": "python",
   "nbconvert_exporter": "python",
   "pygments_lexer": "ipython2",
   "version": "2.7.6"
  }
 },
 "nbformat": 4,
 "nbformat_minor": 2
}
