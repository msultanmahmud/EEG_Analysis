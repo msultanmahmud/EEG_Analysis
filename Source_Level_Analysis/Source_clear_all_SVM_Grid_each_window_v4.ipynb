{
 "cells": [
  {
   "cell_type": "code",
   "execution_count": 1,
   "metadata": {},
   "outputs": [],
   "source": [
    "import numpy as np\n",
    "import pandas as pd\n",
    "from sklearn import svm, metrics,preprocessing\n",
    "#from sklearn import datasets\n",
    "from sklearn.model_selection import train_test_split, GridSearchCV\n",
    "from sklearn.metrics import accuracy_score,confusion_matrix,roc_curve, auc\n",
    "from matplotlib import pyplot as plt\n",
    "from collections import Counter\n",
    "from scipy.stats import norm\n",
    "# import seaborn as sns; sns.set(font_scale=1.2)\n",
    "%matplotlib inline"
   ]
  },
  {
   "cell_type": "code",
   "execution_count": 2,
   "metadata": {},
   "outputs": [],
   "source": [
    "# path='/home/sultan/EEG/Source_Level_Analysis/25sam_10ms_clear_all_erp.csv'\n",
    "# path='/home/sultan/EEG/Source_Level_Analysis/50tr10ms_all_clear_erp.csv'\n",
    "path=\"/home/sultan/EEG/Source_Level_Analysis/75sam_10ms_clear_all_erp.csv\"\n",
    "# path=\"/home/sultan/EEG/Source_Level_Analysis/100sam_10ms_clear_all_erp.csv\"\n",
    "dataset =pd.read_csv(path)"
   ]
  },
  {
   "cell_type": "code",
   "execution_count": 3,
   "metadata": {},
   "outputs": [],
   "source": [
    "Xc=dataset.iloc[:,2:].values\n",
    "y=dataset.iloc[:,1].values\n",
    "scaler = preprocessing.StandardScaler()\n",
    "X = scaler.fit_transform(Xc)"
   ]
  },
  {
   "cell_type": "code",
   "execution_count": 4,
   "metadata": {},
   "outputs": [],
   "source": [
    "X_train, X_test, y_train, y_test = train_test_split(X,y, test_size=.20, random_state=40) "
   ]
  },
  {
   "cell_type": "code",
   "execution_count": 5,
   "metadata": {},
   "outputs": [
    {
     "data": {
      "text/plain": [
       "((501, 1428), (501,))"
      ]
     },
     "execution_count": 5,
     "metadata": {},
     "output_type": "execute_result"
    }
   ],
   "source": [
    "X_test.shape, y_test.shape"
   ]
  },
  {
   "cell_type": "code",
   "execution_count": 6,
   "metadata": {},
   "outputs": [
    {
     "data": {
      "text/plain": [
       "(array([0., 1.]), array([207, 294]))"
      ]
     },
     "execution_count": 6,
     "metadata": {},
     "output_type": "execute_result"
    }
   ],
   "source": [
    "np.unique(y_test)\n",
    "np.unique(y_test,return_counts=True)"
   ]
  },
  {
   "cell_type": "markdown",
   "metadata": {},
   "source": [
    "# Grid search"
   ]
  },
  {
   "cell_type": "code",
   "execution_count": 7,
   "metadata": {},
   "outputs": [
    {
     "data": {
      "text/plain": [
       "GridSearchCV(cv=5, error_score='raise',\n",
       "       estimator=SVC(C=1.0, cache_size=200, class_weight=None, coef0=0.0,\n",
       "  decision_function_shape='ovr', degree=3, gamma='auto', kernel='rbf',\n",
       "  max_iter=-1, probability=False, random_state=None, shrinking=True,\n",
       "  tol=0.001, verbose=False),\n",
       "       fit_params=None, iid=True, n_jobs=1,\n",
       "       param_grid={'kernel': ['rbf'], 'C': [1, 6.5, 10, 20, 100, 1000], 'gamma': [0.01, 0.0014005602240896359, 0.0007002801120448179]},\n",
       "       pre_dispatch='2*n_jobs', refit=True, return_train_score='warn',\n",
       "       scoring=None, verbose=0)"
      ]
     },
     "execution_count": 7,
     "metadata": {},
     "output_type": "execute_result"
    }
   ],
   "source": [
    "cv=5\n",
    "from sklearn.model_selection import GridSearchCV\n",
    "parameters = {'kernel':['rbf'], 'C':[1, 6.5, 10,20,100,1000],'gamma':[0.01,2/1428.0,1/1428.0]}\n",
    "svc = svm.SVC()\n",
    "clf = GridSearchCV(svc, parameters,cv=cv)\n",
    "clf.fit(X_train, y_train)"
   ]
  },
  {
   "cell_type": "code",
   "execution_count": 8,
   "metadata": {},
   "outputs": [],
   "source": [
    "# cv=5\n",
    "# from sklearn.model_selection import GridSearchCV\n",
    "# parameters = {'kernel':['rbf'], 'C':[0.90,1.00,1.25],'gamma':[3.0,3.25,3.25 ]}\n",
    "# svc = svm.SVC()\n",
    "# clf = GridSearchCV(svc, parameters,cv=cv)\n",
    "# clf.fit(X_train, y_train)"
   ]
  },
  {
   "cell_type": "code",
   "execution_count": 9,
   "metadata": {},
   "outputs": [],
   "source": [
    "# # Average Scores\n",
    "# #  print clf.cv_results_\n",
    "# # clf.best_estimator_\n",
    "# # np.mean\n",
    "# scores=clf.cv_results_['mean_test_score']\n",
    "# print(\"Accuracy:%0.3f (+/-%0.3f)\" %(scores.mean(), scores.std()*2))"
   ]
  },
  {
   "cell_type": "code",
   "execution_count": 10,
   "metadata": {
    "scrolled": true
   },
   "outputs": [
    {
     "name": "stdout",
     "output_type": "stream",
     "text": [
      "Accuracy: 0.9121756487025948\n",
      "support: 63.2235528942\n"
     ]
    }
   ],
   "source": [
    "pred=clf.best_estimator_.predict(X_test)\n",
    "print \"Accuracy:\", clf.score(X_test, y_test)  \n",
    "# print pred\n",
    "# print y_test\n",
    "print \"support:\", len(clf.best_estimator_.support_vectors_)*100.0/(X_train.shape[0])"
   ]
  },
  {
   "cell_type": "code",
   "execution_count": 11,
   "metadata": {},
   "outputs": [
    {
     "data": {
      "text/plain": [
       "array([[177,  30],\n",
       "       [ 14, 280]])"
      ]
     },
     "execution_count": 11,
     "metadata": {},
     "output_type": "execute_result"
    }
   ],
   "source": [
    "conf_mat=confusion_matrix(y_test,pred)\n",
    "conf_mat"
   ]
  },
  {
   "cell_type": "code",
   "execution_count": 12,
   "metadata": {},
   "outputs": [
    {
     "name": "stdout",
     "output_type": "stream",
     "text": [
      "             precision    recall  f1-score   support\n",
      "\n",
      "        0.0       0.93      0.86      0.89       207\n",
      "        1.0       0.90      0.95      0.93       294\n",
      "\n",
      "avg / total       0.91      0.91      0.91       501\n",
      "\n"
     ]
    }
   ],
   "source": [
    "from sklearn.metrics import classification_report\n",
    "#target_names = ['class 0', 'class 1', 'class 2']\n",
    "print(classification_report(y_test, pred))"
   ]
  },
  {
   "cell_type": "code",
   "execution_count": 13,
   "metadata": {},
   "outputs": [
    {
     "data": {
      "text/plain": [
       "0.9037267080745341"
      ]
     },
     "execution_count": 13,
     "metadata": {},
     "output_type": "execute_result"
    }
   ],
   "source": [
    "false_positive_rate, true_positive_rate, thresholds = roc_curve(y_test,pred)\n",
    "roc_auc = auc(false_positive_rate, true_positive_rate)\n",
    "roc_auc"
   ]
  },
  {
   "cell_type": "code",
   "execution_count": 14,
   "metadata": {},
   "outputs": [
    {
     "data": {
      "text/plain": [
       "SVC(C=6.5, cache_size=200, class_weight=None, coef0=0.0,\n",
       "  decision_function_shape='ovr', degree=3, gamma=0.000700280112045,\n",
       "  kernel='rbf', max_iter=-1, probability=False, random_state=None,\n",
       "  shrinking=True, tol=0.001, verbose=False)"
      ]
     },
     "execution_count": 14,
     "metadata": {},
     "output_type": "execute_result"
    }
   ],
   "source": [
    "clf.best_estimator_"
   ]
  },
  {
   "cell_type": "code",
   "execution_count": 15,
   "metadata": {},
   "outputs": [],
   "source": [
    "# cv=5\n",
    "# from sklearn.model_selection import GridSearchCV\n",
    "# parameters = {'kernel':['rbf'], 'C':[1],'gamma':[0.01 ]}\n",
    "# svc = svm.SVC()\n",
    "# clf = GridSearchCV(svc, parameters,cv=cv)\n",
    "# clf.fit(X_train, y_train)"
   ]
  },
  {
   "cell_type": "markdown",
   "metadata": {},
   "source": [
    "# Bayesian Optimization"
   ]
  },
  {
   "cell_type": "code",
   "execution_count": 16,
   "metadata": {},
   "outputs": [
    {
     "name": "stdout",
     "output_type": "stream",
     "text": [
      "0.9181636726546906\n",
      "             precision    recall  f1-score   support\n",
      "\n",
      "        0.0       0.92      0.87      0.90       207\n",
      "        1.0       0.91      0.95      0.93       294\n",
      "\n",
      "avg / total       0.92      0.92      0.92       501\n",
      "\n"
     ]
    }
   ],
   "source": [
    "cv=5\n",
    "from sklearn.model_selection import GridSearchCV\n",
    "parameters = {'kernel':['rbf'], 'C':[1,10*.65],'gamma':[0.1,10**-3.20]}\n",
    "svc = svm.SVC()\n",
    "clf = GridSearchCV(svc, parameters,cv=cv)\n",
    "clf.fit(X_train, y_train)\n",
    "pred=clf.best_estimator_.predict(X_test)\n",
    "print clf.score(X_test, y_test)  \n",
    "# print pred\n",
    "# print y_test\n",
    "print(classification_report(y_test, pred))"
   ]
  },
  {
   "cell_type": "code",
   "execution_count": 17,
   "metadata": {},
   "outputs": [
    {
     "data": {
      "text/plain": [
       "0.9116878635512177"
      ]
     },
     "execution_count": 17,
     "metadata": {},
     "output_type": "execute_result"
    }
   ],
   "source": [
    "false_positive_rate, true_positive_rate, thresholds = roc_curve(y_test,pred)\n",
    "roc_auc = auc(false_positive_rate, true_positive_rate)\n",
    "roc_auc"
   ]
  },
  {
   "cell_type": "code",
   "execution_count": 18,
   "metadata": {},
   "outputs": [
    {
     "data": {
      "text/plain": [
       "SVC(C=6.5, cache_size=200, class_weight=None, coef0=0.0,\n",
       "  decision_function_shape='ovr', degree=3, gamma=0.00063095734448,\n",
       "  kernel='rbf', max_iter=-1, probability=False, random_state=None,\n",
       "  shrinking=True, tol=0.001, verbose=False)"
      ]
     },
     "execution_count": 18,
     "metadata": {},
     "output_type": "execute_result"
    }
   ],
   "source": [
    "clf.best_estimator_"
   ]
  },
  {
   "cell_type": "code",
   "execution_count": 19,
   "metadata": {},
   "outputs": [
    {
     "name": "stdout",
     "output_type": "stream",
     "text": [
      "Accuracy: 0.9181636726546906\n",
      "support: 60.7784431138\n"
     ]
    }
   ],
   "source": [
    "pred=clf.best_estimator_.predict(X_test)\n",
    "print \"Accuracy:\", clf.score(X_test, y_test)  \n",
    "# print pred\n",
    "# print y_test\n",
    "print \"support:\", len(clf.best_estimator_.support_vectors_)*100.0/(X_train.shape[0])"
   ]
  },
  {
   "cell_type": "code",
   "execution_count": null,
   "metadata": {},
   "outputs": [],
   "source": []
  },
  {
   "cell_type": "code",
   "execution_count": 20,
   "metadata": {},
   "outputs": [],
   "source": [
    "# pred=clf.best_estimator_.predict(X_test)\n",
    "# clf.score(X_test, y_test)  \n",
    "# # print pred\n",
    "# # print y_test"
   ]
  },
  {
   "cell_type": "code",
   "execution_count": 21,
   "metadata": {},
   "outputs": [],
   "source": [
    "# k=0;j=68;\n",
    "# for i in range(0,21):\n",
    "#     print k,j\n",
    "#     k=k+68;j=j+68;"
   ]
  },
  {
   "cell_type": "code",
   "execution_count": 22,
   "metadata": {},
   "outputs": [
    {
     "name": "stdout",
     "output_type": "stream",
     "text": [
      "0.7504990019960079\n",
      "0 68\n",
      "0.782435129740519\n",
      "68 136\n",
      "0.8063872255489022\n",
      "136 204\n",
      "0.8163672654690619\n",
      "204 272\n",
      "0.7984031936127745\n",
      "272 340\n",
      "0.7964071856287425\n",
      "340 408\n",
      "0.8263473053892215\n",
      "408 476\n",
      "0.812375249500998\n",
      "476 544\n",
      "0.7644710578842315\n",
      "544 612\n",
      "0.7544910179640718\n",
      "612 680\n",
      "0.7604790419161677\n",
      "680 748\n",
      "0.7784431137724551\n",
      "748 816\n",
      "0.7704590818363274\n",
      "816 884\n",
      "0.7884231536926147\n",
      "884 952\n",
      "0.7564870259481038\n",
      "952 1020\n",
      "0.7904191616766467\n",
      "1020 1088\n",
      "0.8003992015968064\n",
      "1088 1156\n",
      "0.7644710578842315\n",
      "1156 1224\n",
      "0.7604790419161677\n",
      "1224 1292\n",
      "0.7904191616766467\n",
      "1292 1360\n",
      "0.7524950099800399\n",
      "1360 1428\n"
     ]
    }
   ],
   "source": [
    "k=0;j=68; acgw=[];\n",
    "for i in range(0,21):\n",
    "    cv=5\n",
    "    from sklearn.model_selection import GridSearchCV\n",
    "    parameters = {'kernel':['rbf'], 'C':[1, 10,100,1000],'gamma':[0.01,2/1428.0,1/1428.0]}\n",
    "    svc = svm.SVC()\n",
    "    clf = GridSearchCV(svc, parameters,cv=cv)\n",
    "    clf.fit(X_train[:,k:j], y_train)\n",
    "    pred=clf.best_estimator_.predict(X_test[:,k:j])\n",
    "    acc=clf.score(X_test[:,k:j], y_test)\n",
    "    acgw=np.append(acgw,acc)\n",
    "    print acc\n",
    "    print k,j\n",
    "    k=k+68;j=j+68;"
   ]
  },
  {
   "cell_type": "code",
   "execution_count": 23,
   "metadata": {},
   "outputs": [
    {
     "data": {
      "text/plain": [
       "SVC(C=1000, cache_size=200, class_weight=None, coef0=0.0,\n",
       "  decision_function_shape='ovr', degree=3, gamma=0.00140056022409,\n",
       "  kernel='rbf', max_iter=-1, probability=False, random_state=None,\n",
       "  shrinking=True, tol=0.001, verbose=False)"
      ]
     },
     "execution_count": 23,
     "metadata": {},
     "output_type": "execute_result"
    }
   ],
   "source": [
    "clf.best_estimator_"
   ]
  },
  {
   "cell_type": "code",
   "execution_count": 24,
   "metadata": {},
   "outputs": [
    {
     "data": {
      "text/plain": [
       "(501, 68)"
      ]
     },
     "execution_count": 24,
     "metadata": {},
     "output_type": "execute_result"
    }
   ],
   "source": [
    "yr=X_test[:,0:68]\n",
    "yr.shape"
   ]
  },
  {
   "cell_type": "code",
   "execution_count": 25,
   "metadata": {},
   "outputs": [],
   "source": [
    "dataset\n",
    "Xc=dataset.iloc[:,2:].values\n",
    "y=dataset.iloc[:,1].values\n",
    "# Xc"
   ]
  },
  {
   "cell_type": "code",
   "execution_count": 26,
   "metadata": {},
   "outputs": [
    {
     "data": {
      "text/plain": [
       "(2505, 1428)"
      ]
     },
     "execution_count": 26,
     "metadata": {},
     "output_type": "execute_result"
    }
   ],
   "source": [
    "X.shape"
   ]
  },
  {
   "cell_type": "markdown",
   "metadata": {},
   "source": [
    "# Hemisphere"
   ]
  },
  {
   "cell_type": "code",
   "execution_count": 27,
   "metadata": {},
   "outputs": [
    {
     "name": "stdout",
     "output_type": "stream",
     "text": [
      "0.8942115768463074\n",
      "             precision    recall  f1-score   support\n",
      "\n",
      "        0.0       0.90      0.84      0.87       207\n",
      "        1.0       0.89      0.94      0.91       294\n",
      "\n",
      "avg / total       0.89      0.89      0.89       501\n",
      "\n"
     ]
    }
   ],
   "source": [
    "a=range(0,(X.shape[1]),2)\n",
    "d11=X[:,a];\n",
    "X_train, X_test, y_train, y_test = train_test_split(d11,y, test_size=.20, random_state=40) \n",
    "cv=5\n",
    "from sklearn.model_selection import GridSearchCV\n",
    "parameters = {'kernel':['rbf'], 'C':[1, 10,100,1000],'gamma':[0.01,2/1428.0,1/1428.0]}\n",
    "svc = svm.SVC()\n",
    "clf = GridSearchCV(svc, parameters,cv=cv)\n",
    "clf.fit(X_train, y_train)\n",
    "pred=clf.best_estimator_.predict(X_test)\n",
    "print clf.score(X_test, y_test)  \n",
    "# print pred\n",
    "# print y_test\n",
    "print(classification_report(y_test, pred))"
   ]
  },
  {
   "cell_type": "code",
   "execution_count": 28,
   "metadata": {},
   "outputs": [
    {
     "data": {
      "text/plain": [
       "0.8855614709651976"
      ]
     },
     "execution_count": 28,
     "metadata": {},
     "output_type": "execute_result"
    }
   ],
   "source": [
    "false_positive_rate, true_positive_rate, thresholds = roc_curve(y_test,pred)\n",
    "roc_auc = auc(false_positive_rate, true_positive_rate)\n",
    "roc_auc"
   ]
  },
  {
   "cell_type": "code",
   "execution_count": 29,
   "metadata": {},
   "outputs": [
    {
     "name": "stdout",
     "output_type": "stream",
     "text": [
      "Accuracy: 0.8942115768463074\n",
      "support: 60.7784431138\n"
     ]
    }
   ],
   "source": [
    "pred=clf.best_estimator_.predict(X_test)\n",
    "print \"Accuracy:\", clf.score(X_test, y_test)  \n",
    "# print pred\n",
    "# print y_test\n",
    "print \"support:\", len(clf.best_estimator_.support_vectors_)*100.0/(X_train.shape[0])"
   ]
  },
  {
   "cell_type": "code",
   "execution_count": 30,
   "metadata": {},
   "outputs": [
    {
     "data": {
      "text/plain": [
       "SVC(C=10, cache_size=200, class_weight=None, coef0=0.0,\n",
       "  decision_function_shape='ovr', degree=3, gamma=0.00140056022409,\n",
       "  kernel='rbf', max_iter=-1, probability=False, random_state=None,\n",
       "  shrinking=True, tol=0.001, verbose=False)"
      ]
     },
     "execution_count": 30,
     "metadata": {},
     "output_type": "execute_result"
    }
   ],
   "source": [
    "clf.best_estimator_"
   ]
  },
  {
   "cell_type": "code",
   "execution_count": null,
   "metadata": {},
   "outputs": [
    {
     "name": "stdout",
     "output_type": "stream",
     "text": [
      "0.688622754491018\n",
      "0 34\n",
      "0.7425149700598802\n",
      "34 68\n",
      "0.780439121756487\n",
      "68 102\n",
      "0.7684630738522954\n",
      "102 136\n",
      "0.7784431137724551\n",
      "136 170\n",
      "0.7924151696606786\n",
      "170 204\n",
      "0.782435129740519\n",
      "204 238\n",
      "0.7744510978043913\n",
      "238 272\n"
     ]
    }
   ],
   "source": [
    "k=0;j=34; acgr=[];\n",
    "for i in range(0,21):\n",
    "    cv=5\n",
    "    from sklearn.model_selection import GridSearchCV\n",
    "    parameters = {'kernel':['rbf'], 'C':[1, 10,100,1000],'gamma':[0.01,2/1428.0,1/1428.0]}\n",
    "    svc = svm.SVC()\n",
    "    clf = GridSearchCV(svc, parameters,cv=cv)\n",
    "    clf.fit(X_train[:,k:j], y_train)\n",
    "    pred=clf.best_estimator_.predict(X_test[:,k:j])\n",
    "    acc=clf.score(X_test[:,k:j], y_test)\n",
    "    acgr=np.append(acgr,acc)\n",
    "    print acc\n",
    "    print k,j\n",
    "    k=k+34;j=j+34;"
   ]
  },
  {
   "cell_type": "markdown",
   "metadata": {},
   "source": [
    "# LH"
   ]
  },
  {
   "cell_type": "code",
   "execution_count": null,
   "metadata": {},
   "outputs": [],
   "source": [
    "b=range(1,(X.shape[1]),2)\n",
    "d22=X[:,b];\n",
    "X_train, X_test, y_train, y_test = train_test_split(d22,y, test_size=.20, random_state=40) \n",
    "cv=5\n",
    "from sklearn.model_selection import GridSearchCV\n",
    "parameters = {'kernel':['rbf'], 'C':[1, 10,100,1000],'gamma':[0.01,2/1428.0,1/1428.0]}\n",
    "svc = svm.SVC()\n",
    "clf = GridSearchCV(svc, parameters,cv=cv)\n",
    "clf.fit(X_train, y_train)\n",
    "pred=clf.best_estimator_.predict(X_test)\n",
    "print clf.score(X_test, y_test)  \n",
    "# print pred\n",
    "# print y_test\n",
    "print(classification_report(y_test, pred))"
   ]
  },
  {
   "cell_type": "code",
   "execution_count": null,
   "metadata": {},
   "outputs": [],
   "source": [
    "false_positive_rate, true_positive_rate, thresholds = roc_curve(y_test,pred)\n",
    "roc_auc = auc(false_positive_rate, true_positive_rate)\n",
    "roc_auc"
   ]
  },
  {
   "cell_type": "code",
   "execution_count": null,
   "metadata": {},
   "outputs": [],
   "source": [
    "pred=clf.best_estimator_.predict(X_test)\n",
    "print \"Accuracy:\", clf.score(X_test, y_test)  \n",
    "# print pred\n",
    "# print y_test\n",
    "print \"support:\", len(clf.best_estimator_.support_vectors_)*100.0/(X_train.shape[0])"
   ]
  },
  {
   "cell_type": "code",
   "execution_count": null,
   "metadata": {},
   "outputs": [],
   "source": [
    "# acg=[];\n",
    "# for i in range(0,6,2):\n",
    "#     acg=np.append(acg,i)"
   ]
  },
  {
   "cell_type": "code",
   "execution_count": null,
   "metadata": {},
   "outputs": [],
   "source": [
    "clf.best_estimator_"
   ]
  },
  {
   "cell_type": "code",
   "execution_count": null,
   "metadata": {},
   "outputs": [],
   "source": [
    "k=0;j=34; acgl=[];\n",
    "for i in range(0,21):\n",
    "    cv=5\n",
    "    from sklearn.model_selection import GridSearchCV\n",
    "    parameters = {'kernel':['rbf'], 'C':[1, 10,100,1000],'gamma':[0.01,2/1428.0,1/1428.0]}\n",
    "    svc = svm.SVC()\n",
    "    clf = GridSearchCV(svc, parameters,cv=cv)\n",
    "    clf.fit(X_train[:,k:j], y_train)\n",
    "    pred=clf.best_estimator_.predict(X_test[:,k:j])\n",
    "    acc=clf.score(X_test[:,k:j], y_test)\n",
    "    acgl=np.append(acgl,acc)\n",
    "    print acc\n",
    "    print k,j\n",
    "    k=k+34;j=j+34;"
   ]
  },
  {
   "cell_type": "code",
   "execution_count": null,
   "metadata": {},
   "outputs": [],
   "source": [
    "t=np.linspace(0,200,21, endpoint=True)\n",
    "time=pd.DataFrame(t)\n",
    "a=pd.concat([time,pd.DataFrame(acgw),pd.DataFrame(acgl),pd.DataFrame(acgr)],axis=1, keys=[ 'time',\"Whole\", \"LH\", \"RH\"])"
   ]
  },
  {
   "cell_type": "code",
   "execution_count": null,
   "metadata": {},
   "outputs": [],
   "source": [
    "a"
   ]
  },
  {
   "cell_type": "code",
   "execution_count": null,
   "metadata": {},
   "outputs": [],
   "source": [
    "wpath=\"/home/sultan/EEG/Source_Level_Analysis/SVM_results/\"\n",
    "dall=a\n",
    "dall.to_csv(wpath+'svm_res_75sam_10ms_clear.csv')"
   ]
  },
  {
   "cell_type": "code",
   "execution_count": null,
   "metadata": {},
   "outputs": [],
   "source": [
    "axis_font = {'fontname':'Arial', 'size':'15'}\n",
    "#tw1=tad.iloc[1:,0];Acdw1=tad.iloc[1:,1];\n",
    "tw1=a.iloc[0:,0];Acdw=a.iloc[0:,1];Acdlh=a.iloc[0:,2];Acdrh=a.iloc[0:,3]\n",
    "# plt.plot(tw1,Acdw1,c='g')\n",
    "plt.plot(tw1,Acdw,'g',linewidth=2,marker='*')\n",
    "plt.plot(tw1, Acdlh,'--r',linewidth=2,marker='o')\n",
    "plt.plot(tw1, Acdrh,'--b',linewidth=2,marker='x')\n",
    "plt.title(\"100ms_10ms_clear\")\n",
    "plt.xlim(0,200)\n",
    "# plt.plot(tw1,Acdw1, 'k--', label='noise')\n",
    "# plt.xlabel('Time (ms)',**axis_font)\n",
    "# plt.ylabel('Accuracy (%)',**axis_font)\n",
    "# plt.title('Whole brain',**axis_font)\n",
    "# plt.yticks(**axis_font)\n",
    "# plt.xticks(**axis_font)\n",
    "plt.grid(True)\n",
    "plt.tight_layout()\n",
    "plt.gca().legend(('Whole','LH','RH'),fontsize=16,loc='best')\n",
    "# plt.savefig('whole_acc_timem.eps')\n",
    "# plt.savefig('whole_acc_timem.tif')\n",
    "plt.show()"
   ]
  },
  {
   "cell_type": "code",
   "execution_count": null,
   "metadata": {},
   "outputs": [],
   "source": [
    "len(clf.best_estimator_.support_vectors_)*100.0/(X_train.shape[0])"
   ]
  },
  {
   "cell_type": "code",
   "execution_count": null,
   "metadata": {},
   "outputs": [],
   "source": [
    "# dall"
   ]
  },
  {
   "cell_type": "code",
   "execution_count": null,
   "metadata": {},
   "outputs": [],
   "source": []
  }
 ],
 "metadata": {
  "kernelspec": {
   "display_name": "Python 2",
   "language": "python",
   "name": "python2"
  },
  "language_info": {
   "codemirror_mode": {
    "name": "ipython",
    "version": 2
   },
   "file_extension": ".py",
   "mimetype": "text/x-python",
   "name": "python",
   "nbconvert_exporter": "python",
   "pygments_lexer": "ipython2",
   "version": "2.7.6"
  }
 },
 "nbformat": 4,
 "nbformat_minor": 2
}
