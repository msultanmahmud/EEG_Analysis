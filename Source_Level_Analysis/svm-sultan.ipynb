{
 "cells": [
  {
   "cell_type": "code",
   "execution_count": 51,
   "metadata": {},
   "outputs": [],
   "source": [
    "%matplotlib inline\n",
    "import matplotlib.pyplot as plt\n",
    "import pandas as pd\n",
    "import numpy as np\n",
    "from sklearn import preprocessing\n",
    "# from sklearn.preprocessing import StandardScaler\n",
    "from sklearn.model_selection import train_test_split\n",
    "from sklearn.svm import SVC\n",
    "from sklearn.metrics import confusion_matrix, classification_report, f1_score,precision_score,recall_score\n"
   ]
  },
  {
   "cell_type": "code",
   "execution_count": 97,
   "metadata": {},
   "outputs": [
    {
     "name": "stdout",
     "output_type": "stream",
     "text": [
      "(2534, 1429)\n",
      "(2534,)\n",
      "(1249,)\n",
      "(1249, 1429)\n"
     ]
    }
   ],
   "source": [
    "data1=pd.read_csv('10ms_all_erp.csv')\n",
    "data1=np.asarray(data1)\n",
    "Y=data1[:,1]\n",
    "X=data1[:,1:]\n",
    "scaler = preprocessing.StandardScaler()\n",
    "X = scaler.fit_transform(X)\n",
    "X_train, X_test, y_train, y_test = train_test_split(X, Y, test_size=0.33, random_state=101)\n",
    "\n",
    "print(X_train.shape)\n",
    "print(y_train.shape)\n",
    "print(y_test.shape)\n",
    "print(X_test.shape)"
   ]
  },
  {
   "cell_type": "code",
   "execution_count": 98,
   "metadata": {},
   "outputs": [
    {
     "name": "stdout",
     "output_type": "stream",
     "text": [
      "classification_report\n",
      "             precision    recall  f1-score   support\n",
      "\n",
      "        0.0       0.99      0.91      0.95       526\n",
      "        1.0       0.94      0.99      0.97       723\n",
      "\n",
      "avg / total       0.96      0.96      0.96      1249\n",
      "\n",
      "Confusion Matrix\n",
      "[[480  46]\n",
      " [  5 718]]\n"
     ]
    }
   ],
   "source": [
    "clf = SVC(C=1,kernel='rbf')\n",
    "clf.fit(X_train, y_train)\n",
    "y_pred =clf.predict(X_test)\n",
    "print'classification_report\\n',classification_report(y_test, y_pred)\n",
    "print'Confusion Matrix\\n',confusion_matrix(y_test, y_pred)"
   ]
  },
  {
   "cell_type": "code",
   "execution_count": 99,
   "metadata": {},
   "outputs": [
    {
     "data": {
      "text/plain": [
       "0.9591673338670936"
      ]
     },
     "execution_count": 99,
     "metadata": {},
     "output_type": "execute_result"
    }
   ],
   "source": [
    "clf.score(X_test, y_test)"
   ]
  },
  {
   "cell_type": "code",
   "execution_count": 100,
   "metadata": {},
   "outputs": [
    {
     "name": "stdout",
     "output_type": "stream",
     "text": [
      "classification_report\n",
      "             precision    recall  f1-score   support\n",
      "\n",
      "        0.0       1.00      1.00      1.00       526\n",
      "        1.0       1.00      1.00      1.00       723\n",
      "\n",
      "avg / total       1.00      1.00      1.00      1249\n",
      "\n",
      "Confusion Matrix\n",
      "[[526   0]\n",
      " [  0 723]]\n"
     ]
    }
   ],
   "source": [
    "clf = SVC(C=1,kernel='linear')\n",
    "clf.fit(X_train, y_train)\n",
    "y_pred =clf.predict(X_test)\n",
    "print'classification_report\\n',classification_report(y_test, y_pred)\n",
    "print'Confusion Matrix\\n',confusion_matrix(y_test, y_pred)"
   ]
  },
  {
   "cell_type": "code",
   "execution_count": 101,
   "metadata": {},
   "outputs": [
    {
     "data": {
      "text/plain": [
       "1.0"
      ]
     },
     "execution_count": 101,
     "metadata": {},
     "output_type": "execute_result"
    }
   ],
   "source": [
    "clf.score(X_test, y_test)"
   ]
  },
  {
   "cell_type": "code",
   "execution_count": 104,
   "metadata": {},
   "outputs": [
    {
     "data": {
      "text/plain": [
       "array([1.34853552e-10, 5.23752825e-10, 4.58518788e-10, ...,\n",
       "       1.21614813e-10, 4.24138422e-10, 7.42952014e-10])"
      ]
     },
     "execution_count": 104,
     "metadata": {},
     "output_type": "execute_result"
    }
   ],
   "source": [
    "cc1=data1[:,2:]\n",
    "cc1[:,0]"
   ]
  },
  {
   "cell_type": "code",
   "execution_count": 105,
   "metadata": {},
   "outputs": [
    {
     "data": {
      "text/plain": [
       "array([0., 0., 0., ..., 1., 1., 1.])"
      ]
     },
     "execution_count": 105,
     "metadata": {},
     "output_type": "execute_result"
    }
   ],
   "source": [
    "cc1=data1[:,1:]\n",
    "cc1[:,0]"
   ]
  }
 ],
 "metadata": {
  "kernelspec": {
   "display_name": "Python 2",
   "language": "python",
   "name": "python2"
  },
  "language_info": {
   "codemirror_mode": {
    "name": "ipython",
    "version": 2
   },
   "file_extension": ".py",
   "mimetype": "text/x-python",
   "name": "python",
   "nbconvert_exporter": "python",
   "pygments_lexer": "ipython2",
   "version": "2.7.6"
  }
 },
 "nbformat": 4,
 "nbformat_minor": 2
}
