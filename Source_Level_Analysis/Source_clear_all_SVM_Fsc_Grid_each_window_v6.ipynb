{
 "cells": [
  {
   "cell_type": "code",
   "execution_count": 1,
   "metadata": {},
   "outputs": [],
   "source": [
    "import numpy as np\n",
    "import pandas as pd\n",
    "from sklearn import svm, metrics,preprocessing\n",
    "#from sklearn import datasets\n",
    "from sklearn.model_selection import train_test_split, GridSearchCV\n",
    "from sklearn.metrics import accuracy_score,confusion_matrix,roc_curve, auc\n",
    "from matplotlib import pyplot as plt\n",
    "from collections import Counter\n",
    "from scipy.stats import norm\n",
    "# import seaborn as sns; sns.set(font_scale=1.2)\n",
    "%matplotlib inline"
   ]
  },
  {
   "cell_type": "code",
   "execution_count": 2,
   "metadata": {},
   "outputs": [],
   "source": [
    "# path='/home/sultan/EEG/Source_Level_Analysis/25sam_10ms_clear_all_erp.csv'\n",
    "# path='/home/sultan/EEG/Source_Level_Analysis/50tr10ms_all_clear_erp.csv'\n",
    "# path=\"/home/sultan/EEG/Source_Level_Analysis/75sam_10ms_clear_all_erp.csv\"\n",
    "path=\"/home/sultan/EEG/Source_Level_Analysis/100sam_10ms_clear_all_erp.csv\"\n",
    "dataset =pd.read_csv(path)"
   ]
  },
  {
   "cell_type": "code",
   "execution_count": 3,
   "metadata": {},
   "outputs": [],
   "source": [
    "Xc=dataset.iloc[:,2:].values\n",
    "y=dataset.iloc[:,1].values\n",
    "scaler = preprocessing.StandardScaler()\n",
    "X = scaler.fit_transform(Xc)"
   ]
  },
  {
   "cell_type": "code",
   "execution_count": 4,
   "metadata": {},
   "outputs": [],
   "source": [
    "X_train, X_test, y_train, y_test = train_test_split(X,y, test_size=.20, random_state=40) "
   ]
  },
  {
   "cell_type": "code",
   "execution_count": 5,
   "metadata": {},
   "outputs": [
    {
     "data": {
      "text/plain": [
       "((373, 1428), (373,))"
      ]
     },
     "execution_count": 5,
     "metadata": {},
     "output_type": "execute_result"
    }
   ],
   "source": [
    "X_test.shape, y_test.shape"
   ]
  },
  {
   "cell_type": "code",
   "execution_count": 6,
   "metadata": {},
   "outputs": [
    {
     "data": {
      "text/plain": [
       "(array([0., 1.]), array([148, 225]))"
      ]
     },
     "execution_count": 6,
     "metadata": {},
     "output_type": "execute_result"
    }
   ],
   "source": [
    "np.unique(y_test)\n",
    "np.unique(y_test,return_counts=True)"
   ]
  },
  {
   "cell_type": "markdown",
   "metadata": {},
   "source": [
    "# Grid search"
   ]
  },
  {
   "cell_type": "code",
   "execution_count": 7,
   "metadata": {},
   "outputs": [
    {
     "data": {
      "text/plain": [
       "GridSearchCV(cv=5, error_score='raise',\n",
       "       estimator=SVC(C=1.0, cache_size=200, class_weight=None, coef0=0.0,\n",
       "  decision_function_shape='ovr', degree=3, gamma='auto', kernel='rbf',\n",
       "  max_iter=-1, probability=False, random_state=None, shrinking=True,\n",
       "  tol=0.001, verbose=False),\n",
       "       fit_params=None, iid=True, n_jobs=1,\n",
       "       param_grid={'kernel': ['rbf'], 'C': [1, 6.5, 10, 20, 100, 1000], 'gamma': [0.01, 0.002, 0.00069, 0.0007, 0.0005]},\n",
       "       pre_dispatch='2*n_jobs', refit=True, return_train_score='warn',\n",
       "       scoring=None, verbose=0)"
      ]
     },
     "execution_count": 7,
     "metadata": {},
     "output_type": "execute_result"
    }
   ],
   "source": [
    "cv=5\n",
    "from sklearn.model_selection import GridSearchCV\n",
    "# parameters = {'kernel':['rbf'], 'C':[1, 6.5, 10,20,100,1000],'gamma':[0.01,2/1428.0,1/1428.0]}\n",
    "parameters = {'kernel':['rbf'], 'C':[1, 6.5, 10,20,100,1000],'gamma':[0.01,0.002,0.00069,0.0007,0.0005]}\n",
    "svc = svm.SVC()\n",
    "clf = GridSearchCV(svc, parameters,cv=cv)\n",
    "clf.fit(X_train, y_train)"
   ]
  },
  {
   "cell_type": "code",
   "execution_count": 8,
   "metadata": {},
   "outputs": [],
   "source": [
    "# cv=5\n",
    "# from sklearn.model_selection import GridSearchCV\n",
    "# parameters = {'kernel':['rbf'], 'C':[0.90,1.00,1.25],'gamma':[3.0,3.25,3.25 ]}\n",
    "# svc = svm.SVC()\n",
    "# clf = GridSearchCV(svc, parameters,cv=cv)\n",
    "# clf.fit(X_train, y_train)"
   ]
  },
  {
   "cell_type": "code",
   "execution_count": 9,
   "metadata": {},
   "outputs": [],
   "source": [
    "# # Average Scores\n",
    "# #  print clf.cv_results_\n",
    "# # clf.best_estimator_\n",
    "# # np.mean\n",
    "# scores=clf.cv_results_['mean_test_score']\n",
    "# print(\"Accuracy:%0.3f (+/-%0.3f)\" %(scores.mean(), scores.std()*2))"
   ]
  },
  {
   "cell_type": "code",
   "execution_count": 10,
   "metadata": {
    "scrolled": true
   },
   "outputs": [
    {
     "name": "stdout",
     "output_type": "stream",
     "text": [
      "Accuracy: 0.938337801608579\n",
      "0.938337801608579\n",
      "support: 66.4429530201\n"
     ]
    }
   ],
   "source": [
    "pred=clf.best_estimator_.predict(X_test)\n",
    "acc1=accuracy_score(y_test, pred)\n",
    "print \"Accuracy:\", clf.score(X_test, y_test) \n",
    "print acc1\n",
    "# print pred\n",
    "# print y_test\n",
    "print \"support:\", len(clf.best_estimator_.support_vectors_)*100.0/(X_train.shape[0])"
   ]
  },
  {
   "cell_type": "code",
   "execution_count": 11,
   "metadata": {},
   "outputs": [
    {
     "data": {
      "text/plain": [
       "array([[132,  16],\n",
       "       [  7, 218]])"
      ]
     },
     "execution_count": 11,
     "metadata": {},
     "output_type": "execute_result"
    }
   ],
   "source": [
    "conf_mat=confusion_matrix(y_test,pred)\n",
    "conf_mat"
   ]
  },
  {
   "cell_type": "code",
   "execution_count": 12,
   "metadata": {},
   "outputs": [
    {
     "name": "stdout",
     "output_type": "stream",
     "text": [
      "             precision    recall  f1-score   support\n",
      "\n",
      "        0.0       0.95      0.89      0.92       148\n",
      "        1.0       0.93      0.97      0.95       225\n",
      "\n",
      "avg / total       0.94      0.94      0.94       373\n",
      "\n"
     ]
    }
   ],
   "source": [
    "from sklearn.metrics import classification_report\n",
    "#target_names = ['class 0', 'class 1', 'class 2']\n",
    "print(classification_report(y_test, pred))"
   ]
  },
  {
   "cell_type": "code",
   "execution_count": 13,
   "metadata": {},
   "outputs": [
    {
     "data": {
      "text/plain": [
       "0.9303903903903904"
      ]
     },
     "execution_count": 13,
     "metadata": {},
     "output_type": "execute_result"
    }
   ],
   "source": [
    "false_positive_rate, true_positive_rate, thresholds = roc_curve(y_test,pred)\n",
    "roc_auc = auc(false_positive_rate, true_positive_rate)\n",
    "roc_auc"
   ]
  },
  {
   "cell_type": "code",
   "execution_count": 14,
   "metadata": {},
   "outputs": [
    {
     "data": {
      "text/plain": [
       "0.9303903903903904"
      ]
     },
     "execution_count": 14,
     "metadata": {},
     "output_type": "execute_result"
    }
   ],
   "source": [
    "fpr, tpr, thresholds = metrics.roc_curve(y_test,pred)\n",
    "roc_auc=metrics.auc(fpr, tpr)\n",
    "roc_auc"
   ]
  },
  {
   "cell_type": "code",
   "execution_count": 15,
   "metadata": {},
   "outputs": [
    {
     "data": {
      "text/plain": [
       "SVC(C=6.5, cache_size=200, class_weight=None, coef0=0.0,\n",
       "  decision_function_shape='ovr', degree=3, gamma=0.00069, kernel='rbf',\n",
       "  max_iter=-1, probability=False, random_state=None, shrinking=True,\n",
       "  tol=0.001, verbose=False)"
      ]
     },
     "execution_count": 15,
     "metadata": {},
     "output_type": "execute_result"
    }
   ],
   "source": [
    "clf.best_estimator_"
   ]
  },
  {
   "cell_type": "code",
   "execution_count": 16,
   "metadata": {},
   "outputs": [],
   "source": [
    "# cv=5\n",
    "# from sklearn.model_selection import GridSearchCV\n",
    "# parameters = {'kernel':['rbf'], 'C':[1],'gamma':[0.01 ]}\n",
    "# svc = svm.SVC()\n",
    "# clf = GridSearchCV(svc, parameters,cv=cv)\n",
    "# clf.fit(X_train, y_train)"
   ]
  },
  {
   "cell_type": "markdown",
   "metadata": {},
   "source": [
    "# Bayesian Optimization"
   ]
  },
  {
   "cell_type": "code",
   "execution_count": 17,
   "metadata": {},
   "outputs": [
    {
     "name": "stdout",
     "output_type": "stream",
     "text": [
      "0.938337801608579\n",
      "             precision    recall  f1-score   support\n",
      "\n",
      "        0.0       0.95      0.89      0.92       148\n",
      "        1.0       0.93      0.97      0.95       225\n",
      "\n",
      "avg / total       0.94      0.94      0.94       373\n",
      "\n"
     ]
    }
   ],
   "source": [
    "cv=5\n",
    "from sklearn.model_selection import GridSearchCV\n",
    "parameters = {'kernel':['rbf'], 'C':[1,5,10*.65,10**0.651,7,8],'gamma':[0.1,0.0005,0.000612,0.0006815,10**-3.20]}\n",
    "svc = svm.SVC()\n",
    "clf = GridSearchCV(svc, parameters,cv=cv)\n",
    "clf.fit(X_train, y_train)\n",
    "pred=clf.best_estimator_.predict(X_test)\n",
    "print clf.score(X_test, y_test)  \n",
    "# print pred\n",
    "# print y_test\n",
    "print(classification_report(y_test, pred))"
   ]
  },
  {
   "cell_type": "code",
   "execution_count": 18,
   "metadata": {},
   "outputs": [
    {
     "data": {
      "text/plain": [
       "0.9303903903903904"
      ]
     },
     "execution_count": 18,
     "metadata": {},
     "output_type": "execute_result"
    }
   ],
   "source": [
    "false_positive_rate, true_positive_rate, thresholds = roc_curve(y_test,pred)\n",
    "roc_auc = auc(false_positive_rate, true_positive_rate)\n",
    "roc_auc"
   ]
  },
  {
   "cell_type": "code",
   "execution_count": 19,
   "metadata": {},
   "outputs": [
    {
     "data": {
      "text/plain": [
       "SVC(C=4.47713304176, cache_size=200, class_weight=None, coef0=0.0,\n",
       "  decision_function_shape='ovr', degree=3, gamma=0.00063095734448,\n",
       "  kernel='rbf', max_iter=-1, probability=False, random_state=None,\n",
       "  shrinking=True, tol=0.001, verbose=False)"
      ]
     },
     "execution_count": 19,
     "metadata": {},
     "output_type": "execute_result"
    }
   ],
   "source": [
    "clf.best_estimator_"
   ]
  },
  {
   "cell_type": "code",
   "execution_count": 20,
   "metadata": {},
   "outputs": [
    {
     "name": "stdout",
     "output_type": "stream",
     "text": [
      "Accuracy: 0.938337801608579\n",
      "support: 63.8926174497\n"
     ]
    }
   ],
   "source": [
    "pred=clf.best_estimator_.predict(X_test)\n",
    "print \"Accuracy:\", clf.score(X_test, y_test)  \n",
    "# print pred\n",
    "# print y_test\n",
    "print \"support:\", len(clf.best_estimator_.support_vectors_)*100.0/(X_train.shape[0])"
   ]
  },
  {
   "cell_type": "code",
   "execution_count": null,
   "metadata": {},
   "outputs": [],
   "source": []
  },
  {
   "cell_type": "code",
   "execution_count": 21,
   "metadata": {},
   "outputs": [],
   "source": [
    "# pred=clf.best_estimator_.predict(X_test)\n",
    "# clf.score(X_test, y_test)  \n",
    "# # print pred\n",
    "# # print y_test"
   ]
  },
  {
   "cell_type": "code",
   "execution_count": 22,
   "metadata": {},
   "outputs": [],
   "source": [
    "# k=0;j=68;\n",
    "# for i in range(0,21):\n",
    "#     print k,j\n",
    "#     k=k+68;j=j+68;"
   ]
  },
  {
   "cell_type": "code",
   "execution_count": 23,
   "metadata": {},
   "outputs": [
    {
     "name": "stdout",
     "output_type": "stream",
     "text": [
      "Accuracy: 0.7426273458445041\n",
      "ROC 0.7311711711711711\n",
      "             precision    recall  f1-score   support\n",
      "\n",
      "        0.0       0.68      0.68      0.68       148\n",
      "        1.0       0.79      0.79      0.79       225\n",
      "\n",
      "avg / total       0.74      0.74      0.74       373\n",
      "\n",
      "0 68\n",
      "Accuracy: 0.7453083109919572\n",
      "ROC 0.7426426426426427\n",
      "             precision    recall  f1-score   support\n",
      "\n",
      "        0.0       0.66      0.73      0.69       148\n",
      "        1.0       0.81      0.76      0.78       225\n",
      "\n",
      "avg / total       0.75      0.75      0.75       373\n",
      "\n",
      "68 136\n",
      "Accuracy: 0.7989276139410187\n",
      "ROC 0.8009609609609609\n",
      "             precision    recall  f1-score   support\n",
      "\n",
      "        0.0       0.72      0.81      0.76       148\n",
      "        1.0       0.86      0.79      0.83       225\n",
      "\n",
      "avg / total       0.81      0.80      0.80       373\n",
      "\n",
      "136 204\n",
      "Accuracy: 0.7908847184986595\n",
      "ROC 0.7942942942942941\n",
      "             precision    recall  f1-score   support\n",
      "\n",
      "        0.0       0.71      0.81      0.75       148\n",
      "        1.0       0.86      0.78      0.82       225\n",
      "\n",
      "avg / total       0.80      0.79      0.79       373\n",
      "\n",
      "204 272\n",
      "Accuracy: 0.7721179624664879\n",
      "ROC 0.7764264264264263\n",
      "             precision    recall  f1-score   support\n",
      "\n",
      "        0.0       0.68      0.80      0.74       148\n",
      "        1.0       0.85      0.76      0.80       225\n",
      "\n",
      "avg / total       0.78      0.77      0.77       373\n",
      "\n",
      "272 340\n",
      "Accuracy: 0.8203753351206434\n",
      "ROC 0.8118018018018018\n",
      "             precision    recall  f1-score   support\n",
      "\n",
      "        0.0       0.78      0.77      0.77       148\n",
      "        1.0       0.85      0.85      0.85       225\n",
      "\n",
      "avg / total       0.82      0.82      0.82       373\n",
      "\n",
      "340 408\n",
      "Accuracy: 0.7774798927613941\n",
      "ROC 0.7774024024024022\n",
      "             precision    recall  f1-score   support\n",
      "\n",
      "        0.0       0.70      0.78      0.73       148\n",
      "        1.0       0.84      0.78      0.81       225\n",
      "\n",
      "avg / total       0.78      0.78      0.78       373\n",
      "\n",
      "408 476\n",
      "Accuracy: 0.7640750670241286\n",
      "ROC 0.7570420420420421\n",
      "             precision    recall  f1-score   support\n",
      "\n",
      "        0.0       0.69      0.72      0.71       148\n",
      "        1.0       0.81      0.79      0.80       225\n",
      "\n",
      "avg / total       0.77      0.76      0.76       373\n",
      "\n",
      "476 544\n",
      "Accuracy: 0.7721179624664879\n",
      "ROC 0.7798948948948949\n",
      "             precision    recall  f1-score   support\n",
      "\n",
      "        0.0       0.68      0.82      0.74       148\n",
      "        1.0       0.86      0.74      0.80       225\n",
      "\n",
      "avg / total       0.79      0.77      0.77       373\n",
      "\n",
      "544 612\n",
      "Accuracy: 0.7426273458445041\n",
      "ROC 0.7462012012012013\n",
      "             precision    recall  f1-score   support\n",
      "\n",
      "        0.0       0.65      0.76      0.70       148\n",
      "        1.0       0.82      0.73      0.77       225\n",
      "\n",
      "avg / total       0.75      0.74      0.75       373\n",
      "\n",
      "612 680\n",
      "Accuracy: 0.7774798927613941\n",
      "ROC 0.7565915915915916\n",
      "             precision    recall  f1-score   support\n",
      "\n",
      "        0.0       0.75      0.66      0.70       148\n",
      "        1.0       0.79      0.86      0.82       225\n",
      "\n",
      "avg / total       0.78      0.78      0.77       373\n",
      "\n",
      "680 748\n",
      "Accuracy: 0.7479892761394102\n",
      "ROC 0.7379279279279279\n",
      "             precision    recall  f1-score   support\n",
      "\n",
      "        0.0       0.68      0.69      0.68       148\n",
      "        1.0       0.79      0.79      0.79       225\n",
      "\n",
      "avg / total       0.75      0.75      0.75       373\n",
      "\n",
      "748 816\n",
      "Accuracy: 0.7587131367292225\n",
      "ROC 0.7514414414414414\n",
      "             precision    recall  f1-score   support\n",
      "\n",
      "        0.0       0.69      0.72      0.70       148\n",
      "        1.0       0.81      0.79      0.80       225\n",
      "\n",
      "avg / total       0.76      0.76      0.76       373\n",
      "\n",
      "816 884\n",
      "Accuracy: 0.7989276139410187\n",
      "ROC 0.8021171171171171\n",
      "             precision    recall  f1-score   support\n",
      "\n",
      "        0.0       0.72      0.82      0.76       148\n",
      "        1.0       0.87      0.79      0.83       225\n",
      "\n",
      "avg / total       0.81      0.80      0.80       373\n",
      "\n",
      "884 952\n",
      "Accuracy: 0.7587131367292225\n",
      "ROC 0.7618468468468468\n",
      "             precision    recall  f1-score   support\n",
      "\n",
      "        0.0       0.67      0.78      0.72       148\n",
      "        1.0       0.84      0.75      0.79       225\n",
      "\n",
      "avg / total       0.77      0.76      0.76       373\n",
      "\n",
      "952 1020\n",
      "Accuracy: 0.739946380697051\n",
      "ROC 0.7347297297297297\n",
      "             precision    recall  f1-score   support\n",
      "\n",
      "        0.0       0.66      0.71      0.68       148\n",
      "        1.0       0.80      0.76      0.78       225\n",
      "\n",
      "avg / total       0.74      0.74      0.74       373\n",
      "\n",
      "1020 1088\n",
      "Accuracy: 0.7426273458445041\n",
      "ROC 0.751981981981982\n",
      "             precision    recall  f1-score   support\n",
      "\n",
      "        0.0       0.64      0.80      0.71       148\n",
      "        1.0       0.84      0.71      0.77       225\n",
      "\n",
      "avg / total       0.76      0.74      0.75       373\n",
      "\n",
      "1088 1156\n",
      "Accuracy: 0.7506702412868632\n",
      "ROC 0.7517117117117117\n",
      "             precision    recall  f1-score   support\n",
      "\n",
      "        0.0       0.66      0.76      0.71       148\n",
      "        1.0       0.82      0.75      0.78       225\n",
      "\n",
      "avg / total       0.76      0.75      0.75       373\n",
      "\n",
      "1156 1224\n",
      "Accuracy: 0.7453083109919572\n",
      "ROC 0.7437987987987988\n",
      "             precision    recall  f1-score   support\n",
      "\n",
      "        0.0       0.66      0.74      0.70       148\n",
      "        1.0       0.81      0.75      0.78       225\n",
      "\n",
      "avg / total       0.75      0.75      0.75       373\n",
      "\n",
      "1224 1292\n",
      "Accuracy: 0.7587131367292225\n",
      "ROC 0.7491291291291291\n",
      "             precision    recall  f1-score   support\n",
      "\n",
      "        0.0       0.69      0.70      0.70       148\n",
      "        1.0       0.80      0.80      0.80       225\n",
      "\n",
      "avg / total       0.76      0.76      0.76       373\n",
      "\n",
      "1292 1360\n",
      "Accuracy: 0.7962466487935657\n",
      "ROC 0.7906456456456455\n",
      "             precision    recall  f1-score   support\n",
      "\n",
      "        0.0       0.73      0.76      0.75       148\n",
      "        1.0       0.84      0.82      0.83       225\n",
      "\n",
      "avg / total       0.80      0.80      0.80       373\n",
      "\n",
      "1360 1428\n"
     ]
    }
   ],
   "source": [
    "k=0;j=68; acgw=[];pmw=[];aucw=[];\n",
    "for i in range(0,21):\n",
    "    cv=5\n",
    "    from sklearn.model_selection import GridSearchCV\n",
    "    parameters = {'kernel':['rbf'], 'C':[1, 10,20,30, 40, 50, 60, 70, 90,100,1000],'gamma':[0.01,0.0147, 0.016, 0.019, 0.021, 2/1428.0,1/1428.0]}\n",
    "    svc = svm.SVC()\n",
    "    clf = GridSearchCV(svc, parameters,cv=cv)\n",
    "    clf.fit(X_train[:,k:j], y_train)\n",
    "    pred=clf.best_estimator_.predict(X_test[:,k:j])\n",
    "    acc=clf.score(X_test[:,k:j], y_test)\n",
    "    acgw=np.append(acgw,acc)\n",
    "    print \"Accuracy:\",acc\n",
    "    perf=classification_report(y_test, pred)\n",
    "    pmw.append(perf)\n",
    "    fpr, tpr, thresholds = metrics.roc_curve(y_test,pred)\n",
    "    roc_auc=metrics.auc(fpr, tpr)\n",
    "    roc_auc\n",
    "    aucw.append(roc_auc)\n",
    "    print\"ROC\", roc_auc\n",
    "    print perf\n",
    "    print k,j\n",
    "    k=k+68;j=j+68;\n",
    "#     scores=clf.cv_results_['mean_test_score']\n",
    "#     print(\"Accuracy:%0.3f (+/-%0.3f)\" %(scores.mean(), scores.std()*2))"
   ]
  },
  {
   "cell_type": "code",
   "execution_count": 24,
   "metadata": {},
   "outputs": [
    {
     "data": {
      "text/plain": [
       "SVC(C=1000, cache_size=200, class_weight=None, coef0=0.0,\n",
       "  decision_function_shape='ovr', degree=3, gamma=0.00140056022409,\n",
       "  kernel='rbf', max_iter=-1, probability=False, random_state=None,\n",
       "  shrinking=True, tol=0.001, verbose=False)"
      ]
     },
     "execution_count": 24,
     "metadata": {},
     "output_type": "execute_result"
    }
   ],
   "source": [
    "clf.best_estimator_"
   ]
  },
  {
   "cell_type": "code",
   "execution_count": 25,
   "metadata": {},
   "outputs": [
    {
     "data": {
      "text/plain": [
       "(373, 68)"
      ]
     },
     "execution_count": 25,
     "metadata": {},
     "output_type": "execute_result"
    }
   ],
   "source": [
    "yr=X_test[:,0:68]\n",
    "yr.shape"
   ]
  },
  {
   "cell_type": "code",
   "execution_count": 26,
   "metadata": {},
   "outputs": [],
   "source": [
    "dataset\n",
    "Xc=dataset.iloc[:,2:].values\n",
    "y=dataset.iloc[:,1].values\n",
    "# Xc"
   ]
  },
  {
   "cell_type": "code",
   "execution_count": 27,
   "metadata": {},
   "outputs": [
    {
     "data": {
      "text/plain": [
       "0.8203753351206434"
      ]
     },
     "execution_count": 27,
     "metadata": {},
     "output_type": "execute_result"
    }
   ],
   "source": [
    "X.shape\n",
    "np.max(acgw)"
   ]
  },
  {
   "cell_type": "markdown",
   "metadata": {},
   "source": [
    "# Hemisphere"
   ]
  },
  {
   "cell_type": "code",
   "execution_count": 28,
   "metadata": {},
   "outputs": [
    {
     "name": "stdout",
     "output_type": "stream",
     "text": [
      "0.8981233243967829\n",
      "0.8878078078078078\n",
      "             precision    recall  f1-score   support\n",
      "\n",
      "        0.0       0.90      0.84      0.87       148\n",
      "        1.0       0.90      0.94      0.92       225\n",
      "\n",
      "avg / total       0.90      0.90      0.90       373\n",
      "\n"
     ]
    }
   ],
   "source": [
    "a=range(0,(X.shape[1]),2)\n",
    "d11=X[:,a];\n",
    "X_train, X_test, y_train, y_test = train_test_split(d11,y, test_size=.20, random_state=40) \n",
    "cv=5\n",
    "from sklearn.model_selection import GridSearchCV\n",
    "# parameters = {'kernel':['rbf'], 'C':[1, 10,100,1000],'gamma':[0.01,2/1428.0,1/1428.0]}\n",
    "parameters = {'kernel':['rbf'], 'C':[1, 10,20,30, 40, 50, 60, 70, 90,100,1000],'gamma':[0.01,0.0147, 0.016, 0.019, 0.021, 2/1428.0,1/1428.0]}\n",
    "svc = svm.SVC()\n",
    "clf = GridSearchCV(svc, parameters,cv=cv)\n",
    "clf.fit(X_train, y_train)\n",
    "pred=clf.best_estimator_.predict(X_test)\n",
    "print clf.score(X_test, y_test)  \n",
    "fpr, tpr, thresholds = metrics.roc_curve(y_test,pred)\n",
    "roc_auc=metrics.auc(fpr, tpr)\n",
    "roc_auc\n",
    "print roc_auc\n",
    "# print pred\n",
    "# print y_test\n",
    "print(classification_report(y_test, pred))"
   ]
  },
  {
   "cell_type": "code",
   "execution_count": 29,
   "metadata": {},
   "outputs": [
    {
     "data": {
      "text/plain": [
       "0.8878078078078078"
      ]
     },
     "execution_count": 29,
     "metadata": {},
     "output_type": "execute_result"
    }
   ],
   "source": [
    "false_positive_rate, true_positive_rate, thresholds = roc_curve(y_test,pred)\n",
    "roc_auc = auc(false_positive_rate, true_positive_rate)\n",
    "roc_auc"
   ]
  },
  {
   "cell_type": "code",
   "execution_count": 30,
   "metadata": {},
   "outputs": [
    {
     "name": "stdout",
     "output_type": "stream",
     "text": [
      "Accuracy: 0.8981233243967829\n",
      "support: 50.6711409396\n"
     ]
    }
   ],
   "source": [
    "pred=clf.best_estimator_.predict(X_test)\n",
    "print \"Accuracy:\", clf.score(X_test, y_test)  \n",
    "# print pred\n",
    "# print y_test\n",
    "print \"support:\", len(clf.best_estimator_.support_vectors_)*100.0/(X_train.shape[0])"
   ]
  },
  {
   "cell_type": "code",
   "execution_count": 31,
   "metadata": {},
   "outputs": [
    {
     "data": {
      "text/plain": [
       "SVC(C=10, cache_size=200, class_weight=None, coef0=0.0,\n",
       "  decision_function_shape='ovr', degree=3, gamma=0.000700280112045,\n",
       "  kernel='rbf', max_iter=-1, probability=False, random_state=None,\n",
       "  shrinking=True, tol=0.001, verbose=False)"
      ]
     },
     "execution_count": 31,
     "metadata": {},
     "output_type": "execute_result"
    }
   ],
   "source": [
    "clf.best_estimator_"
   ]
  },
  {
   "cell_type": "code",
   "execution_count": 32,
   "metadata": {},
   "outputs": [
    {
     "name": "stdout",
     "output_type": "stream",
     "text": [
      "Accuracy: 0.6970509383378016\n",
      "ROC: 0.6991741741741742\n",
      "             precision    recall  f1-score   support\n",
      "\n",
      "        0.0       0.60      0.71      0.65       148\n",
      "        1.0       0.78      0.69      0.73       225\n",
      "\n",
      "avg / total       0.71      0.70      0.70       373\n",
      "\n",
      "0 34\n",
      "Accuracy: 0.6729222520107239\n",
      "ROC: 0.669924924924925\n",
      "             precision    recall  f1-score   support\n",
      "\n",
      "        0.0       0.58      0.66      0.61       148\n",
      "        1.0       0.75      0.68      0.72       225\n",
      "\n",
      "avg / total       0.68      0.67      0.68       373\n",
      "\n",
      "34 68\n",
      "Accuracy: 0.7319034852546917\n",
      "ROC: 0.7292192192192193\n",
      "             precision    recall  f1-score   support\n",
      "\n",
      "        0.0       0.65      0.72      0.68       148\n",
      "        1.0       0.80      0.74      0.77       225\n",
      "\n",
      "avg / total       0.74      0.73      0.73       373\n",
      "\n",
      "68 102\n",
      "Accuracy: 0.7721179624664879\n",
      "ROC: 0.7775825825825826\n",
      "             precision    recall  f1-score   support\n",
      "\n",
      "        0.0       0.68      0.80      0.74       148\n",
      "        1.0       0.85      0.75      0.80       225\n",
      "\n",
      "avg / total       0.78      0.77      0.77       373\n",
      "\n",
      "102 136\n",
      "Accuracy: 0.7265415549597856\n",
      "ROC: 0.7282432432432433\n",
      "             precision    recall  f1-score   support\n",
      "\n",
      "        0.0       0.63      0.74      0.68       148\n",
      "        1.0       0.81      0.72      0.76       225\n",
      "\n",
      "avg / total       0.74      0.73      0.73       373\n",
      "\n",
      "136 170\n",
      "Accuracy: 0.7908847184986595\n",
      "ROC: 0.7885135135135135\n",
      "             precision    recall  f1-score   support\n",
      "\n",
      "        0.0       0.72      0.78      0.75       148\n",
      "        1.0       0.85      0.80      0.82       225\n",
      "\n",
      "avg / total       0.79      0.79      0.79       373\n",
      "\n",
      "170 204\n",
      "Accuracy: 0.7426273458445041\n",
      "ROC: 0.7392642642642643\n",
      "             precision    recall  f1-score   support\n",
      "\n",
      "        0.0       0.66      0.72      0.69       148\n",
      "        1.0       0.81      0.76      0.78       225\n",
      "\n",
      "avg / total       0.75      0.74      0.74       373\n",
      "\n",
      "204 238\n",
      "Accuracy: 0.7265415549597856\n",
      "ROC: 0.7236186186186185\n",
      "             precision    recall  f1-score   support\n",
      "\n",
      "        0.0       0.64      0.71      0.67       148\n",
      "        1.0       0.79      0.74      0.76       225\n",
      "\n",
      "avg / total       0.73      0.73      0.73       373\n",
      "\n",
      "238 272\n",
      "Accuracy: 0.7345844504021448\n",
      "ROC: 0.7372222222222222\n",
      "             precision    recall  f1-score   support\n",
      "\n",
      "        0.0       0.64      0.75      0.69       148\n",
      "        1.0       0.81      0.72      0.77       225\n",
      "\n",
      "avg / total       0.75      0.73      0.74       373\n",
      "\n",
      "272 306\n",
      "Accuracy: 0.6514745308310992\n",
      "ROC: 0.6637087087087087\n",
      "             precision    recall  f1-score   support\n",
      "\n",
      "        0.0       0.55      0.72      0.62       148\n",
      "        1.0       0.77      0.60      0.68       225\n",
      "\n",
      "avg / total       0.68      0.65      0.65       373\n",
      "\n",
      "306 340\n",
      "Accuracy: 0.7640750670241286\n",
      "ROC: 0.7558858858858859\n",
      "             precision    recall  f1-score   support\n",
      "\n",
      "        0.0       0.70      0.72      0.71       148\n",
      "        1.0       0.81      0.80      0.80       225\n",
      "\n",
      "avg / total       0.77      0.76      0.76       373\n",
      "\n",
      "340 374\n",
      "Accuracy: 0.6997319034852547\n",
      "ROC: 0.6990840840840842\n",
      "             precision    recall  f1-score   support\n",
      "\n",
      "        0.0       0.61      0.70      0.65       148\n",
      "        1.0       0.78      0.70      0.74       225\n",
      "\n",
      "avg / total       0.71      0.70      0.70       373\n",
      "\n",
      "374 408\n",
      "Accuracy: 0.7345844504021448\n",
      "ROC: 0.7314414414414414\n",
      "             precision    recall  f1-score   support\n",
      "\n",
      "        0.0       0.65      0.72      0.68       148\n",
      "        1.0       0.80      0.75      0.77       225\n",
      "\n",
      "avg / total       0.74      0.73      0.74       373\n",
      "\n",
      "408 442\n",
      "Accuracy: 0.6863270777479893\n",
      "ROC: 0.6787237237237237\n",
      "             precision    recall  f1-score   support\n",
      "\n",
      "        0.0       0.60      0.64      0.62       148\n",
      "        1.0       0.75      0.72      0.73       225\n",
      "\n",
      "avg / total       0.69      0.69      0.69       373\n",
      "\n",
      "442 476\n",
      "Accuracy: 0.7265415549597856\n",
      "ROC: 0.7247747747747748\n",
      "             precision    recall  f1-score   support\n",
      "\n",
      "        0.0       0.64      0.72      0.68       148\n",
      "        1.0       0.80      0.73      0.76       225\n",
      "\n",
      "avg / total       0.73      0.73      0.73       373\n",
      "\n",
      "476 510\n",
      "Accuracy: 0.710455764075067\n",
      "ROC: 0.6871621621621622\n",
      "             precision    recall  f1-score   support\n",
      "\n",
      "        0.0       0.65      0.57      0.61       148\n",
      "        1.0       0.74      0.80      0.77       225\n",
      "\n",
      "avg / total       0.71      0.71      0.71       373\n",
      "\n",
      "510 544\n",
      "Accuracy: 0.707774798927614\n",
      "ROC: 0.7011261261261261\n",
      "             precision    recall  f1-score   support\n",
      "\n",
      "        0.0       0.62      0.67      0.64       148\n",
      "        1.0       0.77      0.73      0.75       225\n",
      "\n",
      "avg / total       0.71      0.71      0.71       373\n",
      "\n",
      "544 578\n",
      "Accuracy: 0.7506702412868632\n",
      "ROC: 0.7459309309309309\n",
      "             precision    recall  f1-score   support\n",
      "\n",
      "        0.0       0.67      0.72      0.70       148\n",
      "        1.0       0.81      0.77      0.79       225\n",
      "\n",
      "avg / total       0.75      0.75      0.75       373\n",
      "\n",
      "578 612\n",
      "Accuracy: 0.774798927613941\n",
      "ROC: 0.7647747747747748\n",
      "             precision    recall  f1-score   support\n",
      "\n",
      "        0.0       0.72      0.72      0.72       148\n",
      "        1.0       0.81      0.81      0.81       225\n",
      "\n",
      "avg / total       0.77      0.77      0.77       373\n",
      "\n",
      "612 646\n",
      "Accuracy: 0.7050938337801609\n",
      "ROC: 0.6965915915915917\n",
      "             precision    recall  f1-score   support\n",
      "\n",
      "        0.0       0.62      0.66      0.64       148\n",
      "        1.0       0.76      0.74      0.75       225\n",
      "\n",
      "avg / total       0.71      0.71      0.71       373\n",
      "\n",
      "646 680\n",
      "Accuracy: 0.7319034852546917\n",
      "ROC: 0.728063063063063\n",
      "             precision    recall  f1-score   support\n",
      "\n",
      "        0.0       0.65      0.71      0.68       148\n",
      "        1.0       0.80      0.75      0.77       225\n",
      "\n",
      "avg / total       0.74      0.73      0.73       373\n",
      "\n",
      "680 714\n"
     ]
    }
   ],
   "source": [
    "# only 34 features \n",
    "parameters = {'kernel':['rbf'], 'C':[1, 10,20,30, 40, 50, 60, 70, 90,100,1000],'gamma':[0.015,0.025, 0.029, 0.030,0.035]}\n",
    "svc = svm.SVC()\n",
    "k=0;j=34; acgr=[];aucrh=[];pmrh=[];\n",
    "for i in range(0,21):\n",
    "    cv=5\n",
    "    from sklearn.model_selection import GridSearchCV\n",
    "#     parameters = {'kernel':['rbf'], 'C':[1, 10,100,1000],'gamma':[0.01,2/1428.0,1/1428.0]}\n",
    "    svc = svm.SVC()\n",
    "    clf = GridSearchCV(svc, parameters,cv=cv)\n",
    "    clf.fit(X_train[:,k:j], y_train)\n",
    "    pred=clf.best_estimator_.predict(X_test[:,k:j])\n",
    "    acc=clf.score(X_test[:,k:j], y_test)\n",
    "    acgr=np.append(acgr,acc)\n",
    "    print \"Accuracy:\", acc\n",
    "    perf=classification_report(y_test, pred)\n",
    "    pmrh.append(perf)\n",
    "    fpr, tpr, thresholds = metrics.roc_curve(y_test,pred)\n",
    "    roc_auc=metrics.auc(fpr, tpr)\n",
    "    roc_auc\n",
    "    aucrh.append(roc_auc)\n",
    "    print \"ROC:\", roc_auc\n",
    "    print perf\n",
    "    print k,j\n",
    "    k=k+34;j=j+34;"
   ]
  },
  {
   "cell_type": "markdown",
   "metadata": {},
   "source": [
    "# LH"
   ]
  },
  {
   "cell_type": "code",
   "execution_count": 33,
   "metadata": {},
   "outputs": [
    {
     "name": "stdout",
     "output_type": "stream",
     "text": [
      "0.9327027027027026\n",
      "             precision    recall  f1-score   support\n",
      "\n",
      "        0.0       0.94      0.91      0.92       148\n",
      "        1.0       0.94      0.96      0.95       225\n",
      "\n",
      "avg / total       0.94      0.94      0.94       373\n",
      "\n"
     ]
    }
   ],
   "source": [
    "b=range(1,(X.shape[1]),2)\n",
    "d22=X[:,b];\n",
    "X_train, X_test, y_train, y_test = train_test_split(d22,y, test_size=.20, random_state=40) \n",
    "cv=5\n",
    "from sklearn.model_selection import GridSearchCV\n",
    "# parameters = {'kernel':['rbf'], 'C':[1, 10,100,1000],'gamma':[0.01,2/1428.0,1/1428.0]}\n",
    "parameters = {'kernel':['rbf'], 'C':[1, 10,20,30, 40, 50, 60, 70, 90,100,1000],'gamma':[0.01,0.0147, 0.016, 0.019, 0.021, 2/1428.0,1/1428.0]}\n",
    "svc = svm.SVC()\n",
    "clf = GridSearchCV(svc, parameters,cv=cv)\n",
    "clf.fit(X_train, y_train)\n",
    "pred=clf.best_estimator_.predict(X_test)\n",
    "# print clf.score(X_test, y_test)  \n",
    "# print pred\n",
    "# print y_test\n",
    "perf=classification_report(y_test, pred)\n",
    "fpr, tpr, thresholds = metrics.roc_curve(y_test,pred)\n",
    "roc_auc=metrics.auc(fpr, tpr)\n",
    "roc_auc\n",
    "print roc_auc\n",
    "print perf"
   ]
  },
  {
   "cell_type": "code",
   "execution_count": 34,
   "metadata": {},
   "outputs": [
    {
     "data": {
      "text/plain": [
       "0.9327027027027026"
      ]
     },
     "execution_count": 34,
     "metadata": {},
     "output_type": "execute_result"
    }
   ],
   "source": [
    "false_positive_rate, true_positive_rate, thresholds = roc_curve(y_test,pred)\n",
    "roc_auc = auc(false_positive_rate, true_positive_rate)\n",
    "roc_auc"
   ]
  },
  {
   "cell_type": "code",
   "execution_count": 35,
   "metadata": {},
   "outputs": [
    {
     "name": "stdout",
     "output_type": "stream",
     "text": [
      "Accuracy: 0.938337801608579\n",
      "support: 69.4630872483\n"
     ]
    }
   ],
   "source": [
    "pred=clf.best_estimator_.predict(X_test)\n",
    "print \"Accuracy:\", clf.score(X_test, y_test)  \n",
    "# print pred\n",
    "# print y_test\n",
    "print \"support:\", len(clf.best_estimator_.support_vectors_)*100.0/(X_train.shape[0])"
   ]
  },
  {
   "cell_type": "code",
   "execution_count": 36,
   "metadata": {},
   "outputs": [],
   "source": [
    "# acg=[];\n",
    "# for i in range(0,6,2):\n",
    "#     acg=np.append(acg,i)"
   ]
  },
  {
   "cell_type": "code",
   "execution_count": 37,
   "metadata": {},
   "outputs": [
    {
     "data": {
      "text/plain": [
       "SVC(C=10, cache_size=200, class_weight=None, coef0=0.0,\n",
       "  decision_function_shape='ovr', degree=3, gamma=0.00140056022409,\n",
       "  kernel='rbf', max_iter=-1, probability=False, random_state=None,\n",
       "  shrinking=True, tol=0.001, verbose=False)"
      ]
     },
     "execution_count": 37,
     "metadata": {},
     "output_type": "execute_result"
    }
   ],
   "source": [
    "clf.best_estimator_"
   ]
  },
  {
   "cell_type": "code",
   "execution_count": 38,
   "metadata": {},
   "outputs": [
    {
     "name": "stdout",
     "output_type": "stream",
     "text": [
      "Accuracy: 0.7265415549597856\n",
      "ROC: 0.7178378378378378\n",
      "             precision    recall  f1-score   support\n",
      "\n",
      "        0.0       0.65      0.68      0.66       148\n",
      "        1.0       0.78      0.76      0.77       225\n",
      "\n",
      "avg / total       0.73      0.73      0.73       373\n",
      "\n",
      "0 34\n",
      "Accuracy: 0.7506702412868632\n",
      "ROC: 0.7413063063063063\n",
      "             precision    recall  f1-score   support\n",
      "\n",
      "        0.0       0.68      0.70      0.69       148\n",
      "        1.0       0.80      0.79      0.79       225\n",
      "\n",
      "avg / total       0.75      0.75      0.75       373\n",
      "\n",
      "34 68\n",
      "Accuracy: 0.7908847184986595\n",
      "ROC: 0.7896696696696697\n",
      "             precision    recall  f1-score   support\n",
      "\n",
      "        0.0       0.72      0.78      0.75       148\n",
      "        1.0       0.85      0.80      0.82       225\n",
      "\n",
      "avg / total       0.80      0.79      0.79       373\n",
      "\n",
      "68 102\n",
      "Accuracy: 0.7560321715817694\n",
      "ROC: 0.7538438438438437\n",
      "             precision    recall  f1-score   support\n",
      "\n",
      "        0.0       0.67      0.74      0.71       148\n",
      "        1.0       0.82      0.76      0.79       225\n",
      "\n",
      "avg / total       0.76      0.76      0.76       373\n",
      "\n",
      "102 136\n",
      "Accuracy: 0.7506702412868632\n",
      "ROC: 0.7505555555555555\n",
      "             precision    recall  f1-score   support\n",
      "\n",
      "        0.0       0.66      0.75      0.70       148\n",
      "        1.0       0.82      0.75      0.78       225\n",
      "\n",
      "avg / total       0.76      0.75      0.75       373\n",
      "\n",
      "136 170\n",
      "Accuracy: 0.7774798927613941\n",
      "ROC: 0.7727777777777778\n",
      "             precision    recall  f1-score   support\n",
      "\n",
      "        0.0       0.71      0.75      0.73       148\n",
      "        1.0       0.83      0.80      0.81       225\n",
      "\n",
      "avg / total       0.78      0.78      0.78       373\n",
      "\n",
      "170 204\n",
      "Accuracy: 0.7855227882037533\n",
      "ROC: 0.7921621621621622\n",
      "             precision    recall  f1-score   support\n",
      "\n",
      "        0.0       0.69      0.82      0.75       148\n",
      "        1.0       0.87      0.76      0.81       225\n",
      "\n",
      "avg / total       0.80      0.79      0.79       373\n",
      "\n",
      "204 238\n",
      "Accuracy: 0.774798927613941\n",
      "ROC: 0.7798048048048047\n",
      "             precision    recall  f1-score   support\n",
      "\n",
      "        0.0       0.68      0.80      0.74       148\n",
      "        1.0       0.85      0.76      0.80       225\n",
      "\n",
      "avg / total       0.79      0.77      0.78       373\n",
      "\n",
      "238 272\n",
      "Accuracy: 0.707774798927614\n",
      "ROC: 0.6976576576576576\n",
      "             precision    recall  f1-score   support\n",
      "\n",
      "        0.0       0.63      0.65      0.64       148\n",
      "        1.0       0.76      0.75      0.76       225\n",
      "\n",
      "avg / total       0.71      0.71      0.71       373\n",
      "\n",
      "272 306\n",
      "Accuracy: 0.7372654155495979\n",
      "ROC: 0.7359759759759761\n",
      "             precision    recall  f1-score   support\n",
      "\n",
      "        0.0       0.65      0.73      0.69       148\n",
      "        1.0       0.81      0.74      0.77       225\n",
      "\n",
      "avg / total       0.74      0.74      0.74       373\n",
      "\n",
      "306 340\n",
      "Accuracy: 0.7587131367292225\n",
      "ROC: 0.7445045045045046\n",
      "             precision    recall  f1-score   support\n",
      "\n",
      "        0.0       0.70      0.68      0.69       148\n",
      "        1.0       0.79      0.81      0.80       225\n",
      "\n",
      "avg / total       0.76      0.76      0.76       373\n",
      "\n",
      "340 374\n",
      "Accuracy: 0.7184986595174263\n",
      "ROC: 0.7053903903903903\n",
      "             precision    recall  f1-score   support\n",
      "\n",
      "        0.0       0.65      0.64      0.64       148\n",
      "        1.0       0.77      0.77      0.77       225\n",
      "\n",
      "avg / total       0.72      0.72      0.72       373\n",
      "\n",
      "374 408\n",
      "Accuracy: 0.7533512064343163\n",
      "ROC: 0.7435285285285285\n",
      "             precision    recall  f1-score   support\n",
      "\n",
      "        0.0       0.69      0.70      0.69       148\n",
      "        1.0       0.80      0.79      0.79       225\n",
      "\n",
      "avg / total       0.75      0.75      0.75       373\n",
      "\n",
      "408 442\n",
      "Accuracy: 0.7426273458445041\n",
      "ROC: 0.7404204204204204\n",
      "             precision    recall  f1-score   support\n",
      "\n",
      "        0.0       0.66      0.73      0.69       148\n",
      "        1.0       0.81      0.75      0.78       225\n",
      "\n",
      "avg / total       0.75      0.74      0.74       373\n",
      "\n",
      "442 476\n",
      "Accuracy: 0.7238605898123325\n",
      "ROC: 0.7283333333333333\n",
      "             precision    recall  f1-score   support\n",
      "\n",
      "        0.0       0.63      0.75      0.68       148\n",
      "        1.0       0.81      0.71      0.76       225\n",
      "\n",
      "avg / total       0.74      0.72      0.73       373\n",
      "\n",
      "476 510\n",
      "Accuracy: 0.7211796246648794\n",
      "ROC: 0.7145495495495495\n",
      "             precision    recall  f1-score   support\n",
      "\n",
      "        0.0       0.64      0.68      0.66       148\n",
      "        1.0       0.78      0.75      0.76       225\n",
      "\n",
      "avg / total       0.72      0.72      0.72       373\n",
      "\n",
      "510 544\n",
      "Accuracy: 0.6836461126005362\n",
      "ROC: 0.6845945945945947\n",
      "             precision    recall  f1-score   support\n",
      "\n",
      "        0.0       0.59      0.69      0.63       148\n",
      "        1.0       0.77      0.68      0.72       225\n",
      "\n",
      "avg / total       0.70      0.68      0.69       373\n",
      "\n",
      "544 578\n",
      "Accuracy: 0.7319034852546917\n",
      "ROC: 0.7245945945945946\n",
      "             precision    recall  f1-score   support\n",
      "\n",
      "        0.0       0.65      0.69      0.67       148\n",
      "        1.0       0.79      0.76      0.77       225\n",
      "\n",
      "avg / total       0.73      0.73      0.73       373\n",
      "\n",
      "578 612\n",
      "Accuracy: 0.7158176943699732\n",
      "ROC: 0.7066366366366367\n",
      "             precision    recall  f1-score   support\n",
      "\n",
      "        0.0       0.64      0.66      0.65       148\n",
      "        1.0       0.77      0.75      0.76       225\n",
      "\n",
      "avg / total       0.72      0.72      0.72       373\n",
      "\n",
      "612 646\n",
      "Accuracy: 0.7211796246648794\n",
      "ROC: 0.7157057057057058\n",
      "             precision    recall  f1-score   support\n",
      "\n",
      "        0.0       0.64      0.69      0.66       148\n",
      "        1.0       0.78      0.74      0.76       225\n",
      "\n",
      "avg / total       0.73      0.72      0.72       373\n",
      "\n",
      "646 680\n",
      "Accuracy: 0.7613941018766756\n",
      "ROC: 0.755975975975976\n",
      "             precision    recall  f1-score   support\n",
      "\n",
      "        0.0       0.69      0.73      0.71       148\n",
      "        1.0       0.81      0.78      0.80       225\n",
      "\n",
      "avg / total       0.76      0.76      0.76       373\n",
      "\n",
      "680 714\n"
     ]
    }
   ],
   "source": [
    "k=0;j=34; acgl=[];auclh=[];pmlh=[];\n",
    "for i in range(0,21):\n",
    "    cv=5\n",
    "    from sklearn.model_selection import GridSearchCV\n",
    "#     parameters = {'kernel':['rbf'], 'C':[1, 10,100,1000],'gamma':[0.01,2/1428.0,1/1428.0]}\n",
    "    parameters = {'kernel':['rbf'], 'C':[1, 10,20,30, 40, 50, 60, 70, 90,100,1000],'gamma':[0.015,0.025, 0.029, 0.030,0.035]}\n",
    "    svc = svm.SVC()\n",
    "    clf = GridSearchCV(svc, parameters,cv=cv)\n",
    "    clf.fit(X_train[:,k:j], y_train)\n",
    "    pred=clf.best_estimator_.predict(X_test[:,k:j])\n",
    "    acc=clf.score(X_test[:,k:j], y_test)\n",
    "    acgl=np.append(acgl,acc)\n",
    "    print \"Accuracy:\", acc\n",
    "    perf=classification_report(y_test, pred)\n",
    "    pmlh.append(perf)\n",
    "    fpr, tpr, thresholds = metrics.roc_curve(y_test,pred)\n",
    "    roc_auc=metrics.auc(fpr, tpr)\n",
    "    roc_auc\n",
    "    auclh.append(roc_auc)\n",
    "    print \"ROC:\", roc_auc\n",
    "    print perf\n",
    "    print k,j\n",
    "    k=k+34;j=j+34;"
   ]
  },
  {
   "cell_type": "code",
   "execution_count": 39,
   "metadata": {},
   "outputs": [],
   "source": [
    "t=np.linspace(0,200,21, endpoint=True)\n",
    "time=pd.DataFrame(t)\n",
    "# a=pd.concat([time,pd.DataFrame(acgw),pd.DataFrame(acgl),pd.DataFrame(acgr)],axis=1, keys=[ 'time',\"Whole\", \"LH\", \"RH\"])\n",
    "a=pd.concat([time,pd.DataFrame(acgw),pd.DataFrame(acgr),pd.DataFrame(acgl)],axis=1, keys=[ 'time',\"Whole\", \"LH\", \"RH\"])"
   ]
  },
  {
   "cell_type": "code",
   "execution_count": 40,
   "metadata": {},
   "outputs": [
    {
     "data": {
      "text/plain": [
       "0.7908847184986595"
      ]
     },
     "execution_count": 40,
     "metadata": {},
     "output_type": "execute_result"
    }
   ],
   "source": [
    "np.max(acgl)\n",
    "np.max(a.iloc[:,3])"
   ]
  },
  {
   "cell_type": "code",
   "execution_count": 41,
   "metadata": {},
   "outputs": [
    {
     "data": {
      "text/html": [
       "<div>\n",
       "<style scoped>\n",
       "    .dataframe tbody tr th:only-of-type {\n",
       "        vertical-align: middle;\n",
       "    }\n",
       "\n",
       "    .dataframe tbody tr th {\n",
       "        vertical-align: top;\n",
       "    }\n",
       "\n",
       "    .dataframe thead tr th {\n",
       "        text-align: left;\n",
       "    }\n",
       "</style>\n",
       "<table border=\"1\" class=\"dataframe\">\n",
       "  <thead>\n",
       "    <tr>\n",
       "      <th></th>\n",
       "      <th>time</th>\n",
       "      <th>Whole</th>\n",
       "      <th>LH</th>\n",
       "      <th>RH</th>\n",
       "    </tr>\n",
       "    <tr>\n",
       "      <th></th>\n",
       "      <th>0</th>\n",
       "      <th>0</th>\n",
       "      <th>0</th>\n",
       "      <th>0</th>\n",
       "    </tr>\n",
       "  </thead>\n",
       "  <tbody>\n",
       "    <tr>\n",
       "      <th>0</th>\n",
       "      <td>0.0</td>\n",
       "      <td>0.742627</td>\n",
       "      <td>0.697051</td>\n",
       "      <td>0.726542</td>\n",
       "    </tr>\n",
       "    <tr>\n",
       "      <th>1</th>\n",
       "      <td>10.0</td>\n",
       "      <td>0.745308</td>\n",
       "      <td>0.672922</td>\n",
       "      <td>0.750670</td>\n",
       "    </tr>\n",
       "    <tr>\n",
       "      <th>2</th>\n",
       "      <td>20.0</td>\n",
       "      <td>0.798928</td>\n",
       "      <td>0.731903</td>\n",
       "      <td>0.790885</td>\n",
       "    </tr>\n",
       "    <tr>\n",
       "      <th>3</th>\n",
       "      <td>30.0</td>\n",
       "      <td>0.790885</td>\n",
       "      <td>0.772118</td>\n",
       "      <td>0.756032</td>\n",
       "    </tr>\n",
       "    <tr>\n",
       "      <th>4</th>\n",
       "      <td>40.0</td>\n",
       "      <td>0.772118</td>\n",
       "      <td>0.726542</td>\n",
       "      <td>0.750670</td>\n",
       "    </tr>\n",
       "    <tr>\n",
       "      <th>5</th>\n",
       "      <td>50.0</td>\n",
       "      <td>0.820375</td>\n",
       "      <td>0.790885</td>\n",
       "      <td>0.777480</td>\n",
       "    </tr>\n",
       "    <tr>\n",
       "      <th>6</th>\n",
       "      <td>60.0</td>\n",
       "      <td>0.777480</td>\n",
       "      <td>0.742627</td>\n",
       "      <td>0.785523</td>\n",
       "    </tr>\n",
       "    <tr>\n",
       "      <th>7</th>\n",
       "      <td>70.0</td>\n",
       "      <td>0.764075</td>\n",
       "      <td>0.726542</td>\n",
       "      <td>0.774799</td>\n",
       "    </tr>\n",
       "    <tr>\n",
       "      <th>8</th>\n",
       "      <td>80.0</td>\n",
       "      <td>0.772118</td>\n",
       "      <td>0.734584</td>\n",
       "      <td>0.707775</td>\n",
       "    </tr>\n",
       "    <tr>\n",
       "      <th>9</th>\n",
       "      <td>90.0</td>\n",
       "      <td>0.742627</td>\n",
       "      <td>0.651475</td>\n",
       "      <td>0.737265</td>\n",
       "    </tr>\n",
       "    <tr>\n",
       "      <th>10</th>\n",
       "      <td>100.0</td>\n",
       "      <td>0.777480</td>\n",
       "      <td>0.764075</td>\n",
       "      <td>0.758713</td>\n",
       "    </tr>\n",
       "    <tr>\n",
       "      <th>11</th>\n",
       "      <td>110.0</td>\n",
       "      <td>0.747989</td>\n",
       "      <td>0.699732</td>\n",
       "      <td>0.718499</td>\n",
       "    </tr>\n",
       "    <tr>\n",
       "      <th>12</th>\n",
       "      <td>120.0</td>\n",
       "      <td>0.758713</td>\n",
       "      <td>0.734584</td>\n",
       "      <td>0.753351</td>\n",
       "    </tr>\n",
       "    <tr>\n",
       "      <th>13</th>\n",
       "      <td>130.0</td>\n",
       "      <td>0.798928</td>\n",
       "      <td>0.686327</td>\n",
       "      <td>0.742627</td>\n",
       "    </tr>\n",
       "    <tr>\n",
       "      <th>14</th>\n",
       "      <td>140.0</td>\n",
       "      <td>0.758713</td>\n",
       "      <td>0.726542</td>\n",
       "      <td>0.723861</td>\n",
       "    </tr>\n",
       "    <tr>\n",
       "      <th>15</th>\n",
       "      <td>150.0</td>\n",
       "      <td>0.739946</td>\n",
       "      <td>0.710456</td>\n",
       "      <td>0.721180</td>\n",
       "    </tr>\n",
       "    <tr>\n",
       "      <th>16</th>\n",
       "      <td>160.0</td>\n",
       "      <td>0.742627</td>\n",
       "      <td>0.707775</td>\n",
       "      <td>0.683646</td>\n",
       "    </tr>\n",
       "    <tr>\n",
       "      <th>17</th>\n",
       "      <td>170.0</td>\n",
       "      <td>0.750670</td>\n",
       "      <td>0.750670</td>\n",
       "      <td>0.731903</td>\n",
       "    </tr>\n",
       "    <tr>\n",
       "      <th>18</th>\n",
       "      <td>180.0</td>\n",
       "      <td>0.745308</td>\n",
       "      <td>0.774799</td>\n",
       "      <td>0.715818</td>\n",
       "    </tr>\n",
       "    <tr>\n",
       "      <th>19</th>\n",
       "      <td>190.0</td>\n",
       "      <td>0.758713</td>\n",
       "      <td>0.705094</td>\n",
       "      <td>0.721180</td>\n",
       "    </tr>\n",
       "    <tr>\n",
       "      <th>20</th>\n",
       "      <td>200.0</td>\n",
       "      <td>0.796247</td>\n",
       "      <td>0.731903</td>\n",
       "      <td>0.761394</td>\n",
       "    </tr>\n",
       "  </tbody>\n",
       "</table>\n",
       "</div>"
      ],
      "text/plain": [
       "     time     Whole        LH        RH\n",
       "        0         0         0         0\n",
       "0     0.0  0.742627  0.697051  0.726542\n",
       "1    10.0  0.745308  0.672922  0.750670\n",
       "2    20.0  0.798928  0.731903  0.790885\n",
       "3    30.0  0.790885  0.772118  0.756032\n",
       "4    40.0  0.772118  0.726542  0.750670\n",
       "5    50.0  0.820375  0.790885  0.777480\n",
       "6    60.0  0.777480  0.742627  0.785523\n",
       "7    70.0  0.764075  0.726542  0.774799\n",
       "8    80.0  0.772118  0.734584  0.707775\n",
       "9    90.0  0.742627  0.651475  0.737265\n",
       "10  100.0  0.777480  0.764075  0.758713\n",
       "11  110.0  0.747989  0.699732  0.718499\n",
       "12  120.0  0.758713  0.734584  0.753351\n",
       "13  130.0  0.798928  0.686327  0.742627\n",
       "14  140.0  0.758713  0.726542  0.723861\n",
       "15  150.0  0.739946  0.710456  0.721180\n",
       "16  160.0  0.742627  0.707775  0.683646\n",
       "17  170.0  0.750670  0.750670  0.731903\n",
       "18  180.0  0.745308  0.774799  0.715818\n",
       "19  190.0  0.758713  0.705094  0.721180\n",
       "20  200.0  0.796247  0.731903  0.761394"
      ]
     },
     "execution_count": 41,
     "metadata": {},
     "output_type": "execute_result"
    }
   ],
   "source": [
    "a"
   ]
  },
  {
   "cell_type": "markdown",
   "metadata": {},
   "source": [
    "# Writing the csv data all"
   ]
  },
  {
   "cell_type": "code",
   "execution_count": 42,
   "metadata": {},
   "outputs": [],
   "source": [
    "# wpath=\"/home/sultan/EEG/Source_Level_Analysis/SVM_results/\"\n",
    "# dall=a\n",
    "# dall.to_csv(wpath+'svm_res_100sam_10ms_clear_v1.csv')"
   ]
  },
  {
   "cell_type": "code",
   "execution_count": 43,
   "metadata": {},
   "outputs": [
    {
     "data": {
      "image/png": "[encoded data removed]",
      "text/plain": [
       "<Figure size 432x288 with 1 Axes>"
      ]
     },
     "metadata": {
      "needs_background": "light"
     },
     "output_type": "display_data"
    }
   ],
   "source": [
    "axis_font = {'fontname':'Arial', 'size':'15'}\n",
    "#tw1=tad.iloc[1:,0];Acdw1=tad.iloc[1:,1];\n",
    "tw1=a.iloc[0:,0];Acdw=a.iloc[0:,1];Acdlh=a.iloc[0:,2];Acdrh=a.iloc[0:,3]\n",
    "# plt.plot(tw1,Acdw1,c='g')\n",
    "plt.plot(tw1,Acdw,'g',linewidth=2,marker='*')\n",
    "plt.plot(tw1, Acdlh,'--r',linewidth=2,marker='o')\n",
    "plt.plot(tw1, Acdrh,'--b',linewidth=2,marker='x')\n",
    "plt.title(\"100ms_10ms_clear\")\n",
    "plt.xlim(0,200)\n",
    "# plt.plot(tw1,Acdw1, 'k--', label='noise')\n",
    "# plt.xlabel('Time (ms)',**axis_font)\n",
    "# plt.ylabel('Accuracy (%)',**axis_font)\n",
    "# plt.title('Whole brain',**axis_font)\n",
    "# plt.yticks(**axis_font)\n",
    "# plt.xticks(**axis_font)\n",
    "plt.grid(True)\n",
    "plt.tight_layout()\n",
    "plt.gca().legend(('Whole','LH','RH'),fontsize=16,loc='best')\n",
    "# plt.savefig('whole_acc_timem.eps')\n",
    "# plt.savefig('whole_acc_timem.tif')\n",
    "plt.show()"
   ]
  },
  {
   "cell_type": "code",
   "execution_count": 44,
   "metadata": {},
   "outputs": [
    {
     "data": {
      "text/plain": [
       "56.51006711409396"
      ]
     },
     "execution_count": 44,
     "metadata": {},
     "output_type": "execute_result"
    }
   ],
   "source": [
    "len(clf.best_estimator_.support_vectors_)*100.0/(X_train.shape[0])"
   ]
  },
  {
   "cell_type": "code",
   "execution_count": 45,
   "metadata": {},
   "outputs": [],
   "source": [
    "# dall"
   ]
  },
  {
   "cell_type": "code",
   "execution_count": 46,
   "metadata": {},
   "outputs": [
    {
     "data": {
      "text/plain": [
       "(1490, 714)"
      ]
     },
     "execution_count": 46,
     "metadata": {},
     "output_type": "execute_result"
    }
   ],
   "source": [
    "X_train.shape"
   ]
  },
  {
   "cell_type": "code",
   "execution_count": 48,
   "metadata": {},
   "outputs": [],
   "source": [
    "# wpath=\"/home/sultan/EEG/Source_Level_Analysis/SVM_results/\"\n",
    "# dall=a\n",
    "# dall.to_csv(wpath+'svm_res_100sam_10ms_clear_v2.csv')"
   ]
  },
  {
   "cell_type": "code",
   "execution_count": null,
   "metadata": {},
   "outputs": [],
   "source": []
  }
 ],
 "metadata": {
  "kernelspec": {
   "display_name": "Python 2",
   "language": "python",
   "name": "python2"
  },
  "language_info": {
   "codemirror_mode": {
    "name": "ipython",
    "version": 2
   },
   "file_extension": ".py",
   "mimetype": "text/x-python",
   "name": "python",
   "nbconvert_exporter": "python",
   "pygments_lexer": "ipython2",
   "version": "2.7.6"
  }
 },
 "nbformat": 4,
 "nbformat_minor": 2
}
