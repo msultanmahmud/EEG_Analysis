{
 "cells": [
  {
   "cell_type": "code",
   "execution_count": 1,
   "metadata": {},
   "outputs": [],
   "source": [
    "import numpy as np\n",
    "import pandas as pd\n",
    "from sklearn import svm, metrics,preprocessing\n",
    "#from sklearn import datasets\n",
    "from sklearn.model_selection import train_test_split, GridSearchCV\n",
    "from sklearn.metrics import accuracy_score,confusion_matrix,roc_curve, auc\n",
    "from matplotlib import pyplot as plt\n",
    "from collections import Counter\n",
    "from scipy.stats import norm\n",
    "# import seaborn as sns; sns.set(font_scale=1.2)\n",
    "%matplotlib inline"
   ]
  },
  {
   "cell_type": "code",
   "execution_count": 2,
   "metadata": {},
   "outputs": [],
   "source": [
    "# path='/home/sultan/EEG/Source_Level_Analysis/25sam_10ms_clear_all_erp.csv'\n",
    "# path='/home/sultan/EEG/Source_Level_Analysis/50tr10ms_all_clear_erp.csv'\n",
    "# path=\"/home/sultan/EEG/Source_Level_Analysis/75sam_10ms_clear_all_erp.csv\"\n",
    "path=\"/home/sultan/EEG/Source_Level_Analysis/100sam_10ms_clear_all_erp.csv\"\n",
    "dataset =pd.read_csv(path)"
   ]
  },
  {
   "cell_type": "code",
   "execution_count": 3,
   "metadata": {},
   "outputs": [],
   "source": [
    "Xc=dataset.iloc[:,2:].values\n",
    "y=dataset.iloc[:,1].values\n",
    "scaler = preprocessing.StandardScaler()\n",
    "X = scaler.fit_transform(Xc)"
   ]
  },
  {
   "cell_type": "code",
   "execution_count": 4,
   "metadata": {},
   "outputs": [],
   "source": [
    "X_train, X_test, y_train, y_test = train_test_split(X,y, test_size=.20, random_state=40) "
   ]
  },
  {
   "cell_type": "code",
   "execution_count": 5,
   "metadata": {},
   "outputs": [
    {
     "data": {
      "text/plain": [
       "((501, 1428), (501,))"
      ]
     },
     "execution_count": 5,
     "metadata": {},
     "output_type": "execute_result"
    }
   ],
   "source": [
    "X_test.shape, y_test.shape"
   ]
  },
  {
   "cell_type": "code",
   "execution_count": 6,
   "metadata": {},
   "outputs": [
    {
     "data": {
      "text/plain": [
       "(array([0., 1.]), array([207, 294]))"
      ]
     },
     "execution_count": 6,
     "metadata": {},
     "output_type": "execute_result"
    }
   ],
   "source": [
    "np.unique(y_test)\n",
    "np.unique(y_test,return_counts=True)"
   ]
  },
  {
   "cell_type": "markdown",
   "metadata": {},
   "source": [
    "# Grid search"
   ]
  },
  {
   "cell_type": "code",
   "execution_count": 7,
   "metadata": {},
   "outputs": [
    {
     "data": {
      "text/plain": [
       "GridSearchCV(cv=5, error_score='raise',\n",
       "       estimator=SVC(C=1.0, cache_size=200, class_weight=None, coef0=0.0,\n",
       "  decision_function_shape='ovr', degree=3, gamma='auto', kernel='rbf',\n",
       "  max_iter=-1, probability=False, random_state=None, shrinking=True,\n",
       "  tol=0.001, verbose=False),\n",
       "       fit_params=None, iid=True, n_jobs=1,\n",
       "       param_grid={'kernel': ['rbf'], 'C': [1, 6.5, 10, 20, 100, 1000], 'gamma': [0.01, 0.002, 0.00069, 0.0007, 0.0005]},\n",
       "       pre_dispatch='2*n_jobs', refit=True, return_train_score='warn',\n",
       "       scoring=None, verbose=0)"
      ]
     },
     "execution_count": 7,
     "metadata": {},
     "output_type": "execute_result"
    }
   ],
   "source": [
    "cv=5\n",
    "from sklearn.model_selection import GridSearchCV\n",
    "# parameters = {'kernel':['rbf'], 'C':[1, 6.5, 10,20,100,1000],'gamma':[0.01,2/1428.0,1/1428.0]}\n",
    "parameters = {'kernel':['rbf'], 'C':[1, 6.5, 10,20,100,1000],'gamma':[0.01,0.002,0.00069,0.0007,0.0005]}\n",
    "svc = svm.SVC()\n",
    "clf = GridSearchCV(svc, parameters,cv=cv)\n",
    "clf.fit(X_train, y_train)"
   ]
  },
  {
   "cell_type": "code",
   "execution_count": 8,
   "metadata": {},
   "outputs": [],
   "source": [
    "# cv=5\n",
    "# from sklearn.model_selection import GridSearchCV\n",
    "# parameters = {'kernel':['rbf'], 'C':[0.90,1.00,1.25],'gamma':[3.0,3.25,3.25 ]}\n",
    "# svc = svm.SVC()\n",
    "# clf = GridSearchCV(svc, parameters,cv=cv)\n",
    "# clf.fit(X_train, y_train)"
   ]
  },
  {
   "cell_type": "code",
   "execution_count": 9,
   "metadata": {},
   "outputs": [],
   "source": [
    "# # Average Scores\n",
    "# #  print clf.cv_results_\n",
    "# # clf.best_estimator_\n",
    "# # np.mean\n",
    "# scores=clf.cv_results_['mean_test_score']\n",
    "# print(\"Accuracy:%0.3f (+/-%0.3f)\" %(scores.mean(), scores.std()*2))"
   ]
  },
  {
   "cell_type": "code",
   "execution_count": 10,
   "metadata": {
    "scrolled": true
   },
   "outputs": [
    {
     "name": "stdout",
     "output_type": "stream",
     "text": [
      "Accuracy: 0.9121756487025948\n",
      "0.9121756487025948\n",
      "support: 63.123752495\n"
     ]
    }
   ],
   "source": [
    "pred=clf.best_estimator_.predict(X_test)\n",
    "acc1=accuracy_score(y_test, pred)\n",
    "print \"Accuracy:\", clf.score(X_test, y_test) \n",
    "print acc1\n",
    "# print pred\n",
    "# print y_test\n",
    "print \"support:\", len(clf.best_estimator_.support_vectors_)*100.0/(X_train.shape[0])"
   ]
  },
  {
   "cell_type": "code",
   "execution_count": 11,
   "metadata": {},
   "outputs": [
    {
     "data": {
      "text/plain": [
       "array([[177,  30],\n",
       "       [ 14, 280]])"
      ]
     },
     "execution_count": 11,
     "metadata": {},
     "output_type": "execute_result"
    }
   ],
   "source": [
    "conf_mat=confusion_matrix(y_test,pred)\n",
    "conf_mat"
   ]
  },
  {
   "cell_type": "code",
   "execution_count": 12,
   "metadata": {},
   "outputs": [
    {
     "name": "stdout",
     "output_type": "stream",
     "text": [
      "             precision    recall  f1-score   support\n",
      "\n",
      "        0.0       0.93      0.86      0.89       207\n",
      "        1.0       0.90      0.95      0.93       294\n",
      "\n",
      "avg / total       0.91      0.91      0.91       501\n",
      "\n"
     ]
    }
   ],
   "source": [
    "from sklearn.metrics import classification_report\n",
    "#target_names = ['class 0', 'class 1', 'class 2']\n",
    "print(classification_report(y_test, pred))"
   ]
  },
  {
   "cell_type": "code",
   "execution_count": 13,
   "metadata": {},
   "outputs": [
    {
     "data": {
      "text/plain": [
       "0.9037267080745341"
      ]
     },
     "execution_count": 13,
     "metadata": {},
     "output_type": "execute_result"
    }
   ],
   "source": [
    "false_positive_rate, true_positive_rate, thresholds = roc_curve(y_test,pred)\n",
    "roc_auc = auc(false_positive_rate, true_positive_rate)\n",
    "roc_auc"
   ]
  },
  {
   "cell_type": "code",
   "execution_count": 14,
   "metadata": {},
   "outputs": [
    {
     "data": {
      "text/plain": [
       "0.9037267080745341"
      ]
     },
     "execution_count": 14,
     "metadata": {},
     "output_type": "execute_result"
    }
   ],
   "source": [
    "fpr, tpr, thresholds = metrics.roc_curve(y_test,pred)\n",
    "roc_auc=metrics.auc(fpr, tpr)\n",
    "roc_auc"
   ]
  },
  {
   "cell_type": "code",
   "execution_count": 15,
   "metadata": {},
   "outputs": [
    {
     "data": {
      "text/plain": [
       "SVC(C=6.5, cache_size=200, class_weight=None, coef0=0.0,\n",
       "  decision_function_shape='ovr', degree=3, gamma=0.0007, kernel='rbf',\n",
       "  max_iter=-1, probability=False, random_state=None, shrinking=True,\n",
       "  tol=0.001, verbose=False)"
      ]
     },
     "execution_count": 15,
     "metadata": {},
     "output_type": "execute_result"
    }
   ],
   "source": [
    "clf.best_estimator_"
   ]
  },
  {
   "cell_type": "code",
   "execution_count": 16,
   "metadata": {},
   "outputs": [],
   "source": [
    "# cv=5\n",
    "# from sklearn.model_selection import GridSearchCV\n",
    "# parameters = {'kernel':['rbf'], 'C':[1],'gamma':[0.01 ]}\n",
    "# svc = svm.SVC()\n",
    "# clf = GridSearchCV(svc, parameters,cv=cv)\n",
    "# clf.fit(X_train, y_train)"
   ]
  },
  {
   "cell_type": "markdown",
   "metadata": {},
   "source": [
    "# Bayesian Optimization"
   ]
  },
  {
   "cell_type": "code",
   "execution_count": 17,
   "metadata": {},
   "outputs": [
    {
     "name": "stdout",
     "output_type": "stream",
     "text": [
      "0.9181636726546906\n",
      "             precision    recall  f1-score   support\n",
      "\n",
      "        0.0       0.92      0.88      0.90       207\n",
      "        1.0       0.92      0.95      0.93       294\n",
      "\n",
      "avg / total       0.92      0.92      0.92       501\n",
      "\n"
     ]
    }
   ],
   "source": [
    "cv=5\n",
    "from sklearn.model_selection import GridSearchCV\n",
    "parameters = {'kernel':['rbf'], 'C':[1,5,10*.65,10**0.651,7,8],'gamma':[0.1,0.0005,0.000612,0.0006815,10**-3.20]}\n",
    "svc = svm.SVC()\n",
    "clf = GridSearchCV(svc, parameters,cv=cv)\n",
    "clf.fit(X_train, y_train)\n",
    "pred=clf.best_estimator_.predict(X_test)\n",
    "print clf.score(X_test, y_test)  \n",
    "# print pred\n",
    "# print y_test\n",
    "print(classification_report(y_test, pred))"
   ]
  },
  {
   "cell_type": "code",
   "execution_count": 18,
   "metadata": {},
   "outputs": [
    {
     "data": {
      "text/plain": [
       "0.9124026422163068"
      ]
     },
     "execution_count": 18,
     "metadata": {},
     "output_type": "execute_result"
    }
   ],
   "source": [
    "false_positive_rate, true_positive_rate, thresholds = roc_curve(y_test,pred)\n",
    "roc_auc = auc(false_positive_rate, true_positive_rate)\n",
    "roc_auc"
   ]
  },
  {
   "cell_type": "code",
   "execution_count": 19,
   "metadata": {},
   "outputs": [
    {
     "data": {
      "text/plain": [
       "SVC(C=5, cache_size=200, class_weight=None, coef0=0.0,\n",
       "  decision_function_shape='ovr', degree=3, gamma=0.000612, kernel='rbf',\n",
       "  max_iter=-1, probability=False, random_state=None, shrinking=True,\n",
       "  tol=0.001, verbose=False)"
      ]
     },
     "execution_count": 19,
     "metadata": {},
     "output_type": "execute_result"
    }
   ],
   "source": [
    "clf.best_estimator_"
   ]
  },
  {
   "cell_type": "code",
   "execution_count": 20,
   "metadata": {},
   "outputs": [
    {
     "name": "stdout",
     "output_type": "stream",
     "text": [
      "Accuracy: 0.9181636726546906\n",
      "support: 60.129740519\n"
     ]
    }
   ],
   "source": [
    "pred=clf.best_estimator_.predict(X_test)\n",
    "print \"Accuracy:\", clf.score(X_test, y_test)  \n",
    "# print pred\n",
    "# print y_test\n",
    "print \"support:\", len(clf.best_estimator_.support_vectors_)*100.0/(X_train.shape[0])"
   ]
  },
  {
   "cell_type": "code",
   "execution_count": null,
   "metadata": {},
   "outputs": [],
   "source": []
  },
  {
   "cell_type": "code",
   "execution_count": 21,
   "metadata": {},
   "outputs": [],
   "source": [
    "# pred=clf.best_estimator_.predict(X_test)\n",
    "# clf.score(X_test, y_test)  \n",
    "# # print pred\n",
    "# # print y_test"
   ]
  },
  {
   "cell_type": "code",
   "execution_count": 22,
   "metadata": {},
   "outputs": [],
   "source": [
    "# k=0;j=68;\n",
    "# for i in range(0,21):\n",
    "#     print k,j\n",
    "#     k=k+68;j=j+68;"
   ]
  },
  {
   "cell_type": "code",
   "execution_count": 23,
   "metadata": {},
   "outputs": [
    {
     "name": "stdout",
     "output_type": "stream",
     "text": [
      "Accuracy: 0.7504990019960079\n",
      "ROC 0.7566794833875579\n",
      "             precision    recall  f1-score   support\n",
      "\n",
      "        0.0       0.67      0.79      0.72       207\n",
      "        1.0       0.83      0.72      0.77       294\n",
      "\n",
      "avg / total       0.76      0.75      0.75       501\n",
      "\n",
      "0 68\n",
      "Accuracy: 0.782435129740519\n",
      "ROC 0.7846051464063886\n",
      "             precision    recall  f1-score   support\n",
      "\n",
      "        0.0       0.71      0.80      0.75       207\n",
      "        1.0       0.84      0.77      0.81       294\n",
      "\n",
      "avg / total       0.79      0.78      0.78       501\n",
      "\n",
      "68 136\n",
      "Accuracy: 0.8063872255489022\n",
      "ROC 0.8042985310066054\n",
      "             precision    recall  f1-score   support\n",
      "\n",
      "        0.0       0.75      0.79      0.77       207\n",
      "        1.0       0.85      0.82      0.83       294\n",
      "\n",
      "avg / total       0.81      0.81      0.81       501\n",
      "\n",
      "136 204\n",
      "Accuracy: 0.8163672654690619\n",
      "ROC 0.8199497190180419\n",
      "             precision    recall  f1-score   support\n",
      "\n",
      "        0.0       0.75      0.84      0.79       207\n",
      "        1.0       0.88      0.80      0.84       294\n",
      "\n",
      "avg / total       0.82      0.82      0.82       501\n",
      "\n",
      "204 272\n",
      "Accuracy: 0.8003992015968064\n",
      "ROC 0.7934782608695653\n",
      "             precision    recall  f1-score   support\n",
      "\n",
      "        0.0       0.76      0.75      0.76       207\n",
      "        1.0       0.83      0.83      0.83       294\n",
      "\n",
      "avg / total       0.80      0.80      0.80       501\n",
      "\n",
      "272 340\n",
      "Accuracy: 0.7964071856287425\n",
      "ROC 0.7922212363206151\n",
      "             precision    recall  f1-score   support\n",
      "\n",
      "        0.0       0.75      0.77      0.76       207\n",
      "        1.0       0.83      0.82      0.82       294\n",
      "\n",
      "avg / total       0.80      0.80      0.80       501\n",
      "\n",
      "340 408\n",
      "Accuracy: 0.8263473053892215\n",
      "ROC 0.8284531203785862\n",
      "             precision    recall  f1-score   support\n",
      "\n",
      "        0.0       0.76      0.84      0.80       207\n",
      "        1.0       0.88      0.82      0.85       294\n",
      "\n",
      "avg / total       0.83      0.83      0.83       501\n",
      "\n",
      "408 476\n",
      "Accuracy: 0.812375249500998\n",
      "ROC 0.8086857931578427\n",
      "             precision    recall  f1-score   support\n",
      "\n",
      "        0.0       0.77      0.79      0.78       207\n",
      "        1.0       0.85      0.83      0.84       294\n",
      "\n",
      "avg / total       0.81      0.81      0.81       501\n",
      "\n",
      "476 544\n",
      "Accuracy: 0.7644710578842315\n",
      "ROC 0.7621512373065168\n",
      "             precision    recall  f1-score   support\n",
      "\n",
      "        0.0       0.70      0.75      0.72       207\n",
      "        1.0       0.81      0.78      0.79       294\n",
      "\n",
      "avg / total       0.77      0.76      0.77       501\n",
      "\n",
      "544 612\n",
      "Accuracy: 0.7544910179640718\n",
      "ROC 0.7529330572808833\n",
      "             precision    recall  f1-score   support\n",
      "\n",
      "        0.0       0.69      0.74      0.71       207\n",
      "        1.0       0.81      0.76      0.78       294\n",
      "\n",
      "avg / total       0.76      0.75      0.76       501\n",
      "\n",
      "612 680\n",
      "Accuracy: 0.7604790419161677\n",
      "ROC 0.7644681060830129\n",
      "             precision    recall  f1-score   support\n",
      "\n",
      "        0.0       0.68      0.79      0.73       207\n",
      "        1.0       0.83      0.74      0.78       294\n",
      "\n",
      "avg / total       0.77      0.76      0.76       501\n",
      "\n",
      "680 748\n",
      "Accuracy: 0.7844311377245509\n",
      "ROC 0.7798728186926945\n",
      "             precision    recall  f1-score   support\n",
      "\n",
      "        0.0       0.73      0.75      0.74       207\n",
      "        1.0       0.82      0.81      0.81       294\n",
      "\n",
      "avg / total       0.79      0.78      0.78       501\n",
      "\n",
      "748 816\n",
      "Accuracy: 0.7664670658682635\n",
      "ROC 0.7695701468993394\n",
      "             precision    recall  f1-score   support\n",
      "\n",
      "        0.0       0.69      0.79      0.74       207\n",
      "        1.0       0.83      0.75      0.79       294\n",
      "\n",
      "avg / total       0.77      0.77      0.77       501\n",
      "\n",
      "816 884\n",
      "Accuracy: 0.7884231536926147\n",
      "ROC 0.7875628512274476\n",
      "             precision    recall  f1-score   support\n",
      "\n",
      "        0.0       0.73      0.78      0.75       207\n",
      "        1.0       0.84      0.79      0.81       294\n",
      "\n",
      "avg / total       0.79      0.79      0.79       501\n",
      "\n",
      "884 952\n",
      "Accuracy: 0.7564870259481038\n",
      "ROC 0.7496302868973677\n",
      "             precision    recall  f1-score   support\n",
      "\n",
      "        0.0       0.70      0.71      0.71       207\n",
      "        1.0       0.79      0.79      0.79       294\n",
      "\n",
      "avg / total       0.76      0.76      0.76       501\n",
      "\n",
      "952 1020\n",
      "Accuracy: 0.7904191616766467\n",
      "ROC 0.7906930888297348\n",
      "             precision    recall  f1-score   support\n",
      "\n",
      "        0.0       0.73      0.79      0.76       207\n",
      "        1.0       0.84      0.79      0.82       294\n",
      "\n",
      "avg / total       0.79      0.79      0.79       501\n",
      "\n",
      "1020 1088\n",
      "Accuracy: 0.8003992015968064\n",
      "ROC 0.8006260475204574\n",
      "             precision    recall  f1-score   support\n",
      "\n",
      "        0.0       0.74      0.80      0.77       207\n",
      "        1.0       0.85      0.80      0.82       294\n",
      "\n",
      "avg / total       0.80      0.80      0.80       501\n",
      "\n",
      "1088 1156\n",
      "Accuracy: 0.7644710578842315\n",
      "ROC 0.7642955733017845\n",
      "             precision    recall  f1-score   support\n",
      "\n",
      "        0.0       0.70      0.76      0.73       207\n",
      "        1.0       0.82      0.77      0.79       294\n",
      "\n",
      "avg / total       0.77      0.76      0.77       501\n",
      "\n",
      "1156 1224\n",
      "Accuracy: 0.7604790419161677\n",
      "ROC 0.7573203194321205\n",
      "             precision    recall  f1-score   support\n",
      "\n",
      "        0.0       0.70      0.74      0.72       207\n",
      "        1.0       0.81      0.78      0.79       294\n",
      "\n",
      "avg / total       0.76      0.76      0.76       501\n",
      "\n",
      "1224 1292\n",
      "Accuracy: 0.7904191616766467\n",
      "ROC 0.7949817608202702\n",
      "             precision    recall  f1-score   support\n",
      "\n",
      "        0.0       0.71      0.82      0.76       207\n",
      "        1.0       0.86      0.77      0.81       294\n",
      "\n",
      "avg / total       0.80      0.79      0.79       501\n",
      "\n",
      "1292 1360\n",
      "Accuracy: 0.7604790419161677\n",
      "ROC 0.7544612047717637\n",
      "             precision    recall  f1-score   support\n",
      "\n",
      "        0.0       0.71      0.72      0.71       207\n",
      "        1.0       0.80      0.79      0.79       294\n",
      "\n",
      "avg / total       0.76      0.76      0.76       501\n",
      "\n",
      "1360 1428\n"
     ]
    }
   ],
   "source": [
    "k=0;j=68; acgw=[];pmw=[];aucw=[];\n",
    "for i in range(0,21):\n",
    "    cv=5\n",
    "    from sklearn.model_selection import GridSearchCV\n",
    "    parameters = {'kernel':['rbf'], 'C':[1, 10,20,30, 40, 50, 60, 70, 90,100,1000],'gamma':[0.01,0.0147, 0.016, 0.019, 0.021, 2/1428.0,1/1428.0]}\n",
    "    svc = svm.SVC()\n",
    "    clf = GridSearchCV(svc, parameters,cv=cv)\n",
    "    clf.fit(X_train[:,k:j], y_train)\n",
    "    pred=clf.best_estimator_.predict(X_test[:,k:j])\n",
    "    acc=clf.score(X_test[:,k:j], y_test)\n",
    "    acgw=np.append(acgw,acc)\n",
    "    print \"Accuracy:\",acc\n",
    "    perf=classification_report(y_test, pred)\n",
    "    pmw.append(perf)\n",
    "    fpr, tpr, thresholds = metrics.roc_curve(y_test,pred)\n",
    "    roc_auc=metrics.auc(fpr, tpr)\n",
    "    roc_auc\n",
    "    aucw.append(roc_auc)\n",
    "    print\"ROC\", roc_auc\n",
    "    print perf\n",
    "    print k,j\n",
    "    k=k+68;j=j+68;\n",
    "#     scores=clf.cv_results_['mean_test_score']\n",
    "#     print(\"Accuracy:%0.3f (+/-%0.3f)\" %(scores.mean(), scores.std()*2))"
   ]
  },
  {
   "cell_type": "code",
   "execution_count": 24,
   "metadata": {},
   "outputs": [
    {
     "data": {
      "text/plain": [
       "SVC(C=30, cache_size=200, class_weight=None, coef0=0.0,\n",
       "  decision_function_shape='ovr', degree=3, gamma=0.016, kernel='rbf',\n",
       "  max_iter=-1, probability=False, random_state=None, shrinking=True,\n",
       "  tol=0.001, verbose=False)"
      ]
     },
     "execution_count": 24,
     "metadata": {},
     "output_type": "execute_result"
    }
   ],
   "source": [
    "clf.best_estimator_"
   ]
  },
  {
   "cell_type": "code",
   "execution_count": 25,
   "metadata": {},
   "outputs": [
    {
     "data": {
      "text/plain": [
       "(501, 68)"
      ]
     },
     "execution_count": 25,
     "metadata": {},
     "output_type": "execute_result"
    }
   ],
   "source": [
    "yr=X_test[:,0:68]\n",
    "yr.shape"
   ]
  },
  {
   "cell_type": "code",
   "execution_count": 26,
   "metadata": {},
   "outputs": [],
   "source": [
    "dataset\n",
    "Xc=dataset.iloc[:,2:].values\n",
    "y=dataset.iloc[:,1].values\n",
    "# Xc"
   ]
  },
  {
   "cell_type": "code",
   "execution_count": 27,
   "metadata": {},
   "outputs": [
    {
     "data": {
      "text/plain": [
       "0.8263473053892215"
      ]
     },
     "execution_count": 27,
     "metadata": {},
     "output_type": "execute_result"
    }
   ],
   "source": [
    "X.shape\n",
    "np.max(acgw)"
   ]
  },
  {
   "cell_type": "markdown",
   "metadata": {},
   "source": [
    "# Hemisphere"
   ]
  },
  {
   "cell_type": "code",
   "execution_count": 28,
   "metadata": {},
   "outputs": [
    {
     "name": "stdout",
     "output_type": "stream",
     "text": [
      "0.8942115768463074\n",
      "0.8855614709651976\n",
      "             precision    recall  f1-score   support\n",
      "\n",
      "        0.0       0.90      0.84      0.87       207\n",
      "        1.0       0.89      0.94      0.91       294\n",
      "\n",
      "avg / total       0.89      0.89      0.89       501\n",
      "\n"
     ]
    }
   ],
   "source": [
    "a=range(0,(X.shape[1]),2)\n",
    "d11=X[:,a];\n",
    "X_train, X_test, y_train, y_test = train_test_split(d11,y, test_size=.20, random_state=40) \n",
    "cv=5\n",
    "from sklearn.model_selection import GridSearchCV\n",
    "# parameters = {'kernel':['rbf'], 'C':[1, 10,100,1000],'gamma':[0.01,2/1428.0,1/1428.0]}\n",
    "parameters = {'kernel':['rbf'], 'C':[1, 10,20,30, 40, 50, 60, 70, 90,100,1000],'gamma':[0.01,0.0147, 0.016, 0.019, 0.021, 2/1428.0,1/1428.0]}\n",
    "svc = svm.SVC()\n",
    "clf = GridSearchCV(svc, parameters,cv=cv)\n",
    "clf.fit(X_train, y_train)\n",
    "pred=clf.best_estimator_.predict(X_test)\n",
    "print clf.score(X_test, y_test)  \n",
    "fpr, tpr, thresholds = metrics.roc_curve(y_test,pred)\n",
    "roc_auc=metrics.auc(fpr, tpr)\n",
    "roc_auc\n",
    "print roc_auc\n",
    "# print pred\n",
    "# print y_test\n",
    "print(classification_report(y_test, pred))"
   ]
  },
  {
   "cell_type": "code",
   "execution_count": 29,
   "metadata": {},
   "outputs": [
    {
     "data": {
      "text/plain": [
       "0.8855614709651976"
      ]
     },
     "execution_count": 29,
     "metadata": {},
     "output_type": "execute_result"
    }
   ],
   "source": [
    "false_positive_rate, true_positive_rate, thresholds = roc_curve(y_test,pred)\n",
    "roc_auc = auc(false_positive_rate, true_positive_rate)\n",
    "roc_auc"
   ]
  },
  {
   "cell_type": "code",
   "execution_count": 30,
   "metadata": {},
   "outputs": [
    {
     "name": "stdout",
     "output_type": "stream",
     "text": [
      "Accuracy: 0.8942115768463074\n",
      "support: 60.7784431138\n"
     ]
    }
   ],
   "source": [
    "pred=clf.best_estimator_.predict(X_test)\n",
    "print \"Accuracy:\", clf.score(X_test, y_test)  \n",
    "# print pred\n",
    "# print y_test\n",
    "print \"support:\", len(clf.best_estimator_.support_vectors_)*100.0/(X_train.shape[0])"
   ]
  },
  {
   "cell_type": "code",
   "execution_count": 31,
   "metadata": {},
   "outputs": [
    {
     "data": {
      "text/plain": [
       "SVC(C=10, cache_size=200, class_weight=None, coef0=0.0,\n",
       "  decision_function_shape='ovr', degree=3, gamma=0.00140056022409,\n",
       "  kernel='rbf', max_iter=-1, probability=False, random_state=None,\n",
       "  shrinking=True, tol=0.001, verbose=False)"
      ]
     },
     "execution_count": 31,
     "metadata": {},
     "output_type": "execute_result"
    }
   ],
   "source": [
    "clf.best_estimator_"
   ]
  },
  {
   "cell_type": "code",
   "execution_count": 32,
   "metadata": {},
   "outputs": [
    {
     "name": "stdout",
     "output_type": "stream",
     "text": [
      "Accuracy: 0.7265469061876247\n",
      "ROC: 0.7284087548062703\n",
      "             precision    recall  f1-score   support\n",
      "\n",
      "        0.0       0.65      0.74      0.69       207\n",
      "        1.0       0.80      0.72      0.75       294\n",
      "\n",
      "avg / total       0.74      0.73      0.73       501\n",
      "\n",
      "0 34\n",
      "Accuracy: 0.7465069860279441\n",
      "ROC: 0.7482746721877158\n",
      "             precision    recall  f1-score   support\n",
      "\n",
      "        0.0       0.67      0.76      0.71       207\n",
      "        1.0       0.81      0.74      0.77       294\n",
      "\n",
      "avg / total       0.75      0.75      0.75       501\n",
      "\n",
      "34 68\n",
      "Accuracy: 0.782435129740519\n",
      "ROC: 0.7803164744158533\n",
      "             precision    recall  f1-score   support\n",
      "\n",
      "        0.0       0.72      0.77      0.74       207\n",
      "        1.0       0.83      0.79      0.81       294\n",
      "\n",
      "avg / total       0.79      0.78      0.78       501\n",
      "\n",
      "68 102\n",
      "Accuracy: 0.7584830339321357\n",
      "ROC: 0.7606230898156364\n",
      "             precision    recall  f1-score   support\n",
      "\n",
      "        0.0       0.68      0.77      0.73       207\n",
      "        1.0       0.82      0.75      0.78       294\n",
      "\n",
      "avg / total       0.77      0.76      0.76       501\n",
      "\n",
      "102 136\n",
      "Accuracy: 0.7624750499001997\n",
      "ROC: 0.7590209997042295\n",
      "             precision    recall  f1-score   support\n",
      "\n",
      "        0.0       0.70      0.74      0.72       207\n",
      "        1.0       0.81      0.78      0.79       294\n",
      "\n",
      "avg / total       0.76      0.76      0.76       501\n",
      "\n",
      "136 170\n",
      "Accuracy: 0.7864271457085829\n",
      "ROC: 0.7801439416346249\n",
      "             precision    recall  f1-score   support\n",
      "\n",
      "        0.0       0.74      0.74      0.74       207\n",
      "        1.0       0.82      0.82      0.82       294\n",
      "\n",
      "avg / total       0.79      0.79      0.79       501\n",
      "\n",
      "170 204\n",
      "Accuracy: 0.782435129740519\n",
      "ROC: 0.7738834664300502\n",
      "             precision    recall  f1-score   support\n",
      "\n",
      "        0.0       0.74      0.72      0.73       207\n",
      "        1.0       0.81      0.82      0.82       294\n",
      "\n",
      "avg / total       0.78      0.78      0.78       501\n",
      "\n",
      "204 238\n",
      "Accuracy: 0.7704590818363274\n",
      "ROC: 0.7651089421275756\n",
      "             precision    recall  f1-score   support\n",
      "\n",
      "        0.0       0.72      0.73      0.73       207\n",
      "        1.0       0.81      0.80      0.80       294\n",
      "\n",
      "avg / total       0.77      0.77      0.77       501\n",
      "\n",
      "238 272\n",
      "Accuracy: 0.7345309381237525\n",
      "ROC: 0.7316375825692596\n",
      "             precision    recall  f1-score   support\n",
      "\n",
      "        0.0       0.67      0.71      0.69       207\n",
      "        1.0       0.79      0.75      0.77       294\n",
      "\n",
      "avg / total       0.74      0.73      0.74       501\n",
      "\n",
      "272 306\n",
      "Accuracy: 0.716566866267465\n",
      "ROC: 0.7134723454599231\n",
      "             precision    recall  f1-score   support\n",
      "\n",
      "        0.0       0.65      0.70      0.67       207\n",
      "        1.0       0.77      0.73      0.75       294\n",
      "\n",
      "avg / total       0.72      0.72      0.72       501\n",
      "\n",
      "306 340\n",
      "Accuracy: 0.7225548902195609\n",
      "ROC: 0.7057083703046436\n",
      "             precision    recall  f1-score   support\n",
      "\n",
      "        0.0       0.68      0.61      0.64       207\n",
      "        1.0       0.74      0.80      0.77       294\n",
      "\n",
      "avg / total       0.72      0.72      0.72       501\n",
      "\n",
      "340 374\n",
      "Accuracy: 0.7564870259481038\n",
      "ROC: 0.7553485162180814\n",
      "             precision    recall  f1-score   support\n",
      "\n",
      "        0.0       0.69      0.75      0.72       207\n",
      "        1.0       0.81      0.76      0.79       294\n",
      "\n",
      "avg / total       0.76      0.76      0.76       501\n",
      "\n",
      "374 408\n",
      "Accuracy: 0.7365269461077845\n",
      "ROC: 0.7426303854875282\n",
      "             precision    recall  f1-score   support\n",
      "\n",
      "        0.0       0.65      0.78      0.71       207\n",
      "        1.0       0.82      0.71      0.76       294\n",
      "\n",
      "avg / total       0.75      0.74      0.74       501\n",
      "\n",
      "408 442\n",
      "Accuracy: 0.7425149700598802\n",
      "ROC: 0.7405846396529627\n",
      "             precision    recall  f1-score   support\n",
      "\n",
      "        0.0       0.67      0.73      0.70       207\n",
      "        1.0       0.80      0.75      0.77       294\n",
      "\n",
      "avg / total       0.75      0.74      0.74       501\n",
      "\n",
      "442 476\n",
      "Accuracy: 0.720558882235529\n",
      "ROC: 0.7154441486739622\n",
      "             precision    recall  f1-score   support\n",
      "\n",
      "        0.0       0.65      0.69      0.67       207\n",
      "        1.0       0.77      0.74      0.76       294\n",
      "\n",
      "avg / total       0.72      0.72      0.72       501\n",
      "\n",
      "476 510\n",
      "Accuracy: 0.7285429141716567\n",
      "ROC: 0.7272503204180223\n",
      "             precision    recall  f1-score   support\n",
      "\n",
      "        0.0       0.66      0.72      0.69       207\n",
      "        1.0       0.79      0.73      0.76       294\n",
      "\n",
      "avg / total       0.73      0.73      0.73       501\n",
      "\n",
      "510 544\n",
      "Accuracy: 0.7305389221556886\n",
      "ROC: 0.7203736567090606\n",
      "             precision    recall  f1-score   support\n",
      "\n",
      "        0.0       0.68      0.66      0.67       207\n",
      "        1.0       0.77      0.78      0.77       294\n",
      "\n",
      "avg / total       0.73      0.73      0.73       501\n",
      "\n",
      "544 578\n",
      "Accuracy: 0.716566866267465\n",
      "ROC: 0.7149019027901016\n",
      "             precision    recall  f1-score   support\n",
      "\n",
      "        0.0       0.64      0.71      0.67       207\n",
      "        1.0       0.78      0.72      0.75       294\n",
      "\n",
      "avg / total       0.72      0.72      0.72       501\n",
      "\n",
      "578 612\n",
      "Accuracy: 0.6986027944111777\n",
      "ROC: 0.6953071083505866\n",
      "             precision    recall  f1-score   support\n",
      "\n",
      "        0.0       0.62      0.68      0.65       207\n",
      "        1.0       0.76      0.71      0.74       294\n",
      "\n",
      "avg / total       0.70      0.70      0.70       501\n",
      "\n",
      "612 646\n",
      "Accuracy: 0.7305389221556886\n",
      "ROC: 0.7239475500345065\n",
      "             precision    recall  f1-score   support\n",
      "\n",
      "        0.0       0.67      0.69      0.68       207\n",
      "        1.0       0.78      0.76      0.77       294\n",
      "\n",
      "avg / total       0.73      0.73      0.73       501\n",
      "\n",
      "646 680\n",
      "Accuracy: 0.7405189620758483\n",
      "ROC: 0.73316573006014\n",
      "             precision    recall  f1-score   support\n",
      "\n",
      "        0.0       0.68      0.69      0.69       207\n",
      "        1.0       0.78      0.78      0.78       294\n",
      "\n",
      "avg / total       0.74      0.74      0.74       501\n",
      "\n",
      "680 714\n"
     ]
    }
   ],
   "source": [
    "# only 34 features \n",
    "parameters = {'kernel':['rbf'], 'C':[1, 10,20,30, 40, 50, 60, 70, 90,100,1000],'gamma':[0.015,0.025, 0.029, 0.030,0.035]}\n",
    "svc = svm.SVC()\n",
    "k=0;j=34; acgr=[];aucrh=[];pmrh=[];\n",
    "for i in range(0,21):\n",
    "    cv=5\n",
    "    from sklearn.model_selection import GridSearchCV\n",
    "#     parameters = {'kernel':['rbf'], 'C':[1, 10,100,1000],'gamma':[0.01,2/1428.0,1/1428.0]}\n",
    "    svc = svm.SVC()\n",
    "    clf = GridSearchCV(svc, parameters,cv=cv)\n",
    "    clf.fit(X_train[:,k:j], y_train)\n",
    "    pred=clf.best_estimator_.predict(X_test[:,k:j])\n",
    "    acc=clf.score(X_test[:,k:j], y_test)\n",
    "    acgr=np.append(acgr,acc)\n",
    "    print \"Accuracy:\", acc\n",
    "    perf=classification_report(y_test, pred)\n",
    "    pmrh.append(perf)\n",
    "    fpr, tpr, thresholds = metrics.roc_curve(y_test,pred)\n",
    "    roc_auc=metrics.auc(fpr, tpr)\n",
    "    roc_auc\n",
    "    aucrh.append(roc_auc)\n",
    "    print \"ROC:\", roc_auc\n",
    "    print perf\n",
    "    print k,j\n",
    "    k=k+34;j=j+34;"
   ]
  },
  {
   "cell_type": "markdown",
   "metadata": {},
   "source": [
    "# LH"
   ]
  },
  {
   "cell_type": "code",
   "execution_count": 33,
   "metadata": {},
   "outputs": [
    {
     "name": "stdout",
     "output_type": "stream",
     "text": [
      "0.9010401261954057\n",
      "             precision    recall  f1-score   support\n",
      "\n",
      "        0.0       0.91      0.86      0.89       207\n",
      "        1.0       0.91      0.94      0.92       294\n",
      "\n",
      "avg / total       0.91      0.91      0.91       501\n",
      "\n"
     ]
    }
   ],
   "source": [
    "b=range(1,(X.shape[1]),2)\n",
    "d22=X[:,b];\n",
    "X_train, X_test, y_train, y_test = train_test_split(d22,y, test_size=.20, random_state=40) \n",
    "cv=5\n",
    "from sklearn.model_selection import GridSearchCV\n",
    "# parameters = {'kernel':['rbf'], 'C':[1, 10,100,1000],'gamma':[0.01,2/1428.0,1/1428.0]}\n",
    "parameters = {'kernel':['rbf'], 'C':[1, 10,20,30, 40, 50, 60, 70, 90,100,1000],'gamma':[0.01,0.0147, 0.016, 0.019, 0.021, 2/1428.0,1/1428.0]}\n",
    "svc = svm.SVC()\n",
    "clf = GridSearchCV(svc, parameters,cv=cv)\n",
    "clf.fit(X_train, y_train)\n",
    "pred=clf.best_estimator_.predict(X_test)\n",
    "# print clf.score(X_test, y_test)  \n",
    "# print pred\n",
    "# print y_test\n",
    "perf=classification_report(y_test, pred)\n",
    "fpr, tpr, thresholds = metrics.roc_curve(y_test,pred)\n",
    "roc_auc=metrics.auc(fpr, tpr)\n",
    "roc_auc\n",
    "print roc_auc\n",
    "print perf"
   ]
  },
  {
   "cell_type": "code",
   "execution_count": 34,
   "metadata": {},
   "outputs": [
    {
     "data": {
      "text/plain": [
       "0.9010401261954057"
      ]
     },
     "execution_count": 34,
     "metadata": {},
     "output_type": "execute_result"
    }
   ],
   "source": [
    "false_positive_rate, true_positive_rate, thresholds = roc_curve(y_test,pred)\n",
    "roc_auc = auc(false_positive_rate, true_positive_rate)\n",
    "roc_auc"
   ]
  },
  {
   "cell_type": "code",
   "execution_count": 35,
   "metadata": {},
   "outputs": [
    {
     "name": "stdout",
     "output_type": "stream",
     "text": [
      "Accuracy: 0.908183632734531\n",
      "support: 65.618762475\n"
     ]
    }
   ],
   "source": [
    "pred=clf.best_estimator_.predict(X_test)\n",
    "print \"Accuracy:\", clf.score(X_test, y_test)  \n",
    "# print pred\n",
    "# print y_test\n",
    "print \"support:\", len(clf.best_estimator_.support_vectors_)*100.0/(X_train.shape[0])"
   ]
  },
  {
   "cell_type": "code",
   "execution_count": 36,
   "metadata": {},
   "outputs": [],
   "source": [
    "# acg=[];\n",
    "# for i in range(0,6,2):\n",
    "#     acg=np.append(acg,i)"
   ]
  },
  {
   "cell_type": "code",
   "execution_count": 37,
   "metadata": {},
   "outputs": [
    {
     "data": {
      "text/plain": [
       "SVC(C=10, cache_size=200, class_weight=None, coef0=0.0,\n",
       "  decision_function_shape='ovr', degree=3, gamma=0.00140056022409,\n",
       "  kernel='rbf', max_iter=-1, probability=False, random_state=None,\n",
       "  shrinking=True, tol=0.001, verbose=False)"
      ]
     },
     "execution_count": 37,
     "metadata": {},
     "output_type": "execute_result"
    }
   ],
   "source": [
    "clf.best_estimator_"
   ]
  },
  {
   "cell_type": "code",
   "execution_count": 38,
   "metadata": {},
   "outputs": [
    {
     "name": "stdout",
     "output_type": "stream",
     "text": [
      "Accuracy: 0.7385229540918163\n",
      "ROC: 0.7350389431134773\n",
      "             precision    recall  f1-score   support\n",
      "\n",
      "        0.0       0.67      0.71      0.69       207\n",
      "        1.0       0.79      0.76      0.77       294\n",
      "\n",
      "avg / total       0.74      0.74      0.74       501\n",
      "\n",
      "0 34\n",
      "Accuracy: 0.7644710578842315\n",
      "ROC: 0.7607216799763383\n",
      "             precision    recall  f1-score   support\n",
      "\n",
      "        0.0       0.71      0.74      0.72       207\n",
      "        1.0       0.81      0.78      0.80       294\n",
      "\n",
      "avg / total       0.77      0.76      0.77       501\n",
      "\n",
      "34 68\n",
      "Accuracy: 0.7704590818363274\n",
      "ROC: 0.7643941634624865\n",
      "             precision    recall  f1-score   support\n",
      "\n",
      "        0.0       0.72      0.73      0.72       207\n",
      "        1.0       0.81      0.80      0.80       294\n",
      "\n",
      "avg / total       0.77      0.77      0.77       501\n",
      "\n",
      "68 102\n",
      "Accuracy: 0.7624750499001997\n",
      "ROC: 0.769742679680568\n",
      "             precision    recall  f1-score   support\n",
      "\n",
      "        0.0       0.68      0.81      0.74       207\n",
      "        1.0       0.85      0.73      0.78       294\n",
      "\n",
      "avg / total       0.78      0.76      0.76       501\n",
      "\n",
      "102 136\n",
      "Accuracy: 0.7584830339321357\n",
      "ROC: 0.7513309671694766\n",
      "             precision    recall  f1-score   support\n",
      "\n",
      "        0.0       0.71      0.71      0.71       207\n",
      "        1.0       0.80      0.79      0.79       294\n",
      "\n",
      "avg / total       0.76      0.76      0.76       501\n",
      "\n",
      "136 170\n",
      "Accuracy: 0.782435129740519\n",
      "ROC: 0.7803164744158533\n",
      "             precision    recall  f1-score   support\n",
      "\n",
      "        0.0       0.72      0.77      0.74       207\n",
      "        1.0       0.83      0.79      0.81       294\n",
      "\n",
      "avg / total       0.79      0.78      0.78       501\n",
      "\n",
      "170 204\n",
      "Accuracy: 0.7864271457085829\n",
      "ROC: 0.7858621709553386\n",
      "             precision    recall  f1-score   support\n",
      "\n",
      "        0.0       0.72      0.78      0.75       207\n",
      "        1.0       0.84      0.79      0.81       294\n",
      "\n",
      "avg / total       0.79      0.79      0.79       501\n",
      "\n",
      "204 238\n",
      "Accuracy: 0.7784431137724551\n",
      "ROC: 0.7726264418811002\n",
      "             precision    recall  f1-score   support\n",
      "\n",
      "        0.0       0.73      0.74      0.73       207\n",
      "        1.0       0.81      0.81      0.81       294\n",
      "\n",
      "avg / total       0.78      0.78      0.78       501\n",
      "\n",
      "238 272\n",
      "Accuracy: 0.7684630738522954\n",
      "ROC: 0.7641230405205559\n",
      "             precision    recall  f1-score   support\n",
      "\n",
      "        0.0       0.71      0.74      0.73       207\n",
      "        1.0       0.81      0.79      0.80       294\n",
      "\n",
      "avg / total       0.77      0.77      0.77       501\n",
      "\n",
      "272 306\n",
      "Accuracy: 0.7125748502994012\n",
      "ROC: 0.7107857635807946\n",
      "             precision    recall  f1-score   support\n",
      "\n",
      "        0.0       0.64      0.70      0.67       207\n",
      "        1.0       0.77      0.72      0.75       294\n",
      "\n",
      "avg / total       0.72      0.71      0.71       501\n",
      "\n",
      "306 340\n",
      "Accuracy: 0.716566866267465\n",
      "ROC: 0.7048950014788524\n",
      "             precision    recall  f1-score   support\n",
      "\n",
      "        0.0       0.66      0.64      0.65       207\n",
      "        1.0       0.75      0.77      0.76       294\n",
      "\n",
      "avg / total       0.72      0.72      0.72       501\n",
      "\n",
      "340 374\n",
      "Accuracy: 0.7405189620758483\n",
      "ROC: 0.7388839593808538\n",
      "             precision    recall  f1-score   support\n",
      "\n",
      "        0.0       0.67      0.73      0.70       207\n",
      "        1.0       0.80      0.75      0.77       294\n",
      "\n",
      "avg / total       0.75      0.74      0.74       501\n",
      "\n",
      "374 408\n",
      "Accuracy: 0.7345309381237525\n",
      "ROC: 0.7402149265503303\n",
      "             precision    recall  f1-score   support\n",
      "\n",
      "        0.0       0.65      0.77      0.71       207\n",
      "        1.0       0.82      0.71      0.76       294\n",
      "\n",
      "avg / total       0.75      0.73      0.74       501\n",
      "\n",
      "408 442\n",
      "Accuracy: 0.7085828343313373\n",
      "ROC: 0.7059548457063984\n",
      "             precision    recall  f1-score   support\n",
      "\n",
      "        0.0       0.64      0.69      0.66       207\n",
      "        1.0       0.77      0.72      0.74       294\n",
      "\n",
      "avg / total       0.71      0.71      0.71       501\n",
      "\n",
      "442 476\n",
      "Accuracy: 0.7425149700598802\n",
      "ROC: 0.7348664103322489\n",
      "             precision    recall  f1-score   support\n",
      "\n",
      "        0.0       0.69      0.69      0.69       207\n",
      "        1.0       0.78      0.78      0.78       294\n",
      "\n",
      "avg / total       0.74      0.74      0.74       501\n",
      "\n",
      "476 510\n",
      "Accuracy: 0.7604790419161677\n",
      "ROC: 0.7601794340924776\n",
      "             precision    recall  f1-score   support\n",
      "\n",
      "        0.0       0.69      0.76      0.72       207\n",
      "        1.0       0.82      0.76      0.79       294\n",
      "\n",
      "avg / total       0.77      0.76      0.76       501\n",
      "\n",
      "510 544\n",
      "Accuracy: 0.7325349301397206\n",
      "ROC: 0.7313664596273292\n",
      "             precision    recall  f1-score   support\n",
      "\n",
      "        0.0       0.66      0.72      0.69       207\n",
      "        1.0       0.79      0.74      0.76       294\n",
      "\n",
      "avg / total       0.74      0.73      0.73       501\n",
      "\n",
      "544 578\n",
      "Accuracy: 0.7564870259481038\n",
      "ROC: 0.7503450655624568\n",
      "             precision    recall  f1-score   support\n",
      "\n",
      "        0.0       0.70      0.71      0.71       207\n",
      "        1.0       0.80      0.79      0.79       294\n",
      "\n",
      "avg / total       0.76      0.76      0.76       501\n",
      "\n",
      "578 612\n",
      "Accuracy: 0.7604790419161677\n",
      "ROC: 0.7544612047717637\n",
      "             precision    recall  f1-score   support\n",
      "\n",
      "        0.0       0.71      0.72      0.71       207\n",
      "        1.0       0.80      0.79      0.79       294\n",
      "\n",
      "avg / total       0.76      0.76      0.76       501\n",
      "\n",
      "612 646\n",
      "Accuracy: 0.7405189620758483\n",
      "ROC: 0.739598738045943\n",
      "             precision    recall  f1-score   support\n",
      "\n",
      "        0.0       0.67      0.73      0.70       207\n",
      "        1.0       0.80      0.74      0.77       294\n",
      "\n",
      "avg / total       0.75      0.74      0.74       501\n",
      "\n",
      "646 680\n",
      "Accuracy: 0.7504990019960079\n",
      "ROC: 0.7423839100857734\n",
      "             precision    recall  f1-score   support\n",
      "\n",
      "        0.0       0.70      0.70      0.70       207\n",
      "        1.0       0.79      0.79      0.79       294\n",
      "\n",
      "avg / total       0.75      0.75      0.75       501\n",
      "\n",
      "680 714\n"
     ]
    }
   ],
   "source": [
    "k=0;j=34; acgl=[];auclh=[];pmlh=[];\n",
    "for i in range(0,21):\n",
    "    cv=5\n",
    "    from sklearn.model_selection import GridSearchCV\n",
    "#     parameters = {'kernel':['rbf'], 'C':[1, 10,100,1000],'gamma':[0.01,2/1428.0,1/1428.0]}\n",
    "    parameters = {'kernel':['rbf'], 'C':[1, 10,20,30, 40, 50, 60, 70, 90,100,1000],'gamma':[0.015,0.025, 0.029, 0.030,0.035]}\n",
    "    svc = svm.SVC()\n",
    "    clf = GridSearchCV(svc, parameters,cv=cv)\n",
    "    clf.fit(X_train[:,k:j], y_train)\n",
    "    pred=clf.best_estimator_.predict(X_test[:,k:j])\n",
    "    acc=clf.score(X_test[:,k:j], y_test)\n",
    "    acgl=np.append(acgl,acc)\n",
    "    print \"Accuracy:\", acc\n",
    "    perf=classification_report(y_test, pred)\n",
    "    pmlh.append(perf)\n",
    "    fpr, tpr, thresholds = metrics.roc_curve(y_test,pred)\n",
    "    roc_auc=metrics.auc(fpr, tpr)\n",
    "    roc_auc\n",
    "    auclh.append(roc_auc)\n",
    "    print \"ROC:\", roc_auc\n",
    "    print perf\n",
    "    print k,j\n",
    "    k=k+34;j=j+34;"
   ]
  },
  {
   "cell_type": "code",
   "execution_count": 39,
   "metadata": {},
   "outputs": [],
   "source": [
    "t=np.linspace(0,200,21, endpoint=True)\n",
    "time=pd.DataFrame(t)\n",
    "# a=pd.concat([time,pd.DataFrame(acgw),pd.DataFrame(acgl),pd.DataFrame(acgr)],axis=1, keys=[ 'time',\"Whole\", \"LH\", \"RH\"])\n",
    "a=pd.concat([time,pd.DataFrame(acgw),pd.DataFrame(acgr),pd.DataFrame(acgl)],axis=1, keys=[ 'time',\"Whole\", \"LH\", \"RH\"])"
   ]
  },
  {
   "cell_type": "code",
   "execution_count": 40,
   "metadata": {},
   "outputs": [
    {
     "data": {
      "text/plain": [
       "0.7864271457085829"
      ]
     },
     "execution_count": 40,
     "metadata": {},
     "output_type": "execute_result"
    }
   ],
   "source": [
    "np.max(acgl)\n",
    "np.max(a.iloc[:,3])"
   ]
  },
  {
   "cell_type": "code",
   "execution_count": 41,
   "metadata": {},
   "outputs": [
    {
     "data": {
      "text/html": [
       "<div>\n",
       "<style scoped>\n",
       "    .dataframe tbody tr th:only-of-type {\n",
       "        vertical-align: middle;\n",
       "    }\n",
       "\n",
       "    .dataframe tbody tr th {\n",
       "        vertical-align: top;\n",
       "    }\n",
       "\n",
       "    .dataframe thead tr th {\n",
       "        text-align: left;\n",
       "    }\n",
       "</style>\n",
       "<table border=\"1\" class=\"dataframe\">\n",
       "  <thead>\n",
       "    <tr>\n",
       "      <th></th>\n",
       "      <th>time</th>\n",
       "      <th>Whole</th>\n",
       "      <th>LH</th>\n",
       "      <th>RH</th>\n",
       "    </tr>\n",
       "    <tr>\n",
       "      <th></th>\n",
       "      <th>0</th>\n",
       "      <th>0</th>\n",
       "      <th>0</th>\n",
       "      <th>0</th>\n",
       "    </tr>\n",
       "  </thead>\n",
       "  <tbody>\n",
       "    <tr>\n",
       "      <th>0</th>\n",
       "      <td>0.0</td>\n",
       "      <td>0.750499</td>\n",
       "      <td>0.726547</td>\n",
       "      <td>0.738523</td>\n",
       "    </tr>\n",
       "    <tr>\n",
       "      <th>1</th>\n",
       "      <td>10.0</td>\n",
       "      <td>0.782435</td>\n",
       "      <td>0.746507</td>\n",
       "      <td>0.764471</td>\n",
       "    </tr>\n",
       "    <tr>\n",
       "      <th>2</th>\n",
       "      <td>20.0</td>\n",
       "      <td>0.806387</td>\n",
       "      <td>0.782435</td>\n",
       "      <td>0.770459</td>\n",
       "    </tr>\n",
       "    <tr>\n",
       "      <th>3</th>\n",
       "      <td>30.0</td>\n",
       "      <td>0.816367</td>\n",
       "      <td>0.758483</td>\n",
       "      <td>0.762475</td>\n",
       "    </tr>\n",
       "    <tr>\n",
       "      <th>4</th>\n",
       "      <td>40.0</td>\n",
       "      <td>0.800399</td>\n",
       "      <td>0.762475</td>\n",
       "      <td>0.758483</td>\n",
       "    </tr>\n",
       "    <tr>\n",
       "      <th>5</th>\n",
       "      <td>50.0</td>\n",
       "      <td>0.796407</td>\n",
       "      <td>0.786427</td>\n",
       "      <td>0.782435</td>\n",
       "    </tr>\n",
       "    <tr>\n",
       "      <th>6</th>\n",
       "      <td>60.0</td>\n",
       "      <td>0.826347</td>\n",
       "      <td>0.782435</td>\n",
       "      <td>0.786427</td>\n",
       "    </tr>\n",
       "    <tr>\n",
       "      <th>7</th>\n",
       "      <td>70.0</td>\n",
       "      <td>0.812375</td>\n",
       "      <td>0.770459</td>\n",
       "      <td>0.778443</td>\n",
       "    </tr>\n",
       "    <tr>\n",
       "      <th>8</th>\n",
       "      <td>80.0</td>\n",
       "      <td>0.764471</td>\n",
       "      <td>0.734531</td>\n",
       "      <td>0.768463</td>\n",
       "    </tr>\n",
       "    <tr>\n",
       "      <th>9</th>\n",
       "      <td>90.0</td>\n",
       "      <td>0.754491</td>\n",
       "      <td>0.716567</td>\n",
       "      <td>0.712575</td>\n",
       "    </tr>\n",
       "    <tr>\n",
       "      <th>10</th>\n",
       "      <td>100.0</td>\n",
       "      <td>0.760479</td>\n",
       "      <td>0.722555</td>\n",
       "      <td>0.716567</td>\n",
       "    </tr>\n",
       "    <tr>\n",
       "      <th>11</th>\n",
       "      <td>110.0</td>\n",
       "      <td>0.784431</td>\n",
       "      <td>0.756487</td>\n",
       "      <td>0.740519</td>\n",
       "    </tr>\n",
       "    <tr>\n",
       "      <th>12</th>\n",
       "      <td>120.0</td>\n",
       "      <td>0.766467</td>\n",
       "      <td>0.736527</td>\n",
       "      <td>0.734531</td>\n",
       "    </tr>\n",
       "    <tr>\n",
       "      <th>13</th>\n",
       "      <td>130.0</td>\n",
       "      <td>0.788423</td>\n",
       "      <td>0.742515</td>\n",
       "      <td>0.708583</td>\n",
       "    </tr>\n",
       "    <tr>\n",
       "      <th>14</th>\n",
       "      <td>140.0</td>\n",
       "      <td>0.756487</td>\n",
       "      <td>0.720559</td>\n",
       "      <td>0.742515</td>\n",
       "    </tr>\n",
       "    <tr>\n",
       "      <th>15</th>\n",
       "      <td>150.0</td>\n",
       "      <td>0.790419</td>\n",
       "      <td>0.728543</td>\n",
       "      <td>0.760479</td>\n",
       "    </tr>\n",
       "    <tr>\n",
       "      <th>16</th>\n",
       "      <td>160.0</td>\n",
       "      <td>0.800399</td>\n",
       "      <td>0.730539</td>\n",
       "      <td>0.732535</td>\n",
       "    </tr>\n",
       "    <tr>\n",
       "      <th>17</th>\n",
       "      <td>170.0</td>\n",
       "      <td>0.764471</td>\n",
       "      <td>0.716567</td>\n",
       "      <td>0.756487</td>\n",
       "    </tr>\n",
       "    <tr>\n",
       "      <th>18</th>\n",
       "      <td>180.0</td>\n",
       "      <td>0.760479</td>\n",
       "      <td>0.698603</td>\n",
       "      <td>0.760479</td>\n",
       "    </tr>\n",
       "    <tr>\n",
       "      <th>19</th>\n",
       "      <td>190.0</td>\n",
       "      <td>0.790419</td>\n",
       "      <td>0.730539</td>\n",
       "      <td>0.740519</td>\n",
       "    </tr>\n",
       "    <tr>\n",
       "      <th>20</th>\n",
       "      <td>200.0</td>\n",
       "      <td>0.760479</td>\n",
       "      <td>0.740519</td>\n",
       "      <td>0.750499</td>\n",
       "    </tr>\n",
       "  </tbody>\n",
       "</table>\n",
       "</div>"
      ],
      "text/plain": [
       "     time     Whole        LH        RH\n",
       "        0         0         0         0\n",
       "0     0.0  0.750499  0.726547  0.738523\n",
       "1    10.0  0.782435  0.746507  0.764471\n",
       "2    20.0  0.806387  0.782435  0.770459\n",
       "3    30.0  0.816367  0.758483  0.762475\n",
       "4    40.0  0.800399  0.762475  0.758483\n",
       "5    50.0  0.796407  0.786427  0.782435\n",
       "6    60.0  0.826347  0.782435  0.786427\n",
       "7    70.0  0.812375  0.770459  0.778443\n",
       "8    80.0  0.764471  0.734531  0.768463\n",
       "9    90.0  0.754491  0.716567  0.712575\n",
       "10  100.0  0.760479  0.722555  0.716567\n",
       "11  110.0  0.784431  0.756487  0.740519\n",
       "12  120.0  0.766467  0.736527  0.734531\n",
       "13  130.0  0.788423  0.742515  0.708583\n",
       "14  140.0  0.756487  0.720559  0.742515\n",
       "15  150.0  0.790419  0.728543  0.760479\n",
       "16  160.0  0.800399  0.730539  0.732535\n",
       "17  170.0  0.764471  0.716567  0.756487\n",
       "18  180.0  0.760479  0.698603  0.760479\n",
       "19  190.0  0.790419  0.730539  0.740519\n",
       "20  200.0  0.760479  0.740519  0.750499"
      ]
     },
     "execution_count": 41,
     "metadata": {},
     "output_type": "execute_result"
    }
   ],
   "source": [
    "a"
   ]
  },
  {
   "cell_type": "markdown",
   "metadata": {},
   "source": [
    "# Writing the csv data all"
   ]
  },
  {
   "cell_type": "code",
   "execution_count": 42,
   "metadata": {},
   "outputs": [],
   "source": [
    "# wpath=\"/home/sultan/EEG/Source_Level_Analysis/SVM_results/\"\n",
    "# dall=a\n",
    "# dall.to_csv(wpath+'svm_res_100sam_10ms_clear_v1.csv')"
   ]
  },
  {
   "cell_type": "code",
   "execution_count": 43,
   "metadata": {},
   "outputs": [
    {
     "data": {
      "image/png": "[encoded data removed]",
      "text/plain": [
       "<Figure size 432x288 with 1 Axes>"
      ]
     },
     "metadata": {
      "needs_background": "light"
     },
     "output_type": "display_data"
    }
   ],
   "source": [
    "axis_font = {'fontname':'Arial', 'size':'15'}\n",
    "#tw1=tad.iloc[1:,0];Acdw1=tad.iloc[1:,1];\n",
    "tw1=a.iloc[0:,0];Acdw=a.iloc[0:,1];Acdlh=a.iloc[0:,2];Acdrh=a.iloc[0:,3]\n",
    "# plt.plot(tw1,Acdw1,c='g')\n",
    "plt.plot(tw1,Acdw,'g',linewidth=2,marker='*')\n",
    "plt.plot(tw1, Acdlh,'--r',linewidth=2,marker='o')\n",
    "plt.plot(tw1, Acdrh,'--b',linewidth=2,marker='x')\n",
    "plt.title(\"100ms_10ms_clear\")\n",
    "plt.xlim(0,200)\n",
    "# plt.plot(tw1,Acdw1, 'k--', label='noise')\n",
    "# plt.xlabel('Time (ms)',**axis_font)\n",
    "# plt.ylabel('Accuracy (%)',**axis_font)\n",
    "# plt.title('Whole brain',**axis_font)\n",
    "# plt.yticks(**axis_font)\n",
    "# plt.xticks(**axis_font)\n",
    "plt.grid(True)\n",
    "plt.tight_layout()\n",
    "plt.gca().legend(('Whole','LH','RH'),fontsize=16,loc='best')\n",
    "# plt.savefig('whole_acc_timem.eps')\n",
    "# plt.savefig('whole_acc_timem.tif')\n",
    "plt.show()"
   ]
  },
  {
   "cell_type": "code",
   "execution_count": 44,
   "metadata": {},
   "outputs": [
    {
     "data": {
      "text/plain": [
       "61.72654690618762"
      ]
     },
     "execution_count": 44,
     "metadata": {},
     "output_type": "execute_result"
    }
   ],
   "source": [
    "len(clf.best_estimator_.support_vectors_)*100.0/(X_train.shape[0])"
   ]
  },
  {
   "cell_type": "code",
   "execution_count": 45,
   "metadata": {},
   "outputs": [],
   "source": [
    "# dall"
   ]
  },
  {
   "cell_type": "code",
   "execution_count": 46,
   "metadata": {},
   "outputs": [
    {
     "data": {
      "text/plain": [
       "(2004, 714)"
      ]
     },
     "execution_count": 46,
     "metadata": {},
     "output_type": "execute_result"
    }
   ],
   "source": [
    "X_train.shape"
   ]
  },
  {
   "cell_type": "code",
   "execution_count": 47,
   "metadata": {},
   "outputs": [],
   "source": [
    "# wpath=\"/home/sultan/EEG/Source_Level_Analysis/SVM_results/\"\n",
    "# dall=a\n",
    "# dall.to_csv(wpath+'svm_res_100sam_10ms_clear_v3_cv10.csv')"
   ]
  },
  {
   "cell_type": "code",
   "execution_count": null,
   "metadata": {},
   "outputs": [],
   "source": []
  }
 ],
 "metadata": {
  "kernelspec": {
   "display_name": "Python 2",
   "language": "python",
   "name": "python2"
  },
  "language_info": {
   "codemirror_mode": {
    "name": "ipython",
    "version": 2
   },
   "file_extension": ".py",
   "mimetype": "text/x-python",
   "name": "python",
   "nbconvert_exporter": "python",
   "pygments_lexer": "ipython2",
   "version": "2.7.6"
  }
 },
 "nbformat": 4,
 "nbformat_minor": 2
}
