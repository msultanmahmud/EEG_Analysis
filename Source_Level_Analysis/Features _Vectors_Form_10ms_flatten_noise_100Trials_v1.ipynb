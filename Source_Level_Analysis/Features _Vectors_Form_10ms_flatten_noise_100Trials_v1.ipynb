{
 "cells": [
  {
   "cell_type": "code",
   "execution_count": 1,
   "metadata": {},
   "outputs": [],
   "source": [
    "import shutil, random, os\n",
    "import pandas as pd\n",
    "import matplotlib.pyplot as plt\n",
    "import numpy as np\n",
    "import pandas as pd"
   ]
  },
  {
   "cell_type": "code",
   "execution_count": 2,
   "metadata": {},
   "outputs": [],
   "source": [
    "# Data path\n",
    "# dirpath='/home/sultan/EEG/Source_Level_Analysis/25sample10ms/'\n",
    "# dirpath=\"/home/sultan/EEG/Source_Level_Analysis/75sample10mswind/\"\n",
    "dirpath=\"/home/sultan/EEG/Source_Level_Analysis/150sample10ms/\""
   ]
  },
  {
   "cell_type": "code",
   "execution_count": 3,
   "metadata": {},
   "outputs": [
    {
     "name": "stdout",
     "output_type": "stream",
     "text": [
      "/home/sultan/EEG/Source_Level_Analysis/150sample10ms/S1/Event_3/\n"
     ]
    },
    {
     "name": "stderr",
     "output_type": "stream",
     "text": [
      "/usr/local/lib/python2.7/dist-packages/ipykernel_launcher.py:19: FutureWarning: Method .as_matrix will be removed in a future version. Use .values instead.\n"
     ]
    },
    {
     "name": "stdout",
     "output_type": "stream",
     "text": [
      "/home/sultan/EEG/Source_Level_Analysis/150sample10ms/S1/Event_4/\n",
      "/home/sultan/EEG/Source_Level_Analysis/150sample10ms/S2/Event_3/\n",
      "/home/sultan/EEG/Source_Level_Analysis/150sample10ms/S2/Event_4/\n",
      "/home/sultan/EEG/Source_Level_Analysis/150sample10ms/S3/Event_3/\n",
      "/home/sultan/EEG/Source_Level_Analysis/150sample10ms/S3/Event_4/\n",
      "/home/sultan/EEG/Source_Level_Analysis/150sample10ms/S8/Event_3/\n",
      "/home/sultan/EEG/Source_Level_Analysis/150sample10ms/S8/Event_4/\n",
      "/home/sultan/EEG/Source_Level_Analysis/150sample10ms/S9/Event_3/\n",
      "/home/sultan/EEG/Source_Level_Analysis/150sample10ms/S9/Event_4/\n",
      "/home/sultan/EEG/Source_Level_Analysis/150sample10ms/S10/Event_3/\n",
      "/home/sultan/EEG/Source_Level_Analysis/150sample10ms/S10/Event_4/\n",
      "/home/sultan/EEG/Source_Level_Analysis/150sample10ms/S14/Event_3/\n",
      "/home/sultan/EEG/Source_Level_Analysis/150sample10ms/S14/Event_4/\n",
      "/home/sultan/EEG/Source_Level_Analysis/150sample10ms/S16/Event_3/\n",
      "/home/sultan/EEG/Source_Level_Analysis/150sample10ms/S16/Event_4/\n",
      "/home/sultan/EEG/Source_Level_Analysis/150sample10ms/S22/Event_3/\n",
      "/home/sultan/EEG/Source_Level_Analysis/150sample10ms/S22/Event_4/\n",
      "/home/sultan/EEG/Source_Level_Analysis/150sample10ms/S23/Event_3/\n",
      "/home/sultan/EEG/Source_Level_Analysis/150sample10ms/S23/Event_4/\n",
      "/home/sultan/EEG/Source_Level_Analysis/150sample10ms/S24/Event_3/\n",
      "/home/sultan/EEG/Source_Level_Analysis/150sample10ms/S24/Event_4/\n",
      "/home/sultan/EEG/Source_Level_Analysis/150sample10ms/S28/Event_3/\n",
      "/home/sultan/EEG/Source_Level_Analysis/150sample10ms/S28/Event_4/\n",
      "/home/sultan/EEG/Source_Level_Analysis/150sample10ms/S31/Event_3/\n",
      "/home/sultan/EEG/Source_Level_Analysis/150sample10ms/S31/Event_4/\n"
     ]
    }
   ],
   "source": [
    "a=[];\n",
    "# subhi=[4, 5, 6, 7, 11, 12, 13, 15, 17, 18, 19, 20, 21, 25, 26, 27, 29, 30, 32]; HI=1;\n",
    "sub=[1, 2 ,3 ,8, 9, 10, 14 ,16, 22 ,23, 24 ,28 ,31]# NH=0;Subject ID number and class labels; \n",
    "Ev=[3,4];#event number\n",
    "for k in range(0,len(sub)):\n",
    "    for j in range(0,len(Ev)):\n",
    "        pnh=dirpath+'S'+str(sub[k])+'/'+'Event_'+str(Ev[j])+'/'\n",
    "        dpin=pnh\n",
    "        print dpin\n",
    "        from os import walk\n",
    "        from os.path import isfile, join\n",
    "        f = []\n",
    "        for (dpin, dirnames, filenames) in walk(dpin):\n",
    "            f.extend(join(dpin, x) for x in filenames if x.endswith(\".csv\"))\n",
    "            break\n",
    "        for i in range(0,len(f)):\n",
    "            dd=pd.read_csv(f[i])\n",
    "            dd1=dd.drop(dd.columns[0],axis=1)\n",
    "            d1=dd1.as_matrix()\n",
    "            rt=d1.flatten(order='F')\n",
    "            a.append(rt)\n",
    "        d2=pd.DataFrame(a)\n",
    "        d2.insert(0,'label',np.zeros(len(d2)), True)\n",
    "        # df.insert(2, \"Age\", [21, 23, 24, 21], True)\n",
    "# d2"
   ]
  },
  {
   "cell_type": "code",
   "execution_count": 4,
   "metadata": {},
   "outputs": [
    {
     "data": {
      "text/plain": [
       "(476, 1429)"
      ]
     },
     "execution_count": 4,
     "metadata": {},
     "output_type": "execute_result"
    }
   ],
   "source": [
    "d2.shape"
   ]
  },
  {
   "cell_type": "code",
   "execution_count": 5,
   "metadata": {},
   "outputs": [
    {
     "name": "stdout",
     "output_type": "stream",
     "text": [
      "/home/sultan/EEG/Source_Level_Analysis/150sample10ms/S4/Event_3/\n"
     ]
    },
    {
     "name": "stderr",
     "output_type": "stream",
     "text": [
      "/usr/local/lib/python2.7/dist-packages/ipykernel_launcher.py:19: FutureWarning: Method .as_matrix will be removed in a future version. Use .values instead.\n"
     ]
    },
    {
     "name": "stdout",
     "output_type": "stream",
     "text": [
      "/home/sultan/EEG/Source_Level_Analysis/150sample10ms/S4/Event_4/\n",
      "/home/sultan/EEG/Source_Level_Analysis/150sample10ms/S5/Event_3/\n",
      "/home/sultan/EEG/Source_Level_Analysis/150sample10ms/S5/Event_4/\n",
      "/home/sultan/EEG/Source_Level_Analysis/150sample10ms/S6/Event_3/\n",
      "/home/sultan/EEG/Source_Level_Analysis/150sample10ms/S6/Event_4/\n",
      "/home/sultan/EEG/Source_Level_Analysis/150sample10ms/S7/Event_3/\n",
      "/home/sultan/EEG/Source_Level_Analysis/150sample10ms/S7/Event_4/\n",
      "/home/sultan/EEG/Source_Level_Analysis/150sample10ms/S11/Event_3/\n",
      "/home/sultan/EEG/Source_Level_Analysis/150sample10ms/S11/Event_4/\n",
      "/home/sultan/EEG/Source_Level_Analysis/150sample10ms/S12/Event_3/\n",
      "/home/sultan/EEG/Source_Level_Analysis/150sample10ms/S12/Event_4/\n",
      "/home/sultan/EEG/Source_Level_Analysis/150sample10ms/S13/Event_3/\n",
      "/home/sultan/EEG/Source_Level_Analysis/150sample10ms/S13/Event_4/\n",
      "/home/sultan/EEG/Source_Level_Analysis/150sample10ms/S15/Event_3/\n",
      "/home/sultan/EEG/Source_Level_Analysis/150sample10ms/S15/Event_4/\n",
      "/home/sultan/EEG/Source_Level_Analysis/150sample10ms/S17/Event_3/\n",
      "/home/sultan/EEG/Source_Level_Analysis/150sample10ms/S17/Event_4/\n",
      "/home/sultan/EEG/Source_Level_Analysis/150sample10ms/S18/Event_3/\n",
      "/home/sultan/EEG/Source_Level_Analysis/150sample10ms/S18/Event_4/\n",
      "/home/sultan/EEG/Source_Level_Analysis/150sample10ms/S19/Event_3/\n",
      "/home/sultan/EEG/Source_Level_Analysis/150sample10ms/S19/Event_4/\n",
      "/home/sultan/EEG/Source_Level_Analysis/150sample10ms/S20/Event_3/\n",
      "/home/sultan/EEG/Source_Level_Analysis/150sample10ms/S20/Event_4/\n",
      "/home/sultan/EEG/Source_Level_Analysis/150sample10ms/S21/Event_3/\n",
      "/home/sultan/EEG/Source_Level_Analysis/150sample10ms/S21/Event_4/\n",
      "/home/sultan/EEG/Source_Level_Analysis/150sample10ms/S25/Event_3/\n",
      "/home/sultan/EEG/Source_Level_Analysis/150sample10ms/S25/Event_4/\n",
      "/home/sultan/EEG/Source_Level_Analysis/150sample10ms/S26/Event_3/\n",
      "/home/sultan/EEG/Source_Level_Analysis/150sample10ms/S26/Event_4/\n",
      "/home/sultan/EEG/Source_Level_Analysis/150sample10ms/S27/Event_3/\n",
      "/home/sultan/EEG/Source_Level_Analysis/150sample10ms/S27/Event_4/\n",
      "/home/sultan/EEG/Source_Level_Analysis/150sample10ms/S29/Event_3/\n",
      "/home/sultan/EEG/Source_Level_Analysis/150sample10ms/S29/Event_4/\n",
      "/home/sultan/EEG/Source_Level_Analysis/150sample10ms/S30/Event_3/\n",
      "/home/sultan/EEG/Source_Level_Analysis/150sample10ms/S30/Event_4/\n",
      "/home/sultan/EEG/Source_Level_Analysis/150sample10ms/S32/Event_3/\n",
      "/home/sultan/EEG/Source_Level_Analysis/150sample10ms/S32/Event_4/\n"
     ]
    }
   ],
   "source": [
    "a=[];\n",
    "sub=[4, 5, 6, 7, 11, 12, 13, 15, 17, 18, 19, 20, 21, 25, 26, 27, 29, 30, 32]; HI=1;\n",
    "# sub=[1, 2 ,3 ,8, 9, 10, 14 ,16, 22 ,23, 24 ,28 ,31]# NH=0;Subject ID number and class labels; \n",
    "Ev=[3,4];#event number\n",
    "for k in range(0,len(sub)):\n",
    "    for j in range(0,len(Ev)):\n",
    "        pnh=dirpath+'S'+str(sub[k])+'/'+'Event_'+str(Ev[j])+'/'\n",
    "        dpin=pnh\n",
    "        print dpin\n",
    "        from os import walk\n",
    "        from os.path import isfile, join\n",
    "        f = []\n",
    "        for (dpin, dirnames, filenames) in walk(dpin):\n",
    "            f.extend(join(dpin, x) for x in filenames if x.endswith(\".csv\"))\n",
    "            break\n",
    "        for i in range(0,len(f)):\n",
    "            dd=pd.read_csv(f[i])\n",
    "            dd1=dd.drop(dd.columns[0],axis=1)\n",
    "            d1=dd1.as_matrix()\n",
    "            rt=d1.flatten(order='F')\n",
    "            a.append(rt)\n",
    "        dhi=pd.DataFrame(a)\n",
    "        dhi.insert(0,'label',np.ones(len(dhi)), True)\n",
    "        # df.insert(2, \"Age\", [21, 23, 24, 21], True)\n",
    "# d2"
   ]
  },
  {
   "cell_type": "code",
   "execution_count": 6,
   "metadata": {},
   "outputs": [],
   "source": [
    "dall=pd.concat([d2, dhi])"
   ]
  },
  {
   "cell_type": "code",
   "execution_count": 7,
   "metadata": {},
   "outputs": [],
   "source": [
    " dall.to_csv('150sam_10ms_noise_all_erp'+'.csv')"
   ]
  },
  {
   "cell_type": "code",
   "execution_count": null,
   "metadata": {},
   "outputs": [],
   "source": []
  }
 ],
 "metadata": {
  "kernelspec": {
   "display_name": "Python 2",
   "language": "python",
   "name": "python2"
  },
  "language_info": {
   "codemirror_mode": {
    "name": "ipython",
    "version": 2
   },
   "file_extension": ".py",
   "mimetype": "text/x-python",
   "name": "python",
   "nbconvert_exporter": "python",
   "pygments_lexer": "ipython2",
   "version": "2.7.6"
  }
 },
 "nbformat": 4,
 "nbformat_minor": 2
}
