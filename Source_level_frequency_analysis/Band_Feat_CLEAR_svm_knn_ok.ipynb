{
 "cells": [
  {
   "cell_type": "code",
   "execution_count": 1,
   "metadata": {},
   "outputs": [],
   "source": [
    "## import important libaries\n",
    "import numpy as np\n",
    "import pandas as pd\n",
    "from sklearn import svm, metrics,preprocessing\n",
    "from sklearn.neighbors import KNeighborsClassifier\n",
    "#from sklearn import datasets\n",
    "from sklearn.model_selection import train_test_split, GridSearchCV\n",
    "from sklearn.metrics import accuracy_score,confusion_matrix,roc_curve, auc\n",
    "from matplotlib import pyplot as plt\n",
    "from collections import Counter\n",
    "from scipy.stats import norm\n",
    "# import seaborn as sns; sns.set(font_scale=1.2)\n",
    "%matplotlib inline"
   ]
  },
  {
   "cell_type": "code",
   "execution_count": 2,
   "metadata": {},
   "outputs": [],
   "source": [
    "path=\"/home/sultan/EEG/Source_level_frequency_analysis/100_base_corr_sam_NHIerp_band_features_clear.csv\"\n",
    "## the below one is the band_features\n",
    "##path=\"/home/sultan/EEG/Source_level_frequency_analysis/100sam_NHIerp_band_features_clear.csv\"\n",
    "# path=\"/home/sultan/EEG/Source_level_frequency_analysis/100sam_NHIerp_band_features_noise.csv\"\n",
    "dataset =pd.read_csv(path)"
   ]
  },
  {
   "cell_type": "code",
   "execution_count": 3,
   "metadata": {},
   "outputs": [],
   "source": [
    "Xc=dataset.iloc[:,2:].values\n",
    "y=dataset.iloc[:,1].values\n",
    "scaler = preprocessing.StandardScaler()\n",
    "X = scaler.fit_transform(Xc)"
   ]
  },
  {
   "cell_type": "code",
   "execution_count": 4,
   "metadata": {},
   "outputs": [],
   "source": [
    "rs=16"
   ]
  },
  {
   "cell_type": "code",
   "execution_count": 5,
   "metadata": {},
   "outputs": [],
   "source": [
    "X_train, X_test, y_train, y_test = train_test_split(X,y, test_size=.20, random_state=rs) "
   ]
  },
  {
   "cell_type": "code",
   "execution_count": 6,
   "metadata": {},
   "outputs": [
    {
     "data": {
      "text/plain": [
       "((373, 272), (373,))"
      ]
     },
     "execution_count": 6,
     "metadata": {},
     "output_type": "execute_result"
    }
   ],
   "source": [
    "X_test.shape, y_test.shape"
   ]
  },
  {
   "cell_type": "code",
   "execution_count": 7,
   "metadata": {},
   "outputs": [
    {
     "data": {
      "text/plain": [
       "(array([0., 1.]), array([159, 214]))"
      ]
     },
     "execution_count": 7,
     "metadata": {},
     "output_type": "execute_result"
    }
   ],
   "source": [
    "np.unique(y_test)\n",
    "np.unique(y_test,return_counts=True)"
   ]
  },
  {
   "cell_type": "markdown",
   "metadata": {},
   "source": [
    "# Grid search"
   ]
  },
  {
   "cell_type": "code",
   "execution_count": 8,
   "metadata": {},
   "outputs": [
    {
     "data": {
      "text/plain": [
       "GridSearchCV(cv=5, error_score='raise',\n",
       "       estimator=SVC(C=1.0, cache_size=200, class_weight=None, coef0=0.0,\n",
       "  decision_function_shape='ovr', degree=3, gamma='auto', kernel='rbf',\n",
       "  max_iter=-1, probability=False, random_state=None, shrinking=True,\n",
       "  tol=0.001, verbose=False),\n",
       "       fit_params=None, iid=True, n_jobs=1,\n",
       "       param_grid={'kernel': ['rbf'], 'C': [1, 6.5, 10, 20, 100, 1000], 'gamma': [0.01, 0.002, 0.00069, 0.0007, 0.0005]},\n",
       "       pre_dispatch='2*n_jobs', refit=True, return_train_score='warn',\n",
       "       scoring=None, verbose=0)"
      ]
     },
     "execution_count": 8,
     "metadata": {},
     "output_type": "execute_result"
    }
   ],
   "source": [
    "cv=5\n",
    "from sklearn.model_selection import GridSearchCV\n",
    "# parameters = {'kernel':['rbf'], 'C':[1, 6.5, 10,20,100,1000],'gamma':[0.01,2/1428.0,1/1428.0]}\n",
    "parameters = {'kernel':['rbf'], 'C':[1, 6.5, 10,20,100,1000],'gamma':[0.01,0.002,0.00069,0.0007,0.0005]}\n",
    "svc = svm.SVC()\n",
    "clf = GridSearchCV(svc, parameters,cv=cv)\n",
    "clf.fit(X_train, y_train)"
   ]
  },
  {
   "cell_type": "code",
   "execution_count": 9,
   "metadata": {},
   "outputs": [],
   "source": [
    "# cv=5\n",
    "# from sklearn.model_selection import GridSearchCV\n",
    "# parameters = {'kernel':['rbf'], 'C':[0.90,1.00,1.25],'gamma':[3.0,3.25,3.25 ]}\n",
    "# svc = svm.SVC()\n",
    "# clf = GridSearchCV(svc, parameters,cv=cv)\n",
    "# clf.fit(X_train, y_train)"
   ]
  },
  {
   "cell_type": "code",
   "execution_count": 10,
   "metadata": {},
   "outputs": [
    {
     "name": "stdout",
     "output_type": "stream",
     "text": [
      "Accuracy:0.912 (+/-0.068)\n"
     ]
    }
   ],
   "source": [
    "# Average Scores\n",
    "#  print clf.cv_results_\n",
    "# clf.best_estimator_\n",
    "# np.mean\n",
    "scores=clf.cv_results_['mean_test_score']\n",
    "print(\"Accuracy:%0.3f (+/-%0.3f)\" %(scores.mean(), scores.std()*2))"
   ]
  },
  {
   "cell_type": "code",
   "execution_count": 11,
   "metadata": {
    "scrolled": true
   },
   "outputs": [
    {
     "name": "stdout",
     "output_type": "stream",
     "text": [
      "('Accuracy:', 0.9490616621983914)\n",
      "support: 25.1344086022\n"
     ]
    }
   ],
   "source": [
    "pred=clf.best_estimator_.predict(X_test)\n",
    "acc=clf.score(X_test, y_test)\n",
    "print (\"Accuracy:\", acc)  \n",
    "# print pred\n",
    "# print y_test\n",
    "print \"support:\", len(clf.best_estimator_.support_vectors_)*100.0/(X_train.shape[0])"
   ]
  },
  {
   "cell_type": "code",
   "execution_count": 12,
   "metadata": {},
   "outputs": [
    {
     "data": {
      "text/plain": [
       "array([[149,  10],\n",
       "       [  9, 205]])"
      ]
     },
     "execution_count": 12,
     "metadata": {},
     "output_type": "execute_result"
    }
   ],
   "source": [
    "conf_mat=confusion_matrix(y_test,pred)\n",
    "conf_mat"
   ]
  },
  {
   "cell_type": "code",
   "execution_count": 13,
   "metadata": {},
   "outputs": [
    {
     "name": "stdout",
     "output_type": "stream",
     "text": [
      "             precision    recall  f1-score   support\n",
      "\n",
      "        0.0       0.94      0.94      0.94       159\n",
      "        1.0       0.95      0.96      0.96       214\n",
      "\n",
      "avg / total       0.95      0.95      0.95       373\n",
      "\n"
     ]
    }
   ],
   "source": [
    "from sklearn.metrics import classification_report\n",
    "#target_names = ['class 0', 'class 1', 'class 2']\n",
    "print(classification_report(y_test, pred))"
   ]
  },
  {
   "cell_type": "code",
   "execution_count": 14,
   "metadata": {},
   "outputs": [
    {
     "data": {
      "text/plain": [
       "0.9475254217363194"
      ]
     },
     "execution_count": 14,
     "metadata": {},
     "output_type": "execute_result"
    }
   ],
   "source": [
    "false_positive_rate, true_positive_rate, thresholds = roc_curve(y_test,pred)\n",
    "roc_auc = auc(false_positive_rate, true_positive_rate)\n",
    "roc_auc"
   ]
  },
  {
   "cell_type": "code",
   "execution_count": 15,
   "metadata": {},
   "outputs": [
    {
     "data": {
      "text/plain": [
       "SVC(C=1000, cache_size=200, class_weight=None, coef0=0.0,\n",
       "  decision_function_shape='ovr', degree=3, gamma=0.002, kernel='rbf',\n",
       "  max_iter=-1, probability=False, random_state=None, shrinking=True,\n",
       "  tol=0.001, verbose=False)"
      ]
     },
     "execution_count": 15,
     "metadata": {},
     "output_type": "execute_result"
    }
   ],
   "source": [
    "clf.best_estimator_"
   ]
  },
  {
   "cell_type": "markdown",
   "metadata": {},
   "source": [
    "### KNN "
   ]
  },
  {
   "cell_type": "code",
   "execution_count": 16,
   "metadata": {},
   "outputs": [
    {
     "name": "stdout",
     "output_type": "stream",
     "text": [
      "('Accuracy:', 0.9276139410187667)\n",
      "[[142  17]\n",
      " [ 10 204]]\n",
      "             precision    recall  f1-score   support\n",
      "\n",
      "        0.0       0.93      0.89      0.91       159\n",
      "        1.0       0.92      0.95      0.94       214\n",
      "\n",
      "avg / total       0.93      0.93      0.93       373\n",
      "\n",
      "('roc', 0.9231763945218362)\n"
     ]
    }
   ],
   "source": [
    "clfknn = KNeighborsClassifier(n_neighbors=5)\n",
    "clfknn.fit(X_train, y_train)\n",
    "predk=clfknn.predict(X_test)\n",
    "acck=clfknn.score(X_test, y_test)\n",
    "print (\"Accuracy:\", acck)  \n",
    "print(confusion_matrix(y_test, predk))\n",
    "print(classification_report(y_test, predk))\n",
    "false_positive_rate, true_positive_rate, thresholds = roc_curve(y_test,predk)\n",
    "roc_auck = auc(false_positive_rate, true_positive_rate)\n",
    "print ('roc',roc_auck)"
   ]
  },
  {
   "cell_type": "code",
   "execution_count": null,
   "metadata": {},
   "outputs": [],
   "source": []
  },
  {
   "cell_type": "markdown",
   "metadata": {},
   "source": [
    "### Whole brain accuracy and AUC"
   ]
  },
  {
   "cell_type": "code",
   "execution_count": 17,
   "metadata": {},
   "outputs": [
    {
     "data": {
      "text/html": [
       "<div>\n",
       "<style scoped>\n",
       "    .dataframe tbody tr th:only-of-type {\n",
       "        vertical-align: middle;\n",
       "    }\n",
       "\n",
       "    .dataframe tbody tr th {\n",
       "        vertical-align: top;\n",
       "    }\n",
       "\n",
       "    .dataframe thead th {\n",
       "        text-align: right;\n",
       "    }\n",
       "</style>\n",
       "<table border=\"1\" class=\"dataframe\">\n",
       "  <thead>\n",
       "    <tr style=\"text-align: right;\">\n",
       "      <th></th>\n",
       "      <th>0</th>\n",
       "    </tr>\n",
       "  </thead>\n",
       "  <tbody>\n",
       "    <tr>\n",
       "      <th>0</th>\n",
       "      <td>0.949062</td>\n",
       "    </tr>\n",
       "    <tr>\n",
       "      <th>1</th>\n",
       "      <td>0.947525</td>\n",
       "    </tr>\n",
       "  </tbody>\n",
       "</table>\n",
       "</div>"
      ],
      "text/plain": [
       "          0\n",
       "0  0.949062\n",
       "1  0.947525"
      ]
     },
     "execution_count": 17,
     "metadata": {},
     "output_type": "execute_result"
    }
   ],
   "source": [
    "whc=pd.DataFrame([acc,roc_auc])\n",
    "whc"
   ]
  },
  {
   "cell_type": "code",
   "execution_count": 18,
   "metadata": {},
   "outputs": [],
   "source": [
    "## whole brain level analysis\n",
    "# whc=pd.DataFrame([acc,roc_auc,acck,roc_auck])\n",
    "# whc"
   ]
  },
  {
   "cell_type": "code",
   "execution_count": 19,
   "metadata": {},
   "outputs": [],
   "source": [
    "# cv=5\n",
    "# from sklearn.model_selection import GridSearchCV\n",
    "# parameters = {'kernel':['rbf'], 'C':[1],'gamma':[0.01 ]}\n",
    "# svc = svm.SVC()\n",
    "# clf = GridSearchCV(svc, parameters,cv=cv)\n",
    "# clf.fit(X_train, y_train)"
   ]
  },
  {
   "cell_type": "code",
   "execution_count": 20,
   "metadata": {},
   "outputs": [
    {
     "name": "stdout",
     "output_type": "stream",
     "text": [
      "Accuracy:0.855 (+/-0.072)\n",
      "0.8873994638069705\n",
      "0 68\n",
      "             precision    recall  f1-score   support\n",
      "\n",
      "        0.0       0.88      0.85      0.87       159\n",
      "        1.0       0.89      0.92      0.90       214\n",
      "\n",
      "avg / total       0.89      0.89      0.89       373\n",
      "\n",
      "Accuracy:0.862 (+/-0.071)\n",
      "0.8739946380697051\n",
      "68 136\n",
      "             precision    recall  f1-score   support\n",
      "\n",
      "        0.0       0.90      0.79      0.84       159\n",
      "        1.0       0.86      0.93      0.89       214\n",
      "\n",
      "avg / total       0.88      0.87      0.87       373\n",
      "\n",
      "Accuracy:0.898 (+/-0.075)\n",
      "0.9249329758713136\n",
      "136 204\n",
      "             precision    recall  f1-score   support\n",
      "\n",
      "        0.0       0.95      0.87      0.91       159\n",
      "        1.0       0.91      0.96      0.94       214\n",
      "\n",
      "avg / total       0.93      0.92      0.92       373\n",
      "\n",
      "Accuracy:0.910 (+/-0.066)\n",
      "0.967828418230563\n",
      "204 272\n",
      "             precision    recall  f1-score   support\n",
      "\n",
      "        0.0       0.96      0.97      0.96       159\n",
      "        1.0       0.98      0.97      0.97       214\n",
      "\n",
      "avg / total       0.97      0.97      0.97       373\n",
      "\n"
     ]
    }
   ],
   "source": [
    "k=0;j=68; acgw=[];\n",
    "for i in range(0,4):\n",
    "    cv=5\n",
    "    from sklearn.model_selection import GridSearchCV\n",
    "    parameters = {'kernel':['rbf'], 'C':[1, 10,20,30, 40, 50, 60, 70, 90,100,1000],'gamma':[0.01,0.0147, 0.016, 0.019, 0.021, 2/1428.0,1/1428.0]}\n",
    "    svc = svm.SVC()\n",
    "    clf = GridSearchCV(svc, parameters,cv=cv)\n",
    "    clf.fit(X_train[:,k:j], y_train)\n",
    "    pred=clf.best_estimator_.predict(X_test[:,k:j])\n",
    "    acc=clf.score(X_test[:,k:j], y_test)\n",
    "    acgw=np.append(acgw,acc)\n",
    "    scores=clf.cv_results_['mean_test_score']\n",
    "    print(\"Accuracy:%0.3f (+/-%0.3f)\" %(scores.mean(), scores.std()*2))\n",
    "    print acc\n",
    "    print k,j\n",
    "    print(classification_report(y_test, pred))\n",
    "    k=k+68;j=j+68;"
   ]
  },
  {
   "cell_type": "code",
   "execution_count": 21,
   "metadata": {},
   "outputs": [
    {
     "data": {
      "text/plain": [
       "0.9679215893728326"
      ]
     },
     "execution_count": 21,
     "metadata": {},
     "output_type": "execute_result"
    }
   ],
   "source": [
    "###This is the for last data only\n",
    "false_positive_rate, true_positive_rate, thresholds = roc_curve(y_test,pred)\n",
    "roc_auc_rh = auc(false_positive_rate, true_positive_rate)\n",
    "roc_auc_rh"
   ]
  },
  {
   "cell_type": "code",
   "execution_count": 22,
   "metadata": {},
   "outputs": [],
   "source": [
    "# clf.best_estimator_"
   ]
  },
  {
   "cell_type": "code",
   "execution_count": 23,
   "metadata": {},
   "outputs": [
    {
     "data": {
      "text/plain": [
       "(373, 68)"
      ]
     },
     "execution_count": 23,
     "metadata": {},
     "output_type": "execute_result"
    }
   ],
   "source": [
    "yr=X_test[:,0:68]\n",
    "yr.shape"
   ]
  },
  {
   "cell_type": "code",
   "execution_count": 24,
   "metadata": {},
   "outputs": [],
   "source": [
    "# dataset\n",
    "# Xc=dataset.iloc[:,2:].values\n",
    "# y=dataset.iloc[:,1].values\n",
    "# # Xc"
   ]
  },
  {
   "cell_type": "code",
   "execution_count": 25,
   "metadata": {},
   "outputs": [],
   "source": [
    "# X.shape\n",
    "# np.max(acgw)"
   ]
  },
  {
   "cell_type": "markdown",
   "metadata": {},
   "source": [
    "##### KNN Hemisphere"
   ]
  },
  {
   "cell_type": "code",
   "execution_count": 26,
   "metadata": {},
   "outputs": [
    {
     "name": "stdout",
     "output_type": "stream",
     "text": [
      "0.8605898123324397\n",
      "0 68\n",
      "             precision    recall  f1-score   support\n",
      "\n",
      "        0.0       0.87      0.79      0.83       159\n",
      "        1.0       0.86      0.91      0.88       214\n",
      "\n",
      "avg / total       0.86      0.86      0.86       373\n",
      "\n",
      "0.868632707774799\n",
      "68 136\n",
      "             precision    recall  f1-score   support\n",
      "\n",
      "        0.0       0.87      0.82      0.84       159\n",
      "        1.0       0.87      0.91      0.89       214\n",
      "\n",
      "avg / total       0.87      0.87      0.87       373\n",
      "\n",
      "0.8981233243967829\n",
      "136 204\n",
      "             precision    recall  f1-score   support\n",
      "\n",
      "        0.0       0.90      0.86      0.88       159\n",
      "        1.0       0.90      0.93      0.91       214\n",
      "\n",
      "avg / total       0.90      0.90      0.90       373\n",
      "\n",
      "0.935656836461126\n",
      "204 272\n",
      "             precision    recall  f1-score   support\n",
      "\n",
      "        0.0       0.91      0.94      0.93       159\n",
      "        1.0       0.96      0.93      0.94       214\n",
      "\n",
      "avg / total       0.94      0.94      0.94       373\n",
      "\n"
     ]
    }
   ],
   "source": [
    "k=0;j=68; acgkw=[];\n",
    "for i in range(0,4):\n",
    "    clfknnw = KNeighborsClassifier(n_neighbors=5)\n",
    "    clfknnw.fit(X_train[:,k:j], y_train)\n",
    "    predkw=clfknnw.predict(X_test[:,k:j])\n",
    "    acckw=clfknnw.score(X_test[:,k:j], y_test)\n",
    "    acgkw=np.append(acgkw,acckw)\n",
    "    print acckw\n",
    "    print k,j\n",
    "    print(classification_report(y_test, predkw))\n",
    "    k=k+68;j=j+68;"
   ]
  },
  {
   "cell_type": "code",
   "execution_count": 27,
   "metadata": {},
   "outputs": [
    {
     "data": {
      "text/plain": [
       "array([0.86058981, 0.86863271, 0.89812332, 0.93565684])"
      ]
     },
     "execution_count": 27,
     "metadata": {},
     "output_type": "execute_result"
    }
   ],
   "source": [
    "acgkw"
   ]
  },
  {
   "cell_type": "code",
   "execution_count": null,
   "metadata": {},
   "outputs": [],
   "source": []
  },
  {
   "cell_type": "code",
   "execution_count": null,
   "metadata": {},
   "outputs": [],
   "source": []
  },
  {
   "cell_type": "markdown",
   "metadata": {},
   "source": [
    "# Hemisphere"
   ]
  },
  {
   "cell_type": "markdown",
   "metadata": {},
   "source": [
    "### LH"
   ]
  },
  {
   "cell_type": "code",
   "execution_count": 28,
   "metadata": {},
   "outputs": [
    {
     "name": "stdout",
     "output_type": "stream",
     "text": [
      "0.938337801608579\n",
      "Accuracy:0.915 (+/-0.056)\n",
      "             precision    recall  f1-score   support\n",
      "\n",
      "        0.0       0.95      0.91      0.93       159\n",
      "        1.0       0.93      0.96      0.95       214\n",
      "\n",
      "avg / total       0.94      0.94      0.94       373\n",
      "\n"
     ]
    }
   ],
   "source": [
    "a=range(0,(X.shape[1]),2)\n",
    "d11=X[:,a];\n",
    "X_train, X_test, y_train, y_test = train_test_split(d11,y, test_size=.20, random_state=rs) \n",
    "cv=5\n",
    "from sklearn.model_selection import GridSearchCV\n",
    "# parameters = {'kernel':['rbf'], 'C':[1, 10,100,1000],'gamma':[0.01,2/1428.0,1/1428.0]}\n",
    "parameters = {'kernel':['rbf'], 'C':[1, 10,20,30, 40, 50, 60, 70, 90,100,1000],'gamma':[0.01,0.0147, 0.016, 0.019, 0.021, 2/1428.0,1/1428.0]}\n",
    "svc = svm.SVC()\n",
    "clf = GridSearchCV(svc, parameters,cv=cv)\n",
    "clf.fit(X_train, y_train)\n",
    "pred=clf.best_estimator_.predict(X_test)\n",
    "print clf.score(X_test, y_test)  \n",
    "scores=clf.cv_results_['mean_test_score']\n",
    "print(\"Accuracy:%0.3f (+/-%0.3f)\" %(scores.mean(), scores.std()*2))\n",
    "# print pred\n",
    "# print y_test\n",
    "print(classification_report(y_test, pred))"
   ]
  },
  {
   "cell_type": "code",
   "execution_count": 29,
   "metadata": {},
   "outputs": [
    {
     "data": {
      "text/plain": [
       "0.9341385998941987"
      ]
     },
     "execution_count": 29,
     "metadata": {},
     "output_type": "execute_result"
    }
   ],
   "source": [
    "false_positive_rate, true_positive_rate, thresholds = roc_curve(y_test,pred)\n",
    "roc_auc_lh = auc(false_positive_rate, true_positive_rate)\n",
    "roc_auc_lh"
   ]
  },
  {
   "cell_type": "code",
   "execution_count": 30,
   "metadata": {},
   "outputs": [
    {
     "name": "stdout",
     "output_type": "stream",
     "text": [
      "('Accuracy:', 0.938337801608579)\n",
      "support: 41.061827957\n"
     ]
    }
   ],
   "source": [
    "pred=clf.best_estimator_.predict(X_test)\n",
    "acc_lh=clf.score(X_test, y_test)\n",
    "print (\"Accuracy:\",acc_lh)   \n",
    "# print pred\n",
    "# print y_test\n",
    "print \"support:\", len(clf.best_estimator_.support_vectors_)*100.0/(X_train.shape[0])"
   ]
  },
  {
   "cell_type": "code",
   "execution_count": 31,
   "metadata": {},
   "outputs": [
    {
     "data": {
      "text/plain": [
       "SVC(C=60, cache_size=200, class_weight=None, coef0=0.0,\n",
       "  decision_function_shape='ovr', degree=3, gamma=0.0147, kernel='rbf',\n",
       "  max_iter=-1, probability=False, random_state=None, shrinking=True,\n",
       "  tol=0.001, verbose=False)"
      ]
     },
     "execution_count": 31,
     "metadata": {},
     "output_type": "execute_result"
    }
   ],
   "source": [
    "clf.best_estimator_"
   ]
  },
  {
   "cell_type": "code",
   "execution_count": 32,
   "metadata": {},
   "outputs": [
    {
     "data": {
      "text/html": [
       "<div>\n",
       "<style scoped>\n",
       "    .dataframe tbody tr th:only-of-type {\n",
       "        vertical-align: middle;\n",
       "    }\n",
       "\n",
       "    .dataframe tbody tr th {\n",
       "        vertical-align: top;\n",
       "    }\n",
       "\n",
       "    .dataframe thead th {\n",
       "        text-align: right;\n",
       "    }\n",
       "</style>\n",
       "<table border=\"1\" class=\"dataframe\">\n",
       "  <thead>\n",
       "    <tr style=\"text-align: right;\">\n",
       "      <th></th>\n",
       "      <th>0</th>\n",
       "    </tr>\n",
       "  </thead>\n",
       "  <tbody>\n",
       "    <tr>\n",
       "      <th>0</th>\n",
       "      <td>0.938338</td>\n",
       "    </tr>\n",
       "    <tr>\n",
       "      <th>1</th>\n",
       "      <td>0.934139</td>\n",
       "    </tr>\n",
       "  </tbody>\n",
       "</table>\n",
       "</div>"
      ],
      "text/plain": [
       "          0\n",
       "0  0.938338\n",
       "1  0.934139"
      ]
     },
     "execution_count": 32,
     "metadata": {},
     "output_type": "execute_result"
    }
   ],
   "source": [
    "lhacau=pd.DataFrame([acc_lh,roc_auc_lh])\n",
    "lhacau"
   ]
  },
  {
   "cell_type": "code",
   "execution_count": 33,
   "metadata": {},
   "outputs": [
    {
     "name": "stdout",
     "output_type": "stream",
     "text": [
      "Accuracy:0.818 (+/-0.039)\n",
      "0.8257372654155496\n",
      "0 34\n",
      "             precision    recall  f1-score   support\n",
      "\n",
      "        0.0       0.82      0.75      0.79       159\n",
      "        1.0       0.83      0.88      0.85       214\n",
      "\n",
      "avg / total       0.83      0.83      0.82       373\n",
      "\n",
      "Accuracy:0.825 (+/-0.039)\n",
      "0.8176943699731903\n",
      "34 68\n",
      "             precision    recall  f1-score   support\n",
      "\n",
      "        0.0       0.80      0.76      0.78       159\n",
      "        1.0       0.83      0.86      0.84       214\n",
      "\n",
      "avg / total       0.82      0.82      0.82       373\n",
      "\n",
      "Accuracy:0.863 (+/-0.037)\n",
      "0.8847184986595175\n",
      "68 102\n",
      "             precision    recall  f1-score   support\n",
      "\n",
      "        0.0       0.87      0.86      0.86       159\n",
      "        1.0       0.89      0.91      0.90       214\n",
      "\n",
      "avg / total       0.88      0.88      0.88       373\n",
      "\n",
      "Accuracy:0.913 (+/-0.029)\n",
      "0.9302949061662198\n",
      "102 136\n",
      "             precision    recall  f1-score   support\n",
      "\n",
      "        0.0       0.92      0.92      0.92       159\n",
      "        1.0       0.94      0.94      0.94       214\n",
      "\n",
      "avg / total       0.93      0.93      0.93       373\n",
      "\n"
     ]
    }
   ],
   "source": [
    "# only 34 features \n",
    "parameters = {'kernel':['rbf'], 'C':[1, 10,20,30, 40, 50, 60, 70, 90,100,1000],'gamma':[0.015,0.025, 0.029, 0.030,0.035]}\n",
    "svc = svm.SVC()\n",
    "k=0;j=34; acgr=[];\n",
    "for i in range(0,4):\n",
    "    cv=5\n",
    "    from sklearn.model_selection import GridSearchCV\n",
    "#     parameters = {'kernel':['rbf'], 'C':[1, 10,100,1000],'gamma':[0.01,2/1428.0,1/1428.0]}\n",
    "    svc = svm.SVC()\n",
    "    clf = GridSearchCV(svc, parameters,cv=cv)\n",
    "    clf.fit(X_train[:,k:j], y_train)\n",
    "    pred=clf.best_estimator_.predict(X_test[:,k:j])\n",
    "    acc=clf.score(X_test[:,k:j], y_test)\n",
    "    acgr=np.append(acgr,acc)\n",
    "    scores=clf.cv_results_['mean_test_score']\n",
    "    print(\"Accuracy:%0.3f (+/-%0.3f)\" %(scores.mean(), scores.std()*2))\n",
    "    print acc\n",
    "    print k,j\n",
    "    print(classification_report(y_test, pred))\n",
    "    k=k+34;j=j+34;"
   ]
  },
  {
   "cell_type": "code",
   "execution_count": 34,
   "metadata": {},
   "outputs": [
    {
     "data": {
      "text/plain": [
       "0.928745665079645"
      ]
     },
     "execution_count": 34,
     "metadata": {},
     "output_type": "execute_result"
    }
   ],
   "source": [
    "###This is the for last data only\n",
    "false_positive_rate, true_positive_rate, thresholds = roc_curve(y_test,pred)\n",
    "roc_auc_rh = auc(false_positive_rate, true_positive_rate)\n",
    "roc_auc_rh"
   ]
  },
  {
   "cell_type": "markdown",
   "metadata": {},
   "source": [
    "### Knnlh Hemisphere"
   ]
  },
  {
   "cell_type": "code",
   "execution_count": 35,
   "metadata": {},
   "outputs": [
    {
     "name": "stdout",
     "output_type": "stream",
     "text": [
      "('Accuracy:', 0.9115281501340483)\n",
      "[[145  14]\n",
      " [ 19 195]]\n",
      "             precision    recall  f1-score   support\n",
      "\n",
      "        0.0       0.88      0.91      0.90       159\n",
      "        1.0       0.93      0.91      0.92       214\n",
      "\n",
      "avg / total       0.91      0.91      0.91       373\n",
      "\n",
      "('roc', 0.9115823194028096)\n"
     ]
    }
   ],
   "source": [
    "a=range(0,(X.shape[1]),2)\n",
    "d11=X[:,a];\n",
    "X_train, X_test, y_train, y_test = train_test_split(d11,y, test_size=.20, random_state=rs) \n",
    "clfknnlh = KNeighborsClassifier(n_neighbors=5)\n",
    "clfknnlh.fit(X_train, y_train)\n",
    "predklh=clfknnlh.predict(X_test)\n",
    "accklh=clfknnlh.score(X_test, y_test)\n",
    "print (\"Accuracy:\", accklh)  \n",
    "print(confusion_matrix(y_test, predklh))\n",
    "print(classification_report(y_test, predklh))\n",
    "false_positive_rate, true_positive_rate, thresholds = roc_curve(y_test,predklh)\n",
    "roc_aucklh = auc(false_positive_rate, true_positive_rate)\n",
    "print ('roc',roc_aucklh)"
   ]
  },
  {
   "cell_type": "code",
   "execution_count": 36,
   "metadata": {},
   "outputs": [
    {
     "name": "stdout",
     "output_type": "stream",
     "text": [
      "('Acc:', 0.8203753351206434)\n",
      "0 34\n",
      "             precision    recall  f1-score   support\n",
      "\n",
      "        0.0       0.82      0.75      0.78       159\n",
      "        1.0       0.82      0.87      0.85       214\n",
      "\n",
      "avg / total       0.82      0.82      0.82       373\n",
      "\n",
      "('Acc:', 0.8096514745308311)\n",
      "34 68\n",
      "             precision    recall  f1-score   support\n",
      "\n",
      "        0.0       0.81      0.73      0.77       159\n",
      "        1.0       0.81      0.87      0.84       214\n",
      "\n",
      "avg / total       0.81      0.81      0.81       373\n",
      "\n",
      "('Acc:', 0.8364611260053619)\n",
      "68 102\n",
      "             precision    recall  f1-score   support\n",
      "\n",
      "        0.0       0.83      0.78      0.80       159\n",
      "        1.0       0.84      0.88      0.86       214\n",
      "\n",
      "avg / total       0.84      0.84      0.84       373\n",
      "\n",
      "('Acc:', 0.9195710455764075)\n",
      "102 136\n",
      "             precision    recall  f1-score   support\n",
      "\n",
      "        0.0       0.89      0.93      0.91       159\n",
      "        1.0       0.95      0.91      0.93       214\n",
      "\n",
      "avg / total       0.92      0.92      0.92       373\n",
      "\n"
     ]
    }
   ],
   "source": [
    "# only 34 features \n",
    "k=0;j=34; acgklh=[];\n",
    "for i in range(0,4):\n",
    "    clfknnlh = KNeighborsClassifier(n_neighbors=5)\n",
    "    clfknnlh.fit(X_train[:,k:j], y_train)\n",
    "    predklh=clfknnlh.predict(X_test[:,k:j])\n",
    "    accklh=clfknnlh.score(X_test[:,k:j], y_test)\n",
    "    acgklh=np.append(acgklh,accklh)\n",
    "    print ('Acc:',accklh)\n",
    "    print k,j\n",
    "    print(classification_report(y_test, predklh))\n",
    "    k=k+34;j=j+34;"
   ]
  },
  {
   "cell_type": "code",
   "execution_count": null,
   "metadata": {},
   "outputs": [],
   "source": []
  },
  {
   "cell_type": "code",
   "execution_count": 37,
   "metadata": {},
   "outputs": [],
   "source": [
    "## "
   ]
  },
  {
   "cell_type": "markdown",
   "metadata": {},
   "source": [
    "### RH"
   ]
  },
  {
   "cell_type": "code",
   "execution_count": 38,
   "metadata": {},
   "outputs": [
    {
     "name": "stdout",
     "output_type": "stream",
     "text": [
      "0.9195710455764075\n",
      "Accuracy:0.887 (+/-0.051)\n",
      "             precision    recall  f1-score   support\n",
      "\n",
      "        0.0       0.92      0.89      0.90       159\n",
      "        1.0       0.92      0.94      0.93       214\n",
      "\n",
      "avg / total       0.92      0.92      0.92       373\n",
      "\n"
     ]
    }
   ],
   "source": [
    "b=range(1,(X.shape[1]),2)\n",
    "d22=X[:,b];\n",
    "X_train, X_test, y_train, y_test = train_test_split(d22,y, test_size=.20, random_state=rs) \n",
    "cv=5\n",
    "from sklearn.model_selection import GridSearchCV\n",
    "# parameters = {'kernel':['rbf'], 'C':[1, 10,100,1000],'gamma':[0.01,2/1428.0,1/1428.0]}\n",
    "parameters = {'kernel':['rbf'], 'C':[1, 10,20,30, 40, 50, 60, 70, 90,100,1000],'gamma':[0.01,0.0147, 0.016, 0.019, 0.021, 2/1428.0,1/1428.0]}\n",
    "svc = svm.SVC()\n",
    "clf = GridSearchCV(svc, parameters,cv=cv)\n",
    "clf.fit(X_train, y_train)\n",
    "pred=clf.best_estimator_.predict(X_test)\n",
    "print clf.score(X_test, y_test)  \n",
    "scores=clf.cv_results_['mean_test_score']\n",
    "print(\"Accuracy:%0.3f (+/-%0.3f)\" %(scores.mean(), scores.std()*2))\n",
    "# print pred\n",
    "# print y_test\n",
    "print(classification_report(y_test, pred))"
   ]
  },
  {
   "cell_type": "code",
   "execution_count": 39,
   "metadata": {},
   "outputs": [
    {
     "data": {
      "text/plain": [
       "0.9161670487274437"
      ]
     },
     "execution_count": 39,
     "metadata": {},
     "output_type": "execute_result"
    }
   ],
   "source": [
    "false_positive_rate, true_positive_rate, thresholds = roc_curve(y_test,pred)\n",
    "roc_auc_rh = auc(false_positive_rate, true_positive_rate)\n",
    "roc_auc_rh"
   ]
  },
  {
   "cell_type": "code",
   "execution_count": 40,
   "metadata": {},
   "outputs": [
    {
     "name": "stdout",
     "output_type": "stream",
     "text": [
      "('Accuracy:', 0.9195710455764075)\n",
      "support: 45.9677419355\n"
     ]
    }
   ],
   "source": [
    "pred=clf.best_estimator_.predict(X_test)\n",
    "acc_rh=clf.score(X_test, y_test)\n",
    "print (\"Accuracy:\",acc_rh)   \n",
    "# print pred\n",
    "# print y_test\n",
    "print \"support:\", len(clf.best_estimator_.support_vectors_)*100.0/(X_train.shape[0])"
   ]
  },
  {
   "cell_type": "code",
   "execution_count": 41,
   "metadata": {},
   "outputs": [],
   "source": [
    "# acg=[];\n",
    "# for i in range(0,6,2):\n",
    "#     acg=np.append(acg,i)"
   ]
  },
  {
   "cell_type": "code",
   "execution_count": 42,
   "metadata": {},
   "outputs": [
    {
     "data": {
      "text/plain": [
       "SVC(C=10, cache_size=200, class_weight=None, coef0=0.0,\n",
       "  decision_function_shape='ovr', degree=3, gamma=0.01, kernel='rbf',\n",
       "  max_iter=-1, probability=False, random_state=None, shrinking=True,\n",
       "  tol=0.001, verbose=False)"
      ]
     },
     "execution_count": 42,
     "metadata": {},
     "output_type": "execute_result"
    }
   ],
   "source": [
    "clf.best_estimator_"
   ]
  },
  {
   "cell_type": "code",
   "execution_count": 43,
   "metadata": {},
   "outputs": [
    {
     "data": {
      "text/html": [
       "<div>\n",
       "<style scoped>\n",
       "    .dataframe tbody tr th:only-of-type {\n",
       "        vertical-align: middle;\n",
       "    }\n",
       "\n",
       "    .dataframe tbody tr th {\n",
       "        vertical-align: top;\n",
       "    }\n",
       "\n",
       "    .dataframe thead th {\n",
       "        text-align: right;\n",
       "    }\n",
       "</style>\n",
       "<table border=\"1\" class=\"dataframe\">\n",
       "  <thead>\n",
       "    <tr style=\"text-align: right;\">\n",
       "      <th></th>\n",
       "      <th>0</th>\n",
       "    </tr>\n",
       "  </thead>\n",
       "  <tbody>\n",
       "    <tr>\n",
       "      <th>0</th>\n",
       "      <td>0.919571</td>\n",
       "    </tr>\n",
       "    <tr>\n",
       "      <th>1</th>\n",
       "      <td>0.916167</td>\n",
       "    </tr>\n",
       "  </tbody>\n",
       "</table>\n",
       "</div>"
      ],
      "text/plain": [
       "          0\n",
       "0  0.919571\n",
       "1  0.916167"
      ]
     },
     "execution_count": 43,
     "metadata": {},
     "output_type": "execute_result"
    }
   ],
   "source": [
    "rhacau=pd.DataFrame([acc_rh,roc_auc_rh])\n",
    "rhacau"
   ]
  },
  {
   "cell_type": "code",
   "execution_count": 44,
   "metadata": {},
   "outputs": [
    {
     "name": "stdout",
     "output_type": "stream",
     "text": [
      "Accuracy:0.824 (+/-0.045)\n",
      "0.7908847184986595\n",
      "0 34\n",
      "             precision    recall  f1-score   support\n",
      "\n",
      "        0.0       0.79      0.70      0.74       159\n",
      "        1.0       0.79      0.86      0.83       214\n",
      "\n",
      "avg / total       0.79      0.79      0.79       373\n",
      "\n",
      "Accuracy:0.830 (+/-0.042)\n",
      "0.8123324396782842\n",
      "34 68\n",
      "             precision    recall  f1-score   support\n",
      "\n",
      "        0.0       0.81      0.73      0.77       159\n",
      "        1.0       0.81      0.87      0.84       214\n",
      "\n",
      "avg / total       0.81      0.81      0.81       373\n",
      "\n",
      "Accuracy:0.867 (+/-0.037)\n",
      "0.8659517426273459\n",
      "68 102\n",
      "             precision    recall  f1-score   support\n",
      "\n",
      "        0.0       0.88      0.80      0.84       159\n",
      "        1.0       0.86      0.92      0.89       214\n",
      "\n",
      "avg / total       0.87      0.87      0.86       373\n",
      "\n",
      "Accuracy:0.879 (+/-0.032)\n",
      "0.9195710455764075\n",
      "102 136\n",
      "             precision    recall  f1-score   support\n",
      "\n",
      "        0.0       0.92      0.89      0.90       159\n",
      "        1.0       0.92      0.94      0.93       214\n",
      "\n",
      "avg / total       0.92      0.92      0.92       373\n",
      "\n"
     ]
    }
   ],
   "source": [
    "k=0;j=34; acgl=[];\n",
    "for i in range(0,4):\n",
    "    cv=5\n",
    "    from sklearn.model_selection import GridSearchCV\n",
    "#     parameters = {'kernel':['rbf'], 'C':[1, 10,100,1000],'gamma':[0.01,2/1428.0,1/1428.0]}\n",
    "    parameters = {'kernel':['rbf'], 'C':[1, 10,20,30, 40, 50, 60, 70, 90,100,1000],'gamma':[0.015,0.025, 0.029, 0.030,0.035]}\n",
    "    svc = svm.SVC()\n",
    "    clf = GridSearchCV(svc, parameters,cv=cv)\n",
    "    clf.fit(X_train[:,k:j], y_train)\n",
    "    pred=clf.best_estimator_.predict(X_test[:,k:j])\n",
    "    acc=clf.score(X_test[:,k:j], y_test)\n",
    "    acgl=np.append(acgl,acc)\n",
    "    scores=clf.cv_results_['mean_test_score']\n",
    "#     print scores\n",
    "    print(\"Accuracy:%0.3f (+/-%0.3f)\" %(scores.mean(), scores.std()*2))\n",
    "    print acc\n",
    "    print k,j\n",
    "    print(classification_report(y_test, pred))\n",
    "    k=k+34;j=j+34;"
   ]
  },
  {
   "cell_type": "code",
   "execution_count": 45,
   "metadata": {},
   "outputs": [
    {
     "data": {
      "text/plain": [
       "0.9153588432375243"
      ]
     },
     "execution_count": 45,
     "metadata": {},
     "output_type": "execute_result"
    }
   ],
   "source": [
    "###This is the for last data only\n",
    "false_positive_rate, true_positive_rate, thresholds = roc_curve(y_test,pred)\n",
    "roc_auc_rh = auc(false_positive_rate, true_positive_rate)\n",
    "roc_auc_rh"
   ]
  },
  {
   "cell_type": "markdown",
   "metadata": {},
   "source": [
    "# knnrh"
   ]
  },
  {
   "cell_type": "code",
   "execution_count": 46,
   "metadata": {},
   "outputs": [
    {
     "name": "stdout",
     "output_type": "stream",
     "text": [
      "('Accuracy:', 0.8981233243967829)\n",
      "[[136  23]\n",
      " [ 15 199]]\n",
      "             precision    recall  f1-score   support\n",
      "\n",
      "        0.0       0.90      0.86      0.88       159\n",
      "        1.0       0.90      0.93      0.91       214\n",
      "\n",
      "avg / total       0.90      0.90      0.90       373\n",
      "\n",
      "('roc', 0.8926262270028802)\n"
     ]
    }
   ],
   "source": [
    "a=range(1,(X.shape[1]),2)\n",
    "d11=X[:,a];\n",
    "X_train, X_test, y_train, y_test = train_test_split(d11,y, test_size=.20, random_state=rs) \n",
    "clfknnrh = KNeighborsClassifier(n_neighbors=5)\n",
    "clfknnrh.fit(X_train, y_train)\n",
    "predkrh=clfknnrh.predict(X_test)\n",
    "acckrh=clfknnrh.score(X_test, y_test)\n",
    "print (\"Accuracy:\", acckrh)  \n",
    "print(confusion_matrix(y_test, predkrh))\n",
    "print(classification_report(y_test, predkrh))\n",
    "false_positive_rate, true_positive_rate, thresholds = roc_curve(y_test,predkrh)\n",
    "roc_auckrh = auc(false_positive_rate, true_positive_rate)\n",
    "print ('roc',roc_auckrh)"
   ]
  },
  {
   "cell_type": "code",
   "execution_count": 47,
   "metadata": {},
   "outputs": [
    {
     "name": "stdout",
     "output_type": "stream",
     "text": [
      "('acc:', 0.7774798927613941)\n",
      "0 34\n",
      "             precision    recall  f1-score   support\n",
      "\n",
      "        0.0       0.74      0.74      0.74       159\n",
      "        1.0       0.81      0.80      0.81       214\n",
      "\n",
      "avg / total       0.78      0.78      0.78       373\n",
      "\n",
      "('acc:', 0.8016085790884718)\n",
      "34 68\n",
      "             precision    recall  f1-score   support\n",
      "\n",
      "        0.0       0.77      0.75      0.76       159\n",
      "        1.0       0.82      0.84      0.83       214\n",
      "\n",
      "avg / total       0.80      0.80      0.80       373\n",
      "\n",
      "('acc:', 0.8659517426273459)\n",
      "68 102\n",
      "             precision    recall  f1-score   support\n",
      "\n",
      "        0.0       0.87      0.81      0.84       159\n",
      "        1.0       0.87      0.91      0.89       214\n",
      "\n",
      "avg / total       0.87      0.87      0.87       373\n",
      "\n",
      "('acc:', 0.9222520107238605)\n",
      "102 136\n",
      "             precision    recall  f1-score   support\n",
      "\n",
      "        0.0       0.92      0.89      0.91       159\n",
      "        1.0       0.92      0.94      0.93       214\n",
      "\n",
      "avg / total       0.92      0.92      0.92       373\n",
      "\n"
     ]
    }
   ],
   "source": [
    "# only 34 features \n",
    "k=0;j=34; acgrh=[];\n",
    "for i in range(0,4):\n",
    "    clfknnrh = KNeighborsClassifier(n_neighbors=5)\n",
    "    clfknnrh.fit(X_train[:,k:j], y_train)\n",
    "    predkrh=clfknnrh.predict(X_test[:,k:j])\n",
    "    acckrh=clfknnrh.score(X_test[:,k:j], y_test)\n",
    "    acgrh=np.append(acgrh,acckrh)\n",
    "    print ('acc:',acckrh)\n",
    "    print k,j\n",
    "    print(classification_report(y_test, predkrh))\n",
    "    k=k+34;j=j+34;"
   ]
  },
  {
   "cell_type": "code",
   "execution_count": null,
   "metadata": {},
   "outputs": [],
   "source": []
  },
  {
   "cell_type": "code",
   "execution_count": null,
   "metadata": {},
   "outputs": [],
   "source": []
  },
  {
   "cell_type": "code",
   "execution_count": 48,
   "metadata": {},
   "outputs": [],
   "source": [
    "t=np.linspace(0,3,4, endpoint=True)\n",
    "time=pd.DataFrame(t)\n",
    "# a=pd.concat([time,pd.DataFrame(acgw),pd.DataFrame(acgl),pd.DataFrame(acgr)],axis=1, keys=[ 'time',\"Whole\", \"LH\", \"RH\"])\n",
    "a=pd.concat([time,pd.DataFrame(acgw),pd.DataFrame(acgr),pd.DataFrame(acgl)],axis=1, keys=[ 'time',\"Whole\", \"LH\", \"RH\"])"
   ]
  },
  {
   "cell_type": "code",
   "execution_count": 49,
   "metadata": {},
   "outputs": [
    {
     "data": {
      "text/plain": [
       "0.9195710455764075"
      ]
     },
     "execution_count": 49,
     "metadata": {},
     "output_type": "execute_result"
    }
   ],
   "source": [
    "np.max(acgl)\n",
    "np.max(a.iloc[:,3])"
   ]
  },
  {
   "cell_type": "code",
   "execution_count": 50,
   "metadata": {},
   "outputs": [],
   "source": [
    "# wpath=\"/home/sultan/EEG/Source_level_frequency_analysis/Results/\"\n",
    "# dall=a\n",
    "# # dall.to_csv(wpath+'svm_res_100sam_10ms_clear_v1.csv')\n",
    "# dall.to_csv(wpath+'svm_res_band_100sam_clear_v1.csv')"
   ]
  },
  {
   "cell_type": "code",
   "execution_count": 51,
   "metadata": {},
   "outputs": [
    {
     "data": {
      "image/png": "[encoded data removed]",
      "text/plain": [
       "<Figure size 432x288 with 1 Axes>"
      ]
     },
     "metadata": {
      "needs_background": "light"
     },
     "output_type": "display_data"
    }
   ],
   "source": [
    "axis_font = {'fontname':'Arial', 'size':'15'}\n",
    "#tw1=tad.iloc[1:,0];Acdw1=tad.iloc[1:,1];\n",
    "tw1=a.iloc[0:,0];Acdw=a.iloc[0:,1];Acdlh=a.iloc[0:,2];Acdrh=a.iloc[0:,3]\n",
    "# plt.plot(tw1,Acdw1,c='g')\n",
    "plt.plot(tw1,Acdw,'g',linewidth=2,marker='*')\n",
    "plt.plot(tw1, Acdlh,'--r',linewidth=2,marker='o')\n",
    "plt.plot(tw1, Acdrh,'--b',linewidth=2,marker='x')\n",
    "plt.title(\"Clear\")\n",
    "plt.xlim(0,4)\n",
    "plt.ylim(0.7,1)\n",
    "plt.grid(True)\n",
    "plt.tight_layout()\n",
    "plt.gca().legend(('Whole','LH','RH'),fontsize=16,loc='best')\n",
    "# plt.savefig('whole_acc_timem.eps')\n",
    "# plt.savefig('whole_acc_timem.tif')\n",
    "plt.show()"
   ]
  },
  {
   "cell_type": "code",
   "execution_count": 52,
   "metadata": {},
   "outputs": [
    {
     "data": {
      "text/plain": [
       "34.67741935483871"
      ]
     },
     "execution_count": 52,
     "metadata": {},
     "output_type": "execute_result"
    }
   ],
   "source": [
    "len(clf.best_estimator_.support_vectors_)*100.0/(X_train.shape[0])"
   ]
  },
  {
   "cell_type": "code",
   "execution_count": 53,
   "metadata": {},
   "outputs": [],
   "source": [
    "# dall"
   ]
  },
  {
   "cell_type": "code",
   "execution_count": 54,
   "metadata": {},
   "outputs": [
    {
     "data": {
      "text/plain": [
       "(1488, 136)"
      ]
     },
     "execution_count": 54,
     "metadata": {},
     "output_type": "execute_result"
    }
   ],
   "source": [
    "X_train.shape"
   ]
  },
  {
   "cell_type": "code",
   "execution_count": 55,
   "metadata": {},
   "outputs": [
    {
     "data": {
      "text/plain": [
       "pandas.core.frame.DataFrame"
      ]
     },
     "execution_count": 55,
     "metadata": {},
     "output_type": "execute_result"
    }
   ],
   "source": [
    "type(whc)"
   ]
  },
  {
   "cell_type": "code",
   "execution_count": 56,
   "metadata": {},
   "outputs": [
    {
     "data": {
      "text/html": [
       "<div>\n",
       "<style scoped>\n",
       "    .dataframe tbody tr th:only-of-type {\n",
       "        vertical-align: middle;\n",
       "    }\n",
       "\n",
       "    .dataframe tbody tr th {\n",
       "        vertical-align: top;\n",
       "    }\n",
       "\n",
       "    .dataframe thead tr th {\n",
       "        text-align: left;\n",
       "    }\n",
       "</style>\n",
       "<table border=\"1\" class=\"dataframe\">\n",
       "  <thead>\n",
       "    <tr>\n",
       "      <th></th>\n",
       "      <th>Whole</th>\n",
       "      <th>LH</th>\n",
       "      <th>RH</th>\n",
       "    </tr>\n",
       "    <tr>\n",
       "      <th></th>\n",
       "      <th>0</th>\n",
       "      <th>0</th>\n",
       "      <th>0</th>\n",
       "    </tr>\n",
       "  </thead>\n",
       "  <tbody>\n",
       "    <tr>\n",
       "      <th>0</th>\n",
       "      <td>0.949062</td>\n",
       "      <td>0.938338</td>\n",
       "      <td>0.919571</td>\n",
       "    </tr>\n",
       "    <tr>\n",
       "      <th>1</th>\n",
       "      <td>0.947525</td>\n",
       "      <td>0.934139</td>\n",
       "      <td>0.916167</td>\n",
       "    </tr>\n",
       "  </tbody>\n",
       "</table>\n",
       "</div>"
      ],
      "text/plain": [
       "      Whole        LH        RH\n",
       "          0         0         0\n",
       "0  0.949062  0.938338  0.919571\n",
       "1  0.947525  0.934139  0.916167"
      ]
     },
     "execution_count": 56,
     "metadata": {},
     "output_type": "execute_result"
    }
   ],
   "source": [
    "## Ffe: Fulll features altogether\n",
    "Ffe=pd.concat([whc,lhacau,rhacau],axis=1, keys=[ \"Whole\", \"LH\", \"RH\"])\n",
    "Ffe"
   ]
  },
  {
   "cell_type": "code",
   "execution_count": 57,
   "metadata": {},
   "outputs": [],
   "source": [
    "## bb: is the sub band frequency\n",
    "bb=a.iloc[:,1:]"
   ]
  },
  {
   "cell_type": "code",
   "execution_count": 58,
   "metadata": {},
   "outputs": [
    {
     "data": {
      "text/html": [
       "<div>\n",
       "<style scoped>\n",
       "    .dataframe tbody tr th:only-of-type {\n",
       "        vertical-align: middle;\n",
       "    }\n",
       "\n",
       "    .dataframe tbody tr th {\n",
       "        vertical-align: top;\n",
       "    }\n",
       "\n",
       "    .dataframe thead tr th {\n",
       "        text-align: left;\n",
       "    }\n",
       "</style>\n",
       "<table border=\"1\" class=\"dataframe\">\n",
       "  <thead>\n",
       "    <tr>\n",
       "      <th></th>\n",
       "      <th>Whole</th>\n",
       "      <th>LH</th>\n",
       "      <th>RH</th>\n",
       "    </tr>\n",
       "    <tr>\n",
       "      <th></th>\n",
       "      <th>0</th>\n",
       "      <th>0</th>\n",
       "      <th>0</th>\n",
       "    </tr>\n",
       "  </thead>\n",
       "  <tbody>\n",
       "    <tr>\n",
       "      <th>0</th>\n",
       "      <td>94.906166</td>\n",
       "      <td>93.833780</td>\n",
       "      <td>91.957105</td>\n",
       "    </tr>\n",
       "    <tr>\n",
       "      <th>1</th>\n",
       "      <td>94.752542</td>\n",
       "      <td>93.413860</td>\n",
       "      <td>91.616705</td>\n",
       "    </tr>\n",
       "    <tr>\n",
       "      <th>0</th>\n",
       "      <td>88.739946</td>\n",
       "      <td>82.573727</td>\n",
       "      <td>79.088472</td>\n",
       "    </tr>\n",
       "    <tr>\n",
       "      <th>1</th>\n",
       "      <td>87.399464</td>\n",
       "      <td>81.769437</td>\n",
       "      <td>81.233244</td>\n",
       "    </tr>\n",
       "    <tr>\n",
       "      <th>2</th>\n",
       "      <td>92.493298</td>\n",
       "      <td>88.471850</td>\n",
       "      <td>86.595174</td>\n",
       "    </tr>\n",
       "    <tr>\n",
       "      <th>3</th>\n",
       "      <td>96.782842</td>\n",
       "      <td>93.029491</td>\n",
       "      <td>91.957105</td>\n",
       "    </tr>\n",
       "  </tbody>\n",
       "</table>\n",
       "</div>"
      ],
      "text/plain": [
       "       Whole         LH         RH\n",
       "           0          0          0\n",
       "0  94.906166  93.833780  91.957105\n",
       "1  94.752542  93.413860  91.616705\n",
       "0  88.739946  82.573727  79.088472\n",
       "1  87.399464  81.769437  81.233244\n",
       "2  92.493298  88.471850  86.595174\n",
       "3  96.782842  93.029491  91.957105"
      ]
     },
     "execution_count": 58,
     "metadata": {},
     "output_type": "execute_result"
    }
   ],
   "source": [
    "## Here the 1st and 2nd rows are accand roc for full brain\n",
    "## Here from 3rd row theta,alpha beta,and gamma\n",
    "# wrpath=\"/home/sultan/EEG/Source_level_frequency_analysis/Results/\"\n",
    "bandallclean=pd.concat([Ffe*100,bb*100],axis=0)\n",
    "# # bandallclean.iloc[0:,:]\n",
    "bandallclean\n",
    "# bandallclean.to_csv(wrpath+str(rs)+'Clear_band.csv')"
   ]
  },
  {
   "cell_type": "code",
   "execution_count": 59,
   "metadata": {},
   "outputs": [],
   "source": [
    "# clear=bandallclean.values[1,:].tolist()\n",
    "# noise=bandallclean.values[2,:].tolist()"
   ]
  },
  {
   "cell_type": "code",
   "execution_count": 60,
   "metadata": {},
   "outputs": [],
   "source": [
    "# clear"
   ]
  },
  {
   "cell_type": "code",
   "execution_count": 61,
   "metadata": {},
   "outputs": [],
   "source": [
    "# # clear=bandallclean.values[1,:].tolist()\n",
    "# # noise=bandallclean.values[2,:].tolist()\n",
    "# n_groups = 3\n",
    "# # clear = (61.29,54.83,54.83,61.29)\n",
    "# # noise = (85, 62, 54, 20)\n",
    "# #Random shuffle\n",
    "# # clear = [96.24,94.63,91.12]\n",
    "# # noise = [92.79,92.24,91.96] \n",
    "# # create plot\n",
    "# axis_font = {'fontname':'Arial', 'size':'16'}\n",
    "# fig, ax = plt.subplots()\n",
    "# index = np.arange(n_groups)\n",
    "# bar_width = 0.40\n",
    "# opacity = 0.85\n",
    "# rects1 = plt.bar(index, clear, bar_width,\n",
    "#                  alpha=opacity,\n",
    "#                  color='g',\n",
    "#                  label='Clear')\n",
    " \n",
    "# rects2 = plt.bar(index + bar_width, noise, bar_width,\n",
    "#                  alpha=opacity,\n",
    "#                  color='gray',\n",
    "#                  label='Noise') \n",
    "# plt.xlabel('Analysis scenarios',**axis_font)\n",
    "# plt.ylabel('Accuracy (%)',**axis_font)\n",
    "# plt.title('Spectral analysis',**axis_font)\n",
    "# plt.ylim(50,100)\n",
    "# plt.xticks(index + bar_width-0.2, ('Whole-brain','LH', 'RH'),**axis_font)\n",
    "# # plt.xticks(index + bar_width-0.2, (r'$\\theta$',r'$\\alpha$', r'$\\beta$', r'$\\gamma$'),**axis_font)\n",
    "# plt.yticks(**axis_font)\n",
    "# plt.legend(fontsize=14,loc=10)\n",
    "# # plt.grid(True)\n",
    "# plt.tight_layout()\n",
    "# plt.show()"
   ]
  },
  {
   "cell_type": "code",
   "execution_count": 62,
   "metadata": {},
   "outputs": [],
   "source": [
    "# clear=bandallclean.values[2:,0].tolist()\n",
    "# noise=bandallclean.values[2:,1].tolist()"
   ]
  },
  {
   "cell_type": "code",
   "execution_count": 63,
   "metadata": {},
   "outputs": [],
   "source": [
    "# clear"
   ]
  },
  {
   "cell_type": "code",
   "execution_count": 64,
   "metadata": {},
   "outputs": [],
   "source": [
    "# n_groups = 4\n",
    "# # clear = (61.29,54.83,54.83,61.29)\n",
    "# # noise = (85, 62, 54, 20)\n",
    "# #Random shuffle\n",
    "# # clear = [67.74,70.97,54.84,48.38]\n",
    "# # noise = [54.84,45.16,38.71,45.16] \n",
    "# # create plot\n",
    "# axis_font = {'fontname':'Arial', 'size':'16'}\n",
    "# fig, ax = plt.subplots()\n",
    "# index = np.arange(n_groups)\n",
    "# bar_width = 0.40\n",
    "# opacity = 0.85\n",
    "# rects1 = plt.bar(index, clear, bar_width,\n",
    "#                  alpha=opacity,\n",
    "#                  color='g',\n",
    "#                  label='Clear')\n",
    " \n",
    "# rects2 = plt.bar(index + bar_width, noise, bar_width,\n",
    "#                  alpha=opacity,\n",
    "#                  color='gray',\n",
    "#                  label='Noise') \n",
    "# plt.xlabel('Frequency band',**axis_font)\n",
    "# plt.ylabel('Accuracy (%)',**axis_font)\n",
    "# plt.title('Whole brain',**axis_font)\n",
    "# plt.ylim(70,100)\n",
    "# #plt.xticks(index + bar_width-0.2, ('Theta','Alpha', 'Beta', 'Gamma'))\n",
    "# plt.xticks(index + bar_width-0.2, (r'$\\theta$',r'$\\alpha$', r'$\\beta$', r'$\\gamma$'),**axis_font)\n",
    "# plt.yticks(**axis_font)\n",
    "# plt.legend(fontsize=14,loc='center')\n",
    "# # plt.legend(fontsize=14)\n",
    "# plt.tight_layout()\n",
    "# plt.show()"
   ]
  },
  {
   "cell_type": "markdown",
   "metadata": {},
   "source": [
    "#### Writing into a csv file"
   ]
  },
  {
   "cell_type": "code",
   "execution_count": 65,
   "metadata": {},
   "outputs": [
    {
     "data": {
      "text/html": [
       "<div>\n",
       "<style scoped>\n",
       "    .dataframe tbody tr th:only-of-type {\n",
       "        vertical-align: middle;\n",
       "    }\n",
       "\n",
       "    .dataframe tbody tr th {\n",
       "        vertical-align: top;\n",
       "    }\n",
       "\n",
       "    .dataframe thead tr th {\n",
       "        text-align: left;\n",
       "    }\n",
       "</style>\n",
       "<table border=\"1\" class=\"dataframe\">\n",
       "  <thead>\n",
       "    <tr>\n",
       "      <th></th>\n",
       "      <th>Whole</th>\n",
       "      <th>LH</th>\n",
       "      <th>RH</th>\n",
       "    </tr>\n",
       "    <tr>\n",
       "      <th></th>\n",
       "      <th>0</th>\n",
       "      <th>0</th>\n",
       "      <th>0</th>\n",
       "    </tr>\n",
       "  </thead>\n",
       "  <tbody>\n",
       "    <tr>\n",
       "      <th>0</th>\n",
       "      <td>94.906166</td>\n",
       "      <td>93.833780</td>\n",
       "      <td>91.957105</td>\n",
       "    </tr>\n",
       "    <tr>\n",
       "      <th>1</th>\n",
       "      <td>94.752542</td>\n",
       "      <td>93.413860</td>\n",
       "      <td>91.616705</td>\n",
       "    </tr>\n",
       "    <tr>\n",
       "      <th>0</th>\n",
       "      <td>88.739946</td>\n",
       "      <td>82.573727</td>\n",
       "      <td>79.088472</td>\n",
       "    </tr>\n",
       "    <tr>\n",
       "      <th>1</th>\n",
       "      <td>87.399464</td>\n",
       "      <td>81.769437</td>\n",
       "      <td>81.233244</td>\n",
       "    </tr>\n",
       "    <tr>\n",
       "      <th>2</th>\n",
       "      <td>92.493298</td>\n",
       "      <td>88.471850</td>\n",
       "      <td>86.595174</td>\n",
       "    </tr>\n",
       "    <tr>\n",
       "      <th>3</th>\n",
       "      <td>96.782842</td>\n",
       "      <td>93.029491</td>\n",
       "      <td>91.957105</td>\n",
       "    </tr>\n",
       "  </tbody>\n",
       "</table>\n",
       "</div>"
      ],
      "text/plain": [
       "       Whole         LH         RH\n",
       "           0          0          0\n",
       "0  94.906166  93.833780  91.957105\n",
       "1  94.752542  93.413860  91.616705\n",
       "0  88.739946  82.573727  79.088472\n",
       "1  87.399464  81.769437  81.233244\n",
       "2  92.493298  88.471850  86.595174\n",
       "3  96.782842  93.029491  91.957105"
      ]
     },
     "execution_count": 65,
     "metadata": {},
     "output_type": "execute_result"
    }
   ],
   "source": [
    "bandallclean"
   ]
  },
  {
   "cell_type": "code",
   "execution_count": 66,
   "metadata": {},
   "outputs": [],
   "source": [
    "# wrpath=\"/home/sultan/EEG/Source_level_frequency_analysis/Results/\"\n",
    "# bandallclean=pd.concat([Ffe*100,bb*100],axis=0)\n",
    "# # bandallclean.iloc[0:,:]\n",
    "# bandallclean\n",
    "# bandallclean.to_csv(wrpath+str(rs)+'Clear_band.csv')\n",
    "# wrpath+str(rs)+'Clear_band.csv'"
   ]
  },
  {
   "cell_type": "code",
   "execution_count": 67,
   "metadata": {},
   "outputs": [
    {
     "data": {
      "text/plain": [
       "16"
      ]
     },
     "execution_count": 67,
     "metadata": {},
     "output_type": "execute_result"
    }
   ],
   "source": [
    "rs"
   ]
  }
 ],
 "metadata": {
  "kernelspec": {
   "display_name": "Python 2",
   "language": "python",
   "name": "python2"
  },
  "language_info": {
   "codemirror_mode": {
    "name": "ipython",
    "version": 2
   },
   "file_extension": ".py",
   "mimetype": "text/x-python",
   "name": "python",
   "nbconvert_exporter": "python",
   "pygments_lexer": "ipython2",
   "version": "2.7.6"
  }
 },
 "nbformat": 4,
 "nbformat_minor": 2
}
