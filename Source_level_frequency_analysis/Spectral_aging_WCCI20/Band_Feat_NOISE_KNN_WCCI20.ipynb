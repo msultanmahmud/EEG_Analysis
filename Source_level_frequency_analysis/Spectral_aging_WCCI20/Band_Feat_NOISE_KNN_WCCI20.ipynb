{
 "cells": [
  {
   "cell_type": "code",
   "execution_count": 1,
   "metadata": {},
   "outputs": [],
   "source": [
    "## import important libaries\n",
    "import numpy as np\n",
    "import pandas as pd\n",
    "from sklearn import svm, metrics,preprocessing\n",
    "from sklearn.neighbors import KNeighborsClassifier\n",
    "#from sklearn import datasets\n",
    "from sklearn.model_selection import train_test_split, GridSearchCV\n",
    "from sklearn.metrics import accuracy_score,confusion_matrix,roc_curve, auc,classification_report\n",
    "from matplotlib import pyplot as plt\n",
    "from collections import Counter\n",
    "from scipy.stats import norm\n",
    "# import seaborn as sns; sns.set(font_scale=1.2)\n",
    "%matplotlib inline"
   ]
  },
  {
   "cell_type": "code",
   "execution_count": 2,
   "metadata": {},
   "outputs": [],
   "source": [
    "path=\"/home/sultan/EEG/Source_level_frequency_analysis/100_base_corr_sam_NHIerp_band_features_noise.csv\"\n",
    "## the below one is the band_features\n",
    "##path=\"/home/sultan/EEG/Source_level_frequency_analysis/100sam_NHIerp_band_features_clear.csv\"\n",
    "# path=\"/home/sultan/EEG/Source_level_frequency_analysis/100sam_NHIerp_band_features_noise.csv\"\n",
    "dataset =pd.read_csv(path)"
   ]
  },
  {
   "cell_type": "code",
   "execution_count": 3,
   "metadata": {},
   "outputs": [],
   "source": [
    "Xc=dataset.iloc[:,2:].values\n",
    "y=dataset.iloc[:,1].values\n",
    "scaler = preprocessing.StandardScaler()\n",
    "X = scaler.fit_transform(Xc)"
   ]
  },
  {
   "cell_type": "code",
   "execution_count": 4,
   "metadata": {},
   "outputs": [],
   "source": [
    "tt='_knn'\n",
    "rs=70"
   ]
  },
  {
   "cell_type": "code",
   "execution_count": 5,
   "metadata": {},
   "outputs": [],
   "source": [
    "X_train, X_test, y_train, y_test = train_test_split(X,y, test_size=.20, random_state=rs) "
   ]
  },
  {
   "cell_type": "code",
   "execution_count": 6,
   "metadata": {},
   "outputs": [
    {
     "data": {
      "text/plain": [
       "((361, 272), (361,))"
      ]
     },
     "execution_count": 6,
     "metadata": {},
     "output_type": "execute_result"
    }
   ],
   "source": [
    "X_test.shape, y_test.shape"
   ]
  },
  {
   "cell_type": "code",
   "execution_count": 7,
   "metadata": {},
   "outputs": [
    {
     "data": {
      "text/plain": [
       "(array([0., 1.]), array([143, 218]))"
      ]
     },
     "execution_count": 7,
     "metadata": {},
     "output_type": "execute_result"
    }
   ],
   "source": [
    "np.unique(y_test)\n",
    "np.unique(y_test,return_counts=True)"
   ]
  },
  {
   "cell_type": "markdown",
   "metadata": {},
   "source": [
    "### This is the line for finding the optimal value of k [Resources](https://www.ritchieng.com/machine-learning-k-nearest-neighbors-knn/)"
   ]
  },
  {
   "cell_type": "code",
   "execution_count": 8,
   "metadata": {},
   "outputs": [],
   "source": [
    "# X_train, X_test, y_train, y_test = train_test_split(X,y, test_size=.20, random_state=rs) \n",
    "# # try K=1 through K=25 and record testing accuracy\n",
    "# k_range = range(1, 26)\n",
    "# # We can create Python dictionary using [] or dict()\n",
    "# scores = []\n",
    "\n",
    "# # We use a loop through the range 1 to 26\n",
    "# # We append the scores in the dictionary\n",
    "# for k in k_range:\n",
    "#     knn = KNeighborsClassifier(n_neighbors=k)\n",
    "#     knn.fit(X_train, y_train)\n",
    "#     y_pred = knn.predict(X_test)\n",
    "#     scores.append(metrics.accuracy_score(y_test, y_pred))\n",
    "# print(scores)\n",
    "# ### The below lines for plot\n",
    "# # plt.plot(k_range, scores,'r', linewidth=2)\n",
    "# # plt.xlabel('Value of K for KNN')\n",
    "# # plt.ylabel('Testing Accuracy')"
   ]
  },
  {
   "cell_type": "code",
   "execution_count": 9,
   "metadata": {},
   "outputs": [],
   "source": [
    "# axis_font = {'fontname':'Arial', 'size':'16'}\n",
    "# plt.plot(k_range, scores,'--r',linewidth=2.5,marker='x')\n",
    "# plt.xlabel('Value of K for KNN',**axis_font)\n",
    "# plt.ylabel('Testing Accuracy',**axis_font)\n",
    "# plt.yticks(**axis_font)\n",
    "# plt.gca().legend(('Optimal k'),fontsize=16,loc='best')\n",
    "# plt.tight_layout()\n",
    "# plt.show()"
   ]
  },
  {
   "cell_type": "code",
   "execution_count": null,
   "metadata": {},
   "outputs": [],
   "source": []
  },
  {
   "cell_type": "code",
   "execution_count": null,
   "metadata": {},
   "outputs": [],
   "source": []
  },
  {
   "cell_type": "markdown",
   "metadata": {},
   "source": [
    "### KNN "
   ]
  },
  {
   "cell_type": "code",
   "execution_count": 10,
   "metadata": {},
   "outputs": [
    {
     "name": "stdout",
     "output_type": "stream",
     "text": [
      "('Accuracy:', 0.9362880886426593)\n",
      "[[132  11]\n",
      " [ 12 206]]\n",
      "             precision    recall  f1-score   support\n",
      "\n",
      "        0.0       0.92      0.92      0.92       143\n",
      "        1.0       0.95      0.94      0.95       218\n",
      "\n",
      "avg / total       0.94      0.94      0.94       361\n",
      "\n",
      "('roc', 0.9340155257586451)\n"
     ]
    }
   ],
   "source": [
    "clfknn = KNeighborsClassifier(n_neighbors=5)\n",
    "clfknn.fit(X_train, y_train)\n",
    "predk=clfknn.predict(X_test)\n",
    "acck=clfknn.score(X_test, y_test)\n",
    "print (\"Accuracy:\", acck)  \n",
    "print(confusion_matrix(y_test, predk))\n",
    "print(classification_report(y_test, predk))\n",
    "false_positive_rate, true_positive_rate, thresholds = roc_curve(y_test,predk)\n",
    "roc_auck = auc(false_positive_rate, true_positive_rate)\n",
    "print ('roc',roc_auck)"
   ]
  },
  {
   "cell_type": "markdown",
   "metadata": {},
   "source": [
    "### Whole brain accuracy and AUC"
   ]
  },
  {
   "cell_type": "code",
   "execution_count": 11,
   "metadata": {},
   "outputs": [
    {
     "data": {
      "text/html": [
       "<div>\n",
       "<style scoped>\n",
       "    .dataframe tbody tr th:only-of-type {\n",
       "        vertical-align: middle;\n",
       "    }\n",
       "\n",
       "    .dataframe tbody tr th {\n",
       "        vertical-align: top;\n",
       "    }\n",
       "\n",
       "    .dataframe thead th {\n",
       "        text-align: right;\n",
       "    }\n",
       "</style>\n",
       "<table border=\"1\" class=\"dataframe\">\n",
       "  <thead>\n",
       "    <tr style=\"text-align: right;\">\n",
       "      <th></th>\n",
       "      <th>0</th>\n",
       "    </tr>\n",
       "  </thead>\n",
       "  <tbody>\n",
       "    <tr>\n",
       "      <th>0</th>\n",
       "      <td>0.936288</td>\n",
       "    </tr>\n",
       "    <tr>\n",
       "      <th>1</th>\n",
       "      <td>0.934016</td>\n",
       "    </tr>\n",
       "  </tbody>\n",
       "</table>\n",
       "</div>"
      ],
      "text/plain": [
       "          0\n",
       "0  0.936288\n",
       "1  0.934016"
      ]
     },
     "execution_count": 11,
     "metadata": {},
     "output_type": "execute_result"
    }
   ],
   "source": [
    "whc=pd.DataFrame([acck,roc_auck])\n",
    "whc"
   ]
  },
  {
   "cell_type": "code",
   "execution_count": 12,
   "metadata": {},
   "outputs": [],
   "source": [
    "## whole brain level analysis\n",
    "# whc=pd.DataFrame([acc,roc_auc,acck,roc_auck])\n",
    "# whc"
   ]
  },
  {
   "cell_type": "code",
   "execution_count": 13,
   "metadata": {},
   "outputs": [],
   "source": [
    "# cv=5\n",
    "# from sklearn.model_selection import GridSearchCV\n",
    "# parameters = {'kernel':['rbf'], 'C':[1],'gamma':[0.01 ]}\n",
    "# svc = svm.SVC()\n",
    "# clf = GridSearchCV(svc, parameters,cv=cv)\n",
    "# clf.fit(X_train, y_train)"
   ]
  },
  {
   "cell_type": "code",
   "execution_count": 14,
   "metadata": {},
   "outputs": [],
   "source": [
    "# X.shape\n",
    "# np.max(acgw)"
   ]
  },
  {
   "cell_type": "markdown",
   "metadata": {},
   "source": [
    "##### KNN Hemisphere"
   ]
  },
  {
   "cell_type": "code",
   "execution_count": 15,
   "metadata": {},
   "outputs": [
    {
     "name": "stdout",
     "output_type": "stream",
     "text": [
      "0.8393351800554016\n",
      "0 68\n",
      "             precision    recall  f1-score   support\n",
      "\n",
      "        0.0       0.80      0.79      0.80       143\n",
      "        1.0       0.86      0.87      0.87       218\n",
      "\n",
      "avg / total       0.84      0.84      0.84       361\n",
      "\n",
      "0.8421052631578947\n",
      "68 136\n",
      "             precision    recall  f1-score   support\n",
      "\n",
      "        0.0       0.81      0.78      0.80       143\n",
      "        1.0       0.86      0.88      0.87       218\n",
      "\n",
      "avg / total       0.84      0.84      0.84       361\n",
      "\n",
      "0.9058171745152355\n",
      "136 204\n",
      "             precision    recall  f1-score   support\n",
      "\n",
      "        0.0       0.86      0.91      0.88       143\n",
      "        1.0       0.94      0.90      0.92       218\n",
      "\n",
      "avg / total       0.91      0.91      0.91       361\n",
      "\n",
      "0.9335180055401662\n",
      "204 272\n",
      "             precision    recall  f1-score   support\n",
      "\n",
      "        0.0       0.94      0.89      0.91       143\n",
      "        1.0       0.93      0.96      0.95       218\n",
      "\n",
      "avg / total       0.93      0.93      0.93       361\n",
      "\n"
     ]
    }
   ],
   "source": [
    "k=0;j=68; acgkw=[];\n",
    "for i in range(0,4):\n",
    "    clfknnw = KNeighborsClassifier(n_neighbors=5)\n",
    "    clfknnw.fit(X_train[:,k:j], y_train)\n",
    "    predkw=clfknnw.predict(X_test[:,k:j])\n",
    "    acckw=clfknnw.score(X_test[:,k:j], y_test)\n",
    "    acgkw=np.append(acgkw,acckw)\n",
    "    print acckw\n",
    "    print k,j\n",
    "    print(classification_report(y_test, predkw))\n",
    "    k=k+68;j=j+68;"
   ]
  },
  {
   "cell_type": "code",
   "execution_count": 16,
   "metadata": {},
   "outputs": [
    {
     "data": {
      "text/plain": [
       "array([0.83933518, 0.84210526, 0.90581717, 0.93351801])"
      ]
     },
     "execution_count": 16,
     "metadata": {},
     "output_type": "execute_result"
    }
   ],
   "source": [
    "acgkw"
   ]
  },
  {
   "cell_type": "code",
   "execution_count": null,
   "metadata": {},
   "outputs": [],
   "source": []
  },
  {
   "cell_type": "code",
   "execution_count": null,
   "metadata": {},
   "outputs": [],
   "source": []
  },
  {
   "cell_type": "markdown",
   "metadata": {},
   "source": [
    "# Hemisphere"
   ]
  },
  {
   "cell_type": "markdown",
   "metadata": {},
   "source": [
    "### LH"
   ]
  },
  {
   "cell_type": "markdown",
   "metadata": {},
   "source": [
    "### Knnlh Hemisphere"
   ]
  },
  {
   "cell_type": "code",
   "execution_count": 17,
   "metadata": {},
   "outputs": [
    {
     "name": "stdout",
     "output_type": "stream",
     "text": [
      "('Accuracy:', 0.8781163434903048)\n",
      "[[127  16]\n",
      " [ 28 190]]\n",
      "             precision    recall  f1-score   support\n",
      "\n",
      "        0.0       0.82      0.89      0.85       143\n",
      "        1.0       0.92      0.87      0.90       218\n",
      "\n",
      "avg / total       0.88      0.88      0.88       361\n",
      "\n",
      "('roc', 0.8798357605697055)\n"
     ]
    }
   ],
   "source": [
    "a=range(0,(X.shape[1]),2)\n",
    "d11=X[:,a];\n",
    "X_train, X_test, y_train, y_test = train_test_split(d11,y, test_size=.20, random_state=rs) \n",
    "clfknnlh = KNeighborsClassifier(n_neighbors=5)\n",
    "clfknnlh.fit(X_train, y_train)\n",
    "predklh=clfknnlh.predict(X_test)\n",
    "accklh=clfknnlh.score(X_test, y_test)\n",
    "print (\"Accuracy:\", accklh)  \n",
    "print(confusion_matrix(y_test, predklh))\n",
    "print(classification_report(y_test, predklh))\n",
    "false_positive_rate, true_positive_rate, thresholds = roc_curve(y_test,predklh)\n",
    "roc_aucklh = auc(false_positive_rate, true_positive_rate)\n",
    "print ('roc',roc_aucklh)"
   ]
  },
  {
   "cell_type": "code",
   "execution_count": 18,
   "metadata": {},
   "outputs": [
    {
     "data": {
      "text/html": [
       "<div>\n",
       "<style scoped>\n",
       "    .dataframe tbody tr th:only-of-type {\n",
       "        vertical-align: middle;\n",
       "    }\n",
       "\n",
       "    .dataframe tbody tr th {\n",
       "        vertical-align: top;\n",
       "    }\n",
       "\n",
       "    .dataframe thead th {\n",
       "        text-align: right;\n",
       "    }\n",
       "</style>\n",
       "<table border=\"1\" class=\"dataframe\">\n",
       "  <thead>\n",
       "    <tr style=\"text-align: right;\">\n",
       "      <th></th>\n",
       "      <th>0</th>\n",
       "    </tr>\n",
       "  </thead>\n",
       "  <tbody>\n",
       "    <tr>\n",
       "      <th>0</th>\n",
       "      <td>0.878116</td>\n",
       "    </tr>\n",
       "    <tr>\n",
       "      <th>1</th>\n",
       "      <td>0.879836</td>\n",
       "    </tr>\n",
       "  </tbody>\n",
       "</table>\n",
       "</div>"
      ],
      "text/plain": [
       "          0\n",
       "0  0.878116\n",
       "1  0.879836"
      ]
     },
     "execution_count": 18,
     "metadata": {},
     "output_type": "execute_result"
    }
   ],
   "source": [
    "lhacau=pd.DataFrame([accklh,roc_aucklh])\n",
    "lhacau"
   ]
  },
  {
   "cell_type": "code",
   "execution_count": 19,
   "metadata": {},
   "outputs": [
    {
     "name": "stdout",
     "output_type": "stream",
     "text": [
      "('Acc:', 0.7839335180055401)\n",
      "0 34\n",
      "             precision    recall  f1-score   support\n",
      "\n",
      "        0.0       0.74      0.69      0.72       143\n",
      "        1.0       0.81      0.84      0.83       218\n",
      "\n",
      "avg / total       0.78      0.78      0.78       361\n",
      "\n",
      "('Acc:', 0.8033240997229917)\n",
      "34 68\n",
      "             precision    recall  f1-score   support\n",
      "\n",
      "        0.0       0.76      0.73      0.75       143\n",
      "        1.0       0.83      0.85      0.84       218\n",
      "\n",
      "avg / total       0.80      0.80      0.80       361\n",
      "\n",
      "('Acc:', 0.8337950138504155)\n",
      "68 102\n",
      "             precision    recall  f1-score   support\n",
      "\n",
      "        0.0       0.80      0.77      0.79       143\n",
      "        1.0       0.85      0.88      0.86       218\n",
      "\n",
      "avg / total       0.83      0.83      0.83       361\n",
      "\n",
      "('Acc:', 0.889196675900277)\n",
      "102 136\n",
      "             precision    recall  f1-score   support\n",
      "\n",
      "        0.0       0.88      0.84      0.86       143\n",
      "        1.0       0.90      0.92      0.91       218\n",
      "\n",
      "avg / total       0.89      0.89      0.89       361\n",
      "\n"
     ]
    }
   ],
   "source": [
    "# only 34 features \n",
    "k=0;j=34; acgklh=[];\n",
    "for i in range(0,4):\n",
    "    clfknnlh = KNeighborsClassifier(n_neighbors=5)\n",
    "    clfknnlh.fit(X_train[:,k:j], y_train)\n",
    "    predklh=clfknnlh.predict(X_test[:,k:j])\n",
    "    accklh=clfknnlh.score(X_test[:,k:j], y_test)\n",
    "    acgklh=np.append(acgklh,accklh)\n",
    "    print ('Acc:',accklh)\n",
    "    print k,j\n",
    "    print(classification_report(y_test, predklh))\n",
    "    k=k+34;j=j+34;"
   ]
  },
  {
   "cell_type": "code",
   "execution_count": 20,
   "metadata": {},
   "outputs": [],
   "source": [
    "# acgklh"
   ]
  },
  {
   "cell_type": "code",
   "execution_count": 21,
   "metadata": {},
   "outputs": [],
   "source": [
    "## "
   ]
  },
  {
   "cell_type": "markdown",
   "metadata": {},
   "source": [
    "### RH"
   ]
  },
  {
   "cell_type": "markdown",
   "metadata": {},
   "source": [
    "# knnrh"
   ]
  },
  {
   "cell_type": "code",
   "execution_count": 22,
   "metadata": {},
   "outputs": [
    {
     "name": "stdout",
     "output_type": "stream",
     "text": [
      "('Accuracy:', 0.9168975069252078)\n",
      "[[126  17]\n",
      " [ 13 205]]\n",
      "             precision    recall  f1-score   support\n",
      "\n",
      "        0.0       0.91      0.88      0.89       143\n",
      "        1.0       0.92      0.94      0.93       218\n",
      "\n",
      "avg / total       0.92      0.92      0.92       361\n",
      "\n",
      "('roc', 0.9107429267979728)\n"
     ]
    }
   ],
   "source": [
    "# rss=20\n",
    "a=range(1,(X.shape[1]),2)\n",
    "d11=X[:,a];\n",
    "X_train, X_test, y_train, y_test = train_test_split(d11,y, test_size=.20, random_state=rs)\n",
    "# X_train, X_test, y_train, y_test = train_test_split(d11,y, test_size=.20, random_state=rss) \n",
    "clfknnrh = KNeighborsClassifier(n_neighbors=5)\n",
    "clfknnrh.fit(X_train, y_train)\n",
    "predkrh=clfknnrh.predict(X_test)\n",
    "acckrh=clfknnrh.score(X_test, y_test)\n",
    "print (\"Accuracy:\", acckrh)  \n",
    "print(confusion_matrix(y_test, predkrh))\n",
    "print(classification_report(y_test, predkrh))\n",
    "false_positive_rate, true_positive_rate, thresholds = roc_curve(y_test,predkrh)\n",
    "roc_auckrh = auc(false_positive_rate, true_positive_rate)\n",
    "print ('roc',roc_auckrh)"
   ]
  },
  {
   "cell_type": "code",
   "execution_count": 23,
   "metadata": {},
   "outputs": [
    {
     "data": {
      "text/html": [
       "<div>\n",
       "<style scoped>\n",
       "    .dataframe tbody tr th:only-of-type {\n",
       "        vertical-align: middle;\n",
       "    }\n",
       "\n",
       "    .dataframe tbody tr th {\n",
       "        vertical-align: top;\n",
       "    }\n",
       "\n",
       "    .dataframe thead th {\n",
       "        text-align: right;\n",
       "    }\n",
       "</style>\n",
       "<table border=\"1\" class=\"dataframe\">\n",
       "  <thead>\n",
       "    <tr style=\"text-align: right;\">\n",
       "      <th></th>\n",
       "      <th>0</th>\n",
       "    </tr>\n",
       "  </thead>\n",
       "  <tbody>\n",
       "    <tr>\n",
       "      <th>0</th>\n",
       "      <td>0.916898</td>\n",
       "    </tr>\n",
       "    <tr>\n",
       "      <th>1</th>\n",
       "      <td>0.910743</td>\n",
       "    </tr>\n",
       "  </tbody>\n",
       "</table>\n",
       "</div>"
      ],
      "text/plain": [
       "          0\n",
       "0  0.916898\n",
       "1  0.910743"
      ]
     },
     "execution_count": 23,
     "metadata": {},
     "output_type": "execute_result"
    }
   ],
   "source": [
    "rhacau=pd.DataFrame([acckrh,roc_auckrh])\n",
    "rhacau"
   ]
  },
  {
   "cell_type": "code",
   "execution_count": 24,
   "metadata": {},
   "outputs": [
    {
     "name": "stdout",
     "output_type": "stream",
     "text": [
      "('acc:', 0.7922437673130194)\n",
      "0 34\n",
      "             precision    recall  f1-score   support\n",
      "\n",
      "        0.0       0.76      0.70      0.73       143\n",
      "        1.0       0.81      0.85      0.83       218\n",
      "\n",
      "avg / total       0.79      0.79      0.79       361\n",
      "\n",
      "('acc:', 0.817174515235457)\n",
      "34 68\n",
      "             precision    recall  f1-score   support\n",
      "\n",
      "        0.0       0.76      0.78      0.77       143\n",
      "        1.0       0.86      0.84      0.85       218\n",
      "\n",
      "avg / total       0.82      0.82      0.82       361\n",
      "\n",
      "('acc:', 0.8670360110803325)\n",
      "68 102\n",
      "             precision    recall  f1-score   support\n",
      "\n",
      "        0.0       0.82      0.85      0.83       143\n",
      "        1.0       0.90      0.88      0.89       218\n",
      "\n",
      "avg / total       0.87      0.87      0.87       361\n",
      "\n",
      "('acc:', 0.9168975069252078)\n",
      "102 136\n",
      "             precision    recall  f1-score   support\n",
      "\n",
      "        0.0       0.92      0.86      0.89       143\n",
      "        1.0       0.91      0.95      0.93       218\n",
      "\n",
      "avg / total       0.92      0.92      0.92       361\n",
      "\n"
     ]
    }
   ],
   "source": [
    "# only 34 features \n",
    "k=0;j=34; acgkrh=[];\n",
    "for i in range(0,4):\n",
    "    clfknnrh = KNeighborsClassifier(n_neighbors=5)\n",
    "    clfknnrh.fit(X_train[:,k:j], y_train)\n",
    "    predkrh=clfknnrh.predict(X_test[:,k:j])\n",
    "    acckrh=clfknnrh.score(X_test[:,k:j], y_test)\n",
    "    acgkrh=np.append(acgkrh,acckrh)\n",
    "    print ('acc:',acckrh)\n",
    "    print k,j\n",
    "    print(classification_report(y_test, predkrh))\n",
    "    k=k+34;j=j+34;"
   ]
  },
  {
   "cell_type": "code",
   "execution_count": null,
   "metadata": {},
   "outputs": [],
   "source": []
  },
  {
   "cell_type": "code",
   "execution_count": null,
   "metadata": {},
   "outputs": [],
   "source": []
  },
  {
   "cell_type": "code",
   "execution_count": 25,
   "metadata": {},
   "outputs": [],
   "source": [
    "# t=np.linspace(0,3,4, endpoint=True)\n",
    "# time=pd.DataFrame(t)\n",
    "# # a=pd.concat([time,pd.DataFrame(acgw),pd.DataFrame(acgl),pd.DataFrame(acgr)],axis=1, keys=[ 'time',\"Whole\", \"LH\", \"RH\"])\n",
    "# a=pd.concat([time,pd.DataFrame(acgkw),pd.DataFrame(acgklh),pd.DataFrame(acgkrh)],axis=1, keys=[ 'time',\"Whole\", \"LH\", \"RH\"])"
   ]
  },
  {
   "cell_type": "code",
   "execution_count": 26,
   "metadata": {},
   "outputs": [],
   "source": [
    "t=np.linspace(0,3,4, endpoint=True)\n",
    "time=pd.DataFrame(t)\n",
    "# a=pd.concat([time,pd.DataFrame(acgw),pd.DataFrame(acgl),pd.DataFrame(acgr)],axis=1, keys=[ 'time',\"Whole\", \"LH\", \"RH\"])\n",
    "a=pd.concat([time,pd.DataFrame(acgkw),pd.DataFrame(acgkrh),pd.DataFrame(acgklh)],axis=1, keys=[ 'time',\"Whole\", \"LH\", \"RH\"])"
   ]
  },
  {
   "cell_type": "code",
   "execution_count": 27,
   "metadata": {},
   "outputs": [
    {
     "data": {
      "text/plain": [
       "0.889196675900277"
      ]
     },
     "execution_count": 27,
     "metadata": {},
     "output_type": "execute_result"
    }
   ],
   "source": [
    "# np.max(acgklh)\n",
    "np.max(a.iloc[:,3])"
   ]
  },
  {
   "cell_type": "code",
   "execution_count": 28,
   "metadata": {},
   "outputs": [],
   "source": [
    "# wpath=\"/home/sultan/EEG/Source_level_frequency_analysis/Results/\"\n",
    "# dall=a\n",
    "# # dall.to_csv(wpath+'svm_res_100sam_10ms_clear_v1.csv')\n",
    "# dall.to_csv(wpath+'svm_res_band_100sam_clear_v1.csv')"
   ]
  },
  {
   "cell_type": "code",
   "execution_count": 29,
   "metadata": {},
   "outputs": [
    {
     "data": {
      "image/png": "[encoded data removed]",
      "text/plain": [
       "<Figure size 432x288 with 1 Axes>"
      ]
     },
     "metadata": {
      "needs_background": "light"
     },
     "output_type": "display_data"
    }
   ],
   "source": [
    "axis_font = {'fontname':'Arial', 'size':'15'}\n",
    "#tw1=tad.iloc[1:,0];Acdw1=tad.iloc[1:,1];\n",
    "tw1=a.iloc[0:,0];Acdw=a.iloc[0:,1];Acdlh=a.iloc[0:,2];Acdrh=a.iloc[0:,3]\n",
    "# plt.plot(tw1,Acdw1,c='g')\n",
    "plt.plot(tw1,Acdw,'g',linewidth=2,marker='*')\n",
    "plt.plot(tw1, Acdlh,'--r',linewidth=2,marker='o')\n",
    "plt.plot(tw1, Acdrh,'--b',linewidth=2,marker='x')\n",
    "plt.title(\"Clear\")\n",
    "plt.xlim(0,4)\n",
    "plt.ylim(0.7,1)\n",
    "plt.grid(True)\n",
    "plt.tight_layout()\n",
    "plt.gca().legend(('Whole','LH','RH'),fontsize=16,loc='best')\n",
    "# plt.savefig('whole_acc_timem.eps')\n",
    "# plt.savefig('whole_acc_timem.tif')\n",
    "plt.show()"
   ]
  },
  {
   "cell_type": "code",
   "execution_count": 35,
   "metadata": {},
   "outputs": [
    {
     "data": {
      "text/html": [
       "<div>\n",
       "<style scoped>\n",
       "    .dataframe tbody tr th:only-of-type {\n",
       "        vertical-align: middle;\n",
       "    }\n",
       "\n",
       "    .dataframe tbody tr th {\n",
       "        vertical-align: top;\n",
       "    }\n",
       "\n",
       "    .dataframe thead tr th {\n",
       "        text-align: left;\n",
       "    }\n",
       "</style>\n",
       "<table border=\"1\" class=\"dataframe\">\n",
       "  <thead>\n",
       "    <tr>\n",
       "      <th></th>\n",
       "      <th>Whole</th>\n",
       "      <th>LH</th>\n",
       "      <th>RH</th>\n",
       "    </tr>\n",
       "    <tr>\n",
       "      <th></th>\n",
       "      <th>0</th>\n",
       "      <th>0</th>\n",
       "      <th>0</th>\n",
       "    </tr>\n",
       "  </thead>\n",
       "  <tbody>\n",
       "    <tr>\n",
       "      <th>0</th>\n",
       "      <td>0.936288</td>\n",
       "      <td>0.916898</td>\n",
       "      <td>0.878116</td>\n",
       "    </tr>\n",
       "    <tr>\n",
       "      <th>1</th>\n",
       "      <td>0.934016</td>\n",
       "      <td>0.910743</td>\n",
       "      <td>0.879836</td>\n",
       "    </tr>\n",
       "  </tbody>\n",
       "</table>\n",
       "</div>"
      ],
      "text/plain": [
       "      Whole        LH        RH\n",
       "          0         0         0\n",
       "0  0.936288  0.916898  0.878116\n",
       "1  0.934016  0.910743  0.879836"
      ]
     },
     "execution_count": 35,
     "metadata": {},
     "output_type": "execute_result"
    }
   ],
   "source": [
    "## Ffe: Fulll features altogether\n",
    "Ffe=pd.concat([whc,lhacau,rhacau],axis=1, keys=[ \"Whole\", \"LH\", \"RH\"])\n",
    "Ffe"
   ]
  },
  {
   "cell_type": "code",
   "execution_count": 36,
   "metadata": {},
   "outputs": [],
   "source": [
    "## bb: is the sub band frequency\n",
    "bb=a.iloc[:,1:]"
   ]
  },
  {
   "cell_type": "code",
   "execution_count": 37,
   "metadata": {},
   "outputs": [
    {
     "data": {
      "text/html": [
       "<div>\n",
       "<style scoped>\n",
       "    .dataframe tbody tr th:only-of-type {\n",
       "        vertical-align: middle;\n",
       "    }\n",
       "\n",
       "    .dataframe tbody tr th {\n",
       "        vertical-align: top;\n",
       "    }\n",
       "\n",
       "    .dataframe thead tr th {\n",
       "        text-align: left;\n",
       "    }\n",
       "</style>\n",
       "<table border=\"1\" class=\"dataframe\">\n",
       "  <thead>\n",
       "    <tr>\n",
       "      <th></th>\n",
       "      <th>Whole</th>\n",
       "      <th>LH</th>\n",
       "      <th>RH</th>\n",
       "    </tr>\n",
       "    <tr>\n",
       "      <th></th>\n",
       "      <th>0</th>\n",
       "      <th>0</th>\n",
       "      <th>0</th>\n",
       "    </tr>\n",
       "  </thead>\n",
       "  <tbody>\n",
       "    <tr>\n",
       "      <th>0</th>\n",
       "      <td>93.628809</td>\n",
       "      <td>91.689751</td>\n",
       "      <td>87.811634</td>\n",
       "    </tr>\n",
       "    <tr>\n",
       "      <th>1</th>\n",
       "      <td>93.401553</td>\n",
       "      <td>91.074293</td>\n",
       "      <td>87.983576</td>\n",
       "    </tr>\n",
       "    <tr>\n",
       "      <th>0</th>\n",
       "      <td>83.933518</td>\n",
       "      <td>79.224377</td>\n",
       "      <td>78.393352</td>\n",
       "    </tr>\n",
       "    <tr>\n",
       "      <th>1</th>\n",
       "      <td>84.210526</td>\n",
       "      <td>81.717452</td>\n",
       "      <td>80.332410</td>\n",
       "    </tr>\n",
       "    <tr>\n",
       "      <th>2</th>\n",
       "      <td>90.581717</td>\n",
       "      <td>86.703601</td>\n",
       "      <td>83.379501</td>\n",
       "    </tr>\n",
       "    <tr>\n",
       "      <th>3</th>\n",
       "      <td>93.351801</td>\n",
       "      <td>91.689751</td>\n",
       "      <td>88.919668</td>\n",
       "    </tr>\n",
       "  </tbody>\n",
       "</table>\n",
       "</div>"
      ],
      "text/plain": [
       "       Whole         LH         RH\n",
       "           0          0          0\n",
       "0  93.628809  91.689751  87.811634\n",
       "1  93.401553  91.074293  87.983576\n",
       "0  83.933518  79.224377  78.393352\n",
       "1  84.210526  81.717452  80.332410\n",
       "2  90.581717  86.703601  83.379501\n",
       "3  93.351801  91.689751  88.919668"
      ]
     },
     "execution_count": 37,
     "metadata": {},
     "output_type": "execute_result"
    }
   ],
   "source": [
    "## Here the 1st and 2nd rows are accand roc for full brain\n",
    "## Here from 3rd row theta,alpha beta,and gamma\n",
    "# wrpath=\"/home/sultan/EEG/Source_level_frequency_analysis/Results/\"\n",
    "bandallclean=pd.concat([Ffe*100,bb*100],axis=0)\n",
    "# # bandallclean.iloc[0:,:]\n",
    "bandallclean\n",
    "# bandallclean.to_csv(wrpath+str(rs)+'Clear_band.csv')"
   ]
  },
  {
   "cell_type": "code",
   "execution_count": null,
   "metadata": {},
   "outputs": [],
   "source": []
  },
  {
   "cell_type": "markdown",
   "metadata": {},
   "source": [
    "#### Writing into a csv file"
   ]
  },
  {
   "cell_type": "code",
   "execution_count": 40,
   "metadata": {},
   "outputs": [
    {
     "data": {
      "text/plain": [
       "'/home/sultan/EEG/Source_level_frequency_analysis/Results/70_knn_Noise_band.csv'"
      ]
     },
     "execution_count": 40,
     "metadata": {},
     "output_type": "execute_result"
    }
   ],
   "source": [
    "# wrpath=\"/home/sultan/EEG/Source_level_frequency_analysis/Results/\"\n",
    "# bandallclean=pd.concat([Ffe*100,bb*100],axis=0)\n",
    "# # bandallclean.iloc[0:,:]\n",
    "# bandallclean\n",
    "# bandallclean.to_csv(wrpath+str(rs)+tt+'_Noise_band.csv')\n",
    "# wrpath+str(rs)+tt+'_Noise_band.csv'"
   ]
  },
  {
   "cell_type": "code",
   "execution_count": 38,
   "metadata": {},
   "outputs": [
    {
     "data": {
      "text/plain": [
       "70"
      ]
     },
     "execution_count": 38,
     "metadata": {},
     "output_type": "execute_result"
    }
   ],
   "source": [
    "rs"
   ]
  },
  {
   "cell_type": "code",
   "execution_count": null,
   "metadata": {},
   "outputs": [],
   "source": []
  }
 ],
 "metadata": {
  "kernelspec": {
   "display_name": "Python 2",
   "language": "python",
   "name": "python2"
  },
  "language_info": {
   "codemirror_mode": {
    "name": "ipython",
    "version": 2
   },
   "file_extension": ".py",
   "mimetype": "text/x-python",
   "name": "python",
   "nbconvert_exporter": "python",
   "pygments_lexer": "ipython2",
   "version": "2.7.6"
  }
 },
 "nbformat": 4,
 "nbformat_minor": 2
}
