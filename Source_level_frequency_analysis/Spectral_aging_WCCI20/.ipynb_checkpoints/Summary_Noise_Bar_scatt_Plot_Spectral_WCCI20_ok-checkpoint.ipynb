{
 "cells": [
  {
   "cell_type": "code",
   "execution_count": 1,
   "metadata": {},
   "outputs": [],
   "source": [
    "import numpy as np\n",
    "import pandas as pd\n",
    "import matplotlib.pyplot as plt\n",
    "import matplotlib.font_manager as font_manager"
   ]
  },
  {
   "cell_type": "code",
   "execution_count": 2,
   "metadata": {},
   "outputs": [],
   "source": [
    "pathclsvm=\"/home/sultan/EEG/Source_level_frequency_analysis/Results/30Noise_band.csv\"\n",
    "pathclknn=\"/home/sultan/EEG/Source_level_frequency_analysis/Results/70_knn_Noise_bandr.csv\"\n",
    "pathclada=pathcl=\"/home/sultan/EEG/Source_level_frequency_analysis/Results/15_Adaboost_Noise_band.csv\"\n",
    "# pathno=\"/home/sultan/EEG/Source_level_frequency_analysis/Results/30Noise_band.csv\""
   ]
  },
  {
   "cell_type": "code",
   "execution_count": 3,
   "metadata": {},
   "outputs": [],
   "source": [
    "dataclsvm=pd.read_csv(pathclsvm)\n",
    "dataclknn=pd.read_csv(pathclknn)\n",
    "dataclada=pd.read_csv(pathclada)"
   ]
  },
  {
   "cell_type": "code",
   "execution_count": 4,
   "metadata": {},
   "outputs": [
    {
     "data": {
      "text/html": [
       "<div>\n",
       "<style scoped>\n",
       "    .dataframe tbody tr th:only-of-type {\n",
       "        vertical-align: middle;\n",
       "    }\n",
       "\n",
       "    .dataframe tbody tr th {\n",
       "        vertical-align: top;\n",
       "    }\n",
       "\n",
       "    .dataframe thead th {\n",
       "        text-align: right;\n",
       "    }\n",
       "</style>\n",
       "<table border=\"1\" class=\"dataframe\">\n",
       "  <thead>\n",
       "    <tr style=\"text-align: right;\">\n",
       "      <th></th>\n",
       "      <th>Unnamed: 0</th>\n",
       "      <th>Whole</th>\n",
       "      <th>LH</th>\n",
       "      <th>RH</th>\n",
       "      <th>Unnamed: 0</th>\n",
       "      <th>Whole</th>\n",
       "      <th>LH</th>\n",
       "      <th>RH</th>\n",
       "      <th>Unnamed: 0</th>\n",
       "      <th>Whole</th>\n",
       "      <th>LH</th>\n",
       "      <th>RH</th>\n",
       "    </tr>\n",
       "  </thead>\n",
       "  <tbody>\n",
       "    <tr>\n",
       "      <th>0</th>\n",
       "      <td>NaN</td>\n",
       "      <td>0.000000</td>\n",
       "      <td>0.000000</td>\n",
       "      <td>0.000000</td>\n",
       "      <td>NaN</td>\n",
       "      <td>0.000000</td>\n",
       "      <td>0.000000</td>\n",
       "      <td>0.000000</td>\n",
       "      <td>NaN</td>\n",
       "      <td>0.000000</td>\n",
       "      <td>0.000000</td>\n",
       "      <td>0.000000</td>\n",
       "    </tr>\n",
       "    <tr>\n",
       "      <th>1</th>\n",
       "      <td>0.0</td>\n",
       "      <td>92.520776</td>\n",
       "      <td>91.966759</td>\n",
       "      <td>89.750693</td>\n",
       "      <td>0.0</td>\n",
       "      <td>92.162881</td>\n",
       "      <td>91.689751</td>\n",
       "      <td>87.811634</td>\n",
       "      <td>0.0</td>\n",
       "      <td>84.487535</td>\n",
       "      <td>85.595568</td>\n",
       "      <td>81.440443</td>\n",
       "    </tr>\n",
       "    <tr>\n",
       "      <th>2</th>\n",
       "      <td>1.0</td>\n",
       "      <td>91.128871</td>\n",
       "      <td>90.864136</td>\n",
       "      <td>88.291708</td>\n",
       "      <td>1.0</td>\n",
       "      <td>93.401553</td>\n",
       "      <td>91.074293</td>\n",
       "      <td>87.983576</td>\n",
       "      <td>1.0</td>\n",
       "      <td>84.286145</td>\n",
       "      <td>83.912285</td>\n",
       "      <td>79.285139</td>\n",
       "    </tr>\n",
       "    <tr>\n",
       "      <th>3</th>\n",
       "      <td>0.0</td>\n",
       "      <td>85.595568</td>\n",
       "      <td>82.548476</td>\n",
       "      <td>80.886427</td>\n",
       "      <td>0.0</td>\n",
       "      <td>83.933518</td>\n",
       "      <td>79.224377</td>\n",
       "      <td>78.393352</td>\n",
       "      <td>0.0</td>\n",
       "      <td>77.285319</td>\n",
       "      <td>78.947368</td>\n",
       "      <td>74.515235</td>\n",
       "    </tr>\n",
       "    <tr>\n",
       "      <th>4</th>\n",
       "      <td>1.0</td>\n",
       "      <td>85.595568</td>\n",
       "      <td>83.933518</td>\n",
       "      <td>82.271468</td>\n",
       "      <td>1.0</td>\n",
       "      <td>84.210526</td>\n",
       "      <td>81.717452</td>\n",
       "      <td>80.332410</td>\n",
       "      <td>1.0</td>\n",
       "      <td>76.454294</td>\n",
       "      <td>76.454294</td>\n",
       "      <td>73.684211</td>\n",
       "    </tr>\n",
       "    <tr>\n",
       "      <th>5</th>\n",
       "      <td>2.0</td>\n",
       "      <td>90.304709</td>\n",
       "      <td>88.919668</td>\n",
       "      <td>83.102493</td>\n",
       "      <td>2.0</td>\n",
       "      <td>90.581717</td>\n",
       "      <td>86.703601</td>\n",
       "      <td>83.379501</td>\n",
       "      <td>2.0</td>\n",
       "      <td>82.825485</td>\n",
       "      <td>78.116343</td>\n",
       "      <td>76.731302</td>\n",
       "    </tr>\n",
       "    <tr>\n",
       "      <th>6</th>\n",
       "      <td>3.0</td>\n",
       "      <td>93.628809</td>\n",
       "      <td>92.243767</td>\n",
       "      <td>90.027701</td>\n",
       "      <td>3.0</td>\n",
       "      <td>92.351801</td>\n",
       "      <td>91.689751</td>\n",
       "      <td>88.919668</td>\n",
       "      <td>3.0</td>\n",
       "      <td>85.595568</td>\n",
       "      <td>85.041551</td>\n",
       "      <td>78.947368</td>\n",
       "    </tr>\n",
       "  </tbody>\n",
       "</table>\n",
       "</div>"
      ],
      "text/plain": [
       "   Unnamed: 0      Whole         LH         RH  Unnamed: 0      Whole  \\\n",
       "0         NaN   0.000000   0.000000   0.000000         NaN   0.000000   \n",
       "1         0.0  92.520776  91.966759  89.750693         0.0  92.162881   \n",
       "2         1.0  91.128871  90.864136  88.291708         1.0  93.401553   \n",
       "3         0.0  85.595568  82.548476  80.886427         0.0  83.933518   \n",
       "4         1.0  85.595568  83.933518  82.271468         1.0  84.210526   \n",
       "5         2.0  90.304709  88.919668  83.102493         2.0  90.581717   \n",
       "6         3.0  93.628809  92.243767  90.027701         3.0  92.351801   \n",
       "\n",
       "          LH         RH  Unnamed: 0      Whole         LH         RH  \n",
       "0   0.000000   0.000000         NaN   0.000000   0.000000   0.000000  \n",
       "1  91.689751  87.811634         0.0  84.487535  85.595568  81.440443  \n",
       "2  91.074293  87.983576         1.0  84.286145  83.912285  79.285139  \n",
       "3  79.224377  78.393352         0.0  77.285319  78.947368  74.515235  \n",
       "4  81.717452  80.332410         1.0  76.454294  76.454294  73.684211  \n",
       "5  86.703601  83.379501         2.0  82.825485  78.116343  76.731302  \n",
       "6  91.689751  88.919668         3.0  85.595568  85.041551  78.947368  "
      ]
     },
     "execution_count": 4,
     "metadata": {},
     "output_type": "execute_result"
    }
   ],
   "source": [
    "alld=pd.concat([dataclsvm, dataclknn, dataclada],axis=1)\n",
    "alld"
   ]
  },
  {
   "cell_type": "markdown",
   "metadata": {},
   "source": [
    "### Whole-brain, LH and RH all band features together"
   ]
  },
  {
   "cell_type": "code",
   "execution_count": 5,
   "metadata": {},
   "outputs": [],
   "source": [
    "clsvmab=dataclsvm.iloc[1,1:]; ## column index 1 for whole brain. 2 for LH and 3 for RH\n",
    "clknnab=dataclknn.iloc[1,1:];# clsvmab: clear svm al brands\n",
    "cladaab=dataclada.iloc[1,1:];"
   ]
  },
  {
   "cell_type": "code",
   "execution_count": 21,
   "metadata": {},
   "outputs": [
    {
     "data": {
      "image/png": "[encoded data removed]",
      "text/plain": [
       "<Figure size 432x288 with 1 Axes>"
      ]
     },
     "metadata": {
      "needs_background": "light"
     },
     "output_type": "display_data"
    }
   ],
   "source": [
    "# plt.figure(figsize=(20,10))\n",
    "n_groups = 3\n",
    "\n",
    "#Manually data\n",
    "# clear = [61.29,54.84,54.84,51.29]\n",
    "# noise = [59.38,59.38,59.38,53.12]\n",
    "# create plot\n",
    "axis_font = {'fontname':'Arial', 'size':'16'}\n",
    "fig, ax = plt.subplots()\n",
    "index = np.arange(n_groups)\n",
    "bar_width = 0.30\n",
    "opacity = 0.85\n",
    " \n",
    "rects1 = plt.bar(index, clsvmab, bar_width,\n",
    "                 alpha=opacity,\n",
    "                 color='g',\n",
    "                 label='SVM')\n",
    " \n",
    "rects2 = plt.bar(index + bar_width, clknnab, bar_width,\n",
    "                 alpha=opacity,\n",
    "                 color='gray',\n",
    "                 label='KNN') \n",
    "rects3 = plt.bar(index + bar_width*2, cladaab, bar_width,\n",
    "                 alpha=opacity,\n",
    "                 color='k',\n",
    "                 label='Adaboost')\n",
    "plt.xlabel('Analysis scenarios',**axis_font)\n",
    "plt.ylabel('Accuracy (%)',**axis_font)\n",
    "plt.title('All spectral features (noise)',**axis_font)\n",
    "plt.ylim(40,100)\n",
    "#plt.xticks(index + bar_width-0.2, ('Theta','Alpha', 'Beta', 'Gamma'))\n",
    "plt.xticks(index + bar_width, ('Whole-brain','LH', 'RH'),**axis_font)\n",
    "# plt.xticks(index + bar_width, (r'$\\theta$',r'$\\alpha$', r'$\\beta$', r'$\\gamma$'),**axis_font)\n",
    "plt.yticks(**axis_font)\n",
    "# plt.legend(fontsize=14,loc='center')\n",
    "plt.legend(fontsize=14,loc='lower center')\n",
    "plt.tight_layout()\n",
    "plt.show()\n",
    "#fig.savefig('LH_band.png')"
   ]
  },
  {
   "cell_type": "code",
   "execution_count": null,
   "metadata": {},
   "outputs": [],
   "source": []
  },
  {
   "cell_type": "markdown",
   "metadata": {},
   "source": [
    "### Whole brain with different frequency band"
   ]
  },
  {
   "cell_type": "code",
   "execution_count": 7,
   "metadata": {},
   "outputs": [],
   "source": [
    "clsvmw=dataclsvm.iloc[3:,1]; ## Row 3: means after row 3 all data. column index 1 for whole brain,2: LH, 3: RH\n",
    "clknnw=dataclknn.iloc[3:,1]\n",
    "cladaw=dataclada.iloc[3:,1];"
   ]
  },
  {
   "cell_type": "code",
   "execution_count": 20,
   "metadata": {},
   "outputs": [
    {
     "data": {
      "image/png": "[encoded data removed]",
      "text/plain": [
       "<Figure size 432x288 with 1 Axes>"
      ]
     },
     "metadata": {
      "needs_background": "light"
     },
     "output_type": "display_data"
    }
   ],
   "source": [
    "# plt.figure(figsize=(20,10))\n",
    "n_groups = 4\n",
    "\n",
    "#Manually data\n",
    "# clear = [61.29,54.84,54.84,51.29]\n",
    "# noise = [59.38,59.38,59.38,53.12]\n",
    "# create plot\n",
    "axis_font = {'fontname':'Arial', 'size':'16'}\n",
    "fig, ax = plt.subplots()\n",
    "index = np.arange(n_groups)\n",
    "bar_width = 0.30\n",
    "opacity = 0.85\n",
    " \n",
    "rects1 = plt.bar(index, clsvmw, bar_width,\n",
    "                 alpha=opacity,\n",
    "                 color='g',\n",
    "                 label='SVM')\n",
    " \n",
    "rects2 = plt.bar(index + bar_width, clknnw, bar_width,\n",
    "                 alpha=opacity,\n",
    "                 color='gray',\n",
    "                 label='KNN') \n",
    "rects3 = plt.bar(index + bar_width*2, cladaw, bar_width,\n",
    "                 alpha=opacity,\n",
    "                 color='k',\n",
    "                 label='Adaboost')\n",
    "plt.xlabel('Frequency band',**axis_font)\n",
    "plt.ylabel('Accuracy (%)',**axis_font)\n",
    "plt.title('Whole-brain (noise)',**axis_font)\n",
    "plt.ylim(40,100)\n",
    "#plt.xticks(index + bar_width-0.2, ('Theta','Alpha', 'Beta', 'Gamma'))\n",
    "plt.xticks(index + bar_width, (r'$\\theta$',r'$\\alpha$', r'$\\beta$', r'$\\gamma$'),**axis_font)\n",
    "plt.yticks(**axis_font)\n",
    "plt.legend(fontsize=14,loc='lower center')\n",
    "plt.tight_layout()\n",
    "plt.show()\n",
    "#fig.savefig('LH_band.png')"
   ]
  },
  {
   "cell_type": "markdown",
   "metadata": {},
   "source": [
    "## LH"
   ]
  },
  {
   "cell_type": "code",
   "execution_count": 9,
   "metadata": {},
   "outputs": [],
   "source": [
    "clsvmlh=dataclsvm.iloc[3:,2]; ## Row 3: means after row 3 all data. column index 1 for whole brain,2: LH, 3: RH\n",
    "clknnlh=dataclknn.iloc[3:,2]\n",
    "cladalh=dataclada.iloc[3:,2];"
   ]
  },
  {
   "cell_type": "code",
   "execution_count": 22,
   "metadata": {},
   "outputs": [
    {
     "data": {
      "image/png": "[encoded data removed]",
      "text/plain": [
       "<Figure size 432x288 with 1 Axes>"
      ]
     },
     "metadata": {
      "needs_background": "light"
     },
     "output_type": "display_data"
    }
   ],
   "source": [
    "# plt.figure(figsize=(20,10))\n",
    "n_groups = 4\n",
    "\n",
    "#Manually data\n",
    "# clear = [61.29,54.84,54.84,51.29]\n",
    "# noise = [59.38,59.38,59.38,53.12]\n",
    "# create plot\n",
    "axis_font = {'fontname':'Arial', 'size':'16'}\n",
    "fig, ax = plt.subplots()\n",
    "index = np.arange(n_groups)\n",
    "bar_width = 0.30\n",
    "opacity = 0.85\n",
    " \n",
    "rects1 = plt.bar(index, clsvmlh, bar_width,\n",
    "                 alpha=opacity,\n",
    "                 color='g',\n",
    "                 label='SVM')\n",
    " \n",
    "rects2 = plt.bar(index + bar_width, clknnlh, bar_width,\n",
    "                 alpha=opacity,\n",
    "                 color='gray',\n",
    "                 label='KNN') \n",
    "rects3 = plt.bar(index + bar_width*2, cladalh, bar_width,\n",
    "                 alpha=opacity,\n",
    "                 color='k',\n",
    "                 label='Adaboost')\n",
    "plt.xlabel('Frequency band',**axis_font)\n",
    "plt.ylabel('Accuracy (%)',**axis_font)\n",
    "plt.title('LH (noise)',**axis_font)\n",
    "plt.ylim(40,100)\n",
    "#plt.xticks(index + bar_width-0.2, ('Theta','Alpha', 'Beta', 'Gamma'))\n",
    "plt.xticks(index + bar_width, (r'$\\theta$',r'$\\alpha$', r'$\\beta$', r'$\\gamma$'),**axis_font)\n",
    "plt.yticks(**axis_font)\n",
    "plt.legend(fontsize=14,loc='lower center')\n",
    "plt.tight_layout()\n",
    "plt.show()\n",
    "#fig.savefig('LH_band.png')"
   ]
  },
  {
   "cell_type": "markdown",
   "metadata": {},
   "source": [
    "## RH"
   ]
  },
  {
   "cell_type": "code",
   "execution_count": 11,
   "metadata": {},
   "outputs": [],
   "source": [
    "clsvmrh=dataclsvm.iloc[3:,3]; ## Row 3: means after row 3 all data. column index 1 for whole brain,2: LH, 3: RH\n",
    "clknnrh=dataclknn.iloc[3:,3];\n",
    "cladarh=dataclada.iloc[3:,3];"
   ]
  },
  {
   "cell_type": "code",
   "execution_count": 23,
   "metadata": {},
   "outputs": [
    {
     "data": {
      "image/png": "[encoded data removed]",
      "text/plain": [
       "<Figure size 432x288 with 1 Axes>"
      ]
     },
     "metadata": {
      "needs_background": "light"
     },
     "output_type": "display_data"
    }
   ],
   "source": [
    "# plt.figure(figsize=(20,10))\n",
    "n_groups = 4\n",
    "\n",
    "#Manually data\n",
    "# clear = [61.29,54.84,54.84,51.29]\n",
    "# noise = [59.38,59.38,59.38,53.12]\n",
    "# create plot\n",
    "axis_font = {'fontname':'Arial', 'size':'16'}\n",
    "fig, ax = plt.subplots()\n",
    "index = np.arange(n_groups)\n",
    "bar_width = 0.30\n",
    "opacity = 0.85\n",
    " \n",
    "rects1 = plt.bar(index, clsvmrh, bar_width,\n",
    "                 alpha=opacity,\n",
    "                 color='g',\n",
    "                 label='SVM')\n",
    " \n",
    "rects2 = plt.bar(index + bar_width, clknnrh, bar_width,\n",
    "                 alpha=opacity,\n",
    "                 color='gray',\n",
    "                 label='KNN') \n",
    "rects3 = plt.bar(index + bar_width*2, cladarh, bar_width,\n",
    "                 alpha=opacity,\n",
    "                 color='k',\n",
    "                 label='Adaboost')\n",
    "plt.xlabel('Frequency band',**axis_font)\n",
    "plt.ylabel('Accuracy (%)',**axis_font)\n",
    "plt.title('RH (noise)',**axis_font)\n",
    "plt.ylim(40,100)\n",
    "#plt.xticks(index + bar_width-0.2, ('Theta','Alpha', 'Beta', 'Gamma'))\n",
    "plt.xticks(index + bar_width, (r'$\\theta$',r'$\\alpha$', r'$\\beta$', r'$\\gamma$'),**axis_font)\n",
    "plt.yticks(**axis_font)\n",
    "plt.legend(fontsize=14,loc='lower center')\n",
    "plt.tight_layout()\n",
    "plt.show()\n",
    "#fig.savefig('LH_band.png')"
   ]
  },
  {
   "cell_type": "code",
   "execution_count": null,
   "metadata": {},
   "outputs": [],
   "source": []
  },
  {
   "cell_type": "markdown",
   "metadata": {},
   "source": [
    " ### Thsis is the scatter or line plot "
   ]
  },
  {
   "cell_type": "code",
   "execution_count": null,
   "metadata": {},
   "outputs": [],
   "source": []
  },
  {
   "cell_type": "code",
   "execution_count": 13,
   "metadata": {},
   "outputs": [],
   "source": [
    "### Whole brain with different frequency band"
   ]
  },
  {
   "cell_type": "code",
   "execution_count": 14,
   "metadata": {},
   "outputs": [],
   "source": [
    "clsvmrh=dataclsvm.iloc[3:,3]; ## Row 3: means after row 3 all data. column index 1 for whole brain,2: LH, 3: RH\n",
    "clknnrh=dataclknn.iloc[3:,3];\n",
    "cladarh=dataclada.iloc[3:,3];"
   ]
  },
  {
   "cell_type": "code",
   "execution_count": 15,
   "metadata": {},
   "outputs": [
    {
     "data": {
      "text/plain": [
       "3    78.393352\n",
       "4    80.332410\n",
       "5    83.379501\n",
       "6    88.919668\n",
       "Name: RH, dtype: float64"
      ]
     },
     "execution_count": 15,
     "metadata": {},
     "output_type": "execute_result"
    }
   ],
   "source": [
    "clsvmrh\n",
    "clknnrh"
   ]
  },
  {
   "cell_type": "markdown",
   "metadata": {},
   "source": [
    "#### This is the code for scatter plot"
   ]
  },
  {
   "cell_type": "code",
   "execution_count": 16,
   "metadata": {},
   "outputs": [
    {
     "data": {
      "image/png": "[encoded data removed]",
      "text/plain": [
       "<Figure size 432x288 with 1 Axes>"
      ]
     },
     "metadata": {
      "needs_background": "light"
     },
     "output_type": "display_data"
    }
   ],
   "source": [
    "n_groups = 4\n",
    "# clear = (61.29,54.83,54.83,61.29)\n",
    "# noise = (85, 62, 54, 20)\n",
    "#Random shuffle\n",
    "clear = [96.24,94.63,92.40]\n",
    "noise = [92.79,92.24,90.96] \n",
    "# create plot\n",
    "axis_font = {'fontname':'Arial', 'size':'16'}\n",
    "fig, ax = plt.subplots()\n",
    "index = np.arange(n_groups)\n",
    "bar_width = 0.40\n",
    "opacity = 0.85\n",
    " \n",
    "rects1 = plt.scatter(index, clsvmrh,marker ='*',color='g',label='Clear',s=200)\n",
    "rects1 = plt.scatter(index, clknnrh,marker ='p',color='r',label='Noise',s=200)\n",
    "plt.scatter(index, cladarh,marker ='p',color='k',label='Noise',s=200)\n",
    " \n",
    "plt.xlabel('Frequency band',**axis_font)\n",
    "plt.ylabel('Accuracy (%)',**axis_font)\n",
    "plt.title('LH',**axis_font)\n",
    "plt.ylim(50,100)\n",
    "#plt.xticks(index + bar_width-0.2, ('Theta','Alpha', 'Beta', 'Gamma'))\n",
    "plt.xticks(index, (r'$\\theta$',r'$\\alpha$', r'$\\beta$', r'$\\gamma$'),**axis_font)\n",
    "plt.yticks(**axis_font)\n",
    "plt.legend(fontsize=14)\n",
    "plt.tight_layout()\n",
    "plt.show()\n",
    "#fig.savefig('LH_band.png')"
   ]
  },
  {
   "cell_type": "markdown",
   "metadata": {},
   "source": [
    "## line chart"
   ]
  },
  {
   "cell_type": "code",
   "execution_count": 17,
   "metadata": {},
   "outputs": [
    {
     "data": {
      "image/png": "[encoded data removed]",
      "text/plain": [
       "<Figure size 432x288 with 1 Axes>"
      ]
     },
     "metadata": {
      "needs_background": "light"
     },
     "output_type": "display_data"
    }
   ],
   "source": [
    "n_groups = 4\n",
    " \n",
    "# create plot\n",
    "axis_font = {'fontname':'Arial', 'size':'16'}\n",
    "fig, ax = plt.subplots()\n",
    "index = np.arange(n_groups)\n",
    "bar_width = 0.40\n",
    "opacity = 0.85\n",
    " \n",
    "plt.plot(index, clsvmrh,'-g',marker ='*',linewidth=2.5)\n",
    "plt.plot(index, clknnrh,'--r',marker ='o',linewidth=2.5)\n",
    "plt.plot(index, cladarh,'-*k',marker ='x',linewidth=2.5)\n",
    "#plt.plot(index, cladarh,marker ='x',color='k',label='RH')\n",
    " \n",
    "plt.xlabel('Frequency band',**axis_font)\n",
    "plt.ylabel('Accuracy (%)',**axis_font)\n",
    "plt.title('LH',**axis_font)\n",
    "plt.ylim(60,100)\n",
    "#plt.xticks(index + bar_width-0.2, ('Theta','Alpha', 'Beta', 'Gamma'))\n",
    "# plt.xticks(index + bar_width-0.2, (r'$\\theta$',r'$\\alpha$', r'$\\beta$', r'$\\gamma$'),**axis_font)\n",
    "plt.xticks(index, (r'$\\theta$',r'$\\alpha$', r'$\\beta$', r'$\\gamma$'),**axis_font)\n",
    "plt.yticks(**axis_font)\n",
    "plt.legend(fontsize=14)\n",
    "plt.gca().legend(('Whole','LH','RH'),fontsize=16,loc='best')\n",
    "plt.tight_layout()\n",
    "plt.show()\n",
    "#fig.savefig('LH_band.png')"
   ]
  },
  {
   "cell_type": "markdown",
   "metadata": {},
   "source": [
    "## The Enddddddddddddddddddd"
   ]
  },
  {
   "cell_type": "code",
   "execution_count": null,
   "metadata": {},
   "outputs": [],
   "source": []
  }
 ],
 "metadata": {
  "kernelspec": {
   "display_name": "Python 2",
   "language": "python",
   "name": "python2"
  },
  "language_info": {
   "codemirror_mode": {
    "name": "ipython",
    "version": 2
   },
   "file_extension": ".py",
   "mimetype": "text/x-python",
   "name": "python",
   "nbconvert_exporter": "python",
   "pygments_lexer": "ipython2",
   "version": "2.7.6"
  }
 },
 "nbformat": 4,
 "nbformat_minor": 2
}
