{
 "cells": [
  {
   "cell_type": "code",
   "execution_count": 51,
   "metadata": {},
   "outputs": [],
   "source": [
    "## import important libaries\n",
    "import numpy as np\n",
    "import pandas as pd\n",
    "from sklearn import svm, metrics,preprocessing\n",
    "from sklearn.neighbors import KNeighborsClassifier\n",
    "#from sklearn import datasets\n",
    "from sklearn.model_selection import train_test_split, GridSearchCV\n",
    "from sklearn.metrics import accuracy_score,confusion_matrix,roc_curve, auc,classification_report\n",
    "from matplotlib import pyplot as plt\n",
    "from collections import Counter\n",
    "from scipy.stats import norm\n",
    "# import seaborn as sns; sns.set(font_scale=1.2)\n",
    "%matplotlib inline"
   ]
  },
  {
   "cell_type": "code",
   "execution_count": 52,
   "metadata": {},
   "outputs": [],
   "source": [
    "path=\"/home/sultan/EEG/Source_level_frequency_analysis/100_base_corr_sam_NHIerp_band_features_clear.csv\"\n",
    "## the below one is the band_features\n",
    "##path=\"/home/sultan/EEG/Source_level_frequency_analysis/100sam_NHIerp_band_features_clear.csv\"\n",
    "# path=\"/home/sultan/EEG/Source_level_frequency_analysis/100sam_NHIerp_band_features_noise.csv\"\n",
    "dataset =pd.read_csv(path)"
   ]
  },
  {
   "cell_type": "code",
   "execution_count": 53,
   "metadata": {},
   "outputs": [],
   "source": [
    "Xc=dataset.iloc[:,2:].values\n",
    "y=dataset.iloc[:,1].values\n",
    "scaler = preprocessing.StandardScaler()\n",
    "X = scaler.fit_transform(Xc)"
   ]
  },
  {
   "cell_type": "code",
   "execution_count": 61,
   "metadata": {},
   "outputs": [],
   "source": [
    "tt='_knn'\n",
    "rs=18; ##randomstate"
   ]
  },
  {
   "cell_type": "code",
   "execution_count": 62,
   "metadata": {},
   "outputs": [],
   "source": [
    "X_train, X_test, y_train, y_test = train_test_split(X,y, test_size=.20, random_state=rs) "
   ]
  },
  {
   "cell_type": "code",
   "execution_count": 63,
   "metadata": {},
   "outputs": [
    {
     "data": {
      "text/plain": [
       "((373, 272), (373,))"
      ]
     },
     "execution_count": 63,
     "metadata": {},
     "output_type": "execute_result"
    }
   ],
   "source": [
    "X_test.shape, y_test.shape"
   ]
  },
  {
   "cell_type": "code",
   "execution_count": 64,
   "metadata": {},
   "outputs": [
    {
     "data": {
      "text/plain": [
       "(array([0., 1.]), array([163, 210]))"
      ]
     },
     "execution_count": 64,
     "metadata": {},
     "output_type": "execute_result"
    }
   ],
   "source": [
    "np.unique(y_test)\n",
    "np.unique(y_test,return_counts=True)"
   ]
  },
  {
   "cell_type": "markdown",
   "metadata": {},
   "source": [
    "### This is the line for finding the optimal value of k [Resources](https://www.ritchieng.com/machine-learning-k-nearest-neighbors-knn/)"
   ]
  },
  {
   "cell_type": "code",
   "execution_count": 58,
   "metadata": {},
   "outputs": [
    {
     "name": "stdout",
     "output_type": "stream",
     "text": [
      "[0.9410187667560321, 0.8900804289544236, 0.9410187667560321, 0.9302949061662198, 0.9463806970509383, 0.938337801608579, 0.9463806970509383, 0.9410187667560321, 0.935656836461126, 0.9436997319034852, 0.938337801608579, 0.938337801608579, 0.938337801608579, 0.938337801608579, 0.938337801608579, 0.9410187667560321, 0.9329758713136729, 0.938337801608579, 0.9302949061662198, 0.9329758713136729, 0.9302949061662198, 0.9276139410187667, 0.9249329758713136, 0.9302949061662198, 0.9276139410187667]\n"
     ]
    },
    {
     "data": {
      "text/plain": [
       "Text(0,0.5,'Testing Accuracy')"
      ]
     },
     "execution_count": 58,
     "metadata": {},
     "output_type": "execute_result"
    },
    {
     "data": {
      "image/png": "[encoded data removed]",
      "text/plain": [
       "<Figure size 432x288 with 1 Axes>"
      ]
     },
     "metadata": {
      "needs_background": "light"
     },
     "output_type": "display_data"
    }
   ],
   "source": [
    "# # rs=10\n",
    "# X_train, X_test, y_train, y_test = train_test_split(X,y, test_size=.20, random_state=rs) \n",
    "# # try K=1 through K=25 and record testing accuracy\n",
    "# k_range = range(1, 26)\n",
    "# # We can create Python dictionary using [] or dict()\n",
    "# scores = []\n",
    "\n",
    "# # We use a loop through the range 1 to 26\n",
    "# # We append the scores in the dictionary\n",
    "# for k in k_range:\n",
    "#     knn = KNeighborsClassifier(n_neighbors=k)\n",
    "#     knn.fit(X_train, y_train)\n",
    "#     y_pred = knn.predict(X_test)\n",
    "#     scores.append(metrics.accuracy_score(y_test, y_pred))\n",
    "# print(scores)\n",
    "# ## The below lines for plot\n",
    "# plt.plot(k_range, scores,'r', linewidth=2)\n",
    "# plt.xlabel('Value of K for KNN')\n",
    "# plt.ylabel('Testing Accuracy')"
   ]
  },
  {
   "cell_type": "code",
   "execution_count": 59,
   "metadata": {},
   "outputs": [],
   "source": [
    "# axis_font = {'fontname':'Arial', 'size':'16'}\n",
    "# plt.plot(k_range, scores,'--r',linewidth=2.5,marker='x')\n",
    "# plt.xlabel('Value of K for KNN',**axis_font)\n",
    "# plt.ylabel('Testing Accuracy',**axis_font)\n",
    "# plt.yticks(**axis_font)\n",
    "# plt.gca().legend(('Optimal k'),fontsize=16,loc='best')\n",
    "# plt.tight_layout()\n",
    "# plt.show()"
   ]
  },
  {
   "cell_type": "code",
   "execution_count": null,
   "metadata": {},
   "outputs": [],
   "source": []
  },
  {
   "cell_type": "markdown",
   "metadata": {},
   "source": [
    "### KNN "
   ]
  },
  {
   "cell_type": "code",
   "execution_count": 65,
   "metadata": {},
   "outputs": [
    {
     "name": "stdout",
     "output_type": "stream",
     "text": [
      "('Accuracy:', 0.935656836461126)\n",
      "[[147  16]\n",
      " [  8 202]]\n",
      "             precision    recall  f1-score   support\n",
      "\n",
      "        0.0       0.95      0.90      0.92       163\n",
      "        1.0       0.93      0.96      0.94       210\n",
      "\n",
      "avg / total       0.94      0.94      0.94       373\n",
      "\n",
      "('roc', 0.9318726263511541)\n"
     ]
    }
   ],
   "source": [
    "clfknn = KNeighborsClassifier(n_neighbors=5)\n",
    "clfknn.fit(X_train, y_train)\n",
    "predk=clfknn.predict(X_test)\n",
    "acck=clfknn.score(X_test, y_test)\n",
    "print (\"Accuracy:\", acck)  \n",
    "print(confusion_matrix(y_test, predk))\n",
    "print(classification_report(y_test, predk))\n",
    "false_positive_rate, true_positive_rate, thresholds = roc_curve(y_test,predk)\n",
    "roc_auck = auc(false_positive_rate, true_positive_rate)\n",
    "print ('roc',roc_auck)"
   ]
  },
  {
   "cell_type": "markdown",
   "metadata": {},
   "source": [
    "### Whole brain accuracy and AUC"
   ]
  },
  {
   "cell_type": "code",
   "execution_count": 9,
   "metadata": {},
   "outputs": [
    {
     "data": {
      "text/html": [
       "<div>\n",
       "<style scoped>\n",
       "    .dataframe tbody tr th:only-of-type {\n",
       "        vertical-align: middle;\n",
       "    }\n",
       "\n",
       "    .dataframe tbody tr th {\n",
       "        vertical-align: top;\n",
       "    }\n",
       "\n",
       "    .dataframe thead th {\n",
       "        text-align: right;\n",
       "    }\n",
       "</style>\n",
       "<table border=\"1\" class=\"dataframe\">\n",
       "  <thead>\n",
       "    <tr style=\"text-align: right;\">\n",
       "      <th></th>\n",
       "      <th>0</th>\n",
       "    </tr>\n",
       "  </thead>\n",
       "  <tbody>\n",
       "    <tr>\n",
       "      <th>0</th>\n",
       "      <td>0.935657</td>\n",
       "    </tr>\n",
       "    <tr>\n",
       "      <th>1</th>\n",
       "      <td>0.931873</td>\n",
       "    </tr>\n",
       "  </tbody>\n",
       "</table>\n",
       "</div>"
      ],
      "text/plain": [
       "          0\n",
       "0  0.935657\n",
       "1  0.931873"
      ]
     },
     "execution_count": 9,
     "metadata": {},
     "output_type": "execute_result"
    }
   ],
   "source": [
    "whc=pd.DataFrame([acck,roc_auck])\n",
    "whc"
   ]
  },
  {
   "cell_type": "code",
   "execution_count": 10,
   "metadata": {},
   "outputs": [],
   "source": [
    "## whole brain level analysis\n",
    "# whc=pd.DataFrame([acc,roc_auc,acck,roc_auck])\n",
    "# whc"
   ]
  },
  {
   "cell_type": "code",
   "execution_count": 11,
   "metadata": {},
   "outputs": [],
   "source": [
    "# cv=5\n",
    "# from sklearn.model_selection import GridSearchCV\n",
    "# parameters = {'kernel':['rbf'], 'C':[1],'gamma':[0.01 ]}\n",
    "# svc = svm.SVC()\n",
    "# clf = GridSearchCV(svc, parameters,cv=cv)\n",
    "# clf.fit(X_train, y_train)"
   ]
  },
  {
   "cell_type": "code",
   "execution_count": 12,
   "metadata": {},
   "outputs": [],
   "source": [
    "# X.shape\n",
    "# np.max(acgw)"
   ]
  },
  {
   "cell_type": "markdown",
   "metadata": {},
   "source": [
    "##### KNN Hemisphere"
   ]
  },
  {
   "cell_type": "code",
   "execution_count": 13,
   "metadata": {},
   "outputs": [
    {
     "name": "stdout",
     "output_type": "stream",
     "text": [
      "0.8739946380697051\n",
      "0 68\n",
      "             precision    recall  f1-score   support\n",
      "\n",
      "        0.0       0.89      0.82      0.85       163\n",
      "        1.0       0.87      0.92      0.89       210\n",
      "\n",
      "avg / total       0.87      0.87      0.87       373\n",
      "\n",
      "0.8927613941018767\n",
      "68 136\n",
      "             precision    recall  f1-score   support\n",
      "\n",
      "        0.0       0.91      0.84      0.87       163\n",
      "        1.0       0.88      0.93      0.91       210\n",
      "\n",
      "avg / total       0.89      0.89      0.89       373\n",
      "\n",
      "0.9302949061662198\n",
      "136 204\n",
      "             precision    recall  f1-score   support\n",
      "\n",
      "        0.0       0.96      0.88      0.92       163\n",
      "        1.0       0.91      0.97      0.94       210\n",
      "\n",
      "avg / total       0.93      0.93      0.93       373\n",
      "\n",
      "0.938337801608579\n",
      "204 272\n",
      "             precision    recall  f1-score   support\n",
      "\n",
      "        0.0       0.93      0.93      0.93       163\n",
      "        1.0       0.95      0.94      0.95       210\n",
      "\n",
      "avg / total       0.94      0.94      0.94       373\n",
      "\n"
     ]
    }
   ],
   "source": [
    "k=0;j=68; acgkw=[];\n",
    "for i in range(0,4):\n",
    "    clfknnw = KNeighborsClassifier(n_neighbors=5)\n",
    "    clfknnw.fit(X_train[:,k:j], y_train)\n",
    "    predkw=clfknnw.predict(X_test[:,k:j])\n",
    "    acckw=clfknnw.score(X_test[:,k:j], y_test)\n",
    "    acgkw=np.append(acgkw,acckw)\n",
    "    print acckw\n",
    "    print k,j\n",
    "    print(classification_report(y_test, predkw))\n",
    "    k=k+68;j=j+68;"
   ]
  },
  {
   "cell_type": "code",
   "execution_count": 14,
   "metadata": {},
   "outputs": [
    {
     "data": {
      "text/plain": [
       "array([0.87399464, 0.89276139, 0.93029491, 0.9383378 ])"
      ]
     },
     "execution_count": 14,
     "metadata": {},
     "output_type": "execute_result"
    }
   ],
   "source": [
    "acgkw"
   ]
  },
  {
   "cell_type": "code",
   "execution_count": null,
   "metadata": {},
   "outputs": [],
   "source": []
  },
  {
   "cell_type": "code",
   "execution_count": null,
   "metadata": {},
   "outputs": [],
   "source": []
  },
  {
   "cell_type": "markdown",
   "metadata": {},
   "source": [
    "# Hemisphere"
   ]
  },
  {
   "cell_type": "markdown",
   "metadata": {},
   "source": [
    "### LH"
   ]
  },
  {
   "cell_type": "markdown",
   "metadata": {},
   "source": [
    "### Knnlh Hemisphere"
   ]
  },
  {
   "cell_type": "code",
   "execution_count": 15,
   "metadata": {},
   "outputs": [
    {
     "name": "stdout",
     "output_type": "stream",
     "text": [
      "('Accuracy:', 0.903485254691689)\n",
      "[[146  17]\n",
      " [ 19 191]]\n",
      "             precision    recall  f1-score   support\n",
      "\n",
      "        0.0       0.88      0.90      0.89       163\n",
      "        1.0       0.92      0.91      0.91       210\n",
      "\n",
      "avg / total       0.90      0.90      0.90       373\n",
      "\n",
      "('roc', 0.9026146654981011)\n"
     ]
    }
   ],
   "source": [
    "a=range(0,(X.shape[1]),2)\n",
    "d11=X[:,a];\n",
    "X_train, X_test, y_train, y_test = train_test_split(d11,y, test_size=.20, random_state=rs) \n",
    "clfknnlh = KNeighborsClassifier(n_neighbors=5)\n",
    "clfknnlh.fit(X_train, y_train)\n",
    "predklh=clfknnlh.predict(X_test)\n",
    "accklh=clfknnlh.score(X_test, y_test)\n",
    "print (\"Accuracy:\", accklh)  \n",
    "print(confusion_matrix(y_test, predklh))\n",
    "print(classification_report(y_test, predklh))\n",
    "false_positive_rate, true_positive_rate, thresholds = roc_curve(y_test,predklh)\n",
    "roc_aucklh = auc(false_positive_rate, true_positive_rate)\n",
    "print ('roc',roc_aucklh)"
   ]
  },
  {
   "cell_type": "code",
   "execution_count": 16,
   "metadata": {},
   "outputs": [
    {
     "data": {
      "text/html": [
       "<div>\n",
       "<style scoped>\n",
       "    .dataframe tbody tr th:only-of-type {\n",
       "        vertical-align: middle;\n",
       "    }\n",
       "\n",
       "    .dataframe tbody tr th {\n",
       "        vertical-align: top;\n",
       "    }\n",
       "\n",
       "    .dataframe thead th {\n",
       "        text-align: right;\n",
       "    }\n",
       "</style>\n",
       "<table border=\"1\" class=\"dataframe\">\n",
       "  <thead>\n",
       "    <tr style=\"text-align: right;\">\n",
       "      <th></th>\n",
       "      <th>0</th>\n",
       "    </tr>\n",
       "  </thead>\n",
       "  <tbody>\n",
       "    <tr>\n",
       "      <th>0</th>\n",
       "      <td>0.903485</td>\n",
       "    </tr>\n",
       "    <tr>\n",
       "      <th>1</th>\n",
       "      <td>0.902615</td>\n",
       "    </tr>\n",
       "  </tbody>\n",
       "</table>\n",
       "</div>"
      ],
      "text/plain": [
       "          0\n",
       "0  0.903485\n",
       "1  0.902615"
      ]
     },
     "execution_count": 16,
     "metadata": {},
     "output_type": "execute_result"
    }
   ],
   "source": [
    "lhacau=pd.DataFrame([accklh,roc_aucklh])\n",
    "lhacau"
   ]
  },
  {
   "cell_type": "code",
   "execution_count": 17,
   "metadata": {},
   "outputs": [
    {
     "name": "stdout",
     "output_type": "stream",
     "text": [
      "('Acc:', 0.8123324396782842)\n",
      "0 34\n",
      "             precision    recall  f1-score   support\n",
      "\n",
      "        0.0       0.79      0.77      0.78       163\n",
      "        1.0       0.83      0.84      0.83       210\n",
      "\n",
      "avg / total       0.81      0.81      0.81       373\n",
      "\n",
      "('Acc:', 0.8364611260053619)\n",
      "34 68\n",
      "             precision    recall  f1-score   support\n",
      "\n",
      "        0.0       0.83      0.79      0.81       163\n",
      "        1.0       0.84      0.87      0.86       210\n",
      "\n",
      "avg / total       0.84      0.84      0.84       373\n",
      "\n",
      "('Acc:', 0.871313672922252)\n",
      "68 102\n",
      "             precision    recall  f1-score   support\n",
      "\n",
      "        0.0       0.86      0.84      0.85       163\n",
      "        1.0       0.88      0.90      0.89       210\n",
      "\n",
      "avg / total       0.87      0.87      0.87       373\n",
      "\n",
      "('Acc:', 0.9276139410187667)\n",
      "102 136\n",
      "             precision    recall  f1-score   support\n",
      "\n",
      "        0.0       0.91      0.93      0.92       163\n",
      "        1.0       0.94      0.93      0.94       210\n",
      "\n",
      "avg / total       0.93      0.93      0.93       373\n",
      "\n"
     ]
    }
   ],
   "source": [
    "# only 34 features \n",
    "k=0;j=34; acgklh=[];\n",
    "for i in range(0,4):\n",
    "    clfknnlh = KNeighborsClassifier(n_neighbors=5)\n",
    "    clfknnlh.fit(X_train[:,k:j], y_train)\n",
    "    predklh=clfknnlh.predict(X_test[:,k:j])\n",
    "    accklh=clfknnlh.score(X_test[:,k:j], y_test)\n",
    "    acgklh=np.append(acgklh,accklh)\n",
    "    print ('Acc:',accklh)\n",
    "    print k,j\n",
    "    print(classification_report(y_test, predklh))\n",
    "    k=k+34;j=j+34;"
   ]
  },
  {
   "cell_type": "code",
   "execution_count": 18,
   "metadata": {},
   "outputs": [],
   "source": [
    "# acgklh"
   ]
  },
  {
   "cell_type": "code",
   "execution_count": 19,
   "metadata": {},
   "outputs": [],
   "source": [
    "## "
   ]
  },
  {
   "cell_type": "markdown",
   "metadata": {},
   "source": [
    "### RH"
   ]
  },
  {
   "cell_type": "markdown",
   "metadata": {},
   "source": [
    "# knnrh"
   ]
  },
  {
   "cell_type": "code",
   "execution_count": 63,
   "metadata": {},
   "outputs": [
    {
     "name": "stdout",
     "output_type": "stream",
     "text": [
      "('Accuracy:', 0.8900804289544236)\n",
      "[[136  23]\n",
      " [ 18 196]]\n",
      "             precision    recall  f1-score   support\n",
      "\n",
      "        0.0       0.88      0.86      0.87       159\n",
      "        1.0       0.89      0.92      0.91       214\n",
      "\n",
      "avg / total       0.89      0.89      0.89       373\n",
      "\n",
      "('roc', 0.8856168812084876)\n"
     ]
    }
   ],
   "source": [
    "rss=14\n",
    "a=range(1,(X.shape[1]),2)\n",
    "d11=X[:,a];\n",
    "# X_train, X_test, y_train, y_test = train_test_split(d11,y, test_size=.20, random_state=rs)\n",
    "X_train, X_test, y_train, y_test = train_test_split(d11,y, test_size=.20, random_state=rss) \n",
    "clfknnrh = KNeighborsClassifier(n_neighbors=5)\n",
    "clfknnrh.fit(X_train, y_train)\n",
    "predkrh=clfknnrh.predict(X_test)\n",
    "acckrh=clfknnrh.score(X_test, y_test)\n",
    "print (\"Accuracy:\", acckrh)  \n",
    "print(confusion_matrix(y_test, predkrh))\n",
    "print(classification_report(y_test, predkrh))\n",
    "false_positive_rate, true_positive_rate, thresholds = roc_curve(y_test,predkrh)\n",
    "roc_auckrh = auc(false_positive_rate, true_positive_rate)\n",
    "print ('roc',roc_auckrh)"
   ]
  },
  {
   "cell_type": "code",
   "execution_count": 64,
   "metadata": {},
   "outputs": [
    {
     "data": {
      "text/html": [
       "<div>\n",
       "<style scoped>\n",
       "    .dataframe tbody tr th:only-of-type {\n",
       "        vertical-align: middle;\n",
       "    }\n",
       "\n",
       "    .dataframe tbody tr th {\n",
       "        vertical-align: top;\n",
       "    }\n",
       "\n",
       "    .dataframe thead th {\n",
       "        text-align: right;\n",
       "    }\n",
       "</style>\n",
       "<table border=\"1\" class=\"dataframe\">\n",
       "  <thead>\n",
       "    <tr style=\"text-align: right;\">\n",
       "      <th></th>\n",
       "      <th>0</th>\n",
       "    </tr>\n",
       "  </thead>\n",
       "  <tbody>\n",
       "    <tr>\n",
       "      <th>0</th>\n",
       "      <td>0.890080</td>\n",
       "    </tr>\n",
       "    <tr>\n",
       "      <th>1</th>\n",
       "      <td>0.885617</td>\n",
       "    </tr>\n",
       "  </tbody>\n",
       "</table>\n",
       "</div>"
      ],
      "text/plain": [
       "          0\n",
       "0  0.890080\n",
       "1  0.885617"
      ]
     },
     "execution_count": 64,
     "metadata": {},
     "output_type": "execute_result"
    }
   ],
   "source": [
    "rhacau=pd.DataFrame([acckrh,roc_auckrh])\n",
    "rhacau"
   ]
  },
  {
   "cell_type": "code",
   "execution_count": 65,
   "metadata": {},
   "outputs": [
    {
     "name": "stdout",
     "output_type": "stream",
     "text": [
      "('acc:', 0.7935656836461126)\n",
      "0 34\n",
      "             precision    recall  f1-score   support\n",
      "\n",
      "        0.0       0.79      0.70      0.74       159\n",
      "        1.0       0.80      0.86      0.83       214\n",
      "\n",
      "avg / total       0.79      0.79      0.79       373\n",
      "\n",
      "('acc:', 0.8042895442359249)\n",
      "34 68\n",
      "             precision    recall  f1-score   support\n",
      "\n",
      "        0.0       0.80      0.72      0.76       159\n",
      "        1.0       0.81      0.87      0.84       214\n",
      "\n",
      "avg / total       0.80      0.80      0.80       373\n",
      "\n",
      "('acc:', 0.8498659517426274)\n",
      "68 102\n",
      "             precision    recall  f1-score   support\n",
      "\n",
      "        0.0       0.86      0.77      0.81       159\n",
      "        1.0       0.84      0.91      0.87       214\n",
      "\n",
      "avg / total       0.85      0.85      0.85       373\n",
      "\n",
      "('acc:', 0.900804289544236)\n",
      "102 136\n",
      "             precision    recall  f1-score   support\n",
      "\n",
      "        0.0       0.90      0.86      0.88       159\n",
      "        1.0       0.90      0.93      0.91       214\n",
      "\n",
      "avg / total       0.90      0.90      0.90       373\n",
      "\n"
     ]
    }
   ],
   "source": [
    "# only 34 features \n",
    "k=0;j=34; acgkrh=[];\n",
    "for i in range(0,4):\n",
    "    clfknnrh = KNeighborsClassifier(n_neighbors=5)\n",
    "    clfknnrh.fit(X_train[:,k:j], y_train)\n",
    "    predkrh=clfknnrh.predict(X_test[:,k:j])\n",
    "    acckrh=clfknnrh.score(X_test[:,k:j], y_test)\n",
    "    acgkrh=np.append(acgkrh,acckrh)\n",
    "    print ('acc:',acckrh)\n",
    "    print k,j\n",
    "    print(classification_report(y_test, predkrh))\n",
    "    k=k+34;j=j+34;"
   ]
  },
  {
   "cell_type": "code",
   "execution_count": null,
   "metadata": {},
   "outputs": [],
   "source": []
  },
  {
   "cell_type": "code",
   "execution_count": null,
   "metadata": {},
   "outputs": [],
   "source": []
  },
  {
   "cell_type": "code",
   "execution_count": 66,
   "metadata": {},
   "outputs": [],
   "source": [
    "t=np.linspace(0,3,4, endpoint=True)\n",
    "time=pd.DataFrame(t)\n",
    "# a=pd.concat([time,pd.DataFrame(acgw),pd.DataFrame(acgl),pd.DataFrame(acgr)],axis=1, keys=[ 'time',\"Whole\", \"LH\", \"RH\"])\n",
    "a=pd.concat([time,pd.DataFrame(acgkw),pd.DataFrame(acgklh),pd.DataFrame(acgkrh)],axis=1, keys=[ 'time',\"Whole\", \"LH\", \"RH\"])"
   ]
  },
  {
   "cell_type": "code",
   "execution_count": 67,
   "metadata": {},
   "outputs": [
    {
     "data": {
      "text/plain": [
       "0.900804289544236"
      ]
     },
     "execution_count": 67,
     "metadata": {},
     "output_type": "execute_result"
    }
   ],
   "source": [
    "# np.max(acgklh)\n",
    "np.max(a.iloc[:,3])"
   ]
  },
  {
   "cell_type": "code",
   "execution_count": 68,
   "metadata": {},
   "outputs": [],
   "source": [
    "# wpath=\"/home/sultan/EEG/Source_level_frequency_analysis/Results/\"\n",
    "# dall=a\n",
    "# # dall.to_csv(wpath+'svm_res_100sam_10ms_clear_v1.csv')\n",
    "# dall.to_csv(wpath+'svm_res_band_100sam_clear_v1.csv')"
   ]
  },
  {
   "cell_type": "code",
   "execution_count": 69,
   "metadata": {},
   "outputs": [
    {
     "data": {
      "image/png": "[encoded data removed]",
      "text/plain": [
       "<Figure size 432x288 with 1 Axes>"
      ]
     },
     "metadata": {
      "needs_background": "light"
     },
     "output_type": "display_data"
    }
   ],
   "source": [
    "axis_font = {'fontname':'Arial', 'size':'15'}\n",
    "#tw1=tad.iloc[1:,0];Acdw1=tad.iloc[1:,1];\n",
    "tw1=a.iloc[0:,0];Acdw=a.iloc[0:,1];Acdlh=a.iloc[0:,2];Acdrh=a.iloc[0:,3]\n",
    "# plt.plot(tw1,Acdw1,c='g')\n",
    "plt.plot(tw1,Acdw,'g',linewidth=2,marker='*')\n",
    "plt.plot(tw1, Acdlh,'--r',linewidth=2,marker='o')\n",
    "plt.plot(tw1, Acdrh,'--b',linewidth=2,marker='x')\n",
    "plt.title(\"Clear\")\n",
    "plt.xlim(0,4)\n",
    "plt.ylim(0.7,1)\n",
    "plt.grid(True)\n",
    "plt.tight_layout()\n",
    "plt.gca().legend(('Whole','LH','RH'),fontsize=16,loc='best')\n",
    "# plt.savefig('whole_acc_timem.eps')\n",
    "# plt.savefig('whole_acc_timem.tif')\n",
    "plt.show()"
   ]
  },
  {
   "cell_type": "code",
   "execution_count": 70,
   "metadata": {},
   "outputs": [
    {
     "data": {
      "text/html": [
       "<div>\n",
       "<style scoped>\n",
       "    .dataframe tbody tr th:only-of-type {\n",
       "        vertical-align: middle;\n",
       "    }\n",
       "\n",
       "    .dataframe tbody tr th {\n",
       "        vertical-align: top;\n",
       "    }\n",
       "\n",
       "    .dataframe thead tr th {\n",
       "        text-align: left;\n",
       "    }\n",
       "</style>\n",
       "<table border=\"1\" class=\"dataframe\">\n",
       "  <thead>\n",
       "    <tr>\n",
       "      <th></th>\n",
       "      <th>Whole</th>\n",
       "      <th>LH</th>\n",
       "      <th>RH</th>\n",
       "    </tr>\n",
       "    <tr>\n",
       "      <th></th>\n",
       "      <th>0</th>\n",
       "      <th>0</th>\n",
       "      <th>0</th>\n",
       "    </tr>\n",
       "  </thead>\n",
       "  <tbody>\n",
       "    <tr>\n",
       "      <th>0</th>\n",
       "      <td>0.935657</td>\n",
       "      <td>0.903485</td>\n",
       "      <td>0.890080</td>\n",
       "    </tr>\n",
       "    <tr>\n",
       "      <th>1</th>\n",
       "      <td>0.931873</td>\n",
       "      <td>0.902615</td>\n",
       "      <td>0.885617</td>\n",
       "    </tr>\n",
       "  </tbody>\n",
       "</table>\n",
       "</div>"
      ],
      "text/plain": [
       "      Whole        LH        RH\n",
       "          0         0         0\n",
       "0  0.935657  0.903485  0.890080\n",
       "1  0.931873  0.902615  0.885617"
      ]
     },
     "execution_count": 70,
     "metadata": {},
     "output_type": "execute_result"
    }
   ],
   "source": [
    "## Ffe: Fulll features altogether\n",
    "Ffe=pd.concat([whc,lhacau,rhacau],axis=1, keys=[ \"Whole\", \"LH\", \"RH\"])\n",
    "Ffe"
   ]
  },
  {
   "cell_type": "code",
   "execution_count": 71,
   "metadata": {},
   "outputs": [],
   "source": [
    "## bb: is the sub band frequency\n",
    "bb=a.iloc[:,1:]"
   ]
  },
  {
   "cell_type": "code",
   "execution_count": 83,
   "metadata": {},
   "outputs": [
    {
     "data": {
      "text/html": [
       "<div>\n",
       "<style scoped>\n",
       "    .dataframe tbody tr th:only-of-type {\n",
       "        vertical-align: middle;\n",
       "    }\n",
       "\n",
       "    .dataframe tbody tr th {\n",
       "        vertical-align: top;\n",
       "    }\n",
       "\n",
       "    .dataframe thead tr th {\n",
       "        text-align: left;\n",
       "    }\n",
       "</style>\n",
       "<table border=\"1\" class=\"dataframe\">\n",
       "  <thead>\n",
       "    <tr>\n",
       "      <th></th>\n",
       "      <th>Whole</th>\n",
       "      <th>LH</th>\n",
       "      <th>RH</th>\n",
       "    </tr>\n",
       "    <tr>\n",
       "      <th></th>\n",
       "      <th>0</th>\n",
       "      <th>0</th>\n",
       "      <th>0</th>\n",
       "    </tr>\n",
       "  </thead>\n",
       "  <tbody>\n",
       "    <tr>\n",
       "      <th>0</th>\n",
       "      <td>93.565684</td>\n",
       "      <td>90.348525</td>\n",
       "      <td>89.008043</td>\n",
       "    </tr>\n",
       "    <tr>\n",
       "      <th>1</th>\n",
       "      <td>93.187263</td>\n",
       "      <td>90.261467</td>\n",
       "      <td>88.561688</td>\n",
       "    </tr>\n",
       "    <tr>\n",
       "      <th>0</th>\n",
       "      <td>87.399464</td>\n",
       "      <td>81.233244</td>\n",
       "      <td>79.356568</td>\n",
       "    </tr>\n",
       "    <tr>\n",
       "      <th>1</th>\n",
       "      <td>89.276139</td>\n",
       "      <td>83.646113</td>\n",
       "      <td>80.428954</td>\n",
       "    </tr>\n",
       "    <tr>\n",
       "      <th>2</th>\n",
       "      <td>93.029491</td>\n",
       "      <td>87.131367</td>\n",
       "      <td>84.986595</td>\n",
       "    </tr>\n",
       "    <tr>\n",
       "      <th>3</th>\n",
       "      <td>93.833780</td>\n",
       "      <td>92.761394</td>\n",
       "      <td>90.080429</td>\n",
       "    </tr>\n",
       "  </tbody>\n",
       "</table>\n",
       "</div>"
      ],
      "text/plain": [
       "       Whole         LH         RH\n",
       "           0          0          0\n",
       "0  93.565684  90.348525  89.008043\n",
       "1  93.187263  90.261467  88.561688\n",
       "0  87.399464  81.233244  79.356568\n",
       "1  89.276139  83.646113  80.428954\n",
       "2  93.029491  87.131367  84.986595\n",
       "3  93.833780  92.761394  90.080429"
      ]
     },
     "execution_count": 83,
     "metadata": {},
     "output_type": "execute_result"
    }
   ],
   "source": [
    "## Here the 1st and 2nd rows are accand roc for full brain\n",
    "## Here from 3rd row theta,alpha beta,and gamma\n",
    "# wrpath=\"/home/sultan/EEG/Source_level_frequency_analysis/Results/\"\n",
    "bandallclean=pd.concat([Ffe*100,bb*100],axis=0)\n",
    "# # bandallclean.iloc[0:,:]\n",
    "bandallclean\n",
    "# bandallclean.to_csv(wrpath+str(rs)+'Clear_band.csv')"
   ]
  },
  {
   "cell_type": "markdown",
   "metadata": {},
   "source": [
    "#### Writing into a csv file"
   ]
  },
  {
   "cell_type": "code",
   "execution_count": 82,
   "metadata": {},
   "outputs": [
    {
     "data": {
      "text/plain": [
       "'/home/sultan/EEG/Source_level_frequency_analysis/Results/18_knn_Clear_band.csv'"
      ]
     },
     "execution_count": 82,
     "metadata": {},
     "output_type": "execute_result"
    }
   ],
   "source": [
    "# wrpath=\"/home/sultan/EEG/Source_level_frequency_analysis/Results/\"\n",
    "# bandallclean=pd.concat([Ffe*100,bb*100],axis=0)\n",
    "# # bandallclean.iloc[0:,:]\n",
    "# bandallclean\n",
    "# bandallclean.to_csv(wrpath+str(rs)+tt+'_Clear_band.csv')\n",
    "# wrpath+str(rs)+tt+'_Clear_band.csv'"
   ]
  },
  {
   "cell_type": "code",
   "execution_count": 81,
   "metadata": {},
   "outputs": [
    {
     "data": {
      "text/plain": [
       "18"
      ]
     },
     "execution_count": 81,
     "metadata": {},
     "output_type": "execute_result"
    }
   ],
   "source": [
    "rs"
   ]
  },
  {
   "cell_type": "code",
   "execution_count": null,
   "metadata": {},
   "outputs": [],
   "source": []
  }
 ],
 "metadata": {
  "kernelspec": {
   "display_name": "Python 2",
   "language": "python",
   "name": "python2"
  },
  "language_info": {
   "codemirror_mode": {
    "name": "ipython",
    "version": 2
   },
   "file_extension": ".py",
   "mimetype": "text/x-python",
   "name": "python",
   "nbconvert_exporter": "python",
   "pygments_lexer": "ipython2",
   "version": "2.7.6"
  }
 },
 "nbformat": 4,
 "nbformat_minor": 2
}
