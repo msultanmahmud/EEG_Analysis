{
 "cells": [
  {
   "cell_type": "code",
   "execution_count": 1,
   "metadata": {},
   "outputs": [],
   "source": [
    "import shutil, random, os\n",
    "import pandas as pd\n",
    "import matplotlib.pyplot as plt\n",
    "import numpy as np\n",
    "import pandas as pd"
   ]
  },
  {
   "cell_type": "code",
   "execution_count": 2,
   "metadata": {},
   "outputs": [],
   "source": [
    "# pathcnh=\"/home/sultan/EEG/Source_level_frequency_analysis/ClearNH_pwelch.csv\"\n",
    "# pathchi=\"/home/sultan/EEG/Source_level_frequency_analysis/ClearHI_pwelch.csv\"\n",
    "pathnnh=\"/home/sultan/EEG/Source_level_frequency_analysis/NoiseNH_pwelch.csv\"\n",
    "pathnhi=\"/home/sultan/EEG/Source_level_frequency_analysis/NoiseHI_pwelch.csv\""
   ]
  },
  {
   "cell_type": "code",
   "execution_count": 3,
   "metadata": {},
   "outputs": [],
   "source": [
    "datacnh=pd.read_csv(pathcnh)\n",
    "datachi=pd.read_csv(pathchi)"
   ]
  },
  {
   "cell_type": "code",
   "execution_count": 4,
   "metadata": {},
   "outputs": [],
   "source": [
    "bfdcnh=pd.DataFrame(datacnh)\n",
    "bfdcnh.insert(0,'label',np.zeros(len(bfdcnh)),True)\n",
    "bfdchi=pd.DataFrame(datachi)\n",
    "bfdchi.insert(0,'label',np.ones(len(bfdchi)), True)"
   ]
  },
  {
   "cell_type": "code",
   "execution_count": 5,
   "metadata": {},
   "outputs": [
    {
     "name": "stdout",
     "output_type": "stream",
     "text": [
      "(776, 273)\n",
      "(1085, 273)\n"
     ]
    }
   ],
   "source": [
    "dnh=bfdcnh\n",
    "dhi=bfdchi\n",
    "print dnh.shape\n",
    "print dhi.shape\n",
    "# print type(dhi)"
   ]
  },
  {
   "cell_type": "code",
   "execution_count": 6,
   "metadata": {},
   "outputs": [
    {
     "data": {
      "text/plain": [
       "(1861, 273)"
      ]
     },
     "execution_count": 6,
     "metadata": {},
     "output_type": "execute_result"
    }
   ],
   "source": [
    "dall=pd.concat([pd.DataFrame(dnh.values),pd.DataFrame(dhi.values)], axis=0)\n",
    "dall.shape"
   ]
  },
  {
   "cell_type": "code",
   "execution_count": 13,
   "metadata": {},
   "outputs": [],
   "source": [
    "dall.to_csv('100sam_NHIerp_band_features_noise'+'.csv')"
   ]
  },
  {
   "cell_type": "code",
   "execution_count": 8,
   "metadata": {},
   "outputs": [],
   "source": [
    "# dhi.to_csv('hicl.csv')"
   ]
  },
  {
   "cell_type": "code",
   "execution_count": 9,
   "metadata": {},
   "outputs": [],
   "source": [
    "# dd=pd.concat([dnh,dhi],ignore_index=False)\n",
    "# dd.head(2)"
   ]
  },
  {
   "cell_type": "code",
   "execution_count": 10,
   "metadata": {},
   "outputs": [],
   "source": [
    "# from platform import python_version\n",
    "# print(python_version())"
   ]
  },
  {
   "cell_type": "code",
   "execution_count": 12,
   "metadata": {},
   "outputs": [
    {
     "data": {
      "text/html": [
       "<div>\n",
       "<style scoped>\n",
       "    .dataframe tbody tr th:only-of-type {\n",
       "        vertical-align: middle;\n",
       "    }\n",
       "\n",
       "    .dataframe tbody tr th {\n",
       "        vertical-align: top;\n",
       "    }\n",
       "\n",
       "    .dataframe thead th {\n",
       "        text-align: right;\n",
       "    }\n",
       "</style>\n",
       "<table border=\"1\" class=\"dataframe\">\n",
       "  <thead>\n",
       "    <tr style=\"text-align: right;\">\n",
       "      <th></th>\n",
       "      <th>label</th>\n",
       "      <th>1.2187e-19</th>\n",
       "      <th>9.5901e-20</th>\n",
       "      <th>6.7179e-21</th>\n",
       "      <th>8.885e-21</th>\n",
       "      <th>2.0659e-20</th>\n",
       "      <th>9.148e-21</th>\n",
       "      <th>3.5235e-20</th>\n",
       "      <th>1.3176e-20</th>\n",
       "      <th>9.2259e-20</th>\n",
       "      <th>...</th>\n",
       "      <th>5.9019e-21</th>\n",
       "      <th>2.1206e-21</th>\n",
       "      <th>1.0441e-20</th>\n",
       "      <th>2.2199e-20</th>\n",
       "      <th>3.372e-21</th>\n",
       "      <th>4.8072e-21</th>\n",
       "      <th>3.528e-20</th>\n",
       "      <th>4.6282e-20</th>\n",
       "      <th>7.3539e-21</th>\n",
       "      <th>1.5532e-20</th>\n",
       "    </tr>\n",
       "  </thead>\n",
       "  <tbody>\n",
       "    <tr>\n",
       "      <th>771</th>\n",
       "      <td>0.0</td>\n",
       "      <td>1.208400e-20</td>\n",
       "      <td>1.094600e-20</td>\n",
       "      <td>2.157000e-21</td>\n",
       "      <td>2.288600e-21</td>\n",
       "      <td>1.588500e-21</td>\n",
       "      <td>2.514100e-21</td>\n",
       "      <td>2.101600e-21</td>\n",
       "      <td>1.429400e-21</td>\n",
       "      <td>2.343500e-20</td>\n",
       "      <td>...</td>\n",
       "      <td>1.455300e-21</td>\n",
       "      <td>1.109100e-21</td>\n",
       "      <td>3.025800e-21</td>\n",
       "      <td>3.107000e-21</td>\n",
       "      <td>1.223400e-21</td>\n",
       "      <td>8.194400e-22</td>\n",
       "      <td>5.118700e-21</td>\n",
       "      <td>8.029800e-21</td>\n",
       "      <td>4.376300e-21</td>\n",
       "      <td>3.903900e-21</td>\n",
       "    </tr>\n",
       "    <tr>\n",
       "      <th>772</th>\n",
       "      <td>0.0</td>\n",
       "      <td>4.324000e-20</td>\n",
       "      <td>1.599800e-20</td>\n",
       "      <td>6.085200e-20</td>\n",
       "      <td>4.930600e-20</td>\n",
       "      <td>6.048400e-21</td>\n",
       "      <td>4.492600e-21</td>\n",
       "      <td>1.892800e-20</td>\n",
       "      <td>2.215900e-21</td>\n",
       "      <td>5.556600e-20</td>\n",
       "      <td>...</td>\n",
       "      <td>9.814600e-22</td>\n",
       "      <td>1.643800e-21</td>\n",
       "      <td>1.133200e-20</td>\n",
       "      <td>3.586900e-21</td>\n",
       "      <td>3.384400e-21</td>\n",
       "      <td>1.164100e-21</td>\n",
       "      <td>1.550300e-20</td>\n",
       "      <td>1.443200e-20</td>\n",
       "      <td>2.529000e-21</td>\n",
       "      <td>2.015600e-21</td>\n",
       "    </tr>\n",
       "    <tr>\n",
       "      <th>773</th>\n",
       "      <td>0.0</td>\n",
       "      <td>2.259900e-20</td>\n",
       "      <td>9.879300e-21</td>\n",
       "      <td>1.178400e-20</td>\n",
       "      <td>1.074100e-20</td>\n",
       "      <td>3.871900e-22</td>\n",
       "      <td>2.694400e-21</td>\n",
       "      <td>1.401200e-20</td>\n",
       "      <td>3.706100e-21</td>\n",
       "      <td>2.983500e-20</td>\n",
       "      <td>...</td>\n",
       "      <td>1.766200e-21</td>\n",
       "      <td>1.205700e-21</td>\n",
       "      <td>9.515000e-21</td>\n",
       "      <td>3.173500e-21</td>\n",
       "      <td>2.728500e-21</td>\n",
       "      <td>1.590200e-21</td>\n",
       "      <td>1.249800e-20</td>\n",
       "      <td>1.566800e-20</td>\n",
       "      <td>3.996700e-21</td>\n",
       "      <td>4.184200e-21</td>\n",
       "    </tr>\n",
       "    <tr>\n",
       "      <th>774</th>\n",
       "      <td>0.0</td>\n",
       "      <td>2.210300e-20</td>\n",
       "      <td>1.556500e-20</td>\n",
       "      <td>4.473200e-21</td>\n",
       "      <td>4.557800e-21</td>\n",
       "      <td>4.687900e-21</td>\n",
       "      <td>1.653900e-21</td>\n",
       "      <td>3.081900e-21</td>\n",
       "      <td>2.272300e-21</td>\n",
       "      <td>2.890800e-20</td>\n",
       "      <td>...</td>\n",
       "      <td>1.014400e-21</td>\n",
       "      <td>1.940200e-21</td>\n",
       "      <td>4.106600e-21</td>\n",
       "      <td>6.410800e-21</td>\n",
       "      <td>2.371400e-21</td>\n",
       "      <td>2.076400e-21</td>\n",
       "      <td>7.335900e-21</td>\n",
       "      <td>8.921500e-21</td>\n",
       "      <td>3.162500e-21</td>\n",
       "      <td>7.493700e-21</td>\n",
       "    </tr>\n",
       "    <tr>\n",
       "      <th>775</th>\n",
       "      <td>0.0</td>\n",
       "      <td>1.500100e-20</td>\n",
       "      <td>1.938900e-21</td>\n",
       "      <td>5.818700e-21</td>\n",
       "      <td>4.906400e-21</td>\n",
       "      <td>1.319600e-21</td>\n",
       "      <td>2.872900e-21</td>\n",
       "      <td>3.367200e-21</td>\n",
       "      <td>1.142400e-21</td>\n",
       "      <td>2.201000e-20</td>\n",
       "      <td>...</td>\n",
       "      <td>1.141700e-21</td>\n",
       "      <td>7.008300e-22</td>\n",
       "      <td>3.684700e-21</td>\n",
       "      <td>3.150400e-21</td>\n",
       "      <td>2.443300e-21</td>\n",
       "      <td>2.686400e-21</td>\n",
       "      <td>7.321700e-21</td>\n",
       "      <td>4.824400e-21</td>\n",
       "      <td>1.995800e-21</td>\n",
       "      <td>6.515800e-21</td>\n",
       "    </tr>\n",
       "  </tbody>\n",
       "</table>\n",
       "<p>5 rows × 273 columns</p>\n",
       "</div>"
      ],
      "text/plain": [
       "     label    1.2187e-19    9.5901e-20    6.7179e-21     8.885e-21  \\\n",
       "771    0.0  1.208400e-20  1.094600e-20  2.157000e-21  2.288600e-21   \n",
       "772    0.0  4.324000e-20  1.599800e-20  6.085200e-20  4.930600e-20   \n",
       "773    0.0  2.259900e-20  9.879300e-21  1.178400e-20  1.074100e-20   \n",
       "774    0.0  2.210300e-20  1.556500e-20  4.473200e-21  4.557800e-21   \n",
       "775    0.0  1.500100e-20  1.938900e-21  5.818700e-21  4.906400e-21   \n",
       "\n",
       "       2.0659e-20     9.148e-21    3.5235e-20    1.3176e-20    9.2259e-20  \\\n",
       "771  1.588500e-21  2.514100e-21  2.101600e-21  1.429400e-21  2.343500e-20   \n",
       "772  6.048400e-21  4.492600e-21  1.892800e-20  2.215900e-21  5.556600e-20   \n",
       "773  3.871900e-22  2.694400e-21  1.401200e-20  3.706100e-21  2.983500e-20   \n",
       "774  4.687900e-21  1.653900e-21  3.081900e-21  2.272300e-21  2.890800e-20   \n",
       "775  1.319600e-21  2.872900e-21  3.367200e-21  1.142400e-21  2.201000e-20   \n",
       "\n",
       "         ...         5.9019e-21    2.1206e-21    1.0441e-20    2.2199e-20  \\\n",
       "771      ...       1.455300e-21  1.109100e-21  3.025800e-21  3.107000e-21   \n",
       "772      ...       9.814600e-22  1.643800e-21  1.133200e-20  3.586900e-21   \n",
       "773      ...       1.766200e-21  1.205700e-21  9.515000e-21  3.173500e-21   \n",
       "774      ...       1.014400e-21  1.940200e-21  4.106600e-21  6.410800e-21   \n",
       "775      ...       1.141700e-21  7.008300e-22  3.684700e-21  3.150400e-21   \n",
       "\n",
       "        3.372e-21    4.8072e-21     3.528e-20    4.6282e-20    7.3539e-21  \\\n",
       "771  1.223400e-21  8.194400e-22  5.118700e-21  8.029800e-21  4.376300e-21   \n",
       "772  3.384400e-21  1.164100e-21  1.550300e-20  1.443200e-20  2.529000e-21   \n",
       "773  2.728500e-21  1.590200e-21  1.249800e-20  1.566800e-20  3.996700e-21   \n",
       "774  2.371400e-21  2.076400e-21  7.335900e-21  8.921500e-21  3.162500e-21   \n",
       "775  2.443300e-21  2.686400e-21  7.321700e-21  4.824400e-21  1.995800e-21   \n",
       "\n",
       "       1.5532e-20  \n",
       "771  3.903900e-21  \n",
       "772  2.015600e-21  \n",
       "773  4.184200e-21  \n",
       "774  7.493700e-21  \n",
       "775  6.515800e-21  \n",
       "\n",
       "[5 rows x 273 columns]"
      ]
     },
     "execution_count": 12,
     "metadata": {},
     "output_type": "execute_result"
    }
   ],
   "source": [
    "datacnh.head(5)\n",
    "datacnh.tail(5)"
   ]
  }
 ],
 "metadata": {
  "kernelspec": {
   "display_name": "Python 2",
   "language": "python",
   "name": "python2"
  },
  "language_info": {
   "codemirror_mode": {
    "name": "ipython",
    "version": 2
   },
   "file_extension": ".py",
   "mimetype": "text/x-python",
   "name": "python",
   "nbconvert_exporter": "python",
   "pygments_lexer": "ipython2",
   "version": "2.7.6"
  }
 },
 "nbformat": 4,
 "nbformat_minor": 2
}
