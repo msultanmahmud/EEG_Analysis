{
 "cells": [
  {
   "cell_type": "code",
   "execution_count": 1,
   "metadata": {},
   "outputs": [],
   "source": [
    "## import important libaries\n",
    "import numpy as np\n",
    "import pandas as pd\n",
    "from sklearn import svm, metrics,preprocessing\n",
    "from sklearn.neighbors import KNeighborsClassifier\n",
    "#from sklearn import datasets\n",
    "from sklearn.model_selection import train_test_split, GridSearchCV\n",
    "from sklearn.metrics import accuracy_score,confusion_matrix,roc_curve, auc,classification_report\n",
    "from matplotlib import pyplot as plt\n",
    "from collections import Counter\n",
    "from scipy.stats import norm\n",
    "# import seaborn as sns; sns.set(font_scale=1.2)\n",
    "%matplotlib inline"
   ]
  },
  {
   "cell_type": "code",
   "execution_count": 2,
   "metadata": {},
   "outputs": [],
   "source": [
    "path=\"/home/sultan/EEG/Source_level_frequency_analysis/100_base_corr_sam_NHIerp_band_features_clear.csv\"\n",
    "## the below one is the band_features\n",
    "##path=\"/home/sultan/EEG/Source_level_frequency_analysis/100sam_NHIerp_band_features_clear.csv\"\n",
    "# path=\"/home/sultan/EEG/Source_level_frequency_analysis/100sam_NHIerp_band_features_noise.csv\"\n",
    "dataset =pd.read_csv(path)"
   ]
  },
  {
   "cell_type": "code",
   "execution_count": 3,
   "metadata": {},
   "outputs": [],
   "source": [
    "Xc=dataset.iloc[:,2:].values\n",
    "y=dataset.iloc[:,1].values\n",
    "scaler = preprocessing.StandardScaler()\n",
    "X = scaler.fit_transform(Xc)"
   ]
  },
  {
   "cell_type": "code",
   "execution_count": 4,
   "metadata": {},
   "outputs": [],
   "source": [
    "tt='_knn'\n",
    "rs=16"
   ]
  },
  {
   "cell_type": "code",
   "execution_count": 5,
   "metadata": {},
   "outputs": [],
   "source": [
    "X_train, X_test, y_train, y_test = train_test_split(X,y, test_size=.20, random_state=rs) "
   ]
  },
  {
   "cell_type": "code",
   "execution_count": 6,
   "metadata": {},
   "outputs": [
    {
     "data": {
      "text/plain": [
       "((373, 272), (373,))"
      ]
     },
     "execution_count": 6,
     "metadata": {},
     "output_type": "execute_result"
    }
   ],
   "source": [
    "X_test.shape, y_test.shape"
   ]
  },
  {
   "cell_type": "code",
   "execution_count": 7,
   "metadata": {},
   "outputs": [
    {
     "data": {
      "text/plain": [
       "(array([0., 1.]), array([159, 214]))"
      ]
     },
     "execution_count": 7,
     "metadata": {},
     "output_type": "execute_result"
    }
   ],
   "source": [
    "np.unique(y_test)\n",
    "np.unique(y_test,return_counts=True)"
   ]
  },
  {
   "cell_type": "markdown",
   "metadata": {},
   "source": [
    "### KNN "
   ]
  },
  {
   "cell_type": "code",
   "execution_count": 8,
   "metadata": {},
   "outputs": [
    {
     "name": "stdout",
     "output_type": "stream",
     "text": [
      "('Accuracy:', 0.9276139410187667)\n",
      "[[142  17]\n",
      " [ 10 204]]\n",
      "             precision    recall  f1-score   support\n",
      "\n",
      "        0.0       0.93      0.89      0.91       159\n",
      "        1.0       0.92      0.95      0.94       214\n",
      "\n",
      "avg / total       0.93      0.93      0.93       373\n",
      "\n",
      "('roc', 0.9231763945218362)\n"
     ]
    }
   ],
   "source": [
    "clfknn = KNeighborsClassifier(n_neighbors=5)\n",
    "clfknn.fit(X_train, y_train)\n",
    "predk=clfknn.predict(X_test)\n",
    "acck=clfknn.score(X_test, y_test)\n",
    "print (\"Accuracy:\", acck)  \n",
    "print(confusion_matrix(y_test, predk))\n",
    "print(classification_report(y_test, predk))\n",
    "false_positive_rate, true_positive_rate, thresholds = roc_curve(y_test,predk)\n",
    "roc_auck = auc(false_positive_rate, true_positive_rate)\n",
    "print ('roc',roc_auck)"
   ]
  },
  {
   "cell_type": "markdown",
   "metadata": {},
   "source": [
    "### Whole brain accuracy and AUC"
   ]
  },
  {
   "cell_type": "code",
   "execution_count": 9,
   "metadata": {},
   "outputs": [
    {
     "data": {
      "text/html": [
       "<div>\n",
       "<style scoped>\n",
       "    .dataframe tbody tr th:only-of-type {\n",
       "        vertical-align: middle;\n",
       "    }\n",
       "\n",
       "    .dataframe tbody tr th {\n",
       "        vertical-align: top;\n",
       "    }\n",
       "\n",
       "    .dataframe thead th {\n",
       "        text-align: right;\n",
       "    }\n",
       "</style>\n",
       "<table border=\"1\" class=\"dataframe\">\n",
       "  <thead>\n",
       "    <tr style=\"text-align: right;\">\n",
       "      <th></th>\n",
       "      <th>0</th>\n",
       "    </tr>\n",
       "  </thead>\n",
       "  <tbody>\n",
       "    <tr>\n",
       "      <th>0</th>\n",
       "      <td>0.927614</td>\n",
       "    </tr>\n",
       "    <tr>\n",
       "      <th>1</th>\n",
       "      <td>0.923176</td>\n",
       "    </tr>\n",
       "  </tbody>\n",
       "</table>\n",
       "</div>"
      ],
      "text/plain": [
       "          0\n",
       "0  0.927614\n",
       "1  0.923176"
      ]
     },
     "execution_count": 9,
     "metadata": {},
     "output_type": "execute_result"
    }
   ],
   "source": [
    "whc=pd.DataFrame([acck,roc_auck])\n",
    "whc"
   ]
  },
  {
   "cell_type": "code",
   "execution_count": 10,
   "metadata": {},
   "outputs": [],
   "source": [
    "## whole brain level analysis\n",
    "# whc=pd.DataFrame([acc,roc_auc,acck,roc_auck])\n",
    "# whc"
   ]
  },
  {
   "cell_type": "code",
   "execution_count": 11,
   "metadata": {},
   "outputs": [],
   "source": [
    "# cv=5\n",
    "# from sklearn.model_selection import GridSearchCV\n",
    "# parameters = {'kernel':['rbf'], 'C':[1],'gamma':[0.01 ]}\n",
    "# svc = svm.SVC()\n",
    "# clf = GridSearchCV(svc, parameters,cv=cv)\n",
    "# clf.fit(X_train, y_train)"
   ]
  },
  {
   "cell_type": "code",
   "execution_count": 12,
   "metadata": {},
   "outputs": [],
   "source": [
    "# X.shape\n",
    "# np.max(acgw)"
   ]
  },
  {
   "cell_type": "markdown",
   "metadata": {},
   "source": [
    "##### KNN Hemisphere"
   ]
  },
  {
   "cell_type": "code",
   "execution_count": 13,
   "metadata": {},
   "outputs": [
    {
     "name": "stdout",
     "output_type": "stream",
     "text": [
      "0.8605898123324397\n",
      "0 68\n",
      "             precision    recall  f1-score   support\n",
      "\n",
      "        0.0       0.87      0.79      0.83       159\n",
      "        1.0       0.86      0.91      0.88       214\n",
      "\n",
      "avg / total       0.86      0.86      0.86       373\n",
      "\n",
      "0.868632707774799\n",
      "68 136\n",
      "             precision    recall  f1-score   support\n",
      "\n",
      "        0.0       0.87      0.82      0.84       159\n",
      "        1.0       0.87      0.91      0.89       214\n",
      "\n",
      "avg / total       0.87      0.87      0.87       373\n",
      "\n",
      "0.8981233243967829\n",
      "136 204\n",
      "             precision    recall  f1-score   support\n",
      "\n",
      "        0.0       0.90      0.86      0.88       159\n",
      "        1.0       0.90      0.93      0.91       214\n",
      "\n",
      "avg / total       0.90      0.90      0.90       373\n",
      "\n",
      "0.935656836461126\n",
      "204 272\n",
      "             precision    recall  f1-score   support\n",
      "\n",
      "        0.0       0.91      0.94      0.93       159\n",
      "        1.0       0.96      0.93      0.94       214\n",
      "\n",
      "avg / total       0.94      0.94      0.94       373\n",
      "\n"
     ]
    }
   ],
   "source": [
    "k=0;j=68; acgkw=[];\n",
    "for i in range(0,4):\n",
    "    clfknnw = KNeighborsClassifier(n_neighbors=5)\n",
    "    clfknnw.fit(X_train[:,k:j], y_train)\n",
    "    predkw=clfknnw.predict(X_test[:,k:j])\n",
    "    acckw=clfknnw.score(X_test[:,k:j], y_test)\n",
    "    acgkw=np.append(acgkw,acckw)\n",
    "    print acckw\n",
    "    print k,j\n",
    "    print(classification_report(y_test, predkw))\n",
    "    k=k+68;j=j+68;"
   ]
  },
  {
   "cell_type": "code",
   "execution_count": 14,
   "metadata": {},
   "outputs": [
    {
     "data": {
      "text/plain": [
       "array([0.86058981, 0.86863271, 0.89812332, 0.93565684])"
      ]
     },
     "execution_count": 14,
     "metadata": {},
     "output_type": "execute_result"
    }
   ],
   "source": [
    "acgkw"
   ]
  },
  {
   "cell_type": "code",
   "execution_count": null,
   "metadata": {},
   "outputs": [],
   "source": []
  },
  {
   "cell_type": "code",
   "execution_count": null,
   "metadata": {},
   "outputs": [],
   "source": []
  },
  {
   "cell_type": "markdown",
   "metadata": {},
   "source": [
    "# Hemisphere"
   ]
  },
  {
   "cell_type": "markdown",
   "metadata": {},
   "source": [
    "### LH"
   ]
  },
  {
   "cell_type": "markdown",
   "metadata": {},
   "source": [
    "### Knnlh Hemisphere"
   ]
  },
  {
   "cell_type": "code",
   "execution_count": 15,
   "metadata": {},
   "outputs": [
    {
     "name": "stdout",
     "output_type": "stream",
     "text": [
      "('Accuracy:', 0.9115281501340483)\n",
      "[[145  14]\n",
      " [ 19 195]]\n",
      "             precision    recall  f1-score   support\n",
      "\n",
      "        0.0       0.88      0.91      0.90       159\n",
      "        1.0       0.93      0.91      0.92       214\n",
      "\n",
      "avg / total       0.91      0.91      0.91       373\n",
      "\n",
      "('roc', 0.9115823194028096)\n"
     ]
    }
   ],
   "source": [
    "a=range(0,(X.shape[1]),2)\n",
    "d11=X[:,a];\n",
    "X_train, X_test, y_train, y_test = train_test_split(d11,y, test_size=.20, random_state=rs) \n",
    "clfknnlh = KNeighborsClassifier(n_neighbors=5)\n",
    "clfknnlh.fit(X_train, y_train)\n",
    "predklh=clfknnlh.predict(X_test)\n",
    "accklh=clfknnlh.score(X_test, y_test)\n",
    "print (\"Accuracy:\", accklh)  \n",
    "print(confusion_matrix(y_test, predklh))\n",
    "print(classification_report(y_test, predklh))\n",
    "false_positive_rate, true_positive_rate, thresholds = roc_curve(y_test,predklh)\n",
    "roc_aucklh = auc(false_positive_rate, true_positive_rate)\n",
    "print ('roc',roc_aucklh)"
   ]
  },
  {
   "cell_type": "code",
   "execution_count": 16,
   "metadata": {},
   "outputs": [
    {
     "data": {
      "text/html": [
       "<div>\n",
       "<style scoped>\n",
       "    .dataframe tbody tr th:only-of-type {\n",
       "        vertical-align: middle;\n",
       "    }\n",
       "\n",
       "    .dataframe tbody tr th {\n",
       "        vertical-align: top;\n",
       "    }\n",
       "\n",
       "    .dataframe thead th {\n",
       "        text-align: right;\n",
       "    }\n",
       "</style>\n",
       "<table border=\"1\" class=\"dataframe\">\n",
       "  <thead>\n",
       "    <tr style=\"text-align: right;\">\n",
       "      <th></th>\n",
       "      <th>0</th>\n",
       "    </tr>\n",
       "  </thead>\n",
       "  <tbody>\n",
       "    <tr>\n",
       "      <th>0</th>\n",
       "      <td>0.911528</td>\n",
       "    </tr>\n",
       "    <tr>\n",
       "      <th>1</th>\n",
       "      <td>0.911582</td>\n",
       "    </tr>\n",
       "  </tbody>\n",
       "</table>\n",
       "</div>"
      ],
      "text/plain": [
       "          0\n",
       "0  0.911528\n",
       "1  0.911582"
      ]
     },
     "execution_count": 16,
     "metadata": {},
     "output_type": "execute_result"
    }
   ],
   "source": [
    "lhacau=pd.DataFrame([accklh,roc_aucklh])\n",
    "lhacau"
   ]
  },
  {
   "cell_type": "code",
   "execution_count": 17,
   "metadata": {},
   "outputs": [
    {
     "name": "stdout",
     "output_type": "stream",
     "text": [
      "('Acc:', 0.8203753351206434)\n",
      "0 34\n",
      "             precision    recall  f1-score   support\n",
      "\n",
      "        0.0       0.82      0.75      0.78       159\n",
      "        1.0       0.82      0.87      0.85       214\n",
      "\n",
      "avg / total       0.82      0.82      0.82       373\n",
      "\n",
      "('Acc:', 0.8096514745308311)\n",
      "34 68\n",
      "             precision    recall  f1-score   support\n",
      "\n",
      "        0.0       0.81      0.73      0.77       159\n",
      "        1.0       0.81      0.87      0.84       214\n",
      "\n",
      "avg / total       0.81      0.81      0.81       373\n",
      "\n",
      "('Acc:', 0.8364611260053619)\n",
      "68 102\n",
      "             precision    recall  f1-score   support\n",
      "\n",
      "        0.0       0.83      0.78      0.80       159\n",
      "        1.0       0.84      0.88      0.86       214\n",
      "\n",
      "avg / total       0.84      0.84      0.84       373\n",
      "\n",
      "('Acc:', 0.9195710455764075)\n",
      "102 136\n",
      "             precision    recall  f1-score   support\n",
      "\n",
      "        0.0       0.89      0.93      0.91       159\n",
      "        1.0       0.95      0.91      0.93       214\n",
      "\n",
      "avg / total       0.92      0.92      0.92       373\n",
      "\n"
     ]
    }
   ],
   "source": [
    "# only 34 features \n",
    "k=0;j=34; acgklh=[];\n",
    "for i in range(0,4):\n",
    "    clfknnlh = KNeighborsClassifier(n_neighbors=5)\n",
    "    clfknnlh.fit(X_train[:,k:j], y_train)\n",
    "    predklh=clfknnlh.predict(X_test[:,k:j])\n",
    "    accklh=clfknnlh.score(X_test[:,k:j], y_test)\n",
    "    acgklh=np.append(acgklh,accklh)\n",
    "    print ('Acc:',accklh)\n",
    "    print k,j\n",
    "    print(classification_report(y_test, predklh))\n",
    "    k=k+34;j=j+34;"
   ]
  },
  {
   "cell_type": "code",
   "execution_count": 18,
   "metadata": {},
   "outputs": [],
   "source": [
    "# acgklh"
   ]
  },
  {
   "cell_type": "code",
   "execution_count": 19,
   "metadata": {},
   "outputs": [],
   "source": [
    "## "
   ]
  },
  {
   "cell_type": "markdown",
   "metadata": {},
   "source": [
    "### RH"
   ]
  },
  {
   "cell_type": "markdown",
   "metadata": {},
   "source": [
    "# knnrh"
   ]
  },
  {
   "cell_type": "code",
   "execution_count": 20,
   "metadata": {},
   "outputs": [
    {
     "name": "stdout",
     "output_type": "stream",
     "text": [
      "('Accuracy:', 0.8981233243967829)\n",
      "[[136  23]\n",
      " [ 15 199]]\n",
      "             precision    recall  f1-score   support\n",
      "\n",
      "        0.0       0.90      0.86      0.88       159\n",
      "        1.0       0.90      0.93      0.91       214\n",
      "\n",
      "avg / total       0.90      0.90      0.90       373\n",
      "\n",
      "('roc', 0.8926262270028802)\n"
     ]
    }
   ],
   "source": [
    "a=range(1,(X.shape[1]),2)\n",
    "d11=X[:,a];\n",
    "X_train, X_test, y_train, y_test = train_test_split(d11,y, test_size=.20, random_state=rs) \n",
    "clfknnrh = KNeighborsClassifier(n_neighbors=5)\n",
    "clfknnrh.fit(X_train, y_train)\n",
    "predkrh=clfknnrh.predict(X_test)\n",
    "acckrh=clfknnrh.score(X_test, y_test)\n",
    "print (\"Accuracy:\", acckrh)  \n",
    "print(confusion_matrix(y_test, predkrh))\n",
    "print(classification_report(y_test, predkrh))\n",
    "false_positive_rate, true_positive_rate, thresholds = roc_curve(y_test,predkrh)\n",
    "roc_auckrh = auc(false_positive_rate, true_positive_rate)\n",
    "print ('roc',roc_auckrh)"
   ]
  },
  {
   "cell_type": "code",
   "execution_count": 21,
   "metadata": {},
   "outputs": [
    {
     "data": {
      "text/html": [
       "<div>\n",
       "<style scoped>\n",
       "    .dataframe tbody tr th:only-of-type {\n",
       "        vertical-align: middle;\n",
       "    }\n",
       "\n",
       "    .dataframe tbody tr th {\n",
       "        vertical-align: top;\n",
       "    }\n",
       "\n",
       "    .dataframe thead th {\n",
       "        text-align: right;\n",
       "    }\n",
       "</style>\n",
       "<table border=\"1\" class=\"dataframe\">\n",
       "  <thead>\n",
       "    <tr style=\"text-align: right;\">\n",
       "      <th></th>\n",
       "      <th>0</th>\n",
       "    </tr>\n",
       "  </thead>\n",
       "  <tbody>\n",
       "    <tr>\n",
       "      <th>0</th>\n",
       "      <td>0.898123</td>\n",
       "    </tr>\n",
       "    <tr>\n",
       "      <th>1</th>\n",
       "      <td>0.892626</td>\n",
       "    </tr>\n",
       "  </tbody>\n",
       "</table>\n",
       "</div>"
      ],
      "text/plain": [
       "          0\n",
       "0  0.898123\n",
       "1  0.892626"
      ]
     },
     "execution_count": 21,
     "metadata": {},
     "output_type": "execute_result"
    }
   ],
   "source": [
    "rhacau=pd.DataFrame([acckrh,roc_auckrh])\n",
    "rhacau"
   ]
  },
  {
   "cell_type": "code",
   "execution_count": 22,
   "metadata": {},
   "outputs": [
    {
     "name": "stdout",
     "output_type": "stream",
     "text": [
      "('acc:', 0.7774798927613941)\n",
      "0 34\n",
      "             precision    recall  f1-score   support\n",
      "\n",
      "        0.0       0.74      0.74      0.74       159\n",
      "        1.0       0.81      0.80      0.81       214\n",
      "\n",
      "avg / total       0.78      0.78      0.78       373\n",
      "\n",
      "('acc:', 0.8016085790884718)\n",
      "34 68\n",
      "             precision    recall  f1-score   support\n",
      "\n",
      "        0.0       0.77      0.75      0.76       159\n",
      "        1.0       0.82      0.84      0.83       214\n",
      "\n",
      "avg / total       0.80      0.80      0.80       373\n",
      "\n",
      "('acc:', 0.8659517426273459)\n",
      "68 102\n",
      "             precision    recall  f1-score   support\n",
      "\n",
      "        0.0       0.87      0.81      0.84       159\n",
      "        1.0       0.87      0.91      0.89       214\n",
      "\n",
      "avg / total       0.87      0.87      0.87       373\n",
      "\n",
      "('acc:', 0.9222520107238605)\n",
      "102 136\n",
      "             precision    recall  f1-score   support\n",
      "\n",
      "        0.0       0.92      0.89      0.91       159\n",
      "        1.0       0.92      0.94      0.93       214\n",
      "\n",
      "avg / total       0.92      0.92      0.92       373\n",
      "\n"
     ]
    }
   ],
   "source": [
    "# only 34 features \n",
    "k=0;j=34; acgkrh=[];\n",
    "for i in range(0,4):\n",
    "    clfknnrh = KNeighborsClassifier(n_neighbors=5)\n",
    "    clfknnrh.fit(X_train[:,k:j], y_train)\n",
    "    predkrh=clfknnrh.predict(X_test[:,k:j])\n",
    "    acckrh=clfknnrh.score(X_test[:,k:j], y_test)\n",
    "    acgkrh=np.append(acgkrh,acckrh)\n",
    "    print ('acc:',acckrh)\n",
    "    print k,j\n",
    "    print(classification_report(y_test, predkrh))\n",
    "    k=k+34;j=j+34;"
   ]
  },
  {
   "cell_type": "code",
   "execution_count": null,
   "metadata": {},
   "outputs": [],
   "source": []
  },
  {
   "cell_type": "code",
   "execution_count": null,
   "metadata": {},
   "outputs": [],
   "source": []
  },
  {
   "cell_type": "code",
   "execution_count": 23,
   "metadata": {},
   "outputs": [],
   "source": [
    "t=np.linspace(0,3,4, endpoint=True)\n",
    "time=pd.DataFrame(t)\n",
    "# a=pd.concat([time,pd.DataFrame(acgw),pd.DataFrame(acgl),pd.DataFrame(acgr)],axis=1, keys=[ 'time',\"Whole\", \"LH\", \"RH\"])\n",
    "a=pd.concat([time,pd.DataFrame(acgkw),pd.DataFrame(acgklh),pd.DataFrame(acgkrh)],axis=1, keys=[ 'time',\"Whole\", \"LH\", \"RH\"])"
   ]
  },
  {
   "cell_type": "code",
   "execution_count": 24,
   "metadata": {},
   "outputs": [
    {
     "data": {
      "text/plain": [
       "0.9222520107238605"
      ]
     },
     "execution_count": 24,
     "metadata": {},
     "output_type": "execute_result"
    }
   ],
   "source": [
    "# np.max(acgklh)\n",
    "np.max(a.iloc[:,3])"
   ]
  },
  {
   "cell_type": "code",
   "execution_count": 25,
   "metadata": {},
   "outputs": [],
   "source": [
    "# wpath=\"/home/sultan/EEG/Source_level_frequency_analysis/Results/\"\n",
    "# dall=a\n",
    "# # dall.to_csv(wpath+'svm_res_100sam_10ms_clear_v1.csv')\n",
    "# dall.to_csv(wpath+'svm_res_band_100sam_clear_v1.csv')"
   ]
  },
  {
   "cell_type": "code",
   "execution_count": 26,
   "metadata": {},
   "outputs": [
    {
     "data": {
      "image/png": "[encoded data removed]",
      "text/plain": [
       "<Figure size 432x288 with 1 Axes>"
      ]
     },
     "metadata": {
      "needs_background": "light"
     },
     "output_type": "display_data"
    }
   ],
   "source": [
    "axis_font = {'fontname':'Arial', 'size':'15'}\n",
    "#tw1=tad.iloc[1:,0];Acdw1=tad.iloc[1:,1];\n",
    "tw1=a.iloc[0:,0];Acdw=a.iloc[0:,1];Acdlh=a.iloc[0:,2];Acdrh=a.iloc[0:,3]\n",
    "# plt.plot(tw1,Acdw1,c='g')\n",
    "plt.plot(tw1,Acdw,'g',linewidth=2,marker='*')\n",
    "plt.plot(tw1, Acdlh,'--r',linewidth=2,marker='o')\n",
    "plt.plot(tw1, Acdrh,'--b',linewidth=2,marker='x')\n",
    "plt.title(\"Clear\")\n",
    "plt.xlim(0,4)\n",
    "plt.ylim(0.7,1)\n",
    "plt.grid(True)\n",
    "plt.tight_layout()\n",
    "plt.gca().legend(('Whole','LH','RH'),fontsize=16,loc='best')\n",
    "# plt.savefig('whole_acc_timem.eps')\n",
    "# plt.savefig('whole_acc_timem.tif')\n",
    "plt.show()"
   ]
  },
  {
   "cell_type": "code",
   "execution_count": 27,
   "metadata": {},
   "outputs": [
    {
     "data": {
      "text/html": [
       "<div>\n",
       "<style scoped>\n",
       "    .dataframe tbody tr th:only-of-type {\n",
       "        vertical-align: middle;\n",
       "    }\n",
       "\n",
       "    .dataframe tbody tr th {\n",
       "        vertical-align: top;\n",
       "    }\n",
       "\n",
       "    .dataframe thead tr th {\n",
       "        text-align: left;\n",
       "    }\n",
       "</style>\n",
       "<table border=\"1\" class=\"dataframe\">\n",
       "  <thead>\n",
       "    <tr>\n",
       "      <th></th>\n",
       "      <th>Whole</th>\n",
       "      <th>LH</th>\n",
       "      <th>RH</th>\n",
       "    </tr>\n",
       "    <tr>\n",
       "      <th></th>\n",
       "      <th>0</th>\n",
       "      <th>0</th>\n",
       "      <th>0</th>\n",
       "    </tr>\n",
       "  </thead>\n",
       "  <tbody>\n",
       "    <tr>\n",
       "      <th>0</th>\n",
       "      <td>0.927614</td>\n",
       "      <td>0.911528</td>\n",
       "      <td>0.898123</td>\n",
       "    </tr>\n",
       "    <tr>\n",
       "      <th>1</th>\n",
       "      <td>0.923176</td>\n",
       "      <td>0.911582</td>\n",
       "      <td>0.892626</td>\n",
       "    </tr>\n",
       "  </tbody>\n",
       "</table>\n",
       "</div>"
      ],
      "text/plain": [
       "      Whole        LH        RH\n",
       "          0         0         0\n",
       "0  0.927614  0.911528  0.898123\n",
       "1  0.923176  0.911582  0.892626"
      ]
     },
     "execution_count": 27,
     "metadata": {},
     "output_type": "execute_result"
    }
   ],
   "source": [
    "## Ffe: Fulll features altogether\n",
    "Ffe=pd.concat([whc,lhacau,rhacau],axis=1, keys=[ \"Whole\", \"LH\", \"RH\"])\n",
    "Ffe"
   ]
  },
  {
   "cell_type": "code",
   "execution_count": 28,
   "metadata": {},
   "outputs": [],
   "source": [
    "## bb: is the sub band frequency\n",
    "bb=a.iloc[:,1:]"
   ]
  },
  {
   "cell_type": "code",
   "execution_count": 29,
   "metadata": {},
   "outputs": [
    {
     "data": {
      "text/html": [
       "<div>\n",
       "<style scoped>\n",
       "    .dataframe tbody tr th:only-of-type {\n",
       "        vertical-align: middle;\n",
       "    }\n",
       "\n",
       "    .dataframe tbody tr th {\n",
       "        vertical-align: top;\n",
       "    }\n",
       "\n",
       "    .dataframe thead tr th {\n",
       "        text-align: left;\n",
       "    }\n",
       "</style>\n",
       "<table border=\"1\" class=\"dataframe\">\n",
       "  <thead>\n",
       "    <tr>\n",
       "      <th></th>\n",
       "      <th>Whole</th>\n",
       "      <th>LH</th>\n",
       "      <th>RH</th>\n",
       "    </tr>\n",
       "    <tr>\n",
       "      <th></th>\n",
       "      <th>0</th>\n",
       "      <th>0</th>\n",
       "      <th>0</th>\n",
       "    </tr>\n",
       "  </thead>\n",
       "  <tbody>\n",
       "    <tr>\n",
       "      <th>0</th>\n",
       "      <td>92.761394</td>\n",
       "      <td>91.152815</td>\n",
       "      <td>89.812332</td>\n",
       "    </tr>\n",
       "    <tr>\n",
       "      <th>1</th>\n",
       "      <td>92.317639</td>\n",
       "      <td>91.158232</td>\n",
       "      <td>89.262623</td>\n",
       "    </tr>\n",
       "    <tr>\n",
       "      <th>0</th>\n",
       "      <td>86.058981</td>\n",
       "      <td>82.037534</td>\n",
       "      <td>77.747989</td>\n",
       "    </tr>\n",
       "    <tr>\n",
       "      <th>1</th>\n",
       "      <td>86.863271</td>\n",
       "      <td>80.965147</td>\n",
       "      <td>80.160858</td>\n",
       "    </tr>\n",
       "    <tr>\n",
       "      <th>2</th>\n",
       "      <td>89.812332</td>\n",
       "      <td>83.646113</td>\n",
       "      <td>86.595174</td>\n",
       "    </tr>\n",
       "    <tr>\n",
       "      <th>3</th>\n",
       "      <td>93.565684</td>\n",
       "      <td>91.957105</td>\n",
       "      <td>92.225201</td>\n",
       "    </tr>\n",
       "  </tbody>\n",
       "</table>\n",
       "</div>"
      ],
      "text/plain": [
       "       Whole         LH         RH\n",
       "           0          0          0\n",
       "0  92.761394  91.152815  89.812332\n",
       "1  92.317639  91.158232  89.262623\n",
       "0  86.058981  82.037534  77.747989\n",
       "1  86.863271  80.965147  80.160858\n",
       "2  89.812332  83.646113  86.595174\n",
       "3  93.565684  91.957105  92.225201"
      ]
     },
     "execution_count": 29,
     "metadata": {},
     "output_type": "execute_result"
    }
   ],
   "source": [
    "## Here the 1st and 2nd rows are accand roc for full brain\n",
    "## Here from 3rd row theta,alpha beta,and gamma\n",
    "# wrpath=\"/home/sultan/EEG/Source_level_frequency_analysis/Results/\"\n",
    "bandallclean=pd.concat([Ffe*100,bb*100],axis=0)\n",
    "# # bandallclean.iloc[0:,:]\n",
    "bandallclean\n",
    "# bandallclean.to_csv(wrpath+str(rs)+'Clear_band.csv')"
   ]
  },
  {
   "cell_type": "markdown",
   "metadata": {},
   "source": [
    "#### Writing into a csv file"
   ]
  },
  {
   "cell_type": "code",
   "execution_count": 30,
   "metadata": {},
   "outputs": [
    {
     "data": {
      "text/plain": [
       "'/home/sultan/EEG/Source_level_frequency_analysis/Results/16Clear_band.csv'"
      ]
     },
     "execution_count": 30,
     "metadata": {},
     "output_type": "execute_result"
    }
   ],
   "source": [
    "# wrpath=\"/home/sultan/EEG/Source_level_frequency_analysis/Results/\"\n",
    "# bandallclean=pd.concat([Ffe*100,bb*100],axis=0)\n",
    "# # bandallclean.iloc[0:,:]\n",
    "# bandallclean\n",
    "# bandallclean.to_csv(wrpath+str(rs)+tt+'_Clear_band.csv')\n",
    "# wrpath+str(rs)+'Clear_band.csv'"
   ]
  },
  {
   "cell_type": "code",
   "execution_count": 31,
   "metadata": {},
   "outputs": [
    {
     "data": {
      "text/plain": [
       "16"
      ]
     },
     "execution_count": 31,
     "metadata": {},
     "output_type": "execute_result"
    }
   ],
   "source": [
    "rs"
   ]
  }
 ],
 "metadata": {
  "kernelspec": {
   "display_name": "Python 2",
   "language": "python",
   "name": "python2"
  },
  "language_info": {
   "codemirror_mode": {
    "name": "ipython",
    "version": 2
   },
   "file_extension": ".py",
   "mimetype": "text/x-python",
   "name": "python",
   "nbconvert_exporter": "python",
   "pygments_lexer": "ipython2",
   "version": "2.7.6"
  }
 },
 "nbformat": 4,
 "nbformat_minor": 2
}
