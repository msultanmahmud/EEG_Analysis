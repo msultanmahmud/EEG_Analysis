{
 "cells": [
  {
   "cell_type": "code",
   "execution_count": 17,
   "metadata": {},
   "outputs": [],
   "source": [
    "import pandas as pd\n",
    "import numpy as np\n",
    "from sklearn.datasets import make_blobs\n",
    "from sklearn import preprocessing\n",
    "from sklearn.ensemble import RandomForestClassifier, GradientBoostingClassifier, AdaBoostClassifier\n",
    "from sklearn.metrics import accuracy_score\n",
    "from sklearn.svm import SVC\n",
    "from sklearn.cross_validation import train_test_split\n",
    "from sklearn.model_selection import GridSearchCV"
   ]
  },
  {
   "cell_type": "code",
   "execution_count": 10,
   "metadata": {},
   "outputs": [
    {
     "name": "stdout",
     "output_type": "stream",
     "text": [
      "(1861, 272) (1861,)\n"
     ]
    }
   ],
   "source": [
    "path=\"/home/sultan/EEG/Source_level_frequency_analysis/100sam_NHIerp_band_features_clear.csv\"\n",
    "# path=\"/home/sultan/EEG/Source_Level_Analysis/125sam_10ms_clear_all_erp.csv\"\n",
    "Metadata=pd.read_csv(path)\n",
    "Metadata.head(2)\n",
    "X=Metadata.iloc[:,2:]\n",
    "y=Metadata.iloc[:,1]\n",
    "X.shape,y.shape\n",
    "\n",
    "# X=preprocessing.scale(X)\n",
    "scaler = preprocessing.StandardScaler()\n",
    "X = scaler.fit_transform(X)\n",
    "print X.shape,y.shape\n",
    "from sklearn.preprocessing import label_binarize\n",
    "y=label_binarize(np.asarray(y),[0,1])"
   ]
  },
  {
   "cell_type": "code",
   "execution_count": 11,
   "metadata": {},
   "outputs": [
    {
     "name": "stderr",
     "output_type": "stream",
     "text": [
      "/usr/local/lib/python2.7/dist-packages/sklearn/utils/validation.py:578: DataConversionWarning: A column-vector y was passed when a 1d array was expected. Please change the shape of y to (n_samples, ), for example using ravel().\n",
      "  y = column_or_1d(y, warn=True)\n"
     ]
    },
    {
     "name": "stdout",
     "output_type": "stream",
     "text": [
      "SVC  0.9195710455764075\n",
      "AdaBoostClassifier 0.6702412868632708\n",
      "SVC  0.9195710455764075\n",
      "AdaBoostClassifier 0.5924932975871313\n"
     ]
    }
   ],
   "source": [
    "from sklearn.datasets import make_blobs\n",
    "from sklearn.ensemble import RandomForestClassifier, GradientBoostingClassifier, AdaBoostClassifier\n",
    "from sklearn.metrics import accuracy_score\n",
    "from sklearn.svm import SVC\n",
    "from sklearn.cross_validation import train_test_split\n",
    "\n",
    "# datax,datay=make_blobs(n_samples=2000,random_state=1)\n",
    "trainx, testx, trainy, testy = train_test_split(X,y,test_size=0.20, random_state=1)\n",
    "\n",
    "\n",
    "###############SVC with probability=True\n",
    "clf=SVC(probability=True,random_state=1)\n",
    "clf.fit(trainx,trainy)\n",
    "y_pred=clf.predict(testx)\n",
    "print 'SVC ',accuracy_score(testy,y_pred)\n",
    "\n",
    "###############AdaBoostClassifier with SAMME.R\n",
    "clf=AdaBoostClassifier(algorithm='SAMME.R',base_estimator=SVC(probability=True,random_state=1),random_state=1,n_estimators=50)\n",
    "clf.fit(trainx,trainy)\n",
    "y_pred=clf.predict(testx)\n",
    "print 'AdaBoostClassifier',accuracy_score(testy,y_pred)\n",
    "\n",
    "\n",
    "\n",
    "###############SVC with probability=False\n",
    "clf=SVC(random_state=1)\n",
    "clf.fit(trainx,trainy)\n",
    "y_pred=clf.predict(testx)\n",
    "print 'SVC ',accuracy_score(testy,y_pred)\n",
    "###############AdaBoostClassifier with SAMM\n",
    "clf=AdaBoostClassifier(algorithm='SAMME',base_estimator=SVC(random_state=1),random_state=1,n_estimators=10)\n",
    "clf.fit(trainx,trainy)\n",
    "y_pred=clf.predict(testx)\n",
    "print 'AdaBoostClassifier',accuracy_score(testy,y_pred)"
   ]
  },
  {
   "cell_type": "code",
   "execution_count": 15,
   "metadata": {},
   "outputs": [
    {
     "name": "stdout",
     "output_type": "stream",
     "text": [
      "(1, 0.7748605600598011)\n",
      "(2, 0.7721752630671037)\n",
      "(3, 0.7829107009372664)\n",
      "(4, 0.8124633431085044)\n",
      "(5, 0.8178339370938991)\n",
      "(6, 0.8232045310792939)\n",
      "(7, 0.8269593467885687)\n",
      "(8, 0.8274998562474843)\n",
      "(9, 0.8178425622448392)\n"
     ]
    }
   ],
   "source": [
    "from sklearn.model_selection import KFold\n",
    "from sklearn import tree\n",
    "from sklearn.model_selection import cross_val_score\n",
    "crossvalidation=KFold(n_splits=10,shuffle=True,random_state=1)\n",
    "for depth in range (1,10):\n",
    "    tree_classifier=tree.DecisionTreeClassifier(max_depth=depth,random_state=1)\n",
    "    if tree_classifier.fit(X,y).tree_.max_depth<depth:\n",
    "        break\n",
    "    score=np.mean(cross_val_score(tree_classifier,X,y,scoring='accuracy', cv=crossvalidation,n_jobs=1))\n",
    "    print(depth, score)"
   ]
  },
  {
   "cell_type": "code",
   "execution_count": 18,
   "metadata": {},
   "outputs": [],
   "source": [
    "ada=AdaBoostClassifier()\n",
    "search_grid={'n_estimators':[500,1000,2000],'learning_rate':[.001,0.01,.1]}\n",
    "search=GridSearchCV(estimator=ada,param_grid=search_grid,scoring='accuracy',n_jobs=1,cv=crossvalidation)"
   ]
  },
  {
   "cell_type": "code",
   "execution_count": 20,
   "metadata": {},
   "outputs": [
    {
     "data": {
      "text/plain": [
       "0.92423428264374"
      ]
     },
     "execution_count": 20,
     "metadata": {},
     "output_type": "execute_result"
    }
   ],
   "source": [
    "search.fit(X,y)\n",
    "search.best_params_\n",
    "search.best_score_"
   ]
  },
  {
   "cell_type": "code",
   "execution_count": null,
   "metadata": {},
   "outputs": [],
   "source": [
    "# C_range = np.logspace(-2, 2, 5)\n",
    "# # gamma_range = np.logspace(-2, 2, 5)\n",
    "# gamma_range = [0.01,0.002,0.00069,0.0007,0.0005]\n",
    "# param_grid = dict(gamma=gamma_range, C=C_range)"
   ]
  },
  {
   "cell_type": "code",
   "execution_count": null,
   "metadata": {},
   "outputs": [],
   "source": [
    "# ada=AdaBoostClassifier()\n",
    "# search_grid={'n_estimators':[500,1000,2000],'learning_rate':[.001,0.01,.1]}\n",
    "# search=GridSearchCV(estimator=ada,param_grid=search_grid,scoring='accuracy',n_jobs=1,cv=crossvalidation)"
   ]
  }
 ],
 "metadata": {
  "kernelspec": {
   "display_name": "Python 2",
   "language": "python",
   "name": "python2"
  },
  "language_info": {
   "codemirror_mode": {
    "name": "ipython",
    "version": 2
   },
   "file_extension": ".py",
   "mimetype": "text/x-python",
   "name": "python",
   "nbconvert_exporter": "python",
   "pygments_lexer": "ipython2",
   "version": "2.7.6"
  }
 },
 "nbformat": 4,
 "nbformat_minor": 2
}
