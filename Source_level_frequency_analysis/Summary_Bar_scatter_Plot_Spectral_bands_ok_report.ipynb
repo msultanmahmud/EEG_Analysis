{
 "cells": [
  {
   "cell_type": "code",
   "execution_count": 1,
   "metadata": {},
   "outputs": [],
   "source": [
    "import numpy as np\n",
    "import pandas as pd\n",
    "import matplotlib.pyplot as plt\n",
    "import matplotlib.font_manager as font_manager"
   ]
  },
  {
   "cell_type": "markdown",
   "metadata": {},
   "source": [
    "### Whole-brain, LH and RH all band features together"
   ]
  },
  {
   "cell_type": "code",
   "execution_count": 2,
   "metadata": {},
   "outputs": [],
   "source": [
    "pathcl=\"/home/sultan/EEG/Source_level_frequency_analysis/Results/16Clear_band.csv\"\n",
    "pathno=\"/home/sultan/EEG/Source_level_frequency_analysis/Results/30Noise_band.csv\""
   ]
  },
  {
   "cell_type": "code",
   "execution_count": 3,
   "metadata": {},
   "outputs": [],
   "source": [
    "datacl=pd.read_csv(pathcl)\n",
    "datano=pd.read_csv(pathno)"
   ]
  },
  {
   "cell_type": "code",
   "execution_count": 4,
   "metadata": {},
   "outputs": [
    {
     "data": {
      "text/html": [
       "<div>\n",
       "<style scoped>\n",
       "    .dataframe tbody tr th:only-of-type {\n",
       "        vertical-align: middle;\n",
       "    }\n",
       "\n",
       "    .dataframe tbody tr th {\n",
       "        vertical-align: top;\n",
       "    }\n",
       "\n",
       "    .dataframe thead th {\n",
       "        text-align: right;\n",
       "    }\n",
       "</style>\n",
       "<table border=\"1\" class=\"dataframe\">\n",
       "  <thead>\n",
       "    <tr style=\"text-align: right;\">\n",
       "      <th></th>\n",
       "      <th>Unnamed: 0</th>\n",
       "      <th>Whole</th>\n",
       "      <th>LH</th>\n",
       "      <th>RH</th>\n",
       "      <th>Unnamed: 0</th>\n",
       "      <th>Whole</th>\n",
       "      <th>LH</th>\n",
       "      <th>RH</th>\n",
       "    </tr>\n",
       "  </thead>\n",
       "  <tbody>\n",
       "    <tr>\n",
       "      <th>0</th>\n",
       "      <td>NaN</td>\n",
       "      <td>0.000000</td>\n",
       "      <td>0.000000</td>\n",
       "      <td>0.000000</td>\n",
       "      <td>NaN</td>\n",
       "      <td>0.000000</td>\n",
       "      <td>0.000000</td>\n",
       "      <td>0.000000</td>\n",
       "    </tr>\n",
       "    <tr>\n",
       "      <th>1</th>\n",
       "      <td>0.0</td>\n",
       "      <td>94.906166</td>\n",
       "      <td>93.833780</td>\n",
       "      <td>91.957105</td>\n",
       "      <td>0.0</td>\n",
       "      <td>92.520776</td>\n",
       "      <td>91.966759</td>\n",
       "      <td>89.750693</td>\n",
       "    </tr>\n",
       "    <tr>\n",
       "      <th>2</th>\n",
       "      <td>1.0</td>\n",
       "      <td>94.752542</td>\n",
       "      <td>93.413860</td>\n",
       "      <td>91.616705</td>\n",
       "      <td>1.0</td>\n",
       "      <td>91.128871</td>\n",
       "      <td>90.864136</td>\n",
       "      <td>88.291708</td>\n",
       "    </tr>\n",
       "    <tr>\n",
       "      <th>3</th>\n",
       "      <td>0.0</td>\n",
       "      <td>88.739946</td>\n",
       "      <td>82.573727</td>\n",
       "      <td>79.088472</td>\n",
       "      <td>0.0</td>\n",
       "      <td>85.595568</td>\n",
       "      <td>82.548476</td>\n",
       "      <td>80.886427</td>\n",
       "    </tr>\n",
       "    <tr>\n",
       "      <th>4</th>\n",
       "      <td>1.0</td>\n",
       "      <td>87.399464</td>\n",
       "      <td>81.769437</td>\n",
       "      <td>81.233244</td>\n",
       "      <td>1.0</td>\n",
       "      <td>85.595568</td>\n",
       "      <td>83.933518</td>\n",
       "      <td>82.271468</td>\n",
       "    </tr>\n",
       "    <tr>\n",
       "      <th>5</th>\n",
       "      <td>2.0</td>\n",
       "      <td>92.493298</td>\n",
       "      <td>88.471850</td>\n",
       "      <td>86.595174</td>\n",
       "      <td>2.0</td>\n",
       "      <td>90.304709</td>\n",
       "      <td>88.919668</td>\n",
       "      <td>83.102493</td>\n",
       "    </tr>\n",
       "    <tr>\n",
       "      <th>6</th>\n",
       "      <td>3.0</td>\n",
       "      <td>96.782842</td>\n",
       "      <td>93.029491</td>\n",
       "      <td>91.957105</td>\n",
       "      <td>3.0</td>\n",
       "      <td>93.628809</td>\n",
       "      <td>92.243767</td>\n",
       "      <td>90.027701</td>\n",
       "    </tr>\n",
       "  </tbody>\n",
       "</table>\n",
       "</div>"
      ],
      "text/plain": [
       "   Unnamed: 0      Whole         LH         RH  Unnamed: 0      Whole  \\\n",
       "0         NaN   0.000000   0.000000   0.000000         NaN   0.000000   \n",
       "1         0.0  94.906166  93.833780  91.957105         0.0  92.520776   \n",
       "2         1.0  94.752542  93.413860  91.616705         1.0  91.128871   \n",
       "3         0.0  88.739946  82.573727  79.088472         0.0  85.595568   \n",
       "4         1.0  87.399464  81.769437  81.233244         1.0  85.595568   \n",
       "5         2.0  92.493298  88.471850  86.595174         2.0  90.304709   \n",
       "6         3.0  96.782842  93.029491  91.957105         3.0  93.628809   \n",
       "\n",
       "          LH         RH  \n",
       "0   0.000000   0.000000  \n",
       "1  91.966759  89.750693  \n",
       "2  90.864136  88.291708  \n",
       "3  82.548476  80.886427  \n",
       "4  83.933518  82.271468  \n",
       "5  88.919668  83.102493  \n",
       "6  92.243767  90.027701  "
      ]
     },
     "execution_count": 4,
     "metadata": {},
     "output_type": "execute_result"
    }
   ],
   "source": [
    "alld=pd.concat([datacl, datano],axis=1)\n",
    "alld"
   ]
  },
  {
   "cell_type": "code",
   "execution_count": 5,
   "metadata": {},
   "outputs": [],
   "source": [
    "# datacl"
   ]
  },
  {
   "cell_type": "code",
   "execution_count": 6,
   "metadata": {},
   "outputs": [],
   "source": [
    "clear=datacl.iloc[1,1:]\n",
    "noise=datano.iloc[1,1:]"
   ]
  },
  {
   "cell_type": "code",
   "execution_count": 19,
   "metadata": {},
   "outputs": [
    {
     "data": {
      "image/png": "[encoded data removed]",
      "text/plain": [
       "<Figure size 432x288 with 1 Axes>"
      ]
     },
     "metadata": {
      "needs_background": "light"
     },
     "output_type": "display_data"
    }
   ],
   "source": [
    "n_groups = 3\n",
    "#Random shuffle\n",
    "# clear = [96.24,94.63,91.12]\n",
    "# noise = [92.79,92.24,91.96] \n",
    "# create plot\n",
    "axis_font = {'fontname':'Arial', 'size':'16'}\n",
    "fig, ax = plt.subplots()\n",
    "index = np.arange(n_groups)\n",
    "bar_width = 0.40\n",
    "opacity = 0.85\n",
    "rects1 = plt.bar(index, clear, bar_width,\n",
    "                 alpha=opacity,\n",
    "                 color='g',\n",
    "                 label='Clear')\n",
    " \n",
    "rects2 = plt.bar(index + bar_width, noise, bar_width,\n",
    "                 alpha=opacity,\n",
    "                 color='gray',\n",
    "                 label='Noise') \n",
    "plt.xlabel('Analysis of brain-region',**axis_font)\n",
    "plt.ylabel('Accuracy (%)',**axis_font)\n",
    "plt.title('Classification from all spectral features',**axis_font)\n",
    "plt.ylim(70,100)\n",
    "plt.xticks(index + bar_width-0.2, ('Whole-brain','LH', 'RH'),**axis_font)\n",
    "# plt.xticks(index + bar_width-0.2, (r'$\\theta$',r'$\\alpha$', r'$\\beta$', r'$\\gamma$'),**axis_font)\n",
    "plt.yticks(**axis_font)\n",
    "plt.legend(fontsize=14,loc=10)\n",
    "# plt.grid(True)\n",
    "plt.tight_layout()\n",
    "plt.show()"
   ]
  },
  {
   "cell_type": "markdown",
   "metadata": {},
   "source": [
    "### Whole brain with different frequency band"
   ]
  },
  {
   "cell_type": "code",
   "execution_count": 8,
   "metadata": {},
   "outputs": [],
   "source": [
    "clearwbd=datacl.iloc[3:,1]; ## clearwbd=clear whole-brain-different band.here last 4 colmns 4 band fea\n",
    "noisewbd=datano.iloc[3:,1];"
   ]
  },
  {
   "cell_type": "code",
   "execution_count": 9,
   "metadata": {},
   "outputs": [
    {
     "name": "stdout",
     "output_type": "stream",
     "text": [
      "(3    88.739946\n",
      "4    87.399464\n",
      "5    92.493298\n",
      "6    96.782842\n",
      "Name: Whole, dtype: float64, 3    85.595568\n",
      "4    85.595568\n",
      "5    90.304709\n",
      "6    93.628809\n",
      "Name: Whole, dtype: float64)\n"
     ]
    }
   ],
   "source": [
    "print (clearwbd, noisewbd)"
   ]
  },
  {
   "cell_type": "code",
   "execution_count": 10,
   "metadata": {},
   "outputs": [
    {
     "data": {
      "image/png": "[encoded data removed]",
      "text/plain": [
       "<Figure size 432x288 with 1 Axes>"
      ]
     },
     "metadata": {
      "needs_background": "light"
     },
     "output_type": "display_data"
    }
   ],
   "source": [
    "n_groups = 4\n",
    "# clear = (61.29,54.83,54.83,61.29)\n",
    "# noise = (85, 62, 54, 20)\n",
    "#Random shuffle\n",
    "# clear = [67.74,70.97,54.84,48.38]\n",
    "# noise = [54.84,45.16,38.71,45.16] \n",
    "# create plot\n",
    "axis_font = {'fontname':'Arial', 'size':'16'}\n",
    "fig, ax = plt.subplots()\n",
    "index = np.arange(n_groups)\n",
    "bar_width = 0.40\n",
    "opacity = 0.85\n",
    "rects1 = plt.bar(index, clearwbd, bar_width,\n",
    "                 alpha=opacity,\n",
    "                 color='g',\n",
    "                 label='Clear')\n",
    " \n",
    "rects2 = plt.bar(index + bar_width, noisewbd, bar_width,\n",
    "                 alpha=opacity,\n",
    "                 color='gray',\n",
    "                 label='Noise') \n",
    "plt.xlabel('Frequency band',**axis_font)\n",
    "plt.ylabel('Accuracy (%)',**axis_font)\n",
    "plt.title('Whole brain',**axis_font)\n",
    "plt.ylim(70,100)\n",
    "#plt.xticks(index + bar_width-0.2, ('Theta','Alpha', 'Beta', 'Gamma'))\n",
    "plt.xticks(index + bar_width-0.2, (r'$\\theta$',r'$\\alpha$', r'$\\beta$', r'$\\gamma$'),**axis_font)\n",
    "plt.yticks(**axis_font)\n",
    "plt.legend(fontsize=14,loc='upper left')\n",
    "plt.tight_layout()\n",
    "plt.show()"
   ]
  },
  {
   "cell_type": "markdown",
   "metadata": {},
   "source": [
    "## LH"
   ]
  },
  {
   "cell_type": "code",
   "execution_count": 11,
   "metadata": {},
   "outputs": [],
   "source": [
    "clearlhd=datacl.iloc[3:,2]; ## clearlhd=clear LH-different band.here last 4 colmns 4 band fea\n",
    "noiselhd=datano.iloc[3:,2];"
   ]
  },
  {
   "cell_type": "code",
   "execution_count": 12,
   "metadata": {},
   "outputs": [
    {
     "name": "stdout",
     "output_type": "stream",
     "text": [
      "(3    82.573727\n",
      "4    81.769437\n",
      "5    88.471850\n",
      "6    93.029491\n",
      "Name: LH, dtype: float64, 3    82.548476\n",
      "4    83.933518\n",
      "5    88.919668\n",
      "6    92.243767\n",
      "Name: LH, dtype: float64)\n"
     ]
    }
   ],
   "source": [
    "print (clearlhd, noiselhd)"
   ]
  },
  {
   "cell_type": "code",
   "execution_count": 13,
   "metadata": {},
   "outputs": [
    {
     "data": {
      "image/png": "[encoded data removed]",
      "text/plain": [
       "<Figure size 432x288 with 1 Axes>"
      ]
     },
     "metadata": {
      "needs_background": "light"
     },
     "output_type": "display_data"
    }
   ],
   "source": [
    "n_groups = 4\n",
    "#Manually data input\n",
    "# clearlhd = [74.19,74.19,67.74,61.29]\n",
    "# noiselhd = [61.29,64.52,58.06,48.39]\n",
    "# create plot\n",
    "axis_font = {'fontname':'Arial', 'size':'16'}\n",
    "fig, ax = plt.subplots()\n",
    "index = np.arange(n_groups)\n",
    "bar_width = 0.40\n",
    "opacity = 0.85\n",
    " \n",
    "rects1 = plt.bar(index, clearlhd, bar_width,\n",
    "                 alpha=opacity,\n",
    "                 color='g',\n",
    "                 label='Clear')\n",
    " \n",
    "rects2 = plt.bar(index + bar_width, noiselhd, bar_width,\n",
    "                 alpha=opacity,\n",
    "                 color='gray',\n",
    "                 label='Noise') \n",
    "plt.xlabel('Frequency band',**axis_font)\n",
    "plt.ylabel('Accuracy (%)',**axis_font)\n",
    "plt.title('LH',**axis_font)\n",
    "plt.ylim(70,100)\n",
    "#plt.xticks(index + bar_width-0.2, ('Theta','Alpha', 'Beta', 'Gamma'))\n",
    "plt.xticks(index + bar_width-0.2, (r'$\\theta$',r'$\\alpha$', r'$\\beta$', r'$\\gamma$'),**axis_font)\n",
    "plt.yticks(**axis_font)\n",
    "plt.legend(fontsize=14,loc='upper left')\n",
    "plt.tight_layout()\n",
    "plt.show()"
   ]
  },
  {
   "cell_type": "markdown",
   "metadata": {},
   "source": [
    "## RH"
   ]
  },
  {
   "cell_type": "code",
   "execution_count": 14,
   "metadata": {},
   "outputs": [],
   "source": [
    "clearrhd=datacl.iloc[3:,3]; ## clearlhd=clear LH-different band.here last 4 colmns 4 band fea\n",
    "noiserhd=datano.iloc[3:,3];"
   ]
  },
  {
   "cell_type": "code",
   "execution_count": 15,
   "metadata": {},
   "outputs": [
    {
     "name": "stdout",
     "output_type": "stream",
     "text": [
      "(3    79.088472\n",
      "4    81.233244\n",
      "5    86.595174\n",
      "6    91.957105\n",
      "Name: RH, dtype: float64, 3    80.886427\n",
      "4    82.271468\n",
      "5    83.102493\n",
      "6    90.027701\n",
      "Name: RH, dtype: float64)\n"
     ]
    }
   ],
   "source": [
    "print (clearrhd, noiserhd)"
   ]
  },
  {
   "cell_type": "code",
   "execution_count": 16,
   "metadata": {},
   "outputs": [
    {
     "data": {
      "image/png": "[encoded data removed]",
      "text/plain": [
       "<Figure size 432x288 with 1 Axes>"
      ]
     },
     "metadata": {
      "needs_background": "light"
     },
     "output_type": "display_data"
    }
   ],
   "source": [
    "n_groups = 4\n",
    "\n",
    "#Manually data\n",
    "# clear = [61.29,54.84,54.84,51.29]\n",
    "# noise = [59.38,59.38,59.38,53.12]\n",
    "# create plot\n",
    "axis_font = {'fontname':'Arial', 'size':'16'}\n",
    "fig, ax = plt.subplots()\n",
    "index = np.arange(n_groups)\n",
    "bar_width = 0.40\n",
    "opacity = 0.85\n",
    " \n",
    "rects1 = plt.bar(index, clearrhd, bar_width,\n",
    "                 alpha=opacity,\n",
    "                 color='g',\n",
    "                 label='Clear')\n",
    " \n",
    "rects2 = plt.bar(index + bar_width, noiserhd, bar_width,\n",
    "                 alpha=opacity,\n",
    "                 color='gray',\n",
    "                 label='Noise') \n",
    "plt.xlabel('Frequency band',**axis_font)\n",
    "plt.ylabel('Accuracy (%)',**axis_font)\n",
    "plt.title('RH',**axis_font)\n",
    "plt.ylim(70,100)\n",
    "#plt.xticks(index + bar_width-0.2, ('Theta','Alpha', 'Beta', 'Gamma'))\n",
    "plt.xticks(index + bar_width-0.2, (r'$\\theta$',r'$\\alpha$', r'$\\beta$', r'$\\gamma$'),**axis_font)\n",
    "plt.yticks(**axis_font)\n",
    "plt.legend(fontsize=14,loc='upper left')\n",
    "plt.tight_layout()\n",
    "plt.show()\n",
    "#fig.savefig('LH_band.png')"
   ]
  },
  {
   "cell_type": "markdown",
   "metadata": {},
   "source": [
    "#### This is the code for scatter plot"
   ]
  },
  {
   "cell_type": "code",
   "execution_count": 17,
   "metadata": {},
   "outputs": [
    {
     "data": {
      "image/png": "[encoded data removed]",
      "text/plain": [
       "<Figure size 432x288 with 1 Axes>"
      ]
     },
     "metadata": {
      "needs_background": "light"
     },
     "output_type": "display_data"
    }
   ],
   "source": [
    "n_groups = 3\n",
    "# clear = (61.29,54.83,54.83,61.29)\n",
    "# noise = (85, 62, 54, 20)\n",
    "#Random shuffle\n",
    "clear = [96.24,94.63,92.40]\n",
    "noise = [92.79,92.24,90.96] \n",
    "# create plot\n",
    "axis_font = {'fontname':'Arial', 'size':'16'}\n",
    "fig, ax = plt.subplots()\n",
    "index = np.arange(n_groups)\n",
    "bar_width = 0.40\n",
    "opacity = 0.85\n",
    " \n",
    "rects1 = plt.scatter(index, clear,marker ='*',color='g',label='Clear',s=200)\n",
    "rects1 = plt.scatter(index, noise,marker ='p',color='r',label='Noise',s=200)\n",
    " \n",
    "plt.xlabel('Frequency band',**axis_font)\n",
    "plt.ylabel('Accuracy (%)',**axis_font)\n",
    "plt.title('LH',**axis_font)\n",
    "plt.ylim(50,100)\n",
    "#plt.xticks(index + bar_width-0.2, ('Theta','Alpha', 'Beta', 'Gamma'))\n",
    "plt.xticks(index + bar_width-0.2, (r'$\\theta$',r'$\\alpha$', r'$\\beta$', r'$\\gamma$'),**axis_font)\n",
    "plt.yticks(**axis_font)\n",
    "plt.legend(fontsize=14)\n",
    "plt.tight_layout()\n",
    "plt.show()\n",
    "#fig.savefig('LH_band.png')"
   ]
  },
  {
   "cell_type": "code",
   "execution_count": 18,
   "metadata": {},
   "outputs": [
    {
     "data": {
      "text/plain": [
       "[96.24, 94.63, 92.4]"
      ]
     },
     "execution_count": 18,
     "metadata": {},
     "output_type": "execute_result"
    }
   ],
   "source": [
    "clear"
   ]
  }
 ],
 "metadata": {
  "kernelspec": {
   "display_name": "Python 2",
   "language": "python",
   "name": "python2"
  },
  "language_info": {
   "codemirror_mode": {
    "name": "ipython",
    "version": 2
   },
   "file_extension": ".py",
   "mimetype": "text/x-python",
   "name": "python",
   "nbconvert_exporter": "python",
   "pygments_lexer": "ipython2",
   "version": "2.7.6"
  }
 },
 "nbformat": 4,
 "nbformat_minor": 2
}
