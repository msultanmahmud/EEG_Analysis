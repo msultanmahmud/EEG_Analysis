{
 "cells": [
  {
   "cell_type": "code",
   "execution_count": 1,
   "metadata": {},
   "outputs": [],
   "source": [
    "import shutil, random, os\n",
    "import pandas as pd\n",
    "import matplotlib.pyplot as plt\n",
    "import numpy as np\n",
    "import pandas as pd"
   ]
  },
  {
   "cell_type": "code",
   "execution_count": 2,
   "metadata": {},
   "outputs": [],
   "source": [
    "# pathcnh=\"/home/sultan/EEG/Source_level_frequency_analysis/ClearNH_pwelch.csv\"\n",
    "# pathchi=\"/home/sultan/EEG/Source_level_frequency_analysis/ClearHI_pwelch.csv\"\n",
    "# pathnnh=\"/home/sultan/EEG/Source_level_frequency_analysis/NoiseNH_pwelch.csv\"\n",
    "# pathnhi=\"/home/sultan/EEG/Source_level_frequency_analysis/NoiseHI_pwelch.csv\"\n",
    "pathcnh=\"/home/sultan/EEG/Source_level_frequency_analysis/Band_features_aged_Base_cor/ClearNH_pwelch.csv\"\n",
    "pathchi=\"/home/sultan/EEG/Source_level_frequency_analysis/Band_features_aged_Base_cor/ClearHI_pwelch.csv\"\n",
    "# pathnnh=\"/home/sultan/EEG/Source_level_frequency_analysis/Band_features_aged_Base_cor/NoiseNH_pwelch.csv\"\n",
    "# pathnhi=\"/home/sultan/EEG/Source_level_frequency_analysis/Band_features_aged_Base_cor/NoiseHI_pwelch.csv\""
   ]
  },
  {
   "cell_type": "code",
   "execution_count": 3,
   "metadata": {},
   "outputs": [],
   "source": [
    "## For clear\n",
    "datacnh=pd.read_csv(pathcnh)\n",
    "datachi=pd.read_csv(pathchi)\n",
    "## For noise\n",
    "# datacnh=pd.read_csv(pathnnh)\n",
    "# datachi=pd.read_csv(pathnhi)"
   ]
  },
  {
   "cell_type": "code",
   "execution_count": 4,
   "metadata": {},
   "outputs": [],
   "source": [
    "bfdcnh=pd.DataFrame(datacnh)\n",
    "bfdcnh.insert(0,'label',np.zeros(len(bfdcnh)),True)\n",
    "bfdchi=pd.DataFrame(datachi)\n",
    "bfdchi.insert(0,'label',np.ones(len(bfdchi)), True)"
   ]
  },
  {
   "cell_type": "code",
   "execution_count": 5,
   "metadata": {},
   "outputs": [
    {
     "name": "stdout",
     "output_type": "stream",
     "text": [
      "(776, 273)\n",
      "(1085, 273)\n"
     ]
    }
   ],
   "source": [
    "dnh=bfdcnh\n",
    "dhi=bfdchi\n",
    "print dnh.shape\n",
    "print dhi.shape\n",
    "# print type(dhi)"
   ]
  },
  {
   "cell_type": "code",
   "execution_count": 6,
   "metadata": {},
   "outputs": [
    {
     "data": {
      "text/plain": [
       "(1861, 273)"
      ]
     },
     "execution_count": 6,
     "metadata": {},
     "output_type": "execute_result"
    }
   ],
   "source": [
    "dall=pd.concat([pd.DataFrame(dnh.values),pd.DataFrame(dhi.values)], axis=0)\n",
    "dall.shape"
   ]
  },
  {
   "cell_type": "markdown",
   "metadata": {},
   "source": [
    "## If need labeling  then label column 0 as 'l;abel'"
   ]
  },
  {
   "cell_type": "code",
   "execution_count": 35,
   "metadata": {},
   "outputs": [],
   "source": [
    "# dlab=dall.rename(columns={0:'label'})\n",
    "# dlab"
   ]
  },
  {
   "cell_type": "markdown",
   "metadata": {},
   "source": [
    "## Write the data as csv"
   ]
  },
  {
   "cell_type": "code",
   "execution_count": 36,
   "metadata": {},
   "outputs": [],
   "source": [
    "# # For clear\n",
    "# dall.to_csv('100_base_corr_sam_NHIerp_band_features_clear'+'.csv')"
   ]
  },
  {
   "cell_type": "code",
   "execution_count": 8,
   "metadata": {},
   "outputs": [],
   "source": [
    "## for noise\n",
    "# dall.to_csv('100_base_corr_sam_NHIerp_band_features_noise'+'.csv')"
   ]
  },
  {
   "cell_type": "code",
   "execution_count": 9,
   "metadata": {},
   "outputs": [],
   "source": [
    "# dhi.to_csv('hicl.csv')"
   ]
  },
  {
   "cell_type": "code",
   "execution_count": 10,
   "metadata": {},
   "outputs": [],
   "source": [
    "# dd=pd.concat([dnh,dhi],ignore_index=False)\n",
    "# dd.head(2)"
   ]
  },
  {
   "cell_type": "code",
   "execution_count": null,
   "metadata": {},
   "outputs": [],
   "source": [
    "# from platform import python_version\n",
    "# print(python_version())"
   ]
  },
  {
   "cell_type": "code",
   "execution_count": null,
   "metadata": {},
   "outputs": [],
   "source": [
    "datacnh.head(5)\n",
    "datacnh.tail(5)"
   ]
  },
  {
   "cell_type": "code",
   "execution_count": null,
   "metadata": {},
   "outputs": [],
   "source": [
    "# datacnh.head(3)"
   ]
  },
  {
   "cell_type": "code",
   "execution_count": 12,
   "metadata": {},
   "outputs": [
    {
     "data": {
      "text/plain": [
       "pandas.core.frame.DataFrame"
      ]
     },
     "execution_count": 12,
     "metadata": {},
     "output_type": "execute_result"
    }
   ],
   "source": [
    "type(dall)"
   ]
  },
  {
   "cell_type": "code",
   "execution_count": null,
   "metadata": {},
   "outputs": [],
   "source": []
  }
 ],
 "metadata": {
  "kernelspec": {
   "display_name": "Python 2",
   "language": "python",
   "name": "python2"
  },
  "language_info": {
   "codemirror_mode": {
    "name": "ipython",
    "version": 2
   },
   "file_extension": ".py",
   "mimetype": "text/x-python",
   "name": "python",
   "nbconvert_exporter": "python",
   "pygments_lexer": "ipython2",
   "version": "2.7.6"
  }
 },
 "nbformat": 4,
 "nbformat_minor": 2
}
