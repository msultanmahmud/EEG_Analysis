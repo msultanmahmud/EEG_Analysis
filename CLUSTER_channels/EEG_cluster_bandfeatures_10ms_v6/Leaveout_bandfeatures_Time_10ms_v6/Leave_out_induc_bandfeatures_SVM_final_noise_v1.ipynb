{
 "cells": [
  {
   "cell_type": "markdown",
   "metadata": {},
   "source": [
    "# Importing libirires shuffle, and hyperparameters [Cross-validation](http://scikit-learn.org/stable/modules/cross_validation.html)"
   ]
  },
  {
   "cell_type": "code",
   "execution_count": 8,
   "metadata": {},
   "outputs": [],
   "source": [
    "import numpy as np\n",
    "import pandas as pd\n",
    "import os\n",
    "import sys\n",
    "import glob\n",
    "import matplotlib.pyplot as plt\n",
    "from sklearn import preprocessing\n",
    "from sklearn import svm, metrics\n",
    "from sklearn.ensemble import RandomForestClassifier\n",
    "from sklearn.model_selection import train_test_split, GridSearchCV,cross_val_score,ShuffleSplit,LeaveOneOut\n",
    "from sklearn.metrics import accuracy_score,confusion_matrix,roc_curve, auc,classification_report\n",
    "from matplotlib import pyplot as plt\n",
    "from collections import Counter\n",
    "from scipy.stats import norm, zscore\n",
    "#import seaborn as sns; sns.set(font_scale=1.2)\n",
    "from sklearn.externals import joblib\n",
    "%matplotlib inline"
   ]
  },
  {
   "cell_type": "markdown",
   "metadata": {
    "collapsed": true
   },
   "source": [
    "# Load the dataset"
   ]
  },
  {
   "cell_type": "code",
   "execution_count": 11,
   "metadata": {},
   "outputs": [
    {
     "data": {
      "text/plain": [
       "(32, 21)"
      ]
     },
     "execution_count": 11,
     "metadata": {},
     "output_type": "execute_result"
    }
   ],
   "source": [
    "path='/home/sultan/EEG/CLUSTER_channels/S_E12/allindnoiseindBF.xlsx'\n",
    "dataset=pd.read_excel(path,header=None)\n",
    "#dataset =pd.read_csv(path) # This is the csv read\n",
    "dataset.shape"
   ]
  },
  {
   "cell_type": "code",
   "execution_count": 24,
   "metadata": {},
   "outputs": [],
   "source": [
    "#dataset"
   ]
  },
  {
   "cell_type": "markdown",
   "metadata": {},
   "source": [
    "# Leaveout on Whole data"
   ]
  },
  {
   "cell_type": "code",
   "execution_count": 20,
   "metadata": {},
   "outputs": [
    {
     "name": "stdout",
     "output_type": "stream",
     "text": [
      "Total accuracy score for Theta is 38.71\n",
      "ROC_AUC: Theta is 0.32\n",
      "Total accuracy score for alpha is 38.71\n",
      "ROC_AUC: alpha is 0.32\n",
      "Total accuracy score for beta is 48.39\n",
      "ROC_AUC: beta is 0.39\n",
      "Total accuracy score for gamma is 61.29\n",
      "ROC_AUC: gamma is 0.57\n"
     ]
    }
   ],
   "source": [
    "# X=dataset.iloc[:,16:21].values;# theta:1-6, alpha=6-11, beta=11-16: gamma=16-21 \n",
    "# X_scaled = preprocessing.scale(X); # normalizing 0 mean and 1 stdv\n",
    "# y=dataset.iloc[:,0].values\n",
    "leaveout = LeaveOneOut()\n",
    "#leaveout.get_n_splits(X)\n",
    "# parameters = {'kernel':('linear', 'rbf','poly','sigmoid'), 'C':[1, 10,100,1000],'gamma':[0.01,.002,0.003]}\n",
    "# svc = svm.SVC()\n",
    "### Here is the leaveout\n",
    "cn=0\n",
    "pos=[1,6,11,16]; # This is the cluster number lhpos=[3,8,13,19],j=i+2 rhpos=[1,6,11,16], j=i+2\n",
    "a=['Theta',\"alpha\",'beta', 'gamma']\n",
    "for i in pos:\n",
    "    j=i+5\n",
    "    X=dataset.iloc[:,i:j].values;# theta:1-6, alpha=6-11, beta=11-16: gamma=16-21 # 1-3 RH, 3-5 LH\n",
    "    #print X\n",
    "    X_scaled = preprocessing.scale(X)\n",
    "    y=dataset.iloc[:,0].values\n",
    "    count = 0\n",
    "    totalacc = 0\n",
    "    cper=[];ytt=[];\n",
    "    for train_index, test_index in leaveout.split(X_scaled):\n",
    "        #print train_index,test_index\n",
    "        ##X_trn, X_tst = X[train_index], X[test_index]\n",
    "        X_trn, X_tst = X_scaled[train_index], X_scaled[test_index]\n",
    "        y_trn, y_tst = y[train_index], y[test_index]\n",
    "        #parameters = {'kernel':('linear', 'rbf','poly','sigmoid'), 'C':[1, 10,100,1000],'gamma':[0.01,.002,0.003]}\n",
    "        parameters = {'kernel':['rbf'], 'C':[1, 10,100,1000],'gamma':[0.01,.002, 0.003]}\n",
    "        #parameters = {'kernel':('linear', 'rbf','poly','sigmoid'), 'C':np.logspace(-2, 3, 10),'gamma':np.logspace(-5, 4, 10)}\n",
    "        svc = svm.SVC()\n",
    "        clf = GridSearchCV(svc, parameters)\n",
    "        #print X_trn, y_trn\n",
    "        clf.fit(X_trn, y_trn)\n",
    "        #print clf.best_estimator_\n",
    "        acc = accuracy_score(clf.best_estimator_.predict(X_tst),y_tst)\n",
    "        totalacc = totalacc + acc\n",
    "        pred=clf.best_estimator_.predict(X_tst)\n",
    "        cper.append(pred)\n",
    "        ytt.append(y_tst)\n",
    "        count = count + 1\n",
    "        #print count, acc, totalacc; # See the how many correct over the whole\n",
    "    score=totalacc/(count-1)*100.0\n",
    "    #print 'Accuracy of',a[cn],'=', totalacc/count \n",
    "    #print(\"Total score for %s is %2.2f.\"%(a[cn], score));# see 2 digit results \n",
    "    print(\"Total accuracy score for {} is {}\".format(a[cn], round(score,2)))\n",
    "    #print (classification_report(np.array(ytt), np.array(cper)))\n",
    "    false_positive_rate, true_positive_rate, thresholds = roc_curve(np.array(ytt),np.array(cper))\n",
    "    roc_acu=roc_auc = auc(false_positive_rate, true_positive_rate)\n",
    "    print(\"ROC_AUC: {} is {}\".format(a[cn], round(roc_acu,2)))\n",
    "#     print '\\n'\n",
    "    #print('Acc: {}'.format(totalacc/count) \n",
    "    cn+=1 "
   ]
  },
  {
   "cell_type": "code",
   "execution_count": null,
   "metadata": {},
   "outputs": [],
   "source": [
    "#parameters = {'kernel':('linear', 'rbf','poly','sigmoid'), 'C':[1, 10,100,1000],'gamma':[0.01,.002,0.003]}\n",
    "# Total score for Theta is 50.0\n",
    "# Total score for alpha is 34.375\n",
    "# Total score for beta is 53.125\n",
    "# Total score for gamma is 31.25\n",
    "#### parameters = {'kernel':('linear', 'rbf','poly','sigmoid'), 'C':np.logspace(-2, 3, 10),'gamma':np.logspace(-5, 4, 10)}\n",
    "# Total score for Theta is 53.125\n",
    "# Total score for alpha is 43.75\n",
    "# Total score for beta is 37.5\n",
    "# Total score for gamma is 43.75"
   ]
  },
  {
   "cell_type": "markdown",
   "metadata": {},
   "source": [
    "# LH"
   ]
  },
  {
   "cell_type": "code",
   "execution_count": 19,
   "metadata": {},
   "outputs": [
    {
     "name": "stdout",
     "output_type": "stream",
     "text": [
      "Total accuracy score for Theta is 45.16\n",
      "ROC_AUC: Theta is 0.37\n",
      "Total accuracy score for alpha is 45.16\n",
      "ROC_AUC: alpha is 0.37\n",
      "Total accuracy score for beta is 45.16\n",
      "ROC_AUC: beta is 0.37\n",
      "Total accuracy score for gamma is 80.65\n",
      "ROC_AUC: gamma is 0.76\n"
     ]
    }
   ],
   "source": [
    "# X=dataset.iloc[:,16:21].values;# theta:1-6, alpha=6-11, beta=11-16: gamma=16-21 \n",
    "# X_scaled = preprocessing.scale(X); # normalizing 0 mean and 1 stdv\n",
    "# y=dataset.iloc[:,0].values\n",
    "leaveout = LeaveOneOut()\n",
    "#leaveout.get_n_splits(X)\n",
    "# parameters = {'kernel':('linear', 'rbf','poly','sigmoid'), 'C':[1, 10,100,1000],'gamma':[0.01,.002,0.003]}\n",
    "# svc = svm.SVC()\n",
    "### Here is the leaveout\n",
    "cn=0\n",
    "pos=[3,8,13,18]; # This is the cluster number lhpos=[3,8,13,18],j=i+2 rhpos=[1,6,11,16], j=i+2\n",
    "a=['Theta',\"alpha\",'beta', 'gamma']\n",
    "for i in pos:\n",
    "    j=i+2\n",
    "    X=dataset.iloc[:,i:j].values;# theta:1-6, alpha=6-11, beta=11-16: gamma=16-21 # 1-3 RH, 3-5 LH\n",
    "    #print X\n",
    "    X_scaled = preprocessing.scale(X)\n",
    "    y=dataset.iloc[:,0].values\n",
    "    count = 0\n",
    "    totalacc = 0\n",
    "    cper=[];ytt=[];\n",
    "    for train_index, test_index in leaveout.split(X_scaled):\n",
    "        #print train_index,test_index\n",
    "        X_trn, X_tst = X_scaled[train_index], X_scaled[test_index]\n",
    "        y_trn, y_tst = y[train_index], y[test_index]\n",
    "        #parameters = {'kernel':('linear', 'rbf','poly','sigmoid'), 'C':[1, 10,100,1000],'gamma':[0.01,.002,0.003]}\n",
    "        parameters = {'kernel':['rbf'], 'C':[1, 10,100,1000],'gamma':[0.01,.002, 0.003]}\n",
    "        #parameters = {'kernel':('linear', 'rbf','poly','sigmoid'), 'C':np.logspace(-2, 3, 10),'gamma':np.logspace(-5, 4, 10)}\n",
    "        svc = svm.SVC()\n",
    "        clf = GridSearchCV(svc, parameters)\n",
    "        clf.fit(X_trn, y_trn)\n",
    "        #print clf.best_estimator_\n",
    "        acc = accuracy_score(clf.best_estimator_.predict(X_tst),y_tst)\n",
    "        totalacc = totalacc + acc\n",
    "        pred=clf.best_estimator_.predict(X_tst)\n",
    "        cper.append(pred)\n",
    "        ytt.append(y_tst)\n",
    "        count = count + 1 \n",
    "        #print count, acc, totalacc; # See the how many correct over the whole\n",
    "    score=totalacc/(count-1)*100.0\n",
    "    #print 'Accuracy of',a[cn],'=', totalacc/count\n",
    "    print(\"Total accuracy score for {} is {}\".format(a[cn], round(score,2)))\n",
    "    #print (classification_report(np.array(ytt), np.array(cper)))\n",
    "    false_positive_rate, true_positive_rate, thresholds = roc_curve(np.array(ytt),np.array(cper))\n",
    "    roc_acu=roc_auc = auc(false_positive_rate, true_positive_rate)\n",
    "    print(\"ROC_AUC: {} is {}\".format(a[cn], round(roc_acu,2)))\n",
    "    #print '\\n'\n",
    "    cn+=1 "
   ]
  },
  {
   "cell_type": "code",
   "execution_count": null,
   "metadata": {},
   "outputs": [],
   "source": [
    "# Total score for Theta is 59.375\n",
    "# Total score for alpha is 59.375\n",
    "# Total score for beta is 59.375\n",
    "# Total score for gamma is 53.125"
   ]
  },
  {
   "cell_type": "markdown",
   "metadata": {},
   "source": [
    "# RH"
   ]
  },
  {
   "cell_type": "code",
   "execution_count": 23,
   "metadata": {},
   "outputs": [
    {
     "name": "stdout",
     "output_type": "stream",
     "text": [
      "Total accuracy score for Theta is 41.94\n",
      "ROC_AUC: Theta is 0.34\n",
      "Total accuracy score for alpha is 51.61\n",
      "ROC_AUC: alpha is 0.43\n",
      "Total accuracy score for beta is 64.52\n",
      "ROC_AUC: beta is 0.56\n",
      "Total accuracy score for gamma is 45.16\n",
      "ROC_AUC: gamma is 0.38\n"
     ]
    }
   ],
   "source": [
    "leaveout = LeaveOneOut()\n",
    "#leaveout.get_n_splits(X)\n",
    "#parameters = {'kernel':('linear', 'rbf','poly','sigmoid'), 'C':[1, 10,100,1000],'gamma':[0.01,0.02,0.05,0.08,.002,0.003]}\n",
    "parameters = {'kernel':['rbf'], 'C':[1, 10,100,1000],'gamma':[0.01,.002, 0.003]}\n",
    "#parameters = {'kernel':('linear', 'rbf','poly','sigmoid'), 'C':[1, 10,100,1000],'gamma':np.linspace(0.1,2,10)}\n",
    "#parameters = {'kernel':('linear', 'rbf','poly','sigmoid'), 'C':np.logspace(-2, 3, 5),'gamma':np.logspace(-5, 4, 5)}\n",
    "svc = svm.SVC()\n",
    "#### Here is the leaveout\n",
    "cn=0\n",
    "pos=[1,6,11,16]; # This is the cluster number lhpos=[3,8,13,18],j=i+2 rhpos=[1,6,11,16], j=i+2\n",
    "a=['Theta',\"alpha\",'beta', 'gamma']\n",
    "for i in pos:\n",
    "    j=i+2\n",
    "    X=dataset.iloc[:,i:j].values;# theta:1-6, alpha=6-11, beta=11-16: gamma=16-21 # 1-3 RH, 3-5 LH\n",
    "    X_scaled = preprocessing.scale(X)\n",
    "    y=dataset.iloc[:,0].values\n",
    "    count = 0\n",
    "    totalacc = 0\n",
    "    cper=[];ytt=[];\n",
    "    for train_index, test_index in leaveout.split(X_scaled):\n",
    "        #print train_index,test_index\n",
    "        X_trn, X_tst = X_scaled[train_index], X_scaled[test_index]\n",
    "        y_trn, y_tst = y[train_index], y[test_index]\n",
    "        clf = GridSearchCV(svc, parameters)\n",
    "        clf.fit(X_trn, y_trn)\n",
    "        #print clf.best_estimator_\n",
    "        acc = accuracy_score(clf.best_estimator_.predict(X_tst),y_tst)\n",
    "        totalacc = totalacc + acc\n",
    "        pred=clf.best_estimator_.predict(X_tst)\n",
    "        cper.append(pred)\n",
    "        ytt.append(y_tst)\n",
    "        count = count + 1 \n",
    "        #print count, acc, totalacc; # See the how many correct over the whole\n",
    "    score=totalacc/(count-1)*100.0\n",
    "    #print 'Accuracy of',a[cn],'=', totalacc/count\n",
    "    print(\"Total accuracy score for {} is {}\".format(a[cn], round(score,2)))\n",
    "    #print (classification_report(np.array(ytt), np.array(cper)))\n",
    "    false_positive_rate, true_positive_rate, thresholds = roc_curve(np.array(ytt),np.array(cper))\n",
    "    roc_acu=roc_auc = auc(false_positive_rate, true_positive_rate)\n",
    "    print(\"ROC_AUC: {} is {}\".format(a[cn], round(roc_acu,2)))\n",
    "#     print '\\n'\n",
    "    cn+=1 "
   ]
  },
  {
   "cell_type": "code",
   "execution_count": null,
   "metadata": {},
   "outputs": [],
   "source": [
    "# Total score for Theta is 59.375\n",
    "# Total score for alpha is 62.5\n",
    "# Total score for beta is 56.25\n",
    "# Total score for gamma is 46.875"
   ]
  },
  {
   "cell_type": "code",
   "execution_count": null,
   "metadata": {},
   "outputs": [],
   "source": [
    "#gamma (0.1,2,10)\n",
    "# Total score for Theta is 46.875\n",
    "# Total score for alpha is 40.625\n",
    "# Total score for beta is 68.75\n",
    "# Total score for gamma is 46.875\n",
    "##parameters = {'kernel':('linear', 'rbf','poly','sigmoid'), 'C':[1, 10,100,1000],'gamma':[0.01,0.02,0.05,0.08,.002,0.003]}\n",
    "# Total score for Theta is 61.29\n",
    "# Total score for alpha is 64.52\n",
    "# Total score for beta is 58.06\n",
    "# Total score for gamma is 48.39"
   ]
  },
  {
   "cell_type": "code",
   "execution_count": null,
   "metadata": {},
   "outputs": [],
   "source": [
    "# np.linspace(0.1,2,10)"
   ]
  },
  {
   "cell_type": "code",
   "execution_count": null,
   "metadata": {},
   "outputs": [],
   "source": []
  }
 ],
 "metadata": {
  "kernelspec": {
   "display_name": "Python 2",
   "language": "python",
   "name": "python2"
  },
  "language_info": {
   "codemirror_mode": {
    "name": "ipython",
    "version": 2
   },
   "file_extension": ".py",
   "mimetype": "text/x-python",
   "name": "python",
   "nbconvert_exporter": "python",
   "pygments_lexer": "ipython2",
   "version": "2.7.6"
  }
 },
 "nbformat": 4,
 "nbformat_minor": 2
}
