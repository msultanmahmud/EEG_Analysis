{
 "cells": [
  {
   "cell_type": "markdown",
   "metadata": {},
   "source": [
    "# Shuffle and hyperparameters Tuning for hearing data set [Cross-validation](http://scikit-learn.org/stable/modules/cross_validation.html)"
   ]
  },
  {
   "cell_type": "code",
   "execution_count": 111,
   "metadata": {
    "collapsed": false
   },
   "outputs": [],
   "source": [
    "import numpy as np\n",
    "import pandas as pd\n",
    "from sklearn import svm, metrics, preprocessing\n",
    "#from sklearn import datasets\n",
    "from sklearn.model_selection import train_test_split, GridSearchCV,cross_val_score,ShuffleSplit\n",
    "from sklearn.metrics import accuracy_score,confusion_matrix,roc_curve, auc\n",
    "from matplotlib import pyplot as plt\n",
    "from collections import Counter\n",
    "from scipy.stats import norm\n",
    "import seaborn as sns; sns.set(font_scale=1.2)\n",
    "%matplotlib inline"
   ]
  },
  {
   "cell_type": "markdown",
   "metadata": {
    "collapsed": true
   },
   "source": [
    "# load the dataset"
   ]
  },
  {
   "cell_type": "code",
   "execution_count": 112,
   "metadata": {
    "collapsed": false
   },
   "outputs": [],
   "source": [
    "path='C:/Users/Sultan/OneDrive - The University of Memphis/RESEARCH2017S/CLUSTER_channels/S_E12/clearbandfeatures.xlsx'\n",
    "dataset=pd.read_excel(path,header=None)\n",
    "#dataset =pd.read_csv(path) # This is the csv read\n",
    "#dataset"
   ]
  },
  {
   "cell_type": "code",
   "execution_count": 113,
   "metadata": {
    "collapsed": false
   },
   "outputs": [],
   "source": [
    "#sns.lmplot('dia','eccen',data=dataset,hue='class',palette='Set1',fit_reg=False,scatter_kws={\"s\":70})"
   ]
  },
  {
   "cell_type": "markdown",
   "metadata": {},
   "source": [
    "# split the data set"
   ]
  },
  {
   "cell_type": "code",
   "execution_count": 114,
   "metadata": {
    "collapsed": false
   },
   "outputs": [],
   "source": [
    "X=dataset.iloc[:,16:21].values;# theta:1-6, alpha=6-11, beta=11-16: gamma=16-21 \n",
    "X_scaled = preprocessing.scale(X)\n",
    "y=dataset.iloc[:,0].values"
   ]
  },
  {
   "cell_type": "code",
   "execution_count": 132,
   "metadata": {
    "collapsed": false
   },
   "outputs": [],
   "source": [
    "X_train, X_test, y_train, y_test = train_test_split(X_scaled,y, test_size=.20, random_state=42)     "
   ]
  },
  {
   "cell_type": "markdown",
   "metadata": {},
   "source": [
    "# see the shape of the traing and test data set"
   ]
  },
  {
   "cell_type": "code",
   "execution_count": 133,
   "metadata": {
    "collapsed": false
   },
   "outputs": [
    {
     "data": {
      "text/plain": [
       "((7L, 5L), (7L,))"
      ]
     },
     "execution_count": 133,
     "metadata": {},
     "output_type": "execute_result"
    }
   ],
   "source": [
    "#X_train.shape, y_train.shape\n",
    "X_test.shape, y_test.shape   "
   ]
  },
  {
   "cell_type": "code",
   "execution_count": 134,
   "metadata": {
    "collapsed": false
   },
   "outputs": [
    {
     "data": {
      "text/plain": [
       "(array([[ 0.51817109,  0.20800232, -0.29273979,  0.34020518,  0.92324867],\n",
       "        [-0.95494315, -0.80238699, -0.77151922, -0.80209198, -1.37769005],\n",
       "        [-0.59034063, -0.35838904, -0.7710778 , -1.23392219, -0.56986871],\n",
       "        [-1.1519505 , -0.78676571, -0.69911303, -1.15769578, -1.33896834],\n",
       "        [ 0.20434339,  0.24119045,  0.91246862,  0.4841884 ,  0.38968528],\n",
       "        [-0.7109363 ,  0.22159338, -0.30187778, -0.06195718, -0.18965088],\n",
       "        [-1.16664558, -0.69631526, -0.8776487 , -1.37884575, -1.14078874]]),\n",
       " array([1, 0, 1, 1, 0, 0, 0], dtype=int64))"
      ]
     },
     "execution_count": 134,
     "metadata": {},
     "output_type": "execute_result"
    }
   ],
   "source": [
    "X_test,y_test"
   ]
  },
  {
   "cell_type": "markdown",
   "metadata": {},
   "source": [
    "# Find the Class labels"
   ]
  },
  {
   "cell_type": "code",
   "execution_count": 135,
   "metadata": {
    "collapsed": false
   },
   "outputs": [
    {
     "data": {
      "text/plain": [
       "array([0, 1], dtype=int64)"
      ]
     },
     "execution_count": 135,
     "metadata": {},
     "output_type": "execute_result"
    }
   ],
   "source": [
    "np.unique(y_test)"
   ]
  },
  {
   "cell_type": "markdown",
   "metadata": {},
   "source": [
    "# Find the repeated class number "
   ]
  },
  {
   "cell_type": "code",
   "execution_count": 136,
   "metadata": {
    "collapsed": false
   },
   "outputs": [
    {
     "data": {
      "text/plain": [
       "(array([0, 1], dtype=int64), array([4, 3], dtype=int64))"
      ]
     },
     "execution_count": 136,
     "metadata": {},
     "output_type": "execute_result"
    }
   ],
   "source": [
    "np.unique(y_test,return_counts=True)"
   ]
  },
  {
   "cell_type": "markdown",
   "metadata": {},
   "source": [
    "# Gridserach CV"
   ]
  },
  {
   "cell_type": "code",
   "execution_count": 137,
   "metadata": {
    "collapsed": false
   },
   "outputs": [
    {
     "data": {
      "text/plain": [
       "GridSearchCV(cv=ShuffleSplit(n_splits=5, random_state=42, test_size=0.2, train_size=None),\n",
       "       error_score='raise',\n",
       "       estimator=SVC(C=1.0, cache_size=200, class_weight=None, coef0=0.0,\n",
       "  decision_function_shape=None, degree=3, gamma='auto', kernel='rbf',\n",
       "  max_iter=-1, probability=False, random_state=None, shrinking=True,\n",
       "  tol=0.001, verbose=False),\n",
       "       fit_params={}, iid=True, n_jobs=1,\n",
       "       param_grid={'kernel': ('linear', 'rbf', 'poly', 'sigmoid'), 'C': [1, 10, 100, 1000], 'gamma': [0.01, 0.002]},\n",
       "       pre_dispatch='2*n_jobs', refit=True, return_train_score=True,\n",
       "       scoring=None, verbose=0)"
      ]
     },
     "execution_count": 137,
     "metadata": {},
     "output_type": "execute_result"
    }
   ],
   "source": [
    "parameters = {'kernel':('linear', 'rbf','poly','sigmoid'), 'C':[1, 10,100,1000],'gamma':[0.01,.002,]}\n",
    "svc = svm.SVC()\n",
    "cv = ShuffleSplit(n_splits=5, test_size=0.20, random_state=42)\n",
    "#parameters = {'kernel':('linear', 'rbf','poly'), 'C':[1, 10,100],'gamma':[0.01,.002]}\n",
    "svc = svm.SVC()\n",
    "clf = GridSearchCV(svc, parameters,cv=cv)\n",
    "clf.fit(X_train, y_train)"
   ]
  },
  {
   "cell_type": "markdown",
   "metadata": {},
   "source": [
    "# Find the best parameters  "
   ]
  },
  {
   "cell_type": "code",
   "execution_count": 138,
   "metadata": {
    "collapsed": false
   },
   "outputs": [
    {
     "data": {
      "text/plain": [
       "array([ 0.6 ,  0.68,  0.68,  0.68,  0.6 ,  0.68,  0.68,  0.68,  0.76,\n",
       "        0.68,  0.68,  0.68,  0.76,  0.68,  0.68,  0.68,  0.68,  0.64,\n",
       "        0.68,  0.56,  0.68,  0.68,  0.68,  0.68,  0.6 ,  0.44,  0.68,\n",
       "        0.72,  0.6 ,  0.72,  0.68,  0.68])"
      ]
     },
     "execution_count": 138,
     "metadata": {},
     "output_type": "execute_result"
    }
   ],
   "source": [
    "accf= clf.cv_results_['mean_test_score']\n",
    "accf"
   ]
  },
  {
   "cell_type": "code",
   "execution_count": 139,
   "metadata": {
    "collapsed": false
   },
   "outputs": [
    {
     "name": "stdout",
     "output_type": "stream",
     "text": [
      "Accuracy:0.665 (+/-0.116)\n"
     ]
    }
   ],
   "source": [
    "print(\"Accuracy:%0.3f (+/-%0.3f)\" %(accf.mean(), accf.std()*2))"
   ]
  },
  {
   "cell_type": "code",
   "execution_count": 140,
   "metadata": {
    "collapsed": false
   },
   "outputs": [
    {
     "data": {
      "text/plain": [
       "SVC(C=10, cache_size=200, class_weight=None, coef0=0.0,\n",
       "  decision_function_shape=None, degree=3, gamma=0.01, kernel='linear',\n",
       "  max_iter=-1, probability=False, random_state=None, shrinking=True,\n",
       "  tol=0.001, verbose=False)"
      ]
     },
     "execution_count": 140,
     "metadata": {},
     "output_type": "execute_result"
    }
   ],
   "source": [
    "clf.best_estimator_"
   ]
  },
  {
   "cell_type": "code",
   "execution_count": 141,
   "metadata": {
    "collapsed": false
   },
   "outputs": [
    {
     "name": "stdout",
     "output_type": "stream",
     "text": [
      "[1 1 1 1 1 0 1]\n",
      "[1 0 1 1 0 0 0]\n"
     ]
    }
   ],
   "source": [
    "pred=clf.best_estimator_.predict(X_test)\n",
    "clf.score(X_test, y_test)  \n",
    "print pred\n",
    "print y_test"
   ]
  },
  {
   "cell_type": "code",
   "execution_count": 143,
   "metadata": {
    "collapsed": false
   },
   "outputs": [
    {
     "name": "stdout",
     "output_type": "stream",
     "text": [
      "0.571428571429\n"
     ]
    }
   ],
   "source": [
    "acc=accuracy_score(clf.best_estimator_.predict(X_test),y_test)\n",
    "print acc"
   ]
  },
  {
   "cell_type": "code",
   "execution_count": 130,
   "metadata": {
    "collapsed": false
   },
   "outputs": [
    {
     "data": {
      "text/plain": [
       "array([[0, 3],\n",
       "       [0, 4]])"
      ]
     },
     "execution_count": 130,
     "metadata": {},
     "output_type": "execute_result"
    }
   ],
   "source": [
    "conf_mat=confusion_matrix(y_test,pred)\n",
    "conf_mat"
   ]
  },
  {
   "cell_type": "code",
   "execution_count": 131,
   "metadata": {
    "collapsed": false
   },
   "outputs": [
    {
     "name": "stdout",
     "output_type": "stream",
     "text": [
      "             precision    recall  f1-score   support\n",
      "\n",
      "          0       0.00      0.00      0.00         3\n",
      "          1       0.57      1.00      0.73         4\n",
      "\n",
      "avg / total       0.33      0.57      0.42         7\n",
      "\n"
     ]
    }
   ],
   "source": [
    "from sklearn.metrics import classification_report\n",
    "#target_names = ['class 0', 'class 1', 'class 2']\n",
    "print(classification_report(y_test, pred))"
   ]
  },
  {
   "cell_type": "markdown",
   "metadata": {},
   "source": [
    " # [ROC Curve](https://datamize.wordpress.com/2015/01/24/how-to-plot-a-roc-curve-in-scikit-learn/)"
   ]
  },
  {
   "cell_type": "code",
   "execution_count": 107,
   "metadata": {
    "collapsed": false
   },
   "outputs": [
    {
     "data": {
      "text/plain": [
       "<matplotlib.text.Text at 0xddf42e8>"
      ]
     },
     "execution_count": 107,
     "metadata": {},
     "output_type": "execute_result"
    },
    {
     "data": {
      "image/png": "[encoded data removed]",
      "text/plain": [
       "<matplotlib.figure.Figure at 0xdcaec18>"
      ]
     },
     "metadata": {},
     "output_type": "display_data"
    }
   ],
   "source": [
    "false_positive_rate, true_positive_rate, thresholds = roc_curve(y_test,pred)\n",
    "#false_positive_rate, true_positive_rate, thresholds = metrics.roc_curve(pred, y_test)\n",
    "#print false_positive_rate\n",
    "roc_auc = auc(false_positive_rate, true_positive_rate)\n",
    "#print 'FPR=',false_positive_rate,'\\n','TPR=',true_positive_rate\n",
    "fig,ax1=plt.subplots(ncols=1)\n",
    "ax1.plot(false_positive_rate, true_positive_rate, 'b-', label = 'AUC = %0.2f' % roc_auc)\n",
    "ax1.legend(loc = 'lower right')\n",
    "ax1.plot([0, 1], [0, 1],'r--')\n",
    "ax1.set_xlim([0, 1])\n",
    "ax1.set_ylim([0, 1])\n",
    "ax1.set_ylabel('True Positive Rate')\n",
    "ax1.set_xlabel('False Positive Rate')\n",
    "ax1.set_title('Receiver Operating Characteristic')"
   ]
  },
  {
   "cell_type": "markdown",
   "metadata": {},
   "source": []
  },
  {
   "cell_type": "code",
   "execution_count": 144,
   "metadata": {
    "collapsed": false
   },
   "outputs": [
    {
     "name": "stdout",
     "output_type": "stream",
     "text": [
      "[[  9.06223522e-14   4.13052207e-14   3.49543378e-14   1.29507635e-13\n",
      "    1.90167299e-13]\n",
      " [  1.91301729e-13   6.04252057e-15   1.87265993e-14   2.22166746e-13\n",
      "    3.21077555e-13]\n",
      " [  1.01700001e-13   8.79513244e-14   1.39494778e-14   1.84584360e-13\n",
      "    2.36653976e-13]\n",
      " [  2.88316161e-13   1.71821184e-14   8.99605157e-14   3.49652362e-13\n",
      "    6.85653652e-13]\n",
      " [  1.44947467e-13   1.55529076e-13   5.52340935e-14   1.43815248e-13\n",
      "    3.17187222e-13]\n",
      " [  1.02959642e-13   4.82036826e-14   7.05027737e-14   5.32862187e-14\n",
      "    1.70944814e-13]\n",
      " [  1.26006721e-13   1.50306678e-14   3.02918902e-13   4.89601654e-13\n",
      "    3.92654927e-13]\n",
      " [  4.11273527e-14   2.85133411e-14   3.30432236e-14   3.11714366e-14\n",
      "    2.33734788e-13]\n",
      " [  4.00634800e-14   3.36735592e-14   3.50304457e-14   4.76562140e-14\n",
      "    1.08576032e-13]\n",
      " [  4.11981752e-14   6.74818774e-14   5.70241803e-14   6.87125041e-14\n",
      "    1.29131645e-13]\n",
      " [  1.31264667e-13   7.47755555e-14   2.07249892e-14   1.22685734e-13\n",
      "    3.14426130e-13]\n",
      " [  1.47716922e-13   9.00607737e-15   6.26133934e-15   1.27291409e-13\n",
      "    1.32792188e-13]\n",
      " [  3.99903726e-14   3.99842481e-14   1.02686468e-13   9.94363821e-14\n",
      "    3.37454083e-13]\n",
      " [  3.87294388e-14   1.04801823e-14   1.06986527e-14   4.27129608e-14\n",
      "    1.15301345e-13]\n",
      " [  2.02525966e-13   1.20553113e-13   1.74392356e-14   7.84390058e-14\n",
      "    3.15796744e-13]\n",
      " [  2.22861457e-14   2.14073160e-14   1.31516649e-14   6.87784409e-15\n",
      "    4.76837447e-14]\n",
      " [  1.21175801e-13   1.60670323e-14   1.31402831e-14   1.03263312e-13\n",
      "    2.56773053e-13]\n",
      " [  3.71248148e-14   3.24125155e-14   8.49003885e-15   4.33840899e-14\n",
      "    6.37799571e-14]\n",
      " [  1.59291606e-13   1.76898567e-14   5.08078621e-14   7.50062529e-14\n",
      "    1.99730127e-13]\n",
      " [  1.89357279e-13   3.25271776e-14   7.61119867e-15   1.01271072e-13\n",
      "    3.20027550e-13]\n",
      " [  4.03768792e-14   4.26200171e-15   6.19133043e-15   6.39166100e-14\n",
      "    5.38159847e-14]\n",
      " [  2.34127947e-14   5.31006800e-14   6.35372772e-15   1.19575388e-14\n",
      "    6.80297328e-14]\n",
      " [  2.20519626e-14   2.76621246e-14   4.92226952e-15   1.36209019e-14\n",
      "    5.70264439e-14]\n",
      " [  6.90520228e-14   9.16616392e-14   9.20114072e-15   4.96086432e-14\n",
      "    4.04151687e-14]\n",
      " [  7.21253433e-14   4.55873849e-14   2.12281739e-14   2.60625942e-14\n",
      "    1.18887543e-13]\n",
      " [  2.08248151e-13   5.06890733e-14   1.95747197e-14   1.31204644e-13\n",
      "    4.24876450e-13]\n",
      " [  3.65406386e-13   2.14374358e-13   3.53832966e-14   2.67306660e-13\n",
      "    5.50983513e-13]\n",
      " [  1.65045405e-13   1.31268737e-13   1.76318643e-14   1.27404820e-13\n",
      "    3.60728716e-13]\n",
      " [  8.65451637e-14   2.03773153e-14   3.71155767e-14   7.45553112e-14\n",
      "    1.90633401e-13]\n",
      " [  1.27190950e-13   3.90412395e-14   1.72117774e-14   1.47959640e-13\n",
      "    2.24323732e-13]\n",
      " [  5.85174850e-14   5.25773865e-14   2.86695040e-15   1.17846055e-14\n",
      "    1.07768680e-13]\n",
      " [  1.35313608e-13   1.78071898e-14   3.91533043e-14   1.20411081e-13\n",
      "    2.15582152e-13]]\n",
      "[[  8.04846757e-14   3.53121005e-14   3.19613471e-14   1.14389569e-13\n",
      "    1.67388671e-13]\n",
      " [  1.58149130e-13   5.66392715e-15   1.83348085e-14   1.84242861e-13\n",
      "    2.67577654e-13]\n",
      " [  9.21595082e-14   7.93627107e-14   1.63661021e-14   1.65597076e-13\n",
      "    2.13578709e-13]\n",
      " [  2.40443039e-13   1.52279048e-14   7.38847604e-14   2.92538298e-13\n",
      "    5.68843052e-13]\n",
      " [  1.23920556e-13   1.31069380e-13   5.34197713e-14   1.25459010e-13\n",
      "    2.70333973e-13]\n",
      " [  8.50101739e-14   4.03481191e-14   5.79389137e-14   4.48182337e-14\n",
      "    1.43767742e-13]\n",
      " [  1.07526074e-13   1.30416335e-14   2.62585346e-13   4.11550289e-13\n",
      "    3.28390630e-13]\n",
      " [  3.66708433e-14   2.43471757e-14   2.95226194e-14   2.97867510e-14\n",
      "    1.99584758e-13]\n",
      " [  3.84727772e-14   3.05379025e-14   3.11112902e-14   4.50475336e-14\n",
      "    1.01493203e-13]\n",
      " [  3.73621720e-14   5.63234648e-14   4.90197554e-14   6.19845259e-14\n",
      "    1.16308256e-13]\n",
      " [  1.14833878e-13   7.29870541e-14   2.13701972e-14   1.06191499e-13\n",
      "    2.82613680e-13]\n",
      " [  1.25213159e-13   8.18104948e-15   5.91477376e-15   1.07561066e-13\n",
      "    1.12792739e-13]\n",
      " [  3.53771620e-14   3.46158137e-14   8.73763852e-14   8.55842303e-14\n",
      "    2.84332529e-13]\n",
      " [  3.63118686e-14   9.51231352e-15   9.42976026e-15   3.93213481e-14\n",
      "    1.01246522e-13]\n",
      " [  1.74405114e-13   1.01006215e-13   1.64395936e-14   6.95126162e-14\n",
      "    2.74098909e-13]\n",
      " [  1.93883780e-14   1.81198816e-14   1.13659789e-14   7.22605103e-15\n",
      "    3.90410454e-14]\n",
      " [  1.07288528e-13   1.42675521e-14   1.40055184e-14   8.97003221e-14\n",
      "    2.21689419e-13]\n",
      " [  3.13985699e-14   2.68764994e-14   7.69781613e-15   3.69282045e-14\n",
      "    5.31444254e-14]\n",
      " [  1.31535702e-13   1.59151896e-14   4.40455164e-14   6.30255348e-14\n",
      "    1.66648972e-13]\n",
      " [  1.56301313e-13   2.69336109e-14   6.27821676e-15   8.35620633e-14\n",
      "    2.63253889e-13]\n",
      " [  3.71126596e-14   4.23906831e-15   5.62612875e-15   5.78059051e-14\n",
      "    4.96421353e-14]\n",
      " [  2.09042316e-14   4.51687807e-14   5.57650541e-15   1.08479251e-14\n",
      "    5.82579945e-14]\n",
      " [  1.95778423e-14   2.34626301e-14   5.09103828e-15   1.24958358e-14\n",
      "    4.95819612e-14]\n",
      " [  5.82934603e-14   7.60627176e-14   8.10255656e-15   4.45433959e-14\n",
      "    3.60636616e-14]\n",
      " [  6.26484303e-14   3.85953793e-14   1.77507445e-14   2.22362211e-14\n",
      "    1.04922643e-13]\n",
      " [  1.79286674e-13   4.41596937e-14   1.74279316e-14   1.15779482e-13\n",
      "    3.66481060e-13]\n",
      " [  3.07586257e-13   1.84969704e-13   3.11538762e-14   2.23179620e-13\n",
      "    4.64552584e-13]\n",
      " [  1.42122632e-13   1.11383290e-13   1.64844965e-14   1.10052968e-13\n",
      "    3.10820640e-13]\n",
      " [  7.28602630e-14   1.81567083e-14   3.24969563e-14   6.38005198e-14\n",
      "    1.59984780e-13]\n",
      " [  1.10612011e-13   3.45154379e-14   1.54934459e-14   1.25898074e-13\n",
      "    1.96335908e-13]\n",
      " [  4.86274237e-14   4.34097142e-14   2.62404949e-15   1.04739906e-14\n",
      "    9.05185826e-14]\n",
      " [  1.17659683e-13   1.51310073e-14   3.36402013e-14   1.04314697e-13\n",
      "    1.86250001e-13]]\n",
      "[[  1.06769174e-13   4.19356981e-14   4.58627609e-14   1.45502647e-13\n",
      "    2.14314981e-13]\n",
      " [  1.52458542e-13   1.10427302e-14   3.63466540e-14   1.81472538e-13\n",
      "    2.69369735e-13]\n",
      " [  1.30733818e-13   1.17322249e-13   5.32018056e-14   2.31746903e-13\n",
      "    2.94119812e-13]\n",
      " [  2.37052173e-13   2.04583444e-14   6.82347468e-14   2.93158160e-13\n",
      "    5.41910875e-13]\n",
      " [  1.35659455e-13   1.42857970e-13   1.04085847e-13   1.54479375e-13\n",
      "    3.22824565e-13]\n",
      " [  7.92602550e-14   4.18863731e-14   5.22329873e-14   4.61624515e-14\n",
      "    1.45446077e-13]\n",
      " [  1.17497338e-13   1.54400590e-14   3.06371287e-13   4.19167509e-13\n",
      "    3.27388577e-13]\n",
      " [  5.15158981e-14   2.85786897e-14   4.13883257e-14   5.27370135e-14\n",
      "    2.24190760e-13]\n",
      " [  6.87246728e-14   4.74483957e-14   4.97759897e-14   7.81860899e-14\n",
      "    1.64075879e-13]\n",
      " [  5.12836005e-14   6.17659633e-14   5.59756688e-14   8.46871339e-14\n",
      "    1.56015572e-13]\n",
      " [  1.44783707e-13   1.38381811e-13   4.83825272e-14   1.27184412e-13\n",
      "    3.93980870e-13]\n",
      " [  1.33240000e-13   1.35614888e-14   9.56509968e-15   1.12728653e-13\n",
      "    1.21930819e-13]\n",
      " [  4.57052401e-14   4.24016783e-14   9.74937922e-14   1.00563680e-13\n",
      "    2.95110416e-13]\n",
      " [  5.97889303e-14   1.43344862e-14   1.17742777e-14   5.70619119e-14\n",
      "    1.21938188e-13]\n",
      " [  2.17374457e-13   1.19558590e-13   3.22632995e-14   9.70856850e-14\n",
      "    3.39954418e-13]\n",
      " [  2.55991570e-14   1.97832984e-14   1.35657743e-14   1.84983068e-14\n",
      "    3.62046474e-14]\n",
      " [  1.45878134e-13   2.50329211e-14   4.52650522e-14   1.08365533e-13\n",
      "    2.55046174e-13]\n",
      " [  3.37458088e-14   2.63934727e-14   1.14595513e-14   3.98399358e-14\n",
      "    5.23944865e-14]\n",
      " [  1.24187100e-13   2.30098438e-14   5.18379127e-14   6.44591302e-14\n",
      "    1.68314532e-13]\n",
      " [  1.45642039e-13   2.59270623e-14   6.02360319e-15   7.73337371e-14\n",
      "    2.40666018e-13]\n",
      " [  5.32050115e-14   8.07260349e-15   8.92887136e-15   7.70571382e-14\n",
      "    7.12897530e-14]\n",
      " [  2.83952317e-14   5.13069436e-14   7.15574788e-15   1.62649711e-14\n",
      "    6.81929931e-14]\n",
      " [  2.55971586e-14   2.54160886e-14   1.15967041e-14   1.88875122e-14\n",
      "    5.94465285e-14]\n",
      " [  6.24461732e-14   7.42846683e-14   1.08749917e-14   7.06544957e-14\n",
      "    4.97938996e-14]\n",
      " [  7.40091794e-14   4.31770664e-14   1.83744477e-14   2.49797601e-14\n",
      "    1.31438918e-13]\n",
      " [  2.07864422e-13   5.91237829e-14   2.53988441e-14   1.47533652e-13\n",
      "    4.30794619e-13]\n",
      " [  3.14538843e-13   2.09179655e-13   4.15547931e-14   2.22459923e-13\n",
      "    4.76253629e-13]\n",
      " [  1.68188606e-13   1.25365204e-13   3.04209746e-14   1.36122759e-13\n",
      "    3.71693094e-13]\n",
      " [  7.68703730e-14   2.42969642e-14   4.09907738e-14   7.00125216e-14\n",
      "    1.65523588e-13]\n",
      " [  1.33388387e-13   4.87421432e-14   2.30220728e-14   1.39321018e-13\n",
      "    2.48876137e-13]\n",
      " [  4.66717265e-14   4.14058857e-14   4.20334269e-15   1.35346282e-14\n",
      "    9.20525981e-14]\n",
      " [  1.51954334e-13   1.65022162e-14   4.05062806e-14   1.30323368e-13\n",
      "    2.30493963e-13]]\n",
      "[[  2.46260085e-14   1.01004405e-14   9.92201576e-15   2.93595620e-14\n",
      "    4.73679912e-14]\n",
      " [  1.73774791e-14   5.56646113e-15   1.39742882e-14   2.29564056e-14\n",
      "    3.46979567e-14]\n",
      " [  3.07872343e-14   3.15877687e-14   3.00592557e-14   5.82590645e-14\n",
      "    6.27675690e-14]\n",
      " [  2.69425514e-14   4.98368496e-15   6.76531830e-15   3.38690488e-14\n",
      "    4.92357050e-14]\n",
      " [  1.94944365e-14   2.61127111e-14   4.22695243e-14   3.29049693e-14\n",
      "    8.10633890e-14]\n",
      " [  6.76880668e-15   6.30345768e-15   4.22105676e-15   5.89832011e-15\n",
      "    1.57037011e-14]\n",
      " [  1.73027484e-14   2.69444811e-15   4.89764586e-14   4.88384499e-14\n",
      "    3.73303374e-14]\n",
      " [  1.49021974e-14   7.12180697e-15   1.07729831e-14   1.81531801e-14\n",
      "    3.72476918e-14]\n",
      " [  2.26782975e-14   1.46285617e-14   2.28767784e-14   2.67825797e-14\n",
      "    4.63779965e-14]\n",
      " [  1.08142031e-14   1.44146566e-14   8.33822052e-15   1.97515095e-14\n",
      "    3.27728289e-14]\n",
      " [  2.88824495e-14   4.61370578e-14   1.99234565e-14   2.25741640e-14\n",
      "    8.71982291e-14]\n",
      " [  1.85509296e-14   5.55816667e-15   2.47893305e-15   1.62243218e-14\n",
      "    1.84826398e-14]\n",
      " [  8.89108284e-15   8.60310238e-15   1.57427305e-14   2.18578216e-14\n",
      "    3.61281770e-14]\n",
      " [  1.92567953e-14   4.28160120e-15   2.08414003e-15   1.22434271e-14\n",
      "    1.81114701e-14]\n",
      " [  6.30580590e-14   3.62603276e-14   1.59102570e-14   2.59371206e-14\n",
      "    6.78890483e-14]\n",
      " [  7.65132254e-15   3.23774935e-15   2.71551741e-15   1.02230250e-14\n",
      "    4.87284111e-15]\n",
      " [  3.81634801e-14   1.34554422e-14   3.65037814e-14   2.02394426e-14\n",
      "    3.77053152e-14]\n",
      " [  5.09766182e-15   3.40825813e-15   3.58238823e-15   5.64498689e-15\n",
      "    5.78218427e-15]\n",
      " [  1.35208996e-14   5.99639165e-15   8.51953954e-15   8.59882537e-15\n",
      "    2.41271457e-14]\n",
      " [  1.25692352e-14   2.86322745e-15   9.36423691e-16   7.12155716e-15\n",
      "    1.94533332e-14]\n",
      " [  1.10838147e-14   2.64218374e-15   2.99651640e-15   1.40025678e-14\n",
      "    1.49251747e-14]\n",
      " [  6.39298685e-15   9.78582965e-15   1.85936716e-15   5.04550607e-15\n",
      "    1.34380140e-14]\n",
      " [  5.04484226e-15   3.64400635e-15   4.96307956e-15   4.62587875e-15\n",
      "    9.80201607e-15]\n",
      " [  1.07882777e-14   9.18221303e-15   2.65908822e-15   2.71443379e-14\n",
      "    1.34844254e-14]\n",
      " [  1.23773957e-14   8.08405699e-15   2.72080220e-15   4.66364922e-15\n",
      "    2.38437691e-14]\n",
      " [  3.64761650e-14   1.82429476e-14   8.33469840e-15   2.96488209e-14\n",
      "    7.91577111e-14]\n",
      " [  3.52747341e-14   2.87629639e-14   9.96406348e-15   2.53262593e-14\n",
      "    5.35759778e-14]\n",
      " [  3.34196079e-14   2.37476338e-14   1.46845467e-14   3.17330327e-14\n",
      "    7.31169197e-14]\n",
      " [  1.19101985e-14   5.19976977e-15   8.62198824e-15   9.25867458e-15\n",
      "    2.20920395e-14]\n",
      " [  2.67462142e-14   1.42663081e-14   8.44762352e-15   2.49289418e-14\n",
      "    5.89082332e-14]\n",
      " [  4.90718031e-15   4.39553900e-15   1.44490005e-15   2.79790542e-15\n",
      "    1.04362465e-14]\n",
      " [  3.91881490e-14   2.60098378e-15   9.20710427e-15   3.09592947e-14\n",
      "    5.41551982e-14]]\n"
     ]
    }
   ],
   "source": [
    "parameters = {'kernel':('linear', 'rbf','poly','sigmoid'), 'C':[1, 10,100,1000],'gamma':[0.01,.002,0.003]}\n",
    "svc = svm.SVC()\n",
    "### Here is the leaveout\n",
    "cn=0\n",
    "pos=[1,6,11,16]; # This is the cluster number lhpos=[3,8,13,19],j=i+2 rhpos=[1,6,11,16], j=i+2\n",
    "a=['Theta',\"alpha\",'beta', 'gamma']\n",
    "for i in pos:\n",
    "    j=i+5\n",
    "    X=dataset.iloc[:,i:j].values;# theta:1-6, alpha=6-11, beta=11-16: gamma=16-21 # 1-3 RH, 3-5 LH\n",
    "    #print X\n",
    "    X_scaled = preprocessing.scale(X)\n",
    "    y=dataset.iloc[:,0].values\n",
    "    print X"
   ]
  },
  {
   "cell_type": "code",
   "execution_count": null,
   "metadata": {
    "collapsed": true
   },
   "outputs": [],
   "source": []
  }
 ],
 "metadata": {
  "kernelspec": {
   "display_name": "Python 2",
   "language": "python",
   "name": "python2"
  },
  "language_info": {
   "codemirror_mode": {
    "name": "ipython",
    "version": 2
   },
   "file_extension": ".py",
   "mimetype": "text/x-python",
   "name": "python",
   "nbconvert_exporter": "python",
   "pygments_lexer": "ipython2",
   "version": "2.7.13"
  }
 },
 "nbformat": 4,
 "nbformat_minor": 2
}
