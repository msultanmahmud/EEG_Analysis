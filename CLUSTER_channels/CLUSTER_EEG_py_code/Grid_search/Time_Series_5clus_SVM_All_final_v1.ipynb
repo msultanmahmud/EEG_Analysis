{
 "cells": [
  {
   "cell_type": "code",
   "execution_count": 91,
   "metadata": {
    "collapsed": true
   },
   "outputs": [],
   "source": [
    "import numpy as np\n",
    "import pandas as pd\n",
    "import matplotlib.pyplot as plt\n",
    "from sklearn import preprocessing\n",
    "from sklearn import svm, metrics\n",
    "from sklearn.model_selection import train_test_split, GridSearchCV,cross_val_score,ShuffleSplit\n",
    "from sklearn.metrics import accuracy_score,confusion_matrix,roc_curve, auc\n",
    "from matplotlib import pyplot as plt\n",
    "from collections import Counter\n",
    "from scipy.stats import norm, zscore\n",
    "#import seaborn as sns; sns.set(font_scale=1.2)\n",
    "%matplotlib inline"
   ]
  },
  {
   "cell_type": "markdown",
   "metadata": {},
   "source": [
    "# Classification of clear speech-detection"
   ]
  },
  {
   "cell_type": "code",
   "execution_count": 92,
   "metadata": {
    "collapsed": false
   },
   "outputs": [
    {
     "name": "stdout",
     "output_type": "stream",
     "text": [
      "Total rows: 32\n"
     ]
    }
   ],
   "source": [
    "pathr=\"C:/Users/Sultan/OneDrive - The University of Memphis/RESEARCH2017S/CLUSTER_channels/S_E12/\"\n",
    "fnamecl='Allsube12.xlsx'\n",
    "d=pd.read_excel(pathr+fnamecl)\n",
    "print(\"Total rows: {0}\".format(len(d)))"
   ]
  },
  {
   "cell_type": "code",
   "execution_count": 106,
   "metadata": {
    "collapsed": false
   },
   "outputs": [],
   "source": [
    "# allacc=[];\n",
    "# for count in range(2,108):\n",
    "#     dpc=[];yc=[];\n",
    "#     for i in range(3):\n",
    "#         a=[]\n",
    "#         k=0\n",
    "#         for j in range(5):\n",
    "#             #print i,k\n",
    "#             dd=d.values[i,k+count]\n",
    "#             #b=np.concatenate((M,dd),axis=0)\n",
    "#             j+=1\n",
    "#             k=106*j\n",
    "#             a.append(dd)      \n",
    "#         y=d.values[i,0]\n",
    "#         a.append(y)\n",
    "#         dpc.append(a)\n",
    "#         c=pd.DataFrame(dpc)\n",
    "#         X=c.iloc[:,0:5]\n",
    "#         labels=c.iloc[:,5]"
   ]
  },
  {
   "cell_type": "code",
   "execution_count": null,
   "metadata": {
    "collapsed": false
   },
   "outputs": [],
   "source": []
  },
  {
   "cell_type": "code",
   "execution_count": 108,
   "metadata": {
    "collapsed": false
   },
   "outputs": [
    {
     "data": {
      "text/plain": [
       "<matplotlib.text.Text at 0xf2d0390>"
      ]
     },
     "execution_count": 108,
     "metadata": {},
     "output_type": "execute_result"
    },
    {
     "data": {
      "image/png": "[encoded data removed]",
      "text/plain": [
       "<matplotlib.figure.Figure at 0xdde0e10>"
      ]
     },
     "metadata": {},
     "output_type": "display_data"
    }
   ],
   "source": [
    "allacc=[];\n",
    "for count in range(2,108):# Number of sample in the data\n",
    "    dpc=[];yc=[];\n",
    "    for i in range(32):\n",
    "        a=[]\n",
    "        k=0\n",
    "        for j in range(5):\n",
    "            #print i,k\n",
    "            dd=d.values[i,k+count] # data separate each sample\n",
    "            #b=np.concatenate((M,dd),axis=0)\n",
    "            j+=1\n",
    "            k=106*j\n",
    "            a.append(dd)      \n",
    "        y=d.values[i,0]; # Label first column\n",
    "        a.append(y)\n",
    "        dpc.append(a)\n",
    "        c=pd.DataFrame(dpc)\n",
    "        X=c.iloc[:,0:5]\n",
    "        labels=c.iloc[:,5]\n",
    "        #print y\n",
    "    #print X\n",
    "    X_scaled = preprocessing.scale(X)\n",
    "    X_train, X_test, y_train, y_test = train_test_split(X_scaled,labels, test_size=.20, random_state=40) \n",
    "    #par=np.unique(y_test,return_counts=True)\n",
    "    cv = ShuffleSplit(n_splits=5, test_size=0.20, random_state=0)\n",
    "    parameters = {'kernel':('linear', 'rbf','poly'), 'C':[1, 10,100],'gamma':[0.01,.002]}\n",
    "    svc = svm.SVC()\n",
    "    clf = GridSearchCV(svc, parameters,cv=cv)\n",
    "    clf.fit(X_train, y_train)\n",
    "    accf= clf.cv_results_['mean_test_score']\n",
    "    accf\n",
    "    acc=accuracy_score(clf.best_estimator_.predict(X_test),y_test)\n",
    "    allacc.append(acc)\n",
    "    Acd=pd.DataFrame(allacc)\n",
    "    #print acc*100.0\n",
    "t=np.linspace(-10,200,106)\n",
    "#Acd.plot(kind='line',ylim=[0,1])\n",
    "plt.plot(t,Acd,c='k')\n",
    "plt.xlabel('Time (ms)')\n",
    "plt.ylabel('% Accuracy')\n",
    "#print par"
   ]
  },
  {
   "cell_type": "code",
   "execution_count": 1,
   "metadata": {
    "collapsed": false
   },
   "outputs": [],
   "source": [
    "#c"
   ]
  },
  {
   "cell_type": "code",
   "execution_count": 29,
   "metadata": {
    "collapsed": false
   },
   "outputs": [
    {
     "name": "stdout",
     "output_type": "stream",
     "text": [
      "       0         0\n",
      "25  40.0  0.857143\n",
      "26  42.0  1.000000\n",
      "27  44.0  0.857143\n",
      "28  46.0  0.857143\n",
      "29  48.0  0.857143\n",
      "30  50.0  0.857143\n",
      "31  52.0  1.000000\n",
      "32  54.0  1.000000\n",
      "33  56.0  0.857143 \n",
      "The average accuracy over the time is: 90.4761904762\n"
     ]
    }
   ],
   "source": [
    "#print par\n",
    "time=pd.DataFrame(t)\n",
    "tad=pd.concat([time, Acd],axis=1)\n",
    "selt=tad.iloc[25:34]\n",
    "av=selt.mean()\n",
    "print selt,'\\n','The average accuracy over the time is:', av.iloc[1]*100.0\n",
    "#print tad.iloc[20:42]\n",
    "#tad.to_csv('clear_speech_classi.csv')"
   ]
  },
  {
   "cell_type": "code",
   "execution_count": 9,
   "metadata": {
    "collapsed": false
   },
   "outputs": [
    {
     "data": {
      "text/plain": [
       "<matplotlib.text.Text at 0xca5c7b8>"
      ]
     },
     "execution_count": 9,
     "metadata": {},
     "output_type": "execute_result"
    },
    {
     "data": {
      "image/png": "[encoded data removed]",
      "text/plain": [
       "<matplotlib.figure.Figure at 0xca5ff28>"
      ]
     },
     "metadata": {},
     "output_type": "display_data"
    }
   ],
   "source": [
    "t1=tad.iloc[5:,0];Acd1=tad.iloc[5:,1];\n",
    "plt.plot(t1,Acd1,c='g')\n",
    "plt.xlabel('Time (ms)')\n",
    "plt.ylabel('% Accuracy')"
   ]
  },
  {
   "cell_type": "markdown",
   "metadata": {},
   "source": [
    "# Classification of noise-degraded speech classification"
   ]
  },
  {
   "cell_type": "code",
   "execution_count": 25,
   "metadata": {
    "collapsed": false
   },
   "outputs": [
    {
     "name": "stdout",
     "output_type": "stream",
     "text": [
      "Total rows: 32\n"
     ]
    }
   ],
   "source": [
    "pathr=\"C:/Users/Sultan/OneDrive - The University of Memphis/RESEARCH2017S/CLUSTER_channels/S_E12/\"\n",
    "fnameno='Allsuballnoise.xlsx'\n",
    "dn=pd.read_excel(pathr+fnameno)\n",
    "print(\"Total rows: {0}\".format(len(dn)))"
   ]
  },
  {
   "cell_type": "code",
   "execution_count": 20,
   "metadata": {
    "collapsed": false
   },
   "outputs": [
    {
     "data": {
      "text/plain": [
       "<matplotlib.text.Text at 0xe3d0fd0>"
      ]
     },
     "execution_count": 20,
     "metadata": {},
     "output_type": "execute_result"
    },
    {
     "data": {
      "image/png": "[encoded data removed]",
      "text/plain": [
       "<matplotlib.figure.Figure at 0xe0a2d68>"
      ]
     },
     "metadata": {},
     "output_type": "display_data"
    }
   ],
   "source": [
    "allacc=[];\n",
    "for count in range(2,108):\n",
    "    dpc=[];yc=[];\n",
    "    for i in range(32):\n",
    "        a=[]\n",
    "        k=0\n",
    "        for j in range(5):\n",
    "            #print i,k\n",
    "            dd=dn.values[i,k+count]\n",
    "            #b=np.concatenate((M,dd),axis=0)\n",
    "            j+=1\n",
    "            k=106*j\n",
    "            a.append(dd)      \n",
    "        y=dn.values[i,0]\n",
    "        a.append(y)\n",
    "        dpc.append(a)\n",
    "        c=pd.DataFrame(dpc)\n",
    "        X=c.iloc[:,0:5]\n",
    "        labels=c.iloc[:,5]\n",
    "#         #print y\n",
    "#     #print X\n",
    "#     X_scaled = preprocessing.scale(X)\n",
    "#     X_train, X_test, y_train, y_test = train_test_split(X_scaled,labels, test_size=.20, random_state=40) \n",
    "#     #par=np.unique(y_test,return_counts=True)\n",
    "#     cv = ShuffleSplit(n_splits=5, test_size=0.20, random_state=0)\n",
    "#     parameters = {'kernel':('linear', 'rbf','poly'), 'C':[1, 10,100],'gamma':[0.01,.002]}\n",
    "#     svc = svm.SVC()\n",
    "#     clf = GridSearchCV(svc, parameters,cv=cv)\n",
    "#     clf.fit(X_train, y_train)\n",
    "#     accf= clf.cv_results_['mean_test_score']\n",
    "#     accf\n",
    "#     acc=accuracy_score(clf.best_estimator_.predict(X_test),y_test)\n",
    "#     allacc.append(acc)\n",
    "#     Acdn=pd.DataFrame(allacc)\n",
    "#     #print acc*100.0\n",
    "# t=np.linspace(-10,200,106)\n",
    "# #Acd.plot(kind='line',ylim=[0,1])\n",
    "# plt.plot(t,Acdn,c='r')\n",
    "# plt.xlabel('Time (ms)')\n",
    "# plt.ylabel('% Accuracy')\n",
    "# #print par"
   ]
  },
  {
   "cell_type": "code",
   "execution_count": 28,
   "metadata": {
    "collapsed": false
   },
   "outputs": [
    {
     "name": "stdout",
     "output_type": "stream",
     "text": [
      "        0         0\n",
      "53   96.0  0.857143\n",
      "54   98.0  0.857143\n",
      "55  100.0  1.000000\n",
      "56  102.0  0.857143\n",
      "57  104.0  0.571429\n",
      "58  106.0  0.857143\n",
      "59  108.0  0.857143\n",
      "60  110.0  1.000000\n",
      "61  112.0  1.000000\n",
      "62  114.0  0.857143 \n",
      "The average accuracy over the time is: 87.1428571429\n"
     ]
    }
   ],
   "source": [
    "#print par\n",
    "time=pd.DataFrame(t)\n",
    "tadn=pd.concat([time, Acdn],axis=1)\n",
    "seltn=tadn.iloc[53:63]\n",
    "av=seltn.mean()\n",
    "print seltn,'\\n','The average accuracy over the time is:', av.iloc[1]*100.0\n",
    "#print tad.iloc[40:60]\n",
    "#tadn.to_csv('Noise-degraded.csv')"
   ]
  },
  {
   "cell_type": "code",
   "execution_count": null,
   "metadata": {
    "collapsed": true
   },
   "outputs": [],
   "source": [
    "t1=tad.iloc[5:,0];Acd1=tad.iloc[5:,1];\n",
    "plt.plot(t1,Acd1,c='g')\n",
    "plt.xlabel('Time (ms)')\n",
    "plt.ylabel('% Accuracy')"
   ]
  },
  {
   "cell_type": "markdown",
   "metadata": {
    "collapsed": true
   },
   "source": [
    "# Classification of NH & HL from clear and noise-degraded"
   ]
  },
  {
   "cell_type": "code",
   "execution_count": 52,
   "metadata": {
    "collapsed": false
   },
   "outputs": [
    {
     "name": "stdout",
     "output_type": "stream",
     "text": [
      "(64, 534) (32, 532)\n"
     ]
    }
   ],
   "source": [
    "# Allclno=pd.concat([d,dn],join_axes=None,axis=0)\n",
    "# print Allclno.shape, d.shape"
   ]
  },
  {
   "cell_type": "code",
   "execution_count": 59,
   "metadata": {
    "collapsed": false
   },
   "outputs": [
    {
     "name": "stdout",
     "output_type": "stream",
     "text": [
      "Total rows: (64, 532)\n"
     ]
    }
   ],
   "source": [
    "pathr=\"C:/Users/Sultan/OneDrive - The University of Memphis/RESEARCH2017S/CLUSTER_channels/S_E12/\"\n",
    "fnameall='Allsube_clean_noise.xlsx'\n",
    "dall=pd.read_excel(pathr+fnameall)\n",
    "print(\"Total rows: {0}\".format(dall.shape))"
   ]
  },
  {
   "cell_type": "code",
   "execution_count": 77,
   "metadata": {
    "collapsed": false
   },
   "outputs": [
    {
     "data": {
      "text/plain": [
       "<matplotlib.text.Text at 0xeef0e48>"
      ]
     },
     "execution_count": 77,
     "metadata": {},
     "output_type": "execute_result"
    },
    {
     "data": {
      "image/png": "[encoded data removed]",
      "text/plain": [
       "<matplotlib.figure.Figure at 0xddd7d30>"
      ]
     },
     "metadata": {},
     "output_type": "display_data"
    }
   ],
   "source": [
    "allacc=[];\n",
    "for count in range(2,108):\n",
    "    dpc=[];yc=[];\n",
    "    for i in range(1,64):\n",
    "        a=[]\n",
    "        k=0\n",
    "        for j in range(5):\n",
    "            #print i,k\n",
    "            dd=dall.values[i,k+count]; # dall is the data matrix\n",
    "            #b=np.concatenate((M,dd),axis=0)\n",
    "            j+=1\n",
    "            k=106*j\n",
    "            a.append(dd)      \n",
    "        y=dall.values[i,0] # dall is the data matrix\n",
    "        a.append(y)\n",
    "        dpc.append(a)\n",
    "        c=pd.DataFrame(dpc)\n",
    "        X=c.iloc[:,0:5]\n",
    "        labels=c.iloc[:,5]\n",
    "        #print y\n",
    "    #print X\n",
    "    X_scaled = preprocessing.scale(X)\n",
    "    X_train, X_test, y_train, y_test = train_test_split(X_scaled,labels, test_size=.20, random_state=40) \n",
    "    #par=np.unique(y_test,return_counts=True)\n",
    "    cv = ShuffleSplit(n_splits=5, test_size=0.20, random_state=0)\n",
    "    parameters = {'kernel':('linear', 'rbf','poly'), 'C':[1, 10,100],'gamma':[0.01,.002]}\n",
    "    svc = svm.SVC()\n",
    "    clf = GridSearchCV(svc, parameters,cv=cv)\n",
    "    clf.fit(X_train, y_train)\n",
    "    accf= clf.cv_results_['mean_test_score']\n",
    "    accf\n",
    "    acc=accuracy_score(clf.best_estimator_.predict(X_test),y_test)\n",
    "    allacc.append(acc)\n",
    "    Acdall=pd.DataFrame(allacc)\n",
    "    #print acc*100.0\n",
    "t=np.linspace(-10,200,106)\n",
    "#Acd.plot(kind='line',ylim=[0,1])\n",
    "plt.plot(t,Acdall,c='b')\n",
    "plt.xlabel('Time (ms)')\n",
    "plt.ylabel('% Accuracy')\n",
    "#print par"
   ]
  },
  {
   "cell_type": "code",
   "execution_count": 86,
   "metadata": {
    "collapsed": false
   },
   "outputs": [
    {
     "name": "stdout",
     "output_type": "stream",
     "text": [
      "        0         0\n",
      "53   96.0  0.769231\n",
      "54   98.0  0.769231\n",
      "55  100.0  0.692308\n",
      "56  102.0  0.692308\n",
      "57  104.0  0.769231\n",
      "58  106.0  0.692308\n",
      "59  108.0  0.769231\n",
      "60  110.0  0.692308\n",
      "61  112.0  0.846154\n",
      "62  114.0  0.769231\n",
      "63  116.0  0.769231\n",
      "64  118.0  0.769231 \n",
      "The average accuracy over the time is: 75.0\n"
     ]
    },
    {
     "data": {
      "text/plain": [
       "0    200.000000\n",
       "0      0.846154\n",
       "dtype: float64"
      ]
     },
     "execution_count": 86,
     "metadata": {},
     "output_type": "execute_result"
    }
   ],
   "source": [
    "#print par\n",
    "time=pd.DataFrame(t)\n",
    "tadn=pd.concat([time, Acdn],axis=1)\n",
    "seltn=tadn.iloc[53:65]\n",
    "av=seltn.mean()\n",
    "print seltn,'\\n','The average accuracy over the time is:', av.iloc[1]*100.0\n",
    "#print tad.iloc[40:60]\n",
    "#tadn.to_csv('Noise-degraded.csv')\n",
    "tadn.max(axis=0)"
   ]
  }
 ],
 "metadata": {
  "kernelspec": {
   "display_name": "Python 2",
   "language": "python",
   "name": "python2"
  },
  "language_info": {
   "codemirror_mode": {
    "name": "ipython",
    "version": 2
   },
   "file_extension": ".py",
   "mimetype": "text/x-python",
   "name": "python",
   "nbconvert_exporter": "python",
   "pygments_lexer": "ipython2",
   "version": "2.7.13"
  }
 },
 "nbformat": 4,
 "nbformat_minor": 2
}
