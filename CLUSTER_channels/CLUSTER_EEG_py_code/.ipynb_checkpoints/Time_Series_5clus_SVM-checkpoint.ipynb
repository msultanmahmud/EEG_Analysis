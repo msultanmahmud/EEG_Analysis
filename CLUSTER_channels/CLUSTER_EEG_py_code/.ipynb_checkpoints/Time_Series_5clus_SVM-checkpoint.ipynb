{
 "cells": [
  {
   "cell_type": "code",
   "execution_count": 42,
   "metadata": {
    "collapsed": true
   },
   "outputs": [],
   "source": [
    "import numpy as np\n",
    "import pandas as pd\n",
    "import matplotlib.pyplot as plt\n",
    "from sklearn import preprocessing\n",
    "from sklearn import svm, metrics\n",
    "from sklearn.model_selection import train_test_split, GridSearchCV,cross_val_score,ShuffleSplit\n",
    "from sklearn.metrics import accuracy_score,confusion_matrix,roc_curve, auc\n",
    "from matplotlib import pyplot as plt\n",
    "from collections import Counter\n",
    "from scipy.stats import norm, zscore\n",
    "#import seaborn as sns; sns.set(font_scale=1.2)\n",
    "%matplotlib inline"
   ]
  },
  {
   "cell_type": "code",
   "execution_count": 43,
   "metadata": {
    "collapsed": false
   },
   "outputs": [
    {
     "name": "stdout",
     "output_type": "stream",
     "text": [
      "Total rows: 32\n"
     ]
    }
   ],
   "source": [
    "pathr=\"C:/Users/Sultan/OneDrive - The University of Memphis/RESEARCH2017S/CLUSTER_channels/S_E12/\"\n",
    "fname='Allsube12.xlsx'\n",
    "d=pd.read_excel(pathr+fname)\n",
    "print(\"Total rows: {0}\".format(len(d)))"
   ]
  },
  {
   "cell_type": "code",
   "execution_count": 47,
   "metadata": {
    "collapsed": false
   },
   "outputs": [
    {
     "data": {
      "text/plain": [
       "<matplotlib.text.Text at 0x109b0cf8>"
      ]
     },
     "execution_count": 47,
     "metadata": {},
     "output_type": "execute_result"
    },
    {
     "data": {
      "image/png": "[encoded data removed]",
      "text/plain": [
       "<matplotlib.figure.Figure at 0x10c5f2e8>"
      ]
     },
     "metadata": {},
     "output_type": "display_data"
    }
   ],
   "source": [
    "allacc=[];\n",
    "for count in range(2,108):\n",
    "    dpc=[];yc=[];\n",
    "    for i in range(32):\n",
    "        a=[]\n",
    "        k=0\n",
    "        for j in range(5):\n",
    "            #print i,k\n",
    "            dd=d.values[i,k+count]\n",
    "            #b=np.concatenate((M,dd),axis=0)\n",
    "            j+=1\n",
    "            k=106*j\n",
    "            a.append(dd)      \n",
    "        y=d.values[i,0]\n",
    "        a.append(y)\n",
    "        dpc.append(a)\n",
    "        c=pd.DataFrame(dpc)\n",
    "        X=c.iloc[:,0:5]\n",
    "        labels=c.iloc[:,5]\n",
    "        #print y\n",
    "    #print X\n",
    "    X_scaled = preprocessing.scale(X)\n",
    "    X_train, X_test, y_train, y_test = train_test_split(X_scaled,labels, test_size=.20, random_state=40) \n",
    "    #par=np.unique(y_test,return_counts=True)\n",
    "    cv = ShuffleSplit(n_splits=5, test_size=0.20, random_state=0)\n",
    "    parameters = {'kernel':('linear', 'rbf','poly'), 'C':[1, 10,100],'gamma':[0.01,.002]}\n",
    "    svc = svm.SVC()\n",
    "    clf = GridSearchCV(svc, parameters,cv=cv)\n",
    "    clf.fit(X_train, y_train)\n",
    "    accf= clf.cv_results_['mean_test_score']\n",
    "    accf\n",
    "    acc=accuracy_score(clf.best_estimator_.predict(X_test),y_test)\n",
    "    allacc.append(acc)\n",
    "    Acd=pd.DataFrame(allacc)\n",
    "    #print acc*100.0\n",
    "t=np.linspace(-10,200,106)\n",
    "#Acd.plot(kind='line',ylim=[0,1])\n",
    "plt.plot(t,Acd)\n",
    "plt.xlabel('Time (ms)')\n",
    "plt.ylabel('% Accuracy')\n",
    "#print par"
   ]
  },
  {
   "cell_type": "code",
   "execution_count": 55,
   "metadata": {
    "collapsed": false
   },
   "outputs": [
    {
     "name": "stdout",
     "output_type": "stream",
     "text": [
      "       0         0\n",
      "25  40.0  0.857143\n",
      "26  42.0  1.000000\n",
      "27  44.0  0.857143\n",
      "28  46.0  0.857143\n",
      "29  48.0  0.857143\n",
      "30  50.0  0.857143\n",
      "31  52.0  1.000000\n",
      "32  54.0  1.000000\n",
      "33  56.0  0.857143 \n",
      "The average accuracy over the time is: 90.4761904762\n"
     ]
    }
   ],
   "source": [
    "#print par\n",
    "time=pd.DataFrame(t)\n",
    "tad=pd.concat([time, Acd],axis=1)\n",
    "selt=tad.iloc[25:34]\n",
    "av=selt.mean()\n",
    "print selt,'\\n','The average accuracy over the time is:', av.iloc[1]*100.0\n",
    "#print tad.iloc[20:42]"
   ]
  },
  {
   "cell_type": "code",
   "execution_count": 51,
   "metadata": {
    "collapsed": false
   },
   "outputs": [
    {
     "data": {
      "text/html": [
       "<div>\n",
       "<table border=\"1\" class=\"dataframe\">\n",
       "  <thead>\n",
       "    <tr style=\"text-align: right;\">\n",
       "      <th></th>\n",
       "      <th>0</th>\n",
       "      <th>0</th>\n",
       "    </tr>\n",
       "  </thead>\n",
       "  <tbody>\n",
       "    <tr>\n",
       "      <th>0</th>\n",
       "      <td>-10.0</td>\n",
       "      <td>0.714286</td>\n",
       "    </tr>\n",
       "    <tr>\n",
       "      <th>1</th>\n",
       "      <td>-8.0</td>\n",
       "      <td>0.714286</td>\n",
       "    </tr>\n",
       "    <tr>\n",
       "      <th>2</th>\n",
       "      <td>-6.0</td>\n",
       "      <td>0.857143</td>\n",
       "    </tr>\n",
       "    <tr>\n",
       "      <th>3</th>\n",
       "      <td>-4.0</td>\n",
       "      <td>0.714286</td>\n",
       "    </tr>\n",
       "    <tr>\n",
       "      <th>4</th>\n",
       "      <td>-2.0</td>\n",
       "      <td>0.857143</td>\n",
       "    </tr>\n",
       "    <tr>\n",
       "      <th>5</th>\n",
       "      <td>0.0</td>\n",
       "      <td>0.857143</td>\n",
       "    </tr>\n",
       "    <tr>\n",
       "      <th>6</th>\n",
       "      <td>2.0</td>\n",
       "      <td>0.857143</td>\n",
       "    </tr>\n",
       "    <tr>\n",
       "      <th>7</th>\n",
       "      <td>4.0</td>\n",
       "      <td>0.857143</td>\n",
       "    </tr>\n",
       "    <tr>\n",
       "      <th>8</th>\n",
       "      <td>6.0</td>\n",
       "      <td>0.857143</td>\n",
       "    </tr>\n",
       "    <tr>\n",
       "      <th>9</th>\n",
       "      <td>8.0</td>\n",
       "      <td>0.857143</td>\n",
       "    </tr>\n",
       "    <tr>\n",
       "      <th>10</th>\n",
       "      <td>10.0</td>\n",
       "      <td>0.428571</td>\n",
       "    </tr>\n",
       "    <tr>\n",
       "      <th>11</th>\n",
       "      <td>12.0</td>\n",
       "      <td>0.428571</td>\n",
       "    </tr>\n",
       "    <tr>\n",
       "      <th>12</th>\n",
       "      <td>14.0</td>\n",
       "      <td>0.428571</td>\n",
       "    </tr>\n",
       "    <tr>\n",
       "      <th>13</th>\n",
       "      <td>16.0</td>\n",
       "      <td>0.428571</td>\n",
       "    </tr>\n",
       "    <tr>\n",
       "      <th>14</th>\n",
       "      <td>18.0</td>\n",
       "      <td>0.857143</td>\n",
       "    </tr>\n",
       "    <tr>\n",
       "      <th>15</th>\n",
       "      <td>20.0</td>\n",
       "      <td>0.857143</td>\n",
       "    </tr>\n",
       "    <tr>\n",
       "      <th>16</th>\n",
       "      <td>22.0</td>\n",
       "      <td>0.571429</td>\n",
       "    </tr>\n",
       "    <tr>\n",
       "      <th>17</th>\n",
       "      <td>24.0</td>\n",
       "      <td>0.714286</td>\n",
       "    </tr>\n",
       "    <tr>\n",
       "      <th>18</th>\n",
       "      <td>26.0</td>\n",
       "      <td>0.714286</td>\n",
       "    </tr>\n",
       "    <tr>\n",
       "      <th>19</th>\n",
       "      <td>28.0</td>\n",
       "      <td>0.714286</td>\n",
       "    </tr>\n",
       "    <tr>\n",
       "      <th>20</th>\n",
       "      <td>30.0</td>\n",
       "      <td>0.428571</td>\n",
       "    </tr>\n",
       "    <tr>\n",
       "      <th>21</th>\n",
       "      <td>32.0</td>\n",
       "      <td>0.857143</td>\n",
       "    </tr>\n",
       "    <tr>\n",
       "      <th>22</th>\n",
       "      <td>34.0</td>\n",
       "      <td>0.857143</td>\n",
       "    </tr>\n",
       "    <tr>\n",
       "      <th>23</th>\n",
       "      <td>36.0</td>\n",
       "      <td>0.857143</td>\n",
       "    </tr>\n",
       "    <tr>\n",
       "      <th>24</th>\n",
       "      <td>38.0</td>\n",
       "      <td>0.714286</td>\n",
       "    </tr>\n",
       "    <tr>\n",
       "      <th>25</th>\n",
       "      <td>40.0</td>\n",
       "      <td>0.857143</td>\n",
       "    </tr>\n",
       "    <tr>\n",
       "      <th>26</th>\n",
       "      <td>42.0</td>\n",
       "      <td>1.000000</td>\n",
       "    </tr>\n",
       "    <tr>\n",
       "      <th>27</th>\n",
       "      <td>44.0</td>\n",
       "      <td>0.857143</td>\n",
       "    </tr>\n",
       "    <tr>\n",
       "      <th>28</th>\n",
       "      <td>46.0</td>\n",
       "      <td>0.857143</td>\n",
       "    </tr>\n",
       "    <tr>\n",
       "      <th>29</th>\n",
       "      <td>48.0</td>\n",
       "      <td>0.857143</td>\n",
       "    </tr>\n",
       "    <tr>\n",
       "      <th>...</th>\n",
       "      <td>...</td>\n",
       "      <td>...</td>\n",
       "    </tr>\n",
       "    <tr>\n",
       "      <th>76</th>\n",
       "      <td>142.0</td>\n",
       "      <td>0.714286</td>\n",
       "    </tr>\n",
       "    <tr>\n",
       "      <th>77</th>\n",
       "      <td>144.0</td>\n",
       "      <td>0.714286</td>\n",
       "    </tr>\n",
       "    <tr>\n",
       "      <th>78</th>\n",
       "      <td>146.0</td>\n",
       "      <td>0.571429</td>\n",
       "    </tr>\n",
       "    <tr>\n",
       "      <th>79</th>\n",
       "      <td>148.0</td>\n",
       "      <td>0.571429</td>\n",
       "    </tr>\n",
       "    <tr>\n",
       "      <th>80</th>\n",
       "      <td>150.0</td>\n",
       "      <td>0.571429</td>\n",
       "    </tr>\n",
       "    <tr>\n",
       "      <th>81</th>\n",
       "      <td>152.0</td>\n",
       "      <td>0.571429</td>\n",
       "    </tr>\n",
       "    <tr>\n",
       "      <th>82</th>\n",
       "      <td>154.0</td>\n",
       "      <td>0.428571</td>\n",
       "    </tr>\n",
       "    <tr>\n",
       "      <th>83</th>\n",
       "      <td>156.0</td>\n",
       "      <td>0.428571</td>\n",
       "    </tr>\n",
       "    <tr>\n",
       "      <th>84</th>\n",
       "      <td>158.0</td>\n",
       "      <td>0.428571</td>\n",
       "    </tr>\n",
       "    <tr>\n",
       "      <th>85</th>\n",
       "      <td>160.0</td>\n",
       "      <td>0.857143</td>\n",
       "    </tr>\n",
       "    <tr>\n",
       "      <th>86</th>\n",
       "      <td>162.0</td>\n",
       "      <td>0.714286</td>\n",
       "    </tr>\n",
       "    <tr>\n",
       "      <th>87</th>\n",
       "      <td>164.0</td>\n",
       "      <td>0.714286</td>\n",
       "    </tr>\n",
       "    <tr>\n",
       "      <th>88</th>\n",
       "      <td>166.0</td>\n",
       "      <td>0.857143</td>\n",
       "    </tr>\n",
       "    <tr>\n",
       "      <th>89</th>\n",
       "      <td>168.0</td>\n",
       "      <td>0.857143</td>\n",
       "    </tr>\n",
       "    <tr>\n",
       "      <th>90</th>\n",
       "      <td>170.0</td>\n",
       "      <td>0.857143</td>\n",
       "    </tr>\n",
       "    <tr>\n",
       "      <th>91</th>\n",
       "      <td>172.0</td>\n",
       "      <td>0.857143</td>\n",
       "    </tr>\n",
       "    <tr>\n",
       "      <th>92</th>\n",
       "      <td>174.0</td>\n",
       "      <td>0.857143</td>\n",
       "    </tr>\n",
       "    <tr>\n",
       "      <th>93</th>\n",
       "      <td>176.0</td>\n",
       "      <td>0.857143</td>\n",
       "    </tr>\n",
       "    <tr>\n",
       "      <th>94</th>\n",
       "      <td>178.0</td>\n",
       "      <td>0.857143</td>\n",
       "    </tr>\n",
       "    <tr>\n",
       "      <th>95</th>\n",
       "      <td>180.0</td>\n",
       "      <td>0.857143</td>\n",
       "    </tr>\n",
       "    <tr>\n",
       "      <th>96</th>\n",
       "      <td>182.0</td>\n",
       "      <td>0.857143</td>\n",
       "    </tr>\n",
       "    <tr>\n",
       "      <th>97</th>\n",
       "      <td>184.0</td>\n",
       "      <td>0.857143</td>\n",
       "    </tr>\n",
       "    <tr>\n",
       "      <th>98</th>\n",
       "      <td>186.0</td>\n",
       "      <td>0.857143</td>\n",
       "    </tr>\n",
       "    <tr>\n",
       "      <th>99</th>\n",
       "      <td>188.0</td>\n",
       "      <td>0.857143</td>\n",
       "    </tr>\n",
       "    <tr>\n",
       "      <th>100</th>\n",
       "      <td>190.0</td>\n",
       "      <td>0.857143</td>\n",
       "    </tr>\n",
       "    <tr>\n",
       "      <th>101</th>\n",
       "      <td>192.0</td>\n",
       "      <td>0.857143</td>\n",
       "    </tr>\n",
       "    <tr>\n",
       "      <th>102</th>\n",
       "      <td>194.0</td>\n",
       "      <td>0.857143</td>\n",
       "    </tr>\n",
       "    <tr>\n",
       "      <th>103</th>\n",
       "      <td>196.0</td>\n",
       "      <td>0.571429</td>\n",
       "    </tr>\n",
       "    <tr>\n",
       "      <th>104</th>\n",
       "      <td>198.0</td>\n",
       "      <td>0.714286</td>\n",
       "    </tr>\n",
       "    <tr>\n",
       "      <th>105</th>\n",
       "      <td>200.0</td>\n",
       "      <td>0.714286</td>\n",
       "    </tr>\n",
       "  </tbody>\n",
       "</table>\n",
       "<p>106 rows × 2 columns</p>\n",
       "</div>"
      ],
      "text/plain": [
       "         0         0\n",
       "0    -10.0  0.714286\n",
       "1     -8.0  0.714286\n",
       "2     -6.0  0.857143\n",
       "3     -4.0  0.714286\n",
       "4     -2.0  0.857143\n",
       "5      0.0  0.857143\n",
       "6      2.0  0.857143\n",
       "7      4.0  0.857143\n",
       "8      6.0  0.857143\n",
       "9      8.0  0.857143\n",
       "10    10.0  0.428571\n",
       "11    12.0  0.428571\n",
       "12    14.0  0.428571\n",
       "13    16.0  0.428571\n",
       "14    18.0  0.857143\n",
       "15    20.0  0.857143\n",
       "16    22.0  0.571429\n",
       "17    24.0  0.714286\n",
       "18    26.0  0.714286\n",
       "19    28.0  0.714286\n",
       "20    30.0  0.428571\n",
       "21    32.0  0.857143\n",
       "22    34.0  0.857143\n",
       "23    36.0  0.857143\n",
       "24    38.0  0.714286\n",
       "25    40.0  0.857143\n",
       "26    42.0  1.000000\n",
       "27    44.0  0.857143\n",
       "28    46.0  0.857143\n",
       "29    48.0  0.857143\n",
       "..     ...       ...\n",
       "76   142.0  0.714286\n",
       "77   144.0  0.714286\n",
       "78   146.0  0.571429\n",
       "79   148.0  0.571429\n",
       "80   150.0  0.571429\n",
       "81   152.0  0.571429\n",
       "82   154.0  0.428571\n",
       "83   156.0  0.428571\n",
       "84   158.0  0.428571\n",
       "85   160.0  0.857143\n",
       "86   162.0  0.714286\n",
       "87   164.0  0.714286\n",
       "88   166.0  0.857143\n",
       "89   168.0  0.857143\n",
       "90   170.0  0.857143\n",
       "91   172.0  0.857143\n",
       "92   174.0  0.857143\n",
       "93   176.0  0.857143\n",
       "94   178.0  0.857143\n",
       "95   180.0  0.857143\n",
       "96   182.0  0.857143\n",
       "97   184.0  0.857143\n",
       "98   186.0  0.857143\n",
       "99   188.0  0.857143\n",
       "100  190.0  0.857143\n",
       "101  192.0  0.857143\n",
       "102  194.0  0.857143\n",
       "103  196.0  0.571429\n",
       "104  198.0  0.714286\n",
       "105  200.0  0.714286\n",
       "\n",
       "[106 rows x 2 columns]"
      ]
     },
     "execution_count": 51,
     "metadata": {},
     "output_type": "execute_result"
    }
   ],
   "source": [
    "tad"
   ]
  },
  {
   "cell_type": "code",
   "execution_count": 16,
   "metadata": {
    "collapsed": false
   },
   "outputs": [],
   "source": [
    "# for rs in range(1,30):\n",
    "#     allacc=[];\n",
    "#     for count in range(2,108):\n",
    "#         dpc=[];yc=[];\n",
    "#         for i in range(32):\n",
    "#             a=[]\n",
    "#             k=0\n",
    "#             for j in range(5):\n",
    "#                 #print i,k\n",
    "#                 dd=d.values[i,k+count]\n",
    "#                 #b=np.concatenate((M,dd),axis=0)\n",
    "#                 j+=1\n",
    "#                 k=106*j\n",
    "#                 a.append(dd)      \n",
    "#             y=d.values[i,0]\n",
    "#             a.append(y)\n",
    "#             dpc.append(a)\n",
    "#             c=pd.DataFrame(dpc)\n",
    "#             X=c.iloc[:,0:5]\n",
    "#             labels=c.iloc[:,5]\n",
    "#             #print y\n",
    "#         #print X\n",
    "#         X_scaled = preprocessing.scale(X)\n",
    "#         X_train, X_test, y_train, y_test = train_test_split(X_scaled,labels, test_size=.20, random_state=rs+39) \n",
    "#         par=np.unique(y_test,return_counts=True)\n",
    "#         cv = ShuffleSplit(n_splits=5, test_size=0.20, random_state=0)\n",
    "#         parameters = {'kernel':('linear', 'rbf','poly'), 'C':[1, 10,100],'gamma':[0.01,.002]}\n",
    "#         svc = svm.SVC()\n",
    "#         clf = GridSearchCV(svc, parameters,cv=cv)\n",
    "#         clf.fit(X_train, y_train)\n",
    "#         accf= clf.cv_results_['mean_test_score']\n",
    "#         accf\n",
    "#         acc=accuracy_score(clf.best_estimator_.predict(X_test),y_test)\n",
    "#         allacc.append(acc)\n",
    "#         Acd=pd.DataFrame(allacc)\n",
    "#         #print acc*100.0\n",
    "#     t=np.linspace(-10,200,106)\n",
    "#     #Acd.plot(kind='line',ylim=[0,1])\n",
    "#     plt.subplot(6,5,rs)\n",
    "#     plt.plot(t,Acd)\n",
    "#     plt.xlabel('Time (ms)')\n",
    "#     plt.ylabel('% Accuracy')\n",
    "#     print par"
   ]
  },
  {
   "cell_type": "code",
   "execution_count": 70,
   "metadata": {
    "collapsed": false
   },
   "outputs": [
    {
     "data": {
      "text/plain": [
       "<matplotlib.text.Text at 0x1146e358>"
      ]
     },
     "execution_count": 70,
     "metadata": {},
     "output_type": "execute_result"
    },
    {
     "data": {
      "image/png": "[encoded data removed]",
      "text/plain": [
       "<matplotlib.figure.Figure at 0xf6f0f98>"
      ]
     },
     "metadata": {},
     "output_type": "display_data"
    }
   ],
   "source": [
    "#random_state=40\n",
    "err=Acd.std()\n",
    "t=np.linspace(-10,200,106)\n",
    "#Acd.plot(kind='line',ylim=[0,1])\n",
    "plt.plot(t,Acd)\n",
    "plt.xlabel('Time (ms)')\n",
    "plt.ylabel('% Accuracy')"
   ]
  },
  {
   "cell_type": "code",
   "execution_count": 27,
   "metadata": {
    "collapsed": false
   },
   "outputs": [
    {
     "name": "stdout",
     "output_type": "stream",
     "text": [
      "107                0             1             2             3             4\n",
      "0  -9.229084e-08 -2.420425e-07 -2.080935e-07 -2.322872e-09 -1.680166e-07\n",
      "1  -2.921461e-07 -1.866280e-07 -5.000176e-08 -2.931705e-07 -4.537518e-07\n",
      "2  -1.863739e-07 -3.346961e-08 -1.338113e-08 -1.674055e-07 -2.517145e-07\n",
      "3  -1.221334e-07 -1.454894e-07 -2.884689e-07 -2.475780e-07 -5.148985e-07\n",
      "4  -1.141888e-07 -4.658440e-08 -6.409530e-08 -7.581603e-08 -1.928863e-07\n",
      "5  -3.211060e-07 -2.961430e-07 -8.282616e-08 -1.521762e-07 -4.164732e-07\n",
      "6  -8.612594e-08 -1.387397e-07 -9.475874e-08 -3.031170e-09 -1.980297e-07\n",
      "7  -2.225847e-07 -9.953513e-08 -6.444504e-08 -2.840590e-07 -4.310294e-07\n",
      "8  -1.796044e-07 -1.732866e-07 -1.469415e-08 -1.507244e-07 -2.209809e-07\n",
      "9  -3.295097e-07 -8.087628e-08 -2.127874e-08 -2.256835e-07 -4.011919e-07\n",
      "10 -1.741957e-07 -8.514641e-08 -1.156005e-07 -2.054352e-07 -2.706840e-07\n",
      "11 -2.704368e-07 -1.457188e-07 -4.898687e-08 -1.148512e-07 -4.546103e-07\n",
      "12 -5.548122e-08 -2.701487e-08 -3.949792e-08 -1.676884e-08 -3.950520e-08\n",
      "13 -1.017000e-07 -2.192076e-07 -5.191254e-08  5.303618e-08 -1.861459e-07\n",
      "14 -6.202706e-08 -1.699631e-07 -4.385912e-08  5.542963e-08 -1.695350e-07\n",
      "15  1.268807e-07 -3.196764e-07 -3.506243e-08  1.213435e-07 -5.477162e-08\n",
      "16  1.131567e-07 -1.617866e-07 -1.565167e-07 -1.133372e-07 -1.639851e-07\n",
      "17 -3.508445e-07 -1.881346e-07  9.186314e-09 -2.401621e-07 -4.985409e-07\n",
      "18 -5.876810e-07 -4.076840e-07 -8.802879e-08 -5.176698e-07 -6.999169e-07\n",
      "19 -3.168378e-07 -3.238493e-07 -1.096431e-07 -2.046780e-07 -3.552591e-07\n",
      "20 -2.299070e-07 -8.751199e-08 -1.742412e-07 -2.039874e-07 -3.249145e-07\n",
      "21 -4.363322e-07 -7.754802e-08 -1.174970e-07 -4.457568e-07 -5.282390e-07\n",
      "22  2.590375e-08 -1.997125e-07 -6.386584e-08  1.446088e-07 -1.738722e-07\n",
      "23 -2.236337e-07 -2.328659e-07  3.799527e-09 -6.387430e-08 -2.901714e-07\n",
      "24 -1.596954e-07 -1.354361e-07 -6.064737e-08 -3.454468e-08 -1.522447e-07\n",
      "25  1.068346e-07 -2.917257e-07  2.439373e-08  2.137585e-07 -3.026226e-07\n",
      "26 -5.727534e-07 -1.392279e-07 -2.614230e-07 -5.496499e-07 -8.173855e-07\n",
      "27 -1.869146e-07 -2.609386e-07 -9.135712e-08 -8.436452e-08 -2.866898e-07\n",
      "28 -3.265674e-07 -1.317778e-07  1.525975e-07 -9.774920e-08 -2.344857e-07\n",
      "29 -2.623911e-07  6.685578e-08 -4.930889e-07 -6.389157e-07 -5.542386e-07\n",
      "30 -1.111502e-07 -1.474029e-07 -1.628050e-07 -7.676972e-08 -4.177869e-07\n",
      "31 -4.738639e-08 -1.045116e-07 -1.966567e-07 -7.008886e-08 -1.313491e-07\n"
     ]
    }
   ],
   "source": [
    "for count in range(100,108):\n",
    "    dpc=[];yc=[];\n",
    "    for i in range(32):\n",
    "        a=[]\n",
    "        k=0\n",
    "        for j in range(5):\n",
    "            #print i,k\n",
    "            dd=d.values[i,k+count]\n",
    "            #b=np.concatenate((M,dd),axis=0)\n",
    "            j+=1\n",
    "            k=106*j\n",
    "            a.append(dd)      \n",
    "        y=d.values[i,0]\n",
    "        a.append(y)\n",
    "        dpc.append(a)\n",
    "        c=pd.DataFrame(dpc)\n",
    "        X=c.iloc[:,0:5]\n",
    "        labels=c.iloc[:,5]\n",
    "        #print y\n",
    "print count,X"
   ]
  },
  {
   "cell_type": "code",
   "execution_count": 20,
   "metadata": {
    "collapsed": false
   },
   "outputs": [
    {
     "data": {
      "text/plain": [
       "[2, 3, 4]"
      ]
     },
     "execution_count": 20,
     "metadata": {},
     "output_type": "execute_result"
    }
   ],
   "source": [
    "range(2,5)"
   ]
  },
  {
   "cell_type": "code",
   "execution_count": 150,
   "metadata": {
    "collapsed": false
   },
   "outputs": [
    {
     "data": {
      "text/plain": [
       "(array([ 0.,  1.]), array([1, 6], dtype=int64))"
      ]
     },
     "execution_count": 150,
     "metadata": {},
     "output_type": "execute_result"
    }
   ],
   "source": [
    "X_scaled = preprocessing.scale(X)\n",
    "X_train, X_test, y_train, y_test = train_test_split(X_scaled,labels, test_size=.20, random_state=40) \n",
    "np.unique(y_test,return_counts=True)"
   ]
  },
  {
   "cell_type": "code",
   "execution_count": 156,
   "metadata": {
    "collapsed": false
   },
   "outputs": [
    {
     "name": "stdout",
     "output_type": "stream",
     "text": [
      "85.7142857143\n"
     ]
    }
   ],
   "source": [
    "cv = ShuffleSplit(n_splits=5, test_size=0.3, random_state=0)\n",
    "parameters = {'kernel':('linear', 'rbf','poly'), 'C':[1, 10,100],'gamma':[0.01,.002]}\n",
    "svc = svm.SVC()\n",
    "clf = GridSearchCV(svc, parameters,cv=cv)\n",
    "clf.fit(X_train, y_train)\n",
    "accf= clf.cv_results_['mean_test_score']\n",
    "accf\n",
    "acc=accuracy_score(clf.best_estimator_.predict(X_test),y_test)\n",
    "print acc*100.0"
   ]
  },
  {
   "cell_type": "code",
   "execution_count": 11,
   "metadata": {
    "collapsed": false
   },
   "outputs": [
    {
     "name": "stdout",
     "output_type": "stream",
     "text": [
      "85.7142857143\n"
     ]
    }
   ],
   "source": [
    "dpc=[];yc=[];\n",
    "for i in range(32):\n",
    "    a=[]\n",
    "    k=0\n",
    "    for j in range(5):\n",
    "        #print i,k\n",
    "        dd=d.values[i,k+2]\n",
    "        #b=np.concatenate((M,dd),axis=0)\n",
    "        j+=1\n",
    "        k=106*j\n",
    "        a.append(dd)      \n",
    "    y=d.values[i,0]\n",
    "    a.append(y)\n",
    "    dpc.append(a)\n",
    "    c=pd.DataFrame(dpc)\n",
    "    X=c.iloc[:,0:5]\n",
    "    labels=c.iloc[:,5]\n",
    "    #print y\n",
    "#print X\n",
    "X_scaled = preprocessing.scale(X)\n",
    "X_train, X_test, y_train, y_test = train_test_split(X_scaled,labels, test_size=.20, random_state=40) \n",
    "np.unique(y_test,return_counts=True)\n",
    "cv = ShuffleSplit(n_splits=5, test_size=0.3, random_state=0)\n",
    "parameters = {'kernel':('linear', 'rbf','poly'), 'C':[1, 10,100],'gamma':[0.01,.002]}\n",
    "svc = svm.SVC()\n",
    "clf = GridSearchCV(svc, parameters,cv=cv)\n",
    "clf.fit(X_train, y_train)\n",
    "accf= clf.cv_results_['mean_test_score']\n",
    "accf\n",
    "acc=accuracy_score(clf.best_estimator_.predict(X_test),y_test)\n",
    "print acc*100.0"
   ]
  },
  {
   "cell_type": "code",
   "execution_count": null,
   "metadata": {
    "collapsed": true
   },
   "outputs": [],
   "source": []
  },
  {
   "cell_type": "code",
   "execution_count": 30,
   "metadata": {
    "collapsed": false
   },
   "outputs": [
    {
     "name": "stdout",
     "output_type": "stream",
     "text": [
      "-6.43392020887e-08\n"
     ]
    }
   ],
   "source": [
    "#M=np.array([])\n",
    "dpc=[];yc=[];df1=None;\n",
    "for i in range(3):\n",
    "    a=[]\n",
    "    k=0\n",
    "    for j in range(5):\n",
    "        #print i,k\n",
    "        dd=d.values[i,k+2]\n",
    "        #b=np.concatenate((M,dd),axis=0)\n",
    "        j+=1\n",
    "        k=106*j\n",
    "        a.append(dd)      \n",
    "    y=d.values[i,0]\n",
    "    #print y\n",
    "    #yc.append(y)\n",
    "# a.append(y)\n",
    "# b=a\n",
    "# df=pd.DataFrame(b,columns=None)\n",
    "#print df\n",
    "#c=pd.concat(df,ignore_index=True)   \n",
    "#dpc=dpc.append\n",
    "#l.append(d.values[i,0])\n",
    "#print l\n",
    "#print d.values[i,0]\n",
    "        #print dd\n",
    "#print b\n",
    "#print b\n",
    "# print yc\n",
    "# print df.shape\n",
    "print b[1]"
   ]
  },
  {
   "cell_type": "code",
   "execution_count": 107,
   "metadata": {
    "collapsed": false
   },
   "outputs": [
    {
     "data": {
      "text/plain": [
       "numpy.float64"
      ]
     },
     "execution_count": 107,
     "metadata": {},
     "output_type": "execute_result"
    }
   ],
   "source": [
    "type(dd)\n",
    "type(d.values[2,0])"
   ]
  },
  {
   "cell_type": "code",
   "execution_count": 34,
   "metadata": {
    "collapsed": false
   },
   "outputs": [
    {
     "data": {
      "text/plain": [
       "numpy.float64"
      ]
     },
     "execution_count": 34,
     "metadata": {},
     "output_type": "execute_result"
    }
   ],
   "source": [
    "type(b[5])"
   ]
  },
  {
   "cell_type": "code",
   "execution_count": 30,
   "metadata": {
    "collapsed": false
   },
   "outputs": [
    {
     "name": "stdout",
     "output_type": "stream",
     "text": [
      "               0             1             2             3             4\n",
      "0  -9.067545e-08 -2.567150e-07 -2.102843e-07 -8.842293e-09 -1.562248e-07\n",
      "1  -2.897427e-07 -1.815711e-07 -4.173799e-08 -2.784877e-07 -4.501883e-07\n",
      "2  -2.174787e-07 -8.395129e-08 -2.718847e-08 -1.733926e-07 -2.519400e-07\n",
      "3  -1.129649e-07 -1.464364e-07 -2.816158e-07 -2.801065e-07 -5.202546e-07\n",
      "4  -1.011714e-07 -7.234222e-08 -6.069673e-08 -5.481975e-08 -1.846978e-07\n",
      "5  -3.422258e-07 -2.353664e-07 -5.919736e-08 -1.492377e-07 -3.811543e-07\n",
      "6  -7.315142e-08 -1.466110e-07 -9.603061e-08  8.537105e-09 -1.805240e-07\n",
      "7  -2.394460e-07 -1.369775e-07 -8.429947e-08 -2.768990e-07 -4.359076e-07\n",
      "8  -1.582960e-07 -1.550975e-07 -3.687521e-08 -1.649384e-07 -2.217450e-07\n",
      "9  -3.347702e-07 -9.115035e-08 -2.299494e-08 -1.860219e-07 -3.811494e-07\n",
      "10 -1.572108e-07 -1.007959e-07 -1.103407e-07 -1.988693e-07 -2.668742e-07\n",
      "11 -2.911321e-07 -1.434054e-07 -7.257840e-08 -6.885861e-08 -4.397524e-07\n",
      "12 -6.267967e-08 -3.042573e-08 -4.498982e-08 -1.898049e-08 -4.446140e-08\n",
      "13 -1.020312e-07 -2.105960e-07 -4.946641e-08  6.236089e-08 -1.898716e-07\n",
      "14 -6.778842e-08 -1.644693e-07 -4.506955e-08  4.112681e-08 -1.645225e-07\n",
      "15  1.425556e-07 -3.248506e-07 -5.324595e-08  9.773016e-08 -4.367940e-08\n",
      "16  1.095916e-07 -1.772636e-07 -1.613154e-07 -1.211695e-07 -1.758013e-07\n",
      "17 -3.478400e-07 -1.851940e-07  1.210455e-09 -2.403893e-07 -4.917687e-07\n",
      "18 -5.958329e-07 -4.232449e-07 -4.704087e-08 -5.146880e-07 -6.771054e-07\n",
      "19 -3.298502e-07 -3.375213e-07 -1.125630e-07 -2.129962e-07 -3.495746e-07\n",
      "20 -2.129766e-07 -8.863993e-08 -1.906197e-07 -2.200649e-07 -3.416315e-07\n",
      "21 -4.305755e-07 -8.070468e-08 -6.464923e-08 -4.269555e-07 -5.090084e-07\n",
      "22  4.337260e-08 -1.989241e-07 -7.149360e-08  1.339924e-07 -1.704453e-07\n",
      "23 -2.113686e-07 -2.318462e-07  2.597445e-09 -5.252894e-08 -2.807342e-07\n",
      "24 -1.737856e-07 -1.198984e-07 -5.489701e-08 -2.856478e-08 -1.485250e-07\n",
      "25  1.075375e-07 -3.186619e-07  1.024000e-08  2.446116e-07 -3.068650e-07\n",
      "26 -5.622866e-07 -1.677241e-07 -2.691659e-07 -5.180575e-07 -8.012493e-07\n",
      "27 -1.702150e-07 -3.043118e-07 -6.111668e-08 -1.089037e-07 -3.261459e-07\n",
      "28 -3.234106e-07 -1.862643e-07  1.654597e-07 -5.977331e-08 -2.147803e-07\n",
      "29 -2.608753e-07  8.236701e-08 -5.054143e-07 -6.401253e-07 -5.136499e-07\n",
      "30 -9.967174e-08 -1.603829e-07 -1.658340e-07 -6.364033e-08 -3.961856e-07\n",
      "31 -3.213399e-08 -1.063340e-07 -1.864213e-07 -5.477933e-08 -1.141918e-07\n",
      "3\n"
     ]
    }
   ],
   "source": [
    "for count in range(2,4):\n",
    "    dpc=[];yc=[];\n",
    "    for i in range(32):\n",
    "        a=[]\n",
    "        k=0\n",
    "        for j in range(5):\n",
    "            #print i,k\n",
    "            dd=d.values[i,k+count]\n",
    "            #b=np.concatenate((M,dd),axis=0)\n",
    "            j+=1\n",
    "            k=106*j\n",
    "            a.append(dd)      \n",
    "        y=d.values[i,0]\n",
    "        a.append(y)\n",
    "        dpc.append(a)\n",
    "        c=pd.DataFrame(dpc)\n",
    "        X=c.iloc[:,0:5]\n",
    "        labels=c.iloc[:,5]\n",
    "        #print y\n",
    "print X\n",
    "print count"
   ]
  },
  {
   "cell_type": "code",
   "execution_count": null,
   "metadata": {
    "collapsed": true
   },
   "outputs": [],
   "source": []
  }
 ],
 "metadata": {
  "kernelspec": {
   "display_name": "Python 2",
   "language": "python",
   "name": "python2"
  },
  "language_info": {
   "codemirror_mode": {
    "name": "ipython",
    "version": 2
   },
   "file_extension": ".py",
   "mimetype": "text/x-python",
   "name": "python",
   "nbconvert_exporter": "python",
   "pygments_lexer": "ipython2",
   "version": "2.7.13"
  }
 },
 "nbformat": 4,
 "nbformat_minor": 2
}
