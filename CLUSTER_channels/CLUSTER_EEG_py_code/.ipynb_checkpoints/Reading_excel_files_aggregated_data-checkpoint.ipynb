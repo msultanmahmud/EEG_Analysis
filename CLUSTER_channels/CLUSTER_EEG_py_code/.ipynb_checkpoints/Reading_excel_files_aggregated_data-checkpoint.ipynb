{
 "cells": [
  {
   "cell_type": "code",
   "execution_count": 1,
   "metadata": {
    "collapsed": true
   },
   "outputs": [],
   "source": [
    "import sys\n",
    "import csv\n",
    "import glob\n",
    "import pandas as pd"
   ]
  },
  {
   "cell_type": "code",
   "execution_count": 9,
   "metadata": {
    "collapsed": true
   },
   "outputs": [],
   "source": [
    "pathw=\"C:/Users/Sultan/OneDrive - The University of Memphis/RESEARCH2017S/CLUSTER_channels/S_E12/\"\n",
    "#pathw=\"C:/Users/Sultan/OneDrive-The University of Memphis/RESEARCH2017S/CLUSTER_channels/Time_series_5cls\"\n",
    "path1=\"C:/Users/Sultan/OneDrive - The University of Memphis/RESEARCH2017S/CLUSTER_channels/Time_series_5cls_all/\""
   ]
  },
  {
   "cell_type": "code",
   "execution_count": 15,
   "metadata": {
    "collapsed": false
   },
   "outputs": [],
   "source": [
    "import numpy as np\n",
    "import pandas as pd\n",
    "import glob\n",
    "all_data = pd.DataFrame()\n",
    "for f in glob.glob(path1 +\"*34.xlsx\"): # for noise\n",
    "    #print f\n",
    "    df = pd.read_excel(f,header=None)\n",
    "    all_data = all_data.append(df,ignore_index=False)\n",
    "# now save the data frame\n",
    "# writer = pd.ExcelWriter(pathw+'Allsuballnoise.xlsx')\n",
    "# all_data.to_excel(writer,'sheet1')\n",
    "# writer.save()\n",
    "# all_data.shape"
   ]
  },
  {
   "cell_type": "markdown",
   "metadata": {},
   "source": [
    "# After writing data read, from another directory"
   ]
  },
  {
   "cell_type": "code",
   "execution_count": 13,
   "metadata": {
    "collapsed": false
   },
   "outputs": [],
   "source": [
    "# pathw=\"C:/Users/Sultan/OneDrive - The University of Memphis/RESEARCH2017S/CLUSTER_channels/S_E12/\"\n",
    "# dd=pd.read_excel(path2+'All_timenoise15.xlsx', header=None)\n",
    "# #dd"
   ]
  },
  {
   "cell_type": "code",
   "execution_count": 34,
   "metadata": {
    "collapsed": true
   },
   "outputs": [],
   "source": [
    "# dall=pd.read_excel(pathw+'Allsube12.xlsx')"
   ]
  },
  {
   "cell_type": "code",
   "execution_count": 39,
   "metadata": {
    "collapsed": false
   },
   "outputs": [],
   "source": [
    "#dall"
   ]
  },
  {
   "cell_type": "code",
   "execution_count": null,
   "metadata": {
    "collapsed": true
   },
   "outputs": [],
   "source": []
  }
 ],
 "metadata": {
  "kernelspec": {
   "display_name": "Python 2",
   "language": "python",
   "name": "python2"
  },
  "language_info": {
   "codemirror_mode": {
    "name": "ipython",
    "version": 2
   },
   "file_extension": ".py",
   "mimetype": "text/x-python",
   "name": "python",
   "nbconvert_exporter": "python",
   "pygments_lexer": "ipython2",
   "version": "2.7.13"
  }
 },
 "nbformat": 4,
 "nbformat_minor": 2
}
