{
 "cells": [
  {
   "cell_type": "code",
   "execution_count": 2,
   "metadata": {
    "collapsed": true
   },
   "outputs": [],
   "source": [
    "import numpy as np\n",
    "import pandas as pd\n",
    "import matplotlib.pyplot as plt\n",
    "from sklearn import preprocessing\n",
    "from sklearn import svm, metrics\n",
    "from sklearn.model_selection import train_test_split, GridSearchCV,cross_val_score,ShuffleSplit\n",
    "from sklearn.metrics import accuracy_score,confusion_matrix,roc_curve, auc\n",
    "from matplotlib import pyplot as plt\n",
    "from collections import Counter\n",
    "from scipy.stats import norm, zscore\n",
    "#import seaborn as sns; sns.set(font_scale=1.2)\n",
    "%matplotlib inline"
   ]
  },
  {
   "cell_type": "markdown",
   "metadata": {},
   "source": [
    "# Classification of noise-degraded speech-detection"
   ]
  },
  {
   "cell_type": "code",
   "execution_count": 6,
   "metadata": {
    "collapsed": false
   },
   "outputs": [
    {
     "name": "stdout",
     "output_type": "stream",
     "text": [
      "Total rows: 32\n"
     ]
    }
   ],
   "source": [
    "pathr=\"C:/Users/Sultan/OneDrive - The University of Memphis/RESEARCH2017S/CLUSTER_channels/S_E12/\"\n",
    "fnameno='Allsuballnoise.xlsx'\n",
    "d=pd.read_excel(pathr+fnameno)\n",
    "print(\"Total rows: {0}\".format(len(dn)))"
   ]
  },
  {
   "cell_type": "code",
   "execution_count": 3,
   "metadata": {
    "collapsed": false
   },
   "outputs": [],
   "source": [
    "# allacc=[];\n",
    "# for count in range(2,108):\n",
    "#     dpc=[];yc=[];\n",
    "#     for i in range(3):\n",
    "#         a=[]\n",
    "#         k=0\n",
    "#         for j in range(5):\n",
    "#             #print i,k\n",
    "#             dd=d.values[i,k+count]\n",
    "#             #b=np.concatenate((M,dd),axis=0)\n",
    "#             j+=1\n",
    "#             k=106*j\n",
    "#             a.append(dd)      \n",
    "#         y=d.values[i,0]\n",
    "#         a.append(y)\n",
    "#         dpc.append(a)\n",
    "#         c=pd.DataFrame(dpc)\n",
    "#         X=c.iloc[:,0:5]\n",
    "#         labels=c.iloc[:,5]"
   ]
  },
  {
   "cell_type": "code",
   "execution_count": 10,
   "metadata": {
    "collapsed": false
   },
   "outputs": [
    {
     "data": {
      "text/plain": [
       "<matplotlib.text.Text at 0xd9710f0>"
      ]
     },
     "execution_count": 10,
     "metadata": {},
     "output_type": "execute_result"
    },
    {
     "data": {
      "image/png": "[encoded data removed]",
      "text/plain": [
       "<matplotlib.figure.Figure at 0x4927b00>"
      ]
     },
     "metadata": {},
     "output_type": "display_data"
    }
   ],
   "source": [
    "allacc=[];\n",
    "for count in range(2,108):# Number of sample in the data\n",
    "    dpc=[];yc=[];\n",
    "    for i in range(32):\n",
    "        a=[]\n",
    "        k=0\n",
    "        for j in range(5):\n",
    "            #print i,k\n",
    "            dd=d.values[i,k+count] # data separate each sample\n",
    "            #b=np.concatenate((M,dd),axis=0)\n",
    "            j+=1\n",
    "            k=106*j\n",
    "            a.append(dd)      \n",
    "        y=d.values[i,0]; # Label first column\n",
    "        a.append(y)\n",
    "        dpc.append(a)\n",
    "        c=pd.DataFrame(dpc)\n",
    "        X=c.iloc[:,0:5]\n",
    "        labels=c.iloc[:,5]\n",
    "        #print y\n",
    "    #print X\n",
    "    X_scaled = preprocessing.scale(X)\n",
    "    X_train, X_test, y_train, y_test = train_test_split(X_scaled,labels, test_size=.20, random_state=40) \n",
    "    #par=np.unique(y_test,return_counts=True)\n",
    "    cv = ShuffleSplit(n_splits=5, test_size=0.20, random_state=0)\n",
    "    parameters = {'kernel':('linear', 'rbf','poly'), 'C':[1, 10,100],'gamma':[0.01,.002]}\n",
    "    svc = svm.SVC()\n",
    "    clf = GridSearchCV(svc, parameters,cv=cv)\n",
    "    clf.fit(X_train, y_train)\n",
    "    accf= clf.cv_results_['mean_test_score']\n",
    "    accf\n",
    "    acc=accuracy_score(clf.best_estimator_.predict(X_test),y_test)\n",
    "    allacc.append(acc)\n",
    "    Acd=pd.DataFrame(allacc)\n",
    "    #print acc*100.0\n",
    "t=np.linspace(-10,200,106)\n",
    "#Acd.plot(kind='line',ylim=[0,1])\n",
    "plt.plot(t,Acd,c='r')\n",
    "plt.xlabel('Time (ms)')\n",
    "plt.ylabel('% Accuracy')\n",
    "#print par"
   ]
  },
  {
   "cell_type": "code",
   "execution_count": 5,
   "metadata": {
    "collapsed": false
   },
   "outputs": [],
   "source": [
    "#c"
   ]
  },
  {
   "cell_type": "code",
   "execution_count": 11,
   "metadata": {
    "collapsed": false
   },
   "outputs": [
    {
     "name": "stdout",
     "output_type": "stream",
     "text": [
      "        0         0\n",
      "53   96.0  0.857143\n",
      "54   98.0  0.857143\n",
      "55  100.0  1.000000\n",
      "56  102.0  0.857143\n",
      "57  104.0  0.571429\n",
      "58  106.0  0.857143\n",
      "59  108.0  0.857143\n",
      "60  110.0  1.000000\n",
      "61  112.0  1.000000\n",
      "62  114.0  0.857143 \n",
      "The average accuracy over the time is: 87.1428571429\n"
     ]
    }
   ],
   "source": [
    "#print par\n",
    "time=pd.DataFrame(t)\n",
    "tad=pd.concat([time, Acd],axis=1)\n",
    "selt=tad.iloc[53:63]\n",
    "av=selt.mean()\n",
    "print selt,'\\n','The average accuracy over the time is:', av.iloc[1]*100.0\n",
    "#print tad.iloc[20:42]\n",
    "#tad.to_csv('clear_speech_classi.csv')"
   ]
  },
  {
   "cell_type": "code",
   "execution_count": 12,
   "metadata": {
    "collapsed": false
   },
   "outputs": [
    {
     "data": {
      "text/plain": [
       "<matplotlib.text.Text at 0xcc5abe0>"
      ]
     },
     "execution_count": 12,
     "metadata": {},
     "output_type": "execute_result"
    },
    {
     "data": {
      "image/png": "[encoded data removed]",
      "text/plain": [
       "<matplotlib.figure.Figure at 0xcd08cf8>"
      ]
     },
     "metadata": {},
     "output_type": "display_data"
    }
   ],
   "source": [
    "t1=tad.iloc[5:,0];Acd1=tad.iloc[5:,1];\n",
    "plt.plot(t1,Acd1,c='g')\n",
    "plt.xlabel('Time (ms)')\n",
    "plt.ylabel('% Accuracy')"
   ]
  },
  {
   "cell_type": "markdown",
   "metadata": {},
   "source": [
    "# Classification from LH's two clusters (C1, C2)"
   ]
  },
  {
   "cell_type": "code",
   "execution_count": 21,
   "metadata": {
    "collapsed": false
   },
   "outputs": [
    {
     "data": {
      "text/plain": [
       "<matplotlib.text.Text at 0xe7ad0f0>"
      ]
     },
     "execution_count": 21,
     "metadata": {},
     "output_type": "execute_result"
    },
    {
     "data": {
      "image/png": "[encoded data removed]",
      "text/plain": [
       "<matplotlib.figure.Figure at 0xe9772e8>"
      ]
     },
     "metadata": {},
     "output_type": "display_data"
    }
   ],
   "source": [
    "allacc=[];\n",
    "for count in range(2,108): # Number of sample in the data\n",
    "    dpc=[];yc=[]; # empty variable for dictionary\n",
    "    for i in range(32): # number of participant\n",
    "        a=[]; # Dictionary\n",
    "        k=0 ;\n",
    "        for j in range(2):\n",
    "            #print i,k\n",
    "            dd=d.values[i,k+count] ; # data separate each sample\n",
    "            #b=np.concatenate((M,dd),axis=0)\n",
    "            j+=1\n",
    "            k=106*j\n",
    "            a.append(dd) # append features      \n",
    "        y=d.values[i,0]\n",
    "        a.append(y)\n",
    "        dpc.append(a) # data frame with label\n",
    "        c=pd.DataFrame(dpc) # c is the new data \n",
    "        X=c.iloc[:,0:2] # X is the feature from clusters\n",
    "        labels=c.iloc[:,2]\n",
    "# Upto this feature extraction\n",
    "        #print y\n",
    "    #print X\n",
    "    X_scaled = preprocessing.scale(X)\n",
    "    X_train, X_test, y_train, y_test = train_test_split(X_scaled,labels, test_size=.20, random_state=40) \n",
    "    #par=np.unique(y_test,return_counts=True)\n",
    "    cv = ShuffleSplit(n_splits=5, test_size=0.20, random_state=0)\n",
    "    parameters = {'kernel':('linear', 'rbf','poly'), 'C':[1, 10,100],'gamma':[0.01,.002]}\n",
    "    svc = svm.SVC()\n",
    "    clf = GridSearchCV(svc, parameters,cv=cv)\n",
    "    clf.fit(X_train, y_train)\n",
    "    accf= clf.cv_results_['mean_test_score']\n",
    "    accf\n",
    "    acc=accuracy_score(clf.best_estimator_.predict(X_test),y_test)\n",
    "    allacc.append(acc)\n",
    "    Acd=pd.DataFrame(allacc)\n",
    "    #print acc*100.0\n",
    "t=np.linspace(-10,200,106)\n",
    "#Acd.plot(kind='line',ylim=[0,1])\n",
    "plt.plot(t,Acd,c='k')\n",
    "plt.xlabel('Time (ms)')\n",
    "plt.ylabel('% Accuracy')\n",
    "#print par"
   ]
  },
  {
   "cell_type": "code",
   "execution_count": 14,
   "metadata": {
    "collapsed": false
   },
   "outputs": [
    {
     "name": "stdout",
     "output_type": "stream",
     "text": [
      "       0         0\n",
      "35  60.0  0.857143\n",
      "36  62.0  0.857143\n",
      "37  64.0  0.857143\n",
      "38  66.0  0.857143\n",
      "39  68.0  0.857143\n",
      "40  70.0  0.857143\n",
      "41  72.0  0.857143\n",
      "42  74.0  0.857143\n",
      "43  76.0  0.857143\n",
      "44  78.0  0.857143 \n",
      "The average accuracy over the time is: 85.7142857143\n"
     ]
    }
   ],
   "source": [
    "#print par\n",
    "time=pd.DataFrame(t)\n",
    "tad=pd.concat([time, Acd],axis=1)\n",
    "selt=tad.iloc[35:45]\n",
    "av=selt.mean()\n",
    "print selt,'\\n','The average accuracy over the time is:', av.iloc[1]*100.0\n",
    "#print tad.iloc[20:42]\n",
    "#tad.to_csv('clear_speech_classi.csv')"
   ]
  },
  {
   "cell_type": "code",
   "execution_count": 15,
   "metadata": {
    "collapsed": false
   },
   "outputs": [
    {
     "data": {
      "text/plain": [
       "<matplotlib.text.Text at 0xdb9a278>"
      ]
     },
     "execution_count": 15,
     "metadata": {},
     "output_type": "execute_result"
    },
    {
     "data": {
      "image/png": "[encoded data removed]",
      "text/plain": [
       "<matplotlib.figure.Figure at 0xdab0da0>"
      ]
     },
     "metadata": {},
     "output_type": "display_data"
    }
   ],
   "source": [
    "t1=tad.iloc[5:,0];Acd1=tad.iloc[5:,1];\n",
    "plt.plot(t1,Acd1,c='g')\n",
    "plt.xlabel('Time (ms)')\n",
    "plt.ylabel('% Accuracy')"
   ]
  },
  {
   "cell_type": "markdown",
   "metadata": {},
   "source": [
    "# Classification from RH's two clusters (C3, C4)"
   ]
  },
  {
   "cell_type": "code",
   "execution_count": 22,
   "metadata": {
    "collapsed": false
   },
   "outputs": [
    {
     "data": {
      "text/plain": [
       "<matplotlib.text.Text at 0xecc2908>"
      ]
     },
     "execution_count": 22,
     "metadata": {},
     "output_type": "execute_result"
    },
    {
     "data": {
      "image/png": "[encoded data removed]",
      "text/plain": [
       "<matplotlib.figure.Figure at 0xdab0a90>"
      ]
     },
     "metadata": {},
     "output_type": "display_data"
    }
   ],
   "source": [
    "allacc=[];\n",
    "for count in range(2,108): # Number of sample in the data\n",
    "    dpc=[];yc=[]; # empty variable for dictionary\n",
    "    for i in range(32): # number of participant\n",
    "        a=[]; # Dictionary\n",
    "        k=0 ;\n",
    "        for j in range(2,4):\n",
    "            k=106*j\n",
    "            #print i,k\n",
    "            dd=d.values[i,k+count] ; # data separate each sample\n",
    "            #b=np.concatenate((M,dd),axis=0)\n",
    "            j+=1\n",
    "            a.append(dd) # append features      \n",
    "        y=d.values[i,0]\n",
    "        a.append(y)\n",
    "        dpc.append(a) # data frame with label\n",
    "        c=pd.DataFrame(dpc) # c is the new data \n",
    "        X=c.iloc[:,0:2] # X is the feature from clusters\n",
    "        labels=c.iloc[:,2]\n",
    "           #print y\n",
    "    #print X\n",
    "    X_scaled = preprocessing.scale(X)\n",
    "    X_train, X_test, y_train, y_test = train_test_split(X_scaled,labels, test_size=.20, random_state=60) \n",
    "    #par=np.unique(y_test,return_counts=True)\n",
    "    cv = ShuffleSplit(n_splits=5, test_size=0.20, random_state=0)\n",
    "    parameters = {'kernel':('linear', 'rbf','poly'), 'C':[1, 10,100],'gamma':[0.01,.002]}\n",
    "    svc = svm.SVC()\n",
    "    clf = GridSearchCV(svc, parameters,cv=cv)\n",
    "    clf.fit(X_train, y_train)\n",
    "    accf= clf.cv_results_['mean_test_score']\n",
    "    accf\n",
    "    acc=accuracy_score(clf.best_estimator_.predict(X_test),y_test)\n",
    "    allacc.append(acc)\n",
    "    Acdn=pd.DataFrame(allacc)\n",
    "    #print acc*100.0\n",
    "t=np.linspace(-10,200,106)\n",
    "#Acd.plot(kind='line',ylim=[0,1])\n",
    "plt.plot(t,Acdn,c='r')\n",
    "plt.xlabel('Time (ms)')\n",
    "plt.ylabel('% Accuracy')\n",
    "#print par"
   ]
  },
  {
   "cell_type": "code",
   "execution_count": 19,
   "metadata": {
    "collapsed": false
   },
   "outputs": [
    {
     "name": "stdout",
     "output_type": "stream",
     "text": [
      "       0         0\n",
      "27  44.0  0.714286\n",
      "28  46.0  0.714286\n",
      "29  48.0  0.714286\n",
      "30  50.0  0.714286\n",
      "31  52.0  0.714286\n",
      "32  54.0  0.714286\n",
      "33  56.0  0.714286\n",
      "34  58.0  0.714286\n",
      "35  60.0  0.714286\n",
      "36  62.0  0.714286 \n",
      "The average accuracy over the time is: 71.4285714286\n"
     ]
    }
   ],
   "source": [
    "#print par\n",
    "time=pd.DataFrame(t)\n",
    "tadn=pd.concat([time, Acdn],axis=1)\n",
    "seltn=tadn.iloc[27:37]\n",
    "av=seltn.mean()\n",
    "print seltn,'\\n','The average accuracy over the time is:', av.iloc[1]*100.0\n",
    "#print tad.iloc[40:60]\n",
    "#tadn.to_csv('Noise-degraded.csv')"
   ]
  },
  {
   "cell_type": "code",
   "execution_count": null,
   "metadata": {
    "collapsed": true
   },
   "outputs": [],
   "source": []
  }
 ],
 "metadata": {
  "kernelspec": {
   "display_name": "Python 2",
   "language": "python",
   "name": "python2"
  },
  "language_info": {
   "codemirror_mode": {
    "name": "ipython",
    "version": 2
   },
   "file_extension": ".py",
   "mimetype": "text/x-python",
   "name": "python",
   "nbconvert_exporter": "python",
   "pygments_lexer": "ipython2",
   "version": "2.7.13"
  }
 },
 "nbformat": 4,
 "nbformat_minor": 2
}
