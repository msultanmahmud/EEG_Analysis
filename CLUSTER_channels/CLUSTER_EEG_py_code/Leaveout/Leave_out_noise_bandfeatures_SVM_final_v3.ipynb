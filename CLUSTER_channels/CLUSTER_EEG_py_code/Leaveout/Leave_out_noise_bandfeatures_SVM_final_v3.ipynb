{
 "cells": [
  {
   "cell_type": "markdown",
   "metadata": {},
   "source": [
    "# Importing libirires shuffle, and hyperparameters [Cross-validation](http://scikit-learn.org/stable/modules/cross_validation.html)"
   ]
  },
  {
   "cell_type": "code",
   "execution_count": 2,
   "metadata": {},
   "outputs": [],
   "source": [
    "import numpy as np\n",
    "import pandas as pd\n",
    "import os\n",
    "import sys\n",
    "import glob\n",
    "import matplotlib.pyplot as plt\n",
    "from sklearn import preprocessing\n",
    "from sklearn import svm, metrics\n",
    "from sklearn.ensemble import RandomForestClassifier\n",
    "from sklearn.model_selection import train_test_split, GridSearchCV,cross_val_score,ShuffleSplit,LeaveOneOut\n",
    "from sklearn.metrics import accuracy_score,confusion_matrix,roc_curve, auc,classification_report\n",
    "from matplotlib import pyplot as plt\n",
    "from collections import Counter\n",
    "from scipy.stats import norm, zscore\n",
    "#import seaborn as sns; sns.set(font_scale=1.2)\n",
    "from sklearn.externals import joblib\n",
    "%matplotlib inline"
   ]
  },
  {
   "cell_type": "markdown",
   "metadata": {
    "collapsed": true
   },
   "source": [
    "# Load the dataset"
   ]
  },
  {
   "cell_type": "code",
   "execution_count": 4,
   "metadata": {},
   "outputs": [],
   "source": [
    "path='/home/sultan/EEG/CLUSTER_channels/S_E12/noisebandfeatures.xlsx'\n",
    "dataset=pd.read_excel(path,header=None)\n",
    "#dataset =pd.read_csv(path) # This is the csv read\n",
    "#dataset"
   ]
  },
  {
   "cell_type": "markdown",
   "metadata": {},
   "source": [
    "# Leaveout on Whole data"
   ]
  },
  {
   "cell_type": "code",
   "execution_count": 6,
   "metadata": {},
   "outputs": [
    {
     "name": "stdout",
     "output_type": "stream",
     "text": [
      "Total score for Theta is 50.0\n",
      "Total score for alpha is 34.375\n",
      "Total score for beta is 53.125\n",
      "Total score for gamma is 31.25\n"
     ]
    }
   ],
   "source": [
    "# X=dataset.iloc[:,16:21].values;# theta:1-6, alpha=6-11, beta=11-16: gamma=16-21 \n",
    "# X_scaled = preprocessing.scale(X); # normalizing 0 mean and 1 stdv\n",
    "# y=dataset.iloc[:,0].values\n",
    "leaveout = LeaveOneOut()\n",
    "#leaveout.get_n_splits(X)\n",
    "# parameters = {'kernel':('linear', 'rbf','poly','sigmoid'), 'C':[1, 10,100,1000],'gamma':[0.01,.002,0.003]}\n",
    "# svc = svm.SVC()\n",
    "### Here is the leaveout\n",
    "cn=0\n",
    "pos=[1,6,11,16]; # This is the cluster number lhpos=[3,8,13,19],j=i+2 rhpos=[1,6,11,16], j=i+2\n",
    "a=['Theta',\"alpha\",'beta', 'gamma']\n",
    "for i in pos:\n",
    "    j=i+5\n",
    "    X=dataset.iloc[:,i:j].values;# theta:1-6, alpha=6-11, beta=11-16: gamma=16-21 # 1-3 RH, 3-5 LH\n",
    "    #print X\n",
    "    X_scaled = preprocessing.scale(X)\n",
    "    y=dataset.iloc[:,0].values\n",
    "    count = 0\n",
    "    totalacc = 0\n",
    "    for train_index, test_index in leaveout.split(X_scaled):\n",
    "        #print train_index,test_index\n",
    "        ##X_trn, X_tst = X[train_index], X[test_index]\n",
    "        X_trn, X_tst = X_scaled[train_index], X_scaled[test_index]\n",
    "        y_trn, y_tst = y[train_index], y[test_index]\n",
    "        parameters = {'kernel':('linear', 'rbf','poly','sigmoid'), 'C':[1, 10,100,1000],'gamma':[0.01,.002,0.003]}\n",
    "        svc = svm.SVC()\n",
    "        clf = GridSearchCV(svc, parameters)\n",
    "        #print X_trn, y_trn\n",
    "        clf.fit(X_trn, y_trn)\n",
    "        #print clf.best_estimator_\n",
    "        acc = accuracy_score(clf.best_estimator_.predict(X_tst),y_tst)\n",
    "        totalacc = totalacc + acc\n",
    "        count = count + 1\n",
    "        #print count, acc, totalacc; # See the how many correct over the whole\n",
    "        score=totalacc/count*100.0\n",
    "    #print 'Accuracy of',a[cn],'=', totalacc/count \n",
    "    #print(\"Total score for %s is %2.2f.\"%(a[cn], score));# see 2 digit results \n",
    "    print(\"Total score for {} is {}\".format(a[cn], score))\n",
    "    #print('Acc: {}'.format(totalacc/count) \n",
    "    cn+=1 "
   ]
  },
  {
   "cell_type": "code",
   "execution_count": 5,
   "metadata": {},
   "outputs": [],
   "source": [
    "# Total score for Theta is 50.0\n",
    "# Total score for alpha is 34.375\n",
    "# Total score for beta is 53.125\n",
    "# Total score for gamma is 31.25"
   ]
  },
  {
   "cell_type": "markdown",
   "metadata": {},
   "source": [
    "# LH"
   ]
  },
  {
   "cell_type": "code",
   "execution_count": 8,
   "metadata": {},
   "outputs": [
    {
     "name": "stdout",
     "output_type": "stream",
     "text": [
      "Total score for Theta is 59.375\n",
      "Total score for alpha is 59.375\n",
      "Total score for beta is 59.375\n",
      "Total score for gamma is 53.125\n"
     ]
    }
   ],
   "source": [
    "# X=dataset.iloc[:,16:21].values;# theta:1-6, alpha=6-11, beta=11-16: gamma=16-21 \n",
    "# X_scaled = preprocessing.scale(X); # normalizing 0 mean and 1 stdv\n",
    "# y=dataset.iloc[:,0].values\n",
    "leaveout = LeaveOneOut()\n",
    "#leaveout.get_n_splits(X)\n",
    "# parameters = {'kernel':('linear', 'rbf','poly','sigmoid'), 'C':[1, 10,100,1000],'gamma':[0.01,.002,0.003]}\n",
    "# svc = svm.SVC()\n",
    "### Here is the leaveout\n",
    "cn=0\n",
    "pos=[3,8,13,18]; # This is the cluster number lhpos=[3,8,13,18],j=i+2 rhpos=[1,6,11,16], j=i+2\n",
    "a=['Theta',\"alpha\",'beta', 'gamma']\n",
    "for i in pos:\n",
    "    j=i+2\n",
    "    X=dataset.iloc[:,i:j].values;# theta:1-6, alpha=6-11, beta=11-16: gamma=16-21 # 1-3 RH, 3-5 LH\n",
    "    #print X\n",
    "    X_scaled = preprocessing.scale(X)\n",
    "    y=dataset.iloc[:,0].values\n",
    "    count = 0\n",
    "    totalacc = 0\n",
    "    for train_index, test_index in leaveout.split(X_scaled):\n",
    "        #print train_index,test_index\n",
    "        X_trn, X_tst = X_scaled[train_index], X_scaled[test_index]\n",
    "        y_trn, y_tst = y[train_index], y[test_index]\n",
    "        parameters = {'kernel':('linear', 'rbf','poly','sigmoid'), 'C':[1, 10,100,1000],'gamma':[0.01,.002,0.003]}\n",
    "        svc = svm.SVC()\n",
    "        clf = GridSearchCV(svc, parameters)\n",
    "        clf.fit(X_trn, y_trn)\n",
    "        #print clf.best_estimator_\n",
    "        acc = accuracy_score(clf.best_estimator_.predict(X_tst),y_tst)\n",
    "        totalacc = totalacc + acc\n",
    "        count = count + 1 \n",
    "        #print count, acc, totalacc; # See the how many correct over the whole\n",
    "        score=totalacc/count*100.0\n",
    "    #print 'Accuracy of',a[cn],'=', totalacc/count\n",
    "    print(\"Total score for {} is {}\".format(a[cn], score))\n",
    "    cn+=1 "
   ]
  },
  {
   "cell_type": "code",
   "execution_count": 7,
   "metadata": {},
   "outputs": [],
   "source": [
    "# Total score for Theta is 59.375\n",
    "# Total score for alpha is 59.375\n",
    "# Total score for beta is 59.375\n",
    "# Total score for gamma is 53.125"
   ]
  },
  {
   "cell_type": "markdown",
   "metadata": {},
   "source": [
    "# RH"
   ]
  },
  {
   "cell_type": "code",
   "execution_count": 12,
   "metadata": {},
   "outputs": [
    {
     "name": "stdout",
     "output_type": "stream",
     "text": [
      "Total score for Theta is 59.375\n",
      "Total score for alpha is 62.5\n",
      "Total score for beta is 56.25\n",
      "Total score for gamma is 46.875\n"
     ]
    }
   ],
   "source": [
    "leaveout = LeaveOneOut()\n",
    "#leaveout.get_n_splits(X)\n",
    "parameters = {'kernel':('linear', 'rbf','poly','sigmoid'), 'C':[1, 10,100,1000],'gamma':[0.01,0.02,0.05,0.08,.002,0.003]}\n",
    "svc = svm.SVC()\n",
    "#### Here is the leaveout\n",
    "cn=0\n",
    "pos=[1,6,11,16]; # This is the cluster number lhpos=[3,8,13,18],j=i+2 rhpos=[1,6,11,16], j=i+2\n",
    "a=['Theta',\"alpha\",'beta', 'gamma']\n",
    "for i in pos:\n",
    "    j=i+2\n",
    "    X=dataset.iloc[:,i:j].values;# theta:1-6, alpha=6-11, beta=11-16: gamma=16-21 # 1-3 RH, 3-5 LH\n",
    "    X_scaled = preprocessing.scale(X)\n",
    "    y=dataset.iloc[:,0].values\n",
    "    count = 0\n",
    "    totalacc = 0\n",
    "    for train_index, test_index in leaveout.split(X_scaled):\n",
    "        #print train_index,test_index\n",
    "        X_trn, X_tst = X_scaled[train_index], X_scaled[test_index]\n",
    "        y_trn, y_tst = y[train_index], y[test_index]\n",
    "        clf = GridSearchCV(svc, parameters)\n",
    "        clf.fit(X_trn, y_trn)\n",
    "        #print clf.best_estimator_\n",
    "        acc = accuracy_score(clf.best_estimator_.predict(X_tst),y_tst)\n",
    "        totalacc = totalacc + acc\n",
    "        count = count + 1 \n",
    "        #print count, acc, totalacc; # See the how many correct over the whole\n",
    "        score=totalacc/count*100.0\n",
    "    #print 'Accuracy of',a[cn],'=', totalacc/count\n",
    "    print(\"Total score for {} is {}\".format(a[cn], score))\n",
    "    cn+=1 "
   ]
  },
  {
   "cell_type": "code",
   "execution_count": 9,
   "metadata": {},
   "outputs": [],
   "source": [
    "# Total score for Theta is 59.375\n",
    "# Total score for alpha is 62.5\n",
    "# Total score for beta is 56.25\n",
    "# Total score for gamma is 46.875"
   ]
  },
  {
   "cell_type": "code",
   "execution_count": 10,
   "metadata": {},
   "outputs": [],
   "source": [
    "#gamma (0.1,2,10)\n",
    "# Total score for Theta is 46.875\n",
    "# Total score for alpha is 40.625\n",
    "# Total score for beta is 68.75\n",
    "# Total score for gamma is 46.875"
   ]
  },
  {
   "cell_type": "code",
   "execution_count": null,
   "metadata": {},
   "outputs": [],
   "source": []
  }
 ],
 "metadata": {
  "kernelspec": {
   "display_name": "Python 2",
   "language": "python",
   "name": "python2"
  },
  "language_info": {
   "codemirror_mode": {
    "name": "ipython",
    "version": 2
   },
   "file_extension": ".py",
   "mimetype": "text/x-python",
   "name": "python",
   "nbconvert_exporter": "python",
   "pygments_lexer": "ipython2",
   "version": "2.7.6"
  }
 },
 "nbformat": 4,
 "nbformat_minor": 2
}
