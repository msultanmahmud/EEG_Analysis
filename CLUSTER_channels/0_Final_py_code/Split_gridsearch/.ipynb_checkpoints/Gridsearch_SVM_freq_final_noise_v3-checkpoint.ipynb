{
 "cells": [
  {
   "cell_type": "markdown",
   "metadata": {},
   "source": [
    "# Shuffle and hyperparameters Tuning for hearing data set [Cross-validation](http://scikit-learn.org/stable/modules/cross_validation.html)"
   ]
  },
  {
   "cell_type": "code",
   "execution_count": 1,
   "metadata": {},
   "outputs": [],
   "source": [
    "import numpy as np\n",
    "import pandas as pd\n",
    "from sklearn import svm, metrics, preprocessing\n",
    "#from sklearn import datasets\n",
    "from sklearn.model_selection import train_test_split, GridSearchCV,cross_val_score,ShuffleSplit\n",
    "from sklearn.metrics import accuracy_score,confusion_matrix,roc_curve, auc\n",
    "from matplotlib import pyplot as plt\n",
    "from collections import Counter\n",
    "from scipy.stats import norm\n",
    "import seaborn as sns; sns.set(font_scale=1.2)\n",
    "%matplotlib inline"
   ]
  },
  {
   "cell_type": "markdown",
   "metadata": {
    "collapsed": true
   },
   "source": [
    "# load the dataset"
   ]
  },
  {
   "cell_type": "code",
   "execution_count": 2,
   "metadata": {},
   "outputs": [],
   "source": [
    "path='/home/sultan/EEG/CLUSTER_channels/S_E12/noisebandfeatures.xlsx'\n",
    "dataset=pd.read_excel(path,header=None)\n",
    "#dataset =pd.read_csv(path) # This is the csv read\n",
    "#dataset"
   ]
  },
  {
   "cell_type": "code",
   "execution_count": 3,
   "metadata": {},
   "outputs": [],
   "source": [
    "#sns.lmplot('dia','eccen',data=dataset,hue='class',palette='Set1',fit_reg=False,scatter_kws={\"s\":70})"
   ]
  },
  {
   "cell_type": "markdown",
   "metadata": {},
   "source": [
    "# split the data set"
   ]
  },
  {
   "cell_type": "code",
   "execution_count": 4,
   "metadata": {},
   "outputs": [],
   "source": [
    "X=dataset.iloc[:,1:6].values;# theta:1-6, alpha=6-11, beta=11-16: gamma=16-21 \n",
    "X_scaled = preprocessing.scale(X)\n",
    "y=dataset.iloc[:,0].values"
   ]
  },
  {
   "cell_type": "code",
   "execution_count": 5,
   "metadata": {},
   "outputs": [],
   "source": [
    "X_train, X_test, y_train, y_test = train_test_split(X_scaled,y, test_size=.20, random_state=42)     "
   ]
  },
  {
   "cell_type": "markdown",
   "metadata": {},
   "source": [
    "# Find the repeated class number "
   ]
  },
  {
   "cell_type": "code",
   "execution_count": 6,
   "metadata": {},
   "outputs": [
    {
     "data": {
      "text/plain": [
       "(array([0, 1]), array([4, 3]))"
      ]
     },
     "execution_count": 6,
     "metadata": {},
     "output_type": "execute_result"
    }
   ],
   "source": [
    "np.unique(y_test,return_counts=True)"
   ]
  },
  {
   "cell_type": "markdown",
   "metadata": {},
   "source": [
    "# All 5 channels features"
   ]
  },
  {
   "cell_type": "code",
   "execution_count": 7,
   "metadata": {},
   "outputs": [
    {
     "name": "stdout",
     "output_type": "stream",
     "text": [
      "The average score for Theta is 0.714285714286\n",
      "The average score for alpha is 0.714285714286\n",
      "The average score for beta is 0.714285714286\n",
      "The average score for gamma is 0.571428571429\n"
     ]
    }
   ],
   "source": [
    "cn=0;predall=[];\n",
    "pos=[1,6,11,16];rs=16 # This is the cluster number lhpos=[3,8,13,18],j=i+2 rhpos=[1,6,11,16], j=i+2\n",
    "a=['Theta',\"alpha\",'beta', 'gamma']\n",
    "for i in pos:\n",
    "    j=i+5\n",
    "    X=dataset.iloc[:,i:j].values;# theta:1-6, alpha=6-11, beta=11-16: gamma=16-21 # 1-3 RH, 3-5 LH\n",
    "    #print X\n",
    "    X_scaled = preprocessing.scale(X)\n",
    "    y=dataset.iloc[:,0].values\n",
    "    #print X\n",
    "    X_train, X_test, y_train, y_test = train_test_split(X_scaled,y, test_size=.20, random_state=rs)\n",
    "    #print y_test\n",
    "    parameters = {'kernel':('linear', 'rbf','poly','sigmoid'), 'C':[1, 10,100,1000],'gamma':[0.01,.002,]}\n",
    "    svc = svm.SVC()\n",
    "    cv = ShuffleSplit(n_splits=5, test_size=0.20, random_state=42)\n",
    "    #parameters = {'kernel':('linear', 'rbf','poly'), 'C':[1, 10,100],'gamma':[0.01,.002]}\n",
    "    svc = svm.SVC()\n",
    "    clf = GridSearchCV(svc, parameters,cv=cv)\n",
    "    clf.fit(X_train, y_train)\n",
    "    accf= clf.cv_results_['mean_test_score']\n",
    "    pred=clf.best_estimator_.predict(X_test)\n",
    "    predall.append(pred)\n",
    "    acc=accuracy_score(clf.best_estimator_.predict(X_test),y_test)\n",
    "    #print(\"Accuracy:%0.3f (+/-%0.3f)\" %(accf.mean(), accf.std()*2))\n",
    "    print(\"The average score for {} is {}\".format(a[cn], acc))\n",
    "    cn+=1"
   ]
  },
  {
   "cell_type": "code",
   "execution_count": 8,
   "metadata": {},
   "outputs": [
    {
     "data": {
      "text/plain": [
       "array([1, 1, 1, 1, 1, 1, 1])"
      ]
     },
     "execution_count": 8,
     "metadata": {},
     "output_type": "execute_result"
    }
   ],
   "source": [
    "predall[1]"
   ]
  },
  {
   "cell_type": "code",
   "execution_count": 10,
   "metadata": {},
   "outputs": [
    {
     "name": "stdout",
     "output_type": "stream",
     "text": [
      "             precision    recall  f1-score   support\n",
      "\n",
      "          0       0.00      0.00      0.00         2\n",
      "          1       0.71      1.00      0.83         5\n",
      "\n",
      "avg / total       0.51      0.71      0.60         7\n",
      "\n"
     ]
    }
   ],
   "source": [
    "from sklearn.metrics import classification_report\n",
    "#target_names = ['class 0', 'class 1', 'class 2']\n",
    "print(classification_report(y_test, predall[1]))"
   ]
  },
  {
   "cell_type": "code",
   "execution_count": 40,
   "metadata": {},
   "outputs": [],
   "source": [
    "# i=18; j=i+2\n",
    "# X=dataset.iloc[:,i:j]\n",
    "# X.head()"
   ]
  },
  {
   "cell_type": "markdown",
   "metadata": {},
   "source": [
    "# RH's C1 and c2"
   ]
  },
  {
   "cell_type": "code",
   "execution_count": 11,
   "metadata": {},
   "outputs": [
    {
     "name": "stdout",
     "output_type": "stream",
     "text": [
      "The average score for Theta is 0.571428571429\n",
      "The average score for alpha is 0.571428571429\n",
      "The average score for beta is 0.571428571429\n",
      "The average score for gamma is 0.571428571429\n"
     ]
    }
   ],
   "source": [
    "cn=0;predrh=[];\n",
    "pos=[1,6,11,16]; # This is the cluster number lhpos=[3,8,13,18],j=i+2 rhpos=[1,6,11,16], j=i+2\n",
    "a=['Theta',\"alpha\",'beta', 'gamma'];rs=29; #rs=29 is randomshaffle\n",
    "for i in pos:\n",
    "    j=i+2\n",
    "    X=dataset.iloc[:,i:j].values;# theta:1-6, alpha=6-11, beta=11-16: gamma=16-21 # 1-3 RH, 3-5 LH\n",
    "    #print X\n",
    "    X_scaled = preprocessing.scale(X)\n",
    "    y=dataset.iloc[:,0].values\n",
    "    #print X\n",
    "    X_train, X_test, y_train, y_test = train_test_split(X_scaled,y, test_size=.20, random_state=rs)\n",
    "    #print y_test\n",
    "    parameters = {'kernel':('linear', 'rbf','poly','sigmoid'), 'C':[1, 10,100,1000],'gamma':[0.01,.002,]}\n",
    "    svc = svm.SVC()\n",
    "    cv = ShuffleSplit(n_splits=5, test_size=0.20, random_state=42)\n",
    "    #parameters = {'kernel':('linear', 'rbf','poly'), 'C':[1, 10,100],'gamma':[0.01,.002]}\n",
    "    svc = svm.SVC()\n",
    "    clf = GridSearchCV(svc, parameters,cv=cv)\n",
    "    clf.fit(X_train, y_train)\n",
    "    accf= clf.cv_results_['mean_test_score']\n",
    "    pred=clf.best_estimator_.predict(X_test)\n",
    "    predrh.append(pred)\n",
    "    acc=accuracy_score(clf.best_estimator_.predict(X_test),y_test)\n",
    "    #print(\"Accuracy:%0.3f (+/-%0.3f)\" %(accf.mean(), accf.std()*2))\n",
    "    print(\"The average score for {} is {}\".format(a[cn], acc))\n",
    "    cn+=1\n",
    "#print np.unique(y_test,return_counts=True)"
   ]
  },
  {
   "cell_type": "code",
   "execution_count": 12,
   "metadata": {},
   "outputs": [
    {
     "data": {
      "text/plain": [
       "(array([0, 1]), array([3, 4]))"
      ]
     },
     "execution_count": 12,
     "metadata": {},
     "output_type": "execute_result"
    }
   ],
   "source": [
    "np.unique(y_test,return_counts=True)"
   ]
  },
  {
   "cell_type": "markdown",
   "metadata": {},
   "source": [
    "# Classifier accuracy"
   ]
  },
  {
   "cell_type": "code",
   "execution_count": 13,
   "metadata": {},
   "outputs": [
    {
     "name": "stdout",
     "output_type": "stream",
     "text": [
      "             precision    recall  f1-score   support\n",
      "\n",
      "          0       0.00      0.00      0.00         3\n",
      "          1       0.57      1.00      0.73         4\n",
      "\n",
      "avg / total       0.33      0.57      0.42         7\n",
      "\n"
     ]
    }
   ],
   "source": [
    "print(classification_report(y_test, predrh[1]))"
   ]
  },
  {
   "cell_type": "markdown",
   "metadata": {},
   "source": [
    "# LH's C3 and C4"
   ]
  },
  {
   "cell_type": "code",
   "execution_count": 14,
   "metadata": {},
   "outputs": [
    {
     "name": "stdout",
     "output_type": "stream",
     "text": [
      "The average score for Theta is 0.571428571429\n",
      "The average score for alpha is 0.571428571429\n",
      "The average score for beta is 0.571428571429\n",
      "The average score for gamma is 0.571428571429\n"
     ]
    }
   ],
   "source": [
    "cn=0;predlh=[];\n",
    "pos=[3,8,13,18];rs=28 # This is the cluster number lhpos=[3,8,13,18],j=i+2 rhpos=[1,6,11,16], j=i+2\n",
    "a=['Theta',\"alpha\",'beta', 'gamma']\n",
    "for i in pos:\n",
    "    j=i+2\n",
    "    X=dataset.iloc[:,i:j].values;# theta:1-6, alpha=6-11, beta=11-16: gamma=16-21 # 1-3 RH, 3-5 LH\n",
    "    #print X\n",
    "    X_scaled = preprocessing.scale(X)\n",
    "    y=dataset.iloc[:,0].values\n",
    "    #print X\n",
    "    X_train, X_test, y_train, y_test = train_test_split(X_scaled,y, test_size=.20, random_state=rs)\n",
    "    #print y_test\n",
    "    parameters = {'kernel':('linear', 'rbf','poly','sigmoid'), 'C':[1, 10,100,1000],'gamma':[0.01,.002,]}\n",
    "    svc = svm.SVC()\n",
    "    cv = ShuffleSplit(n_splits=5, test_size=0.20, random_state=42)\n",
    "    #parameters = {'kernel':('linear', 'rbf','poly'), 'C':[1, 10,100],'gamma':[0.01,.002]}\n",
    "    svc = svm.SVC()\n",
    "    clf = GridSearchCV(svc, parameters,cv=cv)\n",
    "    clf.fit(X_train, y_train)\n",
    "    accf= clf.cv_results_['mean_test_score']\n",
    "    pred=clf.best_estimator_.predict(X_test)\n",
    "    predlh.append(pred)\n",
    "    acc=accuracy_score(clf.best_estimator_.predict(X_test),y_test)\n",
    "    #print(\"Accuracy:%0.3f (+/-%0.3f)\" %(accf.mean(), accf.std()*2))\n",
    "    print(\"The average score for {} is {}\".format(a[cn], acc))\n",
    "    cn+=1"
   ]
  },
  {
   "cell_type": "markdown",
   "metadata": {},
   "source": [
    "# Classifier accuracy"
   ]
  },
  {
   "cell_type": "code",
   "execution_count": 39,
   "metadata": {},
   "outputs": [
    {
     "name": "stdout",
     "output_type": "stream",
     "text": [
      "             precision    recall  f1-score   support\n",
      "\n",
      "          0       0.67      0.67      0.67         3\n",
      "          1       0.75      0.75      0.75         4\n",
      "\n",
      "avg / total       0.71      0.71      0.71         7\n",
      "\n"
     ]
    }
   ],
   "source": [
    "print(classification_report(y_test, predlh[0]))"
   ]
  },
  {
   "cell_type": "code",
   "execution_count": null,
   "metadata": {},
   "outputs": [],
   "source": []
  }
 ],
 "metadata": {
  "kernelspec": {
   "display_name": "Python 2",
   "language": "python",
   "name": "python2"
  },
  "language_info": {
   "codemirror_mode": {
    "name": "ipython",
    "version": 2
   },
   "file_extension": ".py",
   "mimetype": "text/x-python",
   "name": "python",
   "nbconvert_exporter": "python",
   "pygments_lexer": "ipython2",
   "version": "2.7.6"
  }
 },
 "nbformat": 4,
 "nbformat_minor": 2
}
