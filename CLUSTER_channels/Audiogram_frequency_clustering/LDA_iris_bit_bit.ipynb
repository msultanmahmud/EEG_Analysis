{
 "cells": [
  {
   "cell_type": "markdown",
   "metadata": {},
   "source": [
    "# [LDA](https://sebastianraschka.com/Articles/2014_python_lda.html) bit by bit "
   ]
  },
  {
   "cell_type": "code",
   "execution_count": 18,
   "metadata": {},
   "outputs": [],
   "source": [
    "%matplotlib inline\n",
    "from matplotlib import pyplot as plt\n",
    "import numpy as np\n",
    "import math"
   ]
  },
  {
   "cell_type": "code",
   "execution_count": 2,
   "metadata": {},
   "outputs": [],
   "source": [
    "feature_dict = {i:label for i,label in zip(\n",
    "                range(4),\n",
    "                  ('sepal length in cm',\n",
    "                  'sepal width in cm',\n",
    "                  'petal length in cm',\n",
    "                  'petal width in cm', ))}"
   ]
  },
  {
   "cell_type": "code",
   "execution_count": 5,
   "metadata": {},
   "outputs": [
    {
     "data": {
      "text/html": [
       "<div>\n",
       "<style scoped>\n",
       "    .dataframe tbody tr th:only-of-type {\n",
       "        vertical-align: middle;\n",
       "    }\n",
       "\n",
       "    .dataframe tbody tr th {\n",
       "        vertical-align: top;\n",
       "    }\n",
       "\n",
       "    .dataframe thead th {\n",
       "        text-align: right;\n",
       "    }\n",
       "</style>\n",
       "<table border=\"1\" class=\"dataframe\">\n",
       "  <thead>\n",
       "    <tr style=\"text-align: right;\">\n",
       "      <th></th>\n",
       "      <th>sepal length in cm</th>\n",
       "      <th>sepal width in cm</th>\n",
       "      <th>petal length in cm</th>\n",
       "      <th>petal width in cm</th>\n",
       "      <th>class label</th>\n",
       "    </tr>\n",
       "  </thead>\n",
       "  <tbody>\n",
       "    <tr>\n",
       "      <th>145</th>\n",
       "      <td>6.7</td>\n",
       "      <td>3.0</td>\n",
       "      <td>5.2</td>\n",
       "      <td>2.3</td>\n",
       "      <td>Iris-virginica</td>\n",
       "    </tr>\n",
       "    <tr>\n",
       "      <th>146</th>\n",
       "      <td>6.3</td>\n",
       "      <td>2.5</td>\n",
       "      <td>5.0</td>\n",
       "      <td>1.9</td>\n",
       "      <td>Iris-virginica</td>\n",
       "    </tr>\n",
       "    <tr>\n",
       "      <th>147</th>\n",
       "      <td>6.5</td>\n",
       "      <td>3.0</td>\n",
       "      <td>5.2</td>\n",
       "      <td>2.0</td>\n",
       "      <td>Iris-virginica</td>\n",
       "    </tr>\n",
       "    <tr>\n",
       "      <th>148</th>\n",
       "      <td>6.2</td>\n",
       "      <td>3.4</td>\n",
       "      <td>5.4</td>\n",
       "      <td>2.3</td>\n",
       "      <td>Iris-virginica</td>\n",
       "    </tr>\n",
       "    <tr>\n",
       "      <th>149</th>\n",
       "      <td>5.9</td>\n",
       "      <td>3.0</td>\n",
       "      <td>5.1</td>\n",
       "      <td>1.8</td>\n",
       "      <td>Iris-virginica</td>\n",
       "    </tr>\n",
       "  </tbody>\n",
       "</table>\n",
       "</div>"
      ],
      "text/plain": [
       "     sepal length in cm  sepal width in cm  petal length in cm  \\\n",
       "145                 6.7                3.0                 5.2   \n",
       "146                 6.3                2.5                 5.0   \n",
       "147                 6.5                3.0                 5.2   \n",
       "148                 6.2                3.4                 5.4   \n",
       "149                 5.9                3.0                 5.1   \n",
       "\n",
       "     petal width in cm     class label  \n",
       "145                2.3  Iris-virginica  \n",
       "146                1.9  Iris-virginica  \n",
       "147                2.0  Iris-virginica  \n",
       "148                2.3  Iris-virginica  \n",
       "149                1.8  Iris-virginica  "
      ]
     },
     "execution_count": 5,
     "metadata": {},
     "output_type": "execute_result"
    }
   ],
   "source": [
    "import pandas as pd\n",
    "df = pd.io.parsers.read_csv(\n",
    "    filepath_or_buffer='https://archive.ics.uci.edu/ml/machine-learning-databases/iris/iris.data',\n",
    "    header=None,\n",
    "    sep=',',\n",
    "    )\n",
    "df.columns = [l for i,l in sorted(feature_dict.items())] + ['class label']\n",
    "df.dropna(how=\"all\", inplace=True) # to drop the empty line at file-end\n",
    "\n",
    "df.tail()"
   ]
  },
  {
   "cell_type": "code",
   "execution_count": 25,
   "metadata": {},
   "outputs": [],
   "source": [
    "from sklearn.preprocessing import LabelEncoder\n",
    "\n",
    "X =df.iloc[:,0:4].values\n",
    "y = df['class label'].values\n",
    "\n",
    "enc = LabelEncoder()\n",
    "label_encoder = enc.fit(y)\n",
    "y = label_encoder.transform(y) + 1\n",
    "\n",
    "label_dict = {1: 'Setosa', 2: 'Versicolor', 3:'Virginica'}"
   ]
  },
  {
   "cell_type": "code",
   "execution_count": null,
   "metadata": {},
   "outputs": [],
   "source": []
  },
  {
   "cell_type": "code",
   "execution_count": 28,
   "metadata": {},
   "outputs": [
    {
     "data": {
      "image/png": "[encoded data removed]",
      "text/plain": [
       "<Figure size 864x432 with 4 Axes>"
      ]
     },
     "metadata": {
      "needs_background": "light"
     },
     "output_type": "display_data"
    }
   ],
   "source": [
    "fig, axes = plt.subplots(nrows=2, ncols=2, figsize=(12,6))\n",
    "\n",
    "for ax,cnt in zip(axes.ravel(), range(4)):  \n",
    "\n",
    "    # set bin sizes\n",
    "    min_b = math.floor(np.min(X[:,cnt]))\n",
    "    max_b = math.ceil(np.max(X[:,cnt]))\n",
    "    bins = np.linspace(min_b, max_b, 25)\n",
    "\n",
    "    # plottling the histograms\n",
    "    for lab,col in zip(range(1,4), ('blue', 'red', 'green')):\n",
    "        ax.hist(X[y==lab, cnt],\n",
    "                   color=col,\n",
    "                   label='class %s' %label_dict[lab],\n",
    "                   bins=bins,\n",
    "                   alpha=0.5,)\n",
    "    ylims = ax.get_ylim()\n",
    "\n",
    "    # plot annotation\n",
    "    leg = ax.legend(loc='upper right', fancybox=True, fontsize=8)\n",
    "    leg.get_frame().set_alpha(0.5)\n",
    "    ax.set_ylim([0, max(ylims)+2])\n",
    "    ax.set_xlabel(feature_dict[cnt])\n",
    "    ax.set_title('Iris histogram #%s' %str(cnt+1))\n",
    "\n",
    "    # hide axis ticks\n",
    "    ax.tick_params(axis=\"both\", which=\"both\", bottom=\"off\", top=\"off\",  \n",
    "            labelbottom=\"on\", left=\"off\", right=\"off\", labelleft=\"on\")\n",
    "\n",
    "    # remove axis spines\n",
    "    ax.spines[\"top\"].set_visible(False)  \n",
    "    ax.spines[\"right\"].set_visible(False)\n",
    "    ax.spines[\"bottom\"].set_visible(False)\n",
    "    ax.spines[\"left\"].set_visible(False)    \n",
    "\n",
    "axes[0][0].set_ylabel('count')\n",
    "axes[1][0].set_ylabel('count')\n",
    "\n",
    "fig.tight_layout()       \n",
    "\n",
    "plt.show()"
   ]
  },
  {
   "cell_type": "code",
   "execution_count": 30,
   "metadata": {},
   "outputs": [
    {
     "name": "stdout",
     "output_type": "stream",
     "text": [
      "Mean Vector class 1: [5.006 3.418 1.464 0.244]\n",
      "\n",
      "Mean Vector class 2: [5.936 2.77  4.26  1.326]\n",
      "\n",
      "Mean Vector class 3: [6.588 2.974 5.552 2.026]\n",
      "\n"
     ]
    }
   ],
   "source": [
    "np.set_printoptions(precision=4)\n",
    "mean_vectors = []\n",
    "for cl in range(1,4):\n",
    "    mean_vectors.append(np.mean(X[y==cl], axis=0))\n",
    "    print('Mean Vector class %s: %s\\n' %(cl, mean_vectors[cl-1]))"
   ]
  },
  {
   "cell_type": "code",
   "execution_count": 71,
   "metadata": {},
   "outputs": [
    {
     "name": "stdout",
     "output_type": "stream",
     "text": [
      "within-class Scatter Matrix:\n",
      "[[38.9562 13.683  24.614   5.6556]\n",
      " [13.683  17.035   8.12    4.9132]\n",
      " [24.614   8.12   27.22    6.2536]\n",
      " [ 5.6556  4.9132  6.2536  6.1756]]\n"
     ]
    }
   ],
   "source": [
    "S_W = np.zeros((4,4))\n",
    "for cl,mv in zip(range(1,4), mean_vectors):\n",
    "    class_sc_mat = np.zeros((4,4))                  # scatter matrix for every class\n",
    "    for row in X[y == cl]:\n",
    "        row, mv = row.reshape(4,1), mv.reshape(4,1) # make column vectors\n",
    "        class_sc_mat += (row-mv).dot((row-mv).T)\n",
    "    S_W += class_sc_mat                             # sum class scatter matrices\n",
    "print'within-class Scatter Matrix:\\n', S_W"
   ]
  },
  {
   "cell_type": "code",
   "execution_count": 34,
   "metadata": {},
   "outputs": [
    {
     "name": "stdout",
     "output_type": "stream",
     "text": [
      "between-class Scatter Matrix:\n",
      "[[ 63.2121 -19.534  165.1647  71.3631]\n",
      " [-19.534   10.9776 -56.0552 -22.4924]\n",
      " [165.1647 -56.0552 436.6437 186.9081]\n",
      " [ 71.3631 -22.4924 186.9081  80.6041]]\n"
     ]
    }
   ],
   "source": [
    "overall_mean = np.mean(X, axis=0)\n",
    "S_B = np.zeros((4,4))\n",
    "for i,mean_vec in enumerate(mean_vectors):  \n",
    "    n = X[y==i+1,:].shape[0]\n",
    "    mean_vec = mean_vec.reshape(4,1) # make column vector\n",
    "    overall_mean = overall_mean.reshape(4,1) # make column vector\n",
    "    S_B += n * (mean_vec - overall_mean).dot((mean_vec - overall_mean).T)\n",
    "\n",
    "print'between-class Scatter Matrix:\\n', S_B"
   ]
  },
  {
   "cell_type": "code",
   "execution_count": 35,
   "metadata": {},
   "outputs": [
    {
     "name": "stdout",
     "output_type": "stream",
     "text": [
      "\n",
      "Eigenvector 1: \n",
      "[[ 0.2049]\n",
      " [ 0.3871]\n",
      " [-0.5465]\n",
      " [-0.7138]]\n",
      "Eigenvalue 1: 3.23e+01\n",
      "\n",
      "Eigenvector 2: \n",
      "[[-0.009 ]\n",
      " [-0.589 ]\n",
      " [ 0.2543]\n",
      " [-0.767 ]]\n",
      "Eigenvalue 2: 2.78e-01\n",
      "\n",
      "Eigenvector 3: \n",
      "[[ 0.8812]\n",
      " [-0.2626]\n",
      " [-0.2308]\n",
      " [-0.3183]]\n",
      "Eigenvalue 3: 9.30e-17\n",
      "\n",
      "Eigenvector 4: \n",
      "[[-0.6401]\n",
      " [ 0.4451]\n",
      " [ 0.4743]\n",
      " [-0.4089]]\n",
      "Eigenvalue 4: 4.44e-15\n"
     ]
    }
   ],
   "source": [
    "eig_vals, eig_vecs = np.linalg.eig(np.linalg.inv(S_W).dot(S_B))\n",
    "\n",
    "for i in range(len(eig_vals)):\n",
    "    eigvec_sc = eig_vecs[:,i].reshape(4,1)   \n",
    "    print('\\nEigenvector {}: \\n{}'.format(i+1, eigvec_sc.real))\n",
    "    print('Eigenvalue {:}: {:.2e}'.format(i+1, eig_vals[i].real))"
   ]
  },
  {
   "cell_type": "code",
   "execution_count": 36,
   "metadata": {},
   "outputs": [
    {
     "name": "stdout",
     "output_type": "stream",
     "text": [
      "ok\n"
     ]
    }
   ],
   "source": [
    "for i in range(len(eig_vals)):\n",
    "    eigv = eig_vecs[:,i].reshape(4,1)\n",
    "    np.testing.assert_array_almost_equal(np.linalg.inv(S_W).dot(S_B).dot(eigv),\n",
    "                                         eig_vals[i] * eigv,\n",
    "                                         decimal=6, err_msg='', verbose=True)\n",
    "print('ok')"
   ]
  },
  {
   "cell_type": "code",
   "execution_count": 37,
   "metadata": {},
   "outputs": [
    {
     "name": "stdout",
     "output_type": "stream",
     "text": [
      "Eigenvalues in decreasing order:\n",
      "\n",
      "32.27195779972981\n",
      "0.27756686384005413\n",
      "4.444229902685201e-15\n",
      "9.304011929047682e-17\n"
     ]
    }
   ],
   "source": [
    "# Make a list of (eigenvalue, eigenvector) tuples\n",
    "eig_pairs = [(np.abs(eig_vals[i]), eig_vecs[:,i]) for i in range(len(eig_vals))]\n",
    "\n",
    "# Sort the (eigenvalue, eigenvector) tuples from high to low\n",
    "eig_pairs = sorted(eig_pairs, key=lambda k: k[0], reverse=True)\n",
    "\n",
    "# Visually confirm that the list is correctly sorted by decreasing eigenvalues\n",
    "\n",
    "print('Eigenvalues in decreasing order:\\n')\n",
    "for i in eig_pairs:\n",
    "    print(i[0])"
   ]
  },
  {
   "cell_type": "code",
   "execution_count": 38,
   "metadata": {},
   "outputs": [
    {
     "name": "stdout",
     "output_type": "stream",
     "text": [
      "Variance explained:\n",
      "\n",
      "eigenvalue 1: 99.15%\n",
      "eigenvalue 2: 0.85%\n",
      "eigenvalue 3: 0.00%\n",
      "eigenvalue 4: 0.00%\n"
     ]
    }
   ],
   "source": [
    "print('Variance explained:\\n')\n",
    "eigv_sum = sum(eig_vals)\n",
    "for i,j in enumerate(eig_pairs):\n",
    "    print('eigenvalue {0:}: {1:.2%}'.format(i+1, (j[0]/eigv_sum).real))"
   ]
  },
  {
   "cell_type": "code",
   "execution_count": 39,
   "metadata": {},
   "outputs": [
    {
     "name": "stdout",
     "output_type": "stream",
     "text": [
      "('Matrix W:\\n', array([[ 0.2049, -0.009 ],\n",
      "       [ 0.3871, -0.589 ],\n",
      "       [-0.5465,  0.2543],\n",
      "       [-0.7138, -0.767 ]]))\n"
     ]
    }
   ],
   "source": [
    "W = np.hstack((eig_pairs[0][1].reshape(4,1), eig_pairs[1][1].reshape(4,1)))\n",
    "print('Matrix W:\\n', W.real)"
   ]
  },
  {
   "cell_type": "code",
   "execution_count": 40,
   "metadata": {},
   "outputs": [],
   "source": [
    "X_lda = X.dot(W)\n",
    "assert X_lda.shape == (150,2), \"The matrix is not 150x2 dimensional.\""
   ]
  },
  {
   "cell_type": "code",
   "execution_count": 42,
   "metadata": {},
   "outputs": [
    {
     "data": {
      "image/png": "[encoded data removed]",
      "text/plain": [
       "<Figure size 432x288 with 1 Axes>"
      ]
     },
     "metadata": {
      "needs_background": "light"
     },
     "output_type": "display_data"
    }
   ],
   "source": [
    "from matplotlib import pyplot as plt\n",
    "\n",
    "def plot_step_lda():\n",
    "\n",
    "    ax = plt.subplot(111)\n",
    "    for label,marker,color in zip(\n",
    "        range(1,4),('^', 's', 'o'),('blue', 'red', 'green')):\n",
    "\n",
    "        plt.scatter(x=X_lda[:,0].real[y == label],\n",
    "                y=X_lda[:,1].real[y == label],\n",
    "                marker=marker,\n",
    "                color=color,\n",
    "                alpha=0.5,\n",
    "                label=label_dict[label]\n",
    "                )\n",
    "\n",
    "    plt.xlabel('LD1')\n",
    "    plt.ylabel('LD2')\n",
    "\n",
    "    leg = plt.legend(loc='upper right', fancybox=True)\n",
    "    leg.get_frame().set_alpha(0.5)\n",
    "    plt.title('LDA: Iris projection onto the first 2 linear discriminants')\n",
    "\n",
    "    # hide axis ticks\n",
    "    plt.tick_params(axis=\"both\", which=\"both\", bottom=\"off\", top=\"off\",  \n",
    "            labelbottom=\"on\", left=\"off\", right=\"off\", labelleft=\"on\")\n",
    "\n",
    "    # remove axis spines\n",
    "    ax.spines[\"top\"].set_visible(False)  \n",
    "    ax.spines[\"right\"].set_visible(False)\n",
    "    ax.spines[\"bottom\"].set_visible(False)\n",
    "    ax.spines[\"left\"].set_visible(False)    \n",
    "\n",
    "    plt.grid()\n",
    "    plt.tight_layout\n",
    "    plt.show()\n",
    "\n",
    "plot_step_lda()"
   ]
  },
  {
   "cell_type": "code",
   "execution_count": 48,
   "metadata": {},
   "outputs": [
    {
     "name": "stderr",
     "output_type": "stream",
     "text": [
      "/usr/local/lib/python2.7/dist-packages/ipykernel_launcher.py:1: FutureWarning: elementwise comparison failed; returning scalar instead, but in the future will perform elementwise comparison\n",
      "  \"\"\"Entry point for launching an IPython kernel.\n"
     ]
    },
    {
     "data": {
      "text/plain": [
       "array([], shape=(0, 150), dtype=float64)"
      ]
     },
     "execution_count": 48,
     "metadata": {},
     "output_type": "execute_result"
    }
   ],
   "source": [
    "x=X_lda[:,0].real[y == 'blue']\n",
    "x"
   ]
  },
  {
   "cell_type": "code",
   "execution_count": 60,
   "metadata": {},
   "outputs": [
    {
     "data": {
      "image/png": "[encoded data removed]",
      "text/plain": [
       "<Figure size 432x288 with 1 Axes>"
      ]
     },
     "metadata": {
      "needs_background": "light"
     },
     "output_type": "display_data"
    }
   ],
   "source": [
    "X_lda = discriminant_analysis.LinearDiscriminantAnalysis(n_components=2).fit_transform(X, y)\n",
    "plt.scatter(X_lda[:,0],X_lda[:,1])\n",
    "plt.show()"
   ]
  },
  {
   "cell_type": "code",
   "execution_count": 50,
   "metadata": {},
   "outputs": [],
   "source": [
    "from sklearn import manifold, datasets, decomposition, discriminant_analysis"
   ]
  },
  {
   "cell_type": "code",
   "execution_count": 53,
   "metadata": {},
   "outputs": [
    {
     "data": {
      "text/plain": [
       "array([[ 8.085 ,  0.3285],\n",
       "       [ 7.1472, -0.7555],\n",
       "       [ 7.5114, -0.2381],\n",
       "       [ 6.8377, -0.6429],\n",
       "       [ 8.1578,  0.5406],\n",
       "       [ 7.7236,  1.4823],\n",
       "       [ 7.2351,  0.3772],\n",
       "       [ 7.6297,  0.0167],\n",
       "       [ 6.5827, -0.9874],\n",
       "       [ 7.3688, -0.9136],\n",
       "       [ 8.4218,  0.6762],\n",
       "       [ 7.2474, -0.0829],\n",
       "       [ 7.3506, -1.0394],\n",
       "       [ 7.5965, -0.7767],\n",
       "       [ 9.8694,  1.6149],\n",
       "       [ 9.1803,  2.7556],\n",
       "       [ 8.5976,  1.8544],\n",
       "       [ 7.7996,  0.6091],\n",
       "       [ 8.1   ,  0.9961],\n",
       "       [ 8.0454,  1.1624],\n",
       "       [ 7.5205, -0.1562],\n",
       "       [ 7.6053,  1.2276],\n",
       "       [ 8.7041,  0.8996],\n",
       "       [ 6.2637,  0.4602],\n",
       "       [ 6.5919, -0.362 ],\n",
       "       [ 6.7921, -0.9382],\n",
       "       [ 6.8405,  0.4848],\n",
       "       [ 7.9484,  0.2387],\n",
       "       [ 8.0121,  0.1163],\n",
       "       [ 6.8559, -0.5172],\n",
       "       [ 6.783 , -0.7293],\n",
       "       [ 7.3867,  0.591 ],\n",
       "       [ 9.1625,  1.2509],\n",
       "       [ 9.4962,  1.8499],\n",
       "       [ 7.3688, -0.9136],\n",
       "       [ 7.9757, -0.1352],\n",
       "       [ 8.6312,  0.4346],\n",
       "       [ 7.3688, -0.9136],\n",
       "       [ 6.956 , -0.6789],\n",
       "       [ 7.7117,  0.02  ],\n",
       "       [ 7.9361,  0.6988],\n",
       "       [ 5.6691, -1.9033],\n",
       "       [ 7.2656, -0.2479],\n",
       "       [ 6.4245,  1.2615],\n",
       "       [ 6.8861,  1.0709],\n",
       "       [ 6.7799, -0.4782],\n",
       "       [ 8.1123,  0.7888],\n",
       "       [ 7.211 , -0.3344],\n",
       "       [ 8.3399,  0.6729],\n",
       "       [ 7.6935, -0.1058],\n",
       "       [-1.4577,  0.0419],\n",
       "       [-1.7977,  0.4888],\n",
       "       [-2.4168, -0.0823],\n",
       "       [-2.2649, -1.5761],\n",
       "       [-2.5534, -0.4628],\n",
       "       [-2.4195, -0.9573],\n",
       "       [-2.4472,  0.7955],\n",
       "       [-0.216 , -1.571 ],\n",
       "       [-1.7459, -0.8053],\n",
       "       [-1.9584, -0.3504],\n",
       "       [-1.1902, -2.6156],\n",
       "       [-1.8614,  0.3205],\n",
       "       [-1.1539, -2.6169],\n",
       "       [-2.6594, -0.6341],\n",
       "       [-0.3802,  0.0921],\n",
       "       [-1.2028,  0.0956],\n",
       "       [-2.7627,  0.0316],\n",
       "       [-0.7623, -1.6392],\n",
       "       [-3.5094, -1.6725],\n",
       "       [-1.0841, -1.61  ],\n",
       "       [-3.719 ,  1.0351],\n",
       "       [-0.9994, -0.479 ],\n",
       "       [-3.8371, -1.3949],\n",
       "       [-2.2434, -1.4108],\n",
       "       [-1.2543, -0.5328],\n",
       "       [-1.4395, -0.1231],\n",
       "       [-2.4592, -0.9196],\n",
       "       [-3.5247,  0.1638],\n",
       "       [-2.5897, -0.1708],\n",
       "       [ 0.312 , -1.2998],\n",
       "       [-1.1023, -1.7358],\n",
       "       [-0.5984, -1.9233],\n",
       "       [-0.8961, -0.8919],\n",
       "       [-4.4957, -0.8792],\n",
       "       [-2.9265,  0.025 ],\n",
       "       [-2.1012,  1.1872],\n",
       "       [-2.1437,  0.0971],\n",
       "       [-2.4834, -1.9219],\n",
       "       [-1.3179, -0.1575],\n",
       "       [-1.9553, -1.1451],\n",
       "       [-2.3891, -1.5824],\n",
       "       [-2.2861, -0.3256],\n",
       "       [-1.2693, -1.2004],\n",
       "       [-0.2889, -1.7832],\n",
       "       [-2.0008, -0.897 ],\n",
       "       [-1.1691, -0.5279],\n",
       "       [-1.6093, -0.4627],\n",
       "       [-1.4181, -0.5393],\n",
       "       [ 0.4727, -0.7892],\n",
       "       [-1.5456, -0.5852],\n",
       "       [-7.8561,  2.1116],\n",
       "       [-5.5157, -0.044 ],\n",
       "       [-6.305 ,  0.4621],\n",
       "       [-5.6036, -0.3424],\n",
       "       [-6.8634,  0.816 ],\n",
       "       [-7.4248, -0.1726],\n",
       "       [-4.6809, -0.5076],\n",
       "       [-6.3137, -0.9607],\n",
       "       [-6.332 , -1.3772],\n",
       "       [-6.8729,  2.6946],\n",
       "       [-4.4536,  1.3369],\n",
       "       [-5.4611, -0.2104],\n",
       "       [-5.6768,  0.8244],\n",
       "       [-5.9741, -0.1046],\n",
       "       [-6.7878,  1.5745],\n",
       "       [-5.8287,  1.9894],\n",
       "       [-5.0664, -0.0273],\n",
       "       [-6.6085,  1.742 ],\n",
       "       [-9.1883, -0.7491],\n",
       "       [-4.7657, -2.1442],\n",
       "       [-6.2931,  1.6337],\n",
       "       [-5.3731,  0.6315],\n",
       "       [-7.5856, -0.9739],\n",
       "       [-4.3837, -0.1221],\n",
       "       [-5.7314,  1.2814],\n",
       "       [-5.2758, -0.0385],\n",
       "       [-4.0923,  0.1831],\n",
       "       [-4.0832,  0.5177],\n",
       "       [-6.5326,  0.2872],\n",
       "       [-4.5776, -0.8446],\n",
       "       [-6.235 , -0.7062],\n",
       "       [-5.2184,  1.4664],\n",
       "       [-6.818 ,  0.5678],\n",
       "       [-3.8097, -0.9345],\n",
       "       [-5.0902, -2.1178],\n",
       "       [-6.8212,  0.857 ],\n",
       "       [-6.5419,  2.4186],\n",
       "       [-4.9936,  0.1849],\n",
       "       [-3.9466,  0.6074],\n",
       "       [-5.2216,  1.1361],\n",
       "       [-6.6786,  1.7853],\n",
       "       [-5.1369,  1.9764],\n",
       "       [-5.5157, -0.044 ],\n",
       "       [-6.812 ,  1.4444],\n",
       "       [-6.8729,  2.4038],\n",
       "       [-5.674 ,  1.6613],\n",
       "       [-5.1971, -0.3655],\n",
       "       [-4.9817,  0.813 ],\n",
       "       [-5.9015,  2.3208],\n",
       "       [-4.684 ,  0.3251]])"
      ]
     },
     "execution_count": 53,
     "metadata": {},
     "output_type": "execute_result"
    }
   ],
   "source": [
    "X_lda"
   ]
  }
 ],
 "metadata": {
  "kernelspec": {
   "display_name": "Python 2",
   "language": "python",
   "name": "python2"
  },
  "language_info": {
   "codemirror_mode": {
    "name": "ipython",
    "version": 2
   },
   "file_extension": ".py",
   "mimetype": "text/x-python",
   "name": "python",
   "nbconvert_exporter": "python",
   "pygments_lexer": "ipython2",
   "version": "2.7.6"
  }
 },
 "nbformat": 4,
 "nbformat_minor": 2
}
